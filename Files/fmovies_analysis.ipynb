{
 "cells": [
  {
   "cell_type": "markdown",
   "metadata": {},
   "source": [
    "# Introduction"
   ]
  },
  {
   "cell_type": "markdown",
   "metadata": {},
   "source": [
    "Project is the continuation of web crawling of website fmovies's [most-watched](https://fmovies.to/most-watched) section analysis for the website. \n",
    "In part one we crawled websites and extracted informations. In part two we tidyed the data for analysis. This is third part where we'll analyse the data."
   ]
  },
  {
   "cell_type": "code",
   "execution_count": 1,
   "metadata": {
    "ExecuteTime": {
     "end_time": "2020-07-15T04:11:55.635559Z",
     "start_time": "2020-07-15T04:11:54.688409Z"
    }
   },
   "outputs": [],
   "source": [
    "import numpy as np\n",
    "import pandas as pd"
   ]
  },
  {
   "cell_type": "code",
   "execution_count": 2,
   "metadata": {
    "ExecuteTime": {
     "end_time": "2020-07-15T04:11:57.714027Z",
     "start_time": "2020-07-15T04:11:55.640563Z"
    },
    "scrolled": true
   },
   "outputs": [
    {
     "name": "stderr",
     "output_type": "stream",
     "text": [
      "Can't load requested DLL: C:\\Program Files\\GDAL\\gdalplugins\\gdal_KEA.dll\n",
      "127: The specified procedure could not be found.\n",
      "\n",
      "Can't load requested DLL: C:\\Program Files\\GDAL\\gdalplugins\\gdal_KEA.dll\n",
      "127: The specified procedure could not be found.\n",
      "\n",
      "Can't load requested DLL: C:\\Program Files\\GDAL\\gdalplugins\\gdal_KEA.dll\n",
      "127: The specified procedure could not be found.\n",
      "\n",
      "Can't load requested DLL: C:\\Program Files\\GDAL\\gdalplugins\\gdal_KEA.dll\n",
      "127: The specified procedure could not be found.\n",
      "\n"
     ]
    },
    {
     "data": {
      "text/html": [
       "        <script type=\"text/javascript\">\n",
       "        window.PlotlyConfig = {MathJaxConfig: 'local'};\n",
       "        if (window.MathJax) {MathJax.Hub.Config({SVG: {font: \"STIX-Web\"}});}\n",
       "        if (typeof require !== 'undefined') {\n",
       "        require.undef(\"plotly\");\n",
       "        requirejs.config({\n",
       "            paths: {\n",
       "                'plotly': ['https://cdn.plot.ly/plotly-latest.min']\n",
       "            }\n",
       "        });\n",
       "        require(['plotly'], function(Plotly) {\n",
       "            window._Plotly = Plotly;\n",
       "        });\n",
       "        }\n",
       "        </script>\n",
       "        "
      ]
     },
     "metadata": {},
     "output_type": "display_data"
    },
    {
     "data": {
      "text/html": [
       "        <script type=\"text/javascript\">\n",
       "        window.PlotlyConfig = {MathJaxConfig: 'local'};\n",
       "        if (window.MathJax) {MathJax.Hub.Config({SVG: {font: \"STIX-Web\"}});}\n",
       "        if (typeof require !== 'undefined') {\n",
       "        require.undef(\"plotly\");\n",
       "        requirejs.config({\n",
       "            paths: {\n",
       "                'plotly': ['https://cdn.plot.ly/plotly-latest.min']\n",
       "            }\n",
       "        });\n",
       "        require(['plotly'], function(Plotly) {\n",
       "            window._Plotly = Plotly;\n",
       "        });\n",
       "        }\n",
       "        </script>\n",
       "        "
      ]
     },
     "metadata": {},
     "output_type": "display_data"
    }
   ],
   "source": [
    "from plotly.offline import iplot, init_notebook_mode\n",
    "import cufflinks as cf\n",
    "import plotly.graph_objs as go\n",
    "# import chart_studio.plotly as py\n",
    "\n",
    "init_notebook_mode(connected=True)\n",
    "cf.go_offline(connected=True)\n",
    "\n",
    "# Set global theme\n",
    "cf.set_config_file(world_readable=True, theme='pearl')"
   ]
  },
  {
   "cell_type": "code",
   "execution_count": 3,
   "metadata": {
    "ExecuteTime": {
     "end_time": "2020-07-15T04:11:58.485854Z",
     "start_time": "2020-07-15T04:11:57.718028Z"
    }
   },
   "outputs": [],
   "source": [
    "import seaborn as sns \n",
    "import matplotlib.pyplot as plt"
   ]
  },
  {
   "cell_type": "code",
   "execution_count": 4,
   "metadata": {
    "ExecuteTime": {
     "end_time": "2020-07-15T04:11:58.533311Z",
     "start_time": "2020-07-15T04:11:58.485854Z"
    }
   },
   "outputs": [],
   "source": [
    "movie_df = pd.read_csv('../Data/Movie.csv')\n",
    "tv_df = pd.read_csv('../Data/TV.csv')"
   ]
  },
  {
   "cell_type": "markdown",
   "metadata": {},
   "source": [
    "# Columns "
   ]
  },
  {
   "cell_type": "markdown",
   "metadata": {},
   "source": [
    "- 'movie_name/ tv_name' : Name of movie / tv \n",
    "- 'watch_link': Url link for page to watch movie/tv, \n",
    "- 'date_added': Date added to df not in fmovies\n",
    "- 'site_rank':Ranking, by the order of movies most watched to least watched starting from 1,2,3... so on.\n",
    "- 'Genre': Genres\n",
    "- 'Stars': Cast,\n",
    "- 'IMDb': IMDb ratings,\n",
    "- 'Director': Director, \n",
    "- 'Release': Released Date for Movie/TV,\n",
    "- 'Country': Origin country can be more than one\n",
    "- 'User_Reviews_local'- Average ratings on fmovies.to website\n",
    "- 'Number_Reviews_local'- Number of reviews by viewers on the fmovies.to website\n",
    "- 'season' - Which season, only for tv shows\n",
    "- 'episodes' - Number of episoded available for tv shows \n"
   ]
  },
  {
   "cell_type": "markdown",
   "metadata": {},
   "source": [
    "## Reset Index and Rename Columns for Casing"
   ]
  },
  {
   "cell_type": "code",
   "execution_count": 5,
   "metadata": {
    "ExecuteTime": {
     "end_time": "2020-07-15T04:11:58.564313Z",
     "start_time": "2020-07-15T04:11:58.536311Z"
    }
   },
   "outputs": [],
   "source": [
    "date_mv = pd.to_datetime(movie_df['Date'],format=\"%Y-%m-%d\")\n",
    "date_tv= pd.to_datetime(tv_df['Date'],format=\"%Y-%m-%d\")"
   ]
  },
  {
   "cell_type": "code",
   "execution_count": 6,
   "metadata": {
    "ExecuteTime": {
     "end_time": "2020-07-15T04:11:58.580311Z",
     "start_time": "2020-07-15T04:11:58.567310Z"
    }
   },
   "outputs": [],
   "source": [
    "movie_df['Date'] = date_mv\n",
    "tv_df['Date'] = date_tv\n"
   ]
  },
  {
   "cell_type": "code",
   "execution_count": 7,
   "metadata": {
    "ExecuteTime": {
     "end_time": "2020-07-15T04:11:58.595310Z",
     "start_time": "2020-07-15T04:11:58.583310Z"
    }
   },
   "outputs": [],
   "source": [
    "movie_df.set_index(\"Date\", drop=True,inplace=True)\n",
    "tv_df.set_index(\"Date\", drop=True,inplace=True)"
   ]
  },
  {
   "cell_type": "code",
   "execution_count": 8,
   "metadata": {
    "ExecuteTime": {
     "end_time": "2020-07-15T04:11:58.611309Z",
     "start_time": "2020-07-15T04:11:58.603311Z"
    }
   },
   "outputs": [],
   "source": [
    "movie_df.columns = movie_df.columns.str.upper().tolist()\n",
    "tv_df.columns = tv_df.columns.str.upper().tolist()"
   ]
  },
  {
   "cell_type": "code",
   "execution_count": 9,
   "metadata": {
    "ExecuteTime": {
     "end_time": "2020-07-15T04:11:58.658562Z",
     "start_time": "2020-07-15T04:11:58.617310Z"
    }
   },
   "outputs": [
    {
     "data": {
      "text/html": [
       "<div>\n",
       "<style scoped>\n",
       "    .dataframe tbody tr th:only-of-type {\n",
       "        vertical-align: middle;\n",
       "    }\n",
       "\n",
       "    .dataframe tbody tr th {\n",
       "        vertical-align: top;\n",
       "    }\n",
       "\n",
       "    .dataframe thead th {\n",
       "        text-align: right;\n",
       "    }\n",
       "</style>\n",
       "<table border=\"1\" class=\"dataframe\">\n",
       "  <thead>\n",
       "    <tr style=\"text-align: right;\">\n",
       "      <th></th>\n",
       "      <th>MOVIE_NAME</th>\n",
       "      <th>WATCH_LINK</th>\n",
       "      <th>DATE_ADDED</th>\n",
       "      <th>SITE_RANK</th>\n",
       "      <th>STARS</th>\n",
       "      <th>IMDB</th>\n",
       "      <th>DIRECTOR</th>\n",
       "      <th>COUNTRY</th>\n",
       "      <th>GENRE</th>\n",
       "      <th>USER_REVIEWS_LOCAL</th>\n",
       "      <th>NUMBER_REVIEWS_LOCAL</th>\n",
       "    </tr>\n",
       "    <tr>\n",
       "      <th>Date</th>\n",
       "      <th></th>\n",
       "      <th></th>\n",
       "      <th></th>\n",
       "      <th></th>\n",
       "      <th></th>\n",
       "      <th></th>\n",
       "      <th></th>\n",
       "      <th></th>\n",
       "      <th></th>\n",
       "      <th></th>\n",
       "      <th></th>\n",
       "    </tr>\n",
       "  </thead>\n",
       "  <tbody>\n",
       "    <tr>\n",
       "      <th>2019-04-22</th>\n",
       "      <td>Avengers: Endgame</td>\n",
       "      <td>https://fmovies.to/film/avengers-endgame.xjm5v</td>\n",
       "      <td>2020-07-14</td>\n",
       "      <td>1</td>\n",
       "      <td>Don Cheadle,Anthony Mackie,Rene Russo,Mark Ruf...</td>\n",
       "      <td>8.4</td>\n",
       "      <td>Anthony Russo,Joe Russo</td>\n",
       "      <td>United States</td>\n",
       "      <td>Sci-Fi</td>\n",
       "      <td>7.1</td>\n",
       "      <td>12,640</td>\n",
       "    </tr>\n",
       "    <tr>\n",
       "      <th>2019-04-22</th>\n",
       "      <td>Avengers: Endgame</td>\n",
       "      <td>https://fmovies.to/film/avengers-endgame.xjm5v</td>\n",
       "      <td>2020-07-14</td>\n",
       "      <td>1</td>\n",
       "      <td>Don Cheadle,Anthony Mackie,Rene Russo,Mark Ruf...</td>\n",
       "      <td>8.4</td>\n",
       "      <td>Anthony Russo,Joe Russo</td>\n",
       "      <td>United States</td>\n",
       "      <td>Adventure</td>\n",
       "      <td>7.1</td>\n",
       "      <td>12,640</td>\n",
       "    </tr>\n",
       "    <tr>\n",
       "      <th>2019-04-22</th>\n",
       "      <td>Avengers: Endgame</td>\n",
       "      <td>https://fmovies.to/film/avengers-endgame.xjm5v</td>\n",
       "      <td>2020-07-14</td>\n",
       "      <td>1</td>\n",
       "      <td>Don Cheadle,Anthony Mackie,Rene Russo,Mark Ruf...</td>\n",
       "      <td>8.4</td>\n",
       "      <td>Anthony Russo,Joe Russo</td>\n",
       "      <td>United States</td>\n",
       "      <td>Action</td>\n",
       "      <td>7.1</td>\n",
       "      <td>12,640</td>\n",
       "    </tr>\n",
       "    <tr>\n",
       "      <th>2019-04-22</th>\n",
       "      <td>Avengers: Endgame</td>\n",
       "      <td>https://fmovies.to/film/avengers-endgame.xjm5v</td>\n",
       "      <td>2020-07-14</td>\n",
       "      <td>1</td>\n",
       "      <td>Don Cheadle,Anthony Mackie,Rene Russo,Mark Ruf...</td>\n",
       "      <td>8.4</td>\n",
       "      <td>Anthony Russo,Joe Russo</td>\n",
       "      <td>United States</td>\n",
       "      <td>Fantasy</td>\n",
       "      <td>7.1</td>\n",
       "      <td>12,640</td>\n",
       "    </tr>\n",
       "    <tr>\n",
       "      <th>2018-04-23</th>\n",
       "      <td>Avengers: Infinity War</td>\n",
       "      <td>https://fmovies.to/film/avengers-infinity-war....</td>\n",
       "      <td>2020-07-14</td>\n",
       "      <td>3</td>\n",
       "      <td>William Hurt,Don Cheadle,Anthony Mackie,Benici...</td>\n",
       "      <td>8.5</td>\n",
       "      <td>Anthony Russo,Joe Russo</td>\n",
       "      <td>United States</td>\n",
       "      <td>Sci-Fi</td>\n",
       "      <td>6.2</td>\n",
       "      <td>21,830</td>\n",
       "    </tr>\n",
       "  </tbody>\n",
       "</table>\n",
       "</div>"
      ],
      "text/plain": [
       "                        MOVIE_NAME  \\\n",
       "Date                                 \n",
       "2019-04-22       Avengers: Endgame   \n",
       "2019-04-22       Avengers: Endgame   \n",
       "2019-04-22       Avengers: Endgame   \n",
       "2019-04-22       Avengers: Endgame   \n",
       "2018-04-23  Avengers: Infinity War   \n",
       "\n",
       "                                                   WATCH_LINK  DATE_ADDED  \\\n",
       "Date                                                                        \n",
       "2019-04-22     https://fmovies.to/film/avengers-endgame.xjm5v  2020-07-14   \n",
       "2019-04-22     https://fmovies.to/film/avengers-endgame.xjm5v  2020-07-14   \n",
       "2019-04-22     https://fmovies.to/film/avengers-endgame.xjm5v  2020-07-14   \n",
       "2019-04-22     https://fmovies.to/film/avengers-endgame.xjm5v  2020-07-14   \n",
       "2018-04-23  https://fmovies.to/film/avengers-infinity-war....  2020-07-14   \n",
       "\n",
       "            SITE_RANK                                              STARS  \\\n",
       "Date                                                                       \n",
       "2019-04-22          1  Don Cheadle,Anthony Mackie,Rene Russo,Mark Ruf...   \n",
       "2019-04-22          1  Don Cheadle,Anthony Mackie,Rene Russo,Mark Ruf...   \n",
       "2019-04-22          1  Don Cheadle,Anthony Mackie,Rene Russo,Mark Ruf...   \n",
       "2019-04-22          1  Don Cheadle,Anthony Mackie,Rene Russo,Mark Ruf...   \n",
       "2018-04-23          3  William Hurt,Don Cheadle,Anthony Mackie,Benici...   \n",
       "\n",
       "            IMDB                 DIRECTOR        COUNTRY      GENRE  \\\n",
       "Date                                                                  \n",
       "2019-04-22   8.4  Anthony Russo,Joe Russo  United States     Sci-Fi   \n",
       "2019-04-22   8.4  Anthony Russo,Joe Russo  United States  Adventure   \n",
       "2019-04-22   8.4  Anthony Russo,Joe Russo  United States     Action   \n",
       "2019-04-22   8.4  Anthony Russo,Joe Russo  United States    Fantasy   \n",
       "2018-04-23   8.5  Anthony Russo,Joe Russo  United States     Sci-Fi   \n",
       "\n",
       "            USER_REVIEWS_LOCAL NUMBER_REVIEWS_LOCAL  \n",
       "Date                                                 \n",
       "2019-04-22                 7.1               12,640  \n",
       "2019-04-22                 7.1               12,640  \n",
       "2019-04-22                 7.1               12,640  \n",
       "2019-04-22                 7.1               12,640  \n",
       "2018-04-23                 6.2               21,830  "
      ]
     },
     "execution_count": 9,
     "metadata": {},
     "output_type": "execute_result"
    }
   ],
   "source": [
    "movie_df.head()"
   ]
  },
  {
   "cell_type": "code",
   "execution_count": 10,
   "metadata": {
    "ExecuteTime": {
     "end_time": "2020-07-15T04:11:58.689562Z",
     "start_time": "2020-07-15T04:11:58.661567Z"
    }
   },
   "outputs": [
    {
     "name": "stdout",
     "output_type": "stream",
     "text": [
      "<class 'pandas.core.frame.DataFrame'>\n",
      "DatetimeIndex: 764 entries, 2011-04-17 to 2019-03-28\n",
      "Data columns (total 13 columns):\n",
      " #   Column                Non-Null Count  Dtype  \n",
      "---  ------                --------------  -----  \n",
      " 0   TV_NAME               764 non-null    object \n",
      " 1   WATCH_LINK            764 non-null    object \n",
      " 2   SEASON                764 non-null    int64  \n",
      " 3   EPISODES              764 non-null    int64  \n",
      " 4   DATE_ADDED            764 non-null    object \n",
      " 5   SITE_RANK             764 non-null    int64  \n",
      " 6   STARS                 764 non-null    object \n",
      " 7   IMDB                  764 non-null    float64\n",
      " 8   DIRECTOR              764 non-null    object \n",
      " 9   COUNTRY               764 non-null    object \n",
      " 10  GENRE                 764 non-null    object \n",
      " 11  USER_REVIEWS_LOCAL    764 non-null    float64\n",
      " 12  NUMBER_REVIEWS_LOCAL  764 non-null    object \n",
      "dtypes: float64(2), int64(3), object(8)\n",
      "memory usage: 83.6+ KB\n"
     ]
    }
   ],
   "source": [
    "tv_df.info()"
   ]
  },
  {
   "cell_type": "markdown",
   "metadata": {
    "ExecuteTime": {
     "end_time": "2020-07-14T09:31:29.987602Z",
     "start_time": "2020-07-14T09:31:29.958105Z"
    }
   },
   "source": [
    "# Analysis"
   ]
  },
  {
   "cell_type": "markdown",
   "metadata": {},
   "source": [
    "## IMDB Vs Site Ratings"
   ]
  },
  {
   "cell_type": "markdown",
   "metadata": {},
   "source": [
    "### Movies\n"
   ]
  },
  {
   "cell_type": "markdown",
   "metadata": {},
   "source": [
    "#### Movies Distribution for IMDB and User Ratings"
   ]
  },
  {
   "cell_type": "code",
   "execution_count": 11,
   "metadata": {
    "ExecuteTime": {
     "end_time": "2020-07-15T04:11:58.705562Z",
     "start_time": "2020-07-15T04:11:58.692567Z"
    }
   },
   "outputs": [],
   "source": [
    "site_ratings_mv_median = movie_df['USER_REVIEWS_LOCAL'].median()\n",
    "imdb_ratings_mv_median = movie_df['IMDB'].median()"
   ]
  },
  {
   "cell_type": "code",
   "execution_count": 12,
   "metadata": {
    "ExecuteTime": {
     "end_time": "2020-07-15T04:11:58.880562Z",
     "start_time": "2020-07-15T04:11:58.709565Z"
    },
    "scrolled": false
   },
   "outputs": [
    {
     "data": {
      "application/vnd.plotly.v1+json": {
       "config": {
        "plotlyServerURL": "https://plot.ly"
       },
       "data": [
        {
         "name": "Local Ratings|Movie",
         "type": "histogram",
         "x": [
          7.1,
          7.1,
          7.1,
          7.1,
          6.2,
          6.2,
          6.2,
          6.2,
          6.7,
          6.7,
          6.7,
          6.7,
          6.1,
          6.1,
          6.1,
          6.7,
          6.7,
          6.7,
          6.7,
          6.7,
          6.3,
          6.3,
          6.3,
          6.5,
          6.5,
          6.5,
          6.5,
          6.2,
          6.2,
          6.9,
          6.9,
          6.9,
          6.9,
          6.4,
          6.4,
          6.4,
          5.7,
          5.7,
          5.7,
          5.7,
          6.8,
          6.8,
          6.8,
          6.7,
          6.7,
          6.7,
          6.7,
          6.3,
          6.3,
          6.3,
          6.3,
          6.6,
          6.6,
          6.6,
          6.6,
          6.6,
          6,
          6,
          6,
          5.9,
          5.9,
          5.9,
          5.9,
          5.9,
          5.9,
          7.1,
          7.1,
          7.1,
          7.1,
          7.1,
          7.1,
          6.1,
          6.1,
          6.1,
          6.1,
          6.6,
          6.6,
          6.6,
          6.6,
          6.1,
          6.1,
          6.1,
          6.1,
          6.8,
          6.8,
          6.8,
          6.8,
          6.8,
          6.1,
          6.1,
          6.1,
          6.3,
          6.3,
          6.3,
          6.3,
          6,
          6,
          6,
          6.7,
          6.7,
          6.7,
          6.2,
          6.2,
          6.2,
          6.2,
          6,
          6,
          6.2,
          6.8,
          6.8,
          6.8,
          6.8,
          6.8,
          5.6,
          5.6,
          5.6,
          5.5,
          5.5,
          5.5,
          6.1,
          6.1,
          6.1,
          6.1,
          6.1,
          6.5,
          6.5,
          6.5,
          7.2,
          7.2,
          7.2,
          7.2,
          7.2,
          7.2,
          6.9,
          6.9,
          6.5,
          6.5,
          6.5,
          6.6,
          6.6,
          6.6,
          6.6,
          6.6,
          6.6,
          6.5,
          6.5,
          6.5,
          6.5,
          6.2,
          6.4,
          6.4,
          6.4,
          6.4,
          6.4,
          7.2,
          7.2,
          6.2,
          6.2,
          6.2,
          6.2,
          6.6,
          6.6,
          6.6,
          6,
          6,
          6,
          6,
          6.4,
          6.4,
          6.4,
          6.6,
          6.6,
          6.6,
          6.6,
          6.6,
          6.6,
          6.2,
          6.2,
          6.2,
          6.4,
          6.4,
          6.4,
          6.8,
          6.8,
          6.8,
          6.8,
          6.8,
          6.6,
          6.6,
          6.6,
          6.1,
          6.5,
          6.5,
          6.5,
          6.5,
          6.4,
          6.4,
          6.4,
          6.6,
          6.6,
          6.6,
          6.6,
          6.6,
          6.5,
          6.5,
          6.5,
          6.5,
          6.5,
          6.2,
          6.2,
          6.2,
          5.9,
          5.9,
          5.9,
          5.9,
          6.7,
          6.7,
          6.7,
          6.2,
          6.2,
          6.2,
          6.2,
          6.5,
          6.5,
          6.5,
          6.6,
          6.6,
          6.8,
          6.8,
          6.8,
          6.8,
          6.8,
          6.8,
          6,
          6,
          5.7,
          5.7,
          5.7,
          5.7,
          6.3,
          6.3,
          6.2,
          6.2,
          6.2,
          6.3,
          7,
          7,
          7,
          5.8,
          5.8,
          5.8,
          6.3,
          6.3,
          6.3,
          6.3,
          6.6,
          6.6,
          6.6,
          6.6,
          5.9,
          5.9,
          6.8,
          6.8,
          6.7,
          6.7,
          6.7,
          6.1,
          6.1,
          6.9,
          6.9,
          6.1,
          6.1,
          6.1,
          6.6,
          6.6,
          6.6,
          6.6,
          6.3,
          6.3,
          6.3,
          6.3,
          6.3,
          6.3,
          6.3,
          6.2,
          6.2,
          6.2,
          6.8,
          6.8,
          6.8,
          6.8,
          6.8,
          6.7,
          6.7,
          6.7,
          6.7,
          6.7,
          6.7,
          5.7,
          6.8,
          6.8,
          6.8,
          6.3,
          6.3,
          5.9,
          5.7,
          5.7,
          5.7,
          5.7,
          6.7,
          6.7,
          6.7,
          6.7,
          6.5,
          6.5,
          6.5,
          6.5,
          6.3,
          6.3,
          6.3,
          6.2,
          6.2,
          6.2,
          6.2,
          5.6,
          5.6,
          5.6,
          5.6,
          6.4,
          6.4,
          6.4,
          6.4,
          6.4,
          6.3,
          6.3,
          6.1,
          6.1,
          6.1,
          6.2,
          6.2,
          6.2,
          7.1,
          7.1,
          7.1,
          7.1,
          7.1,
          6.3,
          6.3,
          6.3,
          6.3,
          6.8,
          6.8,
          6.3,
          6.3,
          6.3,
          7.1,
          7.1,
          7.1,
          6,
          6,
          6,
          6,
          6.7,
          6.7,
          5.4,
          5.4,
          5.4,
          6.6,
          6.6,
          6,
          6,
          6,
          5.6,
          5.6,
          5.9,
          5.9,
          5.9,
          6.5,
          6.5,
          6.5,
          6.1,
          6.1,
          6.1,
          6.1,
          6.2,
          6.2,
          6.2,
          6.1,
          6.1,
          6.1,
          6.5,
          6.5,
          6.5,
          6.5,
          6.4,
          6.4,
          6.4,
          6.4,
          6.4,
          6.1,
          6.1,
          7,
          7,
          7,
          7,
          6.7,
          6.7,
          6.8,
          6.8,
          6.8,
          6.8,
          7.1,
          7.1,
          7.1,
          5.9,
          5.9,
          6.3,
          6.3,
          6.3,
          6.3,
          6.9,
          6.9,
          6.9,
          6.6,
          6.6,
          6.6,
          6.3,
          6.3,
          7.2,
          7.2,
          7.2,
          7.2,
          6.2,
          6.2,
          6.2,
          6.8,
          6.8,
          6.8,
          6.2,
          6.2,
          6,
          6,
          6,
          6,
          5.7,
          5.6,
          5.6,
          5.6,
          5.6,
          7.4,
          7.4,
          6.7,
          6.7,
          6.7,
          6.7,
          6,
          6,
          6,
          5.9,
          5.9,
          5.9,
          5.9,
          6.8,
          6.8,
          7.1,
          7.1,
          6.1,
          6.1,
          5.7,
          6.5,
          6.5,
          6.7,
          6.7,
          6.7,
          6.3,
          6.3,
          6.3,
          6.4,
          6.4,
          6.4,
          6.6,
          6.6,
          6.6,
          6.6,
          6.7,
          6.7,
          6.7,
          6.7,
          6.2,
          6.2,
          6.2,
          6,
          6,
          6.7,
          6.7,
          6.7,
          6.7,
          6.7,
          6.7,
          6.7,
          5.9,
          5.9,
          5.9,
          6.9,
          6.9,
          6.9,
          6.9,
          6.9,
          6.6,
          6.6,
          6.1,
          6.1,
          6.1,
          6.9,
          6.9,
          6.9,
          6.5,
          6.5,
          6.5,
          6.8,
          6.8,
          6.8,
          6.8,
          6.8,
          6.9,
          6.9,
          6.9,
          6.6,
          6.6,
          6.6,
          5.1,
          5.1,
          6.5,
          6.5,
          6.5,
          6.4,
          6.4,
          6.4,
          6.8,
          6.8,
          6.8,
          6.8,
          6.8,
          6.3,
          6.3,
          6.3,
          6.9,
          6.9,
          6.9,
          5.8,
          5.8,
          5.8,
          5.8,
          5.8,
          6.8,
          6.8,
          6.8,
          6.2,
          6.2,
          6.2,
          6.2,
          6.1,
          6.1,
          6.1,
          7.3,
          7.3,
          5.8,
          5.8,
          6.7,
          6.7,
          6.7,
          6.2,
          6.2,
          6.2,
          6.3,
          6.3,
          6.3,
          6.3,
          7.1,
          7.1,
          7.1,
          7.1,
          6.5,
          6.5,
          7,
          7,
          7,
          7,
          7,
          7,
          6.5,
          6.5,
          6.5,
          6.5,
          5.6,
          5.6,
          5.6,
          5.6,
          6.1,
          6.1,
          6.1,
          6.1,
          6.9,
          6.9,
          6.9,
          6.9,
          6.3,
          6.3,
          7.1,
          7.1,
          5.8,
          5.8,
          5.8,
          5.8,
          6.4,
          6.4,
          6.4,
          7.2,
          7.2,
          7.2,
          6.9,
          6.9,
          6.9,
          5.9,
          5.9,
          5.9,
          5.9,
          5.9,
          6.2,
          6.2,
          6.2,
          6.2,
          6.2,
          6.7,
          6.7,
          6.7,
          6.7,
          6.7,
          6.7,
          6.7,
          6.7,
          6.7,
          6.7,
          6.6,
          6.6,
          6.6,
          6.6,
          6.6,
          6.8,
          6.8,
          6.8,
          6.8,
          6.8,
          6.5,
          6.5,
          6.5,
          6.4,
          6.4,
          6.4,
          5.9,
          5.9,
          5.9,
          5.9,
          5.5,
          5.5,
          5.5,
          5.5,
          5.1,
          5.1,
          7.1,
          6,
          6,
          6,
          6.7,
          6.7,
          6.7,
          6.7,
          6.1,
          6.1,
          6.9,
          6.9,
          6.9,
          6.9,
          6.1,
          6.1,
          6.1,
          7.2,
          7.2,
          7.2,
          7.2,
          6.7,
          6.7,
          6.7,
          6.7,
          5.4,
          5.4,
          5.4,
          5.4,
          5.4,
          6.1,
          6.1,
          6.1,
          6.1,
          7,
          7,
          7,
          6.1,
          6.1,
          6.1,
          6.1,
          7.4,
          7.4,
          7.4,
          7.4,
          5,
          5,
          6.4,
          6.4,
          6.4,
          6.2,
          6.2,
          7.1,
          7.1,
          7.1,
          7.1,
          7.1,
          7.2,
          7.2,
          7.2,
          7.2,
          6.1,
          6.1,
          6.1,
          7.1,
          7.1,
          6.8,
          6.8,
          6.8,
          6.8,
          7.7,
          7.7,
          7.7,
          7.7,
          7.7,
          7.7,
          6.2,
          6.2,
          6,
          6,
          6,
          6.1,
          6.7,
          6.7,
          6.7,
          6.7,
          5.9,
          5.9,
          6.6,
          6.6,
          6.6,
          6.6,
          6.3,
          6.3,
          6.3,
          6.4,
          7,
          7,
          7,
          7,
          7,
          6.6,
          6.6,
          6.6,
          6.1,
          6.1,
          6.1,
          6.1,
          7.2,
          7.2,
          7.2,
          7.1,
          7.1,
          7.1,
          6.4,
          6.4,
          6.4,
          6.4,
          6.4,
          6.7,
          6.8,
          6.8,
          6.8,
          6.4,
          6.4,
          6.4,
          7.2,
          7.2,
          7.2,
          6.9,
          6.9,
          7.4,
          7.4,
          7.4,
          6.5,
          6.5,
          6.5,
          6.5,
          7.3,
          7.3,
          7.3,
          7.3,
          6.2,
          6.2,
          7.4,
          7.4,
          6.2,
          6.2,
          6.2,
          6.3,
          6.3,
          6.3,
          6.3,
          6.3,
          6.2,
          6.2,
          6.2,
          4.7,
          7.1,
          7.1,
          7.1,
          7,
          7,
          7,
          7,
          7,
          6,
          6,
          5.7,
          5.7,
          5.7,
          5.7,
          7.5,
          7.5,
          7.5,
          7.5,
          6.3,
          6.3,
          6.3,
          6.5,
          6.5,
          6.2,
          6.2,
          6.2,
          6.2,
          6.2,
          6.2,
          6.2,
          7.1,
          7.1,
          6.2,
          6.2,
          6.2,
          5.4,
          5.4,
          6.8,
          6.8,
          6.8,
          7.7,
          7.7,
          7.7,
          7.3,
          7.3,
          7.3,
          7.2,
          7.2,
          7.2,
          5.2,
          5.2,
          7,
          7,
          7,
          7,
          7.1,
          7.1,
          6.7,
          6.7,
          6.2,
          6.2,
          6.4,
          6.7,
          6.7,
          6.7,
          6.7,
          6.7,
          6.8,
          6.8,
          6.8,
          6.8,
          6.6,
          6.6,
          7.2,
          7.2,
          7.2,
          7.3,
          7.3,
          5.5,
          5.5,
          5.5,
          6.6,
          6.6,
          6.6,
          6.6,
          6.6,
          6.9,
          6.9,
          6.9,
          6.9,
          6.8,
          6.8,
          7,
          7.1,
          7.1,
          7.1,
          7.1,
          7.1,
          7,
          7,
          7,
          7,
          5.7,
          5.7,
          6.5,
          6.5,
          6.5,
          6.5,
          6.5,
          6.5,
          6.5,
          6.5,
          6.5,
          6.1,
          6.1,
          6.1,
          7.1,
          7.1,
          7.1,
          7.1,
          7.1,
          6.8,
          6.8,
          6.9,
          6.9,
          6.9,
          6.9,
          6.8,
          6.8,
          6.8,
          6.8,
          7.1,
          7.1,
          7.1,
          7.1,
          7.1,
          6.8,
          6.8,
          6.8,
          6.8,
          6.8,
          6.8,
          5.8,
          5.8,
          5.8,
          5.8,
          6.5,
          6.8,
          6.8,
          6.8,
          6,
          6,
          6,
          6,
          6,
          6,
          6,
          6.3,
          6.3,
          6.3,
          6.3,
          6.2,
          6.1,
          6.1,
          6.1,
          7,
          7,
          7,
          6.9,
          6.9,
          6.9,
          6.3,
          6.2,
          6.2,
          6.2,
          6.2,
          6.2,
          6.6,
          6.6,
          6.6,
          6.6,
          6.5,
          6.5,
          7,
          7,
          7,
          7,
          6.8,
          6.8,
          6.8,
          6.8,
          6.8,
          6.1,
          6.1,
          6.1,
          6.5,
          6.5,
          6.5,
          6.5,
          6.5,
          6.5,
          6.5,
          6.5,
          6.1,
          6.1,
          6.1,
          6.8,
          6.8,
          6.8,
          7,
          7,
          7,
          6.8,
          6.9,
          6.8,
          6.8,
          6.5,
          6.5,
          6.5,
          6.5,
          7.4,
          7.4,
          7.4,
          7.4,
          7.4,
          7.4,
          7.4,
          6.5,
          6.5,
          6.5,
          6.5,
          6.5,
          6.7,
          6.7,
          6.7,
          7.6,
          7.6,
          7.6,
          7.6,
          5.9,
          5.9,
          5.9,
          6.6,
          6.6,
          6.6,
          6.6,
          6.2,
          6.2,
          6.2,
          6.2,
          6.9,
          6.9,
          6.9,
          7.4,
          7.4,
          7.4,
          7.6,
          7.6,
          6.7,
          6.7,
          6.7,
          6.7,
          6.7,
          6.7,
          6.7,
          6.7,
          6.5,
          6.8,
          6.8,
          6.8,
          6.8,
          6.9,
          6.9,
          6.2,
          6.2,
          6.2,
          6.2,
          6.2,
          6.2,
          6.9,
          6.9,
          6.9,
          6.9,
          6.9,
          6.9,
          6.9,
          6,
          6,
          6,
          6,
          6.9,
          6.9,
          6.9,
          6.2,
          6.2,
          6.2,
          6.6,
          6.6,
          6.6,
          6.6,
          6.6,
          6.9,
          6.9,
          6.9,
          6.9,
          6.9,
          6.4,
          6.4,
          6.2,
          6.6,
          6.6,
          6.7,
          6.7,
          6.9,
          6.9,
          6.9,
          6.7,
          6.7,
          6.7,
          7,
          7,
          7,
          7,
          7,
          6.5,
          6.5,
          7.1,
          7.1,
          7.1,
          7.1,
          6.7,
          6.7,
          6.7,
          5.2,
          6.9,
          6.9,
          6.9,
          6.9,
          6.9,
          5.8,
          5.8,
          5.8,
          6.5,
          6.5,
          6.5,
          7.6,
          7.6,
          7.6,
          6.4,
          5.7,
          5.7,
          5.7,
          6.4,
          6.4,
          6.4,
          6.4,
          6.4,
          7.9,
          7.9,
          7.9,
          6.5,
          6.5,
          6.5,
          6.5,
          6.5,
          6.6,
          6.6,
          6.9,
          6.9,
          6.9,
          7.4,
          6.4,
          6.6,
          6.6,
          6.6,
          7.2,
          7.2,
          6.8,
          6.9,
          6.9,
          6.9,
          7,
          7,
          6.8,
          6.8,
          6.8,
          6.8,
          6.8,
          6.6,
          6.6,
          6.6,
          6.6,
          6.8,
          6.8,
          6.8,
          6.8,
          6.8,
          5.2,
          5.2,
          5.2,
          5.2,
          7.5,
          7.5,
          7.5,
          7.5,
          7.5,
          7.5,
          7.3,
          7.3,
          7.3,
          7.3,
          6.1,
          6.1,
          5.1,
          5.1,
          5.1,
          7.3,
          7.3,
          7.3,
          7.3,
          7.3,
          6.1,
          6.1,
          6.1,
          6.1,
          6.1,
          7.9,
          6.4,
          6.4,
          6.4,
          6.4,
          6.4,
          6.4,
          5.4,
          7.3,
          7.3,
          7.3,
          7.3,
          7.3,
          7.3,
          7.3,
          7.3,
          7.3,
          7.3,
          6.2,
          6.2,
          6.2,
          6.7,
          6.7,
          6.7,
          6.9,
          6.9,
          6.9,
          6.4,
          6.4,
          6.4,
          6.4,
          7.1,
          7.1,
          6.1,
          6.3,
          6.3,
          6.3,
          6.3,
          6.3,
          6.7,
          6.7,
          6.7,
          6.7,
          6.7,
          6.7,
          6.7,
          6.7,
          6.7,
          6.7,
          6.7,
          6.7,
          6.7,
          6.7,
          7.2,
          7.2,
          7.2,
          7.2,
          7.2,
          7.8,
          7.8,
          7.1,
          7.1,
          7.1,
          7.1,
          7.1,
          6.6,
          6.6,
          6.6,
          6.6,
          6.4,
          6.4,
          6.4,
          6.3,
          6.3,
          6.3,
          6.3,
          7.1,
          7.1,
          7.1,
          7.2,
          7.2,
          7.2,
          7.2,
          6.6,
          6.6,
          6,
          6.7,
          6.7,
          7.1,
          7.1,
          7.1,
          7.1,
          7.1,
          7.1,
          7.1,
          7,
          7,
          7,
          7,
          7,
          7,
          6.8,
          6.8,
          5.9,
          5.9,
          5.6,
          6.9,
          6.9,
          6.9,
          6.9,
          6.9,
          6.4,
          6.4,
          6.4,
          6.4,
          7.1,
          7.1,
          7.1,
          7.1,
          6.5,
          6.5,
          6.5,
          6.8,
          6.8,
          6.8,
          6.7,
          6.7,
          6.7,
          6.7,
          5.5,
          5.5,
          5.5,
          5.5,
          6.6,
          6.6,
          6.6,
          6.6,
          6.6,
          7.1,
          7.1,
          7.1,
          7.1,
          7.1,
          6.5,
          6.5,
          6.5,
          6.5,
          5.5,
          6.8,
          6.8,
          6.8,
          6.8,
          6.8,
          6.8,
          6.5,
          6.5,
          6.7,
          6.7,
          6.7,
          6.7,
          6.7,
          7.2,
          7.2,
          7.2,
          7.2,
          7.2,
          5.8,
          5.8,
          5.8,
          5.8,
          5.8,
          5.8,
          7,
          7,
          7,
          7,
          6.9,
          6.9,
          6.3,
          6.3,
          6.3,
          6.3,
          6.3,
          6.3,
          6.3,
          6.6,
          6.6,
          7.1,
          7.6,
          7.6,
          7.2,
          7.2,
          6.7,
          6.7,
          6.7,
          6.7,
          7,
          7,
          7,
          7.1,
          7.1,
          7.1,
          7.1,
          7.1,
          7.1,
          7.1,
          7.1,
          7.1,
          6.9,
          6.9,
          8.3,
          8.3,
          8.3,
          8.3,
          8.3,
          6.2,
          6.2,
          6.2,
          6.2,
          6.2,
          6.9,
          6.9,
          6.9,
          6.3,
          6.3,
          6.9,
          6.9,
          6.9,
          6.1,
          6.1,
          6.1,
          6.9,
          6.9,
          6.8,
          6.8,
          6.8,
          6.8,
          7,
          7,
          7.7,
          7.7,
          7.1,
          7.1,
          6.6,
          6.6,
          6.6,
          7,
          7,
          7.4,
          7.4,
          7.4,
          7.4,
          7.4,
          6.6,
          6.6,
          6.6,
          7.2,
          7.2,
          7.2,
          7.2,
          7.2,
          7.7,
          7.7,
          7.7,
          7.7,
          7.7,
          6.7,
          6.7,
          6.7,
          6.7,
          6.6,
          6.1,
          6.1,
          6.1,
          6.1,
          6.1,
          5.9,
          5.9,
          5.9,
          6.8,
          6.8,
          6.8,
          6.5,
          6.5,
          6.5,
          6.5,
          7.2,
          7.2,
          7.2,
          7.2,
          7,
          7,
          7,
          7,
          7.2,
          7.2,
          7.2,
          6.9,
          6.9,
          6.9,
          6.9,
          6,
          6,
          6.5,
          7.1,
          7.1,
          5.9,
          5.9,
          5.9,
          6.7,
          6.7,
          6.7,
          5.8,
          6.7,
          7,
          7,
          7,
          7,
          7,
          6.7,
          6.7,
          6.7,
          6.6,
          6.6,
          7.6,
          7.6,
          5.2,
          7.2,
          7.2,
          7.2,
          7.2,
          6.8,
          6.3,
          6.3,
          6.3,
          6.3,
          7.2,
          7.2,
          7.2,
          7.2,
          7.2,
          7.2,
          6.8,
          6.8,
          6.8,
          6.8,
          5.9,
          5.9,
          5.9,
          5.9,
          5.9,
          5.9,
          5.9,
          7.1,
          7.1,
          6.6,
          6.6,
          6.6,
          7,
          7,
          7,
          7,
          7,
          6.7,
          6.7,
          6.1,
          6.1,
          6.1,
          6.1,
          6.1,
          6.1,
          6.1,
          6.5,
          6.5,
          6.5,
          6.2,
          6.2,
          6.2,
          6.6,
          7,
          7,
          7,
          7,
          7.2,
          7.2,
          7.2,
          7.2,
          6.5,
          6.5,
          6.5,
          6.5,
          6.5,
          6.5,
          6.5,
          7.2,
          7.1,
          7.1,
          7.1,
          7.1,
          7.2,
          7.2,
          7.2,
          7.2,
          7.2,
          7.2,
          6.6,
          6.7,
          6.7,
          6.7,
          7.5,
          7.5,
          6.6,
          6.6,
          6.6,
          6,
          6,
          7.4,
          7.4,
          7.4,
          5.9,
          5.9,
          5.9,
          5.9,
          5.9,
          6.7,
          6.7,
          6.6,
          6.6,
          6.6,
          6.6,
          6.6,
          6.6,
          6.6,
          6.6,
          6.6,
          6.3,
          6.3,
          6.4,
          6.4,
          6.4,
          7.1,
          7.1,
          6.9,
          6.9,
          6.9,
          6.8,
          6.8,
          6.8,
          6.8,
          6.8,
          6.8,
          7.2,
          7.2,
          7.2,
          7.3,
          7.3,
          7.3,
          7.2,
          7.2,
          7.2,
          6.5,
          6.5,
          6.5,
          7,
          7,
          7,
          7,
          6.4,
          6.4,
          5.9,
          7.3,
          7.3,
          6.8,
          6.8,
          6.8,
          6.8,
          7.1,
          7.1,
          7.1,
          7.1,
          7.4,
          7.4,
          5.8,
          5.8,
          5.8,
          5.8,
          5.8,
          6.5,
          6.8,
          6.8,
          6.8,
          6.7,
          6.7,
          6.7,
          7.1,
          7.1,
          6.8,
          6.8,
          6.6,
          6.6,
          6.6,
          6.6,
          6.6,
          6.9,
          6.9,
          6.9,
          6.8,
          6.8,
          6.8,
          6.8,
          6.8,
          6.8,
          6.8,
          6.8,
          7,
          7,
          7,
          7,
          7.2,
          7.2,
          7.2,
          7.2,
          7.1,
          6.4,
          6.4,
          6.4,
          6.7,
          6.7,
          6.7,
          6.7,
          6.7,
          6.7,
          6.9,
          6.9,
          6.9,
          7,
          7,
          7.1,
          6.1,
          6.1,
          6.1,
          6.1,
          6.9,
          6.9,
          6.9,
          6.6,
          6.7,
          6.7,
          6.7,
          6.4,
          6.4,
          6.4,
          7.3,
          7.3,
          7.3,
          6.2,
          6.2,
          6.2,
          6.7,
          6.8,
          6.8,
          6.8,
          6.8,
          6.8,
          7.1,
          7.1,
          6.7,
          6.7,
          6.7,
          5.3,
          7,
          7,
          7,
          6.9,
          6.9,
          6.9,
          6.9,
          6.9,
          6.8,
          6.8,
          6.8,
          6.8,
          6.5,
          6.5,
          6.5,
          6.4,
          6.4,
          6.4,
          7.5,
          7.5,
          6.7,
          6.7,
          6.5,
          6.9,
          6.9,
          6.9,
          6.2,
          6.2,
          6.3,
          6.3,
          6.3,
          6.3,
          6.2,
          6.2,
          6.2,
          7.1,
          6.8,
          6.8,
          6.8,
          5.5,
          6.4,
          6.9,
          6.9,
          6.9,
          6.4,
          6.7,
          6.7,
          6.7,
          5.3,
          5.3,
          7,
          7,
          7,
          7,
          4.9,
          4.9,
          4.9,
          6.7,
          6.7,
          6.7,
          6.7,
          6.3,
          5.9,
          5.9,
          5.9,
          5.6,
          6.2,
          6.2,
          6.2,
          6.2,
          6.2,
          5.9,
          5.7,
          5.7,
          5.7,
          5.7,
          5.7,
          5.7,
          7.1,
          7.1,
          7.1,
          7.1,
          7.5,
          7.5,
          7.5,
          7.5,
          6.5,
          6.5,
          6.5,
          7,
          7,
          7,
          7.5,
          7.5,
          7.5,
          7.5,
          7.5,
          6.3,
          6.3,
          6.3,
          6.3,
          7,
          7,
          7,
          6.3,
          6.3,
          6.1,
          6.1,
          7,
          7,
          7.2,
          7.2,
          7.2,
          7.2,
          5.7,
          5.7,
          5.7,
          6,
          6,
          6.1,
          7.3,
          7.3,
          6.3,
          6.3,
          6.3,
          6.6,
          6.6,
          6.6,
          6.6,
          7.1,
          7.1,
          7.1,
          7.1,
          7.1,
          6.8,
          6.8,
          6.8,
          5.5,
          5.5,
          6.7,
          6.7,
          6.7,
          6.4,
          6.4,
          6.4,
          6.4,
          6.4,
          6.4,
          5.7,
          6.4,
          6.4,
          6.4,
          6.7,
          6.7,
          6.7,
          6.2,
          6,
          6,
          6,
          7.2,
          7.2,
          7.2,
          7.2,
          7.2,
          7.2,
          6.9,
          6.9,
          6.9,
          6.4,
          7.2,
          6.8,
          6.8,
          7.1,
          4.9,
          4.9,
          4.9,
          4.9,
          6.4,
          6.6,
          6.9,
          6.9,
          6.9,
          6.9,
          6.9,
          7.4,
          7.4,
          5.8,
          6.5,
          6.9,
          6.9,
          6.9,
          6.9,
          6.5,
          6.5,
          6.5,
          7.3,
          7.3,
          7.5,
          7.5,
          6.6,
          6.6,
          6.6,
          5.7,
          5.7,
          5.7,
          5.7,
          6.3,
          6.3,
          6.3,
          6.3,
          6.3,
          6.3,
          7.1,
          7.1,
          7.1,
          6.5,
          6.5,
          6.5,
          6.5,
          6.2,
          6.9,
          6.9,
          6.9,
          6.9,
          6.9,
          6.9,
          7.2,
          7.2,
          7.2,
          7.2,
          7.2,
          7.2,
          6.1,
          6.1,
          7.1,
          7.1,
          7.1,
          7.1,
          7.1,
          6.6,
          6.8,
          6.8,
          6.8,
          6.3,
          6.3,
          6.3,
          7.1,
          7.1,
          7.1,
          7.1,
          5.9,
          6.2,
          6.2,
          6.7,
          5.9,
          5.9,
          5.9,
          6.3,
          7.1,
          7.1,
          7.1,
          7.1,
          6.3,
          6.9,
          6.9,
          5.3,
          5.6,
          7.3,
          6.8,
          6.8,
          6.4,
          6.4,
          6.8,
          6.8,
          6.6,
          6.6,
          6.6,
          6.6,
          7.2,
          7.2,
          7.2,
          6.5,
          6.5,
          6.5,
          6.5,
          6.5,
          6.4,
          6.4,
          6.4,
          5.7,
          5.7,
          5.7,
          5.7,
          6.9,
          6.9,
          6.7,
          6.7,
          6.7,
          6.7,
          6.7,
          6.7,
          7.5,
          7.5,
          7.5,
          6.4,
          6.4,
          6.4,
          6.4,
          6.5,
          6.5,
          7.5,
          7.5,
          7.5,
          7.5,
          6.2,
          6.2,
          6.2,
          6.2,
          6.2,
          5.8,
          6.3,
          6.7,
          6.7,
          6.7,
          7.6,
          7.6,
          7.6,
          7.6,
          7.6,
          6.5,
          6.5,
          6.5,
          6.8,
          6.8,
          6.8,
          6.8,
          6.2,
          6.2,
          6.2,
          7,
          7,
          6.5,
          5.9,
          5.9,
          5.9,
          7.3,
          7.3,
          7.3,
          7.3,
          6.4,
          6.4,
          6.4,
          6.4,
          7.5,
          7,
          7,
          6.3,
          6.3,
          6.3,
          6.1,
          6.1,
          6.1,
          6.1,
          6.1,
          6.1,
          7.1,
          7.1,
          7.1,
          6.6,
          6.6,
          6.6,
          5.6,
          5.6,
          5.5,
          5.5,
          5.5,
          5.5,
          6.9,
          6.4,
          6.4,
          6.5,
          6.5,
          6.5,
          6.9,
          6.9,
          6.9,
          6.8,
          4.8,
          4.8,
          4.5,
          4.5,
          4.5,
          4.5,
          5.6,
          5.6,
          5.6,
          7.2,
          7.2,
          5.8,
          5.8,
          6,
          6,
          6,
          6.1,
          6.1,
          6.8,
          7.4,
          7.4,
          7.4,
          7.4,
          6.1,
          6.1,
          6.1,
          5.9,
          6.4,
          5.8,
          6.8,
          6.8,
          6.8,
          6.8,
          6.8,
          6.7,
          6.7,
          6.7,
          7.1,
          7.1,
          7.1,
          7.1,
          6.9,
          6.9,
          6.9,
          6.9,
          5.3,
          5.3,
          5.3,
          6.6,
          6.2,
          6.5,
          6.5,
          6.5,
          7.3,
          7.3,
          7.3,
          7.2,
          7.2,
          7.2,
          7.2,
          6.1,
          6.1,
          7.3,
          7.4,
          6.6,
          6.6,
          6.6,
          5.4,
          6,
          6.1,
          6.6,
          6.6,
          6.1,
          6.5,
          6.5,
          6.5,
          6.9,
          6.9,
          6.9,
          6.9,
          6.9,
          6.2,
          6.2,
          6.5,
          7,
          7,
          5.8,
          5.8,
          7,
          7,
          6.5,
          6.5,
          6.5,
          6.5,
          6.2,
          6.5,
          6.5,
          6.5,
          7,
          7,
          7,
          7,
          7,
          7,
          6.5,
          6.5,
          6.8,
          5.8,
          6.3,
          6.3,
          6.6,
          6.6,
          6.6,
          7.1,
          7.1,
          7.1,
          7.4,
          7.4,
          7.4,
          6.8,
          6.8,
          6.8,
          7.5,
          7.5,
          7.5,
          7.5,
          7.5,
          5.6,
          5.6,
          5.6,
          5.6,
          7.5,
          7.5,
          7.9,
          7.9,
          7.9,
          7.9,
          7.2,
          7.2,
          7.2,
          7.2,
          6.2,
          6.2,
          7.4,
          7.4,
          6.9,
          6.9,
          6.9,
          7,
          7,
          7,
          7,
          7,
          6.9,
          6.9,
          6.9,
          7.6,
          7.6,
          5.8,
          7,
          7,
          7,
          7,
          7.4,
          7.4,
          7.4,
          7.4,
          7.4,
          5.6,
          5.6,
          6.8,
          6.8,
          6.8,
          6.8,
          7.2,
          7.2,
          7.2,
          6.3,
          6.3,
          6.3,
          6.5,
          6.5,
          6.4,
          6.4,
          6.4,
          6.4,
          6.7,
          6.1,
          6.1,
          6.1,
          7,
          7,
          7,
          7,
          7,
          7.3,
          7.3,
          7.3,
          5.5,
          5.5,
          6.2,
          6.2,
          6.2,
          6.2,
          6.2,
          7.7,
          7.7,
          7.4,
          7.4,
          7.4,
          7.4,
          7.2,
          7.2,
          6.8,
          6.8,
          6.8,
          6.8,
          6.8,
          6.5,
          6.5,
          6.5,
          7.7,
          6.4,
          6.4,
          6.3,
          6.3,
          5.6,
          5.6,
          6.9,
          7.1,
          7.1,
          7.1,
          7.1,
          6.5,
          6.3,
          6.3,
          6.4,
          6.7,
          6.7,
          6.7,
          6.7,
          6.9,
          6.9,
          6.9,
          7.1,
          7.1,
          7.1,
          7.1,
          7.1,
          7.1,
          7.1,
          7.1,
          7.1,
          6,
          5.9,
          6,
          6,
          6.5,
          7.1,
          7.1,
          7.1,
          7.1,
          5.5,
          6.6,
          6.6,
          7.8,
          7.8,
          6.7,
          6.7,
          6.8,
          6.8,
          7.5,
          7.5,
          7.5,
          7.6,
          6.3,
          6.3,
          6.8,
          6.8,
          6.8,
          6.8,
          6,
          6,
          6,
          6,
          6,
          5.9,
          5.9,
          5.9,
          5.9,
          6.3,
          6.8,
          6.8,
          6.8,
          6.3,
          5.7,
          5.7,
          6.9,
          6.9,
          6.5,
          6.8,
          7.4,
          7.4,
          7.4,
          6.6,
          7.2,
          7.2,
          7.2,
          7.3,
          7.3,
          7.3,
          7,
          7,
          7,
          6.6,
          6.6,
          6.6,
          6.6,
          6.3,
          6.3,
          6.3,
          6.3,
          6.6,
          6.6,
          7,
          7,
          7,
          6.4,
          7.5,
          7.5,
          5.3,
          5.3,
          7.2,
          7.2,
          7.2,
          7.4,
          7.4,
          7,
          7,
          7,
          7.3,
          7.3,
          7.3,
          6.1,
          6.1,
          6.1,
          7.5,
          7.5,
          7.5,
          6.8,
          6.8,
          6.8,
          6.8,
          6.8,
          7,
          7,
          7,
          7,
          7.1,
          7.1,
          7.1,
          6.3,
          6.3,
          6.5,
          6.5,
          6.5,
          7.1,
          7.1,
          7.1,
          7,
          7,
          7,
          5.1,
          6.8,
          6.8,
          6.8,
          6.8,
          6.1,
          6.1,
          6.1,
          6.1,
          6.1,
          6,
          6,
          6.6,
          6.7,
          6.7,
          6.7,
          6.1,
          6.1,
          6.1,
          6.1,
          5.8,
          5.8,
          7.3,
          7.3,
          6.3,
          6.3,
          6.3,
          6.4,
          6.4,
          6.4,
          6.4,
          6.6,
          6.6,
          6.3,
          6.3,
          6.5,
          6.5,
          6.1,
          6.1,
          6.1,
          6.1,
          7.6,
          7.6,
          7.6,
          7.6,
          7.6,
          6.1,
          6.1,
          7.2,
          7.2,
          7.2,
          7.4,
          7.4,
          7.4,
          6.4,
          6.4,
          6.9,
          6.9,
          6.9,
          6.8,
          6.8,
          5.6,
          5.6,
          5.6,
          6.8,
          6.4,
          6.4,
          6.4,
          6.3,
          5.7,
          7,
          7.1,
          7.1,
          7.1,
          6.5,
          7.5,
          7.5,
          7.5,
          5.9,
          6.2,
          6.2,
          6.2,
          6.9,
          6.7,
          6.7,
          7,
          7,
          7,
          7,
          7.6,
          7.6,
          7.6,
          7.6,
          7.6,
          7.4,
          7.4,
          7.4,
          7.4,
          6.3,
          6.3,
          6.3,
          6.3,
          6.9,
          6.9,
          6.9,
          6.9,
          6.9,
          7.3,
          7.3,
          6.5,
          6.5,
          6.5,
          6.7,
          6.7,
          6.7,
          6.7,
          6.7,
          6.7,
          6.7,
          8.2,
          8.2,
          8.2,
          8.2,
          6.7,
          6.7,
          6.7,
          6.7,
          5.9,
          5.9,
          6.3,
          6.3,
          6.7,
          6.2,
          6.2,
          6.5,
          6.5,
          6.5,
          5.9,
          5.9,
          5.9,
          6.8,
          6.8,
          6.8,
          6.8,
          6.8,
          7.9,
          7.9,
          7.9,
          7.9,
          6.4,
          6.4,
          6.4,
          6.8,
          6.8,
          6.8,
          6.5,
          6.5,
          6.5,
          6.8,
          6.8,
          7.2,
          7.2,
          7.2,
          7.2,
          7.2,
          7.2,
          6.9,
          6.9,
          6.9,
          6.9,
          6.9,
          6.9,
          7.2,
          7.2,
          7.2,
          5.4,
          5.8,
          5.8,
          7.6,
          7.6,
          7.6,
          7.6,
          7.6,
          5.6,
          5.6,
          5.6,
          7.2,
          7.2,
          7.2,
          7.2,
          7.5,
          7.5,
          6.2,
          7,
          7,
          7,
          5.7,
          5.7,
          5.7,
          5.7,
          6,
          6,
          6,
          6.9,
          6.9,
          5.5,
          5.5,
          6.7,
          6.7,
          6.7,
          6.7,
          7.7,
          7.7,
          7.3,
          7.3,
          7.3,
          7.3,
          7.3,
          7.3,
          6.6,
          6.6,
          7.1,
          7.1,
          6.8,
          6.2,
          6.2,
          6.2,
          6.2,
          7.5,
          7.5,
          7.5,
          7.5,
          6.5,
          6.5,
          6.5,
          6.5,
          6.5,
          6.3,
          6.3,
          6.3,
          6.3,
          6.3,
          7.7,
          7.7,
          7.7,
          7.7,
          7.7,
          7.1,
          6.9,
          6.9,
          6.9,
          7.1,
          7.1,
          7.1,
          6.8,
          7.2,
          7.2,
          7.2,
          6.4,
          6.4,
          6.4,
          6.4,
          7,
          7,
          6.3,
          5.5,
          5.5,
          6.9,
          6.9,
          6.9,
          6.8,
          6.8,
          6.8,
          7.3,
          6,
          6,
          7.3,
          7.3,
          7.3,
          7.3,
          5.7,
          5.7,
          5.7,
          7,
          7,
          7,
          6.8,
          6.8,
          6.8,
          5.7,
          5.7,
          7.1,
          7.1,
          7.1,
          7.1,
          7.1,
          6.9,
          6.9,
          6.9,
          6.9,
          6.9,
          7.1,
          7.1,
          7.1,
          7.1,
          7.2,
          7.2,
          6.7,
          6.6,
          6.6,
          6.6,
          6.6,
          6.9,
          6.9,
          6.9,
          7.6,
          7.6,
          6.6,
          6.3,
          6.3,
          6.3,
          6.9,
          7.2,
          7.2,
          7.2,
          7.2,
          7.5,
          7.5,
          7.5,
          7.5,
          7.5,
          7.5,
          7,
          7,
          7,
          7.6,
          7.1,
          7.1,
          7.1,
          6.6,
          6.6,
          6.6,
          6.3,
          7.1,
          7.1,
          7.1,
          6.6,
          6.6,
          6.1,
          6,
          6,
          5.6,
          5.6,
          7.1,
          7.1,
          7.1,
          7.1,
          7,
          7,
          7,
          7,
          7,
          6,
          7.1,
          7.1,
          7.1,
          7.1,
          7.1,
          7.1,
          7.5,
          7.5,
          7.5,
          7.5,
          5.8,
          5.8,
          5.8,
          5.8,
          7,
          7,
          7,
          7,
          7,
          6.4,
          6.4,
          6.4,
          6.4,
          6.4,
          6.9,
          6.3,
          6.3,
          6.3,
          6.3,
          6.3,
          6.3,
          6.3,
          5.9,
          7.1,
          7.1,
          7.1,
          7.1,
          7.1,
          6.7,
          6.7,
          6.7,
          6.7,
          7,
          7,
          7,
          7,
          7,
          7,
          6.2,
          6.2,
          6.2,
          6.5,
          6.5,
          6.5,
          6.5,
          6.1,
          6.1,
          6.1,
          6.1,
          6.9,
          6.9,
          6.9,
          6.9,
          6.9,
          7.5,
          7.5,
          7.5,
          7.5,
          6.7,
          6.7,
          6.7,
          6.7,
          6.9,
          6.9,
          6.9,
          7.3,
          7.3,
          6.6,
          6.6,
          6.6,
          7.7,
          7.7,
          7.7,
          7.7,
          7.7,
          6.8,
          6.8,
          6.8,
          6.8,
          6.1,
          6.1,
          6.1,
          6.1,
          6.7,
          6.1,
          6.1,
          6.1,
          6.1,
          7.1,
          7.1,
          6.8,
          6.8,
          7.1,
          7.1,
          7.1,
          5.5,
          7.3,
          7.3,
          7.3,
          7.3,
          5.5,
          5.5,
          5.5,
          5.5,
          7,
          7,
          7,
          7,
          7,
          7,
          7,
          7,
          7,
          7,
          7.1,
          6.8,
          6.8,
          6.8,
          7.5,
          7.5,
          7.5,
          6.1,
          6.1,
          6.1,
          7.7,
          7.7,
          7.7,
          7,
          5.6,
          6.8,
          6.8,
          6.9,
          6.9,
          6.9,
          5.1,
          5.1,
          5.1,
          5.1,
          5.1,
          7.3,
          7.3,
          7.3,
          5.7,
          5.7,
          6.5,
          6.5,
          6.3,
          6.3,
          6.3,
          7.1,
          7.1,
          7.1,
          7.1,
          7.1,
          6.5,
          6.5,
          6.5,
          6.5,
          7,
          7,
          7,
          7,
          7,
          7.3,
          7.3,
          7.3,
          7.3,
          6.8,
          6.8,
          6.8,
          6.8,
          6.8,
          7.3,
          7.3,
          7.3,
          7.2,
          7.2,
          7.2,
          6.9,
          6.9,
          6.9,
          6.9,
          6.9,
          6.9,
          7.5,
          7.5,
          7.4,
          7.4,
          7.4,
          6.8,
          6.8,
          6.5,
          6.5,
          6.5,
          6.7,
          6.7,
          6.7,
          6.7,
          6.5,
          6.5,
          6.5,
          6.5,
          5.5,
          5.5,
          5.5,
          5.5,
          5.4,
          5.4,
          5.4,
          7.1,
          7.1,
          6.3,
          6.3,
          6.9,
          5.9,
          6.6,
          6.6,
          6.8,
          6.5,
          6.9,
          6.9,
          6.9,
          6.6,
          6.3,
          6.9,
          6.9,
          7.2,
          7.2,
          7.2,
          7.2,
          7.2,
          7.2,
          6.8,
          6.8,
          7,
          7,
          7,
          5.6,
          5.6,
          5.6,
          5.6,
          6.6,
          6.6,
          6.6,
          7.5,
          7.5,
          7.1,
          7.1,
          5.3,
          5.3,
          5.3,
          7.1,
          7.1,
          7.1,
          7.1,
          5.6,
          7.4,
          7.5,
          7.5,
          7.5,
          7.5,
          6.6,
          6.6,
          6.6,
          7.6,
          7.6,
          7.6,
          7.6,
          6.4,
          7.5,
          7.5,
          6.8,
          6.8,
          6.8,
          6.8,
          6.8,
          6.3,
          6.3,
          6.3,
          6.1,
          6.1,
          6.1,
          6.3,
          6.3,
          6.3,
          7.1,
          7.1,
          7.4,
          7.4,
          7.4,
          7.4,
          7.4,
          6.4,
          6.4,
          7.3,
          7.3,
          7.3,
          7.3,
          7.3,
          6.5,
          6.5,
          6.5,
          6.2,
          6.6,
          6.4,
          6.4,
          6.3,
          6.3,
          6.3,
          6.8,
          6.8,
          6.3,
          7.1,
          7.1,
          7.1,
          7.3,
          7.3,
          7.4,
          7.4,
          6.9,
          6.9,
          6.9,
          7.1,
          7.1,
          7.1,
          7.1,
          7.1,
          6.8,
          6.8,
          6.8,
          7,
          7,
          7,
          5.7,
          5.7,
          5.8,
          5.8,
          5.8,
          5.8,
          5.8,
          6.9,
          6.9,
          6.4,
          6.4,
          6.4,
          6.4,
          6.2,
          5.9,
          5.9,
          5.9,
          5.3,
          5.2,
          5.2,
          5.2,
          6.4,
          6.8,
          6.8,
          6.8,
          6.5,
          6.5,
          6.5,
          6.6,
          7.9,
          6.6,
          6.6,
          6.6,
          7.4,
          7.4,
          7.4,
          7.4,
          7.4,
          7.4,
          7.4,
          6.9,
          6.9,
          6.9,
          6.8,
          6.8,
          7.9,
          7.5,
          7.5,
          6.8,
          6.8,
          6.8,
          6.8,
          6.1,
          6,
          6.7,
          6.7,
          6.7,
          6.4,
          6.4,
          6.4,
          5.9,
          5.9,
          5.9,
          7,
          7,
          6.3,
          6.3,
          6.3,
          6.3,
          7,
          6.9,
          6.9,
          6.9,
          5.7,
          5.7,
          5.7,
          6.7,
          6.2,
          6.2,
          6.2,
          6.7,
          6.7,
          7.1,
          7.1,
          7.1,
          7.1,
          7.1,
          7.1,
          6.8,
          6.8,
          7.6,
          6.5,
          6.5,
          6.5,
          7.1,
          7.1,
          7.1,
          6.9,
          6.9,
          6.4,
          6.4,
          6.4,
          7,
          7,
          6.8,
          6.8,
          6.8,
          6.7,
          6.7,
          6.7,
          6.7,
          6.3,
          6.3,
          6.3,
          7.1,
          6.4,
          6.4,
          6.4,
          6.4,
          6.9,
          6.9,
          6.9,
          6.3,
          6.3,
          6.8,
          6.8,
          6.8,
          7,
          7,
          7,
          6.5,
          6.5,
          6.5,
          6.8,
          6.8,
          6.8,
          6.5,
          6.1,
          6.1,
          6.1,
          6.9,
          6.9,
          6.9,
          6.9,
          6.9,
          5.3,
          5.3,
          6.6,
          6.7,
          6.7,
          6.7,
          6.7,
          6.7,
          6.6,
          6.6,
          6.4,
          6.4,
          7.5,
          7.7,
          7.7,
          6,
          6,
          6,
          7.4,
          6.4,
          6.4,
          6.4,
          7,
          7,
          7,
          7,
          7.2,
          7.2,
          6.8,
          7.2,
          7.2,
          7.2,
          7.2,
          7.8,
          7.8,
          7,
          6.9,
          6.9,
          6.9,
          6.6,
          6.6,
          6.6,
          6.6,
          6.5,
          6.2,
          7.8,
          5.7,
          7.7,
          7.7,
          6.5,
          6.5,
          6.5,
          6.5,
          6.5,
          6.5,
          6.5,
          6.5,
          7.6,
          7.6,
          7.5,
          7.5,
          7.5,
          6.3,
          6.3,
          5.5,
          5.5,
          7,
          7,
          7,
          7.3,
          7.3,
          7.3,
          7.3,
          7.3,
          7,
          7,
          7,
          7,
          7,
          5.6,
          4.9,
          4.9,
          6,
          6,
          6.6,
          6.6,
          6.6,
          7.2,
          7.2,
          7.2,
          7.2,
          6.1,
          6.1,
          6.1,
          6.1,
          6.7,
          6.7,
          6.7,
          6.7,
          6.7,
          6.9,
          6.9,
          6.9,
          6.7,
          6.7,
          6.7,
          6.7,
          6.1,
          6.1,
          7.2,
          7.2,
          7.2,
          7.2,
          6.1,
          6.1,
          5.9,
          6.4,
          6.4,
          6.4,
          6.4,
          6.4,
          7.2,
          7.2,
          7.2,
          7.1,
          7.1,
          7.1,
          7,
          7,
          6,
          6.9,
          6.9,
          6.9,
          6.6,
          6.6,
          6.6,
          5.9,
          6.8,
          6.3,
          6.3,
          7,
          7,
          7,
          6.7,
          6.2,
          7.2,
          7.2,
          7.2,
          7.2,
          7.2,
          7.4,
          7.4,
          6.9,
          7.7,
          6.5,
          7.1,
          7.1,
          7.1,
          7.6,
          7.6,
          7,
          7,
          7,
          7,
          6,
          6,
          6,
          7.5,
          7.5,
          6.4,
          6.4,
          6.9,
          6.9,
          6.9,
          7.1,
          7.1,
          7.1,
          7.1,
          7.1,
          7.1,
          7.3,
          7.3,
          6.6,
          6.6,
          6.6,
          6.4,
          6.4,
          6.4,
          6.3,
          6.3,
          6.8,
          6.8,
          6.8,
          6.8,
          6.8,
          5.5,
          5.5,
          7.8,
          7.8,
          7.8,
          7.8,
          7.8,
          7.8,
          7,
          7,
          6.7,
          6.7,
          6.3,
          6.5,
          6.5,
          6.5,
          8.1,
          8.1,
          8.1,
          8.1,
          6.3,
          6.3,
          6.3,
          6.2,
          6.4,
          6.4,
          5.3,
          5.3,
          5.3,
          5.3,
          7,
          7,
          6.7,
          6.7,
          7.8,
          7.8,
          6,
          6,
          6,
          6.5,
          6.5,
          6.1,
          6.1,
          6.1,
          6.4,
          6.4,
          6.4,
          6.4,
          7.5,
          7.5,
          7.5,
          7.5,
          6,
          6,
          7.4,
          7.4,
          7.4,
          6.2,
          6.2,
          6.2,
          6.2,
          6.2,
          6.7,
          6.7,
          6.7,
          6.7,
          6.7,
          6.8,
          6.8,
          6.8,
          6.3,
          6.3,
          6.3,
          5.4,
          5.4,
          5.4,
          7.4,
          7.4,
          7.4,
          7,
          7.2,
          7.2,
          7.2,
          7.2,
          7.6,
          7.4,
          7.4,
          7.4,
          5.9,
          5.9,
          5.9,
          6.7,
          7.2,
          7.2,
          7.2,
          7.2,
          7.2,
          7.3,
          7.3,
          7.3,
          7,
          7,
          7,
          7,
          6.5,
          6.4,
          7.2,
          7.2,
          7.2,
          7,
          5.4,
          6.3,
          6.3,
          6.3,
          6.6,
          6.6,
          7.2,
          7.2,
          7.2,
          7.2,
          7.2,
          6.6,
          6.6,
          6.6,
          7.3,
          7.3,
          7.3,
          6.5,
          6.5,
          5.6,
          6.1,
          5.4,
          6.1,
          6.6,
          6.6,
          6.6,
          7.7,
          6.1,
          6.1,
          6.8,
          6.8,
          6,
          6.8,
          6.8,
          6.8,
          6.9,
          6.9,
          6.9,
          6.5,
          6.5,
          6.5,
          6.5,
          6.3,
          6.8,
          6.8,
          6.4,
          6.4,
          6.9,
          6.9,
          6.9
         ]
        },
        {
         "name": "IMDB ratings|Movie",
         "type": "histogram",
         "x": [
          8.4,
          8.4,
          8.4,
          8.4,
          8.5,
          8.5,
          8.5,
          8.5,
          7,
          7,
          7,
          7,
          7.5,
          7.5,
          7.5,
          7,
          7,
          7,
          7,
          7,
          6.9,
          6.9,
          6.9,
          6.9,
          6.9,
          6.9,
          6.9,
          6.5,
          6.5,
          6.7,
          6.7,
          6.7,
          6.7,
          7.5,
          7.5,
          7.5,
          7.7,
          7.7,
          7.7,
          7.7,
          8.5,
          8.5,
          8.5,
          7.1,
          7.1,
          7.1,
          7.1,
          5.7,
          5.7,
          5.7,
          5.7,
          7.8,
          7.8,
          7.8,
          7.8,
          7.8,
          7.3,
          7.3,
          7.3,
          7.6,
          7.6,
          7.6,
          7.6,
          7.6,
          7.6,
          8.4,
          8.4,
          8.4,
          8.4,
          8.4,
          8.4,
          6.9,
          6.9,
          6.9,
          6.9,
          6,
          6,
          6,
          6,
          6.4,
          6.4,
          6.4,
          6.4,
          7.3,
          7.3,
          7.3,
          7.3,
          7.3,
          7.1,
          7.1,
          7.1,
          6.7,
          6.7,
          6.7,
          6.7,
          5.8,
          5.8,
          5.8,
          6.8,
          6.8,
          6.8,
          7.9,
          7.9,
          7.9,
          7.9,
          6.9,
          6.9,
          6.6,
          7.1,
          7.1,
          7.1,
          7.1,
          7.1,
          6.2,
          6.2,
          6.2,
          4.5,
          4.5,
          4.5,
          5.2,
          5.2,
          5.2,
          5.2,
          5.2,
          8.7,
          8.7,
          8.7,
          7.5,
          7.5,
          7.5,
          7.5,
          7.5,
          7.5,
          7.1,
          7.1,
          6.7,
          6.7,
          6.7,
          8.4,
          8.4,
          8.4,
          8.4,
          8.4,
          8.4,
          6.5,
          6.5,
          6.5,
          6.5,
          6.4,
          5.6,
          5.7,
          5.7,
          5.7,
          5.7,
          9.4,
          9.4,
          6.7,
          6.7,
          6.7,
          6.7,
          6.6,
          6.6,
          6.6,
          7.5,
          7.5,
          7.5,
          7.5,
          6.4,
          6.4,
          6.4,
          6.6,
          6.6,
          6.6,
          6.6,
          6.6,
          6.6,
          6.3,
          6.3,
          6.3,
          7.7,
          7.7,
          7.7,
          8,
          8,
          8,
          7.3,
          7.3,
          7.5,
          7.5,
          7.5,
          8.3,
          8.7,
          8.7,
          8.7,
          8.7,
          5.2,
          5.2,
          5.2,
          6.9,
          6.9,
          6.9,
          6.9,
          6.9,
          5.4,
          5.4,
          5.4,
          5.4,
          5.4,
          5.9,
          5.9,
          5.9,
          5.8,
          5.8,
          5.8,
          5.8,
          7.4,
          7.4,
          7.4,
          5.7,
          5.7,
          5.7,
          5.7,
          5.3,
          5.3,
          5.3,
          5.4,
          5.4,
          6,
          6,
          6,
          6,
          6,
          6,
          5.6,
          5.6,
          6.2,
          6.2,
          6.2,
          6.2,
          4.6,
          4.6,
          5.3,
          5.3,
          5.3,
          4.4,
          7.6,
          7.6,
          7.6,
          6.1,
          6.1,
          6.1,
          6.2,
          6.2,
          6.2,
          6.2,
          6.2,
          6.2,
          6.2,
          6.2,
          4.1,
          4.1,
          6.3,
          6.3,
          7.8,
          7.8,
          7.8,
          7.7,
          7.7,
          7.4,
          7.4,
          6.7,
          6.7,
          6.7,
          6.3,
          6.3,
          6.3,
          6.3,
          6.3,
          6.3,
          6.3,
          6.3,
          6.6,
          6.6,
          6.6,
          6.2,
          6.2,
          6.2,
          8,
          8,
          8,
          8,
          8,
          8.4,
          8.4,
          8.4,
          8.4,
          8.4,
          8.4,
          5.4,
          7.7,
          7.7,
          7.7,
          6.9,
          6.9,
          5.8,
          6.7,
          6.7,
          6.7,
          6.7,
          8.3,
          8.3,
          8.3,
          8.3,
          8.2,
          8.2,
          8.2,
          8.2,
          7,
          7,
          7,
          5.7,
          5.7,
          6.8,
          6.8,
          6.3,
          6.3,
          6.3,
          6.3,
          6.1,
          6.1,
          6.1,
          6.1,
          6.1,
          6.6,
          6.6,
          8.1,
          8.1,
          8.1,
          7.8,
          7.8,
          7.8,
          7.6,
          7.6,
          7.6,
          7.6,
          7.6,
          6.7,
          6.7,
          6.7,
          6.7,
          7.3,
          7.3,
          5.7,
          5.7,
          5.7,
          7.9,
          7.9,
          7.9,
          7,
          7,
          7,
          7,
          7.6,
          7.6,
          5.6,
          5.6,
          5.6,
          6.9,
          6.9,
          6.7,
          6.7,
          6.7,
          6.3,
          6.3,
          8.6,
          8.6,
          8.6,
          6.2,
          6.2,
          6.2,
          5.6,
          5.6,
          5.6,
          5.6,
          5.4,
          5.4,
          5.4,
          7.5,
          7.5,
          7.5,
          6.3,
          6.3,
          6.3,
          6.3,
          6.2,
          6.2,
          6.2,
          6.6,
          6.6,
          6.7,
          6.7,
          6.6,
          6.6,
          6.6,
          6.6,
          7.2,
          7.2,
          7.5,
          7.5,
          7.5,
          7.5,
          6.7,
          6.7,
          6.7,
          4.4,
          4.4,
          6.4,
          6.4,
          6.4,
          6.4,
          7.4,
          7.4,
          7.4,
          6.5,
          6.5,
          6.5,
          6.1,
          6.1,
          6.6,
          6.6,
          6.6,
          6.6,
          6.2,
          6.2,
          6.2,
          6.2,
          6.2,
          6.2,
          5.7,
          5.7,
          7.1,
          7.1,
          7.1,
          7.1,
          6,
          5.2,
          5.2,
          5.2,
          5.2,
          6.7,
          6.7,
          7.9,
          7.9,
          7.9,
          7.9,
          8,
          8,
          8,
          6.9,
          6.9,
          6.9,
          6.9,
          7.2,
          7.2,
          6.6,
          6.6,
          6.1,
          6.1,
          6.5,
          6.3,
          6.3,
          6.7,
          6.7,
          6.7,
          8.1,
          8.1,
          8.1,
          5.9,
          5.9,
          5.9,
          8.1,
          8.1,
          8.1,
          8.1,
          7.3,
          7.3,
          7.3,
          7.3,
          6.9,
          6.9,
          6.9,
          5.8,
          5.8,
          6,
          6,
          6,
          6,
          6,
          6,
          6,
          5.7,
          5.7,
          5.7,
          6.6,
          6.6,
          6.6,
          6.6,
          6.6,
          8.3,
          8.3,
          5.3,
          5.3,
          5.3,
          7.7,
          7.7,
          7.7,
          6.9,
          6.9,
          6.9,
          7.9,
          7.9,
          7.9,
          7.9,
          7.9,
          7.9,
          7.9,
          7.9,
          6.5,
          6.5,
          6.5,
          5.2,
          5.2,
          6.2,
          6.2,
          6.2,
          7,
          7,
          7,
          7.4,
          7.4,
          7.4,
          7.4,
          7.4,
          7.3,
          7.3,
          7.3,
          6.5,
          6.5,
          6.5,
          7,
          7,
          7,
          7,
          7,
          7.6,
          7.6,
          7.6,
          6.8,
          6.8,
          6.8,
          6.8,
          6.9,
          6.9,
          6.9,
          7.4,
          7.4,
          6.1,
          6.1,
          7.6,
          7.6,
          7.6,
          7.9,
          7.9,
          7.9,
          5.6,
          5.6,
          5.6,
          5.6,
          7.1,
          7.1,
          7.1,
          7.1,
          5.7,
          5.7,
          6.6,
          6.6,
          6.6,
          6.6,
          6.6,
          6.6,
          7.8,
          7.8,
          7.8,
          7.8,
          7.3,
          7.3,
          7.3,
          7.3,
          6.5,
          6.5,
          6.5,
          6.5,
          7.5,
          7.5,
          7.5,
          7.5,
          8,
          8,
          7.4,
          7.4,
          5,
          5,
          5,
          5,
          5.3,
          5.3,
          5.3,
          6.7,
          6.7,
          6.7,
          7.5,
          7.5,
          7.5,
          6.3,
          6.3,
          6.3,
          6.3,
          6.3,
          3.5,
          3.5,
          3.5,
          3.5,
          3.5,
          6.2,
          6.2,
          6.2,
          6.2,
          7.4,
          7.4,
          7.4,
          7.4,
          7.4,
          7.3,
          6.4,
          6.4,
          6.4,
          6.4,
          6.4,
          6.6,
          6.6,
          6.6,
          6.6,
          6.6,
          7.8,
          7.8,
          7.8,
          7.6,
          7.6,
          7.6,
          3.8,
          3.8,
          3.8,
          3.8,
          6.9,
          6.9,
          6.9,
          6.9,
          6,
          6,
          6.8,
          7,
          7,
          7,
          6.5,
          6.5,
          6.5,
          6.5,
          8,
          8,
          7.1,
          7.1,
          7.1,
          7.1,
          7,
          7,
          7,
          8.5,
          8.5,
          8.5,
          8.5,
          7.1,
          7.1,
          7.1,
          7.1,
          6.6,
          6.6,
          6.6,
          6.6,
          6.6,
          8.1,
          8.1,
          8.1,
          8.1,
          7.3,
          7.3,
          7.3,
          6.1,
          6.1,
          6.1,
          6.1,
          8.2,
          8.2,
          8.2,
          8.2,
          3.8,
          3.8,
          7.7,
          7.7,
          7.7,
          6,
          6,
          8,
          8,
          8,
          8,
          8,
          8.1,
          8.1,
          8.1,
          8.1,
          5.1,
          5.1,
          5.1,
          7.9,
          7.9,
          7.7,
          7.7,
          7.7,
          7.7,
          7.3,
          7.3,
          7.3,
          7.3,
          7.3,
          7.3,
          5.8,
          5.8,
          4.6,
          4.6,
          4.6,
          5.8,
          5.2,
          5.2,
          5.2,
          5.2,
          6,
          6,
          6.3,
          6.3,
          6.3,
          6.3,
          7.3,
          7.3,
          7.3,
          3.6,
          7.5,
          7.5,
          7.5,
          7.5,
          7.5,
          5.2,
          5.2,
          5.2,
          6.6,
          6.6,
          6.6,
          6.6,
          6.3,
          6.3,
          6.3,
          7.9,
          7.9,
          7.9,
          7.3,
          7.3,
          7.3,
          4.8,
          4.8,
          7.1,
          7.9,
          7.9,
          7.9,
          6.8,
          6.8,
          6.8,
          9,
          9,
          9,
          6,
          6,
          8.6,
          8.6,
          8.6,
          5.5,
          5.5,
          5.5,
          5.5,
          8,
          8,
          8,
          8,
          7.4,
          7.4,
          8.8,
          8.8,
          7.1,
          7.1,
          7.1,
          5.8,
          5.8,
          5.8,
          5.8,
          5.8,
          7.2,
          7.2,
          7.2,
          6.8,
          7.2,
          7.2,
          7.2,
          7.4,
          7.4,
          7.4,
          7.4,
          7.4,
          8.3,
          8.3,
          6.4,
          6.4,
          6.4,
          6.4,
          7.9,
          7.9,
          7.9,
          7.9,
          7.6,
          7.6,
          7.6,
          6.2,
          6.2,
          6,
          6,
          6,
          6,
          5.2,
          5.2,
          5.2,
          8.1,
          8.1,
          5.5,
          5.5,
          5.5,
          6.4,
          6.4,
          7.6,
          7.6,
          7.6,
          6.7,
          6.7,
          6.7,
          8.2,
          8.2,
          8.2,
          7.2,
          7.2,
          7.2,
          6.6,
          6.6,
          7.6,
          7.6,
          7.6,
          7.6,
          7.6,
          7.6,
          7.1,
          7.1,
          7.7,
          7.7,
          7.4,
          6.1,
          6.1,
          6.1,
          6.1,
          6.1,
          7.9,
          7.9,
          7.9,
          7.9,
          6.6,
          6.6,
          7.1,
          7.1,
          7.1,
          7.8,
          7.8,
          5.5,
          5.5,
          5.5,
          7.7,
          7.7,
          7.7,
          7.7,
          7.7,
          7.9,
          7.9,
          7.9,
          7.9,
          5.5,
          5.5,
          8.7,
          5.8,
          5.8,
          5.8,
          5.8,
          5.8,
          7.8,
          7.8,
          7.8,
          7.8,
          6.1,
          6.1,
          5.3,
          5.3,
          5.3,
          5.3,
          5.8,
          5.8,
          5.8,
          5.8,
          5.8,
          5.7,
          5.7,
          5.7,
          7.6,
          7.6,
          7.6,
          7.6,
          7.6,
          8.4,
          8.4,
          6.6,
          6.6,
          6.6,
          6.6,
          6.3,
          6.3,
          6.3,
          6.3,
          8.3,
          8.3,
          8.3,
          8.3,
          8.3,
          6.8,
          6.8,
          6.8,
          6.8,
          6.8,
          6.8,
          7.1,
          7.1,
          7.1,
          7.1,
          0,
          6.6,
          6.6,
          6.6,
          6.9,
          6.9,
          6.9,
          6.9,
          6.9,
          6.9,
          6.9,
          6.8,
          6.8,
          6.8,
          6.8,
          8.1,
          5.2,
          5.2,
          5.2,
          8.8,
          8.8,
          8.8,
          8.1,
          8.1,
          8.1,
          6.7,
          6.7,
          6.7,
          6.7,
          6.7,
          6.7,
          7.6,
          7.6,
          7.6,
          7.6,
          6.9,
          6.9,
          8.1,
          8.1,
          8.1,
          8.1,
          6.5,
          6.5,
          6.5,
          6.5,
          6.5,
          6.5,
          6.5,
          6.5,
          6,
          6,
          6,
          6,
          6.9,
          6.9,
          6.9,
          6.9,
          5.4,
          5.4,
          5.4,
          6,
          6,
          6,
          6.8,
          6.8,
          6.8,
          8,
          9.4,
          7.1,
          7.1,
          7.5,
          7.5,
          7.5,
          7.5,
          7.1,
          7.1,
          7.1,
          7.1,
          7.1,
          8.7,
          8.7,
          6,
          6,
          6,
          6,
          6,
          5.7,
          5.7,
          5.7,
          9.4,
          9.4,
          9.4,
          9.4,
          5.3,
          5.3,
          5.3,
          7,
          7,
          7,
          7,
          6.7,
          6.7,
          6.7,
          6.7,
          8.2,
          8.2,
          8.2,
          8,
          8,
          8,
          8.9,
          8.9,
          8.7,
          8.7,
          8.7,
          8.7,
          8.7,
          8.7,
          8.7,
          8.7,
          6.3,
          6.5,
          6.5,
          6.5,
          6.5,
          6.2,
          6.2,
          7.3,
          7.3,
          7.3,
          7.3,
          7.3,
          7.3,
          7.6,
          7.6,
          7.6,
          7.9,
          7.9,
          7.9,
          7.9,
          5.8,
          5.8,
          5.8,
          5.8,
          6.8,
          6.8,
          6.8,
          5.2,
          5.2,
          5.2,
          7.4,
          7.4,
          7.4,
          7.4,
          7.4,
          5.4,
          5.4,
          5.4,
          5.4,
          5.4,
          5.8,
          5.8,
          6.2,
          7.3,
          7.3,
          6.7,
          6.7,
          7.3,
          7.3,
          7.3,
          6.1,
          6.1,
          6.1,
          5.6,
          5.6,
          5.6,
          5.6,
          5.6,
          7.3,
          7.3,
          5.7,
          5.7,
          5.7,
          5.7,
          7.3,
          7.3,
          7.3,
          6.2,
          6.7,
          6.7,
          6.7,
          6.7,
          6.7,
          6.5,
          6.5,
          6.5,
          8.9,
          8.9,
          8.9,
          7.5,
          7.5,
          7.5,
          5.9,
          4.6,
          4.6,
          4.6,
          6.6,
          6.6,
          6.6,
          6.6,
          6.6,
          8.1,
          8.1,
          8.1,
          4.9,
          4.9,
          4.9,
          4.9,
          4.9,
          5.7,
          5.7,
          6.8,
          6.8,
          6.8,
          7.9,
          6.2,
          6.8,
          6.8,
          6.8,
          7.7,
          7.7,
          7.2,
          7.1,
          7.1,
          7.1,
          6.3,
          6.3,
          7,
          7,
          7,
          7,
          7,
          8,
          8,
          8,
          8,
          7.6,
          7.6,
          7.6,
          7.6,
          7.6,
          5.4,
          5.4,
          5.4,
          5.4,
          7.9,
          7.9,
          7.9,
          7.9,
          7.9,
          7.9,
          6.7,
          6.7,
          6.7,
          6.7,
          6.2,
          6.2,
          5.7,
          5.7,
          5.7,
          7.1,
          7.1,
          7.1,
          7.1,
          7.1,
          6.3,
          6.3,
          6.3,
          6.3,
          6.3,
          8.5,
          8.3,
          8.3,
          8.3,
          8.3,
          8.3,
          8.3,
          5.5,
          6.4,
          6.4,
          6.4,
          8.3,
          8.3,
          8.3,
          8.3,
          8.3,
          7.6,
          7.6,
          4.8,
          4.8,
          4.8,
          7.2,
          7.2,
          7.2,
          5.5,
          5.5,
          5.5,
          6.6,
          6.6,
          6.6,
          6.6,
          8.7,
          8.7,
          5.7,
          6.3,
          6.3,
          6.3,
          5.3,
          5.3,
          6.8,
          6.8,
          6.8,
          6.8,
          8,
          8,
          8,
          8,
          8,
          8,
          4.7,
          4.7,
          4.7,
          4.7,
          7.1,
          7.1,
          7.1,
          7.1,
          7.1,
          6.4,
          6.4,
          7,
          7,
          7,
          7,
          7,
          7.2,
          7.2,
          7.2,
          7.2,
          6.7,
          6.7,
          6.7,
          4.2,
          4.2,
          4.2,
          4.2,
          8.3,
          8.3,
          8.3,
          8.4,
          8,
          8,
          8,
          7.8,
          7.8,
          3.2,
          6.9,
          6.9,
          7.1,
          7.1,
          7.1,
          7.1,
          7.1,
          7.1,
          7.1,
          8.5,
          8.5,
          8.5,
          8.5,
          8.5,
          8.5,
          5.9,
          5.9,
          8.4,
          8.4,
          4.7,
          7,
          7,
          7,
          7,
          7,
          7,
          7,
          7,
          7,
          8.1,
          8.1,
          8.1,
          8.1,
          7.9,
          7.9,
          7.9,
          7,
          7,
          7,
          5,
          5,
          5,
          5,
          7.1,
          7.1,
          7.1,
          7.1,
          6.1,
          6.1,
          6.1,
          6.1,
          6.1,
          7.1,
          7.1,
          7.1,
          7.1,
          7.1,
          5.4,
          5.4,
          5.4,
          5.4,
          5.2,
          6.3,
          6.3,
          6.3,
          6.3,
          6.3,
          6.3,
          5.8,
          5.8,
          5.9,
          5.9,
          5.9,
          6,
          6,
          7.4,
          7.4,
          7.4,
          7.4,
          7.4,
          7,
          7,
          7,
          6.5,
          6.5,
          6.5,
          5.5,
          5.5,
          5.5,
          5.5,
          5.8,
          5.8,
          6.7,
          6.7,
          6.7,
          6.7,
          6.7,
          6.7,
          6.7,
          6.4,
          6.4,
          7.7,
          8.8,
          8.8,
          6.5,
          6.5,
          6.7,
          6.7,
          6.7,
          6.7,
          8,
          8,
          8,
          7.7,
          7.7,
          7.7,
          7.7,
          7.7,
          7.7,
          8.3,
          8.3,
          8.3,
          7.8,
          7.8,
          7.9,
          7.9,
          7.9,
          7.9,
          7.9,
          6.4,
          6.4,
          6.4,
          6.4,
          6.4,
          5.7,
          5.7,
          5.7,
          5.4,
          5.4,
          6.5,
          6.5,
          6.5,
          6,
          6,
          6,
          7.4,
          7.4,
          7.4,
          7.4,
          7.4,
          7.4,
          7.4,
          7.4,
          9.3,
          9.3,
          7.7,
          7.7,
          5.9,
          5.9,
          5.9,
          6.4,
          6.4,
          7.9,
          7.9,
          7.9,
          7.9,
          7.9,
          6.5,
          6.5,
          6.5,
          6.4,
          6.4,
          6.4,
          6.4,
          6.4,
          8.5,
          8.5,
          8.5,
          8.5,
          8.5,
          7.1,
          7.1,
          7.1,
          7.1,
          7.9,
          7.5,
          7.5,
          7.5,
          7.5,
          7.5,
          6.2,
          6.2,
          6.2,
          6.6,
          6.6,
          6.6,
          7.1,
          7.1,
          7.1,
          7.1,
          7.3,
          7.3,
          7.3,
          7.3,
          7,
          7,
          7,
          7,
          7.8,
          7.8,
          7.8,
          7,
          8.1,
          8.1,
          8.1,
          7.4,
          7.4,
          5.9,
          7.8,
          7.8,
          5.4,
          5.4,
          5.4,
          6.4,
          6.4,
          6.4,
          4.8,
          7,
          6.8,
          6.8,
          6.8,
          6.8,
          6.8,
          8.5,
          8.5,
          8.5,
          7.2,
          7.2,
          6.7,
          6.7,
          6.5,
          7,
          7,
          7,
          7,
          7.5,
          6.4,
          6.4,
          6.4,
          6.4,
          7.8,
          7.8,
          7.8,
          7.8,
          7.8,
          7.8,
          4.9,
          4.9,
          4.9,
          4.9,
          7.2,
          7.2,
          7.2,
          7.2,
          7.2,
          7.2,
          7.2,
          7.3,
          7.3,
          7.1,
          7.1,
          7.1,
          6.7,
          6.7,
          6.7,
          6.7,
          6.7,
          7.8,
          7.8,
          5.2,
          5.2,
          5.2,
          5.2,
          5.2,
          5.2,
          5.2,
          6.3,
          6.3,
          6.3,
          4.6,
          4.6,
          4.6,
          7,
          8.7,
          8.7,
          8.7,
          8.7,
          7.1,
          7.1,
          7.1,
          7.1,
          6.5,
          6.5,
          6.5,
          6.5,
          8,
          8,
          8,
          8.8,
          7.6,
          7.6,
          7.6,
          7.6,
          7.8,
          7.8,
          7.8,
          7.8,
          7.8,
          7.8,
          6.2,
          6.7,
          6.7,
          6.7,
          6.3,
          6.3,
          7.2,
          7.2,
          7.2,
          6,
          6,
          5.6,
          5.6,
          5.6,
          5.4,
          5.4,
          5.4,
          5.4,
          5.4,
          4.6,
          4.6,
          5.7,
          5.7,
          5.7,
          5.7,
          5.7,
          7.7,
          7.7,
          7.7,
          7.7,
          7.3,
          7.3,
          6.4,
          6.4,
          6.4,
          7.9,
          7.9,
          7.3,
          7.3,
          7.3,
          8.2,
          8.2,
          8.2,
          8.2,
          8.2,
          8.2,
          6.9,
          6.9,
          6.9,
          6.7,
          6.7,
          6.7,
          6,
          6,
          6,
          5.8,
          5.8,
          5.8,
          8,
          8,
          8,
          8,
          5.3,
          5.3,
          7,
          6.5,
          6.5,
          5.7,
          5.7,
          5.7,
          5.7,
          7.3,
          7.3,
          7.3,
          7.3,
          9.2,
          9.2,
          3.7,
          3.7,
          3.7,
          3.7,
          3.7,
          7.3,
          7.1,
          7.1,
          7.1,
          8,
          8,
          8,
          7.8,
          7.8,
          3.8,
          3.8,
          5.2,
          5.2,
          5.2,
          6.9,
          6.9,
          8.6,
          8.6,
          8.6,
          3.3,
          3.3,
          3.3,
          3.3,
          3.3,
          6.9,
          6.9,
          6.9,
          6,
          6,
          6,
          6,
          8.2,
          8.2,
          8.2,
          8.2,
          7.7,
          6.7,
          6.7,
          6.7,
          5.7,
          5.7,
          6.5,
          6.5,
          6.5,
          6.5,
          5.1,
          5.1,
          5.1,
          7,
          7,
          7.6,
          7.2,
          7.2,
          7.2,
          7.2,
          7.4,
          7.4,
          7.4,
          6.6,
          6.5,
          6.5,
          6.5,
          8.1,
          8.1,
          8.1,
          8.3,
          8.3,
          8.3,
          7.5,
          7.5,
          7.5,
          7.3,
          7.8,
          7.8,
          7.8,
          7.8,
          7.8,
          6.8,
          6.8,
          6.8,
          6.8,
          6.8,
          3.4,
          7.1,
          7.1,
          7.1,
          5.9,
          5.9,
          5.9,
          5.9,
          5.9,
          7.5,
          7.5,
          7.5,
          7.5,
          7.5,
          7.5,
          7.5,
          5.4,
          5.4,
          5.4,
          6.3,
          6.3,
          5.6,
          5.6,
          5.6,
          0,
          0,
          0,
          6,
          6,
          7.3,
          7.3,
          7.3,
          7.3,
          7.5,
          7.5,
          7.5,
          7.5,
          6,
          6,
          6,
          4.8,
          6.6,
          6.8,
          6.8,
          6.8,
          7,
          5.2,
          5.2,
          5.2,
          5.8,
          5.8,
          7.9,
          7.9,
          7.9,
          7.9,
          3.6,
          3.6,
          3.6,
          6.9,
          6.9,
          6.9,
          6.9,
          7.7,
          6.5,
          6.5,
          6.5,
          5.1,
          6.1,
          6.1,
          6.1,
          6.1,
          6.1,
          6.8,
          5.9,
          5.9,
          5.9,
          5.9,
          5.9,
          5.9,
          7.2,
          7.2,
          7.2,
          7.2,
          6.9,
          6.9,
          6.9,
          6.9,
          7,
          7,
          7,
          7.6,
          7.6,
          7.6,
          7.1,
          7.1,
          7.1,
          7.1,
          7.1,
          6.3,
          6.3,
          6.3,
          6.3,
          6.6,
          6.6,
          6.6,
          6.2,
          6.2,
          6.5,
          6.5,
          8,
          8,
          8.1,
          8.1,
          8.1,
          8.1,
          5.6,
          5.6,
          5.6,
          5.3,
          5.3,
          2.9,
          8.2,
          8.2,
          6.7,
          6.7,
          6.7,
          8.2,
          8.2,
          8.2,
          8.2,
          6,
          6,
          6,
          6,
          6,
          7.7,
          7.7,
          7.7,
          4.2,
          4.2,
          6.5,
          6.5,
          6.5,
          6.2,
          6.2,
          6.2,
          6.2,
          6.2,
          6.2,
          5.5,
          5.8,
          5.8,
          5.8,
          4.7,
          7.2,
          7.2,
          4.4,
          3.9,
          3.9,
          3.9,
          5,
          5,
          5,
          5,
          5,
          5,
          6.6,
          6.6,
          6.6,
          6.6,
          7.3,
          7.2,
          7.2,
          7.5,
          4.7,
          4.7,
          4.7,
          4.7,
          5.3,
          7.2,
          6.4,
          6.4,
          6.4,
          6.4,
          6.4,
          8.9,
          8.9,
          7.5,
          6.6,
          7.5,
          7.5,
          7.5,
          7.5,
          6.7,
          6.7,
          6.7,
          8.4,
          8.4,
          6.5,
          6.5,
          6.6,
          6.6,
          6.6,
          4.2,
          4.2,
          4.2,
          4.2,
          7,
          7,
          7,
          7,
          7,
          7,
          7.1,
          7.1,
          7.1,
          5.2,
          5.2,
          5.2,
          5.2,
          6.1,
          6.2,
          6.2,
          6.2,
          7.4,
          7.4,
          7.4,
          7.3,
          7.3,
          7.3,
          7.3,
          7.3,
          7.3,
          7.4,
          7.4,
          8,
          8,
          8,
          8,
          8,
          6.2,
          8.1,
          8.1,
          8.1,
          6.3,
          6.3,
          6.3,
          7.1,
          7.1,
          7.1,
          7.1,
          0,
          6.6,
          6.6,
          7.2,
          2.5,
          2.5,
          2.5,
          5.9,
          6.4,
          6.4,
          6.4,
          6.4,
          5.5,
          5,
          5,
          5.6,
          0,
          7.6,
          6.6,
          6.6,
          4.3,
          4.3,
          5.4,
          5.4,
          8.6,
          8.6,
          8.6,
          8.6,
          6.5,
          6.5,
          6.5,
          7.9,
          7.9,
          6,
          6,
          6,
          6.2,
          6.2,
          6.2,
          5.2,
          5.2,
          5.2,
          5.2,
          8.1,
          8.1,
          6.3,
          6.3,
          6.3,
          6.3,
          6.3,
          6.3,
          8,
          8,
          8,
          7.2,
          7.2,
          7.2,
          7.2,
          3.1,
          3.1,
          8.4,
          8.4,
          8.4,
          8.4,
          6.3,
          6.3,
          6.3,
          6.3,
          6.3,
          3.8,
          8.3,
          6.9,
          6.9,
          6.9,
          7.2,
          7.2,
          7.2,
          7.2,
          7.2,
          7.7,
          7.7,
          7.7,
          6,
          6,
          6,
          6,
          5.7,
          5.7,
          5.7,
          8.2,
          8.2,
          6,
          7.3,
          7.3,
          7.3,
          8.3,
          8.3,
          8.3,
          8.3,
          6.4,
          6.4,
          6.4,
          6.4,
          7.8,
          7.4,
          7.4,
          6.9,
          6.9,
          6.9,
          5.6,
          5.6,
          5.6,
          5.6,
          5.6,
          5.6,
          6.7,
          6.7,
          6.7,
          7.6,
          7.6,
          7.6,
          5.3,
          5.3,
          2.7,
          2.7,
          2.7,
          2.7,
          5.3,
          7,
          7,
          7.3,
          7.3,
          7.3,
          6.2,
          6.2,
          6.2,
          7.6,
          0,
          0,
          4.7,
          4.7,
          4.7,
          4.7,
          6.1,
          6.1,
          6.1,
          6.3,
          6.3,
          6.1,
          6.1,
          3.9,
          3.9,
          3.9,
          6.3,
          6.3,
          7.1,
          6.5,
          6.5,
          6.5,
          6.5,
          7,
          7,
          7,
          6.4,
          6.1,
          0,
          7.5,
          7.5,
          7.5,
          7.5,
          7.5,
          7.6,
          7.6,
          7.6,
          6.6,
          6.6,
          6.6,
          6.6,
          5.2,
          5.2,
          5.2,
          5.2,
          3.3,
          3.3,
          3.3,
          6.4,
          7.2,
          5.8,
          5.8,
          5.5,
          6.2,
          6.2,
          6.2,
          7.8,
          7.8,
          7.8,
          7.8,
          4.9,
          4.9,
          8.4,
          6.9,
          6.6,
          6.6,
          6.6,
          0,
          3.5,
          4.5,
          6.8,
          6.8,
          7.2,
          7.2,
          7.2,
          7.2,
          7.4,
          7.4,
          7.4,
          7.4,
          7.4,
          3.2,
          5.8,
          7.5,
          6.5,
          6.5,
          6.5,
          6.5,
          7.8,
          7.8,
          5.1,
          5.1,
          5.1,
          5.1,
          8.1,
          7.7,
          7.7,
          7.7,
          7.3,
          7.3,
          7.3,
          7.3,
          7.3,
          7.3,
          6.6,
          6.6,
          7.1,
          5.6,
          4.3,
          4.3,
          7.3,
          7.3,
          7.3,
          8.7,
          8.7,
          8.7,
          8.6,
          8.6,
          8.6,
          6.4,
          5.9,
          5.9,
          6.7,
          6.7,
          6.7,
          6.7,
          6.7,
          6.8,
          6.8,
          6.8,
          6.8,
          8,
          8,
          7.5,
          7.5,
          7.5,
          7.5,
          6.2,
          6.2,
          6.2,
          6.2,
          6.8,
          6.8,
          5.4,
          5.4,
          0,
          0,
          0,
          6.8,
          6.8,
          6.8,
          6.8,
          6.8,
          4.8,
          4.8,
          4.8,
          8,
          8,
          4.4,
          6.2,
          6.2,
          6.2,
          6.2,
          7.3,
          7.3,
          7.3,
          7.3,
          7.3,
          5.3,
          5.3,
          7,
          7,
          7,
          7,
          8.1,
          8.1,
          8.1,
          7.4,
          7.4,
          7.4,
          6.9,
          6.9,
          6.1,
          6.1,
          6.1,
          6.1,
          5.2,
          5.8,
          5.8,
          5.8,
          6.6,
          6.6,
          6.6,
          6.6,
          6.6,
          8.4,
          8.4,
          8.4,
          3.9,
          3.9,
          6.6,
          6.6,
          6.6,
          6.6,
          6.6,
          7.2,
          7.2,
          6.2,
          6.2,
          6.2,
          6.2,
          5.7,
          5.7,
          6.1,
          6.1,
          6.1,
          6.1,
          6.1,
          8.2,
          8.2,
          8.2,
          8.4,
          5.4,
          5.4,
          6.5,
          6.5,
          5.3,
          5.3,
          8.4,
          7.8,
          7.8,
          7.8,
          7.8,
          5.4,
          6,
          6,
          6.8,
          7.1,
          7.1,
          7.1,
          7.1,
          6.6,
          6.6,
          6.6,
          7.9,
          7.9,
          7.9,
          7.9,
          7.9,
          7.9,
          7.9,
          7.9,
          7.9,
          0,
          7.4,
          7.3,
          7.3,
          5.5,
          6.1,
          6.1,
          6.1,
          6.1,
          6.3,
          6.5,
          6.5,
          7.8,
          7.8,
          5.9,
          5.9,
          4.9,
          4.9,
          6.7,
          6.7,
          6.7,
          8.1,
          6.6,
          6.6,
          7.4,
          7.4,
          7.4,
          7.4,
          6.6,
          6.6,
          6.6,
          6.6,
          6.6,
          5.5,
          5.5,
          5.5,
          5.5,
          6.9,
          5.6,
          5.6,
          5.6,
          7.4,
          5.1,
          5.1,
          5.8,
          5.8,
          6.3,
          6.3,
          8.2,
          8.2,
          8.2,
          6,
          6.1,
          6.1,
          6.1,
          6.2,
          6.2,
          6.2,
          5.9,
          5.9,
          5.9,
          7,
          7,
          7,
          7,
          6,
          6,
          6,
          6,
          7.4,
          7.4,
          5.9,
          5.9,
          5.9,
          6.4,
          8.2,
          8.2,
          2.3,
          2.3,
          7.6,
          7.6,
          7.6,
          7.2,
          7.2,
          5.7,
          5.7,
          5.7,
          5.3,
          5.3,
          5.3,
          3.3,
          3.3,
          3.3,
          8.1,
          8.1,
          8.1,
          7.3,
          7.3,
          7.3,
          5.8,
          5.8,
          8.2,
          8.2,
          8.2,
          8.2,
          6.4,
          6.4,
          6.4,
          5.3,
          5.3,
          6.7,
          6.7,
          6.7,
          7.6,
          7.6,
          7.6,
          7.7,
          7.7,
          7.7,
          6,
          7.6,
          7.6,
          7.6,
          7.6,
          3.4,
          3.4,
          3.4,
          3.4,
          4.9,
          7,
          7,
          6.2,
          6.2,
          6.2,
          6.2,
          7.6,
          7.6,
          7.6,
          7.6,
          5.7,
          5.7,
          4.9,
          4.9,
          7.4,
          7.4,
          7.4,
          6.8,
          6.8,
          6.8,
          6.8,
          7.8,
          7.8,
          6.1,
          6.1,
          5.8,
          5.8,
          5.6,
          5.6,
          6.6,
          6.6,
          7.2,
          7.2,
          7.2,
          7.2,
          7.2,
          6.1,
          6.1,
          8,
          8,
          8,
          6.9,
          6.9,
          6.9,
          6,
          6,
          5.8,
          5.8,
          5.8,
          6.5,
          6.5,
          6.6,
          6.6,
          6.6,
          7.6,
          7,
          7,
          7,
          4,
          5.2,
          8,
          8,
          8,
          8,
          8.1,
          7.3,
          7.3,
          7.3,
          1.7,
          7.7,
          7.7,
          7.7,
          5.7,
          7,
          7,
          7.6,
          7.6,
          7.6,
          7.6,
          7.2,
          7.2,
          7.2,
          7.2,
          7.2,
          5,
          5,
          5,
          5,
          6.4,
          6.4,
          6.4,
          6.4,
          6.1,
          7.9,
          7.9,
          7.9,
          7.9,
          8.3,
          8.3,
          5.1,
          5.1,
          5.1,
          6.8,
          6.8,
          6.8,
          6.8,
          6.8,
          6.8,
          6.8,
          7.3,
          7.3,
          7.3,
          7.3,
          6.6,
          6.6,
          6.6,
          6.6,
          5.4,
          5.4,
          6.7,
          6.7,
          8.4,
          6.8,
          6.8,
          6.8,
          6.8,
          6.8,
          7.5,
          7.5,
          7.5,
          6.2,
          6.2,
          6.2,
          6.2,
          6.2,
          7.1,
          7.1,
          7.1,
          7.1,
          6.6,
          6.6,
          6.6,
          5.9,
          5.9,
          5.9,
          6.3,
          6.3,
          6.3,
          7.1,
          7.1,
          6.7,
          6.7,
          7.3,
          7.3,
          7.3,
          7.3,
          7.2,
          7.2,
          5.5,
          5.5,
          5.5,
          5.5,
          7.1,
          7.1,
          7.1,
          0,
          5.8,
          5.8,
          6.8,
          6.8,
          6.8,
          6.8,
          6.8,
          3.2,
          3.2,
          3.2,
          7,
          7,
          7,
          7,
          8.5,
          8.5,
          6.9,
          7.4,
          7.4,
          7.4,
          7.2,
          7.2,
          7.2,
          7.2,
          6.8,
          6.8,
          6.8,
          7.2,
          7.2,
          6.5,
          6.5,
          6.2,
          6.2,
          6.2,
          6.2,
          4.7,
          4.7,
          8.5,
          8.5,
          8.5,
          8.5,
          8.5,
          5.5,
          6,
          6,
          7.3,
          7.3,
          7.7,
          7.4,
          7.4,
          7.4,
          7.4,
          6.6,
          6.6,
          6.6,
          6.6,
          6.5,
          6.5,
          6.5,
          6.5,
          6.5,
          7.6,
          7.6,
          7.6,
          6.5,
          6.5,
          7.8,
          7.8,
          7.8,
          7.8,
          7.8,
          6.5,
          7.2,
          7.2,
          7.2,
          6.9,
          6.9,
          6.9,
          5.7,
          7.6,
          7.6,
          7.6,
          6.6,
          6.6,
          6.6,
          6.6,
          6.8,
          6.8,
          7.8,
          6.5,
          6.5,
          5.8,
          5.8,
          5.8,
          7.7,
          7.7,
          7.7,
          8.3,
          6.8,
          6.8,
          6.4,
          6.4,
          6.4,
          6.4,
          4.5,
          4.5,
          4.5,
          8.6,
          8.6,
          8.6,
          6.9,
          6.9,
          6.9,
          5.6,
          5.6,
          6,
          6,
          6,
          6,
          6,
          8.3,
          8.3,
          8.3,
          8.3,
          8.3,
          6.6,
          6.6,
          6.6,
          6.6,
          5.9,
          5.9,
          7.7,
          7.7,
          7.7,
          7.7,
          7.7,
          6.7,
          6.7,
          6.7,
          6.7,
          6.7,
          5.6,
          6.5,
          6.5,
          6.5,
          6.2,
          6.3,
          6.3,
          6.3,
          6.3,
          7.6,
          7.6,
          7.6,
          7.6,
          7.6,
          7.6,
          6.8,
          6.8,
          6.8,
          8.2,
          7.4,
          7.4,
          7.4,
          6,
          6,
          6,
          6.4,
          6.7,
          6.7,
          6.7,
          6.2,
          6.2,
          6.9,
          7.2,
          7.2,
          3.6,
          3.6,
          7.6,
          7.6,
          7.6,
          7.6,
          6.9,
          6.9,
          6.9,
          6.9,
          6.9,
          5.2,
          6.6,
          6.6,
          6.6,
          6.6,
          6.6,
          6.6,
          8.6,
          8.6,
          8.6,
          8.6,
          7.2,
          7.2,
          7.2,
          5.3,
          6.1,
          6.1,
          6.1,
          6.1,
          6.1,
          6.2,
          7.3,
          7.3,
          7.3,
          7.3,
          6.4,
          5.6,
          5.6,
          5.6,
          5.6,
          7.6,
          7.6,
          7.6,
          5.5,
          7.1,
          7.1,
          7.1,
          7.1,
          7.1,
          7.6,
          7.6,
          7.6,
          7.6,
          7.7,
          7.7,
          7.7,
          6.7,
          6.7,
          6.7,
          7.2,
          7.2,
          7.2,
          7.3,
          6.1,
          6.1,
          6.1,
          5.6,
          5.6,
          5.6,
          5.6,
          7.3,
          7.3,
          7.3,
          7.3,
          7.3,
          6.9,
          6.9,
          6.9,
          6.9,
          5,
          5,
          5,
          5,
          7,
          7,
          7,
          8.4,
          8.4,
          6.7,
          6.7,
          6.7,
          8.4,
          8.4,
          8.4,
          8.4,
          8.4,
          6.8,
          6.8,
          6.8,
          6.8,
          6,
          6,
          6,
          6,
          6.1,
          7.7,
          7.7,
          7.7,
          4.1,
          8,
          8,
          5.8,
          5.8,
          8.6,
          8.6,
          8.6,
          5,
          7,
          7,
          7,
          7,
          5,
          5,
          5,
          5,
          6.2,
          6.2,
          6.2,
          6.2,
          6.9,
          6.9,
          6.9,
          6.9,
          6.9,
          6.9,
          4.5,
          7.2,
          7.2,
          7.2,
          8.5,
          8.5,
          8.5,
          6.1,
          6.1,
          6.1,
          6.9,
          6.9,
          6.9,
          7.6,
          3.8,
          6.2,
          6.2,
          7.7,
          7.7,
          7.7,
          5.8,
          5.8,
          5.8,
          5.8,
          5.8,
          8.5,
          8.5,
          8.5,
          5.7,
          5.7,
          6.4,
          6.4,
          5.4,
          5.4,
          5.4,
          6.9,
          6.9,
          6.9,
          6.9,
          6.9,
          5.2,
          5.2,
          5.8,
          5.8,
          7.3,
          7.3,
          7.3,
          7.3,
          7.3,
          7.1,
          7.1,
          7.1,
          7.1,
          5.5,
          5.5,
          5.5,
          5.5,
          5.5,
          7.3,
          7.3,
          7.3,
          8,
          8,
          8,
          7.4,
          7.4,
          4.8,
          4.8,
          4.8,
          4.8,
          7.1,
          7.1,
          7.1,
          7.1,
          7.1,
          5.5,
          5.5,
          5.7,
          5.7,
          5.7,
          6.2,
          6.2,
          6.2,
          6.2,
          6.7,
          6.7,
          6.7,
          6.7,
          5.3,
          5.3,
          5.3,
          5.3,
          4.4,
          4.4,
          4.4,
          7.5,
          7.5,
          5,
          5,
          5.6,
          3.1,
          6.6,
          6.6,
          7.5,
          5.1,
          7,
          7,
          7,
          6.6,
          7,
          6.8,
          6.8,
          6.9,
          6.9,
          6.9,
          7.9,
          7.9,
          7.9,
          5.3,
          5.3,
          7.3,
          7.3,
          7.3,
          3.6,
          3.6,
          3.6,
          3.6,
          8.7,
          8.7,
          6.5,
          4.3,
          4.3,
          8.3,
          8.3,
          3.8,
          3.8,
          3.8,
          7.7,
          7.7,
          7.7,
          7.7,
          3.6,
          6,
          7.1,
          7.1,
          7.1,
          7.1,
          4.8,
          4.8,
          4.8,
          8,
          8,
          8,
          8,
          4.8,
          9,
          9,
          7.1,
          7.1,
          7.1,
          5.8,
          5.8,
          4.9,
          4.9,
          4.9,
          6.1,
          6.1,
          5.5,
          6,
          6,
          6,
          8.1,
          8.1,
          7.5,
          7.5,
          7.5,
          7.5,
          7.5,
          4.9,
          4.9,
          7.5,
          7.5,
          7.5,
          7.5,
          7.5,
          6.5,
          6.5,
          6.5,
          4.6,
          6.3,
          6.8,
          6.8,
          6.1,
          6.1,
          6.1,
          5.7,
          5.7,
          4.8,
          8.5,
          8.5,
          8.5,
          7.4,
          7.4,
          6.9,
          6.9,
          6.5,
          6.5,
          6.5,
          7.9,
          7.9,
          7.9,
          7.9,
          7.9,
          6.1,
          6.1,
          6.1,
          5,
          5,
          5,
          2.6,
          2.6,
          5.1,
          5.1,
          5.1,
          5.1,
          5.1,
          6.4,
          6.4,
          6.4,
          6.4,
          6.4,
          6.4,
          4.1,
          5.7,
          5.7,
          5.7,
          6,
          3.3,
          3.3,
          3.3,
          5.9,
          6.9,
          6.9,
          6.9,
          7.5,
          7.5,
          7.5,
          5.8,
          8.8,
          8.7,
          8.7,
          8.7,
          7.6,
          7.6,
          7.6,
          7.6,
          7.6,
          7.6,
          9,
          6.6,
          6.6,
          6.6,
          5.5,
          5.5,
          8.9,
          7.7,
          7.7,
          7.2,
          7.2,
          7.2,
          7.2,
          6.5,
          3.5,
          5,
          5,
          5,
          6.5,
          6.5,
          6.5,
          4.2,
          4.2,
          4.2,
          7.5,
          7.5,
          5.1,
          5.1,
          5.1,
          5.1,
          0,
          6.9,
          6.9,
          6.9,
          5.5,
          5.5,
          5.5,
          5.8,
          8,
          8,
          8,
          6.2,
          6.2,
          7.7,
          7.7,
          7.7,
          7.7,
          7.7,
          7.7,
          6.3,
          6.3,
          8.2,
          7,
          7,
          7,
          7.9,
          7.9,
          7.9,
          7.5,
          7.5,
          6.9,
          6.9,
          6.9,
          6.4,
          6.4,
          7.6,
          7.6,
          7.6,
          5.7,
          5.7,
          5.7,
          5.7,
          6.7,
          6.7,
          6.7,
          5.7,
          3.8,
          3.8,
          3.8,
          3.8,
          6.9,
          6.9,
          6.9,
          7.1,
          7.1,
          7.5,
          7.5,
          7.5,
          8.1,
          8.1,
          8.1,
          6.3,
          6.3,
          6.3,
          6.7,
          6.7,
          6.7,
          6.1,
          4.8,
          4.8,
          4.8,
          5.8,
          5.8,
          5.8,
          5.8,
          5.8,
          5.9,
          5.9,
          8.2,
          6.6,
          6.6,
          6.9,
          6.9,
          6.9,
          6.9,
          6.9,
          6.2,
          6.2,
          6.8,
          8.5,
          8.5,
          6.4,
          6.4,
          6.4,
          3.5,
          5.6,
          5.6,
          5.6,
          7,
          7,
          7,
          7,
          6.5,
          6.5,
          7.6,
          7.6,
          7.6,
          7.6,
          7.6,
          6.2,
          6.2,
          7.6,
          6.8,
          6.8,
          6.8,
          6.1,
          6.1,
          6.1,
          6.1,
          8.9,
          6,
          7.1,
          0,
          6.8,
          6.8,
          8.1,
          8.1,
          8.1,
          8.1,
          8.1,
          8.1,
          8.1,
          8.1,
          6.8,
          6.8,
          7.1,
          7.1,
          7.1,
          4.7,
          4.7,
          3.8,
          3.8,
          8.5,
          8.5,
          8.5,
          7.1,
          7.1,
          7.1,
          7.1,
          7.1,
          7,
          7,
          7,
          7,
          7,
          6.9,
          2.9,
          2.9,
          4.9,
          4.9,
          6.9,
          6.9,
          6.9,
          8.4,
          8.4,
          8.4,
          8.4,
          6,
          6,
          6,
          6,
          4.7,
          4.7,
          4.7,
          4.7,
          4.7,
          7.4,
          7.4,
          7.4,
          6.5,
          6.5,
          6.5,
          6.5,
          6.4,
          6.4,
          7,
          7,
          7,
          7,
          6.7,
          6.7,
          6.4,
          8,
          8,
          4.3,
          4.3,
          4.3,
          8.3,
          8.3,
          8.3,
          6.9,
          6.9,
          6.9,
          7.2,
          7.2,
          4.5,
          5.6,
          5.6,
          5.6,
          7,
          7,
          7,
          7.8,
          6.8,
          6.3,
          6.3,
          6.1,
          6.1,
          6.1,
          7.3,
          4.8,
          6.5,
          6.5,
          6.5,
          6.5,
          6.5,
          7.5,
          7.5,
          5.3,
          8,
          5.3,
          5.6,
          5.6,
          5.6,
          7.3,
          7.3,
          8.1,
          8.1,
          8.1,
          8.1,
          5.3,
          5.3,
          5.3,
          5.9,
          5.9,
          4.5,
          4.5,
          6,
          6,
          6,
          6.9,
          6.9,
          6.9,
          6.9,
          6.9,
          6.9,
          6.9,
          6.9,
          7.4,
          7.4,
          7.4,
          6.5,
          6.5,
          6.5,
          5.7,
          5.7,
          5,
          5,
          5,
          5,
          5,
          6.2,
          6.2,
          7.5,
          7.5,
          7.5,
          7.5,
          7.5,
          7.5,
          8.2,
          8.2,
          6.1,
          6.1,
          4.6,
          7,
          7,
          7,
          6.2,
          6.2,
          6.2,
          6.2,
          6.2,
          6.2,
          6.2,
          6.3,
          6,
          6,
          5.7,
          5.7,
          5.7,
          5.7,
          4.7,
          4.7,
          6,
          6,
          8.2,
          8.2,
          6,
          6,
          6,
          8.2,
          8.2,
          5,
          5,
          5,
          6.8,
          6.8,
          6.8,
          6.8,
          6.9,
          6.9,
          6.9,
          6.9,
          5.2,
          5.2,
          6.5,
          6.5,
          6.5,
          7.2,
          7.2,
          7.2,
          7.2,
          3.8,
          7.2,
          7.2,
          7.2,
          7.2,
          7.2,
          6.4,
          6.4,
          6.4,
          7.1,
          7.1,
          7.1,
          6,
          6,
          6,
          7.2,
          7.2,
          7.2,
          8.1,
          6.6,
          6.6,
          6.6,
          6.6,
          8.2,
          7,
          7,
          7,
          3.8,
          3.8,
          3.8,
          4.2,
          7.2,
          7.2,
          7.2,
          7.2,
          7.2,
          6.4,
          6.4,
          6.4,
          5.7,
          8.3,
          8.3,
          8.3,
          4.9,
          4.9,
          6.4,
          6.4,
          6.4,
          6.4,
          4.2,
          7,
          7,
          7,
          6.9,
          6.9,
          7.9,
          7.9,
          7.9,
          7.9,
          7.9,
          3.6,
          3.6,
          3.6,
          7.4,
          7.4,
          7.4,
          6.8,
          6.8,
          3.5,
          7.6,
          2.5,
          7.1,
          5.9,
          5.9,
          5.9,
          8.1,
          6.3,
          6.3,
          7.1,
          7.1,
          4.3,
          6.6,
          6.6,
          6.6,
          6.6,
          6.6,
          6.6,
          6.7,
          6.7,
          6.7,
          6.7,
          5,
          5.5,
          5.5,
          7.7,
          7.7,
          4,
          4,
          4
         ]
        },
        {
         "mode": "text",
         "showlegend": false,
         "text": [
          "IMDB Median MV",
          "Site Ratings Median MV"
         ],
         "type": "scatter",
         "x": [
          5.8999999999999995,
          7.7
         ],
         "y": [
          300,
          299
         ]
        }
       ],
       "layout": {
        "shapes": [
         {
          "line": {
           "dash": "dot",
           "width": 4
          },
          "type": "line",
          "x0": 6.8,
          "x1": 6.8,
          "y0": 0,
          "y1": 350
         },
         {
          "line": {
           "color": "LightSeaGreen",
           "dash": "dashdot",
           "width": 4
          },
          "type": "line",
          "x0": 6.7,
          "x1": 6.7,
          "y0": 0,
          "y1": 350
         }
        ],
        "template": {
         "data": {
          "bar": [
           {
            "error_x": {
             "color": "#2a3f5f"
            },
            "error_y": {
             "color": "#2a3f5f"
            },
            "marker": {
             "line": {
              "color": "#E5ECF6",
              "width": 0.5
             }
            },
            "type": "bar"
           }
          ],
          "barpolar": [
           {
            "marker": {
             "line": {
              "color": "#E5ECF6",
              "width": 0.5
             }
            },
            "type": "barpolar"
           }
          ],
          "carpet": [
           {
            "aaxis": {
             "endlinecolor": "#2a3f5f",
             "gridcolor": "white",
             "linecolor": "white",
             "minorgridcolor": "white",
             "startlinecolor": "#2a3f5f"
            },
            "baxis": {
             "endlinecolor": "#2a3f5f",
             "gridcolor": "white",
             "linecolor": "white",
             "minorgridcolor": "white",
             "startlinecolor": "#2a3f5f"
            },
            "type": "carpet"
           }
          ],
          "choropleth": [
           {
            "colorbar": {
             "outlinewidth": 0,
             "ticks": ""
            },
            "type": "choropleth"
           }
          ],
          "contour": [
           {
            "colorbar": {
             "outlinewidth": 0,
             "ticks": ""
            },
            "colorscale": [
             [
              0,
              "#0d0887"
             ],
             [
              0.1111111111111111,
              "#46039f"
             ],
             [
              0.2222222222222222,
              "#7201a8"
             ],
             [
              0.3333333333333333,
              "#9c179e"
             ],
             [
              0.4444444444444444,
              "#bd3786"
             ],
             [
              0.5555555555555556,
              "#d8576b"
             ],
             [
              0.6666666666666666,
              "#ed7953"
             ],
             [
              0.7777777777777778,
              "#fb9f3a"
             ],
             [
              0.8888888888888888,
              "#fdca26"
             ],
             [
              1,
              "#f0f921"
             ]
            ],
            "type": "contour"
           }
          ],
          "contourcarpet": [
           {
            "colorbar": {
             "outlinewidth": 0,
             "ticks": ""
            },
            "type": "contourcarpet"
           }
          ],
          "heatmap": [
           {
            "colorbar": {
             "outlinewidth": 0,
             "ticks": ""
            },
            "colorscale": [
             [
              0,
              "#0d0887"
             ],
             [
              0.1111111111111111,
              "#46039f"
             ],
             [
              0.2222222222222222,
              "#7201a8"
             ],
             [
              0.3333333333333333,
              "#9c179e"
             ],
             [
              0.4444444444444444,
              "#bd3786"
             ],
             [
              0.5555555555555556,
              "#d8576b"
             ],
             [
              0.6666666666666666,
              "#ed7953"
             ],
             [
              0.7777777777777778,
              "#fb9f3a"
             ],
             [
              0.8888888888888888,
              "#fdca26"
             ],
             [
              1,
              "#f0f921"
             ]
            ],
            "type": "heatmap"
           }
          ],
          "heatmapgl": [
           {
            "colorbar": {
             "outlinewidth": 0,
             "ticks": ""
            },
            "colorscale": [
             [
              0,
              "#0d0887"
             ],
             [
              0.1111111111111111,
              "#46039f"
             ],
             [
              0.2222222222222222,
              "#7201a8"
             ],
             [
              0.3333333333333333,
              "#9c179e"
             ],
             [
              0.4444444444444444,
              "#bd3786"
             ],
             [
              0.5555555555555556,
              "#d8576b"
             ],
             [
              0.6666666666666666,
              "#ed7953"
             ],
             [
              0.7777777777777778,
              "#fb9f3a"
             ],
             [
              0.8888888888888888,
              "#fdca26"
             ],
             [
              1,
              "#f0f921"
             ]
            ],
            "type": "heatmapgl"
           }
          ],
          "histogram": [
           {
            "marker": {
             "colorbar": {
              "outlinewidth": 0,
              "ticks": ""
             }
            },
            "type": "histogram"
           }
          ],
          "histogram2d": [
           {
            "colorbar": {
             "outlinewidth": 0,
             "ticks": ""
            },
            "colorscale": [
             [
              0,
              "#0d0887"
             ],
             [
              0.1111111111111111,
              "#46039f"
             ],
             [
              0.2222222222222222,
              "#7201a8"
             ],
             [
              0.3333333333333333,
              "#9c179e"
             ],
             [
              0.4444444444444444,
              "#bd3786"
             ],
             [
              0.5555555555555556,
              "#d8576b"
             ],
             [
              0.6666666666666666,
              "#ed7953"
             ],
             [
              0.7777777777777778,
              "#fb9f3a"
             ],
             [
              0.8888888888888888,
              "#fdca26"
             ],
             [
              1,
              "#f0f921"
             ]
            ],
            "type": "histogram2d"
           }
          ],
          "histogram2dcontour": [
           {
            "colorbar": {
             "outlinewidth": 0,
             "ticks": ""
            },
            "colorscale": [
             [
              0,
              "#0d0887"
             ],
             [
              0.1111111111111111,
              "#46039f"
             ],
             [
              0.2222222222222222,
              "#7201a8"
             ],
             [
              0.3333333333333333,
              "#9c179e"
             ],
             [
              0.4444444444444444,
              "#bd3786"
             ],
             [
              0.5555555555555556,
              "#d8576b"
             ],
             [
              0.6666666666666666,
              "#ed7953"
             ],
             [
              0.7777777777777778,
              "#fb9f3a"
             ],
             [
              0.8888888888888888,
              "#fdca26"
             ],
             [
              1,
              "#f0f921"
             ]
            ],
            "type": "histogram2dcontour"
           }
          ],
          "mesh3d": [
           {
            "colorbar": {
             "outlinewidth": 0,
             "ticks": ""
            },
            "type": "mesh3d"
           }
          ],
          "parcoords": [
           {
            "line": {
             "colorbar": {
              "outlinewidth": 0,
              "ticks": ""
             }
            },
            "type": "parcoords"
           }
          ],
          "pie": [
           {
            "automargin": true,
            "type": "pie"
           }
          ],
          "scatter": [
           {
            "marker": {
             "colorbar": {
              "outlinewidth": 0,
              "ticks": ""
             }
            },
            "type": "scatter"
           }
          ],
          "scatter3d": [
           {
            "line": {
             "colorbar": {
              "outlinewidth": 0,
              "ticks": ""
             }
            },
            "marker": {
             "colorbar": {
              "outlinewidth": 0,
              "ticks": ""
             }
            },
            "type": "scatter3d"
           }
          ],
          "scattercarpet": [
           {
            "marker": {
             "colorbar": {
              "outlinewidth": 0,
              "ticks": ""
             }
            },
            "type": "scattercarpet"
           }
          ],
          "scattergeo": [
           {
            "marker": {
             "colorbar": {
              "outlinewidth": 0,
              "ticks": ""
             }
            },
            "type": "scattergeo"
           }
          ],
          "scattergl": [
           {
            "marker": {
             "colorbar": {
              "outlinewidth": 0,
              "ticks": ""
             }
            },
            "type": "scattergl"
           }
          ],
          "scattermapbox": [
           {
            "marker": {
             "colorbar": {
              "outlinewidth": 0,
              "ticks": ""
             }
            },
            "type": "scattermapbox"
           }
          ],
          "scatterpolar": [
           {
            "marker": {
             "colorbar": {
              "outlinewidth": 0,
              "ticks": ""
             }
            },
            "type": "scatterpolar"
           }
          ],
          "scatterpolargl": [
           {
            "marker": {
             "colorbar": {
              "outlinewidth": 0,
              "ticks": ""
             }
            },
            "type": "scatterpolargl"
           }
          ],
          "scatterternary": [
           {
            "marker": {
             "colorbar": {
              "outlinewidth": 0,
              "ticks": ""
             }
            },
            "type": "scatterternary"
           }
          ],
          "surface": [
           {
            "colorbar": {
             "outlinewidth": 0,
             "ticks": ""
            },
            "colorscale": [
             [
              0,
              "#0d0887"
             ],
             [
              0.1111111111111111,
              "#46039f"
             ],
             [
              0.2222222222222222,
              "#7201a8"
             ],
             [
              0.3333333333333333,
              "#9c179e"
             ],
             [
              0.4444444444444444,
              "#bd3786"
             ],
             [
              0.5555555555555556,
              "#d8576b"
             ],
             [
              0.6666666666666666,
              "#ed7953"
             ],
             [
              0.7777777777777778,
              "#fb9f3a"
             ],
             [
              0.8888888888888888,
              "#fdca26"
             ],
             [
              1,
              "#f0f921"
             ]
            ],
            "type": "surface"
           }
          ],
          "table": [
           {
            "cells": {
             "fill": {
              "color": "#EBF0F8"
             },
             "line": {
              "color": "white"
             }
            },
            "header": {
             "fill": {
              "color": "#C8D4E3"
             },
             "line": {
              "color": "white"
             }
            },
            "type": "table"
           }
          ]
         },
         "layout": {
          "annotationdefaults": {
           "arrowcolor": "#2a3f5f",
           "arrowhead": 0,
           "arrowwidth": 1
          },
          "coloraxis": {
           "colorbar": {
            "outlinewidth": 0,
            "ticks": ""
           }
          },
          "colorscale": {
           "diverging": [
            [
             0,
             "#8e0152"
            ],
            [
             0.1,
             "#c51b7d"
            ],
            [
             0.2,
             "#de77ae"
            ],
            [
             0.3,
             "#f1b6da"
            ],
            [
             0.4,
             "#fde0ef"
            ],
            [
             0.5,
             "#f7f7f7"
            ],
            [
             0.6,
             "#e6f5d0"
            ],
            [
             0.7,
             "#b8e186"
            ],
            [
             0.8,
             "#7fbc41"
            ],
            [
             0.9,
             "#4d9221"
            ],
            [
             1,
             "#276419"
            ]
           ],
           "sequential": [
            [
             0,
             "#0d0887"
            ],
            [
             0.1111111111111111,
             "#46039f"
            ],
            [
             0.2222222222222222,
             "#7201a8"
            ],
            [
             0.3333333333333333,
             "#9c179e"
            ],
            [
             0.4444444444444444,
             "#bd3786"
            ],
            [
             0.5555555555555556,
             "#d8576b"
            ],
            [
             0.6666666666666666,
             "#ed7953"
            ],
            [
             0.7777777777777778,
             "#fb9f3a"
            ],
            [
             0.8888888888888888,
             "#fdca26"
            ],
            [
             1,
             "#f0f921"
            ]
           ],
           "sequentialminus": [
            [
             0,
             "#0d0887"
            ],
            [
             0.1111111111111111,
             "#46039f"
            ],
            [
             0.2222222222222222,
             "#7201a8"
            ],
            [
             0.3333333333333333,
             "#9c179e"
            ],
            [
             0.4444444444444444,
             "#bd3786"
            ],
            [
             0.5555555555555556,
             "#d8576b"
            ],
            [
             0.6666666666666666,
             "#ed7953"
            ],
            [
             0.7777777777777778,
             "#fb9f3a"
            ],
            [
             0.8888888888888888,
             "#fdca26"
            ],
            [
             1,
             "#f0f921"
            ]
           ]
          },
          "colorway": [
           "#636efa",
           "#EF553B",
           "#00cc96",
           "#ab63fa",
           "#FFA15A",
           "#19d3f3",
           "#FF6692",
           "#B6E880",
           "#FF97FF",
           "#FECB52"
          ],
          "font": {
           "color": "#2a3f5f"
          },
          "geo": {
           "bgcolor": "white",
           "lakecolor": "white",
           "landcolor": "#E5ECF6",
           "showlakes": true,
           "showland": true,
           "subunitcolor": "white"
          },
          "hoverlabel": {
           "align": "left"
          },
          "hovermode": "closest",
          "mapbox": {
           "style": "light"
          },
          "paper_bgcolor": "white",
          "plot_bgcolor": "#E5ECF6",
          "polar": {
           "angularaxis": {
            "gridcolor": "white",
            "linecolor": "white",
            "ticks": ""
           },
           "bgcolor": "#E5ECF6",
           "radialaxis": {
            "gridcolor": "white",
            "linecolor": "white",
            "ticks": ""
           }
          },
          "scene": {
           "xaxis": {
            "backgroundcolor": "#E5ECF6",
            "gridcolor": "white",
            "gridwidth": 2,
            "linecolor": "white",
            "showbackground": true,
            "ticks": "",
            "zerolinecolor": "white"
           },
           "yaxis": {
            "backgroundcolor": "#E5ECF6",
            "gridcolor": "white",
            "gridwidth": 2,
            "linecolor": "white",
            "showbackground": true,
            "ticks": "",
            "zerolinecolor": "white"
           },
           "zaxis": {
            "backgroundcolor": "#E5ECF6",
            "gridcolor": "white",
            "gridwidth": 2,
            "linecolor": "white",
            "showbackground": true,
            "ticks": "",
            "zerolinecolor": "white"
           }
          },
          "shapedefaults": {
           "line": {
            "color": "#2a3f5f"
           }
          },
          "ternary": {
           "aaxis": {
            "gridcolor": "white",
            "linecolor": "white",
            "ticks": ""
           },
           "baxis": {
            "gridcolor": "white",
            "linecolor": "white",
            "ticks": ""
           },
           "bgcolor": "#E5ECF6",
           "caxis": {
            "gridcolor": "white",
            "linecolor": "white",
            "ticks": ""
           }
          },
          "title": {
           "x": 0.05
          },
          "xaxis": {
           "automargin": true,
           "gridcolor": "white",
           "linecolor": "white",
           "ticks": "",
           "title": {
            "standoff": 15
           },
           "zerolinecolor": "white",
           "zerolinewidth": 2
          },
          "yaxis": {
           "automargin": true,
           "gridcolor": "white",
           "linecolor": "white",
           "ticks": "",
           "title": {
            "standoff": 15
           },
           "zerolinecolor": "white",
           "zerolinewidth": 2
          }
         }
        },
        "title": {
         "text": "Distribution Plot Local Ratings Vs IMDB |Movies"
        }
       }
      },
      "text/html": [
       "<div>\n",
       "        \n",
       "        \n",
       "            <div id=\"406e130f-3871-4d57-8b73-ccb46e562f52\" class=\"plotly-graph-div\" style=\"height:525px; width:100%;\"></div>\n",
       "            <script type=\"text/javascript\">\n",
       "                require([\"plotly\"], function(Plotly) {\n",
       "                    window.PLOTLYENV=window.PLOTLYENV || {};\n",
       "                    \n",
       "                if (document.getElementById(\"406e130f-3871-4d57-8b73-ccb46e562f52\")) {\n",
       "                    Plotly.newPlot(\n",
       "                        '406e130f-3871-4d57-8b73-ccb46e562f52',\n",
       "                        [{\"name\": \"Local Ratings|Movie\", \"type\": \"histogram\", \"x\": [7.1, 7.1, 7.1, 7.1, 6.2, 6.2, 6.2, 6.2, 6.7, 6.7, 6.7, 6.7, 6.1, 6.1, 6.1, 6.7, 6.7, 6.7, 6.7, 6.7, 6.3, 6.3, 6.3, 6.5, 6.5, 6.5, 6.5, 6.2, 6.2, 6.9, 6.9, 6.9, 6.9, 6.4, 6.4, 6.4, 5.7, 5.7, 5.7, 5.7, 6.8, 6.8, 6.8, 6.7, 6.7, 6.7, 6.7, 6.3, 6.3, 6.3, 6.3, 6.6, 6.6, 6.6, 6.6, 6.6, 6.0, 6.0, 6.0, 5.9, 5.9, 5.9, 5.9, 5.9, 5.9, 7.1, 7.1, 7.1, 7.1, 7.1, 7.1, 6.1, 6.1, 6.1, 6.1, 6.6, 6.6, 6.6, 6.6, 6.1, 6.1, 6.1, 6.1, 6.8, 6.8, 6.8, 6.8, 6.8, 6.1, 6.1, 6.1, 6.3, 6.3, 6.3, 6.3, 6.0, 6.0, 6.0, 6.7, 6.7, 6.7, 6.2, 6.2, 6.2, 6.2, 6.0, 6.0, 6.2, 6.8, 6.8, 6.8, 6.8, 6.8, 5.6, 5.6, 5.6, 5.5, 5.5, 5.5, 6.1, 6.1, 6.1, 6.1, 6.1, 6.5, 6.5, 6.5, 7.2, 7.2, 7.2, 7.2, 7.2, 7.2, 6.9, 6.9, 6.5, 6.5, 6.5, 6.6, 6.6, 6.6, 6.6, 6.6, 6.6, 6.5, 6.5, 6.5, 6.5, 6.2, 6.4, 6.4, 6.4, 6.4, 6.4, 7.2, 7.2, 6.2, 6.2, 6.2, 6.2, 6.6, 6.6, 6.6, 6.0, 6.0, 6.0, 6.0, 6.4, 6.4, 6.4, 6.6, 6.6, 6.6, 6.6, 6.6, 6.6, 6.2, 6.2, 6.2, 6.4, 6.4, 6.4, 6.8, 6.8, 6.8, 6.8, 6.8, 6.6, 6.6, 6.6, 6.1, 6.5, 6.5, 6.5, 6.5, 6.4, 6.4, 6.4, 6.6, 6.6, 6.6, 6.6, 6.6, 6.5, 6.5, 6.5, 6.5, 6.5, 6.2, 6.2, 6.2, 5.9, 5.9, 5.9, 5.9, 6.7, 6.7, 6.7, 6.2, 6.2, 6.2, 6.2, 6.5, 6.5, 6.5, 6.6, 6.6, 6.8, 6.8, 6.8, 6.8, 6.8, 6.8, 6.0, 6.0, 5.7, 5.7, 5.7, 5.7, 6.3, 6.3, 6.2, 6.2, 6.2, 6.3, 7.0, 7.0, 7.0, 5.8, 5.8, 5.8, 6.3, 6.3, 6.3, 6.3, 6.6, 6.6, 6.6, 6.6, 5.9, 5.9, 6.8, 6.8, 6.7, 6.7, 6.7, 6.1, 6.1, 6.9, 6.9, 6.1, 6.1, 6.1, 6.6, 6.6, 6.6, 6.6, 6.3, 6.3, 6.3, 6.3, 6.3, 6.3, 6.3, 6.2, 6.2, 6.2, 6.8, 6.8, 6.8, 6.8, 6.8, 6.7, 6.7, 6.7, 6.7, 6.7, 6.7, 5.7, 6.8, 6.8, 6.8, 6.3, 6.3, 5.9, 5.7, 5.7, 5.7, 5.7, 6.7, 6.7, 6.7, 6.7, 6.5, 6.5, 6.5, 6.5, 6.3, 6.3, 6.3, 6.2, 6.2, 6.2, 6.2, 5.6, 5.6, 5.6, 5.6, 6.4, 6.4, 6.4, 6.4, 6.4, 6.3, 6.3, 6.1, 6.1, 6.1, 6.2, 6.2, 6.2, 7.1, 7.1, 7.1, 7.1, 7.1, 6.3, 6.3, 6.3, 6.3, 6.8, 6.8, 6.3, 6.3, 6.3, 7.1, 7.1, 7.1, 6.0, 6.0, 6.0, 6.0, 6.7, 6.7, 5.4, 5.4, 5.4, 6.6, 6.6, 6.0, 6.0, 6.0, 5.6, 5.6, 5.9, 5.9, 5.9, 6.5, 6.5, 6.5, 6.1, 6.1, 6.1, 6.1, 6.2, 6.2, 6.2, 6.1, 6.1, 6.1, 6.5, 6.5, 6.5, 6.5, 6.4, 6.4, 6.4, 6.4, 6.4, 6.1, 6.1, 7.0, 7.0, 7.0, 7.0, 6.7, 6.7, 6.8, 6.8, 6.8, 6.8, 7.1, 7.1, 7.1, 5.9, 5.9, 6.3, 6.3, 6.3, 6.3, 6.9, 6.9, 6.9, 6.6, 6.6, 6.6, 6.3, 6.3, 7.2, 7.2, 7.2, 7.2, 6.2, 6.2, 6.2, 6.8, 6.8, 6.8, 6.2, 6.2, 6.0, 6.0, 6.0, 6.0, 5.7, 5.6, 5.6, 5.6, 5.6, 7.4, 7.4, 6.7, 6.7, 6.7, 6.7, 6.0, 6.0, 6.0, 5.9, 5.9, 5.9, 5.9, 6.8, 6.8, 7.1, 7.1, 6.1, 6.1, 5.7, 6.5, 6.5, 6.7, 6.7, 6.7, 6.3, 6.3, 6.3, 6.4, 6.4, 6.4, 6.6, 6.6, 6.6, 6.6, 6.7, 6.7, 6.7, 6.7, 6.2, 6.2, 6.2, 6.0, 6.0, 6.7, 6.7, 6.7, 6.7, 6.7, 6.7, 6.7, 5.9, 5.9, 5.9, 6.9, 6.9, 6.9, 6.9, 6.9, 6.6, 6.6, 6.1, 6.1, 6.1, 6.9, 6.9, 6.9, 6.5, 6.5, 6.5, 6.8, 6.8, 6.8, 6.8, 6.8, 6.9, 6.9, 6.9, 6.6, 6.6, 6.6, 5.1, 5.1, 6.5, 6.5, 6.5, 6.4, 6.4, 6.4, 6.8, 6.8, 6.8, 6.8, 6.8, 6.3, 6.3, 6.3, 6.9, 6.9, 6.9, 5.8, 5.8, 5.8, 5.8, 5.8, 6.8, 6.8, 6.8, 6.2, 6.2, 6.2, 6.2, 6.1, 6.1, 6.1, 7.3, 7.3, 5.8, 5.8, 6.7, 6.7, 6.7, 6.2, 6.2, 6.2, 6.3, 6.3, 6.3, 6.3, 7.1, 7.1, 7.1, 7.1, 6.5, 6.5, 7.0, 7.0, 7.0, 7.0, 7.0, 7.0, 6.5, 6.5, 6.5, 6.5, 5.6, 5.6, 5.6, 5.6, 6.1, 6.1, 6.1, 6.1, 6.9, 6.9, 6.9, 6.9, 6.3, 6.3, 7.1, 7.1, 5.8, 5.8, 5.8, 5.8, 6.4, 6.4, 6.4, 7.2, 7.2, 7.2, 6.9, 6.9, 6.9, 5.9, 5.9, 5.9, 5.9, 5.9, 6.2, 6.2, 6.2, 6.2, 6.2, 6.7, 6.7, 6.7, 6.7, 6.7, 6.7, 6.7, 6.7, 6.7, 6.7, 6.6, 6.6, 6.6, 6.6, 6.6, 6.8, 6.8, 6.8, 6.8, 6.8, 6.5, 6.5, 6.5, 6.4, 6.4, 6.4, 5.9, 5.9, 5.9, 5.9, 5.5, 5.5, 5.5, 5.5, 5.1, 5.1, 7.1, 6.0, 6.0, 6.0, 6.7, 6.7, 6.7, 6.7, 6.1, 6.1, 6.9, 6.9, 6.9, 6.9, 6.1, 6.1, 6.1, 7.2, 7.2, 7.2, 7.2, 6.7, 6.7, 6.7, 6.7, 5.4, 5.4, 5.4, 5.4, 5.4, 6.1, 6.1, 6.1, 6.1, 7.0, 7.0, 7.0, 6.1, 6.1, 6.1, 6.1, 7.4, 7.4, 7.4, 7.4, 5.0, 5.0, 6.4, 6.4, 6.4, 6.2, 6.2, 7.1, 7.1, 7.1, 7.1, 7.1, 7.2, 7.2, 7.2, 7.2, 6.1, 6.1, 6.1, 7.1, 7.1, 6.8, 6.8, 6.8, 6.8, 7.7, 7.7, 7.7, 7.7, 7.7, 7.7, 6.2, 6.2, 6.0, 6.0, 6.0, 6.1, 6.7, 6.7, 6.7, 6.7, 5.9, 5.9, 6.6, 6.6, 6.6, 6.6, 6.3, 6.3, 6.3, 6.4, 7.0, 7.0, 7.0, 7.0, 7.0, 6.6, 6.6, 6.6, 6.1, 6.1, 6.1, 6.1, 7.2, 7.2, 7.2, 7.1, 7.1, 7.1, 6.4, 6.4, 6.4, 6.4, 6.4, 6.7, 6.8, 6.8, 6.8, 6.4, 6.4, 6.4, 7.2, 7.2, 7.2, 6.9, 6.9, 7.4, 7.4, 7.4, 6.5, 6.5, 6.5, 6.5, 7.3, 7.3, 7.3, 7.3, 6.2, 6.2, 7.4, 7.4, 6.2, 6.2, 6.2, 6.3, 6.3, 6.3, 6.3, 6.3, 6.2, 6.2, 6.2, 4.7, 7.1, 7.1, 7.1, 7.0, 7.0, 7.0, 7.0, 7.0, 6.0, 6.0, 5.7, 5.7, 5.7, 5.7, 7.5, 7.5, 7.5, 7.5, 6.3, 6.3, 6.3, 6.5, 6.5, 6.2, 6.2, 6.2, 6.2, 6.2, 6.2, 6.2, 7.1, 7.1, 6.2, 6.2, 6.2, 5.4, 5.4, 6.8, 6.8, 6.8, 7.7, 7.7, 7.7, 7.3, 7.3, 7.3, 7.2, 7.2, 7.2, 5.2, 5.2, 7.0, 7.0, 7.0, 7.0, 7.1, 7.1, 6.7, 6.7, 6.2, 6.2, 6.4, 6.7, 6.7, 6.7, 6.7, 6.7, 6.8, 6.8, 6.8, 6.8, 6.6, 6.6, 7.2, 7.2, 7.2, 7.3, 7.3, 5.5, 5.5, 5.5, 6.6, 6.6, 6.6, 6.6, 6.6, 6.9, 6.9, 6.9, 6.9, 6.8, 6.8, 7.0, 7.1, 7.1, 7.1, 7.1, 7.1, 7.0, 7.0, 7.0, 7.0, 5.7, 5.7, 6.5, 6.5, 6.5, 6.5, 6.5, 6.5, 6.5, 6.5, 6.5, 6.1, 6.1, 6.1, 7.1, 7.1, 7.1, 7.1, 7.1, 6.8, 6.8, 6.9, 6.9, 6.9, 6.9, 6.8, 6.8, 6.8, 6.8, 7.1, 7.1, 7.1, 7.1, 7.1, 6.8, 6.8, 6.8, 6.8, 6.8, 6.8, 5.8, 5.8, 5.8, 5.8, 6.5, 6.8, 6.8, 6.8, 6.0, 6.0, 6.0, 6.0, 6.0, 6.0, 6.0, 6.3, 6.3, 6.3, 6.3, 6.2, 6.1, 6.1, 6.1, 7.0, 7.0, 7.0, 6.9, 6.9, 6.9, 6.3, 6.2, 6.2, 6.2, 6.2, 6.2, 6.6, 6.6, 6.6, 6.6, 6.5, 6.5, 7.0, 7.0, 7.0, 7.0, 6.8, 6.8, 6.8, 6.8, 6.8, 6.1, 6.1, 6.1, 6.5, 6.5, 6.5, 6.5, 6.5, 6.5, 6.5, 6.5, 6.1, 6.1, 6.1, 6.8, 6.8, 6.8, 7.0, 7.0, 7.0, 6.8, 6.9, 6.8, 6.8, 6.5, 6.5, 6.5, 6.5, 7.4, 7.4, 7.4, 7.4, 7.4, 7.4, 7.4, 6.5, 6.5, 6.5, 6.5, 6.5, 6.7, 6.7, 6.7, 7.6, 7.6, 7.6, 7.6, 5.9, 5.9, 5.9, 6.6, 6.6, 6.6, 6.6, 6.2, 6.2, 6.2, 6.2, 6.9, 6.9, 6.9, 7.4, 7.4, 7.4, 7.6, 7.6, 6.7, 6.7, 6.7, 6.7, 6.7, 6.7, 6.7, 6.7, 6.5, 6.8, 6.8, 6.8, 6.8, 6.9, 6.9, 6.2, 6.2, 6.2, 6.2, 6.2, 6.2, 6.9, 6.9, 6.9, 6.9, 6.9, 6.9, 6.9, 6.0, 6.0, 6.0, 6.0, 6.9, 6.9, 6.9, 6.2, 6.2, 6.2, 6.6, 6.6, 6.6, 6.6, 6.6, 6.9, 6.9, 6.9, 6.9, 6.9, 6.4, 6.4, 6.2, 6.6, 6.6, 6.7, 6.7, 6.9, 6.9, 6.9, 6.7, 6.7, 6.7, 7.0, 7.0, 7.0, 7.0, 7.0, 6.5, 6.5, 7.1, 7.1, 7.1, 7.1, 6.7, 6.7, 6.7, 5.2, 6.9, 6.9, 6.9, 6.9, 6.9, 5.8, 5.8, 5.8, 6.5, 6.5, 6.5, 7.6, 7.6, 7.6, 6.4, 5.7, 5.7, 5.7, 6.4, 6.4, 6.4, 6.4, 6.4, 7.9, 7.9, 7.9, 6.5, 6.5, 6.5, 6.5, 6.5, 6.6, 6.6, 6.9, 6.9, 6.9, 7.4, 6.4, 6.6, 6.6, 6.6, 7.2, 7.2, 6.8, 6.9, 6.9, 6.9, 7.0, 7.0, 6.8, 6.8, 6.8, 6.8, 6.8, 6.6, 6.6, 6.6, 6.6, 6.8, 6.8, 6.8, 6.8, 6.8, 5.2, 5.2, 5.2, 5.2, 7.5, 7.5, 7.5, 7.5, 7.5, 7.5, 7.3, 7.3, 7.3, 7.3, 6.1, 6.1, 5.1, 5.1, 5.1, 7.3, 7.3, 7.3, 7.3, 7.3, 6.1, 6.1, 6.1, 6.1, 6.1, 7.9, 6.4, 6.4, 6.4, 6.4, 6.4, 6.4, 5.4, 7.3, 7.3, 7.3, 7.3, 7.3, 7.3, 7.3, 7.3, 7.3, 7.3, 6.2, 6.2, 6.2, 6.7, 6.7, 6.7, 6.9, 6.9, 6.9, 6.4, 6.4, 6.4, 6.4, 7.1, 7.1, 6.1, 6.3, 6.3, 6.3, 6.3, 6.3, 6.7, 6.7, 6.7, 6.7, 6.7, 6.7, 6.7, 6.7, 6.7, 6.7, 6.7, 6.7, 6.7, 6.7, 7.2, 7.2, 7.2, 7.2, 7.2, 7.8, 7.8, 7.1, 7.1, 7.1, 7.1, 7.1, 6.6, 6.6, 6.6, 6.6, 6.4, 6.4, 6.4, 6.3, 6.3, 6.3, 6.3, 7.1, 7.1, 7.1, 7.2, 7.2, 7.2, 7.2, 6.6, 6.6, 6.0, 6.7, 6.7, 7.1, 7.1, 7.1, 7.1, 7.1, 7.1, 7.1, 7.0, 7.0, 7.0, 7.0, 7.0, 7.0, 6.8, 6.8, 5.9, 5.9, 5.6, 6.9, 6.9, 6.9, 6.9, 6.9, 6.4, 6.4, 6.4, 6.4, 7.1, 7.1, 7.1, 7.1, 6.5, 6.5, 6.5, 6.8, 6.8, 6.8, 6.7, 6.7, 6.7, 6.7, 5.5, 5.5, 5.5, 5.5, 6.6, 6.6, 6.6, 6.6, 6.6, 7.1, 7.1, 7.1, 7.1, 7.1, 6.5, 6.5, 6.5, 6.5, 5.5, 6.8, 6.8, 6.8, 6.8, 6.8, 6.8, 6.5, 6.5, 6.7, 6.7, 6.7, 6.7, 6.7, 7.2, 7.2, 7.2, 7.2, 7.2, 5.8, 5.8, 5.8, 5.8, 5.8, 5.8, 7.0, 7.0, 7.0, 7.0, 6.9, 6.9, 6.3, 6.3, 6.3, 6.3, 6.3, 6.3, 6.3, 6.6, 6.6, 7.1, 7.6, 7.6, 7.2, 7.2, 6.7, 6.7, 6.7, 6.7, 7.0, 7.0, 7.0, 7.1, 7.1, 7.1, 7.1, 7.1, 7.1, 7.1, 7.1, 7.1, 6.9, 6.9, 8.3, 8.3, 8.3, 8.3, 8.3, 6.2, 6.2, 6.2, 6.2, 6.2, 6.9, 6.9, 6.9, 6.3, 6.3, 6.9, 6.9, 6.9, 6.1, 6.1, 6.1, 6.9, 6.9, 6.8, 6.8, 6.8, 6.8, 7.0, 7.0, 7.7, 7.7, 7.1, 7.1, 6.6, 6.6, 6.6, 7.0, 7.0, 7.4, 7.4, 7.4, 7.4, 7.4, 6.6, 6.6, 6.6, 7.2, 7.2, 7.2, 7.2, 7.2, 7.7, 7.7, 7.7, 7.7, 7.7, 6.7, 6.7, 6.7, 6.7, 6.6, 6.1, 6.1, 6.1, 6.1, 6.1, 5.9, 5.9, 5.9, 6.8, 6.8, 6.8, 6.5, 6.5, 6.5, 6.5, 7.2, 7.2, 7.2, 7.2, 7.0, 7.0, 7.0, 7.0, 7.2, 7.2, 7.2, 6.9, 6.9, 6.9, 6.9, 6.0, 6.0, 6.5, 7.1, 7.1, 5.9, 5.9, 5.9, 6.7, 6.7, 6.7, 5.8, 6.7, 7.0, 7.0, 7.0, 7.0, 7.0, 6.7, 6.7, 6.7, 6.6, 6.6, 7.6, 7.6, 5.2, 7.2, 7.2, 7.2, 7.2, 6.8, 6.3, 6.3, 6.3, 6.3, 7.2, 7.2, 7.2, 7.2, 7.2, 7.2, 6.8, 6.8, 6.8, 6.8, 5.9, 5.9, 5.9, 5.9, 5.9, 5.9, 5.9, 7.1, 7.1, 6.6, 6.6, 6.6, 7.0, 7.0, 7.0, 7.0, 7.0, 6.7, 6.7, 6.1, 6.1, 6.1, 6.1, 6.1, 6.1, 6.1, 6.5, 6.5, 6.5, 6.2, 6.2, 6.2, 6.6, 7.0, 7.0, 7.0, 7.0, 7.2, 7.2, 7.2, 7.2, 6.5, 6.5, 6.5, 6.5, 6.5, 6.5, 6.5, 7.2, 7.1, 7.1, 7.1, 7.1, 7.2, 7.2, 7.2, 7.2, 7.2, 7.2, 6.6, 6.7, 6.7, 6.7, 7.5, 7.5, 6.6, 6.6, 6.6, 6.0, 6.0, 7.4, 7.4, 7.4, 5.9, 5.9, 5.9, 5.9, 5.9, 6.7, 6.7, 6.6, 6.6, 6.6, 6.6, 6.6, 6.6, 6.6, 6.6, 6.6, 6.3, 6.3, 6.4, 6.4, 6.4, 7.1, 7.1, 6.9, 6.9, 6.9, 6.8, 6.8, 6.8, 6.8, 6.8, 6.8, 7.2, 7.2, 7.2, 7.3, 7.3, 7.3, 7.2, 7.2, 7.2, 6.5, 6.5, 6.5, 7.0, 7.0, 7.0, 7.0, 6.4, 6.4, 5.9, 7.3, 7.3, 6.8, 6.8, 6.8, 6.8, 7.1, 7.1, 7.1, 7.1, 7.4, 7.4, 5.8, 5.8, 5.8, 5.8, 5.8, 6.5, 6.8, 6.8, 6.8, 6.7, 6.7, 6.7, 7.1, 7.1, 6.8, 6.8, 6.6, 6.6, 6.6, 6.6, 6.6, 6.9, 6.9, 6.9, 6.8, 6.8, 6.8, 6.8, 6.8, 6.8, 6.8, 6.8, 7.0, 7.0, 7.0, 7.0, 7.2, 7.2, 7.2, 7.2, 7.1, 6.4, 6.4, 6.4, 6.7, 6.7, 6.7, 6.7, 6.7, 6.7, 6.9, 6.9, 6.9, 7.0, 7.0, 7.1, 6.1, 6.1, 6.1, 6.1, 6.9, 6.9, 6.9, 6.6, 6.7, 6.7, 6.7, 6.4, 6.4, 6.4, 7.3, 7.3, 7.3, 6.2, 6.2, 6.2, 6.7, 6.8, 6.8, 6.8, 6.8, 6.8, 7.1, 7.1, 6.7, 6.7, 6.7, 5.3, 7.0, 7.0, 7.0, 6.9, 6.9, 6.9, 6.9, 6.9, 6.8, 6.8, 6.8, 6.8, 6.5, 6.5, 6.5, 6.4, 6.4, 6.4, 7.5, 7.5, 6.7, 6.7, 6.5, 6.9, 6.9, 6.9, 6.2, 6.2, 6.3, 6.3, 6.3, 6.3, 6.2, 6.2, 6.2, 7.1, 6.8, 6.8, 6.8, 5.5, 6.4, 6.9, 6.9, 6.9, 6.4, 6.7, 6.7, 6.7, 5.3, 5.3, 7.0, 7.0, 7.0, 7.0, 4.9, 4.9, 4.9, 6.7, 6.7, 6.7, 6.7, 6.3, 5.9, 5.9, 5.9, 5.6, 6.2, 6.2, 6.2, 6.2, 6.2, 5.9, 5.7, 5.7, 5.7, 5.7, 5.7, 5.7, 7.1, 7.1, 7.1, 7.1, 7.5, 7.5, 7.5, 7.5, 6.5, 6.5, 6.5, 7.0, 7.0, 7.0, 7.5, 7.5, 7.5, 7.5, 7.5, 6.3, 6.3, 6.3, 6.3, 7.0, 7.0, 7.0, 6.3, 6.3, 6.1, 6.1, 7.0, 7.0, 7.2, 7.2, 7.2, 7.2, 5.7, 5.7, 5.7, 6.0, 6.0, 6.1, 7.3, 7.3, 6.3, 6.3, 6.3, 6.6, 6.6, 6.6, 6.6, 7.1, 7.1, 7.1, 7.1, 7.1, 6.8, 6.8, 6.8, 5.5, 5.5, 6.7, 6.7, 6.7, 6.4, 6.4, 6.4, 6.4, 6.4, 6.4, 5.7, 6.4, 6.4, 6.4, 6.7, 6.7, 6.7, 6.2, 6.0, 6.0, 6.0, 7.2, 7.2, 7.2, 7.2, 7.2, 7.2, 6.9, 6.9, 6.9, 6.4, 7.2, 6.8, 6.8, 7.1, 4.9, 4.9, 4.9, 4.9, 6.4, 6.6, 6.9, 6.9, 6.9, 6.9, 6.9, 7.4, 7.4, 5.8, 6.5, 6.9, 6.9, 6.9, 6.9, 6.5, 6.5, 6.5, 7.3, 7.3, 7.5, 7.5, 6.6, 6.6, 6.6, 5.7, 5.7, 5.7, 5.7, 6.3, 6.3, 6.3, 6.3, 6.3, 6.3, 7.1, 7.1, 7.1, 6.5, 6.5, 6.5, 6.5, 6.2, 6.9, 6.9, 6.9, 6.9, 6.9, 6.9, 7.2, 7.2, 7.2, 7.2, 7.2, 7.2, 6.1, 6.1, 7.1, 7.1, 7.1, 7.1, 7.1, 6.6, 6.8, 6.8, 6.8, 6.3, 6.3, 6.3, 7.1, 7.1, 7.1, 7.1, 5.9, 6.2, 6.2, 6.7, 5.9, 5.9, 5.9, 6.3, 7.1, 7.1, 7.1, 7.1, 6.3, 6.9, 6.9, 5.3, 5.6, 7.3, 6.8, 6.8, 6.4, 6.4, 6.8, 6.8, 6.6, 6.6, 6.6, 6.6, 7.2, 7.2, 7.2, 6.5, 6.5, 6.5, 6.5, 6.5, 6.4, 6.4, 6.4, 5.7, 5.7, 5.7, 5.7, 6.9, 6.9, 6.7, 6.7, 6.7, 6.7, 6.7, 6.7, 7.5, 7.5, 7.5, 6.4, 6.4, 6.4, 6.4, 6.5, 6.5, 7.5, 7.5, 7.5, 7.5, 6.2, 6.2, 6.2, 6.2, 6.2, 5.8, 6.3, 6.7, 6.7, 6.7, 7.6, 7.6, 7.6, 7.6, 7.6, 6.5, 6.5, 6.5, 6.8, 6.8, 6.8, 6.8, 6.2, 6.2, 6.2, 7.0, 7.0, 6.5, 5.9, 5.9, 5.9, 7.3, 7.3, 7.3, 7.3, 6.4, 6.4, 6.4, 6.4, 7.5, 7.0, 7.0, 6.3, 6.3, 6.3, 6.1, 6.1, 6.1, 6.1, 6.1, 6.1, 7.1, 7.1, 7.1, 6.6, 6.6, 6.6, 5.6, 5.6, 5.5, 5.5, 5.5, 5.5, 6.9, 6.4, 6.4, 6.5, 6.5, 6.5, 6.9, 6.9, 6.9, 6.8, 4.8, 4.8, 4.5, 4.5, 4.5, 4.5, 5.6, 5.6, 5.6, 7.2, 7.2, 5.8, 5.8, 6.0, 6.0, 6.0, 6.1, 6.1, 6.8, 7.4, 7.4, 7.4, 7.4, 6.1, 6.1, 6.1, 5.9, 6.4, 5.8, 6.8, 6.8, 6.8, 6.8, 6.8, 6.7, 6.7, 6.7, 7.1, 7.1, 7.1, 7.1, 6.9, 6.9, 6.9, 6.9, 5.3, 5.3, 5.3, 6.6, 6.2, 6.5, 6.5, 6.5, 7.3, 7.3, 7.3, 7.2, 7.2, 7.2, 7.2, 6.1, 6.1, 7.3, 7.4, 6.6, 6.6, 6.6, 5.4, 6.0, 6.1, 6.6, 6.6, 6.1, 6.5, 6.5, 6.5, 6.9, 6.9, 6.9, 6.9, 6.9, 6.2, 6.2, 6.5, 7.0, 7.0, 5.8, 5.8, 7.0, 7.0, 6.5, 6.5, 6.5, 6.5, 6.2, 6.5, 6.5, 6.5, 7.0, 7.0, 7.0, 7.0, 7.0, 7.0, 6.5, 6.5, 6.8, 5.8, 6.3, 6.3, 6.6, 6.6, 6.6, 7.1, 7.1, 7.1, 7.4, 7.4, 7.4, 6.8, 6.8, 6.8, 7.5, 7.5, 7.5, 7.5, 7.5, 5.6, 5.6, 5.6, 5.6, 7.5, 7.5, 7.9, 7.9, 7.9, 7.9, 7.2, 7.2, 7.2, 7.2, 6.2, 6.2, 7.4, 7.4, 6.9, 6.9, 6.9, 7.0, 7.0, 7.0, 7.0, 7.0, 6.9, 6.9, 6.9, 7.6, 7.6, 5.8, 7.0, 7.0, 7.0, 7.0, 7.4, 7.4, 7.4, 7.4, 7.4, 5.6, 5.6, 6.8, 6.8, 6.8, 6.8, 7.2, 7.2, 7.2, 6.3, 6.3, 6.3, 6.5, 6.5, 6.4, 6.4, 6.4, 6.4, 6.7, 6.1, 6.1, 6.1, 7.0, 7.0, 7.0, 7.0, 7.0, 7.3, 7.3, 7.3, 5.5, 5.5, 6.2, 6.2, 6.2, 6.2, 6.2, 7.7, 7.7, 7.4, 7.4, 7.4, 7.4, 7.2, 7.2, 6.8, 6.8, 6.8, 6.8, 6.8, 6.5, 6.5, 6.5, 7.7, 6.4, 6.4, 6.3, 6.3, 5.6, 5.6, 6.9, 7.1, 7.1, 7.1, 7.1, 6.5, 6.3, 6.3, 6.4, 6.7, 6.7, 6.7, 6.7, 6.9, 6.9, 6.9, 7.1, 7.1, 7.1, 7.1, 7.1, 7.1, 7.1, 7.1, 7.1, 6.0, 5.9, 6.0, 6.0, 6.5, 7.1, 7.1, 7.1, 7.1, 5.5, 6.6, 6.6, 7.8, 7.8, 6.7, 6.7, 6.8, 6.8, 7.5, 7.5, 7.5, 7.6, 6.3, 6.3, 6.8, 6.8, 6.8, 6.8, 6.0, 6.0, 6.0, 6.0, 6.0, 5.9, 5.9, 5.9, 5.9, 6.3, 6.8, 6.8, 6.8, 6.3, 5.7, 5.7, 6.9, 6.9, 6.5, 6.8, 7.4, 7.4, 7.4, 6.6, 7.2, 7.2, 7.2, 7.3, 7.3, 7.3, 7.0, 7.0, 7.0, 6.6, 6.6, 6.6, 6.6, 6.3, 6.3, 6.3, 6.3, 6.6, 6.6, 7.0, 7.0, 7.0, 6.4, 7.5, 7.5, 5.3, 5.3, 7.2, 7.2, 7.2, 7.4, 7.4, 7.0, 7.0, 7.0, 7.3, 7.3, 7.3, 6.1, 6.1, 6.1, 7.5, 7.5, 7.5, 6.8, 6.8, 6.8, 6.8, 6.8, 7.0, 7.0, 7.0, 7.0, 7.1, 7.1, 7.1, 6.3, 6.3, 6.5, 6.5, 6.5, 7.1, 7.1, 7.1, 7.0, 7.0, 7.0, 5.1, 6.8, 6.8, 6.8, 6.8, 6.1, 6.1, 6.1, 6.1, 6.1, 6.0, 6.0, 6.6, 6.7, 6.7, 6.7, 6.1, 6.1, 6.1, 6.1, 5.8, 5.8, 7.3, 7.3, 6.3, 6.3, 6.3, 6.4, 6.4, 6.4, 6.4, 6.6, 6.6, 6.3, 6.3, 6.5, 6.5, 6.1, 6.1, 6.1, 6.1, 7.6, 7.6, 7.6, 7.6, 7.6, 6.1, 6.1, 7.2, 7.2, 7.2, 7.4, 7.4, 7.4, 6.4, 6.4, 6.9, 6.9, 6.9, 6.8, 6.8, 5.6, 5.6, 5.6, 6.8, 6.4, 6.4, 6.4, 6.3, 5.7, 7.0, 7.1, 7.1, 7.1, 6.5, 7.5, 7.5, 7.5, 5.9, 6.2, 6.2, 6.2, 6.9, 6.7, 6.7, 7.0, 7.0, 7.0, 7.0, 7.6, 7.6, 7.6, 7.6, 7.6, 7.4, 7.4, 7.4, 7.4, 6.3, 6.3, 6.3, 6.3, 6.9, 6.9, 6.9, 6.9, 6.9, 7.3, 7.3, 6.5, 6.5, 6.5, 6.7, 6.7, 6.7, 6.7, 6.7, 6.7, 6.7, 8.2, 8.2, 8.2, 8.2, 6.7, 6.7, 6.7, 6.7, 5.9, 5.9, 6.3, 6.3, 6.7, 6.2, 6.2, 6.5, 6.5, 6.5, 5.9, 5.9, 5.9, 6.8, 6.8, 6.8, 6.8, 6.8, 7.9, 7.9, 7.9, 7.9, 6.4, 6.4, 6.4, 6.8, 6.8, 6.8, 6.5, 6.5, 6.5, 6.8, 6.8, 7.2, 7.2, 7.2, 7.2, 7.2, 7.2, 6.9, 6.9, 6.9, 6.9, 6.9, 6.9, 7.2, 7.2, 7.2, 5.4, 5.8, 5.8, 7.6, 7.6, 7.6, 7.6, 7.6, 5.6, 5.6, 5.6, 7.2, 7.2, 7.2, 7.2, 7.5, 7.5, 6.2, 7.0, 7.0, 7.0, 5.7, 5.7, 5.7, 5.7, 6.0, 6.0, 6.0, 6.9, 6.9, 5.5, 5.5, 6.7, 6.7, 6.7, 6.7, 7.7, 7.7, 7.3, 7.3, 7.3, 7.3, 7.3, 7.3, 6.6, 6.6, 7.1, 7.1, 6.8, 6.2, 6.2, 6.2, 6.2, 7.5, 7.5, 7.5, 7.5, 6.5, 6.5, 6.5, 6.5, 6.5, 6.3, 6.3, 6.3, 6.3, 6.3, 7.7, 7.7, 7.7, 7.7, 7.7, 7.1, 6.9, 6.9, 6.9, 7.1, 7.1, 7.1, 6.8, 7.2, 7.2, 7.2, 6.4, 6.4, 6.4, 6.4, 7.0, 7.0, 6.3, 5.5, 5.5, 6.9, 6.9, 6.9, 6.8, 6.8, 6.8, 7.3, 6.0, 6.0, 7.3, 7.3, 7.3, 7.3, 5.7, 5.7, 5.7, 7.0, 7.0, 7.0, 6.8, 6.8, 6.8, 5.7, 5.7, 7.1, 7.1, 7.1, 7.1, 7.1, 6.9, 6.9, 6.9, 6.9, 6.9, 7.1, 7.1, 7.1, 7.1, 7.2, 7.2, 6.7, 6.6, 6.6, 6.6, 6.6, 6.9, 6.9, 6.9, 7.6, 7.6, 6.6, 6.3, 6.3, 6.3, 6.9, 7.2, 7.2, 7.2, 7.2, 7.5, 7.5, 7.5, 7.5, 7.5, 7.5, 7.0, 7.0, 7.0, 7.6, 7.1, 7.1, 7.1, 6.6, 6.6, 6.6, 6.3, 7.1, 7.1, 7.1, 6.6, 6.6, 6.1, 6.0, 6.0, 5.6, 5.6, 7.1, 7.1, 7.1, 7.1, 7.0, 7.0, 7.0, 7.0, 7.0, 6.0, 7.1, 7.1, 7.1, 7.1, 7.1, 7.1, 7.5, 7.5, 7.5, 7.5, 5.8, 5.8, 5.8, 5.8, 7.0, 7.0, 7.0, 7.0, 7.0, 6.4, 6.4, 6.4, 6.4, 6.4, 6.9, 6.3, 6.3, 6.3, 6.3, 6.3, 6.3, 6.3, 5.9, 7.1, 7.1, 7.1, 7.1, 7.1, 6.7, 6.7, 6.7, 6.7, 7.0, 7.0, 7.0, 7.0, 7.0, 7.0, 6.2, 6.2, 6.2, 6.5, 6.5, 6.5, 6.5, 6.1, 6.1, 6.1, 6.1, 6.9, 6.9, 6.9, 6.9, 6.9, 7.5, 7.5, 7.5, 7.5, 6.7, 6.7, 6.7, 6.7, 6.9, 6.9, 6.9, 7.3, 7.3, 6.6, 6.6, 6.6, 7.7, 7.7, 7.7, 7.7, 7.7, 6.8, 6.8, 6.8, 6.8, 6.1, 6.1, 6.1, 6.1, 6.7, 6.1, 6.1, 6.1, 6.1, 7.1, 7.1, 6.8, 6.8, 7.1, 7.1, 7.1, 5.5, 7.3, 7.3, 7.3, 7.3, 5.5, 5.5, 5.5, 5.5, 7.0, 7.0, 7.0, 7.0, 7.0, 7.0, 7.0, 7.0, 7.0, 7.0, 7.1, 6.8, 6.8, 6.8, 7.5, 7.5, 7.5, 6.1, 6.1, 6.1, 7.7, 7.7, 7.7, 7.0, 5.6, 6.8, 6.8, 6.9, 6.9, 6.9, 5.1, 5.1, 5.1, 5.1, 5.1, 7.3, 7.3, 7.3, 5.7, 5.7, 6.5, 6.5, 6.3, 6.3, 6.3, 7.1, 7.1, 7.1, 7.1, 7.1, 6.5, 6.5, 6.5, 6.5, 7.0, 7.0, 7.0, 7.0, 7.0, 7.3, 7.3, 7.3, 7.3, 6.8, 6.8, 6.8, 6.8, 6.8, 7.3, 7.3, 7.3, 7.2, 7.2, 7.2, 6.9, 6.9, 6.9, 6.9, 6.9, 6.9, 7.5, 7.5, 7.4, 7.4, 7.4, 6.8, 6.8, 6.5, 6.5, 6.5, 6.7, 6.7, 6.7, 6.7, 6.5, 6.5, 6.5, 6.5, 5.5, 5.5, 5.5, 5.5, 5.4, 5.4, 5.4, 7.1, 7.1, 6.3, 6.3, 6.9, 5.9, 6.6, 6.6, 6.8, 6.5, 6.9, 6.9, 6.9, 6.6, 6.3, 6.9, 6.9, 7.2, 7.2, 7.2, 7.2, 7.2, 7.2, 6.8, 6.8, 7.0, 7.0, 7.0, 5.6, 5.6, 5.6, 5.6, 6.6, 6.6, 6.6, 7.5, 7.5, 7.1, 7.1, 5.3, 5.3, 5.3, 7.1, 7.1, 7.1, 7.1, 5.6, 7.4, 7.5, 7.5, 7.5, 7.5, 6.6, 6.6, 6.6, 7.6, 7.6, 7.6, 7.6, 6.4, 7.5, 7.5, 6.8, 6.8, 6.8, 6.8, 6.8, 6.3, 6.3, 6.3, 6.1, 6.1, 6.1, 6.3, 6.3, 6.3, 7.1, 7.1, 7.4, 7.4, 7.4, 7.4, 7.4, 6.4, 6.4, 7.3, 7.3, 7.3, 7.3, 7.3, 6.5, 6.5, 6.5, 6.2, 6.6, 6.4, 6.4, 6.3, 6.3, 6.3, 6.8, 6.8, 6.3, 7.1, 7.1, 7.1, 7.3, 7.3, 7.4, 7.4, 6.9, 6.9, 6.9, 7.1, 7.1, 7.1, 7.1, 7.1, 6.8, 6.8, 6.8, 7.0, 7.0, 7.0, 5.7, 5.7, 5.8, 5.8, 5.8, 5.8, 5.8, 6.9, 6.9, 6.4, 6.4, 6.4, 6.4, 6.2, 5.9, 5.9, 5.9, 5.3, 5.2, 5.2, 5.2, 6.4, 6.8, 6.8, 6.8, 6.5, 6.5, 6.5, 6.6, 7.9, 6.6, 6.6, 6.6, 7.4, 7.4, 7.4, 7.4, 7.4, 7.4, 7.4, 6.9, 6.9, 6.9, 6.8, 6.8, 7.9, 7.5, 7.5, 6.8, 6.8, 6.8, 6.8, 6.1, 6.0, 6.7, 6.7, 6.7, 6.4, 6.4, 6.4, 5.9, 5.9, 5.9, 7.0, 7.0, 6.3, 6.3, 6.3, 6.3, 7.0, 6.9, 6.9, 6.9, 5.7, 5.7, 5.7, 6.7, 6.2, 6.2, 6.2, 6.7, 6.7, 7.1, 7.1, 7.1, 7.1, 7.1, 7.1, 6.8, 6.8, 7.6, 6.5, 6.5, 6.5, 7.1, 7.1, 7.1, 6.9, 6.9, 6.4, 6.4, 6.4, 7.0, 7.0, 6.8, 6.8, 6.8, 6.7, 6.7, 6.7, 6.7, 6.3, 6.3, 6.3, 7.1, 6.4, 6.4, 6.4, 6.4, 6.9, 6.9, 6.9, 6.3, 6.3, 6.8, 6.8, 6.8, 7.0, 7.0, 7.0, 6.5, 6.5, 6.5, 6.8, 6.8, 6.8, 6.5, 6.1, 6.1, 6.1, 6.9, 6.9, 6.9, 6.9, 6.9, 5.3, 5.3, 6.6, 6.7, 6.7, 6.7, 6.7, 6.7, 6.6, 6.6, 6.4, 6.4, 7.5, 7.7, 7.7, 6.0, 6.0, 6.0, 7.4, 6.4, 6.4, 6.4, 7.0, 7.0, 7.0, 7.0, 7.2, 7.2, 6.8, 7.2, 7.2, 7.2, 7.2, 7.8, 7.8, 7.0, 6.9, 6.9, 6.9, 6.6, 6.6, 6.6, 6.6, 6.5, 6.2, 7.8, 5.7, 7.7, 7.7, 6.5, 6.5, 6.5, 6.5, 6.5, 6.5, 6.5, 6.5, 7.6, 7.6, 7.5, 7.5, 7.5, 6.3, 6.3, 5.5, 5.5, 7.0, 7.0, 7.0, 7.3, 7.3, 7.3, 7.3, 7.3, 7.0, 7.0, 7.0, 7.0, 7.0, 5.6, 4.9, 4.9, 6.0, 6.0, 6.6, 6.6, 6.6, 7.2, 7.2, 7.2, 7.2, 6.1, 6.1, 6.1, 6.1, 6.7, 6.7, 6.7, 6.7, 6.7, 6.9, 6.9, 6.9, 6.7, 6.7, 6.7, 6.7, 6.1, 6.1, 7.2, 7.2, 7.2, 7.2, 6.1, 6.1, 5.9, 6.4, 6.4, 6.4, 6.4, 6.4, 7.2, 7.2, 7.2, 7.1, 7.1, 7.1, 7.0, 7.0, 6.0, 6.9, 6.9, 6.9, 6.6, 6.6, 6.6, 5.9, 6.8, 6.3, 6.3, 7.0, 7.0, 7.0, 6.7, 6.2, 7.2, 7.2, 7.2, 7.2, 7.2, 7.4, 7.4, 6.9, 7.7, 6.5, 7.1, 7.1, 7.1, 7.6, 7.6, 7.0, 7.0, 7.0, 7.0, 6.0, 6.0, 6.0, 7.5, 7.5, 6.4, 6.4, 6.9, 6.9, 6.9, 7.1, 7.1, 7.1, 7.1, 7.1, 7.1, 7.3, 7.3, 6.6, 6.6, 6.6, 6.4, 6.4, 6.4, 6.3, 6.3, 6.8, 6.8, 6.8, 6.8, 6.8, 5.5, 5.5, 7.8, 7.8, 7.8, 7.8, 7.8, 7.8, 7.0, 7.0, 6.7, 6.7, 6.3, 6.5, 6.5, 6.5, 8.1, 8.1, 8.1, 8.1, 6.3, 6.3, 6.3, 6.2, 6.4, 6.4, 5.3, 5.3, 5.3, 5.3, 7.0, 7.0, 6.7, 6.7, 7.8, 7.8, 6.0, 6.0, 6.0, 6.5, 6.5, 6.1, 6.1, 6.1, 6.4, 6.4, 6.4, 6.4, 7.5, 7.5, 7.5, 7.5, 6.0, 6.0, 7.4, 7.4, 7.4, 6.2, 6.2, 6.2, 6.2, 6.2, 6.7, 6.7, 6.7, 6.7, 6.7, 6.8, 6.8, 6.8, 6.3, 6.3, 6.3, 5.4, 5.4, 5.4, 7.4, 7.4, 7.4, 7.0, 7.2, 7.2, 7.2, 7.2, 7.6, 7.4, 7.4, 7.4, 5.9, 5.9, 5.9, 6.7, 7.2, 7.2, 7.2, 7.2, 7.2, 7.3, 7.3, 7.3, 7.0, 7.0, 7.0, 7.0, 6.5, 6.4, 7.2, 7.2, 7.2, 7.0, 5.4, 6.3, 6.3, 6.3, 6.6, 6.6, 7.2, 7.2, 7.2, 7.2, 7.2, 6.6, 6.6, 6.6, 7.3, 7.3, 7.3, 6.5, 6.5, 5.6, 6.1, 5.4, 6.1, 6.6, 6.6, 6.6, 7.7, 6.1, 6.1, 6.8, 6.8, 6.0, 6.8, 6.8, 6.8, 6.9, 6.9, 6.9, 6.5, 6.5, 6.5, 6.5, 6.3, 6.8, 6.8, 6.4, 6.4, 6.9, 6.9, 6.9]}, {\"name\": \"IMDB ratings|Movie\", \"type\": \"histogram\", \"x\": [8.4, 8.4, 8.4, 8.4, 8.5, 8.5, 8.5, 8.5, 7.0, 7.0, 7.0, 7.0, 7.5, 7.5, 7.5, 7.0, 7.0, 7.0, 7.0, 7.0, 6.9, 6.9, 6.9, 6.9, 6.9, 6.9, 6.9, 6.5, 6.5, 6.7, 6.7, 6.7, 6.7, 7.5, 7.5, 7.5, 7.7, 7.7, 7.7, 7.7, 8.5, 8.5, 8.5, 7.1, 7.1, 7.1, 7.1, 5.7, 5.7, 5.7, 5.7, 7.8, 7.8, 7.8, 7.8, 7.8, 7.3, 7.3, 7.3, 7.6, 7.6, 7.6, 7.6, 7.6, 7.6, 8.4, 8.4, 8.4, 8.4, 8.4, 8.4, 6.9, 6.9, 6.9, 6.9, 6.0, 6.0, 6.0, 6.0, 6.4, 6.4, 6.4, 6.4, 7.3, 7.3, 7.3, 7.3, 7.3, 7.1, 7.1, 7.1, 6.7, 6.7, 6.7, 6.7, 5.8, 5.8, 5.8, 6.8, 6.8, 6.8, 7.9, 7.9, 7.9, 7.9, 6.9, 6.9, 6.6, 7.1, 7.1, 7.1, 7.1, 7.1, 6.2, 6.2, 6.2, 4.5, 4.5, 4.5, 5.2, 5.2, 5.2, 5.2, 5.2, 8.7, 8.7, 8.7, 7.5, 7.5, 7.5, 7.5, 7.5, 7.5, 7.1, 7.1, 6.7, 6.7, 6.7, 8.4, 8.4, 8.4, 8.4, 8.4, 8.4, 6.5, 6.5, 6.5, 6.5, 6.4, 5.6, 5.7, 5.7, 5.7, 5.7, 9.4, 9.4, 6.7, 6.7, 6.7, 6.7, 6.6, 6.6, 6.6, 7.5, 7.5, 7.5, 7.5, 6.4, 6.4, 6.4, 6.6, 6.6, 6.6, 6.6, 6.6, 6.6, 6.3, 6.3, 6.3, 7.7, 7.7, 7.7, 8.0, 8.0, 8.0, 7.3, 7.3, 7.5, 7.5, 7.5, 8.3, 8.7, 8.7, 8.7, 8.7, 5.2, 5.2, 5.2, 6.9, 6.9, 6.9, 6.9, 6.9, 5.4, 5.4, 5.4, 5.4, 5.4, 5.9, 5.9, 5.9, 5.8, 5.8, 5.8, 5.8, 7.4, 7.4, 7.4, 5.7, 5.7, 5.7, 5.7, 5.3, 5.3, 5.3, 5.4, 5.4, 6.0, 6.0, 6.0, 6.0, 6.0, 6.0, 5.6, 5.6, 6.2, 6.2, 6.2, 6.2, 4.6, 4.6, 5.3, 5.3, 5.3, 4.4, 7.6, 7.6, 7.6, 6.1, 6.1, 6.1, 6.2, 6.2, 6.2, 6.2, 6.2, 6.2, 6.2, 6.2, 4.1, 4.1, 6.3, 6.3, 7.8, 7.8, 7.8, 7.7, 7.7, 7.4, 7.4, 6.7, 6.7, 6.7, 6.3, 6.3, 6.3, 6.3, 6.3, 6.3, 6.3, 6.3, 6.6, 6.6, 6.6, 6.2, 6.2, 6.2, 8.0, 8.0, 8.0, 8.0, 8.0, 8.4, 8.4, 8.4, 8.4, 8.4, 8.4, 5.4, 7.7, 7.7, 7.7, 6.9, 6.9, 5.8, 6.7, 6.7, 6.7, 6.7, 8.3, 8.3, 8.3, 8.3, 8.2, 8.2, 8.2, 8.2, 7.0, 7.0, 7.0, 5.7, 5.7, 6.8, 6.8, 6.3, 6.3, 6.3, 6.3, 6.1, 6.1, 6.1, 6.1, 6.1, 6.6, 6.6, 8.1, 8.1, 8.1, 7.8, 7.8, 7.8, 7.6, 7.6, 7.6, 7.6, 7.6, 6.7, 6.7, 6.7, 6.7, 7.3, 7.3, 5.7, 5.7, 5.7, 7.9, 7.9, 7.9, 7.0, 7.0, 7.0, 7.0, 7.6, 7.6, 5.6, 5.6, 5.6, 6.9, 6.9, 6.7, 6.7, 6.7, 6.3, 6.3, 8.6, 8.6, 8.6, 6.2, 6.2, 6.2, 5.6, 5.6, 5.6, 5.6, 5.4, 5.4, 5.4, 7.5, 7.5, 7.5, 6.3, 6.3, 6.3, 6.3, 6.2, 6.2, 6.2, 6.6, 6.6, 6.7, 6.7, 6.6, 6.6, 6.6, 6.6, 7.2, 7.2, 7.5, 7.5, 7.5, 7.5, 6.7, 6.7, 6.7, 4.4, 4.4, 6.4, 6.4, 6.4, 6.4, 7.4, 7.4, 7.4, 6.5, 6.5, 6.5, 6.1, 6.1, 6.6, 6.6, 6.6, 6.6, 6.2, 6.2, 6.2, 6.2, 6.2, 6.2, 5.7, 5.7, 7.1, 7.1, 7.1, 7.1, 6.0, 5.2, 5.2, 5.2, 5.2, 6.7, 6.7, 7.9, 7.9, 7.9, 7.9, 8.0, 8.0, 8.0, 6.9, 6.9, 6.9, 6.9, 7.2, 7.2, 6.6, 6.6, 6.1, 6.1, 6.5, 6.3, 6.3, 6.7, 6.7, 6.7, 8.1, 8.1, 8.1, 5.9, 5.9, 5.9, 8.1, 8.1, 8.1, 8.1, 7.3, 7.3, 7.3, 7.3, 6.9, 6.9, 6.9, 5.8, 5.8, 6.0, 6.0, 6.0, 6.0, 6.0, 6.0, 6.0, 5.7, 5.7, 5.7, 6.6, 6.6, 6.6, 6.6, 6.6, 8.3, 8.3, 5.3, 5.3, 5.3, 7.7, 7.7, 7.7, 6.9, 6.9, 6.9, 7.9, 7.9, 7.9, 7.9, 7.9, 7.9, 7.9, 7.9, 6.5, 6.5, 6.5, 5.2, 5.2, 6.2, 6.2, 6.2, 7.0, 7.0, 7.0, 7.4, 7.4, 7.4, 7.4, 7.4, 7.3, 7.3, 7.3, 6.5, 6.5, 6.5, 7.0, 7.0, 7.0, 7.0, 7.0, 7.6, 7.6, 7.6, 6.8, 6.8, 6.8, 6.8, 6.9, 6.9, 6.9, 7.4, 7.4, 6.1, 6.1, 7.6, 7.6, 7.6, 7.9, 7.9, 7.9, 5.6, 5.6, 5.6, 5.6, 7.1, 7.1, 7.1, 7.1, 5.7, 5.7, 6.6, 6.6, 6.6, 6.6, 6.6, 6.6, 7.8, 7.8, 7.8, 7.8, 7.3, 7.3, 7.3, 7.3, 6.5, 6.5, 6.5, 6.5, 7.5, 7.5, 7.5, 7.5, 8.0, 8.0, 7.4, 7.4, 5.0, 5.0, 5.0, 5.0, 5.3, 5.3, 5.3, 6.7, 6.7, 6.7, 7.5, 7.5, 7.5, 6.3, 6.3, 6.3, 6.3, 6.3, 3.5, 3.5, 3.5, 3.5, 3.5, 6.2, 6.2, 6.2, 6.2, 7.4, 7.4, 7.4, 7.4, 7.4, 7.3, 6.4, 6.4, 6.4, 6.4, 6.4, 6.6, 6.6, 6.6, 6.6, 6.6, 7.8, 7.8, 7.8, 7.6, 7.6, 7.6, 3.8, 3.8, 3.8, 3.8, 6.9, 6.9, 6.9, 6.9, 6.0, 6.0, 6.8, 7.0, 7.0, 7.0, 6.5, 6.5, 6.5, 6.5, 8.0, 8.0, 7.1, 7.1, 7.1, 7.1, 7.0, 7.0, 7.0, 8.5, 8.5, 8.5, 8.5, 7.1, 7.1, 7.1, 7.1, 6.6, 6.6, 6.6, 6.6, 6.6, 8.1, 8.1, 8.1, 8.1, 7.3, 7.3, 7.3, 6.1, 6.1, 6.1, 6.1, 8.2, 8.2, 8.2, 8.2, 3.8, 3.8, 7.7, 7.7, 7.7, 6.0, 6.0, 8.0, 8.0, 8.0, 8.0, 8.0, 8.1, 8.1, 8.1, 8.1, 5.1, 5.1, 5.1, 7.9, 7.9, 7.7, 7.7, 7.7, 7.7, 7.3, 7.3, 7.3, 7.3, 7.3, 7.3, 5.8, 5.8, 4.6, 4.6, 4.6, 5.8, 5.2, 5.2, 5.2, 5.2, 6.0, 6.0, 6.3, 6.3, 6.3, 6.3, 7.3, 7.3, 7.3, 3.6, 7.5, 7.5, 7.5, 7.5, 7.5, 5.2, 5.2, 5.2, 6.6, 6.6, 6.6, 6.6, 6.3, 6.3, 6.3, 7.9, 7.9, 7.9, 7.3, 7.3, 7.3, 4.8, 4.8, 7.1, 7.9, 7.9, 7.9, 6.8, 6.8, 6.8, 9.0, 9.0, 9.0, 6.0, 6.0, 8.6, 8.6, 8.6, 5.5, 5.5, 5.5, 5.5, 8.0, 8.0, 8.0, 8.0, 7.4, 7.4, 8.8, 8.8, 7.1, 7.1, 7.1, 5.8, 5.8, 5.8, 5.8, 5.8, 7.2, 7.2, 7.2, 6.8, 7.2, 7.2, 7.2, 7.4, 7.4, 7.4, 7.4, 7.4, 8.3, 8.3, 6.4, 6.4, 6.4, 6.4, 7.9, 7.9, 7.9, 7.9, 7.6, 7.6, 7.6, 6.2, 6.2, 6.0, 6.0, 6.0, 6.0, 5.2, 5.2, 5.2, 8.1, 8.1, 5.5, 5.5, 5.5, 6.4, 6.4, 7.6, 7.6, 7.6, 6.7, 6.7, 6.7, 8.2, 8.2, 8.2, 7.2, 7.2, 7.2, 6.6, 6.6, 7.6, 7.6, 7.6, 7.6, 7.6, 7.6, 7.1, 7.1, 7.7, 7.7, 7.4, 6.1, 6.1, 6.1, 6.1, 6.1, 7.9, 7.9, 7.9, 7.9, 6.6, 6.6, 7.1, 7.1, 7.1, 7.8, 7.8, 5.5, 5.5, 5.5, 7.7, 7.7, 7.7, 7.7, 7.7, 7.9, 7.9, 7.9, 7.9, 5.5, 5.5, 8.7, 5.8, 5.8, 5.8, 5.8, 5.8, 7.8, 7.8, 7.8, 7.8, 6.1, 6.1, 5.3, 5.3, 5.3, 5.3, 5.8, 5.8, 5.8, 5.8, 5.8, 5.7, 5.7, 5.7, 7.6, 7.6, 7.6, 7.6, 7.6, 8.4, 8.4, 6.6, 6.6, 6.6, 6.6, 6.3, 6.3, 6.3, 6.3, 8.3, 8.3, 8.3, 8.3, 8.3, 6.8, 6.8, 6.8, 6.8, 6.8, 6.8, 7.1, 7.1, 7.1, 7.1, 0.0, 6.6, 6.6, 6.6, 6.9, 6.9, 6.9, 6.9, 6.9, 6.9, 6.9, 6.8, 6.8, 6.8, 6.8, 8.1, 5.2, 5.2, 5.2, 8.8, 8.8, 8.8, 8.1, 8.1, 8.1, 6.7, 6.7, 6.7, 6.7, 6.7, 6.7, 7.6, 7.6, 7.6, 7.6, 6.9, 6.9, 8.1, 8.1, 8.1, 8.1, 6.5, 6.5, 6.5, 6.5, 6.5, 6.5, 6.5, 6.5, 6.0, 6.0, 6.0, 6.0, 6.9, 6.9, 6.9, 6.9, 5.4, 5.4, 5.4, 6.0, 6.0, 6.0, 6.8, 6.8, 6.8, 8.0, 9.4, 7.1, 7.1, 7.5, 7.5, 7.5, 7.5, 7.1, 7.1, 7.1, 7.1, 7.1, 8.7, 8.7, 6.0, 6.0, 6.0, 6.0, 6.0, 5.7, 5.7, 5.7, 9.4, 9.4, 9.4, 9.4, 5.3, 5.3, 5.3, 7.0, 7.0, 7.0, 7.0, 6.7, 6.7, 6.7, 6.7, 8.2, 8.2, 8.2, 8.0, 8.0, 8.0, 8.9, 8.9, 8.7, 8.7, 8.7, 8.7, 8.7, 8.7, 8.7, 8.7, 6.3, 6.5, 6.5, 6.5, 6.5, 6.2, 6.2, 7.3, 7.3, 7.3, 7.3, 7.3, 7.3, 7.6, 7.6, 7.6, 7.9, 7.9, 7.9, 7.9, 5.8, 5.8, 5.8, 5.8, 6.8, 6.8, 6.8, 5.2, 5.2, 5.2, 7.4, 7.4, 7.4, 7.4, 7.4, 5.4, 5.4, 5.4, 5.4, 5.4, 5.8, 5.8, 6.2, 7.3, 7.3, 6.7, 6.7, 7.3, 7.3, 7.3, 6.1, 6.1, 6.1, 5.6, 5.6, 5.6, 5.6, 5.6, 7.3, 7.3, 5.7, 5.7, 5.7, 5.7, 7.3, 7.3, 7.3, 6.2, 6.7, 6.7, 6.7, 6.7, 6.7, 6.5, 6.5, 6.5, 8.9, 8.9, 8.9, 7.5, 7.5, 7.5, 5.9, 4.6, 4.6, 4.6, 6.6, 6.6, 6.6, 6.6, 6.6, 8.1, 8.1, 8.1, 4.9, 4.9, 4.9, 4.9, 4.9, 5.7, 5.7, 6.8, 6.8, 6.8, 7.9, 6.2, 6.8, 6.8, 6.8, 7.7, 7.7, 7.2, 7.1, 7.1, 7.1, 6.3, 6.3, 7.0, 7.0, 7.0, 7.0, 7.0, 8.0, 8.0, 8.0, 8.0, 7.6, 7.6, 7.6, 7.6, 7.6, 5.4, 5.4, 5.4, 5.4, 7.9, 7.9, 7.9, 7.9, 7.9, 7.9, 6.7, 6.7, 6.7, 6.7, 6.2, 6.2, 5.7, 5.7, 5.7, 7.1, 7.1, 7.1, 7.1, 7.1, 6.3, 6.3, 6.3, 6.3, 6.3, 8.5, 8.3, 8.3, 8.3, 8.3, 8.3, 8.3, 5.5, 6.4, 6.4, 6.4, 8.3, 8.3, 8.3, 8.3, 8.3, 7.6, 7.6, 4.8, 4.8, 4.8, 7.2, 7.2, 7.2, 5.5, 5.5, 5.5, 6.6, 6.6, 6.6, 6.6, 8.7, 8.7, 5.7, 6.3, 6.3, 6.3, 5.3, 5.3, 6.8, 6.8, 6.8, 6.8, 8.0, 8.0, 8.0, 8.0, 8.0, 8.0, 4.7, 4.7, 4.7, 4.7, 7.1, 7.1, 7.1, 7.1, 7.1, 6.4, 6.4, 7.0, 7.0, 7.0, 7.0, 7.0, 7.2, 7.2, 7.2, 7.2, 6.7, 6.7, 6.7, 4.2, 4.2, 4.2, 4.2, 8.3, 8.3, 8.3, 8.4, 8.0, 8.0, 8.0, 7.8, 7.8, 3.2, 6.9, 6.9, 7.1, 7.1, 7.1, 7.1, 7.1, 7.1, 7.1, 8.5, 8.5, 8.5, 8.5, 8.5, 8.5, 5.9, 5.9, 8.4, 8.4, 4.7, 7.0, 7.0, 7.0, 7.0, 7.0, 7.0, 7.0, 7.0, 7.0, 8.1, 8.1, 8.1, 8.1, 7.9, 7.9, 7.9, 7.0, 7.0, 7.0, 5.0, 5.0, 5.0, 5.0, 7.1, 7.1, 7.1, 7.1, 6.1, 6.1, 6.1, 6.1, 6.1, 7.1, 7.1, 7.1, 7.1, 7.1, 5.4, 5.4, 5.4, 5.4, 5.2, 6.3, 6.3, 6.3, 6.3, 6.3, 6.3, 5.8, 5.8, 5.9, 5.9, 5.9, 6.0, 6.0, 7.4, 7.4, 7.4, 7.4, 7.4, 7.0, 7.0, 7.0, 6.5, 6.5, 6.5, 5.5, 5.5, 5.5, 5.5, 5.8, 5.8, 6.7, 6.7, 6.7, 6.7, 6.7, 6.7, 6.7, 6.4, 6.4, 7.7, 8.8, 8.8, 6.5, 6.5, 6.7, 6.7, 6.7, 6.7, 8.0, 8.0, 8.0, 7.7, 7.7, 7.7, 7.7, 7.7, 7.7, 8.3, 8.3, 8.3, 7.8, 7.8, 7.9, 7.9, 7.9, 7.9, 7.9, 6.4, 6.4, 6.4, 6.4, 6.4, 5.7, 5.7, 5.7, 5.4, 5.4, 6.5, 6.5, 6.5, 6.0, 6.0, 6.0, 7.4, 7.4, 7.4, 7.4, 7.4, 7.4, 7.4, 7.4, 9.3, 9.3, 7.7, 7.7, 5.9, 5.9, 5.9, 6.4, 6.4, 7.9, 7.9, 7.9, 7.9, 7.9, 6.5, 6.5, 6.5, 6.4, 6.4, 6.4, 6.4, 6.4, 8.5, 8.5, 8.5, 8.5, 8.5, 7.1, 7.1, 7.1, 7.1, 7.9, 7.5, 7.5, 7.5, 7.5, 7.5, 6.2, 6.2, 6.2, 6.6, 6.6, 6.6, 7.1, 7.1, 7.1, 7.1, 7.3, 7.3, 7.3, 7.3, 7.0, 7.0, 7.0, 7.0, 7.8, 7.8, 7.8, 7.0, 8.1, 8.1, 8.1, 7.4, 7.4, 5.9, 7.8, 7.8, 5.4, 5.4, 5.4, 6.4, 6.4, 6.4, 4.8, 7.0, 6.8, 6.8, 6.8, 6.8, 6.8, 8.5, 8.5, 8.5, 7.2, 7.2, 6.7, 6.7, 6.5, 7.0, 7.0, 7.0, 7.0, 7.5, 6.4, 6.4, 6.4, 6.4, 7.8, 7.8, 7.8, 7.8, 7.8, 7.8, 4.9, 4.9, 4.9, 4.9, 7.2, 7.2, 7.2, 7.2, 7.2, 7.2, 7.2, 7.3, 7.3, 7.1, 7.1, 7.1, 6.7, 6.7, 6.7, 6.7, 6.7, 7.8, 7.8, 5.2, 5.2, 5.2, 5.2, 5.2, 5.2, 5.2, 6.3, 6.3, 6.3, 4.6, 4.6, 4.6, 7.0, 8.7, 8.7, 8.7, 8.7, 7.1, 7.1, 7.1, 7.1, 6.5, 6.5, 6.5, 6.5, 8.0, 8.0, 8.0, 8.8, 7.6, 7.6, 7.6, 7.6, 7.8, 7.8, 7.8, 7.8, 7.8, 7.8, 6.2, 6.7, 6.7, 6.7, 6.3, 6.3, 7.2, 7.2, 7.2, 6.0, 6.0, 5.6, 5.6, 5.6, 5.4, 5.4, 5.4, 5.4, 5.4, 4.6, 4.6, 5.7, 5.7, 5.7, 5.7, 5.7, 7.7, 7.7, 7.7, 7.7, 7.3, 7.3, 6.4, 6.4, 6.4, 7.9, 7.9, 7.3, 7.3, 7.3, 8.2, 8.2, 8.2, 8.2, 8.2, 8.2, 6.9, 6.9, 6.9, 6.7, 6.7, 6.7, 6.0, 6.0, 6.0, 5.8, 5.8, 5.8, 8.0, 8.0, 8.0, 8.0, 5.3, 5.3, 7.0, 6.5, 6.5, 5.7, 5.7, 5.7, 5.7, 7.3, 7.3, 7.3, 7.3, 9.2, 9.2, 3.7, 3.7, 3.7, 3.7, 3.7, 7.3, 7.1, 7.1, 7.1, 8.0, 8.0, 8.0, 7.8, 7.8, 3.8, 3.8, 5.2, 5.2, 5.2, 6.9, 6.9, 8.6, 8.6, 8.6, 3.3, 3.3, 3.3, 3.3, 3.3, 6.9, 6.9, 6.9, 6.0, 6.0, 6.0, 6.0, 8.2, 8.2, 8.2, 8.2, 7.7, 6.7, 6.7, 6.7, 5.7, 5.7, 6.5, 6.5, 6.5, 6.5, 5.1, 5.1, 5.1, 7.0, 7.0, 7.6, 7.2, 7.2, 7.2, 7.2, 7.4, 7.4, 7.4, 6.6, 6.5, 6.5, 6.5, 8.1, 8.1, 8.1, 8.3, 8.3, 8.3, 7.5, 7.5, 7.5, 7.3, 7.8, 7.8, 7.8, 7.8, 7.8, 6.8, 6.8, 6.8, 6.8, 6.8, 3.4, 7.1, 7.1, 7.1, 5.9, 5.9, 5.9, 5.9, 5.9, 7.5, 7.5, 7.5, 7.5, 7.5, 7.5, 7.5, 5.4, 5.4, 5.4, 6.3, 6.3, 5.6, 5.6, 5.6, 0.0, 0.0, 0.0, 6.0, 6.0, 7.3, 7.3, 7.3, 7.3, 7.5, 7.5, 7.5, 7.5, 6.0, 6.0, 6.0, 4.8, 6.6, 6.8, 6.8, 6.8, 7.0, 5.2, 5.2, 5.2, 5.8, 5.8, 7.9, 7.9, 7.9, 7.9, 3.6, 3.6, 3.6, 6.9, 6.9, 6.9, 6.9, 7.7, 6.5, 6.5, 6.5, 5.1, 6.1, 6.1, 6.1, 6.1, 6.1, 6.8, 5.9, 5.9, 5.9, 5.9, 5.9, 5.9, 7.2, 7.2, 7.2, 7.2, 6.9, 6.9, 6.9, 6.9, 7.0, 7.0, 7.0, 7.6, 7.6, 7.6, 7.1, 7.1, 7.1, 7.1, 7.1, 6.3, 6.3, 6.3, 6.3, 6.6, 6.6, 6.6, 6.2, 6.2, 6.5, 6.5, 8.0, 8.0, 8.1, 8.1, 8.1, 8.1, 5.6, 5.6, 5.6, 5.3, 5.3, 2.9, 8.2, 8.2, 6.7, 6.7, 6.7, 8.2, 8.2, 8.2, 8.2, 6.0, 6.0, 6.0, 6.0, 6.0, 7.7, 7.7, 7.7, 4.2, 4.2, 6.5, 6.5, 6.5, 6.2, 6.2, 6.2, 6.2, 6.2, 6.2, 5.5, 5.8, 5.8, 5.8, 4.7, 7.2, 7.2, 4.4, 3.9, 3.9, 3.9, 5.0, 5.0, 5.0, 5.0, 5.0, 5.0, 6.6, 6.6, 6.6, 6.6, 7.3, 7.2, 7.2, 7.5, 4.7, 4.7, 4.7, 4.7, 5.3, 7.2, 6.4, 6.4, 6.4, 6.4, 6.4, 8.9, 8.9, 7.5, 6.6, 7.5, 7.5, 7.5, 7.5, 6.7, 6.7, 6.7, 8.4, 8.4, 6.5, 6.5, 6.6, 6.6, 6.6, 4.2, 4.2, 4.2, 4.2, 7.0, 7.0, 7.0, 7.0, 7.0, 7.0, 7.1, 7.1, 7.1, 5.2, 5.2, 5.2, 5.2, 6.1, 6.2, 6.2, 6.2, 7.4, 7.4, 7.4, 7.3, 7.3, 7.3, 7.3, 7.3, 7.3, 7.4, 7.4, 8.0, 8.0, 8.0, 8.0, 8.0, 6.2, 8.1, 8.1, 8.1, 6.3, 6.3, 6.3, 7.1, 7.1, 7.1, 7.1, 0.0, 6.6, 6.6, 7.2, 2.5, 2.5, 2.5, 5.9, 6.4, 6.4, 6.4, 6.4, 5.5, 5.0, 5.0, 5.6, 0.0, 7.6, 6.6, 6.6, 4.3, 4.3, 5.4, 5.4, 8.6, 8.6, 8.6, 8.6, 6.5, 6.5, 6.5, 7.9, 7.9, 6.0, 6.0, 6.0, 6.2, 6.2, 6.2, 5.2, 5.2, 5.2, 5.2, 8.1, 8.1, 6.3, 6.3, 6.3, 6.3, 6.3, 6.3, 8.0, 8.0, 8.0, 7.2, 7.2, 7.2, 7.2, 3.1, 3.1, 8.4, 8.4, 8.4, 8.4, 6.3, 6.3, 6.3, 6.3, 6.3, 3.8, 8.3, 6.9, 6.9, 6.9, 7.2, 7.2, 7.2, 7.2, 7.2, 7.7, 7.7, 7.7, 6.0, 6.0, 6.0, 6.0, 5.7, 5.7, 5.7, 8.2, 8.2, 6.0, 7.3, 7.3, 7.3, 8.3, 8.3, 8.3, 8.3, 6.4, 6.4, 6.4, 6.4, 7.8, 7.4, 7.4, 6.9, 6.9, 6.9, 5.6, 5.6, 5.6, 5.6, 5.6, 5.6, 6.7, 6.7, 6.7, 7.6, 7.6, 7.6, 5.3, 5.3, 2.7, 2.7, 2.7, 2.7, 5.3, 7.0, 7.0, 7.3, 7.3, 7.3, 6.2, 6.2, 6.2, 7.6, 0.0, 0.0, 4.7, 4.7, 4.7, 4.7, 6.1, 6.1, 6.1, 6.3, 6.3, 6.1, 6.1, 3.9, 3.9, 3.9, 6.3, 6.3, 7.1, 6.5, 6.5, 6.5, 6.5, 7.0, 7.0, 7.0, 6.4, 6.1, 0.0, 7.5, 7.5, 7.5, 7.5, 7.5, 7.6, 7.6, 7.6, 6.6, 6.6, 6.6, 6.6, 5.2, 5.2, 5.2, 5.2, 3.3, 3.3, 3.3, 6.4, 7.2, 5.8, 5.8, 5.5, 6.2, 6.2, 6.2, 7.8, 7.8, 7.8, 7.8, 4.9, 4.9, 8.4, 6.9, 6.6, 6.6, 6.6, 0.0, 3.5, 4.5, 6.8, 6.8, 7.2, 7.2, 7.2, 7.2, 7.4, 7.4, 7.4, 7.4, 7.4, 3.2, 5.8, 7.5, 6.5, 6.5, 6.5, 6.5, 7.8, 7.8, 5.1, 5.1, 5.1, 5.1, 8.1, 7.7, 7.7, 7.7, 7.3, 7.3, 7.3, 7.3, 7.3, 7.3, 6.6, 6.6, 7.1, 5.6, 4.3, 4.3, 7.3, 7.3, 7.3, 8.7, 8.7, 8.7, 8.6, 8.6, 8.6, 6.4, 5.9, 5.9, 6.7, 6.7, 6.7, 6.7, 6.7, 6.8, 6.8, 6.8, 6.8, 8.0, 8.0, 7.5, 7.5, 7.5, 7.5, 6.2, 6.2, 6.2, 6.2, 6.8, 6.8, 5.4, 5.4, 0.0, 0.0, 0.0, 6.8, 6.8, 6.8, 6.8, 6.8, 4.8, 4.8, 4.8, 8.0, 8.0, 4.4, 6.2, 6.2, 6.2, 6.2, 7.3, 7.3, 7.3, 7.3, 7.3, 5.3, 5.3, 7.0, 7.0, 7.0, 7.0, 8.1, 8.1, 8.1, 7.4, 7.4, 7.4, 6.9, 6.9, 6.1, 6.1, 6.1, 6.1, 5.2, 5.8, 5.8, 5.8, 6.6, 6.6, 6.6, 6.6, 6.6, 8.4, 8.4, 8.4, 3.9, 3.9, 6.6, 6.6, 6.6, 6.6, 6.6, 7.2, 7.2, 6.2, 6.2, 6.2, 6.2, 5.7, 5.7, 6.1, 6.1, 6.1, 6.1, 6.1, 8.2, 8.2, 8.2, 8.4, 5.4, 5.4, 6.5, 6.5, 5.3, 5.3, 8.4, 7.8, 7.8, 7.8, 7.8, 5.4, 6.0, 6.0, 6.8, 7.1, 7.1, 7.1, 7.1, 6.6, 6.6, 6.6, 7.9, 7.9, 7.9, 7.9, 7.9, 7.9, 7.9, 7.9, 7.9, 0.0, 7.4, 7.3, 7.3, 5.5, 6.1, 6.1, 6.1, 6.1, 6.3, 6.5, 6.5, 7.8, 7.8, 5.9, 5.9, 4.9, 4.9, 6.7, 6.7, 6.7, 8.1, 6.6, 6.6, 7.4, 7.4, 7.4, 7.4, 6.6, 6.6, 6.6, 6.6, 6.6, 5.5, 5.5, 5.5, 5.5, 6.9, 5.6, 5.6, 5.6, 7.4, 5.1, 5.1, 5.8, 5.8, 6.3, 6.3, 8.2, 8.2, 8.2, 6.0, 6.1, 6.1, 6.1, 6.2, 6.2, 6.2, 5.9, 5.9, 5.9, 7.0, 7.0, 7.0, 7.0, 6.0, 6.0, 6.0, 6.0, 7.4, 7.4, 5.9, 5.9, 5.9, 6.4, 8.2, 8.2, 2.3, 2.3, 7.6, 7.6, 7.6, 7.2, 7.2, 5.7, 5.7, 5.7, 5.3, 5.3, 5.3, 3.3, 3.3, 3.3, 8.1, 8.1, 8.1, 7.3, 7.3, 7.3, 5.8, 5.8, 8.2, 8.2, 8.2, 8.2, 6.4, 6.4, 6.4, 5.3, 5.3, 6.7, 6.7, 6.7, 7.6, 7.6, 7.6, 7.7, 7.7, 7.7, 6.0, 7.6, 7.6, 7.6, 7.6, 3.4, 3.4, 3.4, 3.4, 4.9, 7.0, 7.0, 6.2, 6.2, 6.2, 6.2, 7.6, 7.6, 7.6, 7.6, 5.7, 5.7, 4.9, 4.9, 7.4, 7.4, 7.4, 6.8, 6.8, 6.8, 6.8, 7.8, 7.8, 6.1, 6.1, 5.8, 5.8, 5.6, 5.6, 6.6, 6.6, 7.2, 7.2, 7.2, 7.2, 7.2, 6.1, 6.1, 8.0, 8.0, 8.0, 6.9, 6.9, 6.9, 6.0, 6.0, 5.8, 5.8, 5.8, 6.5, 6.5, 6.6, 6.6, 6.6, 7.6, 7.0, 7.0, 7.0, 4.0, 5.2, 8.0, 8.0, 8.0, 8.0, 8.1, 7.3, 7.3, 7.3, 1.7, 7.7, 7.7, 7.7, 5.7, 7.0, 7.0, 7.6, 7.6, 7.6, 7.6, 7.2, 7.2, 7.2, 7.2, 7.2, 5.0, 5.0, 5.0, 5.0, 6.4, 6.4, 6.4, 6.4, 6.1, 7.9, 7.9, 7.9, 7.9, 8.3, 8.3, 5.1, 5.1, 5.1, 6.8, 6.8, 6.8, 6.8, 6.8, 6.8, 6.8, 7.3, 7.3, 7.3, 7.3, 6.6, 6.6, 6.6, 6.6, 5.4, 5.4, 6.7, 6.7, 8.4, 6.8, 6.8, 6.8, 6.8, 6.8, 7.5, 7.5, 7.5, 6.2, 6.2, 6.2, 6.2, 6.2, 7.1, 7.1, 7.1, 7.1, 6.6, 6.6, 6.6, 5.9, 5.9, 5.9, 6.3, 6.3, 6.3, 7.1, 7.1, 6.7, 6.7, 7.3, 7.3, 7.3, 7.3, 7.2, 7.2, 5.5, 5.5, 5.5, 5.5, 7.1, 7.1, 7.1, 0.0, 5.8, 5.8, 6.8, 6.8, 6.8, 6.8, 6.8, 3.2, 3.2, 3.2, 7.0, 7.0, 7.0, 7.0, 8.5, 8.5, 6.9, 7.4, 7.4, 7.4, 7.2, 7.2, 7.2, 7.2, 6.8, 6.8, 6.8, 7.2, 7.2, 6.5, 6.5, 6.2, 6.2, 6.2, 6.2, 4.7, 4.7, 8.5, 8.5, 8.5, 8.5, 8.5, 5.5, 6.0, 6.0, 7.3, 7.3, 7.7, 7.4, 7.4, 7.4, 7.4, 6.6, 6.6, 6.6, 6.6, 6.5, 6.5, 6.5, 6.5, 6.5, 7.6, 7.6, 7.6, 6.5, 6.5, 7.8, 7.8, 7.8, 7.8, 7.8, 6.5, 7.2, 7.2, 7.2, 6.9, 6.9, 6.9, 5.7, 7.6, 7.6, 7.6, 6.6, 6.6, 6.6, 6.6, 6.8, 6.8, 7.8, 6.5, 6.5, 5.8, 5.8, 5.8, 7.7, 7.7, 7.7, 8.3, 6.8, 6.8, 6.4, 6.4, 6.4, 6.4, 4.5, 4.5, 4.5, 8.6, 8.6, 8.6, 6.9, 6.9, 6.9, 5.6, 5.6, 6.0, 6.0, 6.0, 6.0, 6.0, 8.3, 8.3, 8.3, 8.3, 8.3, 6.6, 6.6, 6.6, 6.6, 5.9, 5.9, 7.7, 7.7, 7.7, 7.7, 7.7, 6.7, 6.7, 6.7, 6.7, 6.7, 5.6, 6.5, 6.5, 6.5, 6.2, 6.3, 6.3, 6.3, 6.3, 7.6, 7.6, 7.6, 7.6, 7.6, 7.6, 6.8, 6.8, 6.8, 8.2, 7.4, 7.4, 7.4, 6.0, 6.0, 6.0, 6.4, 6.7, 6.7, 6.7, 6.2, 6.2, 6.9, 7.2, 7.2, 3.6, 3.6, 7.6, 7.6, 7.6, 7.6, 6.9, 6.9, 6.9, 6.9, 6.9, 5.2, 6.6, 6.6, 6.6, 6.6, 6.6, 6.6, 8.6, 8.6, 8.6, 8.6, 7.2, 7.2, 7.2, 5.3, 6.1, 6.1, 6.1, 6.1, 6.1, 6.2, 7.3, 7.3, 7.3, 7.3, 6.4, 5.6, 5.6, 5.6, 5.6, 7.6, 7.6, 7.6, 5.5, 7.1, 7.1, 7.1, 7.1, 7.1, 7.6, 7.6, 7.6, 7.6, 7.7, 7.7, 7.7, 6.7, 6.7, 6.7, 7.2, 7.2, 7.2, 7.3, 6.1, 6.1, 6.1, 5.6, 5.6, 5.6, 5.6, 7.3, 7.3, 7.3, 7.3, 7.3, 6.9, 6.9, 6.9, 6.9, 5.0, 5.0, 5.0, 5.0, 7.0, 7.0, 7.0, 8.4, 8.4, 6.7, 6.7, 6.7, 8.4, 8.4, 8.4, 8.4, 8.4, 6.8, 6.8, 6.8, 6.8, 6.0, 6.0, 6.0, 6.0, 6.1, 7.7, 7.7, 7.7, 4.1, 8.0, 8.0, 5.8, 5.8, 8.6, 8.6, 8.6, 5.0, 7.0, 7.0, 7.0, 7.0, 5.0, 5.0, 5.0, 5.0, 6.2, 6.2, 6.2, 6.2, 6.9, 6.9, 6.9, 6.9, 6.9, 6.9, 4.5, 7.2, 7.2, 7.2, 8.5, 8.5, 8.5, 6.1, 6.1, 6.1, 6.9, 6.9, 6.9, 7.6, 3.8, 6.2, 6.2, 7.7, 7.7, 7.7, 5.8, 5.8, 5.8, 5.8, 5.8, 8.5, 8.5, 8.5, 5.7, 5.7, 6.4, 6.4, 5.4, 5.4, 5.4, 6.9, 6.9, 6.9, 6.9, 6.9, 5.2, 5.2, 5.8, 5.8, 7.3, 7.3, 7.3, 7.3, 7.3, 7.1, 7.1, 7.1, 7.1, 5.5, 5.5, 5.5, 5.5, 5.5, 7.3, 7.3, 7.3, 8.0, 8.0, 8.0, 7.4, 7.4, 4.8, 4.8, 4.8, 4.8, 7.1, 7.1, 7.1, 7.1, 7.1, 5.5, 5.5, 5.7, 5.7, 5.7, 6.2, 6.2, 6.2, 6.2, 6.7, 6.7, 6.7, 6.7, 5.3, 5.3, 5.3, 5.3, 4.4, 4.4, 4.4, 7.5, 7.5, 5.0, 5.0, 5.6, 3.1, 6.6, 6.6, 7.5, 5.1, 7.0, 7.0, 7.0, 6.6, 7.0, 6.8, 6.8, 6.9, 6.9, 6.9, 7.9, 7.9, 7.9, 5.3, 5.3, 7.3, 7.3, 7.3, 3.6, 3.6, 3.6, 3.6, 8.7, 8.7, 6.5, 4.3, 4.3, 8.3, 8.3, 3.8, 3.8, 3.8, 7.7, 7.7, 7.7, 7.7, 3.6, 6.0, 7.1, 7.1, 7.1, 7.1, 4.8, 4.8, 4.8, 8.0, 8.0, 8.0, 8.0, 4.8, 9.0, 9.0, 7.1, 7.1, 7.1, 5.8, 5.8, 4.9, 4.9, 4.9, 6.1, 6.1, 5.5, 6.0, 6.0, 6.0, 8.1, 8.1, 7.5, 7.5, 7.5, 7.5, 7.5, 4.9, 4.9, 7.5, 7.5, 7.5, 7.5, 7.5, 6.5, 6.5, 6.5, 4.6, 6.3, 6.8, 6.8, 6.1, 6.1, 6.1, 5.7, 5.7, 4.8, 8.5, 8.5, 8.5, 7.4, 7.4, 6.9, 6.9, 6.5, 6.5, 6.5, 7.9, 7.9, 7.9, 7.9, 7.9, 6.1, 6.1, 6.1, 5.0, 5.0, 5.0, 2.6, 2.6, 5.1, 5.1, 5.1, 5.1, 5.1, 6.4, 6.4, 6.4, 6.4, 6.4, 6.4, 4.1, 5.7, 5.7, 5.7, 6.0, 3.3, 3.3, 3.3, 5.9, 6.9, 6.9, 6.9, 7.5, 7.5, 7.5, 5.8, 8.8, 8.7, 8.7, 8.7, 7.6, 7.6, 7.6, 7.6, 7.6, 7.6, 9.0, 6.6, 6.6, 6.6, 5.5, 5.5, 8.9, 7.7, 7.7, 7.2, 7.2, 7.2, 7.2, 6.5, 3.5, 5.0, 5.0, 5.0, 6.5, 6.5, 6.5, 4.2, 4.2, 4.2, 7.5, 7.5, 5.1, 5.1, 5.1, 5.1, 0.0, 6.9, 6.9, 6.9, 5.5, 5.5, 5.5, 5.8, 8.0, 8.0, 8.0, 6.2, 6.2, 7.7, 7.7, 7.7, 7.7, 7.7, 7.7, 6.3, 6.3, 8.2, 7.0, 7.0, 7.0, 7.9, 7.9, 7.9, 7.5, 7.5, 6.9, 6.9, 6.9, 6.4, 6.4, 7.6, 7.6, 7.6, 5.7, 5.7, 5.7, 5.7, 6.7, 6.7, 6.7, 5.7, 3.8, 3.8, 3.8, 3.8, 6.9, 6.9, 6.9, 7.1, 7.1, 7.5, 7.5, 7.5, 8.1, 8.1, 8.1, 6.3, 6.3, 6.3, 6.7, 6.7, 6.7, 6.1, 4.8, 4.8, 4.8, 5.8, 5.8, 5.8, 5.8, 5.8, 5.9, 5.9, 8.2, 6.6, 6.6, 6.9, 6.9, 6.9, 6.9, 6.9, 6.2, 6.2, 6.8, 8.5, 8.5, 6.4, 6.4, 6.4, 3.5, 5.6, 5.6, 5.6, 7.0, 7.0, 7.0, 7.0, 6.5, 6.5, 7.6, 7.6, 7.6, 7.6, 7.6, 6.2, 6.2, 7.6, 6.8, 6.8, 6.8, 6.1, 6.1, 6.1, 6.1, 8.9, 6.0, 7.1, 0.0, 6.8, 6.8, 8.1, 8.1, 8.1, 8.1, 8.1, 8.1, 8.1, 8.1, 6.8, 6.8, 7.1, 7.1, 7.1, 4.7, 4.7, 3.8, 3.8, 8.5, 8.5, 8.5, 7.1, 7.1, 7.1, 7.1, 7.1, 7.0, 7.0, 7.0, 7.0, 7.0, 6.9, 2.9, 2.9, 4.9, 4.9, 6.9, 6.9, 6.9, 8.4, 8.4, 8.4, 8.4, 6.0, 6.0, 6.0, 6.0, 4.7, 4.7, 4.7, 4.7, 4.7, 7.4, 7.4, 7.4, 6.5, 6.5, 6.5, 6.5, 6.4, 6.4, 7.0, 7.0, 7.0, 7.0, 6.7, 6.7, 6.4, 8.0, 8.0, 4.3, 4.3, 4.3, 8.3, 8.3, 8.3, 6.9, 6.9, 6.9, 7.2, 7.2, 4.5, 5.6, 5.6, 5.6, 7.0, 7.0, 7.0, 7.8, 6.8, 6.3, 6.3, 6.1, 6.1, 6.1, 7.3, 4.8, 6.5, 6.5, 6.5, 6.5, 6.5, 7.5, 7.5, 5.3, 8.0, 5.3, 5.6, 5.6, 5.6, 7.3, 7.3, 8.1, 8.1, 8.1, 8.1, 5.3, 5.3, 5.3, 5.9, 5.9, 4.5, 4.5, 6.0, 6.0, 6.0, 6.9, 6.9, 6.9, 6.9, 6.9, 6.9, 6.9, 6.9, 7.4, 7.4, 7.4, 6.5, 6.5, 6.5, 5.7, 5.7, 5.0, 5.0, 5.0, 5.0, 5.0, 6.2, 6.2, 7.5, 7.5, 7.5, 7.5, 7.5, 7.5, 8.2, 8.2, 6.1, 6.1, 4.6, 7.0, 7.0, 7.0, 6.2, 6.2, 6.2, 6.2, 6.2, 6.2, 6.2, 6.3, 6.0, 6.0, 5.7, 5.7, 5.7, 5.7, 4.7, 4.7, 6.0, 6.0, 8.2, 8.2, 6.0, 6.0, 6.0, 8.2, 8.2, 5.0, 5.0, 5.0, 6.8, 6.8, 6.8, 6.8, 6.9, 6.9, 6.9, 6.9, 5.2, 5.2, 6.5, 6.5, 6.5, 7.2, 7.2, 7.2, 7.2, 3.8, 7.2, 7.2, 7.2, 7.2, 7.2, 6.4, 6.4, 6.4, 7.1, 7.1, 7.1, 6.0, 6.0, 6.0, 7.2, 7.2, 7.2, 8.1, 6.6, 6.6, 6.6, 6.6, 8.2, 7.0, 7.0, 7.0, 3.8, 3.8, 3.8, 4.2, 7.2, 7.2, 7.2, 7.2, 7.2, 6.4, 6.4, 6.4, 5.7, 8.3, 8.3, 8.3, 4.9, 4.9, 6.4, 6.4, 6.4, 6.4, 4.2, 7.0, 7.0, 7.0, 6.9, 6.9, 7.9, 7.9, 7.9, 7.9, 7.9, 3.6, 3.6, 3.6, 7.4, 7.4, 7.4, 6.8, 6.8, 3.5, 7.6, 2.5, 7.1, 5.9, 5.9, 5.9, 8.1, 6.3, 6.3, 7.1, 7.1, 4.3, 6.6, 6.6, 6.6, 6.6, 6.6, 6.6, 6.7, 6.7, 6.7, 6.7, 5.0, 5.5, 5.5, 7.7, 7.7, 4.0, 4.0, 4.0]}, {\"mode\": \"text\", \"showlegend\": false, \"text\": [\"IMDB Median MV\", \"Site Ratings Median MV\"], \"type\": \"scatter\", \"x\": [5.8999999999999995, 7.7], \"y\": [300, 299]}],\n",
       "                        {\"shapes\": [{\"line\": {\"dash\": \"dot\", \"width\": 4}, \"type\": \"line\", \"x0\": 6.8, \"x1\": 6.8, \"y0\": 0, \"y1\": 350}, {\"line\": {\"color\": \"LightSeaGreen\", \"dash\": \"dashdot\", \"width\": 4}, \"type\": \"line\", \"x0\": 6.7, \"x1\": 6.7, \"y0\": 0, \"y1\": 350}], \"template\": {\"data\": {\"bar\": [{\"error_x\": {\"color\": \"#2a3f5f\"}, \"error_y\": {\"color\": \"#2a3f5f\"}, \"marker\": {\"line\": {\"color\": \"#E5ECF6\", \"width\": 0.5}}, \"type\": \"bar\"}], \"barpolar\": [{\"marker\": {\"line\": {\"color\": \"#E5ECF6\", \"width\": 0.5}}, \"type\": \"barpolar\"}], \"carpet\": [{\"aaxis\": {\"endlinecolor\": \"#2a3f5f\", \"gridcolor\": \"white\", \"linecolor\": \"white\", \"minorgridcolor\": \"white\", \"startlinecolor\": \"#2a3f5f\"}, \"baxis\": {\"endlinecolor\": \"#2a3f5f\", \"gridcolor\": \"white\", \"linecolor\": \"white\", \"minorgridcolor\": \"white\", \"startlinecolor\": \"#2a3f5f\"}, \"type\": \"carpet\"}], \"choropleth\": [{\"colorbar\": {\"outlinewidth\": 0, \"ticks\": \"\"}, \"type\": \"choropleth\"}], \"contour\": [{\"colorbar\": {\"outlinewidth\": 0, \"ticks\": \"\"}, \"colorscale\": [[0.0, \"#0d0887\"], [0.1111111111111111, \"#46039f\"], [0.2222222222222222, \"#7201a8\"], [0.3333333333333333, \"#9c179e\"], [0.4444444444444444, \"#bd3786\"], [0.5555555555555556, \"#d8576b\"], [0.6666666666666666, \"#ed7953\"], [0.7777777777777778, \"#fb9f3a\"], [0.8888888888888888, \"#fdca26\"], [1.0, \"#f0f921\"]], \"type\": \"contour\"}], \"contourcarpet\": [{\"colorbar\": {\"outlinewidth\": 0, \"ticks\": \"\"}, \"type\": \"contourcarpet\"}], \"heatmap\": [{\"colorbar\": {\"outlinewidth\": 0, \"ticks\": \"\"}, \"colorscale\": [[0.0, \"#0d0887\"], [0.1111111111111111, \"#46039f\"], [0.2222222222222222, \"#7201a8\"], [0.3333333333333333, \"#9c179e\"], [0.4444444444444444, \"#bd3786\"], [0.5555555555555556, \"#d8576b\"], [0.6666666666666666, \"#ed7953\"], [0.7777777777777778, \"#fb9f3a\"], [0.8888888888888888, \"#fdca26\"], [1.0, \"#f0f921\"]], \"type\": \"heatmap\"}], \"heatmapgl\": [{\"colorbar\": {\"outlinewidth\": 0, \"ticks\": \"\"}, \"colorscale\": [[0.0, \"#0d0887\"], [0.1111111111111111, \"#46039f\"], [0.2222222222222222, \"#7201a8\"], [0.3333333333333333, \"#9c179e\"], [0.4444444444444444, \"#bd3786\"], [0.5555555555555556, \"#d8576b\"], [0.6666666666666666, \"#ed7953\"], [0.7777777777777778, \"#fb9f3a\"], [0.8888888888888888, \"#fdca26\"], [1.0, \"#f0f921\"]], \"type\": \"heatmapgl\"}], \"histogram\": [{\"marker\": {\"colorbar\": {\"outlinewidth\": 0, \"ticks\": \"\"}}, \"type\": \"histogram\"}], \"histogram2d\": [{\"colorbar\": {\"outlinewidth\": 0, \"ticks\": \"\"}, \"colorscale\": [[0.0, \"#0d0887\"], [0.1111111111111111, \"#46039f\"], [0.2222222222222222, \"#7201a8\"], [0.3333333333333333, \"#9c179e\"], [0.4444444444444444, \"#bd3786\"], [0.5555555555555556, \"#d8576b\"], [0.6666666666666666, \"#ed7953\"], [0.7777777777777778, \"#fb9f3a\"], [0.8888888888888888, \"#fdca26\"], [1.0, \"#f0f921\"]], \"type\": \"histogram2d\"}], \"histogram2dcontour\": [{\"colorbar\": {\"outlinewidth\": 0, \"ticks\": \"\"}, \"colorscale\": [[0.0, \"#0d0887\"], [0.1111111111111111, \"#46039f\"], [0.2222222222222222, \"#7201a8\"], [0.3333333333333333, \"#9c179e\"], [0.4444444444444444, \"#bd3786\"], [0.5555555555555556, \"#d8576b\"], [0.6666666666666666, \"#ed7953\"], [0.7777777777777778, \"#fb9f3a\"], [0.8888888888888888, \"#fdca26\"], [1.0, \"#f0f921\"]], \"type\": \"histogram2dcontour\"}], \"mesh3d\": [{\"colorbar\": {\"outlinewidth\": 0, \"ticks\": \"\"}, \"type\": \"mesh3d\"}], \"parcoords\": [{\"line\": {\"colorbar\": {\"outlinewidth\": 0, \"ticks\": \"\"}}, \"type\": \"parcoords\"}], \"pie\": [{\"automargin\": true, \"type\": \"pie\"}], \"scatter\": [{\"marker\": {\"colorbar\": {\"outlinewidth\": 0, \"ticks\": \"\"}}, \"type\": \"scatter\"}], \"scatter3d\": [{\"line\": {\"colorbar\": {\"outlinewidth\": 0, \"ticks\": \"\"}}, \"marker\": {\"colorbar\": {\"outlinewidth\": 0, \"ticks\": \"\"}}, \"type\": \"scatter3d\"}], \"scattercarpet\": [{\"marker\": {\"colorbar\": {\"outlinewidth\": 0, \"ticks\": \"\"}}, \"type\": \"scattercarpet\"}], \"scattergeo\": [{\"marker\": {\"colorbar\": {\"outlinewidth\": 0, \"ticks\": \"\"}}, \"type\": \"scattergeo\"}], \"scattergl\": [{\"marker\": {\"colorbar\": {\"outlinewidth\": 0, \"ticks\": \"\"}}, \"type\": \"scattergl\"}], \"scattermapbox\": [{\"marker\": {\"colorbar\": {\"outlinewidth\": 0, \"ticks\": \"\"}}, \"type\": \"scattermapbox\"}], \"scatterpolar\": [{\"marker\": {\"colorbar\": {\"outlinewidth\": 0, \"ticks\": \"\"}}, \"type\": \"scatterpolar\"}], \"scatterpolargl\": [{\"marker\": {\"colorbar\": {\"outlinewidth\": 0, \"ticks\": \"\"}}, \"type\": \"scatterpolargl\"}], \"scatterternary\": [{\"marker\": {\"colorbar\": {\"outlinewidth\": 0, \"ticks\": \"\"}}, \"type\": \"scatterternary\"}], \"surface\": [{\"colorbar\": {\"outlinewidth\": 0, \"ticks\": \"\"}, \"colorscale\": [[0.0, \"#0d0887\"], [0.1111111111111111, \"#46039f\"], [0.2222222222222222, \"#7201a8\"], [0.3333333333333333, \"#9c179e\"], [0.4444444444444444, \"#bd3786\"], [0.5555555555555556, \"#d8576b\"], [0.6666666666666666, \"#ed7953\"], [0.7777777777777778, \"#fb9f3a\"], [0.8888888888888888, \"#fdca26\"], [1.0, \"#f0f921\"]], \"type\": \"surface\"}], \"table\": [{\"cells\": {\"fill\": {\"color\": \"#EBF0F8\"}, \"line\": {\"color\": \"white\"}}, \"header\": {\"fill\": {\"color\": \"#C8D4E3\"}, \"line\": {\"color\": \"white\"}}, \"type\": \"table\"}]}, \"layout\": {\"annotationdefaults\": {\"arrowcolor\": \"#2a3f5f\", \"arrowhead\": 0, \"arrowwidth\": 1}, \"coloraxis\": {\"colorbar\": {\"outlinewidth\": 0, \"ticks\": \"\"}}, \"colorscale\": {\"diverging\": [[0, \"#8e0152\"], [0.1, \"#c51b7d\"], [0.2, \"#de77ae\"], [0.3, \"#f1b6da\"], [0.4, \"#fde0ef\"], [0.5, \"#f7f7f7\"], [0.6, \"#e6f5d0\"], [0.7, \"#b8e186\"], [0.8, \"#7fbc41\"], [0.9, \"#4d9221\"], [1, \"#276419\"]], \"sequential\": [[0.0, \"#0d0887\"], [0.1111111111111111, \"#46039f\"], [0.2222222222222222, \"#7201a8\"], [0.3333333333333333, \"#9c179e\"], [0.4444444444444444, \"#bd3786\"], [0.5555555555555556, \"#d8576b\"], [0.6666666666666666, \"#ed7953\"], [0.7777777777777778, \"#fb9f3a\"], [0.8888888888888888, \"#fdca26\"], [1.0, \"#f0f921\"]], \"sequentialminus\": [[0.0, \"#0d0887\"], [0.1111111111111111, \"#46039f\"], [0.2222222222222222, \"#7201a8\"], [0.3333333333333333, \"#9c179e\"], [0.4444444444444444, \"#bd3786\"], [0.5555555555555556, \"#d8576b\"], [0.6666666666666666, \"#ed7953\"], [0.7777777777777778, \"#fb9f3a\"], [0.8888888888888888, \"#fdca26\"], [1.0, \"#f0f921\"]]}, \"colorway\": [\"#636efa\", \"#EF553B\", \"#00cc96\", \"#ab63fa\", \"#FFA15A\", \"#19d3f3\", \"#FF6692\", \"#B6E880\", \"#FF97FF\", \"#FECB52\"], \"font\": {\"color\": \"#2a3f5f\"}, \"geo\": {\"bgcolor\": \"white\", \"lakecolor\": \"white\", \"landcolor\": \"#E5ECF6\", \"showlakes\": true, \"showland\": true, \"subunitcolor\": \"white\"}, \"hoverlabel\": {\"align\": \"left\"}, \"hovermode\": \"closest\", \"mapbox\": {\"style\": \"light\"}, \"paper_bgcolor\": \"white\", \"plot_bgcolor\": \"#E5ECF6\", \"polar\": {\"angularaxis\": {\"gridcolor\": \"white\", \"linecolor\": \"white\", \"ticks\": \"\"}, \"bgcolor\": \"#E5ECF6\", \"radialaxis\": {\"gridcolor\": \"white\", \"linecolor\": \"white\", \"ticks\": \"\"}}, \"scene\": {\"xaxis\": {\"backgroundcolor\": \"#E5ECF6\", \"gridcolor\": \"white\", \"gridwidth\": 2, \"linecolor\": \"white\", \"showbackground\": true, \"ticks\": \"\", \"zerolinecolor\": \"white\"}, \"yaxis\": {\"backgroundcolor\": \"#E5ECF6\", \"gridcolor\": \"white\", \"gridwidth\": 2, \"linecolor\": \"white\", \"showbackground\": true, \"ticks\": \"\", \"zerolinecolor\": \"white\"}, \"zaxis\": {\"backgroundcolor\": \"#E5ECF6\", \"gridcolor\": \"white\", \"gridwidth\": 2, \"linecolor\": \"white\", \"showbackground\": true, \"ticks\": \"\", \"zerolinecolor\": \"white\"}}, \"shapedefaults\": {\"line\": {\"color\": \"#2a3f5f\"}}, \"ternary\": {\"aaxis\": {\"gridcolor\": \"white\", \"linecolor\": \"white\", \"ticks\": \"\"}, \"baxis\": {\"gridcolor\": \"white\", \"linecolor\": \"white\", \"ticks\": \"\"}, \"bgcolor\": \"#E5ECF6\", \"caxis\": {\"gridcolor\": \"white\", \"linecolor\": \"white\", \"ticks\": \"\"}}, \"title\": {\"x\": 0.05}, \"xaxis\": {\"automargin\": true, \"gridcolor\": \"white\", \"linecolor\": \"white\", \"ticks\": \"\", \"title\": {\"standoff\": 15}, \"zerolinecolor\": \"white\", \"zerolinewidth\": 2}, \"yaxis\": {\"automargin\": true, \"gridcolor\": \"white\", \"linecolor\": \"white\", \"ticks\": \"\", \"title\": {\"standoff\": 15}, \"zerolinecolor\": \"white\", \"zerolinewidth\": 2}}}, \"title\": {\"text\": \"Distribution Plot Local Ratings Vs IMDB |Movies\"}},\n",
       "                        {\"responsive\": true}\n",
       "                    ).then(function(){\n",
       "                            \n",
       "var gd = document.getElementById('406e130f-3871-4d57-8b73-ccb46e562f52');\n",
       "var x = new MutationObserver(function (mutations, observer) {{\n",
       "        var display = window.getComputedStyle(gd).display;\n",
       "        if (!display || display === 'none') {{\n",
       "            console.log([gd, 'removed!']);\n",
       "            Plotly.purge(gd);\n",
       "            observer.disconnect();\n",
       "        }}\n",
       "}});\n",
       "\n",
       "// Listen for the removal of the full notebook cells\n",
       "var notebookContainer = gd.closest('#notebook-container');\n",
       "if (notebookContainer) {{\n",
       "    x.observe(notebookContainer, {childList: true});\n",
       "}}\n",
       "\n",
       "// Listen for the clearing of the current output cell\n",
       "var outputEl = gd.closest('.output');\n",
       "if (outputEl) {{\n",
       "    x.observe(outputEl, {childList: true});\n",
       "}}\n",
       "\n",
       "                        })\n",
       "                };\n",
       "                });\n",
       "            </script>\n",
       "        </div>"
      ]
     },
     "metadata": {},
     "output_type": "display_data"
    }
   ],
   "source": [
    "\n",
    "fig = go.Figure()\n",
    "fig.add_trace(go.Histogram(x=movie_df['USER_REVIEWS_LOCAL'], name=\"Local Ratings|Movie\"))\n",
    "fig.add_trace(go.Histogram(x=movie_df['IMDB'], name=\"IMDB ratings|Movie\"))\n",
    "\n",
    "fig.add_trace(go.Scatter(\n",
    "    x=[imdb_ratings_mv_median-0.9, site_ratings_mv_median +1],\n",
    "    y=[300, 299],\n",
    "    text=[\"IMDB Median MV\",\"Site Ratings Median MV\",],\n",
    "    mode=\"text\",\n",
    "    showlegend=False\n",
    "#     name=[\"Site Ratings Mean\",\"IMDB Mean\"]\n",
    "))\n",
    "fig.add_shape(\n",
    "        # Line Horizontal\n",
    "            type=\"line\",\n",
    "            x0=imdb_ratings_mv_median,\n",
    "            y0=0,\n",
    "            x1=imdb_ratings_mv_median,\n",
    "            y1=350,\n",
    "            line=dict(\n",
    "                width=4,\n",
    "                dash=\"dot\",\n",
    "            ),\n",
    "    )\n",
    "fig.add_shape(\n",
    "            type=\"line\",\n",
    "            x0=site_ratings_mv_median,\n",
    "            y0=0,\n",
    "            x1=site_ratings_mv_median,\n",
    "            y1=350,\n",
    "            line=dict(\n",
    "                color=\"LightSeaGreen\",\n",
    "                width=4,\n",
    "                dash=\"dashdot\",\n",
    "            ),\n",
    "    )\n",
    "fig.update_layout(title=\"Distribution Plot Local Ratings Vs IMDB |Movies\")"
   ]
  },
  {
   "cell_type": "markdown",
   "metadata": {},
   "source": [
    "Local and IMDB both seems to be quite normally distributed, with the half of  below 7."
   ]
  },
  {
   "cell_type": "markdown",
   "metadata": {},
   "source": [
    "#### Movies sorted by SITE_RATINGS"
   ]
  },
  {
   "cell_type": "code",
   "execution_count": 13,
   "metadata": {
    "ExecuteTime": {
     "end_time": "2020-07-15T04:11:58.896567Z",
     "start_time": "2020-07-15T04:11:58.883566Z"
    }
   },
   "outputs": [],
   "source": [
    "site_ratings_mv = movie_df.sort_values('USER_REVIEWS_LOCAL', ascending=False,ignore_index=True)\n"
   ]
  },
  {
   "cell_type": "markdown",
   "metadata": {},
   "source": [
    "lets drop duplicates for cause for now we only care about movie_name and ratings"
   ]
  },
  {
   "cell_type": "code",
   "execution_count": 14,
   "metadata": {
    "ExecuteTime": {
     "end_time": "2020-07-15T04:11:58.926563Z",
     "start_time": "2020-07-15T04:11:58.900566Z"
    }
   },
   "outputs": [],
   "source": [
    "site_ratings_mv.drop_duplicates('MOVIE_NAME',inplace=True )\n"
   ]
  },
  {
   "cell_type": "code",
   "execution_count": 15,
   "metadata": {
    "ExecuteTime": {
     "end_time": "2020-07-15T04:11:58.942563Z",
     "start_time": "2020-07-15T04:11:58.929564Z"
    },
    "scrolled": true
   },
   "outputs": [],
   "source": [
    "eval_movie_df = site_ratings_mv[['MOVIE_NAME', 'IMDB','USER_REVIEWS_LOCAL','NUMBER_REVIEWS_LOCAL','SITE_RANK']]"
   ]
  },
  {
   "cell_type": "markdown",
   "metadata": {},
   "source": [
    "The raitings are from different source and number of user from IMDB is unknown so lets normalize them"
   ]
  },
  {
   "cell_type": "code",
   "execution_count": 16,
   "metadata": {
    "ExecuteTime": {
     "end_time": "2020-07-15T04:11:59.021566Z",
     "start_time": "2020-07-15T04:11:58.946569Z"
    }
   },
   "outputs": [],
   "source": [
    "from sklearn.preprocessing import MinMaxScaler"
   ]
  },
  {
   "cell_type": "code",
   "execution_count": 17,
   "metadata": {
    "ExecuteTime": {
     "end_time": "2020-07-15T04:11:59.037566Z",
     "start_time": "2020-07-15T04:11:59.024567Z"
    }
   },
   "outputs": [],
   "source": [
    "scaler = MinMaxScaler()"
   ]
  },
  {
   "cell_type": "code",
   "execution_count": 18,
   "metadata": {
    "ExecuteTime": {
     "end_time": "2020-07-15T04:11:59.069563Z",
     "start_time": "2020-07-15T04:11:59.040567Z"
    }
   },
   "outputs": [],
   "source": [
    "eval_movie_df[['IMDB','USER_REVIEWS_LOCAL']] = scaler.fit_transform(eval_movie_df[['IMDB','USER_REVIEWS_LOCAL']])"
   ]
  },
  {
   "cell_type": "code",
   "execution_count": 19,
   "metadata": {
    "ExecuteTime": {
     "end_time": "2020-07-15T04:11:59.085567Z",
     "start_time": "2020-07-15T04:11:59.072565Z"
    }
   },
   "outputs": [],
   "source": [
    "movie_names = eval_movie_df.MOVIE_NAME.values.tolist()\n",
    "imdb_ratings = eval_movie_df.IMDB.values.tolist()\n",
    "local_ratings = eval_movie_df.USER_REVIEWS_LOCAL.values.tolist()\n"
   ]
  },
  {
   "cell_type": "code",
   "execution_count": 20,
   "metadata": {
    "ExecuteTime": {
     "end_time": "2020-07-15T04:11:59.163565Z",
     "start_time": "2020-07-15T04:11:59.088567Z"
    },
    "scrolled": false
   },
   "outputs": [
    {
     "data": {
      "application/vnd.plotly.v1+json": {
       "config": {
        "plotlyServerURL": "https://plot.ly"
       },
       "data": [
        {
         "name": "IMDB Ratings Top 100 |Movie",
         "type": "bar",
         "x": [
          "The Irishman",
          "The Professor and the Madman",
          "Yellow is the New Black",
          "Dave Chappelle: Sticks & Stones",
          "Mortal Kombat Legends: Scorpion's Revenge",
          "Hacksaw Ridge",
          "Only Fools and Horses",
          "BoBoiBoy: The Movie",
          "Normal People",
          "24",
          "Apollo 11",
          "The Passion Of The Christ",
          "Ne Zha",
          "The King of Staten Island",
          "Ronaldo",
          "Shrek 1",
          "Christopher Robin",
          "A Dog's Way Home",
          "Dangal",
          "The Shawshank Redemption",
          "Love, Death & Robots",
          "Zoey's Extraordinary Playlist",
          "Tolkien",
          "Taboo",
          "Motherland: Fort Salem",
          "The Outfield",
          "Whiplash",
          "The Man Who Knew Infinity",
          "Lion",
          "Shrek 2",
          "Band of Brothers",
          "A Dog's Purpose",
          "Kingsglaive: Final Fantasy XV",
          "The Lord Of The Rings: The Return Of The King (EXTENDED)",
          "I Am Mother",
          "Free Solo",
          "Gentleman Jack",
          "The Professor",
          "Arctic",
          "The King",
          "Train to Busan",
          "Beauty And The Beast",
          "Togo",
          "Mom",
          "Swades",
          "Bajrangi Bhaijaan",
          "Forrest Gump",
          "8 Mile",
          "Kung Fu Panda: The Paws of Destiny",
          "Stargirl",
          "The Good Dinosaur",
          "Cars",
          "Half Girlfriend",
          "Polar",
          "The Pursuit Of Happyness",
          "Big Brother",
          "Outlaw King",
          "Spirited Away",
          "Newton",
          "The Highwaymen",
          "Escape from Pretoria",
          "Dolemite Is My Name",
          "The Godfather 2",
          "Dilwale Dulhania Le Jayenge",
          "Freaks",
          "K.G.F: Chapter 1",
          "Twin Peaks",
          "Nightflyers",
          "The Nightmare Before Christmas",
          "The Baker and the Beauty",
          "Your Name.",
          "Hidden Figures",
          "Real Steel",
          "Cinderella",
          "Avengement",
          "Charlie And The Chocolate Factory",
          "Boruto: Naruto The Movie",
          "Terminator 2: Judgment Day",
          "Gabbar Is Back",
          "The Godfather",
          "Student Of The Year",
          "Pennyworth",
          "Transformers: Age Of Extinction",
          "The Lord Of The Rings: The Two Towers (EXTENDED)",
          "Green Book",
          "The Mustang",
          "The Lord Of The Rings: The Fellowship Of The Ring (EXTENDED)",
          "Saving Private Ryan",
          "Interstellar",
          "The Karate Kid",
          "\"Sherlock\" The Abominable Bride",
          "How to Train Your Dragon: Homecoming",
          "Maria",
          "Kung Fu Panda 3",
          "Descendants 3",
          "Pulp Fiction",
          "Carol",
          "Frozen Fever",
          "The Lion King 2: Simba's Pride",
          "The Wandering Earth"
         ],
         "y": [
          0.8404255319148937,
          0.776595744680851,
          0.6595744680851064,
          0.9042553191489362,
          0.7978723404255319,
          0.8617021276595744,
          0.946808510638298,
          0.7553191489361701,
          0.9361702127659576,
          0.8297872340425532,
          0.8723404255319148,
          0.7553191489361701,
          0.7978723404255319,
          0.6595744680851064,
          0.6808510638297873,
          0.8297872340425532,
          0.776595744680851,
          0.7127659574468085,
          0.8936170212765958,
          0.9893617021276596,
          0.9042553191489362,
          0.8617021276595744,
          0.7234042553191489,
          0.8936170212765958,
          0.7340425531914894,
          0.5,
          0.9042553191489362,
          0.7659574468085106,
          0.851063829787234,
          0.7659574468085106,
          1,
          0.7659574468085106,
          0.7234042553191489,
          0.946808510638298,
          0.7127659574468085,
          0.8723404255319148,
          0.8723404255319148,
          0.7127659574468085,
          0.7234042553191489,
          0.7659574468085106,
          0.7978723404255319,
          0.851063829787234,
          0.8617021276595744,
          0.776595744680851,
          0.8723404255319148,
          0.851063829787234,
          0.9361702127659576,
          0.7553191489361701,
          0.8085106382978723,
          0.8404255319148937,
          0.7127659574468085,
          0.7553191489361701,
          0.4574468085106383,
          0.6702127659574468,
          0.851063829787234,
          0.6702127659574468,
          0.7340425531914894,
          0.9148936170212766,
          0.8191489361702128,
          0.7340425531914894,
          0.7234042553191489,
          0.776595744680851,
          0.9574468085106383,
          0.8617021276595744,
          0.7127659574468085,
          0.8723404255319148,
          0.9042553191489362,
          0.6276595744680852,
          0.851063829787234,
          0.7553191489361701,
          0.8936170212765958,
          0.8297872340425532,
          0.7553191489361701,
          0.7340425531914894,
          0.6914893617021277,
          0.7021276595744681,
          0.8404255319148937,
          0.9042553191489362,
          0.7553191489361701,
          0.9787234042553191,
          0.574468085106383,
          0.851063829787234,
          0.5957446808510638,
          0.925531914893617,
          0.8723404255319148,
          0.7340425531914894,
          0.9361702127659576,
          0.9148936170212766,
          0.9148936170212766,
          0.6595744680851064,
          0.8723404255319148,
          0.776595744680851,
          0.5319148936170213,
          0.7553191489361701,
          0.7127659574468085,
          0.946808510638298,
          0.7659574468085106,
          0.7340425531914894,
          0.6914893617021277,
          0.6382978723404256
         ]
        },
        {
         "name": "Local Ratings Top 100 |Movie",
         "type": "bar",
         "x": [
          "The Irishman",
          "The Professor and the Madman",
          "Yellow is the New Black",
          "Dave Chappelle: Sticks & Stones",
          "Mortal Kombat Legends: Scorpion's Revenge",
          "Hacksaw Ridge",
          "Only Fools and Horses",
          "BoBoiBoy: The Movie",
          "Normal People",
          "24",
          "Apollo 11",
          "The Passion Of The Christ",
          "Ne Zha",
          "The King of Staten Island",
          "Ronaldo",
          "Shrek 1",
          "Christopher Robin",
          "A Dog's Way Home",
          "Dangal",
          "The Shawshank Redemption",
          "Love, Death & Robots",
          "Zoey's Extraordinary Playlist",
          "Tolkien",
          "Taboo",
          "Motherland: Fort Salem",
          "The Outfield",
          "Whiplash",
          "The Man Who Knew Infinity",
          "Lion",
          "Shrek 2",
          "Band of Brothers",
          "A Dog's Purpose",
          "Kingsglaive: Final Fantasy XV",
          "The Lord Of The Rings: The Return Of The King (EXTENDED)",
          "I Am Mother",
          "Free Solo",
          "Gentleman Jack",
          "The Professor",
          "Arctic",
          "The King",
          "Train to Busan",
          "Beauty And The Beast",
          "Togo",
          "Mom",
          "Swades",
          "Bajrangi Bhaijaan",
          "Forrest Gump",
          "8 Mile",
          "Kung Fu Panda: The Paws of Destiny",
          "Stargirl",
          "The Good Dinosaur",
          "Cars",
          "Half Girlfriend",
          "Polar",
          "The Pursuit Of Happyness",
          "Big Brother",
          "Outlaw King",
          "Spirited Away",
          "Newton",
          "The Highwaymen",
          "Escape from Pretoria",
          "Dolemite Is My Name",
          "The Godfather 2",
          "Dilwale Dulhania Le Jayenge",
          "Freaks",
          "K.G.F: Chapter 1",
          "Twin Peaks",
          "Nightflyers",
          "The Nightmare Before Christmas",
          "The Baker and the Beauty",
          "Your Name.",
          "Hidden Figures",
          "Real Steel",
          "Cinderella",
          "Avengement",
          "Charlie And The Chocolate Factory",
          "Boruto: Naruto The Movie",
          "Terminator 2: Judgment Day",
          "Gabbar Is Back",
          "The Godfather",
          "Student Of The Year",
          "Pennyworth",
          "Transformers: Age Of Extinction",
          "The Lord Of The Rings: The Two Towers (EXTENDED)",
          "Green Book",
          "The Mustang",
          "The Lord Of The Rings: The Fellowship Of The Ring (EXTENDED)",
          "Saving Private Ryan",
          "Interstellar",
          "The Karate Kid",
          "\"Sherlock\" The Abominable Bride",
          "How to Train Your Dragon: Homecoming",
          "Maria",
          "Kung Fu Panda 3",
          "Descendants 3",
          "Pulp Fiction",
          "Carol",
          "Frozen Fever",
          "The Lion King 2: Simba's Pride",
          "The Wandering Earth"
         ],
         "y": [
          0.9999999999999998,
          0.9736842105263153,
          0.9473684210526312,
          0.894736842105263,
          0.894736842105263,
          0.894736842105263,
          0.894736842105263,
          0.894736842105263,
          0.894736842105263,
          0.8684210526315785,
          0.8684210526315785,
          0.8684210526315785,
          0.8684210526315785,
          0.8684210526315785,
          0.8684210526315785,
          0.8421052631578945,
          0.8421052631578945,
          0.8421052631578945,
          0.8421052631578945,
          0.8421052631578945,
          0.8421052631578945,
          0.8421052631578945,
          0.8421052631578945,
          0.8421052631578945,
          0.8421052631578945,
          0.8421052631578945,
          0.8421052631578945,
          0.8421052631578945,
          0.8421052631578945,
          0.8157894736842102,
          0.8157894736842102,
          0.8157894736842102,
          0.8157894736842102,
          0.8157894736842102,
          0.8157894736842102,
          0.8157894736842102,
          0.8157894736842102,
          0.8157894736842102,
          0.8157894736842102,
          0.8157894736842102,
          0.8157894736842102,
          0.8157894736842102,
          0.8157894736842102,
          0.8157894736842102,
          0.8157894736842102,
          0.8157894736842102,
          0.8157894736842102,
          0.7894736842105261,
          0.7894736842105261,
          0.7894736842105261,
          0.7894736842105261,
          0.7894736842105261,
          0.7894736842105261,
          0.7894736842105261,
          0.7894736842105261,
          0.7894736842105261,
          0.7894736842105261,
          0.7894736842105261,
          0.7894736842105261,
          0.7894736842105261,
          0.7894736842105261,
          0.7894736842105261,
          0.7894736842105261,
          0.7894736842105261,
          0.7894736842105261,
          0.7894736842105261,
          0.7894736842105261,
          0.7894736842105261,
          0.7894736842105261,
          0.7894736842105261,
          0.7894736842105261,
          0.7894736842105261,
          0.7894736842105261,
          0.7894736842105261,
          0.7894736842105261,
          0.7894736842105261,
          0.7894736842105261,
          0.7894736842105261,
          0.763157894736842,
          0.763157894736842,
          0.763157894736842,
          0.763157894736842,
          0.763157894736842,
          0.763157894736842,
          0.763157894736842,
          0.763157894736842,
          0.763157894736842,
          0.763157894736842,
          0.763157894736842,
          0.763157894736842,
          0.763157894736842,
          0.763157894736842,
          0.763157894736842,
          0.763157894736842,
          0.763157894736842,
          0.763157894736842,
          0.763157894736842,
          0.763157894736842,
          0.763157894736842,
          0.763157894736842
         ]
        }
       ],
       "layout": {
        "height": 700,
        "template": {
         "data": {
          "bar": [
           {
            "error_x": {
             "color": "#2a3f5f"
            },
            "error_y": {
             "color": "#2a3f5f"
            },
            "marker": {
             "line": {
              "color": "#E5ECF6",
              "width": 0.5
             }
            },
            "type": "bar"
           }
          ],
          "barpolar": [
           {
            "marker": {
             "line": {
              "color": "#E5ECF6",
              "width": 0.5
             }
            },
            "type": "barpolar"
           }
          ],
          "carpet": [
           {
            "aaxis": {
             "endlinecolor": "#2a3f5f",
             "gridcolor": "white",
             "linecolor": "white",
             "minorgridcolor": "white",
             "startlinecolor": "#2a3f5f"
            },
            "baxis": {
             "endlinecolor": "#2a3f5f",
             "gridcolor": "white",
             "linecolor": "white",
             "minorgridcolor": "white",
             "startlinecolor": "#2a3f5f"
            },
            "type": "carpet"
           }
          ],
          "choropleth": [
           {
            "colorbar": {
             "outlinewidth": 0,
             "ticks": ""
            },
            "type": "choropleth"
           }
          ],
          "contour": [
           {
            "colorbar": {
             "outlinewidth": 0,
             "ticks": ""
            },
            "colorscale": [
             [
              0,
              "#0d0887"
             ],
             [
              0.1111111111111111,
              "#46039f"
             ],
             [
              0.2222222222222222,
              "#7201a8"
             ],
             [
              0.3333333333333333,
              "#9c179e"
             ],
             [
              0.4444444444444444,
              "#bd3786"
             ],
             [
              0.5555555555555556,
              "#d8576b"
             ],
             [
              0.6666666666666666,
              "#ed7953"
             ],
             [
              0.7777777777777778,
              "#fb9f3a"
             ],
             [
              0.8888888888888888,
              "#fdca26"
             ],
             [
              1,
              "#f0f921"
             ]
            ],
            "type": "contour"
           }
          ],
          "contourcarpet": [
           {
            "colorbar": {
             "outlinewidth": 0,
             "ticks": ""
            },
            "type": "contourcarpet"
           }
          ],
          "heatmap": [
           {
            "colorbar": {
             "outlinewidth": 0,
             "ticks": ""
            },
            "colorscale": [
             [
              0,
              "#0d0887"
             ],
             [
              0.1111111111111111,
              "#46039f"
             ],
             [
              0.2222222222222222,
              "#7201a8"
             ],
             [
              0.3333333333333333,
              "#9c179e"
             ],
             [
              0.4444444444444444,
              "#bd3786"
             ],
             [
              0.5555555555555556,
              "#d8576b"
             ],
             [
              0.6666666666666666,
              "#ed7953"
             ],
             [
              0.7777777777777778,
              "#fb9f3a"
             ],
             [
              0.8888888888888888,
              "#fdca26"
             ],
             [
              1,
              "#f0f921"
             ]
            ],
            "type": "heatmap"
           }
          ],
          "heatmapgl": [
           {
            "colorbar": {
             "outlinewidth": 0,
             "ticks": ""
            },
            "colorscale": [
             [
              0,
              "#0d0887"
             ],
             [
              0.1111111111111111,
              "#46039f"
             ],
             [
              0.2222222222222222,
              "#7201a8"
             ],
             [
              0.3333333333333333,
              "#9c179e"
             ],
             [
              0.4444444444444444,
              "#bd3786"
             ],
             [
              0.5555555555555556,
              "#d8576b"
             ],
             [
              0.6666666666666666,
              "#ed7953"
             ],
             [
              0.7777777777777778,
              "#fb9f3a"
             ],
             [
              0.8888888888888888,
              "#fdca26"
             ],
             [
              1,
              "#f0f921"
             ]
            ],
            "type": "heatmapgl"
           }
          ],
          "histogram": [
           {
            "marker": {
             "colorbar": {
              "outlinewidth": 0,
              "ticks": ""
             }
            },
            "type": "histogram"
           }
          ],
          "histogram2d": [
           {
            "colorbar": {
             "outlinewidth": 0,
             "ticks": ""
            },
            "colorscale": [
             [
              0,
              "#0d0887"
             ],
             [
              0.1111111111111111,
              "#46039f"
             ],
             [
              0.2222222222222222,
              "#7201a8"
             ],
             [
              0.3333333333333333,
              "#9c179e"
             ],
             [
              0.4444444444444444,
              "#bd3786"
             ],
             [
              0.5555555555555556,
              "#d8576b"
             ],
             [
              0.6666666666666666,
              "#ed7953"
             ],
             [
              0.7777777777777778,
              "#fb9f3a"
             ],
             [
              0.8888888888888888,
              "#fdca26"
             ],
             [
              1,
              "#f0f921"
             ]
            ],
            "type": "histogram2d"
           }
          ],
          "histogram2dcontour": [
           {
            "colorbar": {
             "outlinewidth": 0,
             "ticks": ""
            },
            "colorscale": [
             [
              0,
              "#0d0887"
             ],
             [
              0.1111111111111111,
              "#46039f"
             ],
             [
              0.2222222222222222,
              "#7201a8"
             ],
             [
              0.3333333333333333,
              "#9c179e"
             ],
             [
              0.4444444444444444,
              "#bd3786"
             ],
             [
              0.5555555555555556,
              "#d8576b"
             ],
             [
              0.6666666666666666,
              "#ed7953"
             ],
             [
              0.7777777777777778,
              "#fb9f3a"
             ],
             [
              0.8888888888888888,
              "#fdca26"
             ],
             [
              1,
              "#f0f921"
             ]
            ],
            "type": "histogram2dcontour"
           }
          ],
          "mesh3d": [
           {
            "colorbar": {
             "outlinewidth": 0,
             "ticks": ""
            },
            "type": "mesh3d"
           }
          ],
          "parcoords": [
           {
            "line": {
             "colorbar": {
              "outlinewidth": 0,
              "ticks": ""
             }
            },
            "type": "parcoords"
           }
          ],
          "pie": [
           {
            "automargin": true,
            "type": "pie"
           }
          ],
          "scatter": [
           {
            "marker": {
             "colorbar": {
              "outlinewidth": 0,
              "ticks": ""
             }
            },
            "type": "scatter"
           }
          ],
          "scatter3d": [
           {
            "line": {
             "colorbar": {
              "outlinewidth": 0,
              "ticks": ""
             }
            },
            "marker": {
             "colorbar": {
              "outlinewidth": 0,
              "ticks": ""
             }
            },
            "type": "scatter3d"
           }
          ],
          "scattercarpet": [
           {
            "marker": {
             "colorbar": {
              "outlinewidth": 0,
              "ticks": ""
             }
            },
            "type": "scattercarpet"
           }
          ],
          "scattergeo": [
           {
            "marker": {
             "colorbar": {
              "outlinewidth": 0,
              "ticks": ""
             }
            },
            "type": "scattergeo"
           }
          ],
          "scattergl": [
           {
            "marker": {
             "colorbar": {
              "outlinewidth": 0,
              "ticks": ""
             }
            },
            "type": "scattergl"
           }
          ],
          "scattermapbox": [
           {
            "marker": {
             "colorbar": {
              "outlinewidth": 0,
              "ticks": ""
             }
            },
            "type": "scattermapbox"
           }
          ],
          "scatterpolar": [
           {
            "marker": {
             "colorbar": {
              "outlinewidth": 0,
              "ticks": ""
             }
            },
            "type": "scatterpolar"
           }
          ],
          "scatterpolargl": [
           {
            "marker": {
             "colorbar": {
              "outlinewidth": 0,
              "ticks": ""
             }
            },
            "type": "scatterpolargl"
           }
          ],
          "scatterternary": [
           {
            "marker": {
             "colorbar": {
              "outlinewidth": 0,
              "ticks": ""
             }
            },
            "type": "scatterternary"
           }
          ],
          "surface": [
           {
            "colorbar": {
             "outlinewidth": 0,
             "ticks": ""
            },
            "colorscale": [
             [
              0,
              "#0d0887"
             ],
             [
              0.1111111111111111,
              "#46039f"
             ],
             [
              0.2222222222222222,
              "#7201a8"
             ],
             [
              0.3333333333333333,
              "#9c179e"
             ],
             [
              0.4444444444444444,
              "#bd3786"
             ],
             [
              0.5555555555555556,
              "#d8576b"
             ],
             [
              0.6666666666666666,
              "#ed7953"
             ],
             [
              0.7777777777777778,
              "#fb9f3a"
             ],
             [
              0.8888888888888888,
              "#fdca26"
             ],
             [
              1,
              "#f0f921"
             ]
            ],
            "type": "surface"
           }
          ],
          "table": [
           {
            "cells": {
             "fill": {
              "color": "#EBF0F8"
             },
             "line": {
              "color": "white"
             }
            },
            "header": {
             "fill": {
              "color": "#C8D4E3"
             },
             "line": {
              "color": "white"
             }
            },
            "type": "table"
           }
          ]
         },
         "layout": {
          "annotationdefaults": {
           "arrowcolor": "#2a3f5f",
           "arrowhead": 0,
           "arrowwidth": 1
          },
          "coloraxis": {
           "colorbar": {
            "outlinewidth": 0,
            "ticks": ""
           }
          },
          "colorscale": {
           "diverging": [
            [
             0,
             "#8e0152"
            ],
            [
             0.1,
             "#c51b7d"
            ],
            [
             0.2,
             "#de77ae"
            ],
            [
             0.3,
             "#f1b6da"
            ],
            [
             0.4,
             "#fde0ef"
            ],
            [
             0.5,
             "#f7f7f7"
            ],
            [
             0.6,
             "#e6f5d0"
            ],
            [
             0.7,
             "#b8e186"
            ],
            [
             0.8,
             "#7fbc41"
            ],
            [
             0.9,
             "#4d9221"
            ],
            [
             1,
             "#276419"
            ]
           ],
           "sequential": [
            [
             0,
             "#0d0887"
            ],
            [
             0.1111111111111111,
             "#46039f"
            ],
            [
             0.2222222222222222,
             "#7201a8"
            ],
            [
             0.3333333333333333,
             "#9c179e"
            ],
            [
             0.4444444444444444,
             "#bd3786"
            ],
            [
             0.5555555555555556,
             "#d8576b"
            ],
            [
             0.6666666666666666,
             "#ed7953"
            ],
            [
             0.7777777777777778,
             "#fb9f3a"
            ],
            [
             0.8888888888888888,
             "#fdca26"
            ],
            [
             1,
             "#f0f921"
            ]
           ],
           "sequentialminus": [
            [
             0,
             "#0d0887"
            ],
            [
             0.1111111111111111,
             "#46039f"
            ],
            [
             0.2222222222222222,
             "#7201a8"
            ],
            [
             0.3333333333333333,
             "#9c179e"
            ],
            [
             0.4444444444444444,
             "#bd3786"
            ],
            [
             0.5555555555555556,
             "#d8576b"
            ],
            [
             0.6666666666666666,
             "#ed7953"
            ],
            [
             0.7777777777777778,
             "#fb9f3a"
            ],
            [
             0.8888888888888888,
             "#fdca26"
            ],
            [
             1,
             "#f0f921"
            ]
           ]
          },
          "colorway": [
           "#636efa",
           "#EF553B",
           "#00cc96",
           "#ab63fa",
           "#FFA15A",
           "#19d3f3",
           "#FF6692",
           "#B6E880",
           "#FF97FF",
           "#FECB52"
          ],
          "font": {
           "color": "#2a3f5f"
          },
          "geo": {
           "bgcolor": "white",
           "lakecolor": "white",
           "landcolor": "#E5ECF6",
           "showlakes": true,
           "showland": true,
           "subunitcolor": "white"
          },
          "hoverlabel": {
           "align": "left"
          },
          "hovermode": "closest",
          "mapbox": {
           "style": "light"
          },
          "paper_bgcolor": "white",
          "plot_bgcolor": "#E5ECF6",
          "polar": {
           "angularaxis": {
            "gridcolor": "white",
            "linecolor": "white",
            "ticks": ""
           },
           "bgcolor": "#E5ECF6",
           "radialaxis": {
            "gridcolor": "white",
            "linecolor": "white",
            "ticks": ""
           }
          },
          "scene": {
           "xaxis": {
            "backgroundcolor": "#E5ECF6",
            "gridcolor": "white",
            "gridwidth": 2,
            "linecolor": "white",
            "showbackground": true,
            "ticks": "",
            "zerolinecolor": "white"
           },
           "yaxis": {
            "backgroundcolor": "#E5ECF6",
            "gridcolor": "white",
            "gridwidth": 2,
            "linecolor": "white",
            "showbackground": true,
            "ticks": "",
            "zerolinecolor": "white"
           },
           "zaxis": {
            "backgroundcolor": "#E5ECF6",
            "gridcolor": "white",
            "gridwidth": 2,
            "linecolor": "white",
            "showbackground": true,
            "ticks": "",
            "zerolinecolor": "white"
           }
          },
          "shapedefaults": {
           "line": {
            "color": "#2a3f5f"
           }
          },
          "ternary": {
           "aaxis": {
            "gridcolor": "white",
            "linecolor": "white",
            "ticks": ""
           },
           "baxis": {
            "gridcolor": "white",
            "linecolor": "white",
            "ticks": ""
           },
           "bgcolor": "#E5ECF6",
           "caxis": {
            "gridcolor": "white",
            "linecolor": "white",
            "ticks": ""
           }
          },
          "title": {
           "x": 0.05
          },
          "xaxis": {
           "automargin": true,
           "gridcolor": "white",
           "linecolor": "white",
           "ticks": "",
           "title": {
            "standoff": 15
           },
           "zerolinecolor": "white",
           "zerolinewidth": 2
          },
          "yaxis": {
           "automargin": true,
           "gridcolor": "white",
           "linecolor": "white",
           "ticks": "",
           "title": {
            "standoff": 15
           },
           "zerolinecolor": "white",
           "zerolinewidth": 2
          }
         }
        },
        "title": {
         "text": "IMDB Vs Local Ratings Top 100,|Movie | sorted Local Ratings"
        },
        "xaxis": {
         "tickangle": -45,
         "title": {
          "text": "Movies"
         }
        },
        "yaxis": {
         "title": {
          "text": "Ratings"
         }
        }
       }
      },
      "text/html": [
       "<div>\n",
       "        \n",
       "        \n",
       "            <div id=\"fd7079b5-04af-4de7-9ca7-2527d1913df2\" class=\"plotly-graph-div\" style=\"height:700px; width:100%;\"></div>\n",
       "            <script type=\"text/javascript\">\n",
       "                require([\"plotly\"], function(Plotly) {\n",
       "                    window.PLOTLYENV=window.PLOTLYENV || {};\n",
       "                    \n",
       "                if (document.getElementById(\"fd7079b5-04af-4de7-9ca7-2527d1913df2\")) {\n",
       "                    Plotly.newPlot(\n",
       "                        'fd7079b5-04af-4de7-9ca7-2527d1913df2',\n",
       "                        [{\"name\": \"IMDB Ratings Top 100 |Movie\", \"type\": \"bar\", \"x\": [\"The Irishman\", \"The Professor and the Madman\", \"Yellow is the New Black\", \"Dave Chappelle: Sticks & Stones\", \"Mortal Kombat Legends: Scorpion's Revenge\", \"Hacksaw Ridge\", \"Only Fools and Horses\", \"BoBoiBoy: The Movie\", \"Normal People\", \"24\", \"Apollo 11\", \"The Passion Of The Christ\", \"Ne Zha\", \"The King of Staten Island\", \"Ronaldo\", \"Shrek 1\", \"Christopher Robin\", \"A Dog's Way Home\", \"Dangal\", \"The Shawshank Redemption\", \"Love, Death & Robots\", \"Zoey's Extraordinary Playlist\", \"Tolkien\", \"Taboo\", \"Motherland: Fort Salem\", \"The Outfield\", \"Whiplash\", \"The Man Who Knew Infinity\", \"Lion\", \"Shrek 2\", \"Band of Brothers\", \"A Dog's Purpose\", \"Kingsglaive: Final Fantasy XV\", \"The Lord Of The Rings: The Return Of The King (EXTENDED)\", \"I Am Mother\", \"Free Solo\", \"Gentleman Jack\", \"The Professor\", \"Arctic\", \"The King\", \"Train to Busan\", \"Beauty And The Beast\", \"Togo\", \"Mom\", \"Swades\", \"Bajrangi Bhaijaan\", \"Forrest Gump\", \"8 Mile\", \"Kung Fu Panda: The Paws of Destiny\", \"Stargirl\", \"The Good Dinosaur\", \"Cars\", \"Half Girlfriend\", \"Polar\", \"The Pursuit Of Happyness\", \"Big Brother\", \"Outlaw King\", \"Spirited Away\", \"Newton\", \"The Highwaymen\", \"Escape from Pretoria\", \"Dolemite Is My Name\", \"The Godfather 2\", \"Dilwale Dulhania Le Jayenge\", \"Freaks\", \"K.G.F: Chapter 1\", \"Twin Peaks\", \"Nightflyers\", \"The Nightmare Before Christmas\", \"The Baker and the Beauty\", \"Your Name.\", \"Hidden Figures\", \"Real Steel\", \"Cinderella\", \"Avengement\", \"Charlie And The Chocolate Factory\", \"Boruto: Naruto The Movie\", \"Terminator 2: Judgment Day\", \"Gabbar Is Back\", \"The Godfather\", \"Student Of The Year\", \"Pennyworth\", \"Transformers: Age Of Extinction\", \"The Lord Of The Rings: The Two Towers (EXTENDED)\", \"Green Book\", \"The Mustang\", \"The Lord Of The Rings: The Fellowship Of The Ring (EXTENDED)\", \"Saving Private Ryan\", \"Interstellar\", \"The Karate Kid\", \"\\\"Sherlock\\\" The Abominable Bride\", \"How to Train Your Dragon: Homecoming\", \"Maria\", \"Kung Fu Panda 3\", \"Descendants 3\", \"Pulp Fiction\", \"Carol\", \"Frozen Fever\", \"The Lion King 2: Simba's Pride\", \"The Wandering Earth\"], \"y\": [0.8404255319148937, 0.776595744680851, 0.6595744680851064, 0.9042553191489362, 0.7978723404255319, 0.8617021276595744, 0.946808510638298, 0.7553191489361701, 0.9361702127659576, 0.8297872340425532, 0.8723404255319148, 0.7553191489361701, 0.7978723404255319, 0.6595744680851064, 0.6808510638297873, 0.8297872340425532, 0.776595744680851, 0.7127659574468085, 0.8936170212765958, 0.9893617021276596, 0.9042553191489362, 0.8617021276595744, 0.7234042553191489, 0.8936170212765958, 0.7340425531914894, 0.5, 0.9042553191489362, 0.7659574468085106, 0.851063829787234, 0.7659574468085106, 1.0, 0.7659574468085106, 0.7234042553191489, 0.946808510638298, 0.7127659574468085, 0.8723404255319148, 0.8723404255319148, 0.7127659574468085, 0.7234042553191489, 0.7659574468085106, 0.7978723404255319, 0.851063829787234, 0.8617021276595744, 0.776595744680851, 0.8723404255319148, 0.851063829787234, 0.9361702127659576, 0.7553191489361701, 0.8085106382978723, 0.8404255319148937, 0.7127659574468085, 0.7553191489361701, 0.4574468085106383, 0.6702127659574468, 0.851063829787234, 0.6702127659574468, 0.7340425531914894, 0.9148936170212766, 0.8191489361702128, 0.7340425531914894, 0.7234042553191489, 0.776595744680851, 0.9574468085106383, 0.8617021276595744, 0.7127659574468085, 0.8723404255319148, 0.9042553191489362, 0.6276595744680852, 0.851063829787234, 0.7553191489361701, 0.8936170212765958, 0.8297872340425532, 0.7553191489361701, 0.7340425531914894, 0.6914893617021277, 0.7021276595744681, 0.8404255319148937, 0.9042553191489362, 0.7553191489361701, 0.9787234042553191, 0.574468085106383, 0.851063829787234, 0.5957446808510638, 0.925531914893617, 0.8723404255319148, 0.7340425531914894, 0.9361702127659576, 0.9148936170212766, 0.9148936170212766, 0.6595744680851064, 0.8723404255319148, 0.776595744680851, 0.5319148936170213, 0.7553191489361701, 0.7127659574468085, 0.946808510638298, 0.7659574468085106, 0.7340425531914894, 0.6914893617021277, 0.6382978723404256]}, {\"name\": \"Local Ratings Top 100 |Movie\", \"type\": \"bar\", \"x\": [\"The Irishman\", \"The Professor and the Madman\", \"Yellow is the New Black\", \"Dave Chappelle: Sticks & Stones\", \"Mortal Kombat Legends: Scorpion's Revenge\", \"Hacksaw Ridge\", \"Only Fools and Horses\", \"BoBoiBoy: The Movie\", \"Normal People\", \"24\", \"Apollo 11\", \"The Passion Of The Christ\", \"Ne Zha\", \"The King of Staten Island\", \"Ronaldo\", \"Shrek 1\", \"Christopher Robin\", \"A Dog's Way Home\", \"Dangal\", \"The Shawshank Redemption\", \"Love, Death & Robots\", \"Zoey's Extraordinary Playlist\", \"Tolkien\", \"Taboo\", \"Motherland: Fort Salem\", \"The Outfield\", \"Whiplash\", \"The Man Who Knew Infinity\", \"Lion\", \"Shrek 2\", \"Band of Brothers\", \"A Dog's Purpose\", \"Kingsglaive: Final Fantasy XV\", \"The Lord Of The Rings: The Return Of The King (EXTENDED)\", \"I Am Mother\", \"Free Solo\", \"Gentleman Jack\", \"The Professor\", \"Arctic\", \"The King\", \"Train to Busan\", \"Beauty And The Beast\", \"Togo\", \"Mom\", \"Swades\", \"Bajrangi Bhaijaan\", \"Forrest Gump\", \"8 Mile\", \"Kung Fu Panda: The Paws of Destiny\", \"Stargirl\", \"The Good Dinosaur\", \"Cars\", \"Half Girlfriend\", \"Polar\", \"The Pursuit Of Happyness\", \"Big Brother\", \"Outlaw King\", \"Spirited Away\", \"Newton\", \"The Highwaymen\", \"Escape from Pretoria\", \"Dolemite Is My Name\", \"The Godfather 2\", \"Dilwale Dulhania Le Jayenge\", \"Freaks\", \"K.G.F: Chapter 1\", \"Twin Peaks\", \"Nightflyers\", \"The Nightmare Before Christmas\", \"The Baker and the Beauty\", \"Your Name.\", \"Hidden Figures\", \"Real Steel\", \"Cinderella\", \"Avengement\", \"Charlie And The Chocolate Factory\", \"Boruto: Naruto The Movie\", \"Terminator 2: Judgment Day\", \"Gabbar Is Back\", \"The Godfather\", \"Student Of The Year\", \"Pennyworth\", \"Transformers: Age Of Extinction\", \"The Lord Of The Rings: The Two Towers (EXTENDED)\", \"Green Book\", \"The Mustang\", \"The Lord Of The Rings: The Fellowship Of The Ring (EXTENDED)\", \"Saving Private Ryan\", \"Interstellar\", \"The Karate Kid\", \"\\\"Sherlock\\\" The Abominable Bride\", \"How to Train Your Dragon: Homecoming\", \"Maria\", \"Kung Fu Panda 3\", \"Descendants 3\", \"Pulp Fiction\", \"Carol\", \"Frozen Fever\", \"The Lion King 2: Simba's Pride\", \"The Wandering Earth\"], \"y\": [0.9999999999999998, 0.9736842105263153, 0.9473684210526312, 0.894736842105263, 0.894736842105263, 0.894736842105263, 0.894736842105263, 0.894736842105263, 0.894736842105263, 0.8684210526315785, 0.8684210526315785, 0.8684210526315785, 0.8684210526315785, 0.8684210526315785, 0.8684210526315785, 0.8421052631578945, 0.8421052631578945, 0.8421052631578945, 0.8421052631578945, 0.8421052631578945, 0.8421052631578945, 0.8421052631578945, 0.8421052631578945, 0.8421052631578945, 0.8421052631578945, 0.8421052631578945, 0.8421052631578945, 0.8421052631578945, 0.8421052631578945, 0.8157894736842102, 0.8157894736842102, 0.8157894736842102, 0.8157894736842102, 0.8157894736842102, 0.8157894736842102, 0.8157894736842102, 0.8157894736842102, 0.8157894736842102, 0.8157894736842102, 0.8157894736842102, 0.8157894736842102, 0.8157894736842102, 0.8157894736842102, 0.8157894736842102, 0.8157894736842102, 0.8157894736842102, 0.8157894736842102, 0.7894736842105261, 0.7894736842105261, 0.7894736842105261, 0.7894736842105261, 0.7894736842105261, 0.7894736842105261, 0.7894736842105261, 0.7894736842105261, 0.7894736842105261, 0.7894736842105261, 0.7894736842105261, 0.7894736842105261, 0.7894736842105261, 0.7894736842105261, 0.7894736842105261, 0.7894736842105261, 0.7894736842105261, 0.7894736842105261, 0.7894736842105261, 0.7894736842105261, 0.7894736842105261, 0.7894736842105261, 0.7894736842105261, 0.7894736842105261, 0.7894736842105261, 0.7894736842105261, 0.7894736842105261, 0.7894736842105261, 0.7894736842105261, 0.7894736842105261, 0.7894736842105261, 0.763157894736842, 0.763157894736842, 0.763157894736842, 0.763157894736842, 0.763157894736842, 0.763157894736842, 0.763157894736842, 0.763157894736842, 0.763157894736842, 0.763157894736842, 0.763157894736842, 0.763157894736842, 0.763157894736842, 0.763157894736842, 0.763157894736842, 0.763157894736842, 0.763157894736842, 0.763157894736842, 0.763157894736842, 0.763157894736842, 0.763157894736842, 0.763157894736842]}],\n",
       "                        {\"height\": 700, \"template\": {\"data\": {\"bar\": [{\"error_x\": {\"color\": \"#2a3f5f\"}, \"error_y\": {\"color\": \"#2a3f5f\"}, \"marker\": {\"line\": {\"color\": \"#E5ECF6\", \"width\": 0.5}}, \"type\": \"bar\"}], \"barpolar\": [{\"marker\": {\"line\": {\"color\": \"#E5ECF6\", \"width\": 0.5}}, \"type\": \"barpolar\"}], \"carpet\": [{\"aaxis\": {\"endlinecolor\": \"#2a3f5f\", \"gridcolor\": \"white\", \"linecolor\": \"white\", \"minorgridcolor\": \"white\", \"startlinecolor\": \"#2a3f5f\"}, \"baxis\": {\"endlinecolor\": \"#2a3f5f\", \"gridcolor\": \"white\", \"linecolor\": \"white\", \"minorgridcolor\": \"white\", \"startlinecolor\": \"#2a3f5f\"}, \"type\": \"carpet\"}], \"choropleth\": [{\"colorbar\": {\"outlinewidth\": 0, \"ticks\": \"\"}, \"type\": \"choropleth\"}], \"contour\": [{\"colorbar\": {\"outlinewidth\": 0, \"ticks\": \"\"}, \"colorscale\": [[0.0, \"#0d0887\"], [0.1111111111111111, \"#46039f\"], [0.2222222222222222, \"#7201a8\"], [0.3333333333333333, \"#9c179e\"], [0.4444444444444444, \"#bd3786\"], [0.5555555555555556, \"#d8576b\"], [0.6666666666666666, \"#ed7953\"], [0.7777777777777778, \"#fb9f3a\"], [0.8888888888888888, \"#fdca26\"], [1.0, \"#f0f921\"]], \"type\": \"contour\"}], \"contourcarpet\": [{\"colorbar\": {\"outlinewidth\": 0, \"ticks\": \"\"}, \"type\": \"contourcarpet\"}], \"heatmap\": [{\"colorbar\": {\"outlinewidth\": 0, \"ticks\": \"\"}, \"colorscale\": [[0.0, \"#0d0887\"], [0.1111111111111111, \"#46039f\"], [0.2222222222222222, \"#7201a8\"], [0.3333333333333333, \"#9c179e\"], [0.4444444444444444, \"#bd3786\"], [0.5555555555555556, \"#d8576b\"], [0.6666666666666666, \"#ed7953\"], [0.7777777777777778, \"#fb9f3a\"], [0.8888888888888888, \"#fdca26\"], [1.0, \"#f0f921\"]], \"type\": \"heatmap\"}], \"heatmapgl\": [{\"colorbar\": {\"outlinewidth\": 0, \"ticks\": \"\"}, \"colorscale\": [[0.0, \"#0d0887\"], [0.1111111111111111, \"#46039f\"], [0.2222222222222222, \"#7201a8\"], [0.3333333333333333, \"#9c179e\"], [0.4444444444444444, \"#bd3786\"], [0.5555555555555556, \"#d8576b\"], [0.6666666666666666, \"#ed7953\"], [0.7777777777777778, \"#fb9f3a\"], [0.8888888888888888, \"#fdca26\"], [1.0, \"#f0f921\"]], \"type\": \"heatmapgl\"}], \"histogram\": [{\"marker\": {\"colorbar\": {\"outlinewidth\": 0, \"ticks\": \"\"}}, \"type\": \"histogram\"}], \"histogram2d\": [{\"colorbar\": {\"outlinewidth\": 0, \"ticks\": \"\"}, \"colorscale\": [[0.0, \"#0d0887\"], [0.1111111111111111, \"#46039f\"], [0.2222222222222222, \"#7201a8\"], [0.3333333333333333, \"#9c179e\"], [0.4444444444444444, \"#bd3786\"], [0.5555555555555556, \"#d8576b\"], [0.6666666666666666, \"#ed7953\"], [0.7777777777777778, \"#fb9f3a\"], [0.8888888888888888, \"#fdca26\"], [1.0, \"#f0f921\"]], \"type\": \"histogram2d\"}], \"histogram2dcontour\": [{\"colorbar\": {\"outlinewidth\": 0, \"ticks\": \"\"}, \"colorscale\": [[0.0, \"#0d0887\"], [0.1111111111111111, \"#46039f\"], [0.2222222222222222, \"#7201a8\"], [0.3333333333333333, \"#9c179e\"], [0.4444444444444444, \"#bd3786\"], [0.5555555555555556, \"#d8576b\"], [0.6666666666666666, \"#ed7953\"], [0.7777777777777778, \"#fb9f3a\"], [0.8888888888888888, \"#fdca26\"], [1.0, \"#f0f921\"]], \"type\": \"histogram2dcontour\"}], \"mesh3d\": [{\"colorbar\": {\"outlinewidth\": 0, \"ticks\": \"\"}, \"type\": \"mesh3d\"}], \"parcoords\": [{\"line\": {\"colorbar\": {\"outlinewidth\": 0, \"ticks\": \"\"}}, \"type\": \"parcoords\"}], \"pie\": [{\"automargin\": true, \"type\": \"pie\"}], \"scatter\": [{\"marker\": {\"colorbar\": {\"outlinewidth\": 0, \"ticks\": \"\"}}, \"type\": \"scatter\"}], \"scatter3d\": [{\"line\": {\"colorbar\": {\"outlinewidth\": 0, \"ticks\": \"\"}}, \"marker\": {\"colorbar\": {\"outlinewidth\": 0, \"ticks\": \"\"}}, \"type\": \"scatter3d\"}], \"scattercarpet\": [{\"marker\": {\"colorbar\": {\"outlinewidth\": 0, \"ticks\": \"\"}}, \"type\": \"scattercarpet\"}], \"scattergeo\": [{\"marker\": {\"colorbar\": {\"outlinewidth\": 0, \"ticks\": \"\"}}, \"type\": \"scattergeo\"}], \"scattergl\": [{\"marker\": {\"colorbar\": {\"outlinewidth\": 0, \"ticks\": \"\"}}, \"type\": \"scattergl\"}], \"scattermapbox\": [{\"marker\": {\"colorbar\": {\"outlinewidth\": 0, \"ticks\": \"\"}}, \"type\": \"scattermapbox\"}], \"scatterpolar\": [{\"marker\": {\"colorbar\": {\"outlinewidth\": 0, \"ticks\": \"\"}}, \"type\": \"scatterpolar\"}], \"scatterpolargl\": [{\"marker\": {\"colorbar\": {\"outlinewidth\": 0, \"ticks\": \"\"}}, \"type\": \"scatterpolargl\"}], \"scatterternary\": [{\"marker\": {\"colorbar\": {\"outlinewidth\": 0, \"ticks\": \"\"}}, \"type\": \"scatterternary\"}], \"surface\": [{\"colorbar\": {\"outlinewidth\": 0, \"ticks\": \"\"}, \"colorscale\": [[0.0, \"#0d0887\"], [0.1111111111111111, \"#46039f\"], [0.2222222222222222, \"#7201a8\"], [0.3333333333333333, \"#9c179e\"], [0.4444444444444444, \"#bd3786\"], [0.5555555555555556, \"#d8576b\"], [0.6666666666666666, \"#ed7953\"], [0.7777777777777778, \"#fb9f3a\"], [0.8888888888888888, \"#fdca26\"], [1.0, \"#f0f921\"]], \"type\": \"surface\"}], \"table\": [{\"cells\": {\"fill\": {\"color\": \"#EBF0F8\"}, \"line\": {\"color\": \"white\"}}, \"header\": {\"fill\": {\"color\": \"#C8D4E3\"}, \"line\": {\"color\": \"white\"}}, \"type\": \"table\"}]}, \"layout\": {\"annotationdefaults\": {\"arrowcolor\": \"#2a3f5f\", \"arrowhead\": 0, \"arrowwidth\": 1}, \"coloraxis\": {\"colorbar\": {\"outlinewidth\": 0, \"ticks\": \"\"}}, \"colorscale\": {\"diverging\": [[0, \"#8e0152\"], [0.1, \"#c51b7d\"], [0.2, \"#de77ae\"], [0.3, \"#f1b6da\"], [0.4, \"#fde0ef\"], [0.5, \"#f7f7f7\"], [0.6, \"#e6f5d0\"], [0.7, \"#b8e186\"], [0.8, \"#7fbc41\"], [0.9, \"#4d9221\"], [1, \"#276419\"]], \"sequential\": [[0.0, \"#0d0887\"], [0.1111111111111111, \"#46039f\"], [0.2222222222222222, \"#7201a8\"], [0.3333333333333333, \"#9c179e\"], [0.4444444444444444, \"#bd3786\"], [0.5555555555555556, \"#d8576b\"], [0.6666666666666666, \"#ed7953\"], [0.7777777777777778, \"#fb9f3a\"], [0.8888888888888888, \"#fdca26\"], [1.0, \"#f0f921\"]], \"sequentialminus\": [[0.0, \"#0d0887\"], [0.1111111111111111, \"#46039f\"], [0.2222222222222222, \"#7201a8\"], [0.3333333333333333, \"#9c179e\"], [0.4444444444444444, \"#bd3786\"], [0.5555555555555556, \"#d8576b\"], [0.6666666666666666, \"#ed7953\"], [0.7777777777777778, \"#fb9f3a\"], [0.8888888888888888, \"#fdca26\"], [1.0, \"#f0f921\"]]}, \"colorway\": [\"#636efa\", \"#EF553B\", \"#00cc96\", \"#ab63fa\", \"#FFA15A\", \"#19d3f3\", \"#FF6692\", \"#B6E880\", \"#FF97FF\", \"#FECB52\"], \"font\": {\"color\": \"#2a3f5f\"}, \"geo\": {\"bgcolor\": \"white\", \"lakecolor\": \"white\", \"landcolor\": \"#E5ECF6\", \"showlakes\": true, \"showland\": true, \"subunitcolor\": \"white\"}, \"hoverlabel\": {\"align\": \"left\"}, \"hovermode\": \"closest\", \"mapbox\": {\"style\": \"light\"}, \"paper_bgcolor\": \"white\", \"plot_bgcolor\": \"#E5ECF6\", \"polar\": {\"angularaxis\": {\"gridcolor\": \"white\", \"linecolor\": \"white\", \"ticks\": \"\"}, \"bgcolor\": \"#E5ECF6\", \"radialaxis\": {\"gridcolor\": \"white\", \"linecolor\": \"white\", \"ticks\": \"\"}}, \"scene\": {\"xaxis\": {\"backgroundcolor\": \"#E5ECF6\", \"gridcolor\": \"white\", \"gridwidth\": 2, \"linecolor\": \"white\", \"showbackground\": true, \"ticks\": \"\", \"zerolinecolor\": \"white\"}, \"yaxis\": {\"backgroundcolor\": \"#E5ECF6\", \"gridcolor\": \"white\", \"gridwidth\": 2, \"linecolor\": \"white\", \"showbackground\": true, \"ticks\": \"\", \"zerolinecolor\": \"white\"}, \"zaxis\": {\"backgroundcolor\": \"#E5ECF6\", \"gridcolor\": \"white\", \"gridwidth\": 2, \"linecolor\": \"white\", \"showbackground\": true, \"ticks\": \"\", \"zerolinecolor\": \"white\"}}, \"shapedefaults\": {\"line\": {\"color\": \"#2a3f5f\"}}, \"ternary\": {\"aaxis\": {\"gridcolor\": \"white\", \"linecolor\": \"white\", \"ticks\": \"\"}, \"baxis\": {\"gridcolor\": \"white\", \"linecolor\": \"white\", \"ticks\": \"\"}, \"bgcolor\": \"#E5ECF6\", \"caxis\": {\"gridcolor\": \"white\", \"linecolor\": \"white\", \"ticks\": \"\"}}, \"title\": {\"x\": 0.05}, \"xaxis\": {\"automargin\": true, \"gridcolor\": \"white\", \"linecolor\": \"white\", \"ticks\": \"\", \"title\": {\"standoff\": 15}, \"zerolinecolor\": \"white\", \"zerolinewidth\": 2}, \"yaxis\": {\"automargin\": true, \"gridcolor\": \"white\", \"linecolor\": \"white\", \"ticks\": \"\", \"title\": {\"standoff\": 15}, \"zerolinecolor\": \"white\", \"zerolinewidth\": 2}}}, \"title\": {\"text\": \"IMDB Vs Local Ratings Top 100,|Movie | sorted Local Ratings\"}, \"xaxis\": {\"tickangle\": -45, \"title\": {\"text\": \"Movies\"}}, \"yaxis\": {\"title\": {\"text\": \"Ratings\"}}},\n",
       "                        {\"responsive\": true}\n",
       "                    ).then(function(){\n",
       "                            \n",
       "var gd = document.getElementById('fd7079b5-04af-4de7-9ca7-2527d1913df2');\n",
       "var x = new MutationObserver(function (mutations, observer) {{\n",
       "        var display = window.getComputedStyle(gd).display;\n",
       "        if (!display || display === 'none') {{\n",
       "            console.log([gd, 'removed!']);\n",
       "            Plotly.purge(gd);\n",
       "            observer.disconnect();\n",
       "        }}\n",
       "}});\n",
       "\n",
       "// Listen for the removal of the full notebook cells\n",
       "var notebookContainer = gd.closest('#notebook-container');\n",
       "if (notebookContainer) {{\n",
       "    x.observe(notebookContainer, {childList: true});\n",
       "}}\n",
       "\n",
       "// Listen for the clearing of the current output cell\n",
       "var outputEl = gd.closest('.output');\n",
       "if (outputEl) {{\n",
       "    x.observe(outputEl, {childList: true});\n",
       "}}\n",
       "\n",
       "                        })\n",
       "                };\n",
       "                });\n",
       "            </script>\n",
       "        </div>"
      ]
     },
     "metadata": {},
     "output_type": "display_data"
    }
   ],
   "source": [
    "fig = go.Figure()\n",
    "fig.add_trace(go.Bar(x=movie_names[:100], y= imdb_ratings[:100], name=\"IMDB Ratings Top 100 |Movie\"))\n",
    "fig.add_trace(go.Bar(x=movie_names[:100], y= local_ratings[:100], name=\"Local Ratings Top 100 |Movie\"))\n",
    "fig.update_xaxes(tickangle=-45)\n",
    "fig.update_layout(xaxis_title =\"Movies\", yaxis_title=\"Ratings\", title=\"IMDB Vs Local Ratings Top 100,|Movie | sorted Local Ratings\", height=700,)"
   ]
  },
  {
   "cell_type": "markdown",
   "metadata": {},
   "source": [
    "When sorting by site ratings, higher site rated movie also have higher IMDB ratings."
   ]
  },
  {
   "cell_type": "code",
   "execution_count": 21,
   "metadata": {
    "ExecuteTime": {
     "end_time": "2020-07-15T04:11:59.209564Z",
     "start_time": "2020-07-15T04:11:59.166566Z"
    },
    "scrolled": false
   },
   "outputs": [
    {
     "data": {
      "application/vnd.plotly.v1+json": {
       "config": {
        "plotlyServerURL": "https://plot.ly"
       },
       "data": [
        {
         "name": "IMDB Ratings Bottom 100|Movie",
         "type": "bar",
         "x": [
          "Intimacy",
          "Drunk Parents",
          "Deception",
          "A Score to Settle",
          "Brahms: The Boy II",
          "Maze",
          "Kiss and Kill",
          "The Hurricane Heist",
          "Submission",
          "The Post",
          "Diario de una ninfómana",
          "Star Wars: Episode IX - The Rise of Skywalker",
          "A Bad Moms Christmas",
          "A Delicious Flight",
          "Tag",
          "A Wrinkle in Time",
          "The Beach Bum",
          "Daddy's Home 2",
          "The Kissing Booth",
          "Deadpool 2",
          "Batman Ninja",
          "Death Race 4: Beyond Anarchy",
          "Flatliners",
          "The Hustle",
          "Ocean's 8",
          "Death Wish",
          "High Heel Homicide",
          "Jurassic World: Fallen Kingdom",
          "Mother!",
          "Book Club",
          "10 Minutes Gone",
          "Delicious Delivery",
          "All the Money in the World",
          "Black Christmas",
          "Dragon Kingdom",
          "The Head Hunter",
          "Tomb Raider",
          "Sex Files: Pleasure World",
          "Hustlers",
          "Acts of Violence",
          "The First Purge",
          "Picture of Beauty",
          "The Poison Rose",
          "Nymphomaniac: Vol. 1",
          "Hereditary",
          "Lie with Me",
          "Love Island",
          "Cats",
          "The Grudge",
          "Fifty Shades Freed",
          "The Titan",
          "Super Dragon Ball Heroes",
          "The Dead Don't Die",
          "The Strangers: Prey at Night",
          "Killers Anonymous",
          "Game Night",
          "Set It Up",
          "Life Sentence",
          "Desire",
          "The Neon Demon",
          "What/If",
          "Silencer",
          "How It Ends",
          "10x10",
          "Ad Astra",
          "Pacific Rim: Uprising",
          "211",
          "I Feel Pretty",
          "F*&% the Prom",
          "Tomb Invader",
          "White Boy Rick",
          "A Tasty Trap",
          "My Uncle's Wife",
          "Super Troopers 2",
          "Deep Blue Sea 2",
          "I Spit on Your Grave: Deja Vu",
          "The Turning",
          "The Photograph",
          "Voldemort: Origins of the Heir",
          "Day of the Dead: Bloodline",
          "Life of the Party",
          "Suburbicon",
          "Traffik",
          "Invasion Planet Earth",
          "Breaking In",
          "Lust Stories",
          "Red Sparrow",
          "Blockers",
          "Downsizing",
          "High Life",
          "Truth or Dare",
          "Overboard",
          "Sex Life",
          "Escape Plan 2: Hades",
          "Doom: Annihilation",
          "Kill Mode",
          "Taxi 5",
          "Two Sisters 2",
          "Jersey Shore Family Vacation",
          "IO"
         ],
         "y": [
          0.648936170212766,
          0.40425531914893614,
          0.7978723404255319,
          0.48936170212765956,
          0.4787234042553192,
          0.6276595744680852,
          0.2765957446808511,
          0.5425531914893617,
          0.5851063829787234,
          0.7659574468085106,
          0.6063829787234043,
          0.7127659574468085,
          0.5957446808510638,
          0,
          0.6914893617021277,
          0.4468085106382979,
          0.5851063829787234,
          0.6382978723404256,
          0.648936170212766,
          0.8191489361702128,
          0.5957446808510638,
          0.5531914893617021,
          0.5531914893617021,
          0.574468085106383,
          0.6595744680851064,
          0.6808510638297873,
          0.3723404255319149,
          0.6595744680851064,
          0.7021276595744681,
          0.648936170212766,
          0.3829787234042553,
          0,
          0.7234042553191489,
          0.34042553191489366,
          0.3829787234042553,
          0.5638297872340425,
          0.6702127659574468,
          0.40425531914893614,
          0.6702127659574468,
          0.5638297872340425,
          0.5531914893617021,
          0.3829787234042553,
          0.5,
          0.7340425531914894,
          0.776595744680851,
          0.5638297872340425,
          0.5425531914893617,
          0.2872340425531915,
          0.4468085106382979,
          0.4787234042553192,
          0.5106382978723404,
          0.7553191489361701,
          0.5851063829787234,
          0.5531914893617021,
          0.5638297872340425,
          0.7340425531914894,
          0.6914893617021277,
          0.6914893617021277,
          0.4148936170212766,
          0.6595744680851064,
          0.6702127659574468,
          0.40425531914893614,
          0.5319148936170213,
          0.5319148936170213,
          0.7021276595744681,
          0.5957446808510638,
          0.4680851063829788,
          0.5851063829787234,
          0.4468085106382979,
          0.26595744680851063,
          0.6808510638297873,
          0,
          0,
          0.6382978723404256,
          0.35106382978723405,
          0.24468085106382978,
          0.40425531914893614,
          0.6276595744680852,
          0.6170212765957447,
          0.36170212765957444,
          0.5957446808510638,
          0.6063829787234043,
          0.6382978723404256,
          0.35106382978723405,
          0.574468085106383,
          0.6914893617021277,
          0.7021276595744681,
          0.6595744680851064,
          0.6063829787234043,
          0.6170212765957447,
          0.5531914893617021,
          0.6382978723404256,
          0.6382978723404256,
          0.40425531914893614,
          0.3829787234042553,
          0.30851063829787234,
          0.5,
          0,
          0.7234042553191489,
          0.5
         ]
        },
        {
         "name": "Local Ratings Bottom 100|Movie",
         "type": "bar",
         "x": [
          "Intimacy",
          "Drunk Parents",
          "Deception",
          "A Score to Settle",
          "Brahms: The Boy II",
          "Maze",
          "Kiss and Kill",
          "The Hurricane Heist",
          "Submission",
          "The Post",
          "Diario de una ninfómana",
          "Star Wars: Episode IX - The Rise of Skywalker",
          "A Bad Moms Christmas",
          "A Delicious Flight",
          "Tag",
          "A Wrinkle in Time",
          "The Beach Bum",
          "Daddy's Home 2",
          "The Kissing Booth",
          "Deadpool 2",
          "Batman Ninja",
          "Death Race 4: Beyond Anarchy",
          "Flatliners",
          "The Hustle",
          "Ocean's 8",
          "Death Wish",
          "High Heel Homicide",
          "Jurassic World: Fallen Kingdom",
          "Mother!",
          "Book Club",
          "10 Minutes Gone",
          "Delicious Delivery",
          "All the Money in the World",
          "Black Christmas",
          "Dragon Kingdom",
          "The Head Hunter",
          "Tomb Raider",
          "Sex Files: Pleasure World",
          "Hustlers",
          "Acts of Violence",
          "The First Purge",
          "Picture of Beauty",
          "The Poison Rose",
          "Nymphomaniac: Vol. 1",
          "Hereditary",
          "Lie with Me",
          "Love Island",
          "Cats",
          "The Grudge",
          "Fifty Shades Freed",
          "The Titan",
          "Super Dragon Ball Heroes",
          "The Dead Don't Die",
          "The Strangers: Prey at Night",
          "Killers Anonymous",
          "Game Night",
          "Set It Up",
          "Life Sentence",
          "Desire",
          "The Neon Demon",
          "What/If",
          "Silencer",
          "How It Ends",
          "10x10",
          "Ad Astra",
          "Pacific Rim: Uprising",
          "211",
          "I Feel Pretty",
          "F*&% the Prom",
          "Tomb Invader",
          "White Boy Rick",
          "A Tasty Trap",
          "My Uncle's Wife",
          "Super Troopers 2",
          "Deep Blue Sea 2",
          "I Spit on Your Grave: Deja Vu",
          "The Turning",
          "The Photograph",
          "Voldemort: Origins of the Heir",
          "Day of the Dead: Bloodline",
          "Life of the Party",
          "Suburbicon",
          "Traffik",
          "Invasion Planet Earth",
          "Breaking In",
          "Lust Stories",
          "Red Sparrow",
          "Blockers",
          "Downsizing",
          "High Life",
          "Truth or Dare",
          "Overboard",
          "Sex Life",
          "Escape Plan 2: Hades",
          "Doom: Annihilation",
          "Kill Mode",
          "Taxi 5",
          "Two Sisters 2",
          "Jersey Shore Family Vacation",
          "IO"
         ],
         "y": [
          0.3421052631578947,
          0.3421052631578947,
          0.3421052631578947,
          0.3157894736842104,
          0.3157894736842104,
          0.3157894736842104,
          0.3157894736842104,
          0.3157894736842104,
          0.3157894736842104,
          0.3157894736842104,
          0.3157894736842104,
          0.3157894736842104,
          0.3157894736842104,
          0.3157894736842104,
          0.3157894736842104,
          0.3157894736842104,
          0.3157894736842104,
          0.3157894736842104,
          0.3157894736842104,
          0.3157894736842104,
          0.3157894736842104,
          0.3157894736842104,
          0.3157894736842104,
          0.3157894736842104,
          0.3157894736842104,
          0.3157894736842104,
          0.2894736842105261,
          0.2894736842105261,
          0.2894736842105261,
          0.2894736842105261,
          0.2894736842105261,
          0.2894736842105261,
          0.2894736842105261,
          0.2894736842105261,
          0.2894736842105261,
          0.2894736842105261,
          0.2894736842105261,
          0.2894736842105261,
          0.2894736842105261,
          0.2894736842105261,
          0.2894736842105261,
          0.2894736842105261,
          0.2894736842105261,
          0.2894736842105261,
          0.2894736842105261,
          0.2894736842105261,
          0.2894736842105261,
          0.26315789473684204,
          0.26315789473684204,
          0.26315789473684204,
          0.26315789473684204,
          0.26315789473684204,
          0.26315789473684204,
          0.26315789473684204,
          0.26315789473684204,
          0.26315789473684204,
          0.26315789473684204,
          0.26315789473684204,
          0.26315789473684204,
          0.26315789473684204,
          0.26315789473684204,
          0.26315789473684204,
          0.26315789473684204,
          0.26315789473684204,
          0.23684210526315796,
          0.23684210526315796,
          0.23684210526315796,
          0.23684210526315796,
          0.23684210526315796,
          0.23684210526315796,
          0.23684210526315796,
          0.23684210526315796,
          0.23684210526315796,
          0.23684210526315796,
          0.21052631578947367,
          0.21052631578947367,
          0.21052631578947367,
          0.21052631578947367,
          0.21052631578947367,
          0.21052631578947367,
          0.21052631578947367,
          0.21052631578947367,
          0.21052631578947367,
          0.18421052631578938,
          0.18421052631578938,
          0.18421052631578938,
          0.18421052631578938,
          0.18421052631578938,
          0.1578947368421051,
          0.1578947368421051,
          0.1578947368421051,
          0.1578947368421051,
          0.1578947368421051,
          0.13157894736842102,
          0.10526315789473695,
          0.10526315789473695,
          0.10526315789473695,
          0.07894736842105265,
          0.05263157894736836,
          0
         ]
        }
       ],
       "layout": {
        "height": 700,
        "template": {
         "data": {
          "bar": [
           {
            "error_x": {
             "color": "#2a3f5f"
            },
            "error_y": {
             "color": "#2a3f5f"
            },
            "marker": {
             "line": {
              "color": "#E5ECF6",
              "width": 0.5
             }
            },
            "type": "bar"
           }
          ],
          "barpolar": [
           {
            "marker": {
             "line": {
              "color": "#E5ECF6",
              "width": 0.5
             }
            },
            "type": "barpolar"
           }
          ],
          "carpet": [
           {
            "aaxis": {
             "endlinecolor": "#2a3f5f",
             "gridcolor": "white",
             "linecolor": "white",
             "minorgridcolor": "white",
             "startlinecolor": "#2a3f5f"
            },
            "baxis": {
             "endlinecolor": "#2a3f5f",
             "gridcolor": "white",
             "linecolor": "white",
             "minorgridcolor": "white",
             "startlinecolor": "#2a3f5f"
            },
            "type": "carpet"
           }
          ],
          "choropleth": [
           {
            "colorbar": {
             "outlinewidth": 0,
             "ticks": ""
            },
            "type": "choropleth"
           }
          ],
          "contour": [
           {
            "colorbar": {
             "outlinewidth": 0,
             "ticks": ""
            },
            "colorscale": [
             [
              0,
              "#0d0887"
             ],
             [
              0.1111111111111111,
              "#46039f"
             ],
             [
              0.2222222222222222,
              "#7201a8"
             ],
             [
              0.3333333333333333,
              "#9c179e"
             ],
             [
              0.4444444444444444,
              "#bd3786"
             ],
             [
              0.5555555555555556,
              "#d8576b"
             ],
             [
              0.6666666666666666,
              "#ed7953"
             ],
             [
              0.7777777777777778,
              "#fb9f3a"
             ],
             [
              0.8888888888888888,
              "#fdca26"
             ],
             [
              1,
              "#f0f921"
             ]
            ],
            "type": "contour"
           }
          ],
          "contourcarpet": [
           {
            "colorbar": {
             "outlinewidth": 0,
             "ticks": ""
            },
            "type": "contourcarpet"
           }
          ],
          "heatmap": [
           {
            "colorbar": {
             "outlinewidth": 0,
             "ticks": ""
            },
            "colorscale": [
             [
              0,
              "#0d0887"
             ],
             [
              0.1111111111111111,
              "#46039f"
             ],
             [
              0.2222222222222222,
              "#7201a8"
             ],
             [
              0.3333333333333333,
              "#9c179e"
             ],
             [
              0.4444444444444444,
              "#bd3786"
             ],
             [
              0.5555555555555556,
              "#d8576b"
             ],
             [
              0.6666666666666666,
              "#ed7953"
             ],
             [
              0.7777777777777778,
              "#fb9f3a"
             ],
             [
              0.8888888888888888,
              "#fdca26"
             ],
             [
              1,
              "#f0f921"
             ]
            ],
            "type": "heatmap"
           }
          ],
          "heatmapgl": [
           {
            "colorbar": {
             "outlinewidth": 0,
             "ticks": ""
            },
            "colorscale": [
             [
              0,
              "#0d0887"
             ],
             [
              0.1111111111111111,
              "#46039f"
             ],
             [
              0.2222222222222222,
              "#7201a8"
             ],
             [
              0.3333333333333333,
              "#9c179e"
             ],
             [
              0.4444444444444444,
              "#bd3786"
             ],
             [
              0.5555555555555556,
              "#d8576b"
             ],
             [
              0.6666666666666666,
              "#ed7953"
             ],
             [
              0.7777777777777778,
              "#fb9f3a"
             ],
             [
              0.8888888888888888,
              "#fdca26"
             ],
             [
              1,
              "#f0f921"
             ]
            ],
            "type": "heatmapgl"
           }
          ],
          "histogram": [
           {
            "marker": {
             "colorbar": {
              "outlinewidth": 0,
              "ticks": ""
             }
            },
            "type": "histogram"
           }
          ],
          "histogram2d": [
           {
            "colorbar": {
             "outlinewidth": 0,
             "ticks": ""
            },
            "colorscale": [
             [
              0,
              "#0d0887"
             ],
             [
              0.1111111111111111,
              "#46039f"
             ],
             [
              0.2222222222222222,
              "#7201a8"
             ],
             [
              0.3333333333333333,
              "#9c179e"
             ],
             [
              0.4444444444444444,
              "#bd3786"
             ],
             [
              0.5555555555555556,
              "#d8576b"
             ],
             [
              0.6666666666666666,
              "#ed7953"
             ],
             [
              0.7777777777777778,
              "#fb9f3a"
             ],
             [
              0.8888888888888888,
              "#fdca26"
             ],
             [
              1,
              "#f0f921"
             ]
            ],
            "type": "histogram2d"
           }
          ],
          "histogram2dcontour": [
           {
            "colorbar": {
             "outlinewidth": 0,
             "ticks": ""
            },
            "colorscale": [
             [
              0,
              "#0d0887"
             ],
             [
              0.1111111111111111,
              "#46039f"
             ],
             [
              0.2222222222222222,
              "#7201a8"
             ],
             [
              0.3333333333333333,
              "#9c179e"
             ],
             [
              0.4444444444444444,
              "#bd3786"
             ],
             [
              0.5555555555555556,
              "#d8576b"
             ],
             [
              0.6666666666666666,
              "#ed7953"
             ],
             [
              0.7777777777777778,
              "#fb9f3a"
             ],
             [
              0.8888888888888888,
              "#fdca26"
             ],
             [
              1,
              "#f0f921"
             ]
            ],
            "type": "histogram2dcontour"
           }
          ],
          "mesh3d": [
           {
            "colorbar": {
             "outlinewidth": 0,
             "ticks": ""
            },
            "type": "mesh3d"
           }
          ],
          "parcoords": [
           {
            "line": {
             "colorbar": {
              "outlinewidth": 0,
              "ticks": ""
             }
            },
            "type": "parcoords"
           }
          ],
          "pie": [
           {
            "automargin": true,
            "type": "pie"
           }
          ],
          "scatter": [
           {
            "marker": {
             "colorbar": {
              "outlinewidth": 0,
              "ticks": ""
             }
            },
            "type": "scatter"
           }
          ],
          "scatter3d": [
           {
            "line": {
             "colorbar": {
              "outlinewidth": 0,
              "ticks": ""
             }
            },
            "marker": {
             "colorbar": {
              "outlinewidth": 0,
              "ticks": ""
             }
            },
            "type": "scatter3d"
           }
          ],
          "scattercarpet": [
           {
            "marker": {
             "colorbar": {
              "outlinewidth": 0,
              "ticks": ""
             }
            },
            "type": "scattercarpet"
           }
          ],
          "scattergeo": [
           {
            "marker": {
             "colorbar": {
              "outlinewidth": 0,
              "ticks": ""
             }
            },
            "type": "scattergeo"
           }
          ],
          "scattergl": [
           {
            "marker": {
             "colorbar": {
              "outlinewidth": 0,
              "ticks": ""
             }
            },
            "type": "scattergl"
           }
          ],
          "scattermapbox": [
           {
            "marker": {
             "colorbar": {
              "outlinewidth": 0,
              "ticks": ""
             }
            },
            "type": "scattermapbox"
           }
          ],
          "scatterpolar": [
           {
            "marker": {
             "colorbar": {
              "outlinewidth": 0,
              "ticks": ""
             }
            },
            "type": "scatterpolar"
           }
          ],
          "scatterpolargl": [
           {
            "marker": {
             "colorbar": {
              "outlinewidth": 0,
              "ticks": ""
             }
            },
            "type": "scatterpolargl"
           }
          ],
          "scatterternary": [
           {
            "marker": {
             "colorbar": {
              "outlinewidth": 0,
              "ticks": ""
             }
            },
            "type": "scatterternary"
           }
          ],
          "surface": [
           {
            "colorbar": {
             "outlinewidth": 0,
             "ticks": ""
            },
            "colorscale": [
             [
              0,
              "#0d0887"
             ],
             [
              0.1111111111111111,
              "#46039f"
             ],
             [
              0.2222222222222222,
              "#7201a8"
             ],
             [
              0.3333333333333333,
              "#9c179e"
             ],
             [
              0.4444444444444444,
              "#bd3786"
             ],
             [
              0.5555555555555556,
              "#d8576b"
             ],
             [
              0.6666666666666666,
              "#ed7953"
             ],
             [
              0.7777777777777778,
              "#fb9f3a"
             ],
             [
              0.8888888888888888,
              "#fdca26"
             ],
             [
              1,
              "#f0f921"
             ]
            ],
            "type": "surface"
           }
          ],
          "table": [
           {
            "cells": {
             "fill": {
              "color": "#EBF0F8"
             },
             "line": {
              "color": "white"
             }
            },
            "header": {
             "fill": {
              "color": "#C8D4E3"
             },
             "line": {
              "color": "white"
             }
            },
            "type": "table"
           }
          ]
         },
         "layout": {
          "annotationdefaults": {
           "arrowcolor": "#2a3f5f",
           "arrowhead": 0,
           "arrowwidth": 1
          },
          "coloraxis": {
           "colorbar": {
            "outlinewidth": 0,
            "ticks": ""
           }
          },
          "colorscale": {
           "diverging": [
            [
             0,
             "#8e0152"
            ],
            [
             0.1,
             "#c51b7d"
            ],
            [
             0.2,
             "#de77ae"
            ],
            [
             0.3,
             "#f1b6da"
            ],
            [
             0.4,
             "#fde0ef"
            ],
            [
             0.5,
             "#f7f7f7"
            ],
            [
             0.6,
             "#e6f5d0"
            ],
            [
             0.7,
             "#b8e186"
            ],
            [
             0.8,
             "#7fbc41"
            ],
            [
             0.9,
             "#4d9221"
            ],
            [
             1,
             "#276419"
            ]
           ],
           "sequential": [
            [
             0,
             "#0d0887"
            ],
            [
             0.1111111111111111,
             "#46039f"
            ],
            [
             0.2222222222222222,
             "#7201a8"
            ],
            [
             0.3333333333333333,
             "#9c179e"
            ],
            [
             0.4444444444444444,
             "#bd3786"
            ],
            [
             0.5555555555555556,
             "#d8576b"
            ],
            [
             0.6666666666666666,
             "#ed7953"
            ],
            [
             0.7777777777777778,
             "#fb9f3a"
            ],
            [
             0.8888888888888888,
             "#fdca26"
            ],
            [
             1,
             "#f0f921"
            ]
           ],
           "sequentialminus": [
            [
             0,
             "#0d0887"
            ],
            [
             0.1111111111111111,
             "#46039f"
            ],
            [
             0.2222222222222222,
             "#7201a8"
            ],
            [
             0.3333333333333333,
             "#9c179e"
            ],
            [
             0.4444444444444444,
             "#bd3786"
            ],
            [
             0.5555555555555556,
             "#d8576b"
            ],
            [
             0.6666666666666666,
             "#ed7953"
            ],
            [
             0.7777777777777778,
             "#fb9f3a"
            ],
            [
             0.8888888888888888,
             "#fdca26"
            ],
            [
             1,
             "#f0f921"
            ]
           ]
          },
          "colorway": [
           "#636efa",
           "#EF553B",
           "#00cc96",
           "#ab63fa",
           "#FFA15A",
           "#19d3f3",
           "#FF6692",
           "#B6E880",
           "#FF97FF",
           "#FECB52"
          ],
          "font": {
           "color": "#2a3f5f"
          },
          "geo": {
           "bgcolor": "white",
           "lakecolor": "white",
           "landcolor": "#E5ECF6",
           "showlakes": true,
           "showland": true,
           "subunitcolor": "white"
          },
          "hoverlabel": {
           "align": "left"
          },
          "hovermode": "closest",
          "mapbox": {
           "style": "light"
          },
          "paper_bgcolor": "white",
          "plot_bgcolor": "#E5ECF6",
          "polar": {
           "angularaxis": {
            "gridcolor": "white",
            "linecolor": "white",
            "ticks": ""
           },
           "bgcolor": "#E5ECF6",
           "radialaxis": {
            "gridcolor": "white",
            "linecolor": "white",
            "ticks": ""
           }
          },
          "scene": {
           "xaxis": {
            "backgroundcolor": "#E5ECF6",
            "gridcolor": "white",
            "gridwidth": 2,
            "linecolor": "white",
            "showbackground": true,
            "ticks": "",
            "zerolinecolor": "white"
           },
           "yaxis": {
            "backgroundcolor": "#E5ECF6",
            "gridcolor": "white",
            "gridwidth": 2,
            "linecolor": "white",
            "showbackground": true,
            "ticks": "",
            "zerolinecolor": "white"
           },
           "zaxis": {
            "backgroundcolor": "#E5ECF6",
            "gridcolor": "white",
            "gridwidth": 2,
            "linecolor": "white",
            "showbackground": true,
            "ticks": "",
            "zerolinecolor": "white"
           }
          },
          "shapedefaults": {
           "line": {
            "color": "#2a3f5f"
           }
          },
          "ternary": {
           "aaxis": {
            "gridcolor": "white",
            "linecolor": "white",
            "ticks": ""
           },
           "baxis": {
            "gridcolor": "white",
            "linecolor": "white",
            "ticks": ""
           },
           "bgcolor": "#E5ECF6",
           "caxis": {
            "gridcolor": "white",
            "linecolor": "white",
            "ticks": ""
           }
          },
          "title": {
           "x": 0.05
          },
          "xaxis": {
           "automargin": true,
           "gridcolor": "white",
           "linecolor": "white",
           "ticks": "",
           "title": {
            "standoff": 15
           },
           "zerolinecolor": "white",
           "zerolinewidth": 2
          },
          "yaxis": {
           "automargin": true,
           "gridcolor": "white",
           "linecolor": "white",
           "ticks": "",
           "title": {
            "standoff": 15
           },
           "zerolinecolor": "white",
           "zerolinewidth": 2
          }
         }
        },
        "title": {
         "text": "IMDB Vs Local Ratings Bottom 100, sorted by local Ratings"
        },
        "xaxis": {
         "tickangle": -45,
         "title": {
          "text": "Movies"
         }
        },
        "yaxis": {
         "title": {
          "text": "Ratings"
         }
        }
       }
      },
      "text/html": [
       "<div>\n",
       "        \n",
       "        \n",
       "            <div id=\"d94345f3-31e8-421a-b70e-b6e3e82e419b\" class=\"plotly-graph-div\" style=\"height:700px; width:100%;\"></div>\n",
       "            <script type=\"text/javascript\">\n",
       "                require([\"plotly\"], function(Plotly) {\n",
       "                    window.PLOTLYENV=window.PLOTLYENV || {};\n",
       "                    \n",
       "                if (document.getElementById(\"d94345f3-31e8-421a-b70e-b6e3e82e419b\")) {\n",
       "                    Plotly.newPlot(\n",
       "                        'd94345f3-31e8-421a-b70e-b6e3e82e419b',\n",
       "                        [{\"name\": \"IMDB Ratings Bottom 100|Movie\", \"type\": \"bar\", \"x\": [\"Intimacy\", \"Drunk Parents\", \"Deception\", \"A Score to Settle\", \"Brahms: The Boy II\", \"Maze\", \"Kiss and Kill\", \"The Hurricane Heist\", \"Submission\", \"The Post\", \"Diario de una ninf\\u00f3mana\", \"Star Wars: Episode IX - The Rise of Skywalker\", \"A Bad Moms Christmas\", \"A Delicious Flight\", \"Tag\", \"A Wrinkle in Time\", \"The Beach Bum\", \"Daddy's Home 2\", \"The Kissing Booth\", \"Deadpool 2\", \"Batman Ninja\", \"Death Race 4: Beyond Anarchy\", \"Flatliners\", \"The Hustle\", \"Ocean's 8\", \"Death Wish\", \"High Heel Homicide\", \"Jurassic World: Fallen Kingdom\", \"Mother!\", \"Book Club\", \"10 Minutes Gone\", \"Delicious Delivery\", \"All the Money in the World\", \"Black Christmas\", \"Dragon Kingdom\", \"The Head Hunter\", \"Tomb Raider\", \"Sex Files: Pleasure World\", \"Hustlers\", \"Acts of Violence\", \"The First Purge\", \"Picture of Beauty\", \"The Poison Rose\", \"Nymphomaniac: Vol. 1\", \"Hereditary\", \"Lie with Me\", \"Love Island\", \"Cats\", \"The Grudge\", \"Fifty Shades Freed\", \"The Titan\", \"Super Dragon Ball Heroes\", \"The Dead Don't Die\", \"The Strangers: Prey at Night\", \"Killers Anonymous\", \"Game Night\", \"Set It Up\", \"Life Sentence\", \"Desire\", \"The Neon Demon\", \"What/If\", \"Silencer\", \"How It Ends\", \"10x10\", \"Ad Astra\", \"Pacific Rim: Uprising\", \"211\", \"I Feel Pretty\", \"F*&% the Prom\", \"Tomb Invader\", \"White Boy Rick\", \"A Tasty Trap\", \"My Uncle's Wife\", \"Super Troopers 2\", \"Deep Blue Sea 2\", \"I Spit on Your Grave: Deja Vu\", \"The Turning\", \"The Photograph\", \"Voldemort: Origins of the Heir\", \"Day of the Dead: Bloodline\", \"Life of the Party\", \"Suburbicon\", \"Traffik\", \"Invasion Planet Earth\", \"Breaking In\", \"Lust Stories\", \"Red Sparrow\", \"Blockers\", \"Downsizing\", \"High Life\", \"Truth or Dare\", \"Overboard\", \"Sex Life\", \"Escape Plan 2: Hades\", \"Doom: Annihilation\", \"Kill Mode\", \"Taxi 5\", \"Two Sisters 2\", \"Jersey Shore Family Vacation\", \"IO\"], \"y\": [0.648936170212766, 0.40425531914893614, 0.7978723404255319, 0.48936170212765956, 0.4787234042553192, 0.6276595744680852, 0.2765957446808511, 0.5425531914893617, 0.5851063829787234, 0.7659574468085106, 0.6063829787234043, 0.7127659574468085, 0.5957446808510638, 0.0, 0.6914893617021277, 0.4468085106382979, 0.5851063829787234, 0.6382978723404256, 0.648936170212766, 0.8191489361702128, 0.5957446808510638, 0.5531914893617021, 0.5531914893617021, 0.574468085106383, 0.6595744680851064, 0.6808510638297873, 0.3723404255319149, 0.6595744680851064, 0.7021276595744681, 0.648936170212766, 0.3829787234042553, 0.0, 0.7234042553191489, 0.34042553191489366, 0.3829787234042553, 0.5638297872340425, 0.6702127659574468, 0.40425531914893614, 0.6702127659574468, 0.5638297872340425, 0.5531914893617021, 0.3829787234042553, 0.5, 0.7340425531914894, 0.776595744680851, 0.5638297872340425, 0.5425531914893617, 0.2872340425531915, 0.4468085106382979, 0.4787234042553192, 0.5106382978723404, 0.7553191489361701, 0.5851063829787234, 0.5531914893617021, 0.5638297872340425, 0.7340425531914894, 0.6914893617021277, 0.6914893617021277, 0.4148936170212766, 0.6595744680851064, 0.6702127659574468, 0.40425531914893614, 0.5319148936170213, 0.5319148936170213, 0.7021276595744681, 0.5957446808510638, 0.4680851063829788, 0.5851063829787234, 0.4468085106382979, 0.26595744680851063, 0.6808510638297873, 0.0, 0.0, 0.6382978723404256, 0.35106382978723405, 0.24468085106382978, 0.40425531914893614, 0.6276595744680852, 0.6170212765957447, 0.36170212765957444, 0.5957446808510638, 0.6063829787234043, 0.6382978723404256, 0.35106382978723405, 0.574468085106383, 0.6914893617021277, 0.7021276595744681, 0.6595744680851064, 0.6063829787234043, 0.6170212765957447, 0.5531914893617021, 0.6382978723404256, 0.6382978723404256, 0.40425531914893614, 0.3829787234042553, 0.30851063829787234, 0.5, 0.0, 0.7234042553191489, 0.5]}, {\"name\": \"Local Ratings Bottom 100|Movie\", \"type\": \"bar\", \"x\": [\"Intimacy\", \"Drunk Parents\", \"Deception\", \"A Score to Settle\", \"Brahms: The Boy II\", \"Maze\", \"Kiss and Kill\", \"The Hurricane Heist\", \"Submission\", \"The Post\", \"Diario de una ninf\\u00f3mana\", \"Star Wars: Episode IX - The Rise of Skywalker\", \"A Bad Moms Christmas\", \"A Delicious Flight\", \"Tag\", \"A Wrinkle in Time\", \"The Beach Bum\", \"Daddy's Home 2\", \"The Kissing Booth\", \"Deadpool 2\", \"Batman Ninja\", \"Death Race 4: Beyond Anarchy\", \"Flatliners\", \"The Hustle\", \"Ocean's 8\", \"Death Wish\", \"High Heel Homicide\", \"Jurassic World: Fallen Kingdom\", \"Mother!\", \"Book Club\", \"10 Minutes Gone\", \"Delicious Delivery\", \"All the Money in the World\", \"Black Christmas\", \"Dragon Kingdom\", \"The Head Hunter\", \"Tomb Raider\", \"Sex Files: Pleasure World\", \"Hustlers\", \"Acts of Violence\", \"The First Purge\", \"Picture of Beauty\", \"The Poison Rose\", \"Nymphomaniac: Vol. 1\", \"Hereditary\", \"Lie with Me\", \"Love Island\", \"Cats\", \"The Grudge\", \"Fifty Shades Freed\", \"The Titan\", \"Super Dragon Ball Heroes\", \"The Dead Don't Die\", \"The Strangers: Prey at Night\", \"Killers Anonymous\", \"Game Night\", \"Set It Up\", \"Life Sentence\", \"Desire\", \"The Neon Demon\", \"What/If\", \"Silencer\", \"How It Ends\", \"10x10\", \"Ad Astra\", \"Pacific Rim: Uprising\", \"211\", \"I Feel Pretty\", \"F*&% the Prom\", \"Tomb Invader\", \"White Boy Rick\", \"A Tasty Trap\", \"My Uncle's Wife\", \"Super Troopers 2\", \"Deep Blue Sea 2\", \"I Spit on Your Grave: Deja Vu\", \"The Turning\", \"The Photograph\", \"Voldemort: Origins of the Heir\", \"Day of the Dead: Bloodline\", \"Life of the Party\", \"Suburbicon\", \"Traffik\", \"Invasion Planet Earth\", \"Breaking In\", \"Lust Stories\", \"Red Sparrow\", \"Blockers\", \"Downsizing\", \"High Life\", \"Truth or Dare\", \"Overboard\", \"Sex Life\", \"Escape Plan 2: Hades\", \"Doom: Annihilation\", \"Kill Mode\", \"Taxi 5\", \"Two Sisters 2\", \"Jersey Shore Family Vacation\", \"IO\"], \"y\": [0.3421052631578947, 0.3421052631578947, 0.3421052631578947, 0.3157894736842104, 0.3157894736842104, 0.3157894736842104, 0.3157894736842104, 0.3157894736842104, 0.3157894736842104, 0.3157894736842104, 0.3157894736842104, 0.3157894736842104, 0.3157894736842104, 0.3157894736842104, 0.3157894736842104, 0.3157894736842104, 0.3157894736842104, 0.3157894736842104, 0.3157894736842104, 0.3157894736842104, 0.3157894736842104, 0.3157894736842104, 0.3157894736842104, 0.3157894736842104, 0.3157894736842104, 0.3157894736842104, 0.2894736842105261, 0.2894736842105261, 0.2894736842105261, 0.2894736842105261, 0.2894736842105261, 0.2894736842105261, 0.2894736842105261, 0.2894736842105261, 0.2894736842105261, 0.2894736842105261, 0.2894736842105261, 0.2894736842105261, 0.2894736842105261, 0.2894736842105261, 0.2894736842105261, 0.2894736842105261, 0.2894736842105261, 0.2894736842105261, 0.2894736842105261, 0.2894736842105261, 0.2894736842105261, 0.26315789473684204, 0.26315789473684204, 0.26315789473684204, 0.26315789473684204, 0.26315789473684204, 0.26315789473684204, 0.26315789473684204, 0.26315789473684204, 0.26315789473684204, 0.26315789473684204, 0.26315789473684204, 0.26315789473684204, 0.26315789473684204, 0.26315789473684204, 0.26315789473684204, 0.26315789473684204, 0.26315789473684204, 0.23684210526315796, 0.23684210526315796, 0.23684210526315796, 0.23684210526315796, 0.23684210526315796, 0.23684210526315796, 0.23684210526315796, 0.23684210526315796, 0.23684210526315796, 0.23684210526315796, 0.21052631578947367, 0.21052631578947367, 0.21052631578947367, 0.21052631578947367, 0.21052631578947367, 0.21052631578947367, 0.21052631578947367, 0.21052631578947367, 0.21052631578947367, 0.18421052631578938, 0.18421052631578938, 0.18421052631578938, 0.18421052631578938, 0.18421052631578938, 0.1578947368421051, 0.1578947368421051, 0.1578947368421051, 0.1578947368421051, 0.1578947368421051, 0.13157894736842102, 0.10526315789473695, 0.10526315789473695, 0.10526315789473695, 0.07894736842105265, 0.05263157894736836, 0.0]}],\n",
       "                        {\"height\": 700, \"template\": {\"data\": {\"bar\": [{\"error_x\": {\"color\": \"#2a3f5f\"}, \"error_y\": {\"color\": \"#2a3f5f\"}, \"marker\": {\"line\": {\"color\": \"#E5ECF6\", \"width\": 0.5}}, \"type\": \"bar\"}], \"barpolar\": [{\"marker\": {\"line\": {\"color\": \"#E5ECF6\", \"width\": 0.5}}, \"type\": \"barpolar\"}], \"carpet\": [{\"aaxis\": {\"endlinecolor\": \"#2a3f5f\", \"gridcolor\": \"white\", \"linecolor\": \"white\", \"minorgridcolor\": \"white\", \"startlinecolor\": \"#2a3f5f\"}, \"baxis\": {\"endlinecolor\": \"#2a3f5f\", \"gridcolor\": \"white\", \"linecolor\": \"white\", \"minorgridcolor\": \"white\", \"startlinecolor\": \"#2a3f5f\"}, \"type\": \"carpet\"}], \"choropleth\": [{\"colorbar\": {\"outlinewidth\": 0, \"ticks\": \"\"}, \"type\": \"choropleth\"}], \"contour\": [{\"colorbar\": {\"outlinewidth\": 0, \"ticks\": \"\"}, \"colorscale\": [[0.0, \"#0d0887\"], [0.1111111111111111, \"#46039f\"], [0.2222222222222222, \"#7201a8\"], [0.3333333333333333, \"#9c179e\"], [0.4444444444444444, \"#bd3786\"], [0.5555555555555556, \"#d8576b\"], [0.6666666666666666, \"#ed7953\"], [0.7777777777777778, \"#fb9f3a\"], [0.8888888888888888, \"#fdca26\"], [1.0, \"#f0f921\"]], \"type\": \"contour\"}], \"contourcarpet\": [{\"colorbar\": {\"outlinewidth\": 0, \"ticks\": \"\"}, \"type\": \"contourcarpet\"}], \"heatmap\": [{\"colorbar\": {\"outlinewidth\": 0, \"ticks\": \"\"}, \"colorscale\": [[0.0, \"#0d0887\"], [0.1111111111111111, \"#46039f\"], [0.2222222222222222, \"#7201a8\"], [0.3333333333333333, \"#9c179e\"], [0.4444444444444444, \"#bd3786\"], [0.5555555555555556, \"#d8576b\"], [0.6666666666666666, \"#ed7953\"], [0.7777777777777778, \"#fb9f3a\"], [0.8888888888888888, \"#fdca26\"], [1.0, \"#f0f921\"]], \"type\": \"heatmap\"}], \"heatmapgl\": [{\"colorbar\": {\"outlinewidth\": 0, \"ticks\": \"\"}, \"colorscale\": [[0.0, \"#0d0887\"], [0.1111111111111111, \"#46039f\"], [0.2222222222222222, \"#7201a8\"], [0.3333333333333333, \"#9c179e\"], [0.4444444444444444, \"#bd3786\"], [0.5555555555555556, \"#d8576b\"], [0.6666666666666666, \"#ed7953\"], [0.7777777777777778, \"#fb9f3a\"], [0.8888888888888888, \"#fdca26\"], [1.0, \"#f0f921\"]], \"type\": \"heatmapgl\"}], \"histogram\": [{\"marker\": {\"colorbar\": {\"outlinewidth\": 0, \"ticks\": \"\"}}, \"type\": \"histogram\"}], \"histogram2d\": [{\"colorbar\": {\"outlinewidth\": 0, \"ticks\": \"\"}, \"colorscale\": [[0.0, \"#0d0887\"], [0.1111111111111111, \"#46039f\"], [0.2222222222222222, \"#7201a8\"], [0.3333333333333333, \"#9c179e\"], [0.4444444444444444, \"#bd3786\"], [0.5555555555555556, \"#d8576b\"], [0.6666666666666666, \"#ed7953\"], [0.7777777777777778, \"#fb9f3a\"], [0.8888888888888888, \"#fdca26\"], [1.0, \"#f0f921\"]], \"type\": \"histogram2d\"}], \"histogram2dcontour\": [{\"colorbar\": {\"outlinewidth\": 0, \"ticks\": \"\"}, \"colorscale\": [[0.0, \"#0d0887\"], [0.1111111111111111, \"#46039f\"], [0.2222222222222222, \"#7201a8\"], [0.3333333333333333, \"#9c179e\"], [0.4444444444444444, \"#bd3786\"], [0.5555555555555556, \"#d8576b\"], [0.6666666666666666, \"#ed7953\"], [0.7777777777777778, \"#fb9f3a\"], [0.8888888888888888, \"#fdca26\"], [1.0, \"#f0f921\"]], \"type\": \"histogram2dcontour\"}], \"mesh3d\": [{\"colorbar\": {\"outlinewidth\": 0, \"ticks\": \"\"}, \"type\": \"mesh3d\"}], \"parcoords\": [{\"line\": {\"colorbar\": {\"outlinewidth\": 0, \"ticks\": \"\"}}, \"type\": \"parcoords\"}], \"pie\": [{\"automargin\": true, \"type\": \"pie\"}], \"scatter\": [{\"marker\": {\"colorbar\": {\"outlinewidth\": 0, \"ticks\": \"\"}}, \"type\": \"scatter\"}], \"scatter3d\": [{\"line\": {\"colorbar\": {\"outlinewidth\": 0, \"ticks\": \"\"}}, \"marker\": {\"colorbar\": {\"outlinewidth\": 0, \"ticks\": \"\"}}, \"type\": \"scatter3d\"}], \"scattercarpet\": [{\"marker\": {\"colorbar\": {\"outlinewidth\": 0, \"ticks\": \"\"}}, \"type\": \"scattercarpet\"}], \"scattergeo\": [{\"marker\": {\"colorbar\": {\"outlinewidth\": 0, \"ticks\": \"\"}}, \"type\": \"scattergeo\"}], \"scattergl\": [{\"marker\": {\"colorbar\": {\"outlinewidth\": 0, \"ticks\": \"\"}}, \"type\": \"scattergl\"}], \"scattermapbox\": [{\"marker\": {\"colorbar\": {\"outlinewidth\": 0, \"ticks\": \"\"}}, \"type\": \"scattermapbox\"}], \"scatterpolar\": [{\"marker\": {\"colorbar\": {\"outlinewidth\": 0, \"ticks\": \"\"}}, \"type\": \"scatterpolar\"}], \"scatterpolargl\": [{\"marker\": {\"colorbar\": {\"outlinewidth\": 0, \"ticks\": \"\"}}, \"type\": \"scatterpolargl\"}], \"scatterternary\": [{\"marker\": {\"colorbar\": {\"outlinewidth\": 0, \"ticks\": \"\"}}, \"type\": \"scatterternary\"}], \"surface\": [{\"colorbar\": {\"outlinewidth\": 0, \"ticks\": \"\"}, \"colorscale\": [[0.0, \"#0d0887\"], [0.1111111111111111, \"#46039f\"], [0.2222222222222222, \"#7201a8\"], [0.3333333333333333, \"#9c179e\"], [0.4444444444444444, \"#bd3786\"], [0.5555555555555556, \"#d8576b\"], [0.6666666666666666, \"#ed7953\"], [0.7777777777777778, \"#fb9f3a\"], [0.8888888888888888, \"#fdca26\"], [1.0, \"#f0f921\"]], \"type\": \"surface\"}], \"table\": [{\"cells\": {\"fill\": {\"color\": \"#EBF0F8\"}, \"line\": {\"color\": \"white\"}}, \"header\": {\"fill\": {\"color\": \"#C8D4E3\"}, \"line\": {\"color\": \"white\"}}, \"type\": \"table\"}]}, \"layout\": {\"annotationdefaults\": {\"arrowcolor\": \"#2a3f5f\", \"arrowhead\": 0, \"arrowwidth\": 1}, \"coloraxis\": {\"colorbar\": {\"outlinewidth\": 0, \"ticks\": \"\"}}, \"colorscale\": {\"diverging\": [[0, \"#8e0152\"], [0.1, \"#c51b7d\"], [0.2, \"#de77ae\"], [0.3, \"#f1b6da\"], [0.4, \"#fde0ef\"], [0.5, \"#f7f7f7\"], [0.6, \"#e6f5d0\"], [0.7, \"#b8e186\"], [0.8, \"#7fbc41\"], [0.9, \"#4d9221\"], [1, \"#276419\"]], \"sequential\": [[0.0, \"#0d0887\"], [0.1111111111111111, \"#46039f\"], [0.2222222222222222, \"#7201a8\"], [0.3333333333333333, \"#9c179e\"], [0.4444444444444444, \"#bd3786\"], [0.5555555555555556, \"#d8576b\"], [0.6666666666666666, \"#ed7953\"], [0.7777777777777778, \"#fb9f3a\"], [0.8888888888888888, \"#fdca26\"], [1.0, \"#f0f921\"]], \"sequentialminus\": [[0.0, \"#0d0887\"], [0.1111111111111111, \"#46039f\"], [0.2222222222222222, \"#7201a8\"], [0.3333333333333333, \"#9c179e\"], [0.4444444444444444, \"#bd3786\"], [0.5555555555555556, \"#d8576b\"], [0.6666666666666666, \"#ed7953\"], [0.7777777777777778, \"#fb9f3a\"], [0.8888888888888888, \"#fdca26\"], [1.0, \"#f0f921\"]]}, \"colorway\": [\"#636efa\", \"#EF553B\", \"#00cc96\", \"#ab63fa\", \"#FFA15A\", \"#19d3f3\", \"#FF6692\", \"#B6E880\", \"#FF97FF\", \"#FECB52\"], \"font\": {\"color\": \"#2a3f5f\"}, \"geo\": {\"bgcolor\": \"white\", \"lakecolor\": \"white\", \"landcolor\": \"#E5ECF6\", \"showlakes\": true, \"showland\": true, \"subunitcolor\": \"white\"}, \"hoverlabel\": {\"align\": \"left\"}, \"hovermode\": \"closest\", \"mapbox\": {\"style\": \"light\"}, \"paper_bgcolor\": \"white\", \"plot_bgcolor\": \"#E5ECF6\", \"polar\": {\"angularaxis\": {\"gridcolor\": \"white\", \"linecolor\": \"white\", \"ticks\": \"\"}, \"bgcolor\": \"#E5ECF6\", \"radialaxis\": {\"gridcolor\": \"white\", \"linecolor\": \"white\", \"ticks\": \"\"}}, \"scene\": {\"xaxis\": {\"backgroundcolor\": \"#E5ECF6\", \"gridcolor\": \"white\", \"gridwidth\": 2, \"linecolor\": \"white\", \"showbackground\": true, \"ticks\": \"\", \"zerolinecolor\": \"white\"}, \"yaxis\": {\"backgroundcolor\": \"#E5ECF6\", \"gridcolor\": \"white\", \"gridwidth\": 2, \"linecolor\": \"white\", \"showbackground\": true, \"ticks\": \"\", \"zerolinecolor\": \"white\"}, \"zaxis\": {\"backgroundcolor\": \"#E5ECF6\", \"gridcolor\": \"white\", \"gridwidth\": 2, \"linecolor\": \"white\", \"showbackground\": true, \"ticks\": \"\", \"zerolinecolor\": \"white\"}}, \"shapedefaults\": {\"line\": {\"color\": \"#2a3f5f\"}}, \"ternary\": {\"aaxis\": {\"gridcolor\": \"white\", \"linecolor\": \"white\", \"ticks\": \"\"}, \"baxis\": {\"gridcolor\": \"white\", \"linecolor\": \"white\", \"ticks\": \"\"}, \"bgcolor\": \"#E5ECF6\", \"caxis\": {\"gridcolor\": \"white\", \"linecolor\": \"white\", \"ticks\": \"\"}}, \"title\": {\"x\": 0.05}, \"xaxis\": {\"automargin\": true, \"gridcolor\": \"white\", \"linecolor\": \"white\", \"ticks\": \"\", \"title\": {\"standoff\": 15}, \"zerolinecolor\": \"white\", \"zerolinewidth\": 2}, \"yaxis\": {\"automargin\": true, \"gridcolor\": \"white\", \"linecolor\": \"white\", \"ticks\": \"\", \"title\": {\"standoff\": 15}, \"zerolinecolor\": \"white\", \"zerolinewidth\": 2}}}, \"title\": {\"text\": \"IMDB Vs Local Ratings Bottom 100, sorted by local Ratings\"}, \"xaxis\": {\"tickangle\": -45, \"title\": {\"text\": \"Movies\"}}, \"yaxis\": {\"title\": {\"text\": \"Ratings\"}}},\n",
       "                        {\"responsive\": true}\n",
       "                    ).then(function(){\n",
       "                            \n",
       "var gd = document.getElementById('d94345f3-31e8-421a-b70e-b6e3e82e419b');\n",
       "var x = new MutationObserver(function (mutations, observer) {{\n",
       "        var display = window.getComputedStyle(gd).display;\n",
       "        if (!display || display === 'none') {{\n",
       "            console.log([gd, 'removed!']);\n",
       "            Plotly.purge(gd);\n",
       "            observer.disconnect();\n",
       "        }}\n",
       "}});\n",
       "\n",
       "// Listen for the removal of the full notebook cells\n",
       "var notebookContainer = gd.closest('#notebook-container');\n",
       "if (notebookContainer) {{\n",
       "    x.observe(notebookContainer, {childList: true});\n",
       "}}\n",
       "\n",
       "// Listen for the clearing of the current output cell\n",
       "var outputEl = gd.closest('.output');\n",
       "if (outputEl) {{\n",
       "    x.observe(outputEl, {childList: true});\n",
       "}}\n",
       "\n",
       "                        })\n",
       "                };\n",
       "                });\n",
       "            </script>\n",
       "        </div>"
      ]
     },
     "metadata": {},
     "output_type": "display_data"
    }
   ],
   "source": [
    "fig = go.Figure()\n",
    "fig.add_trace(go.Bar(x=movie_names[-100:], y= imdb_ratings[-100:], name=\"IMDB Ratings Bottom 100|Movie\"), )\n",
    "fig.add_trace(go.Bar(x=movie_names[-100:], y= local_ratings[-100:], name=\"Local Ratings Bottom 100|Movie\"))\n",
    "fig.update_xaxes(tickangle=-45)\n",
    "fig.update_layout(xaxis_title =\"Movies\", yaxis_title=\"Ratings\", title=\"IMDB Vs Local Ratings Bottom 100, sorted by local Ratings\", height=700,)"
   ]
  },
  {
   "cell_type": "markdown",
   "metadata": {},
   "source": [
    "While sorting by site_ratings,bottom ones i.e the movies imdb seems to higher than on comparision to the site ratings.\n",
    "But we also have to remember the fact this is a biased data, the number of users in IMDB is not known and not all the viewers rate the movie in fmovies.to"
   ]
  },
  {
   "cell_type": "markdown",
   "metadata": {},
   "source": [
    "#### Movies sorted by IMDB"
   ]
  },
  {
   "cell_type": "code",
   "execution_count": 22,
   "metadata": {
    "ExecuteTime": {
     "end_time": "2020-07-15T04:11:59.241563Z",
     "start_time": "2020-07-15T04:11:59.212568Z"
    }
   },
   "outputs": [],
   "source": [
    "imdb_ratings_mv = movie_df.sort_values('IMDB', ascending=False, ignore_index=True)\n",
    "imdb_ratings_mv.drop_duplicates('MOVIE_NAME',inplace=True )"
   ]
  },
  {
   "cell_type": "code",
   "execution_count": 23,
   "metadata": {
    "ExecuteTime": {
     "end_time": "2020-07-15T04:11:59.257563Z",
     "start_time": "2020-07-15T04:11:59.248568Z"
    }
   },
   "outputs": [],
   "source": [
    "eval_movie_df_imdb = imdb_ratings_mv[['MOVIE_NAME', 'IMDB','USER_REVIEWS_LOCAL','NUMBER_REVIEWS_LOCAL','SITE_RANK']]"
   ]
  },
  {
   "cell_type": "markdown",
   "metadata": {},
   "source": [
    "Normalizing"
   ]
  },
  {
   "cell_type": "code",
   "execution_count": 24,
   "metadata": {
    "ExecuteTime": {
     "end_time": "2020-07-15T04:11:59.289562Z",
     "start_time": "2020-07-15T04:11:59.264567Z"
    }
   },
   "outputs": [],
   "source": [
    "eval_movie_df_imdb[['IMDB','USER_REVIEWS_LOCAL']] = scaler.fit_transform(eval_movie_df_imdb[['IMDB','USER_REVIEWS_LOCAL']])"
   ]
  },
  {
   "cell_type": "code",
   "execution_count": 25,
   "metadata": {
    "ExecuteTime": {
     "end_time": "2020-07-15T04:11:59.305565Z",
     "start_time": "2020-07-15T04:11:59.292566Z"
    }
   },
   "outputs": [],
   "source": [
    "movie_names_imdb = eval_movie_df_imdb.MOVIE_NAME.values.tolist()\n",
    "imdb_ratings_imdb = eval_movie_df_imdb.IMDB.values.tolist()\n",
    "local_ratings_imdb = eval_movie_df_imdb.USER_REVIEWS_LOCAL.values.tolist()"
   ]
  },
  {
   "cell_type": "markdown",
   "metadata": {
    "ExecuteTime": {
     "end_time": "2020-07-14T15:48:23.731803Z",
     "start_time": "2020-07-14T15:48:23.697808Z"
    }
   },
   "source": [
    "Plot"
   ]
  },
  {
   "cell_type": "code",
   "execution_count": 26,
   "metadata": {
    "ExecuteTime": {
     "end_time": "2020-07-15T04:11:59.353569Z",
     "start_time": "2020-07-15T04:11:59.309568Z"
    },
    "scrolled": false
   },
   "outputs": [
    {
     "data": {
      "application/vnd.plotly.v1+json": {
       "config": {
        "plotlyServerURL": "https://plot.ly"
       },
       "data": [
        {
         "name": "IMDB Ratings Top 100|Movie",
         "type": "bar",
         "x": [
          "Band of Brothers",
          "Chernobyl",
          "The Last Dance",
          "The Shawshank Redemption",
          "The Godfather",
          "The Godfather 2",
          "The Dark Knight",
          "Bose: Dead/Alive",
          "Only Fools and Horses",
          "Pulp Fiction",
          "The Lord Of The Rings: The Return Of The King (EXTENDED)",
          "When They See Us",
          "The New Edition Story",
          "Forrest Gump",
          "Inception",
          "Fight Club",
          "Normal People",
          "The Lord Of The Rings: The Fellowship Of The Ring (EXTENDED)",
          "Dragon Ball Z",
          "The Mandalorian",
          "Oz",
          "The Matrix",
          "The Lord Of The Rings: The Two Towers (EXTENDED)",
          "Goodfellas",
          "Friday Night Lights",
          "Star Wars: Episode 5 - The Empire Strikes Back",
          "The Boys",
          "The Haunting of Hill House",
          "The Family Man",
          "Interstellar",
          "The Silence Of The Lambs",
          "Star Wars: Episode IV - A New Hope",
          "Spirited Away",
          "Se7en",
          "Parasite",
          "Saving Private Ryan",
          "The Departed",
          "Avengers: Infinity War",
          "Inside Out",
          "The Prestige",
          "Mirzapur",
          "Dave Chappelle: Sticks & Stones",
          "Terminator 2: Judgment Day",
          "Twin Peaks",
          "Back To The Future",
          "Whiplash",
          "The Dark Crystal: Age of Resistance",
          "Love, Death & Robots",
          "The Lion King",
          "Joker",
          "Gangs of London",
          "The Morning Show",
          "Coco",
          "Django Unchained",
          "Unbelievable",
          "Taboo",
          "Avengers: Endgame",
          "3 Idiots",
          "WALL·E",
          "The Dark Knight Rises",
          "Dangal",
          "Spider-Man: Into the Spider-Verse",
          "Wayne",
          "Dragon Ball Super",
          "Your Name.",
          "Dave",
          "The Shining",
          "Why Women Kill",
          "Inglourious Basterds",
          "The Witcher",
          "Scarface",
          "Defending Jacob",
          "Toy Story",
          "Good Will Hunting",
          "The Pacific",
          "1917",
          "Naruto",
          "Toy Story 3",
          "Mad Max: Fury Road",
          "Wu-Tang: An American Saga",
          "Star Wars: Episode 6 - Return Of The Jedi",
          "Who Is America?",
          "Eternal Sunshine Of The Spotless Mind",
          "Euphoria",
          "Uri: The Surgical Strike",
          "Gangs Of Wasseypur 2",
          "Warrior",
          "Game of Thrones: The Story So Far",
          "Swades",
          "Three Billboards Outside Ebbing, Missouri",
          "The Wolf Of Wall Street",
          "Apollo 11",
          "K.G.F: Chapter 1",
          "Green Book",
          "Sharp Objects",
          "Dragon Ball Super (Dubbed)",
          "\"Sherlock\" The Abominable Bride",
          "Batman Begins",
          "Gully Boy",
          "Die Hard"
         ],
         "y": [
          1,
          1,
          1,
          0.9893617021276596,
          0.9787234042553191,
          0.9574468085106383,
          0.9574468085106383,
          0.9574468085106383,
          0.946808510638298,
          0.946808510638298,
          0.946808510638298,
          0.946808510638298,
          0.946808510638298,
          0.9361702127659576,
          0.9361702127659576,
          0.9361702127659576,
          0.9361702127659576,
          0.9361702127659576,
          0.925531914893617,
          0.925531914893617,
          0.925531914893617,
          0.925531914893617,
          0.925531914893617,
          0.925531914893617,
          0.925531914893617,
          0.925531914893617,
          0.925531914893617,
          0.925531914893617,
          0.9148936170212766,
          0.9148936170212766,
          0.9148936170212766,
          0.9148936170212766,
          0.9148936170212766,
          0.9148936170212766,
          0.9148936170212766,
          0.9148936170212766,
          0.9042553191489362,
          0.9042553191489362,
          0.9042553191489362,
          0.9042553191489362,
          0.9042553191489362,
          0.9042553191489362,
          0.9042553191489362,
          0.9042553191489362,
          0.9042553191489362,
          0.9042553191489362,
          0.9042553191489362,
          0.9042553191489362,
          0.9042553191489362,
          0.9042553191489362,
          0.8936170212765958,
          0.8936170212765958,
          0.8936170212765958,
          0.8936170212765958,
          0.8936170212765958,
          0.8936170212765958,
          0.8936170212765958,
          0.8936170212765958,
          0.8936170212765958,
          0.8936170212765958,
          0.8936170212765958,
          0.8936170212765958,
          0.8936170212765958,
          0.8936170212765958,
          0.8936170212765958,
          0.8936170212765958,
          0.8936170212765958,
          0.8829787234042554,
          0.8829787234042554,
          0.8829787234042554,
          0.8829787234042554,
          0.8829787234042554,
          0.8829787234042554,
          0.8829787234042554,
          0.8829787234042554,
          0.8829787234042554,
          0.8829787234042554,
          0.8829787234042554,
          0.8829787234042554,
          0.8829787234042554,
          0.8829787234042554,
          0.8829787234042554,
          0.8829787234042554,
          0.8829787234042554,
          0.8829787234042554,
          0.8723404255319148,
          0.8723404255319148,
          0.8723404255319148,
          0.8723404255319148,
          0.8723404255319148,
          0.8723404255319148,
          0.8723404255319148,
          0.8723404255319148,
          0.8723404255319148,
          0.8723404255319148,
          0.8723404255319148,
          0.8723404255319148,
          0.8723404255319148,
          0.8723404255319148,
          0.8723404255319148
         ]
        },
        {
         "name": "Local Ratings Top 100|Movie",
         "type": "bar",
         "x": [
          "Band of Brothers",
          "Chernobyl",
          "The Last Dance",
          "The Shawshank Redemption",
          "The Godfather",
          "The Godfather 2",
          "The Dark Knight",
          "Bose: Dead/Alive",
          "Only Fools and Horses",
          "Pulp Fiction",
          "The Lord Of The Rings: The Return Of The King (EXTENDED)",
          "When They See Us",
          "The New Edition Story",
          "Forrest Gump",
          "Inception",
          "Fight Club",
          "Normal People",
          "The Lord Of The Rings: The Fellowship Of The Ring (EXTENDED)",
          "Dragon Ball Z",
          "The Mandalorian",
          "Oz",
          "The Matrix",
          "The Lord Of The Rings: The Two Towers (EXTENDED)",
          "Goodfellas",
          "Friday Night Lights",
          "Star Wars: Episode 5 - The Empire Strikes Back",
          "The Boys",
          "The Haunting of Hill House",
          "The Family Man",
          "Interstellar",
          "The Silence Of The Lambs",
          "Star Wars: Episode IV - A New Hope",
          "Spirited Away",
          "Se7en",
          "Parasite",
          "Saving Private Ryan",
          "The Departed",
          "Avengers: Infinity War",
          "Inside Out",
          "The Prestige",
          "Mirzapur",
          "Dave Chappelle: Sticks & Stones",
          "Terminator 2: Judgment Day",
          "Twin Peaks",
          "Back To The Future",
          "Whiplash",
          "The Dark Crystal: Age of Resistance",
          "Love, Death & Robots",
          "The Lion King",
          "Joker",
          "Gangs of London",
          "The Morning Show",
          "Coco",
          "Django Unchained",
          "Unbelievable",
          "Taboo",
          "Avengers: Endgame",
          "3 Idiots",
          "WALL·E",
          "The Dark Knight Rises",
          "Dangal",
          "Spider-Man: Into the Spider-Verse",
          "Wayne",
          "Dragon Ball Super",
          "Your Name.",
          "Dave",
          "The Shining",
          "Why Women Kill",
          "Inglourious Basterds",
          "The Witcher",
          "Scarface",
          "Defending Jacob",
          "Toy Story",
          "Good Will Hunting",
          "The Pacific",
          "1917",
          "Naruto",
          "Toy Story 3",
          "Mad Max: Fury Road",
          "Wu-Tang: An American Saga",
          "Star Wars: Episode 6 - Return Of The Jedi",
          "Who Is America?",
          "Eternal Sunshine Of The Spotless Mind",
          "Euphoria",
          "Uri: The Surgical Strike",
          "Gangs Of Wasseypur 2",
          "Warrior",
          "Game of Thrones: The Story So Far",
          "Swades",
          "Three Billboards Outside Ebbing, Missouri",
          "The Wolf Of Wall Street",
          "Apollo 11",
          "K.G.F: Chapter 1",
          "Green Book",
          "Sharp Objects",
          "Dragon Ball Super (Dubbed)",
          "\"Sherlock\" The Abominable Bride",
          "Batman Begins",
          "Gully Boy",
          "Die Hard"
         ],
         "y": [
          0.8157894736842102,
          0.7105263157894735,
          0.631578947368421,
          0.8421052631578945,
          0.763157894736842,
          0.7894736842105261,
          0.7105263157894735,
          0.763157894736842,
          0.894736842105263,
          0.763157894736842,
          0.8157894736842102,
          0.5263157894736841,
          0.5263157894736841,
          0.8157894736842102,
          0.6578947368421051,
          0.7105263157894735,
          0.894736842105263,
          0.763157894736842,
          0.5789473684210524,
          0.5263157894736841,
          0.5526315789473681,
          0.6842105263157892,
          0.763157894736842,
          0.6842105263157892,
          0.5526315789473681,
          0.6578947368421051,
          0.5263157894736841,
          0.6578947368421051,
          0.631578947368421,
          0.763157894736842,
          0.6578947368421051,
          0.5526315789473681,
          0.7894736842105261,
          0.6842105263157892,
          0.368421052631579,
          0.763157894736842,
          0.6842105263157892,
          0.4473684210526314,
          0.6578947368421051,
          0.6578947368421051,
          0.5789473684210524,
          0.894736842105263,
          0.7894736842105261,
          0.7894736842105261,
          0.7368421052631577,
          0.8421052631578945,
          0.7368421052631577,
          0.8421052631578945,
          0.7105263157894735,
          0.6052631578947367,
          0.7368421052631577,
          0.368421052631579,
          0.5789473684210524,
          0.7105263157894735,
          0.631578947368421,
          0.8421052631578945,
          0.6842105263157892,
          0.7368421052631577,
          0.7105263157894735,
          0.6052631578947367,
          0.8421052631578945,
          0.6842105263157892,
          0.7368421052631577,
          0.5526315789473681,
          0.7894736842105261,
          0.7368421052631577,
          0.5789473684210524,
          0.6842105263157892,
          0.7105263157894735,
          0.5789473684210524,
          0.6842105263157892,
          0.7368421052631577,
          0.6842105263157892,
          0.7368421052631577,
          0.631578947368421,
          0.5526315789473681,
          0.5,
          0.7368421052631577,
          0.6842105263157892,
          0.39473684210526305,
          0.7368421052631577,
          0.4736842105263157,
          0.6578947368421051,
          0.4210526315789471,
          0.7368421052631577,
          0.6578947368421051,
          0.6578947368421051,
          0.5526315789473681,
          0.8157894736842102,
          0.5263157894736841,
          0.5263157894736841,
          0.8684210526315785,
          0.7894736842105261,
          0.763157894736842,
          0.5526315789473681,
          0.6052631578947367,
          0.763157894736842,
          0.7368421052631577,
          0.6578947368421051,
          0.5263157894736841
         ]
        }
       ],
       "layout": {
        "height": 700,
        "template": {
         "data": {
          "bar": [
           {
            "error_x": {
             "color": "#2a3f5f"
            },
            "error_y": {
             "color": "#2a3f5f"
            },
            "marker": {
             "line": {
              "color": "#E5ECF6",
              "width": 0.5
             }
            },
            "type": "bar"
           }
          ],
          "barpolar": [
           {
            "marker": {
             "line": {
              "color": "#E5ECF6",
              "width": 0.5
             }
            },
            "type": "barpolar"
           }
          ],
          "carpet": [
           {
            "aaxis": {
             "endlinecolor": "#2a3f5f",
             "gridcolor": "white",
             "linecolor": "white",
             "minorgridcolor": "white",
             "startlinecolor": "#2a3f5f"
            },
            "baxis": {
             "endlinecolor": "#2a3f5f",
             "gridcolor": "white",
             "linecolor": "white",
             "minorgridcolor": "white",
             "startlinecolor": "#2a3f5f"
            },
            "type": "carpet"
           }
          ],
          "choropleth": [
           {
            "colorbar": {
             "outlinewidth": 0,
             "ticks": ""
            },
            "type": "choropleth"
           }
          ],
          "contour": [
           {
            "colorbar": {
             "outlinewidth": 0,
             "ticks": ""
            },
            "colorscale": [
             [
              0,
              "#0d0887"
             ],
             [
              0.1111111111111111,
              "#46039f"
             ],
             [
              0.2222222222222222,
              "#7201a8"
             ],
             [
              0.3333333333333333,
              "#9c179e"
             ],
             [
              0.4444444444444444,
              "#bd3786"
             ],
             [
              0.5555555555555556,
              "#d8576b"
             ],
             [
              0.6666666666666666,
              "#ed7953"
             ],
             [
              0.7777777777777778,
              "#fb9f3a"
             ],
             [
              0.8888888888888888,
              "#fdca26"
             ],
             [
              1,
              "#f0f921"
             ]
            ],
            "type": "contour"
           }
          ],
          "contourcarpet": [
           {
            "colorbar": {
             "outlinewidth": 0,
             "ticks": ""
            },
            "type": "contourcarpet"
           }
          ],
          "heatmap": [
           {
            "colorbar": {
             "outlinewidth": 0,
             "ticks": ""
            },
            "colorscale": [
             [
              0,
              "#0d0887"
             ],
             [
              0.1111111111111111,
              "#46039f"
             ],
             [
              0.2222222222222222,
              "#7201a8"
             ],
             [
              0.3333333333333333,
              "#9c179e"
             ],
             [
              0.4444444444444444,
              "#bd3786"
             ],
             [
              0.5555555555555556,
              "#d8576b"
             ],
             [
              0.6666666666666666,
              "#ed7953"
             ],
             [
              0.7777777777777778,
              "#fb9f3a"
             ],
             [
              0.8888888888888888,
              "#fdca26"
             ],
             [
              1,
              "#f0f921"
             ]
            ],
            "type": "heatmap"
           }
          ],
          "heatmapgl": [
           {
            "colorbar": {
             "outlinewidth": 0,
             "ticks": ""
            },
            "colorscale": [
             [
              0,
              "#0d0887"
             ],
             [
              0.1111111111111111,
              "#46039f"
             ],
             [
              0.2222222222222222,
              "#7201a8"
             ],
             [
              0.3333333333333333,
              "#9c179e"
             ],
             [
              0.4444444444444444,
              "#bd3786"
             ],
             [
              0.5555555555555556,
              "#d8576b"
             ],
             [
              0.6666666666666666,
              "#ed7953"
             ],
             [
              0.7777777777777778,
              "#fb9f3a"
             ],
             [
              0.8888888888888888,
              "#fdca26"
             ],
             [
              1,
              "#f0f921"
             ]
            ],
            "type": "heatmapgl"
           }
          ],
          "histogram": [
           {
            "marker": {
             "colorbar": {
              "outlinewidth": 0,
              "ticks": ""
             }
            },
            "type": "histogram"
           }
          ],
          "histogram2d": [
           {
            "colorbar": {
             "outlinewidth": 0,
             "ticks": ""
            },
            "colorscale": [
             [
              0,
              "#0d0887"
             ],
             [
              0.1111111111111111,
              "#46039f"
             ],
             [
              0.2222222222222222,
              "#7201a8"
             ],
             [
              0.3333333333333333,
              "#9c179e"
             ],
             [
              0.4444444444444444,
              "#bd3786"
             ],
             [
              0.5555555555555556,
              "#d8576b"
             ],
             [
              0.6666666666666666,
              "#ed7953"
             ],
             [
              0.7777777777777778,
              "#fb9f3a"
             ],
             [
              0.8888888888888888,
              "#fdca26"
             ],
             [
              1,
              "#f0f921"
             ]
            ],
            "type": "histogram2d"
           }
          ],
          "histogram2dcontour": [
           {
            "colorbar": {
             "outlinewidth": 0,
             "ticks": ""
            },
            "colorscale": [
             [
              0,
              "#0d0887"
             ],
             [
              0.1111111111111111,
              "#46039f"
             ],
             [
              0.2222222222222222,
              "#7201a8"
             ],
             [
              0.3333333333333333,
              "#9c179e"
             ],
             [
              0.4444444444444444,
              "#bd3786"
             ],
             [
              0.5555555555555556,
              "#d8576b"
             ],
             [
              0.6666666666666666,
              "#ed7953"
             ],
             [
              0.7777777777777778,
              "#fb9f3a"
             ],
             [
              0.8888888888888888,
              "#fdca26"
             ],
             [
              1,
              "#f0f921"
             ]
            ],
            "type": "histogram2dcontour"
           }
          ],
          "mesh3d": [
           {
            "colorbar": {
             "outlinewidth": 0,
             "ticks": ""
            },
            "type": "mesh3d"
           }
          ],
          "parcoords": [
           {
            "line": {
             "colorbar": {
              "outlinewidth": 0,
              "ticks": ""
             }
            },
            "type": "parcoords"
           }
          ],
          "pie": [
           {
            "automargin": true,
            "type": "pie"
           }
          ],
          "scatter": [
           {
            "marker": {
             "colorbar": {
              "outlinewidth": 0,
              "ticks": ""
             }
            },
            "type": "scatter"
           }
          ],
          "scatter3d": [
           {
            "line": {
             "colorbar": {
              "outlinewidth": 0,
              "ticks": ""
             }
            },
            "marker": {
             "colorbar": {
              "outlinewidth": 0,
              "ticks": ""
             }
            },
            "type": "scatter3d"
           }
          ],
          "scattercarpet": [
           {
            "marker": {
             "colorbar": {
              "outlinewidth": 0,
              "ticks": ""
             }
            },
            "type": "scattercarpet"
           }
          ],
          "scattergeo": [
           {
            "marker": {
             "colorbar": {
              "outlinewidth": 0,
              "ticks": ""
             }
            },
            "type": "scattergeo"
           }
          ],
          "scattergl": [
           {
            "marker": {
             "colorbar": {
              "outlinewidth": 0,
              "ticks": ""
             }
            },
            "type": "scattergl"
           }
          ],
          "scattermapbox": [
           {
            "marker": {
             "colorbar": {
              "outlinewidth": 0,
              "ticks": ""
             }
            },
            "type": "scattermapbox"
           }
          ],
          "scatterpolar": [
           {
            "marker": {
             "colorbar": {
              "outlinewidth": 0,
              "ticks": ""
             }
            },
            "type": "scatterpolar"
           }
          ],
          "scatterpolargl": [
           {
            "marker": {
             "colorbar": {
              "outlinewidth": 0,
              "ticks": ""
             }
            },
            "type": "scatterpolargl"
           }
          ],
          "scatterternary": [
           {
            "marker": {
             "colorbar": {
              "outlinewidth": 0,
              "ticks": ""
             }
            },
            "type": "scatterternary"
           }
          ],
          "surface": [
           {
            "colorbar": {
             "outlinewidth": 0,
             "ticks": ""
            },
            "colorscale": [
             [
              0,
              "#0d0887"
             ],
             [
              0.1111111111111111,
              "#46039f"
             ],
             [
              0.2222222222222222,
              "#7201a8"
             ],
             [
              0.3333333333333333,
              "#9c179e"
             ],
             [
              0.4444444444444444,
              "#bd3786"
             ],
             [
              0.5555555555555556,
              "#d8576b"
             ],
             [
              0.6666666666666666,
              "#ed7953"
             ],
             [
              0.7777777777777778,
              "#fb9f3a"
             ],
             [
              0.8888888888888888,
              "#fdca26"
             ],
             [
              1,
              "#f0f921"
             ]
            ],
            "type": "surface"
           }
          ],
          "table": [
           {
            "cells": {
             "fill": {
              "color": "#EBF0F8"
             },
             "line": {
              "color": "white"
             }
            },
            "header": {
             "fill": {
              "color": "#C8D4E3"
             },
             "line": {
              "color": "white"
             }
            },
            "type": "table"
           }
          ]
         },
         "layout": {
          "annotationdefaults": {
           "arrowcolor": "#2a3f5f",
           "arrowhead": 0,
           "arrowwidth": 1
          },
          "coloraxis": {
           "colorbar": {
            "outlinewidth": 0,
            "ticks": ""
           }
          },
          "colorscale": {
           "diverging": [
            [
             0,
             "#8e0152"
            ],
            [
             0.1,
             "#c51b7d"
            ],
            [
             0.2,
             "#de77ae"
            ],
            [
             0.3,
             "#f1b6da"
            ],
            [
             0.4,
             "#fde0ef"
            ],
            [
             0.5,
             "#f7f7f7"
            ],
            [
             0.6,
             "#e6f5d0"
            ],
            [
             0.7,
             "#b8e186"
            ],
            [
             0.8,
             "#7fbc41"
            ],
            [
             0.9,
             "#4d9221"
            ],
            [
             1,
             "#276419"
            ]
           ],
           "sequential": [
            [
             0,
             "#0d0887"
            ],
            [
             0.1111111111111111,
             "#46039f"
            ],
            [
             0.2222222222222222,
             "#7201a8"
            ],
            [
             0.3333333333333333,
             "#9c179e"
            ],
            [
             0.4444444444444444,
             "#bd3786"
            ],
            [
             0.5555555555555556,
             "#d8576b"
            ],
            [
             0.6666666666666666,
             "#ed7953"
            ],
            [
             0.7777777777777778,
             "#fb9f3a"
            ],
            [
             0.8888888888888888,
             "#fdca26"
            ],
            [
             1,
             "#f0f921"
            ]
           ],
           "sequentialminus": [
            [
             0,
             "#0d0887"
            ],
            [
             0.1111111111111111,
             "#46039f"
            ],
            [
             0.2222222222222222,
             "#7201a8"
            ],
            [
             0.3333333333333333,
             "#9c179e"
            ],
            [
             0.4444444444444444,
             "#bd3786"
            ],
            [
             0.5555555555555556,
             "#d8576b"
            ],
            [
             0.6666666666666666,
             "#ed7953"
            ],
            [
             0.7777777777777778,
             "#fb9f3a"
            ],
            [
             0.8888888888888888,
             "#fdca26"
            ],
            [
             1,
             "#f0f921"
            ]
           ]
          },
          "colorway": [
           "#636efa",
           "#EF553B",
           "#00cc96",
           "#ab63fa",
           "#FFA15A",
           "#19d3f3",
           "#FF6692",
           "#B6E880",
           "#FF97FF",
           "#FECB52"
          ],
          "font": {
           "color": "#2a3f5f"
          },
          "geo": {
           "bgcolor": "white",
           "lakecolor": "white",
           "landcolor": "#E5ECF6",
           "showlakes": true,
           "showland": true,
           "subunitcolor": "white"
          },
          "hoverlabel": {
           "align": "left"
          },
          "hovermode": "closest",
          "mapbox": {
           "style": "light"
          },
          "paper_bgcolor": "white",
          "plot_bgcolor": "#E5ECF6",
          "polar": {
           "angularaxis": {
            "gridcolor": "white",
            "linecolor": "white",
            "ticks": ""
           },
           "bgcolor": "#E5ECF6",
           "radialaxis": {
            "gridcolor": "white",
            "linecolor": "white",
            "ticks": ""
           }
          },
          "scene": {
           "xaxis": {
            "backgroundcolor": "#E5ECF6",
            "gridcolor": "white",
            "gridwidth": 2,
            "linecolor": "white",
            "showbackground": true,
            "ticks": "",
            "zerolinecolor": "white"
           },
           "yaxis": {
            "backgroundcolor": "#E5ECF6",
            "gridcolor": "white",
            "gridwidth": 2,
            "linecolor": "white",
            "showbackground": true,
            "ticks": "",
            "zerolinecolor": "white"
           },
           "zaxis": {
            "backgroundcolor": "#E5ECF6",
            "gridcolor": "white",
            "gridwidth": 2,
            "linecolor": "white",
            "showbackground": true,
            "ticks": "",
            "zerolinecolor": "white"
           }
          },
          "shapedefaults": {
           "line": {
            "color": "#2a3f5f"
           }
          },
          "ternary": {
           "aaxis": {
            "gridcolor": "white",
            "linecolor": "white",
            "ticks": ""
           },
           "baxis": {
            "gridcolor": "white",
            "linecolor": "white",
            "ticks": ""
           },
           "bgcolor": "#E5ECF6",
           "caxis": {
            "gridcolor": "white",
            "linecolor": "white",
            "ticks": ""
           }
          },
          "title": {
           "x": 0.05
          },
          "xaxis": {
           "automargin": true,
           "gridcolor": "white",
           "linecolor": "white",
           "ticks": "",
           "title": {
            "standoff": 15
           },
           "zerolinecolor": "white",
           "zerolinewidth": 2
          },
          "yaxis": {
           "automargin": true,
           "gridcolor": "white",
           "linecolor": "white",
           "ticks": "",
           "title": {
            "standoff": 15
           },
           "zerolinecolor": "white",
           "zerolinewidth": 2
          }
         }
        },
        "title": {
         "text": "IMDB Vs Local Ratings Top 100 |Movie |sorted IMDb"
        },
        "xaxis": {
         "tickangle": -45,
         "title": {
          "text": "Movies"
         }
        },
        "yaxis": {
         "title": {
          "text": "Ratings"
         }
        }
       }
      },
      "text/html": [
       "<div>\n",
       "        \n",
       "        \n",
       "            <div id=\"8cb5e345-1773-4e98-94a5-77e2570fa6b5\" class=\"plotly-graph-div\" style=\"height:700px; width:100%;\"></div>\n",
       "            <script type=\"text/javascript\">\n",
       "                require([\"plotly\"], function(Plotly) {\n",
       "                    window.PLOTLYENV=window.PLOTLYENV || {};\n",
       "                    \n",
       "                if (document.getElementById(\"8cb5e345-1773-4e98-94a5-77e2570fa6b5\")) {\n",
       "                    Plotly.newPlot(\n",
       "                        '8cb5e345-1773-4e98-94a5-77e2570fa6b5',\n",
       "                        [{\"name\": \"IMDB Ratings Top 100|Movie\", \"type\": \"bar\", \"x\": [\"Band of Brothers\", \"Chernobyl\", \"The Last Dance\", \"The Shawshank Redemption\", \"The Godfather\", \"The Godfather 2\", \"The Dark Knight\", \"Bose: Dead/Alive\", \"Only Fools and Horses\", \"Pulp Fiction\", \"The Lord Of The Rings: The Return Of The King (EXTENDED)\", \"When They See Us\", \"The New Edition Story\", \"Forrest Gump\", \"Inception\", \"Fight Club\", \"Normal People\", \"The Lord Of The Rings: The Fellowship Of The Ring (EXTENDED)\", \"Dragon Ball Z\", \"The Mandalorian\", \"Oz\", \"The Matrix\", \"The Lord Of The Rings: The Two Towers (EXTENDED)\", \"Goodfellas\", \"Friday Night Lights\", \"Star Wars: Episode 5 - The Empire Strikes Back\", \"The Boys\", \"The Haunting of Hill House\", \"The Family Man\", \"Interstellar\", \"The Silence Of The Lambs\", \"Star Wars: Episode IV - A New Hope\", \"Spirited Away\", \"Se7en\", \"Parasite\", \"Saving Private Ryan\", \"The Departed\", \"Avengers: Infinity War\", \"Inside Out\", \"The Prestige\", \"Mirzapur\", \"Dave Chappelle: Sticks & Stones\", \"Terminator 2: Judgment Day\", \"Twin Peaks\", \"Back To The Future\", \"Whiplash\", \"The Dark Crystal: Age of Resistance\", \"Love, Death & Robots\", \"The Lion King\", \"Joker\", \"Gangs of London\", \"The Morning Show\", \"Coco\", \"Django Unchained\", \"Unbelievable\", \"Taboo\", \"Avengers: Endgame\", \"3 Idiots\", \"WALL\\u00b7E\", \"The Dark Knight Rises\", \"Dangal\", \"Spider-Man: Into the Spider-Verse\", \"Wayne\", \"Dragon Ball Super\", \"Your Name.\", \"Dave\", \"The Shining\", \"Why Women Kill\", \"Inglourious Basterds\", \"The Witcher\", \"Scarface\", \"Defending Jacob\", \"Toy Story\", \"Good Will Hunting\", \"The Pacific\", \"1917\", \"Naruto\", \"Toy Story 3\", \"Mad Max: Fury Road\", \"Wu-Tang: An American Saga\", \"Star Wars: Episode 6 - Return Of The Jedi\", \"Who Is America?\", \"Eternal Sunshine Of The Spotless Mind\", \"Euphoria\", \"Uri: The Surgical Strike\", \"Gangs Of Wasseypur 2\", \"Warrior\", \"Game of Thrones: The Story So Far\", \"Swades\", \"Three Billboards Outside Ebbing, Missouri\", \"The Wolf Of Wall Street\", \"Apollo 11\", \"K.G.F: Chapter 1\", \"Green Book\", \"Sharp Objects\", \"Dragon Ball Super (Dubbed)\", \"\\\"Sherlock\\\" The Abominable Bride\", \"Batman Begins\", \"Gully Boy\", \"Die Hard\"], \"y\": [1.0, 1.0, 1.0, 0.9893617021276596, 0.9787234042553191, 0.9574468085106383, 0.9574468085106383, 0.9574468085106383, 0.946808510638298, 0.946808510638298, 0.946808510638298, 0.946808510638298, 0.946808510638298, 0.9361702127659576, 0.9361702127659576, 0.9361702127659576, 0.9361702127659576, 0.9361702127659576, 0.925531914893617, 0.925531914893617, 0.925531914893617, 0.925531914893617, 0.925531914893617, 0.925531914893617, 0.925531914893617, 0.925531914893617, 0.925531914893617, 0.925531914893617, 0.9148936170212766, 0.9148936170212766, 0.9148936170212766, 0.9148936170212766, 0.9148936170212766, 0.9148936170212766, 0.9148936170212766, 0.9148936170212766, 0.9042553191489362, 0.9042553191489362, 0.9042553191489362, 0.9042553191489362, 0.9042553191489362, 0.9042553191489362, 0.9042553191489362, 0.9042553191489362, 0.9042553191489362, 0.9042553191489362, 0.9042553191489362, 0.9042553191489362, 0.9042553191489362, 0.9042553191489362, 0.8936170212765958, 0.8936170212765958, 0.8936170212765958, 0.8936170212765958, 0.8936170212765958, 0.8936170212765958, 0.8936170212765958, 0.8936170212765958, 0.8936170212765958, 0.8936170212765958, 0.8936170212765958, 0.8936170212765958, 0.8936170212765958, 0.8936170212765958, 0.8936170212765958, 0.8936170212765958, 0.8936170212765958, 0.8829787234042554, 0.8829787234042554, 0.8829787234042554, 0.8829787234042554, 0.8829787234042554, 0.8829787234042554, 0.8829787234042554, 0.8829787234042554, 0.8829787234042554, 0.8829787234042554, 0.8829787234042554, 0.8829787234042554, 0.8829787234042554, 0.8829787234042554, 0.8829787234042554, 0.8829787234042554, 0.8829787234042554, 0.8829787234042554, 0.8723404255319148, 0.8723404255319148, 0.8723404255319148, 0.8723404255319148, 0.8723404255319148, 0.8723404255319148, 0.8723404255319148, 0.8723404255319148, 0.8723404255319148, 0.8723404255319148, 0.8723404255319148, 0.8723404255319148, 0.8723404255319148, 0.8723404255319148, 0.8723404255319148]}, {\"name\": \"Local Ratings Top 100|Movie\", \"type\": \"bar\", \"x\": [\"Band of Brothers\", \"Chernobyl\", \"The Last Dance\", \"The Shawshank Redemption\", \"The Godfather\", \"The Godfather 2\", \"The Dark Knight\", \"Bose: Dead/Alive\", \"Only Fools and Horses\", \"Pulp Fiction\", \"The Lord Of The Rings: The Return Of The King (EXTENDED)\", \"When They See Us\", \"The New Edition Story\", \"Forrest Gump\", \"Inception\", \"Fight Club\", \"Normal People\", \"The Lord Of The Rings: The Fellowship Of The Ring (EXTENDED)\", \"Dragon Ball Z\", \"The Mandalorian\", \"Oz\", \"The Matrix\", \"The Lord Of The Rings: The Two Towers (EXTENDED)\", \"Goodfellas\", \"Friday Night Lights\", \"Star Wars: Episode 5 - The Empire Strikes Back\", \"The Boys\", \"The Haunting of Hill House\", \"The Family Man\", \"Interstellar\", \"The Silence Of The Lambs\", \"Star Wars: Episode IV - A New Hope\", \"Spirited Away\", \"Se7en\", \"Parasite\", \"Saving Private Ryan\", \"The Departed\", \"Avengers: Infinity War\", \"Inside Out\", \"The Prestige\", \"Mirzapur\", \"Dave Chappelle: Sticks & Stones\", \"Terminator 2: Judgment Day\", \"Twin Peaks\", \"Back To The Future\", \"Whiplash\", \"The Dark Crystal: Age of Resistance\", \"Love, Death & Robots\", \"The Lion King\", \"Joker\", \"Gangs of London\", \"The Morning Show\", \"Coco\", \"Django Unchained\", \"Unbelievable\", \"Taboo\", \"Avengers: Endgame\", \"3 Idiots\", \"WALL\\u00b7E\", \"The Dark Knight Rises\", \"Dangal\", \"Spider-Man: Into the Spider-Verse\", \"Wayne\", \"Dragon Ball Super\", \"Your Name.\", \"Dave\", \"The Shining\", \"Why Women Kill\", \"Inglourious Basterds\", \"The Witcher\", \"Scarface\", \"Defending Jacob\", \"Toy Story\", \"Good Will Hunting\", \"The Pacific\", \"1917\", \"Naruto\", \"Toy Story 3\", \"Mad Max: Fury Road\", \"Wu-Tang: An American Saga\", \"Star Wars: Episode 6 - Return Of The Jedi\", \"Who Is America?\", \"Eternal Sunshine Of The Spotless Mind\", \"Euphoria\", \"Uri: The Surgical Strike\", \"Gangs Of Wasseypur 2\", \"Warrior\", \"Game of Thrones: The Story So Far\", \"Swades\", \"Three Billboards Outside Ebbing, Missouri\", \"The Wolf Of Wall Street\", \"Apollo 11\", \"K.G.F: Chapter 1\", \"Green Book\", \"Sharp Objects\", \"Dragon Ball Super (Dubbed)\", \"\\\"Sherlock\\\" The Abominable Bride\", \"Batman Begins\", \"Gully Boy\", \"Die Hard\"], \"y\": [0.8157894736842102, 0.7105263157894735, 0.631578947368421, 0.8421052631578945, 0.763157894736842, 0.7894736842105261, 0.7105263157894735, 0.763157894736842, 0.894736842105263, 0.763157894736842, 0.8157894736842102, 0.5263157894736841, 0.5263157894736841, 0.8157894736842102, 0.6578947368421051, 0.7105263157894735, 0.894736842105263, 0.763157894736842, 0.5789473684210524, 0.5263157894736841, 0.5526315789473681, 0.6842105263157892, 0.763157894736842, 0.6842105263157892, 0.5526315789473681, 0.6578947368421051, 0.5263157894736841, 0.6578947368421051, 0.631578947368421, 0.763157894736842, 0.6578947368421051, 0.5526315789473681, 0.7894736842105261, 0.6842105263157892, 0.368421052631579, 0.763157894736842, 0.6842105263157892, 0.4473684210526314, 0.6578947368421051, 0.6578947368421051, 0.5789473684210524, 0.894736842105263, 0.7894736842105261, 0.7894736842105261, 0.7368421052631577, 0.8421052631578945, 0.7368421052631577, 0.8421052631578945, 0.7105263157894735, 0.6052631578947367, 0.7368421052631577, 0.368421052631579, 0.5789473684210524, 0.7105263157894735, 0.631578947368421, 0.8421052631578945, 0.6842105263157892, 0.7368421052631577, 0.7105263157894735, 0.6052631578947367, 0.8421052631578945, 0.6842105263157892, 0.7368421052631577, 0.5526315789473681, 0.7894736842105261, 0.7368421052631577, 0.5789473684210524, 0.6842105263157892, 0.7105263157894735, 0.5789473684210524, 0.6842105263157892, 0.7368421052631577, 0.6842105263157892, 0.7368421052631577, 0.631578947368421, 0.5526315789473681, 0.5, 0.7368421052631577, 0.6842105263157892, 0.39473684210526305, 0.7368421052631577, 0.4736842105263157, 0.6578947368421051, 0.4210526315789471, 0.7368421052631577, 0.6578947368421051, 0.6578947368421051, 0.5526315789473681, 0.8157894736842102, 0.5263157894736841, 0.5263157894736841, 0.8684210526315785, 0.7894736842105261, 0.763157894736842, 0.5526315789473681, 0.6052631578947367, 0.763157894736842, 0.7368421052631577, 0.6578947368421051, 0.5263157894736841]}],\n",
       "                        {\"height\": 700, \"template\": {\"data\": {\"bar\": [{\"error_x\": {\"color\": \"#2a3f5f\"}, \"error_y\": {\"color\": \"#2a3f5f\"}, \"marker\": {\"line\": {\"color\": \"#E5ECF6\", \"width\": 0.5}}, \"type\": \"bar\"}], \"barpolar\": [{\"marker\": {\"line\": {\"color\": \"#E5ECF6\", \"width\": 0.5}}, \"type\": \"barpolar\"}], \"carpet\": [{\"aaxis\": {\"endlinecolor\": \"#2a3f5f\", \"gridcolor\": \"white\", \"linecolor\": \"white\", \"minorgridcolor\": \"white\", \"startlinecolor\": \"#2a3f5f\"}, \"baxis\": {\"endlinecolor\": \"#2a3f5f\", \"gridcolor\": \"white\", \"linecolor\": \"white\", \"minorgridcolor\": \"white\", \"startlinecolor\": \"#2a3f5f\"}, \"type\": \"carpet\"}], \"choropleth\": [{\"colorbar\": {\"outlinewidth\": 0, \"ticks\": \"\"}, \"type\": \"choropleth\"}], \"contour\": [{\"colorbar\": {\"outlinewidth\": 0, \"ticks\": \"\"}, \"colorscale\": [[0.0, \"#0d0887\"], [0.1111111111111111, \"#46039f\"], [0.2222222222222222, \"#7201a8\"], [0.3333333333333333, \"#9c179e\"], [0.4444444444444444, \"#bd3786\"], [0.5555555555555556, \"#d8576b\"], [0.6666666666666666, \"#ed7953\"], [0.7777777777777778, \"#fb9f3a\"], [0.8888888888888888, \"#fdca26\"], [1.0, \"#f0f921\"]], \"type\": \"contour\"}], \"contourcarpet\": [{\"colorbar\": {\"outlinewidth\": 0, \"ticks\": \"\"}, \"type\": \"contourcarpet\"}], \"heatmap\": [{\"colorbar\": {\"outlinewidth\": 0, \"ticks\": \"\"}, \"colorscale\": [[0.0, \"#0d0887\"], [0.1111111111111111, \"#46039f\"], [0.2222222222222222, \"#7201a8\"], [0.3333333333333333, \"#9c179e\"], [0.4444444444444444, \"#bd3786\"], [0.5555555555555556, \"#d8576b\"], [0.6666666666666666, \"#ed7953\"], [0.7777777777777778, \"#fb9f3a\"], [0.8888888888888888, \"#fdca26\"], [1.0, \"#f0f921\"]], \"type\": \"heatmap\"}], \"heatmapgl\": [{\"colorbar\": {\"outlinewidth\": 0, \"ticks\": \"\"}, \"colorscale\": [[0.0, \"#0d0887\"], [0.1111111111111111, \"#46039f\"], [0.2222222222222222, \"#7201a8\"], [0.3333333333333333, \"#9c179e\"], [0.4444444444444444, \"#bd3786\"], [0.5555555555555556, \"#d8576b\"], [0.6666666666666666, \"#ed7953\"], [0.7777777777777778, \"#fb9f3a\"], [0.8888888888888888, \"#fdca26\"], [1.0, \"#f0f921\"]], \"type\": \"heatmapgl\"}], \"histogram\": [{\"marker\": {\"colorbar\": {\"outlinewidth\": 0, \"ticks\": \"\"}}, \"type\": \"histogram\"}], \"histogram2d\": [{\"colorbar\": {\"outlinewidth\": 0, \"ticks\": \"\"}, \"colorscale\": [[0.0, \"#0d0887\"], [0.1111111111111111, \"#46039f\"], [0.2222222222222222, \"#7201a8\"], [0.3333333333333333, \"#9c179e\"], [0.4444444444444444, \"#bd3786\"], [0.5555555555555556, \"#d8576b\"], [0.6666666666666666, \"#ed7953\"], [0.7777777777777778, \"#fb9f3a\"], [0.8888888888888888, \"#fdca26\"], [1.0, \"#f0f921\"]], \"type\": \"histogram2d\"}], \"histogram2dcontour\": [{\"colorbar\": {\"outlinewidth\": 0, \"ticks\": \"\"}, \"colorscale\": [[0.0, \"#0d0887\"], [0.1111111111111111, \"#46039f\"], [0.2222222222222222, \"#7201a8\"], [0.3333333333333333, \"#9c179e\"], [0.4444444444444444, \"#bd3786\"], [0.5555555555555556, \"#d8576b\"], [0.6666666666666666, \"#ed7953\"], [0.7777777777777778, \"#fb9f3a\"], [0.8888888888888888, \"#fdca26\"], [1.0, \"#f0f921\"]], \"type\": \"histogram2dcontour\"}], \"mesh3d\": [{\"colorbar\": {\"outlinewidth\": 0, \"ticks\": \"\"}, \"type\": \"mesh3d\"}], \"parcoords\": [{\"line\": {\"colorbar\": {\"outlinewidth\": 0, \"ticks\": \"\"}}, \"type\": \"parcoords\"}], \"pie\": [{\"automargin\": true, \"type\": \"pie\"}], \"scatter\": [{\"marker\": {\"colorbar\": {\"outlinewidth\": 0, \"ticks\": \"\"}}, \"type\": \"scatter\"}], \"scatter3d\": [{\"line\": {\"colorbar\": {\"outlinewidth\": 0, \"ticks\": \"\"}}, \"marker\": {\"colorbar\": {\"outlinewidth\": 0, \"ticks\": \"\"}}, \"type\": \"scatter3d\"}], \"scattercarpet\": [{\"marker\": {\"colorbar\": {\"outlinewidth\": 0, \"ticks\": \"\"}}, \"type\": \"scattercarpet\"}], \"scattergeo\": [{\"marker\": {\"colorbar\": {\"outlinewidth\": 0, \"ticks\": \"\"}}, \"type\": \"scattergeo\"}], \"scattergl\": [{\"marker\": {\"colorbar\": {\"outlinewidth\": 0, \"ticks\": \"\"}}, \"type\": \"scattergl\"}], \"scattermapbox\": [{\"marker\": {\"colorbar\": {\"outlinewidth\": 0, \"ticks\": \"\"}}, \"type\": \"scattermapbox\"}], \"scatterpolar\": [{\"marker\": {\"colorbar\": {\"outlinewidth\": 0, \"ticks\": \"\"}}, \"type\": \"scatterpolar\"}], \"scatterpolargl\": [{\"marker\": {\"colorbar\": {\"outlinewidth\": 0, \"ticks\": \"\"}}, \"type\": \"scatterpolargl\"}], \"scatterternary\": [{\"marker\": {\"colorbar\": {\"outlinewidth\": 0, \"ticks\": \"\"}}, \"type\": \"scatterternary\"}], \"surface\": [{\"colorbar\": {\"outlinewidth\": 0, \"ticks\": \"\"}, \"colorscale\": [[0.0, \"#0d0887\"], [0.1111111111111111, \"#46039f\"], [0.2222222222222222, \"#7201a8\"], [0.3333333333333333, \"#9c179e\"], [0.4444444444444444, \"#bd3786\"], [0.5555555555555556, \"#d8576b\"], [0.6666666666666666, \"#ed7953\"], [0.7777777777777778, \"#fb9f3a\"], [0.8888888888888888, \"#fdca26\"], [1.0, \"#f0f921\"]], \"type\": \"surface\"}], \"table\": [{\"cells\": {\"fill\": {\"color\": \"#EBF0F8\"}, \"line\": {\"color\": \"white\"}}, \"header\": {\"fill\": {\"color\": \"#C8D4E3\"}, \"line\": {\"color\": \"white\"}}, \"type\": \"table\"}]}, \"layout\": {\"annotationdefaults\": {\"arrowcolor\": \"#2a3f5f\", \"arrowhead\": 0, \"arrowwidth\": 1}, \"coloraxis\": {\"colorbar\": {\"outlinewidth\": 0, \"ticks\": \"\"}}, \"colorscale\": {\"diverging\": [[0, \"#8e0152\"], [0.1, \"#c51b7d\"], [0.2, \"#de77ae\"], [0.3, \"#f1b6da\"], [0.4, \"#fde0ef\"], [0.5, \"#f7f7f7\"], [0.6, \"#e6f5d0\"], [0.7, \"#b8e186\"], [0.8, \"#7fbc41\"], [0.9, \"#4d9221\"], [1, \"#276419\"]], \"sequential\": [[0.0, \"#0d0887\"], [0.1111111111111111, \"#46039f\"], [0.2222222222222222, \"#7201a8\"], [0.3333333333333333, \"#9c179e\"], [0.4444444444444444, \"#bd3786\"], [0.5555555555555556, \"#d8576b\"], [0.6666666666666666, \"#ed7953\"], [0.7777777777777778, \"#fb9f3a\"], [0.8888888888888888, \"#fdca26\"], [1.0, \"#f0f921\"]], \"sequentialminus\": [[0.0, \"#0d0887\"], [0.1111111111111111, \"#46039f\"], [0.2222222222222222, \"#7201a8\"], [0.3333333333333333, \"#9c179e\"], [0.4444444444444444, \"#bd3786\"], [0.5555555555555556, \"#d8576b\"], [0.6666666666666666, \"#ed7953\"], [0.7777777777777778, \"#fb9f3a\"], [0.8888888888888888, \"#fdca26\"], [1.0, \"#f0f921\"]]}, \"colorway\": [\"#636efa\", \"#EF553B\", \"#00cc96\", \"#ab63fa\", \"#FFA15A\", \"#19d3f3\", \"#FF6692\", \"#B6E880\", \"#FF97FF\", \"#FECB52\"], \"font\": {\"color\": \"#2a3f5f\"}, \"geo\": {\"bgcolor\": \"white\", \"lakecolor\": \"white\", \"landcolor\": \"#E5ECF6\", \"showlakes\": true, \"showland\": true, \"subunitcolor\": \"white\"}, \"hoverlabel\": {\"align\": \"left\"}, \"hovermode\": \"closest\", \"mapbox\": {\"style\": \"light\"}, \"paper_bgcolor\": \"white\", \"plot_bgcolor\": \"#E5ECF6\", \"polar\": {\"angularaxis\": {\"gridcolor\": \"white\", \"linecolor\": \"white\", \"ticks\": \"\"}, \"bgcolor\": \"#E5ECF6\", \"radialaxis\": {\"gridcolor\": \"white\", \"linecolor\": \"white\", \"ticks\": \"\"}}, \"scene\": {\"xaxis\": {\"backgroundcolor\": \"#E5ECF6\", \"gridcolor\": \"white\", \"gridwidth\": 2, \"linecolor\": \"white\", \"showbackground\": true, \"ticks\": \"\", \"zerolinecolor\": \"white\"}, \"yaxis\": {\"backgroundcolor\": \"#E5ECF6\", \"gridcolor\": \"white\", \"gridwidth\": 2, \"linecolor\": \"white\", \"showbackground\": true, \"ticks\": \"\", \"zerolinecolor\": \"white\"}, \"zaxis\": {\"backgroundcolor\": \"#E5ECF6\", \"gridcolor\": \"white\", \"gridwidth\": 2, \"linecolor\": \"white\", \"showbackground\": true, \"ticks\": \"\", \"zerolinecolor\": \"white\"}}, \"shapedefaults\": {\"line\": {\"color\": \"#2a3f5f\"}}, \"ternary\": {\"aaxis\": {\"gridcolor\": \"white\", \"linecolor\": \"white\", \"ticks\": \"\"}, \"baxis\": {\"gridcolor\": \"white\", \"linecolor\": \"white\", \"ticks\": \"\"}, \"bgcolor\": \"#E5ECF6\", \"caxis\": {\"gridcolor\": \"white\", \"linecolor\": \"white\", \"ticks\": \"\"}}, \"title\": {\"x\": 0.05}, \"xaxis\": {\"automargin\": true, \"gridcolor\": \"white\", \"linecolor\": \"white\", \"ticks\": \"\", \"title\": {\"standoff\": 15}, \"zerolinecolor\": \"white\", \"zerolinewidth\": 2}, \"yaxis\": {\"automargin\": true, \"gridcolor\": \"white\", \"linecolor\": \"white\", \"ticks\": \"\", \"title\": {\"standoff\": 15}, \"zerolinecolor\": \"white\", \"zerolinewidth\": 2}}}, \"title\": {\"text\": \"IMDB Vs Local Ratings Top 100 |Movie |sorted IMDb\"}, \"xaxis\": {\"tickangle\": -45, \"title\": {\"text\": \"Movies\"}}, \"yaxis\": {\"title\": {\"text\": \"Ratings\"}}},\n",
       "                        {\"responsive\": true}\n",
       "                    ).then(function(){\n",
       "                            \n",
       "var gd = document.getElementById('8cb5e345-1773-4e98-94a5-77e2570fa6b5');\n",
       "var x = new MutationObserver(function (mutations, observer) {{\n",
       "        var display = window.getComputedStyle(gd).display;\n",
       "        if (!display || display === 'none') {{\n",
       "            console.log([gd, 'removed!']);\n",
       "            Plotly.purge(gd);\n",
       "            observer.disconnect();\n",
       "        }}\n",
       "}});\n",
       "\n",
       "// Listen for the removal of the full notebook cells\n",
       "var notebookContainer = gd.closest('#notebook-container');\n",
       "if (notebookContainer) {{\n",
       "    x.observe(notebookContainer, {childList: true});\n",
       "}}\n",
       "\n",
       "// Listen for the clearing of the current output cell\n",
       "var outputEl = gd.closest('.output');\n",
       "if (outputEl) {{\n",
       "    x.observe(outputEl, {childList: true});\n",
       "}}\n",
       "\n",
       "                        })\n",
       "                };\n",
       "                });\n",
       "            </script>\n",
       "        </div>"
      ]
     },
     "metadata": {},
     "output_type": "display_data"
    }
   ],
   "source": [
    "fig = go.Figure()\n",
    "fig.add_trace(go.Bar(x=movie_names_imdb[:100], y= imdb_ratings_imdb[:100], name=\"IMDB Ratings Top 100|Movie\"))\n",
    "fig.add_trace(go.Bar(x=movie_names_imdb[:100], y= local_ratings_imdb[:100], name=\"Local Ratings Top 100|Movie\"))\n",
    "fig.update_xaxes(tickangle=-45)\n",
    "fig.update_layout(xaxis_title =\"Movies\", yaxis_title=\"Ratings\", title=\"IMDB Vs Local Ratings Top 100 |Movie |sorted IMDb\", height=700,)"
   ]
  },
  {
   "cell_type": "markdown",
   "metadata": {},
   "source": [
    "While sorted with IMDB ratings, it seems local ratings are usually lesser."
   ]
  },
  {
   "cell_type": "code",
   "execution_count": 27,
   "metadata": {
    "ExecuteTime": {
     "end_time": "2020-07-15T04:11:59.401564Z",
     "start_time": "2020-07-15T04:11:59.356565Z"
    },
    "scrolled": false
   },
   "outputs": [
    {
     "data": {
      "application/vnd.plotly.v1+json": {
       "config": {
        "plotlyServerURL": "https://plot.ly"
       },
       "data": [
        {
         "name": "IMDB Ratings Bottom 100|Movie",
         "type": "bar",
         "x": [
          "Meet the Blacks",
          "Nobody's Fool",
          "Taxi 5",
          "Russian Lolita",
          "Journey to China: The Mystery of Iron Mask",
          "The Outfield",
          "Eerie",
          "The Boy Next Door",
          "The Poison Rose",
          "IO",
          "The Twilight Saga: New Moon",
          "Best in Sex: 2019 AVN Awards",
          "Tyler Perry's Boo! A Madea Halloween",
          "Diet Of Sex",
          "A Score to Settle",
          "Fifty Shades Darker",
          "Revenge Porn",
          "Charlie's Angels",
          "Fifty Shades Freed",
          "Sex Doll",
          "Laid in America",
          "The Paynes",
          "Rings",
          "Brahms: The Boy II",
          "211",
          "Like a Boss",
          "Escape Plan: The Extractors",
          "Sextuplets",
          "A Madea Family Funeral",
          "Fantastic Four",
          "Secret Obsession",
          "Beyond the Law",
          "Half Girlfriend",
          "3D Sex And Zen Extreme Ecstasy",
          "The Grudge",
          "Reprisal",
          "A Wrinkle in Time",
          "Wrong Turn 6: Last Resort",
          "F*&% the Prom",
          "Dr. Phil",
          "Fifty Shades Of Grey",
          "Mean Girls 2",
          "Norbit",
          "Cosmic Sex",
          "Jeepers Creepers III",
          "Pandora",
          "Desire",
          "Holmes & Watson",
          "Troy: Fall of a City",
          "Cops and Robbers",
          "The Turning",
          "Sex Files: Pleasure World",
          "Escape Plan 2: Hades",
          "Silencer",
          "Drunk Parents",
          "Artemis Fowl",
          "Boo 2! A Madea Halloween",
          "Escape from Pleasure Planet",
          "Doom: Annihilation",
          "Kim Possible",
          "Picture of Beauty",
          "Dragon Kingdom",
          "10 Minutes Gone",
          "365 Days",
          "High Heel Homicide",
          "Batwoman",
          "The Room",
          "Life of Kylie",
          "Fifty Shades Of Black",
          "Jacob's Ladder",
          "Day of the Dead: Bloodline",
          "Sex Weather",
          "The Emoji Movie",
          "Deep Blue Sea 2",
          "Invasion Planet Earth",
          "Black Christmas",
          "I Got the Hook Up 2",
          "Slender Man",
          "One Night Stand",
          "Sleeping Beauties",
          "How High 2",
          "Kill Mode",
          "Cats",
          "Kiss and Kill",
          "Girl/Girl Scene",
          "Tomb Invader",
          "I Spit on Your Grave: Deja Vu",
          "Adventures of Aladdin",
          "Two Sisters 2",
          "Lucy",
          "Hot Sex Talk",
          "Strange Hair Salon",
          "A Tasty Trap",
          "Young Mother 3",
          "Delicious Delivery",
          "Rush Hour 1",
          "The Trap",
          "A Delicious Flight",
          "My Uncle's Wife",
          "Boarding House 2"
         ],
         "y": [
          0.5106382978723404,
          0.5106382978723404,
          0.5,
          0.5,
          0.5,
          0.5,
          0.5,
          0.5,
          0.5,
          0.5,
          0.5,
          0.48936170212765956,
          0.48936170212765956,
          0.48936170212765956,
          0.48936170212765956,
          0.48936170212765956,
          0.48936170212765956,
          0.48936170212765956,
          0.4787234042553192,
          0.4787234042553192,
          0.4787234042553192,
          0.4787234042553192,
          0.4787234042553192,
          0.4787234042553192,
          0.4680851063829788,
          0.4680851063829788,
          0.4680851063829788,
          0.4680851063829788,
          0.4680851063829788,
          0.4574468085106383,
          0.4574468085106383,
          0.4574468085106383,
          0.4574468085106383,
          0.4574468085106383,
          0.4468085106382979,
          0.4468085106382979,
          0.4468085106382979,
          0.4468085106382979,
          0.4468085106382979,
          0.4361702127659574,
          0.4361702127659574,
          0.4361702127659574,
          0.425531914893617,
          0.425531914893617,
          0.4148936170212766,
          0.4148936170212766,
          0.4148936170212766,
          0.40425531914893614,
          0.40425531914893614,
          0.40425531914893614,
          0.40425531914893614,
          0.40425531914893614,
          0.40425531914893614,
          0.40425531914893614,
          0.40425531914893614,
          0.40425531914893614,
          0.40425531914893614,
          0.39361702127659576,
          0.3829787234042553,
          0.3829787234042553,
          0.3829787234042553,
          0.3829787234042553,
          0.3829787234042553,
          0.3829787234042553,
          0.3723404255319149,
          0.3723404255319149,
          0.3723404255319149,
          0.3723404255319149,
          0.3723404255319149,
          0.36170212765957444,
          0.36170212765957444,
          0.35106382978723405,
          0.35106382978723405,
          0.35106382978723405,
          0.35106382978723405,
          0.34042553191489366,
          0.34042553191489366,
          0.34042553191489366,
          0.3297872340425532,
          0.3297872340425532,
          0.30851063829787234,
          0.30851063829787234,
          0.2872340425531915,
          0.2765957446808511,
          0.26595744680851063,
          0.26595744680851063,
          0.24468085106382978,
          0.18085106382978722,
          0,
          0,
          0,
          0,
          0,
          0,
          0,
          0,
          0,
          0,
          0,
          0
         ]
        },
        {
         "name": "Local Ratings Bottom 100|Movie",
         "type": "bar",
         "x": [
          "Meet the Blacks",
          "Nobody's Fool",
          "Taxi 5",
          "Russian Lolita",
          "Journey to China: The Mystery of Iron Mask",
          "The Outfield",
          "Eerie",
          "The Boy Next Door",
          "The Poison Rose",
          "IO",
          "The Twilight Saga: New Moon",
          "Best in Sex: 2019 AVN Awards",
          "Tyler Perry's Boo! A Madea Halloween",
          "Diet Of Sex",
          "A Score to Settle",
          "Fifty Shades Darker",
          "Revenge Porn",
          "Charlie's Angels",
          "Fifty Shades Freed",
          "Sex Doll",
          "Laid in America",
          "The Paynes",
          "Rings",
          "Brahms: The Boy II",
          "211",
          "Like a Boss",
          "Escape Plan: The Extractors",
          "Sextuplets",
          "A Madea Family Funeral",
          "Fantastic Four",
          "Secret Obsession",
          "Beyond the Law",
          "Half Girlfriend",
          "3D Sex And Zen Extreme Ecstasy",
          "The Grudge",
          "Reprisal",
          "A Wrinkle in Time",
          "Wrong Turn 6: Last Resort",
          "F*&% the Prom",
          "Dr. Phil",
          "Fifty Shades Of Grey",
          "Mean Girls 2",
          "Norbit",
          "Cosmic Sex",
          "Jeepers Creepers III",
          "Pandora",
          "Desire",
          "Holmes & Watson",
          "Troy: Fall of a City",
          "Cops and Robbers",
          "The Turning",
          "Sex Files: Pleasure World",
          "Escape Plan 2: Hades",
          "Silencer",
          "Drunk Parents",
          "Artemis Fowl",
          "Boo 2! A Madea Halloween",
          "Escape from Pleasure Planet",
          "Doom: Annihilation",
          "Kim Possible",
          "Picture of Beauty",
          "Dragon Kingdom",
          "10 Minutes Gone",
          "365 Days",
          "High Heel Homicide",
          "Batwoman",
          "The Room",
          "Life of Kylie",
          "Fifty Shades Of Black",
          "Jacob's Ladder",
          "Day of the Dead: Bloodline",
          "Sex Weather",
          "The Emoji Movie",
          "Deep Blue Sea 2",
          "Invasion Planet Earth",
          "Black Christmas",
          "I Got the Hook Up 2",
          "Slender Man",
          "One Night Stand",
          "Sleeping Beauties",
          "How High 2",
          "Kill Mode",
          "Cats",
          "Kiss and Kill",
          "Girl/Girl Scene",
          "Tomb Invader",
          "I Spit on Your Grave: Deja Vu",
          "Adventures of Aladdin",
          "Two Sisters 2",
          "Lucy",
          "Hot Sex Talk",
          "Strange Hair Salon",
          "A Tasty Trap",
          "Young Mother 3",
          "Delicious Delivery",
          "Rush Hour 1",
          "The Trap",
          "A Delicious Flight",
          "My Uncle's Wife",
          "Boarding House 2"
         ],
         "y": [
          0.4736842105263157,
          0.5,
          0.10526315789473695,
          0.5789473684210524,
          0.6578947368421051,
          0.8421052631578945,
          0.5789473684210524,
          0.4736842105263157,
          0.2894736842105261,
          0,
          0.5789473684210524,
          0.4736842105263157,
          0.5789473684210524,
          0.4473684210526314,
          0.3157894736842104,
          0.4736842105263157,
          0.4473684210526314,
          0.39473684210526305,
          0.26315789473684204,
          0.4210526315789471,
          0.6842105263157892,
          0.39473684210526305,
          0.5,
          0.3157894736842104,
          0.23684210526315796,
          0.3421052631578947,
          0.368421052631579,
          0.4473684210526314,
          0.4736842105263157,
          0.5,
          0.5,
          0.39473684210526305,
          0.7894736842105261,
          0.4736842105263157,
          0.26315789473684204,
          0.368421052631579,
          0.3157894736842104,
          0.5789473684210524,
          0.23684210526315796,
          0.4210526315789471,
          0.368421052631579,
          0.4473684210526314,
          0.631578947368421,
          0.4736842105263157,
          0.39473684210526305,
          0.39473684210526305,
          0.26315789473684204,
          0.368421052631579,
          0.368421052631579,
          0.4473684210526314,
          0.21052631578947367,
          0.2894736842105261,
          0.13157894736842102,
          0.26315789473684204,
          0.3421052631578947,
          0.5,
          0.6052631578947367,
          0.3421052631578947,
          0.10526315789473695,
          0.5526315789473681,
          0.2894736842105261,
          0.2894736842105261,
          0.2894736842105261,
          0.5,
          0.2894736842105261,
          0.4473684210526314,
          0.763157894736842,
          0.39473684210526305,
          0.39473684210526305,
          0.4210526315789471,
          0.21052631578947367,
          0.4210526315789471,
          0.6052631578947367,
          0.21052631578947367,
          0.18421052631578938,
          0.2894736842105261,
          0.39473684210526305,
          0.4473684210526314,
          0.5263157894736841,
          0.368421052631579,
          0.4210526315789471,
          0.10526315789473695,
          0.26315789473684204,
          0.3157894736842104,
          0.368421052631579,
          0.23684210526315796,
          0.21052631578947367,
          0.368421052631579,
          0.07894736842105265,
          0.631578947368421,
          0.368421052631579,
          0.39473684210526305,
          0.23684210526315796,
          0.5263157894736841,
          0.2894736842105261,
          0.631578947368421,
          0.6578947368421051,
          0.3157894736842104,
          0.23684210526315796,
          0.3421052631578947
         ]
        }
       ],
       "layout": {
        "height": 700,
        "template": {
         "data": {
          "bar": [
           {
            "error_x": {
             "color": "#2a3f5f"
            },
            "error_y": {
             "color": "#2a3f5f"
            },
            "marker": {
             "line": {
              "color": "#E5ECF6",
              "width": 0.5
             }
            },
            "type": "bar"
           }
          ],
          "barpolar": [
           {
            "marker": {
             "line": {
              "color": "#E5ECF6",
              "width": 0.5
             }
            },
            "type": "barpolar"
           }
          ],
          "carpet": [
           {
            "aaxis": {
             "endlinecolor": "#2a3f5f",
             "gridcolor": "white",
             "linecolor": "white",
             "minorgridcolor": "white",
             "startlinecolor": "#2a3f5f"
            },
            "baxis": {
             "endlinecolor": "#2a3f5f",
             "gridcolor": "white",
             "linecolor": "white",
             "minorgridcolor": "white",
             "startlinecolor": "#2a3f5f"
            },
            "type": "carpet"
           }
          ],
          "choropleth": [
           {
            "colorbar": {
             "outlinewidth": 0,
             "ticks": ""
            },
            "type": "choropleth"
           }
          ],
          "contour": [
           {
            "colorbar": {
             "outlinewidth": 0,
             "ticks": ""
            },
            "colorscale": [
             [
              0,
              "#0d0887"
             ],
             [
              0.1111111111111111,
              "#46039f"
             ],
             [
              0.2222222222222222,
              "#7201a8"
             ],
             [
              0.3333333333333333,
              "#9c179e"
             ],
             [
              0.4444444444444444,
              "#bd3786"
             ],
             [
              0.5555555555555556,
              "#d8576b"
             ],
             [
              0.6666666666666666,
              "#ed7953"
             ],
             [
              0.7777777777777778,
              "#fb9f3a"
             ],
             [
              0.8888888888888888,
              "#fdca26"
             ],
             [
              1,
              "#f0f921"
             ]
            ],
            "type": "contour"
           }
          ],
          "contourcarpet": [
           {
            "colorbar": {
             "outlinewidth": 0,
             "ticks": ""
            },
            "type": "contourcarpet"
           }
          ],
          "heatmap": [
           {
            "colorbar": {
             "outlinewidth": 0,
             "ticks": ""
            },
            "colorscale": [
             [
              0,
              "#0d0887"
             ],
             [
              0.1111111111111111,
              "#46039f"
             ],
             [
              0.2222222222222222,
              "#7201a8"
             ],
             [
              0.3333333333333333,
              "#9c179e"
             ],
             [
              0.4444444444444444,
              "#bd3786"
             ],
             [
              0.5555555555555556,
              "#d8576b"
             ],
             [
              0.6666666666666666,
              "#ed7953"
             ],
             [
              0.7777777777777778,
              "#fb9f3a"
             ],
             [
              0.8888888888888888,
              "#fdca26"
             ],
             [
              1,
              "#f0f921"
             ]
            ],
            "type": "heatmap"
           }
          ],
          "heatmapgl": [
           {
            "colorbar": {
             "outlinewidth": 0,
             "ticks": ""
            },
            "colorscale": [
             [
              0,
              "#0d0887"
             ],
             [
              0.1111111111111111,
              "#46039f"
             ],
             [
              0.2222222222222222,
              "#7201a8"
             ],
             [
              0.3333333333333333,
              "#9c179e"
             ],
             [
              0.4444444444444444,
              "#bd3786"
             ],
             [
              0.5555555555555556,
              "#d8576b"
             ],
             [
              0.6666666666666666,
              "#ed7953"
             ],
             [
              0.7777777777777778,
              "#fb9f3a"
             ],
             [
              0.8888888888888888,
              "#fdca26"
             ],
             [
              1,
              "#f0f921"
             ]
            ],
            "type": "heatmapgl"
           }
          ],
          "histogram": [
           {
            "marker": {
             "colorbar": {
              "outlinewidth": 0,
              "ticks": ""
             }
            },
            "type": "histogram"
           }
          ],
          "histogram2d": [
           {
            "colorbar": {
             "outlinewidth": 0,
             "ticks": ""
            },
            "colorscale": [
             [
              0,
              "#0d0887"
             ],
             [
              0.1111111111111111,
              "#46039f"
             ],
             [
              0.2222222222222222,
              "#7201a8"
             ],
             [
              0.3333333333333333,
              "#9c179e"
             ],
             [
              0.4444444444444444,
              "#bd3786"
             ],
             [
              0.5555555555555556,
              "#d8576b"
             ],
             [
              0.6666666666666666,
              "#ed7953"
             ],
             [
              0.7777777777777778,
              "#fb9f3a"
             ],
             [
              0.8888888888888888,
              "#fdca26"
             ],
             [
              1,
              "#f0f921"
             ]
            ],
            "type": "histogram2d"
           }
          ],
          "histogram2dcontour": [
           {
            "colorbar": {
             "outlinewidth": 0,
             "ticks": ""
            },
            "colorscale": [
             [
              0,
              "#0d0887"
             ],
             [
              0.1111111111111111,
              "#46039f"
             ],
             [
              0.2222222222222222,
              "#7201a8"
             ],
             [
              0.3333333333333333,
              "#9c179e"
             ],
             [
              0.4444444444444444,
              "#bd3786"
             ],
             [
              0.5555555555555556,
              "#d8576b"
             ],
             [
              0.6666666666666666,
              "#ed7953"
             ],
             [
              0.7777777777777778,
              "#fb9f3a"
             ],
             [
              0.8888888888888888,
              "#fdca26"
             ],
             [
              1,
              "#f0f921"
             ]
            ],
            "type": "histogram2dcontour"
           }
          ],
          "mesh3d": [
           {
            "colorbar": {
             "outlinewidth": 0,
             "ticks": ""
            },
            "type": "mesh3d"
           }
          ],
          "parcoords": [
           {
            "line": {
             "colorbar": {
              "outlinewidth": 0,
              "ticks": ""
             }
            },
            "type": "parcoords"
           }
          ],
          "pie": [
           {
            "automargin": true,
            "type": "pie"
           }
          ],
          "scatter": [
           {
            "marker": {
             "colorbar": {
              "outlinewidth": 0,
              "ticks": ""
             }
            },
            "type": "scatter"
           }
          ],
          "scatter3d": [
           {
            "line": {
             "colorbar": {
              "outlinewidth": 0,
              "ticks": ""
             }
            },
            "marker": {
             "colorbar": {
              "outlinewidth": 0,
              "ticks": ""
             }
            },
            "type": "scatter3d"
           }
          ],
          "scattercarpet": [
           {
            "marker": {
             "colorbar": {
              "outlinewidth": 0,
              "ticks": ""
             }
            },
            "type": "scattercarpet"
           }
          ],
          "scattergeo": [
           {
            "marker": {
             "colorbar": {
              "outlinewidth": 0,
              "ticks": ""
             }
            },
            "type": "scattergeo"
           }
          ],
          "scattergl": [
           {
            "marker": {
             "colorbar": {
              "outlinewidth": 0,
              "ticks": ""
             }
            },
            "type": "scattergl"
           }
          ],
          "scattermapbox": [
           {
            "marker": {
             "colorbar": {
              "outlinewidth": 0,
              "ticks": ""
             }
            },
            "type": "scattermapbox"
           }
          ],
          "scatterpolar": [
           {
            "marker": {
             "colorbar": {
              "outlinewidth": 0,
              "ticks": ""
             }
            },
            "type": "scatterpolar"
           }
          ],
          "scatterpolargl": [
           {
            "marker": {
             "colorbar": {
              "outlinewidth": 0,
              "ticks": ""
             }
            },
            "type": "scatterpolargl"
           }
          ],
          "scatterternary": [
           {
            "marker": {
             "colorbar": {
              "outlinewidth": 0,
              "ticks": ""
             }
            },
            "type": "scatterternary"
           }
          ],
          "surface": [
           {
            "colorbar": {
             "outlinewidth": 0,
             "ticks": ""
            },
            "colorscale": [
             [
              0,
              "#0d0887"
             ],
             [
              0.1111111111111111,
              "#46039f"
             ],
             [
              0.2222222222222222,
              "#7201a8"
             ],
             [
              0.3333333333333333,
              "#9c179e"
             ],
             [
              0.4444444444444444,
              "#bd3786"
             ],
             [
              0.5555555555555556,
              "#d8576b"
             ],
             [
              0.6666666666666666,
              "#ed7953"
             ],
             [
              0.7777777777777778,
              "#fb9f3a"
             ],
             [
              0.8888888888888888,
              "#fdca26"
             ],
             [
              1,
              "#f0f921"
             ]
            ],
            "type": "surface"
           }
          ],
          "table": [
           {
            "cells": {
             "fill": {
              "color": "#EBF0F8"
             },
             "line": {
              "color": "white"
             }
            },
            "header": {
             "fill": {
              "color": "#C8D4E3"
             },
             "line": {
              "color": "white"
             }
            },
            "type": "table"
           }
          ]
         },
         "layout": {
          "annotationdefaults": {
           "arrowcolor": "#2a3f5f",
           "arrowhead": 0,
           "arrowwidth": 1
          },
          "coloraxis": {
           "colorbar": {
            "outlinewidth": 0,
            "ticks": ""
           }
          },
          "colorscale": {
           "diverging": [
            [
             0,
             "#8e0152"
            ],
            [
             0.1,
             "#c51b7d"
            ],
            [
             0.2,
             "#de77ae"
            ],
            [
             0.3,
             "#f1b6da"
            ],
            [
             0.4,
             "#fde0ef"
            ],
            [
             0.5,
             "#f7f7f7"
            ],
            [
             0.6,
             "#e6f5d0"
            ],
            [
             0.7,
             "#b8e186"
            ],
            [
             0.8,
             "#7fbc41"
            ],
            [
             0.9,
             "#4d9221"
            ],
            [
             1,
             "#276419"
            ]
           ],
           "sequential": [
            [
             0,
             "#0d0887"
            ],
            [
             0.1111111111111111,
             "#46039f"
            ],
            [
             0.2222222222222222,
             "#7201a8"
            ],
            [
             0.3333333333333333,
             "#9c179e"
            ],
            [
             0.4444444444444444,
             "#bd3786"
            ],
            [
             0.5555555555555556,
             "#d8576b"
            ],
            [
             0.6666666666666666,
             "#ed7953"
            ],
            [
             0.7777777777777778,
             "#fb9f3a"
            ],
            [
             0.8888888888888888,
             "#fdca26"
            ],
            [
             1,
             "#f0f921"
            ]
           ],
           "sequentialminus": [
            [
             0,
             "#0d0887"
            ],
            [
             0.1111111111111111,
             "#46039f"
            ],
            [
             0.2222222222222222,
             "#7201a8"
            ],
            [
             0.3333333333333333,
             "#9c179e"
            ],
            [
             0.4444444444444444,
             "#bd3786"
            ],
            [
             0.5555555555555556,
             "#d8576b"
            ],
            [
             0.6666666666666666,
             "#ed7953"
            ],
            [
             0.7777777777777778,
             "#fb9f3a"
            ],
            [
             0.8888888888888888,
             "#fdca26"
            ],
            [
             1,
             "#f0f921"
            ]
           ]
          },
          "colorway": [
           "#636efa",
           "#EF553B",
           "#00cc96",
           "#ab63fa",
           "#FFA15A",
           "#19d3f3",
           "#FF6692",
           "#B6E880",
           "#FF97FF",
           "#FECB52"
          ],
          "font": {
           "color": "#2a3f5f"
          },
          "geo": {
           "bgcolor": "white",
           "lakecolor": "white",
           "landcolor": "#E5ECF6",
           "showlakes": true,
           "showland": true,
           "subunitcolor": "white"
          },
          "hoverlabel": {
           "align": "left"
          },
          "hovermode": "closest",
          "mapbox": {
           "style": "light"
          },
          "paper_bgcolor": "white",
          "plot_bgcolor": "#E5ECF6",
          "polar": {
           "angularaxis": {
            "gridcolor": "white",
            "linecolor": "white",
            "ticks": ""
           },
           "bgcolor": "#E5ECF6",
           "radialaxis": {
            "gridcolor": "white",
            "linecolor": "white",
            "ticks": ""
           }
          },
          "scene": {
           "xaxis": {
            "backgroundcolor": "#E5ECF6",
            "gridcolor": "white",
            "gridwidth": 2,
            "linecolor": "white",
            "showbackground": true,
            "ticks": "",
            "zerolinecolor": "white"
           },
           "yaxis": {
            "backgroundcolor": "#E5ECF6",
            "gridcolor": "white",
            "gridwidth": 2,
            "linecolor": "white",
            "showbackground": true,
            "ticks": "",
            "zerolinecolor": "white"
           },
           "zaxis": {
            "backgroundcolor": "#E5ECF6",
            "gridcolor": "white",
            "gridwidth": 2,
            "linecolor": "white",
            "showbackground": true,
            "ticks": "",
            "zerolinecolor": "white"
           }
          },
          "shapedefaults": {
           "line": {
            "color": "#2a3f5f"
           }
          },
          "ternary": {
           "aaxis": {
            "gridcolor": "white",
            "linecolor": "white",
            "ticks": ""
           },
           "baxis": {
            "gridcolor": "white",
            "linecolor": "white",
            "ticks": ""
           },
           "bgcolor": "#E5ECF6",
           "caxis": {
            "gridcolor": "white",
            "linecolor": "white",
            "ticks": ""
           }
          },
          "title": {
           "x": 0.05
          },
          "xaxis": {
           "automargin": true,
           "gridcolor": "white",
           "linecolor": "white",
           "ticks": "",
           "title": {
            "standoff": 15
           },
           "zerolinecolor": "white",
           "zerolinewidth": 2
          },
          "yaxis": {
           "automargin": true,
           "gridcolor": "white",
           "linecolor": "white",
           "ticks": "",
           "title": {
            "standoff": 15
           },
           "zerolinecolor": "white",
           "zerolinewidth": 2
          }
         }
        },
        "title": {
         "text": "IMDB Vs Local Ratings Bottom 100|Movie |soted IMDB"
        },
        "xaxis": {
         "tickangle": -45,
         "title": {
          "text": "Movies"
         }
        },
        "yaxis": {
         "title": {
          "text": "Ratings"
         }
        }
       }
      },
      "text/html": [
       "<div>\n",
       "        \n",
       "        \n",
       "            <div id=\"02f1fb71-368f-4dd5-ae58-441aad91842d\" class=\"plotly-graph-div\" style=\"height:700px; width:100%;\"></div>\n",
       "            <script type=\"text/javascript\">\n",
       "                require([\"plotly\"], function(Plotly) {\n",
       "                    window.PLOTLYENV=window.PLOTLYENV || {};\n",
       "                    \n",
       "                if (document.getElementById(\"02f1fb71-368f-4dd5-ae58-441aad91842d\")) {\n",
       "                    Plotly.newPlot(\n",
       "                        '02f1fb71-368f-4dd5-ae58-441aad91842d',\n",
       "                        [{\"name\": \"IMDB Ratings Bottom 100|Movie\", \"type\": \"bar\", \"x\": [\"Meet the Blacks\", \"Nobody's Fool\", \"Taxi 5\", \"Russian Lolita\", \"Journey to China: The Mystery of Iron Mask\", \"The Outfield\", \"Eerie\", \"The Boy Next Door\", \"The Poison Rose\", \"IO\", \"The Twilight Saga: New Moon\", \"Best in Sex: 2019 AVN Awards\", \"Tyler Perry's Boo! A Madea Halloween\", \"Diet Of Sex\", \"A Score to Settle\", \"Fifty Shades Darker\", \"Revenge Porn\", \"Charlie's Angels\", \"Fifty Shades Freed\", \"Sex Doll\", \"Laid in America\", \"The Paynes\", \"Rings\", \"Brahms: The Boy II\", \"211\", \"Like a Boss\", \"Escape Plan: The Extractors\", \"Sextuplets\", \"A Madea Family Funeral\", \"Fantastic Four\", \"Secret Obsession\", \"Beyond the Law\", \"Half Girlfriend\", \"3D Sex And Zen Extreme Ecstasy\", \"The Grudge\", \"Reprisal\", \"A Wrinkle in Time\", \"Wrong Turn 6: Last Resort\", \"F*&% the Prom\", \"Dr. Phil\", \"Fifty Shades Of Grey\", \"Mean Girls 2\", \"Norbit\", \"Cosmic Sex\", \"Jeepers Creepers III\", \"Pandora\", \"Desire\", \"Holmes & Watson\", \"Troy: Fall of a City\", \"Cops and Robbers\", \"The Turning\", \"Sex Files: Pleasure World\", \"Escape Plan 2: Hades\", \"Silencer\", \"Drunk Parents\", \"Artemis Fowl\", \"Boo 2! A Madea Halloween\", \"Escape from Pleasure Planet\", \"Doom: Annihilation\", \"Kim Possible\", \"Picture of Beauty\", \"Dragon Kingdom\", \"10 Minutes Gone\", \"365 Days\", \"High Heel Homicide\", \"Batwoman\", \"The Room\", \"Life of Kylie\", \"Fifty Shades Of Black\", \"Jacob's Ladder\", \"Day of the Dead: Bloodline\", \"Sex Weather\", \"The Emoji Movie\", \"Deep Blue Sea 2\", \"Invasion Planet Earth\", \"Black Christmas\", \"I Got the Hook Up 2\", \"Slender Man\", \"One Night Stand\", \"Sleeping Beauties\", \"How High 2\", \"Kill Mode\", \"Cats\", \"Kiss and Kill\", \"Girl/Girl Scene\", \"Tomb Invader\", \"I Spit on Your Grave: Deja Vu\", \"Adventures of Aladdin\", \"Two Sisters 2\", \"Lucy\", \"Hot Sex Talk\", \"Strange Hair Salon\", \"A Tasty Trap\", \"Young Mother 3\", \"Delicious Delivery\", \"Rush Hour 1\", \"The Trap\", \"A Delicious Flight\", \"My Uncle's Wife\", \"Boarding House 2\"], \"y\": [0.5106382978723404, 0.5106382978723404, 0.5, 0.5, 0.5, 0.5, 0.5, 0.5, 0.5, 0.5, 0.5, 0.48936170212765956, 0.48936170212765956, 0.48936170212765956, 0.48936170212765956, 0.48936170212765956, 0.48936170212765956, 0.48936170212765956, 0.4787234042553192, 0.4787234042553192, 0.4787234042553192, 0.4787234042553192, 0.4787234042553192, 0.4787234042553192, 0.4680851063829788, 0.4680851063829788, 0.4680851063829788, 0.4680851063829788, 0.4680851063829788, 0.4574468085106383, 0.4574468085106383, 0.4574468085106383, 0.4574468085106383, 0.4574468085106383, 0.4468085106382979, 0.4468085106382979, 0.4468085106382979, 0.4468085106382979, 0.4468085106382979, 0.4361702127659574, 0.4361702127659574, 0.4361702127659574, 0.425531914893617, 0.425531914893617, 0.4148936170212766, 0.4148936170212766, 0.4148936170212766, 0.40425531914893614, 0.40425531914893614, 0.40425531914893614, 0.40425531914893614, 0.40425531914893614, 0.40425531914893614, 0.40425531914893614, 0.40425531914893614, 0.40425531914893614, 0.40425531914893614, 0.39361702127659576, 0.3829787234042553, 0.3829787234042553, 0.3829787234042553, 0.3829787234042553, 0.3829787234042553, 0.3829787234042553, 0.3723404255319149, 0.3723404255319149, 0.3723404255319149, 0.3723404255319149, 0.3723404255319149, 0.36170212765957444, 0.36170212765957444, 0.35106382978723405, 0.35106382978723405, 0.35106382978723405, 0.35106382978723405, 0.34042553191489366, 0.34042553191489366, 0.34042553191489366, 0.3297872340425532, 0.3297872340425532, 0.30851063829787234, 0.30851063829787234, 0.2872340425531915, 0.2765957446808511, 0.26595744680851063, 0.26595744680851063, 0.24468085106382978, 0.18085106382978722, 0.0, 0.0, 0.0, 0.0, 0.0, 0.0, 0.0, 0.0, 0.0, 0.0, 0.0, 0.0]}, {\"name\": \"Local Ratings Bottom 100|Movie\", \"type\": \"bar\", \"x\": [\"Meet the Blacks\", \"Nobody's Fool\", \"Taxi 5\", \"Russian Lolita\", \"Journey to China: The Mystery of Iron Mask\", \"The Outfield\", \"Eerie\", \"The Boy Next Door\", \"The Poison Rose\", \"IO\", \"The Twilight Saga: New Moon\", \"Best in Sex: 2019 AVN Awards\", \"Tyler Perry's Boo! A Madea Halloween\", \"Diet Of Sex\", \"A Score to Settle\", \"Fifty Shades Darker\", \"Revenge Porn\", \"Charlie's Angels\", \"Fifty Shades Freed\", \"Sex Doll\", \"Laid in America\", \"The Paynes\", \"Rings\", \"Brahms: The Boy II\", \"211\", \"Like a Boss\", \"Escape Plan: The Extractors\", \"Sextuplets\", \"A Madea Family Funeral\", \"Fantastic Four\", \"Secret Obsession\", \"Beyond the Law\", \"Half Girlfriend\", \"3D Sex And Zen Extreme Ecstasy\", \"The Grudge\", \"Reprisal\", \"A Wrinkle in Time\", \"Wrong Turn 6: Last Resort\", \"F*&% the Prom\", \"Dr. Phil\", \"Fifty Shades Of Grey\", \"Mean Girls 2\", \"Norbit\", \"Cosmic Sex\", \"Jeepers Creepers III\", \"Pandora\", \"Desire\", \"Holmes & Watson\", \"Troy: Fall of a City\", \"Cops and Robbers\", \"The Turning\", \"Sex Files: Pleasure World\", \"Escape Plan 2: Hades\", \"Silencer\", \"Drunk Parents\", \"Artemis Fowl\", \"Boo 2! A Madea Halloween\", \"Escape from Pleasure Planet\", \"Doom: Annihilation\", \"Kim Possible\", \"Picture of Beauty\", \"Dragon Kingdom\", \"10 Minutes Gone\", \"365 Days\", \"High Heel Homicide\", \"Batwoman\", \"The Room\", \"Life of Kylie\", \"Fifty Shades Of Black\", \"Jacob's Ladder\", \"Day of the Dead: Bloodline\", \"Sex Weather\", \"The Emoji Movie\", \"Deep Blue Sea 2\", \"Invasion Planet Earth\", \"Black Christmas\", \"I Got the Hook Up 2\", \"Slender Man\", \"One Night Stand\", \"Sleeping Beauties\", \"How High 2\", \"Kill Mode\", \"Cats\", \"Kiss and Kill\", \"Girl/Girl Scene\", \"Tomb Invader\", \"I Spit on Your Grave: Deja Vu\", \"Adventures of Aladdin\", \"Two Sisters 2\", \"Lucy\", \"Hot Sex Talk\", \"Strange Hair Salon\", \"A Tasty Trap\", \"Young Mother 3\", \"Delicious Delivery\", \"Rush Hour 1\", \"The Trap\", \"A Delicious Flight\", \"My Uncle's Wife\", \"Boarding House 2\"], \"y\": [0.4736842105263157, 0.5, 0.10526315789473695, 0.5789473684210524, 0.6578947368421051, 0.8421052631578945, 0.5789473684210524, 0.4736842105263157, 0.2894736842105261, 0.0, 0.5789473684210524, 0.4736842105263157, 0.5789473684210524, 0.4473684210526314, 0.3157894736842104, 0.4736842105263157, 0.4473684210526314, 0.39473684210526305, 0.26315789473684204, 0.4210526315789471, 0.6842105263157892, 0.39473684210526305, 0.5, 0.3157894736842104, 0.23684210526315796, 0.3421052631578947, 0.368421052631579, 0.4473684210526314, 0.4736842105263157, 0.5, 0.5, 0.39473684210526305, 0.7894736842105261, 0.4736842105263157, 0.26315789473684204, 0.368421052631579, 0.3157894736842104, 0.5789473684210524, 0.23684210526315796, 0.4210526315789471, 0.368421052631579, 0.4473684210526314, 0.631578947368421, 0.4736842105263157, 0.39473684210526305, 0.39473684210526305, 0.26315789473684204, 0.368421052631579, 0.368421052631579, 0.4473684210526314, 0.21052631578947367, 0.2894736842105261, 0.13157894736842102, 0.26315789473684204, 0.3421052631578947, 0.5, 0.6052631578947367, 0.3421052631578947, 0.10526315789473695, 0.5526315789473681, 0.2894736842105261, 0.2894736842105261, 0.2894736842105261, 0.5, 0.2894736842105261, 0.4473684210526314, 0.763157894736842, 0.39473684210526305, 0.39473684210526305, 0.4210526315789471, 0.21052631578947367, 0.4210526315789471, 0.6052631578947367, 0.21052631578947367, 0.18421052631578938, 0.2894736842105261, 0.39473684210526305, 0.4473684210526314, 0.5263157894736841, 0.368421052631579, 0.4210526315789471, 0.10526315789473695, 0.26315789473684204, 0.3157894736842104, 0.368421052631579, 0.23684210526315796, 0.21052631578947367, 0.368421052631579, 0.07894736842105265, 0.631578947368421, 0.368421052631579, 0.39473684210526305, 0.23684210526315796, 0.5263157894736841, 0.2894736842105261, 0.631578947368421, 0.6578947368421051, 0.3157894736842104, 0.23684210526315796, 0.3421052631578947]}],\n",
       "                        {\"height\": 700, \"template\": {\"data\": {\"bar\": [{\"error_x\": {\"color\": \"#2a3f5f\"}, \"error_y\": {\"color\": \"#2a3f5f\"}, \"marker\": {\"line\": {\"color\": \"#E5ECF6\", \"width\": 0.5}}, \"type\": \"bar\"}], \"barpolar\": [{\"marker\": {\"line\": {\"color\": \"#E5ECF6\", \"width\": 0.5}}, \"type\": \"barpolar\"}], \"carpet\": [{\"aaxis\": {\"endlinecolor\": \"#2a3f5f\", \"gridcolor\": \"white\", \"linecolor\": \"white\", \"minorgridcolor\": \"white\", \"startlinecolor\": \"#2a3f5f\"}, \"baxis\": {\"endlinecolor\": \"#2a3f5f\", \"gridcolor\": \"white\", \"linecolor\": \"white\", \"minorgridcolor\": \"white\", \"startlinecolor\": \"#2a3f5f\"}, \"type\": \"carpet\"}], \"choropleth\": [{\"colorbar\": {\"outlinewidth\": 0, \"ticks\": \"\"}, \"type\": \"choropleth\"}], \"contour\": [{\"colorbar\": {\"outlinewidth\": 0, \"ticks\": \"\"}, \"colorscale\": [[0.0, \"#0d0887\"], [0.1111111111111111, \"#46039f\"], [0.2222222222222222, \"#7201a8\"], [0.3333333333333333, \"#9c179e\"], [0.4444444444444444, \"#bd3786\"], [0.5555555555555556, \"#d8576b\"], [0.6666666666666666, \"#ed7953\"], [0.7777777777777778, \"#fb9f3a\"], [0.8888888888888888, \"#fdca26\"], [1.0, \"#f0f921\"]], \"type\": \"contour\"}], \"contourcarpet\": [{\"colorbar\": {\"outlinewidth\": 0, \"ticks\": \"\"}, \"type\": \"contourcarpet\"}], \"heatmap\": [{\"colorbar\": {\"outlinewidth\": 0, \"ticks\": \"\"}, \"colorscale\": [[0.0, \"#0d0887\"], [0.1111111111111111, \"#46039f\"], [0.2222222222222222, \"#7201a8\"], [0.3333333333333333, \"#9c179e\"], [0.4444444444444444, \"#bd3786\"], [0.5555555555555556, \"#d8576b\"], [0.6666666666666666, \"#ed7953\"], [0.7777777777777778, \"#fb9f3a\"], [0.8888888888888888, \"#fdca26\"], [1.0, \"#f0f921\"]], \"type\": \"heatmap\"}], \"heatmapgl\": [{\"colorbar\": {\"outlinewidth\": 0, \"ticks\": \"\"}, \"colorscale\": [[0.0, \"#0d0887\"], [0.1111111111111111, \"#46039f\"], [0.2222222222222222, \"#7201a8\"], [0.3333333333333333, \"#9c179e\"], [0.4444444444444444, \"#bd3786\"], [0.5555555555555556, \"#d8576b\"], [0.6666666666666666, \"#ed7953\"], [0.7777777777777778, \"#fb9f3a\"], [0.8888888888888888, \"#fdca26\"], [1.0, \"#f0f921\"]], \"type\": \"heatmapgl\"}], \"histogram\": [{\"marker\": {\"colorbar\": {\"outlinewidth\": 0, \"ticks\": \"\"}}, \"type\": \"histogram\"}], \"histogram2d\": [{\"colorbar\": {\"outlinewidth\": 0, \"ticks\": \"\"}, \"colorscale\": [[0.0, \"#0d0887\"], [0.1111111111111111, \"#46039f\"], [0.2222222222222222, \"#7201a8\"], [0.3333333333333333, \"#9c179e\"], [0.4444444444444444, \"#bd3786\"], [0.5555555555555556, \"#d8576b\"], [0.6666666666666666, \"#ed7953\"], [0.7777777777777778, \"#fb9f3a\"], [0.8888888888888888, \"#fdca26\"], [1.0, \"#f0f921\"]], \"type\": \"histogram2d\"}], \"histogram2dcontour\": [{\"colorbar\": {\"outlinewidth\": 0, \"ticks\": \"\"}, \"colorscale\": [[0.0, \"#0d0887\"], [0.1111111111111111, \"#46039f\"], [0.2222222222222222, \"#7201a8\"], [0.3333333333333333, \"#9c179e\"], [0.4444444444444444, \"#bd3786\"], [0.5555555555555556, \"#d8576b\"], [0.6666666666666666, \"#ed7953\"], [0.7777777777777778, \"#fb9f3a\"], [0.8888888888888888, \"#fdca26\"], [1.0, \"#f0f921\"]], \"type\": \"histogram2dcontour\"}], \"mesh3d\": [{\"colorbar\": {\"outlinewidth\": 0, \"ticks\": \"\"}, \"type\": \"mesh3d\"}], \"parcoords\": [{\"line\": {\"colorbar\": {\"outlinewidth\": 0, \"ticks\": \"\"}}, \"type\": \"parcoords\"}], \"pie\": [{\"automargin\": true, \"type\": \"pie\"}], \"scatter\": [{\"marker\": {\"colorbar\": {\"outlinewidth\": 0, \"ticks\": \"\"}}, \"type\": \"scatter\"}], \"scatter3d\": [{\"line\": {\"colorbar\": {\"outlinewidth\": 0, \"ticks\": \"\"}}, \"marker\": {\"colorbar\": {\"outlinewidth\": 0, \"ticks\": \"\"}}, \"type\": \"scatter3d\"}], \"scattercarpet\": [{\"marker\": {\"colorbar\": {\"outlinewidth\": 0, \"ticks\": \"\"}}, \"type\": \"scattercarpet\"}], \"scattergeo\": [{\"marker\": {\"colorbar\": {\"outlinewidth\": 0, \"ticks\": \"\"}}, \"type\": \"scattergeo\"}], \"scattergl\": [{\"marker\": {\"colorbar\": {\"outlinewidth\": 0, \"ticks\": \"\"}}, \"type\": \"scattergl\"}], \"scattermapbox\": [{\"marker\": {\"colorbar\": {\"outlinewidth\": 0, \"ticks\": \"\"}}, \"type\": \"scattermapbox\"}], \"scatterpolar\": [{\"marker\": {\"colorbar\": {\"outlinewidth\": 0, \"ticks\": \"\"}}, \"type\": \"scatterpolar\"}], \"scatterpolargl\": [{\"marker\": {\"colorbar\": {\"outlinewidth\": 0, \"ticks\": \"\"}}, \"type\": \"scatterpolargl\"}], \"scatterternary\": [{\"marker\": {\"colorbar\": {\"outlinewidth\": 0, \"ticks\": \"\"}}, \"type\": \"scatterternary\"}], \"surface\": [{\"colorbar\": {\"outlinewidth\": 0, \"ticks\": \"\"}, \"colorscale\": [[0.0, \"#0d0887\"], [0.1111111111111111, \"#46039f\"], [0.2222222222222222, \"#7201a8\"], [0.3333333333333333, \"#9c179e\"], [0.4444444444444444, \"#bd3786\"], [0.5555555555555556, \"#d8576b\"], [0.6666666666666666, \"#ed7953\"], [0.7777777777777778, \"#fb9f3a\"], [0.8888888888888888, \"#fdca26\"], [1.0, \"#f0f921\"]], \"type\": \"surface\"}], \"table\": [{\"cells\": {\"fill\": {\"color\": \"#EBF0F8\"}, \"line\": {\"color\": \"white\"}}, \"header\": {\"fill\": {\"color\": \"#C8D4E3\"}, \"line\": {\"color\": \"white\"}}, \"type\": \"table\"}]}, \"layout\": {\"annotationdefaults\": {\"arrowcolor\": \"#2a3f5f\", \"arrowhead\": 0, \"arrowwidth\": 1}, \"coloraxis\": {\"colorbar\": {\"outlinewidth\": 0, \"ticks\": \"\"}}, \"colorscale\": {\"diverging\": [[0, \"#8e0152\"], [0.1, \"#c51b7d\"], [0.2, \"#de77ae\"], [0.3, \"#f1b6da\"], [0.4, \"#fde0ef\"], [0.5, \"#f7f7f7\"], [0.6, \"#e6f5d0\"], [0.7, \"#b8e186\"], [0.8, \"#7fbc41\"], [0.9, \"#4d9221\"], [1, \"#276419\"]], \"sequential\": [[0.0, \"#0d0887\"], [0.1111111111111111, \"#46039f\"], [0.2222222222222222, \"#7201a8\"], [0.3333333333333333, \"#9c179e\"], [0.4444444444444444, \"#bd3786\"], [0.5555555555555556, \"#d8576b\"], [0.6666666666666666, \"#ed7953\"], [0.7777777777777778, \"#fb9f3a\"], [0.8888888888888888, \"#fdca26\"], [1.0, \"#f0f921\"]], \"sequentialminus\": [[0.0, \"#0d0887\"], [0.1111111111111111, \"#46039f\"], [0.2222222222222222, \"#7201a8\"], [0.3333333333333333, \"#9c179e\"], [0.4444444444444444, \"#bd3786\"], [0.5555555555555556, \"#d8576b\"], [0.6666666666666666, \"#ed7953\"], [0.7777777777777778, \"#fb9f3a\"], [0.8888888888888888, \"#fdca26\"], [1.0, \"#f0f921\"]]}, \"colorway\": [\"#636efa\", \"#EF553B\", \"#00cc96\", \"#ab63fa\", \"#FFA15A\", \"#19d3f3\", \"#FF6692\", \"#B6E880\", \"#FF97FF\", \"#FECB52\"], \"font\": {\"color\": \"#2a3f5f\"}, \"geo\": {\"bgcolor\": \"white\", \"lakecolor\": \"white\", \"landcolor\": \"#E5ECF6\", \"showlakes\": true, \"showland\": true, \"subunitcolor\": \"white\"}, \"hoverlabel\": {\"align\": \"left\"}, \"hovermode\": \"closest\", \"mapbox\": {\"style\": \"light\"}, \"paper_bgcolor\": \"white\", \"plot_bgcolor\": \"#E5ECF6\", \"polar\": {\"angularaxis\": {\"gridcolor\": \"white\", \"linecolor\": \"white\", \"ticks\": \"\"}, \"bgcolor\": \"#E5ECF6\", \"radialaxis\": {\"gridcolor\": \"white\", \"linecolor\": \"white\", \"ticks\": \"\"}}, \"scene\": {\"xaxis\": {\"backgroundcolor\": \"#E5ECF6\", \"gridcolor\": \"white\", \"gridwidth\": 2, \"linecolor\": \"white\", \"showbackground\": true, \"ticks\": \"\", \"zerolinecolor\": \"white\"}, \"yaxis\": {\"backgroundcolor\": \"#E5ECF6\", \"gridcolor\": \"white\", \"gridwidth\": 2, \"linecolor\": \"white\", \"showbackground\": true, \"ticks\": \"\", \"zerolinecolor\": \"white\"}, \"zaxis\": {\"backgroundcolor\": \"#E5ECF6\", \"gridcolor\": \"white\", \"gridwidth\": 2, \"linecolor\": \"white\", \"showbackground\": true, \"ticks\": \"\", \"zerolinecolor\": \"white\"}}, \"shapedefaults\": {\"line\": {\"color\": \"#2a3f5f\"}}, \"ternary\": {\"aaxis\": {\"gridcolor\": \"white\", \"linecolor\": \"white\", \"ticks\": \"\"}, \"baxis\": {\"gridcolor\": \"white\", \"linecolor\": \"white\", \"ticks\": \"\"}, \"bgcolor\": \"#E5ECF6\", \"caxis\": {\"gridcolor\": \"white\", \"linecolor\": \"white\", \"ticks\": \"\"}}, \"title\": {\"x\": 0.05}, \"xaxis\": {\"automargin\": true, \"gridcolor\": \"white\", \"linecolor\": \"white\", \"ticks\": \"\", \"title\": {\"standoff\": 15}, \"zerolinecolor\": \"white\", \"zerolinewidth\": 2}, \"yaxis\": {\"automargin\": true, \"gridcolor\": \"white\", \"linecolor\": \"white\", \"ticks\": \"\", \"title\": {\"standoff\": 15}, \"zerolinecolor\": \"white\", \"zerolinewidth\": 2}}}, \"title\": {\"text\": \"IMDB Vs Local Ratings Bottom 100|Movie |soted IMDB\"}, \"xaxis\": {\"tickangle\": -45, \"title\": {\"text\": \"Movies\"}}, \"yaxis\": {\"title\": {\"text\": \"Ratings\"}}},\n",
       "                        {\"responsive\": true}\n",
       "                    ).then(function(){\n",
       "                            \n",
       "var gd = document.getElementById('02f1fb71-368f-4dd5-ae58-441aad91842d');\n",
       "var x = new MutationObserver(function (mutations, observer) {{\n",
       "        var display = window.getComputedStyle(gd).display;\n",
       "        if (!display || display === 'none') {{\n",
       "            console.log([gd, 'removed!']);\n",
       "            Plotly.purge(gd);\n",
       "            observer.disconnect();\n",
       "        }}\n",
       "}});\n",
       "\n",
       "// Listen for the removal of the full notebook cells\n",
       "var notebookContainer = gd.closest('#notebook-container');\n",
       "if (notebookContainer) {{\n",
       "    x.observe(notebookContainer, {childList: true});\n",
       "}}\n",
       "\n",
       "// Listen for the clearing of the current output cell\n",
       "var outputEl = gd.closest('.output');\n",
       "if (outputEl) {{\n",
       "    x.observe(outputEl, {childList: true});\n",
       "}}\n",
       "\n",
       "                        })\n",
       "                };\n",
       "                });\n",
       "            </script>\n",
       "        </div>"
      ]
     },
     "metadata": {},
     "output_type": "display_data"
    }
   ],
   "source": [
    "fig = go.Figure()\n",
    "fig.add_trace(go.Bar(x=movie_names_imdb[-100:], y= imdb_ratings_imdb[-100:], name=\"IMDB Ratings Bottom 100|Movie\"), )\n",
    "fig.add_trace(go.Bar(x=movie_names_imdb[-100:], y= local_ratings_imdb[-100:], name=\"Local Ratings Bottom 100|Movie\"))\n",
    "fig.update_xaxes(tickangle=-45)\n",
    "fig.update_layout(xaxis_title =\"Movies\", yaxis_title=\"Ratings\", title=\"IMDB Vs Local Ratings Bottom 100|Movie |soted IMDB\", height=700,)"
   ]
  },
  {
   "cell_type": "markdown",
   "metadata": {},
   "source": [
    "While movies in the bottom 100 have fluctuation, and it seems lowest 12 have imdb around 0. Lets see actual value rather than normalized ones for those 12.\n"
   ]
  },
  {
   "cell_type": "code",
   "execution_count": 28,
   "metadata": {
    "ExecuteTime": {
     "end_time": "2020-07-15T04:11:59.433564Z",
     "start_time": "2020-07-15T04:11:59.404567Z"
    },
    "scrolled": false
   },
   "outputs": [
    {
     "data": {
      "text/html": [
       "<div>\n",
       "<style scoped>\n",
       "    .dataframe tbody tr th:only-of-type {\n",
       "        vertical-align: middle;\n",
       "    }\n",
       "\n",
       "    .dataframe tbody tr th {\n",
       "        vertical-align: top;\n",
       "    }\n",
       "\n",
       "    .dataframe thead th {\n",
       "        text-align: right;\n",
       "    }\n",
       "</style>\n",
       "<table border=\"1\" class=\"dataframe\">\n",
       "  <thead>\n",
       "    <tr style=\"text-align: right;\">\n",
       "      <th></th>\n",
       "      <th>IMDB</th>\n",
       "      <th>USER_REVIEWS_LOCAL</th>\n",
       "    </tr>\n",
       "  </thead>\n",
       "  <tbody>\n",
       "    <tr>\n",
       "      <th>3771</th>\n",
       "      <td>0.0</td>\n",
       "      <td>4.8</td>\n",
       "    </tr>\n",
       "    <tr>\n",
       "      <th>3772</th>\n",
       "      <td>0.0</td>\n",
       "      <td>6.9</td>\n",
       "    </tr>\n",
       "    <tr>\n",
       "      <th>3773</th>\n",
       "      <td>0.0</td>\n",
       "      <td>5.9</td>\n",
       "    </tr>\n",
       "    <tr>\n",
       "      <th>3775</th>\n",
       "      <td>0.0</td>\n",
       "      <td>6.0</td>\n",
       "    </tr>\n",
       "    <tr>\n",
       "      <th>3776</th>\n",
       "      <td>0.0</td>\n",
       "      <td>5.4</td>\n",
       "    </tr>\n",
       "    <tr>\n",
       "      <th>3777</th>\n",
       "      <td>0.0</td>\n",
       "      <td>6.5</td>\n",
       "    </tr>\n",
       "    <tr>\n",
       "      <th>3778</th>\n",
       "      <td>0.0</td>\n",
       "      <td>5.6</td>\n",
       "    </tr>\n",
       "    <tr>\n",
       "      <th>3780</th>\n",
       "      <td>0.0</td>\n",
       "      <td>6.9</td>\n",
       "    </tr>\n",
       "    <tr>\n",
       "      <th>3783</th>\n",
       "      <td>0.0</td>\n",
       "      <td>7.0</td>\n",
       "    </tr>\n",
       "    <tr>\n",
       "      <th>3784</th>\n",
       "      <td>0.0</td>\n",
       "      <td>5.7</td>\n",
       "    </tr>\n",
       "    <tr>\n",
       "      <th>3785</th>\n",
       "      <td>0.0</td>\n",
       "      <td>5.4</td>\n",
       "    </tr>\n",
       "    <tr>\n",
       "      <th>3786</th>\n",
       "      <td>0.0</td>\n",
       "      <td>5.8</td>\n",
       "    </tr>\n",
       "  </tbody>\n",
       "</table>\n",
       "</div>"
      ],
      "text/plain": [
       "      IMDB  USER_REVIEWS_LOCAL\n",
       "3771   0.0                 4.8\n",
       "3772   0.0                 6.9\n",
       "3773   0.0                 5.9\n",
       "3775   0.0                 6.0\n",
       "3776   0.0                 5.4\n",
       "3777   0.0                 6.5\n",
       "3778   0.0                 5.6\n",
       "3780   0.0                 6.9\n",
       "3783   0.0                 7.0\n",
       "3784   0.0                 5.7\n",
       "3785   0.0                 5.4\n",
       "3786   0.0                 5.8"
      ]
     },
     "execution_count": 28,
     "metadata": {},
     "output_type": "execute_result"
    }
   ],
   "source": [
    "imdb_ratings_mv.iloc[-12:,[5,9]]"
   ]
  },
  {
   "cell_type": "markdown",
   "metadata": {},
   "source": [
    "And the assumption was correct."
   ]
  },
  {
   "cell_type": "markdown",
   "metadata": {},
   "source": [
    "### TV's"
   ]
  },
  {
   "cell_type": "markdown",
   "metadata": {},
   "source": [
    "#### TV's Distribution for IMDB and User Ratings"
   ]
  },
  {
   "cell_type": "code",
   "execution_count": 29,
   "metadata": {
    "ExecuteTime": {
     "end_time": "2020-07-15T04:11:59.449566Z",
     "start_time": "2020-07-15T04:11:59.436568Z"
    }
   },
   "outputs": [],
   "source": [
    "site_ratings_tv_median = tv_df['USER_REVIEWS_LOCAL'].median()\n",
    "imdb_ratings_tv_median= tv_df['IMDB'].median()"
   ]
  },
  {
   "cell_type": "code",
   "execution_count": 30,
   "metadata": {
    "ExecuteTime": {
     "end_time": "2020-07-15T04:11:59.465565Z",
     "start_time": "2020-07-15T04:11:59.452570Z"
    },
    "scrolled": true
   },
   "outputs": [
    {
     "name": "stdout",
     "output_type": "stream",
     "text": [
      "6.4 7.9\n"
     ]
    }
   ],
   "source": [
    "print(site_ratings_tv_median ,imdb_ratings_tv_median)"
   ]
  },
  {
   "cell_type": "code",
   "execution_count": 31,
   "metadata": {
    "ExecuteTime": {
     "end_time": "2020-07-15T04:11:59.511566Z",
     "start_time": "2020-07-15T04:11:59.468566Z"
    }
   },
   "outputs": [
    {
     "data": {
      "application/vnd.plotly.v1+json": {
       "config": {
        "plotlyServerURL": "https://plot.ly"
       },
       "data": [
        {
         "name": "Local Ratings|TV",
         "type": "histogram",
         "x": [
          6.3,
          6.3,
          6.3,
          6.2,
          6.2,
          5.8,
          5.8,
          6.6,
          6.6,
          6.6,
          6.9,
          6.9,
          6.9,
          6.9,
          6.4,
          6.4,
          6.4,
          6.4,
          6.8,
          6.8,
          5.8,
          5.8,
          6,
          6,
          6.5,
          6.5,
          6.5,
          6.5,
          6.5,
          6,
          6,
          6,
          6.5,
          6.5,
          6.5,
          5.9,
          5.9,
          6,
          6.7,
          6.7,
          6.7,
          6.7,
          6.7,
          6.7,
          6.1,
          6.8,
          6.8,
          6.8,
          6.8,
          6.8,
          6.8,
          6.2,
          6.2,
          6.5,
          6.5,
          6.5,
          6.5,
          6.5,
          6.5,
          6.5,
          6.5,
          6.3,
          6.3,
          6.3,
          6.3,
          6.9,
          6.9,
          6.9,
          6.9,
          6.9,
          6.9,
          6.3,
          6.4,
          6.4,
          6.4,
          6.4,
          6.4,
          6.1,
          6.1,
          6.6,
          6,
          6,
          6.1,
          6.1,
          6.1,
          6.1,
          6.2,
          6.2,
          6.2,
          6.2,
          6.3,
          6.3,
          6.3,
          6.3,
          6.2,
          6.2,
          6.2,
          6.5,
          6.5,
          6.1,
          6.1,
          6.1,
          6.1,
          6.2,
          6.2,
          5.7,
          6.2,
          6.2,
          6.1,
          6.1,
          6.1,
          6.8,
          6.8,
          6.8,
          6.8,
          6.8,
          6.8,
          6.8,
          6.8,
          6.6,
          6.8,
          6.8,
          6.8,
          6.1,
          6.1,
          6.3,
          6.3,
          6.3,
          6.3,
          6.3,
          6.3,
          6.7,
          6.7,
          6.7,
          6.7,
          6.7,
          6.7,
          6.3,
          6.3,
          6.3,
          6.1,
          6.1,
          6.1,
          6.1,
          6.7,
          6.7,
          6.7,
          6.7,
          6.7,
          6.7,
          5.8,
          5.8,
          6.4,
          6.4,
          6.4,
          6.4,
          6.4,
          6.4,
          6.9,
          6.9,
          6.9,
          6.9,
          6.4,
          6.4,
          6.1,
          6.1,
          6.1,
          6.1,
          6.1,
          6.2,
          6.2,
          6.9,
          6.9,
          6.9,
          6.9,
          6.8,
          6.8,
          7.2,
          7.2,
          7.2,
          6.1,
          6.1,
          5.9,
          5.9,
          5.9,
          5.9,
          6.3,
          6.3,
          5.5,
          5.9,
          5.9,
          5.9,
          7,
          7,
          7,
          7,
          6.7,
          6.7,
          6.7,
          6.1,
          6.1,
          6.9,
          6.9,
          6.9,
          6.1,
          6.1,
          6.1,
          6.1,
          6.1,
          6.2,
          6.1,
          6.1,
          6.1,
          6.3,
          6.3,
          6.3,
          6.1,
          6.1,
          6.1,
          6.9,
          6.9,
          7.1,
          7.1,
          6.6,
          6.6,
          5.9,
          5.9,
          5.9,
          6.5,
          6.5,
          6.5,
          6.4,
          6.4,
          6.6,
          6.1,
          6.1,
          6.1,
          6.1,
          6.1,
          6.1,
          6.6,
          6.6,
          5.6,
          6.9,
          6.9,
          6.2,
          6.2,
          6.4,
          6.4,
          6.4,
          6.4,
          6.1,
          6.1,
          5.8,
          5.8,
          5.8,
          7.1,
          7.1,
          6.8,
          6.8,
          6.8,
          6.8,
          6.8,
          6.8,
          6.1,
          6.1,
          6.1,
          6.1,
          6.5,
          6.5,
          6.2,
          6.2,
          6.2,
          6.2,
          7,
          7,
          6.2,
          6.4,
          6.4,
          6.4,
          6.4,
          6.4,
          6.4,
          6.4,
          6.3,
          6.3,
          6.3,
          6.1,
          6.1,
          6.1,
          6.1,
          6.9,
          6.9,
          6.9,
          6.9,
          6.9,
          6.2,
          5.5,
          5.5,
          5.5,
          5.5,
          6.3,
          6.3,
          6.3,
          5.8,
          6.1,
          6.1,
          6.1,
          5.6,
          6.8,
          6.8,
          6.1,
          6.1,
          6.5,
          6.5,
          6.5,
          6.9,
          6.9,
          6.9,
          6.9,
          6.7,
          6.7,
          6.7,
          6.7,
          6.9,
          6.9,
          6.9,
          6.9,
          6.9,
          6.9,
          7.3,
          7.3,
          6.2,
          7,
          7,
          7,
          6.5,
          6.5,
          6.5,
          6.5,
          6.5,
          6.2,
          6.4,
          6.4,
          6.4,
          6.4,
          4.5,
          6.4,
          6.4,
          6.4,
          6,
          6.4,
          6.4,
          6.4,
          6.4,
          6.4,
          6.3,
          6.3,
          6.3,
          6.3,
          6.5,
          6.5,
          6.5,
          6.7,
          6.7,
          6.7,
          6.8,
          6.8,
          6.4,
          6.4,
          6.4,
          6.4,
          6.4,
          6.4,
          6.4,
          6.4,
          6.4,
          6.4,
          6.4,
          6.4,
          7.1,
          7.1,
          7.1,
          5.6,
          5.9,
          5.9,
          7.1,
          7.1,
          7.1,
          7.1,
          6.6,
          6.6,
          6.6,
          6.6,
          6.6,
          6.6,
          6.6,
          6.2,
          6.2,
          6.8,
          6.8,
          6.8,
          6.1,
          6.1,
          6.1,
          6.6,
          6.6,
          6.6,
          6.6,
          6.6,
          6.6,
          6.6,
          6.6,
          6.3,
          6.3,
          6.3,
          7.1,
          7.1,
          7.1,
          7.1,
          7.1,
          7.1,
          7.1,
          6,
          6,
          6,
          7.3,
          7.3,
          5.4,
          5.8,
          5.8,
          5.8,
          5.8,
          5.8,
          5.8,
          5.9,
          5.9,
          5.7,
          5.7,
          5.7,
          6.1,
          6.1,
          6.6,
          6.6,
          6.4,
          6.5,
          6.5,
          6.5,
          6.3,
          6.3,
          6.3,
          5.9,
          7,
          5.9,
          5.9,
          5.9,
          6,
          6.5,
          6.2,
          6.2,
          6,
          6.2,
          6.4,
          6.4,
          6.4,
          6.4,
          6.4,
          7.2,
          7.2,
          7.2,
          6.5,
          6.5,
          6.5,
          6.1,
          6.8,
          6.8,
          6.8,
          6.8,
          6.7,
          6.7,
          6.7,
          7.1,
          7.1,
          7.1,
          6.3,
          6.3,
          6.3,
          6.7,
          6.7,
          6.7,
          6.7,
          6.7,
          6.7,
          7.1,
          7.1,
          5.7,
          6.5,
          6.6,
          6.6,
          6.9,
          6.9,
          6.9,
          6.9,
          6.9,
          6.9,
          6.9,
          6.9,
          6.3,
          6.3,
          6.1,
          6.1,
          6.1,
          6.1,
          6.1,
          6.4,
          6.4,
          6.4,
          7,
          7,
          7,
          7,
          7,
          6.5,
          6.4,
          6.4,
          6.4,
          6.4,
          6.6,
          6.6,
          6.6,
          6.9,
          6.9,
          6.9,
          6.9,
          6.4,
          6.4,
          6.4,
          6.4,
          6.4,
          6.4,
          6.4,
          6.4,
          6.2,
          6.2,
          6.6,
          6.6,
          6.6,
          6.1,
          6.7,
          6.7,
          6.7,
          5.8,
          6.8,
          6.8,
          6.8,
          6.8,
          6.8,
          5.7,
          6.5,
          5.5,
          5.5,
          6.7,
          6.7,
          6.7,
          6.5,
          6.5,
          7,
          7,
          6.3,
          6.3,
          6.3,
          6.3,
          6.3,
          6.2,
          6.2,
          6.3,
          6.3,
          6.3,
          6.3,
          5.9,
          5.9,
          6.2,
          6.8,
          7.2,
          7.2,
          7.2,
          7.2,
          6.2,
          6.2,
          6.2,
          6.4,
          6.4,
          6.6,
          6.6,
          7,
          7,
          7,
          7,
          7,
          7,
          7,
          7,
          6.1,
          6.7,
          6.7,
          6.1,
          6.8,
          5.6,
          6.8,
          6.8,
          5.8,
          6.4,
          6.4,
          6.4,
          6.4,
          6.8,
          6.8,
          6.8,
          5.6,
          5.2,
          6,
          6,
          6.4,
          6.4,
          6.4,
          6.4,
          6.6,
          6.6,
          6.9,
          6.9,
          6.9,
          5.8,
          5.8,
          5.8,
          5.9,
          5.9,
          5.8,
          5.8,
          5.8,
          6.2,
          6.2,
          6.9,
          6.9,
          6.9,
          6.9,
          6.9,
          6.9,
          7.6,
          7.6,
          6.7,
          6.1,
          6.1,
          6.1,
          6.7,
          6.7,
          6.7,
          6.7,
          6.7,
          6.5,
          7.1,
          7.1,
          7.1,
          7.1,
          6.4,
          6.4,
          6.4,
          6.4,
          6.4,
          6.5,
          6.5,
          6.5,
          6,
          6,
          6,
          6.5,
          6.5,
          6.5,
          6.5,
          6.2,
          6.2,
          6.2,
          5.8,
          5.8,
          5.8,
          6.4,
          6.4,
          6.8,
          6.8,
          6.8,
          6.8,
          6.6,
          6.6,
          6.7,
          6.7,
          6.7,
          6.7,
          6.2,
          5.7,
          6.5,
          6.5,
          6.5,
          6.5,
          6.5,
          6.7,
          6.7,
          6.7,
          6.7,
          6.3,
          6.7,
          7.2,
          7.2,
          7.2,
          6.8,
          7.8,
          7.8,
          7.8,
          6.1,
          6.1,
          6.1,
          7.4,
          7.4,
          6.2,
          7.2,
          7.2,
          7.2,
          7.2,
          7.4,
          7.4,
          6.5,
          6.7,
          6.7,
          6.7,
          7.1,
          6.4,
          6.4,
          6.4,
          6.4,
          6.4,
          6.4,
          6.5,
          5.7,
          5.7,
          6.3,
          6.3,
          6.3,
          6.1,
          7.1,
          6.5,
          6,
          6,
          7.1,
          7.1,
          7.1,
          7.1,
          7.1,
          6.9,
          6.2,
          6.2,
          6.2,
          5.6,
          5.6,
          7.8,
          7.8,
          7.8
         ]
        },
        {
         "name": "IMDB ratings|TV",
         "type": "histogram",
         "x": [
          9.3,
          9.3,
          9.3,
          8.1,
          8.1,
          8.2,
          8.2,
          8.8,
          8.8,
          8.8,
          7.7,
          7.7,
          7.7,
          7.7,
          9.2,
          9.2,
          9.2,
          9.2,
          8.2,
          8.2,
          7.6,
          7.6,
          8.5,
          8.5,
          7.8,
          7.8,
          7.8,
          7.8,
          7.8,
          7.9,
          7.9,
          7.9,
          8.2,
          8.2,
          8.2,
          8,
          8,
          7.8,
          8.6,
          8.6,
          8.6,
          8.6,
          8.6,
          8.6,
          8.2,
          7.8,
          7.8,
          7.8,
          7.8,
          7.8,
          7.8,
          8.4,
          8.4,
          7.5,
          7.5,
          7.5,
          7.5,
          7.5,
          8,
          8,
          8,
          8.2,
          8.2,
          8.2,
          8.2,
          8.5,
          8.5,
          8.5,
          8.5,
          8.5,
          8.5,
          7.3,
          8,
          8,
          8,
          8,
          8,
          8.5,
          8.5,
          7,
          8.2,
          8.2,
          6.9,
          6.9,
          6.9,
          6.9,
          8.8,
          8.8,
          8.8,
          8.8,
          8.5,
          8.5,
          8.5,
          8.5,
          7.4,
          7.4,
          7.4,
          6.7,
          6.7,
          8.1,
          8.1,
          8.1,
          8.1,
          8.9,
          8.9,
          7.4,
          8.4,
          8.4,
          8.5,
          8.5,
          8.5,
          8.4,
          8.4,
          8.4,
          8.4,
          8.4,
          6.3,
          6.3,
          6.3,
          8.8,
          7.8,
          7.8,
          7.8,
          8.6,
          8.6,
          7.7,
          7.7,
          7.7,
          7.7,
          7.7,
          7.7,
          7.6,
          7.6,
          7.6,
          7.6,
          7.6,
          7.6,
          8,
          8,
          8,
          8.4,
          8.4,
          8.4,
          8.4,
          9.2,
          9.2,
          9.2,
          9.2,
          9.2,
          9.2,
          8.7,
          8.7,
          7.6,
          7.6,
          7.6,
          7.6,
          7.6,
          7.6,
          8,
          8,
          8,
          8,
          7.7,
          7.7,
          7,
          7,
          7,
          7,
          7,
          8.3,
          8.3,
          9,
          9,
          9,
          9,
          8.1,
          8.1,
          8.6,
          8.6,
          8.6,
          8.1,
          8.1,
          6.9,
          6.9,
          6.9,
          6.9,
          8.7,
          8.7,
          7.3,
          8.1,
          8.1,
          8.1,
          7.9,
          7.9,
          7.9,
          7.9,
          9.5,
          9.5,
          9.5,
          7.4,
          7.4,
          8.7,
          8.7,
          8.7,
          8.3,
          8.3,
          8.3,
          8.3,
          8.3,
          8.9,
          7.5,
          7.5,
          7.5,
          7.9,
          7.9,
          7.9,
          7.5,
          7.5,
          7.5,
          8.7,
          8.7,
          8.1,
          8.1,
          6.8,
          6.8,
          7.8,
          7.8,
          7.8,
          7.3,
          7.3,
          7.3,
          6.7,
          6.7,
          8.6,
          7.6,
          7.6,
          7.6,
          7.4,
          7.4,
          7.4,
          0,
          0,
          7.6,
          8.5,
          8.5,
          7.9,
          7.9,
          7.7,
          6.6,
          6.6,
          6.6,
          8.3,
          8.3,
          7.3,
          7.3,
          7.3,
          7.5,
          7.5,
          8.2,
          8.2,
          8.2,
          8.2,
          8.2,
          8.2,
          8.2,
          7.7,
          7.7,
          7.7,
          7.1,
          7.1,
          8.6,
          8.6,
          4.5,
          4.5,
          8.7,
          8.7,
          8.1,
          8.4,
          8.4,
          8.4,
          8.4,
          8.4,
          8.4,
          8.4,
          7.7,
          7.7,
          7.7,
          8.1,
          8.1,
          8.1,
          8.1,
          7.3,
          7.3,
          7.3,
          7.3,
          7.3,
          8.6,
          6.7,
          6.7,
          6.7,
          6.7,
          8.3,
          8.3,
          8.3,
          7.5,
          6.1,
          6.1,
          6.1,
          5.1,
          8.7,
          8.7,
          7.7,
          7.7,
          7.4,
          7.4,
          7.4,
          6.7,
          6.7,
          6.7,
          6.7,
          8,
          8,
          8,
          8,
          7.8,
          7.8,
          7.8,
          7.8,
          7.8,
          7.8,
          8.6,
          8.6,
          7.1,
          8.6,
          8.6,
          8.6,
          8,
          8,
          8,
          8,
          8,
          6.7,
          8,
          8,
          8,
          8,
          3.5,
          8.1,
          8.1,
          8.1,
          7.9,
          7.2,
          7.2,
          7.7,
          7.7,
          7.7,
          7.3,
          7.3,
          7.3,
          7.3,
          8.6,
          8.6,
          8.6,
          6.6,
          6.6,
          6.6,
          7.5,
          7.5,
          7.5,
          7.5,
          7.5,
          8.8,
          8.8,
          8.8,
          8.5,
          7.9,
          7.9,
          7.9,
          7.9,
          7.9,
          9.1,
          9.1,
          9.1,
          7.8,
          0,
          0,
          6.5,
          6.5,
          6.5,
          6.5,
          8.3,
          8.3,
          8.3,
          8.3,
          8.3,
          8.3,
          8.3,
          7.6,
          7.6,
          8.8,
          7.5,
          7.5,
          7,
          7,
          7,
          6.2,
          6.2,
          6.2,
          6.2,
          6.4,
          6.4,
          6.4,
          6.4,
          7.5,
          7.5,
          7.5,
          8.4,
          8.4,
          8.4,
          8.4,
          8.4,
          8.4,
          8.4,
          8.8,
          8.8,
          8.8,
          7.8,
          7.8,
          8.5,
          6.5,
          6.5,
          6.5,
          6.5,
          8.5,
          8.5,
          2.8,
          2.8,
          3.4,
          3.4,
          3.4,
          7,
          7,
          8.1,
          8.1,
          7.8,
          8.4,
          8.4,
          8.4,
          8.3,
          8.3,
          8.3,
          7.7,
          6.4,
          6.8,
          6.8,
          6.8,
          8.4,
          8.3,
          4.3,
          4.3,
          6.4,
          7.9,
          7.4,
          7.4,
          7.4,
          7.4,
          7.4,
          8.3,
          8.3,
          8.3,
          7.4,
          7.4,
          7.4,
          6.7,
          8.7,
          8.7,
          8.7,
          8.7,
          5.2,
          5.2,
          5.2,
          7,
          7,
          7,
          7.2,
          7.2,
          7.2,
          6.2,
          6.2,
          6.2,
          6.2,
          6.2,
          6.2,
          6.9,
          6.9,
          5.9,
          7,
          9.2,
          9.2,
          5.7,
          5.7,
          5.7,
          7.6,
          7.6,
          7.6,
          7.6,
          7.6,
          8.7,
          8.7,
          8.2,
          8.2,
          8.2,
          8.2,
          8.2,
          8.4,
          8.4,
          8.4,
          8.9,
          8.9,
          8.9,
          8.9,
          8.9,
          7.8,
          8.6,
          8.6,
          8.6,
          8.6,
          7.4,
          7.4,
          7.4,
          7.7,
          7.7,
          7.7,
          7.7,
          7.6,
          7.6,
          8.6,
          8.6,
          8.6,
          6,
          6,
          6,
          8.3,
          8.3,
          7.2,
          7.2,
          7.2,
          8.7,
          8.4,
          8.4,
          8.4,
          7.2,
          8.6,
          8.6,
          8.6,
          8.6,
          8.6,
          7.9,
          8,
          8.1,
          8.1,
          7.2,
          7.5,
          7.5,
          7.9,
          7.9,
          8,
          8,
          6.9,
          6.9,
          6.9,
          6.9,
          6.9,
          8,
          8,
          7.8,
          7.8,
          7.8,
          7.8,
          6.6,
          6.6,
          7.8,
          8.7,
          8.6,
          8.6,
          8.6,
          8.6,
          8.1,
          8.1,
          8.1,
          6.9,
          6.9,
          6.7,
          6.7,
          8.8,
          8.8,
          8.8,
          8.8,
          8.8,
          8.8,
          8.4,
          8.4,
          8,
          8.5,
          8.5,
          0,
          7.3,
          6.1,
          6.8,
          6.8,
          7.3,
          8.1,
          8.1,
          8.1,
          8.1,
          7.2,
          7.2,
          7.2,
          6.6,
          6.6,
          7.5,
          7.5,
          7.3,
          7.3,
          7.3,
          7.3,
          7,
          7,
          7.2,
          7.2,
          7.2,
          7.1,
          7.1,
          4.3,
          5.5,
          5.5,
          7,
          7,
          7,
          6,
          6,
          7.4,
          7.4,
          7.4,
          7.4,
          7.4,
          7.4,
          8.7,
          8.7,
          7.8,
          8.2,
          8.2,
          8.2,
          7.6,
          7.6,
          7.6,
          7.6,
          7.6,
          8.4,
          8.1,
          8.1,
          8.1,
          8.1,
          8,
          8,
          8,
          8,
          8,
          6.1,
          6.1,
          6.1,
          7,
          7,
          7,
          7,
          7,
          7,
          7,
          6.8,
          6.8,
          6.8,
          8.3,
          8.3,
          8.3,
          7.8,
          7.8,
          8.4,
          8.4,
          8.4,
          4.6,
          8.2,
          8.2,
          7.4,
          7.4,
          7.4,
          7.4,
          7.6,
          7.6,
          8.7,
          8.7,
          8.3,
          8.3,
          8.3,
          8.4,
          8.4,
          8.4,
          8.4,
          8.2,
          7.9,
          8.2,
          8.2,
          8.2,
          7.4,
          8.4,
          8.4,
          8.4,
          8,
          8,
          8,
          7.6,
          7.6,
          8,
          7.9,
          7.9,
          7.9,
          7.9,
          7.1,
          7.1,
          7.6,
          7.4,
          7.4,
          7.4,
          7.5,
          8.3,
          8.3,
          8.3,
          8.3,
          8.3,
          8.3,
          8.6,
          7.4,
          7.4,
          7.1,
          7.1,
          7.1,
          8.1,
          8.1,
          7.9,
          4.6,
          4.6,
          8.2,
          8.2,
          8.2,
          8.2,
          8.2,
          8.7,
          9.3,
          9.3,
          9.3,
          6.6,
          6.6,
          8.1,
          8.1,
          8.4
         ]
        },
        {
         "mode": "text",
         "showlegend": false,
         "text": [
          "IMDB Median TV",
          "Site Ratings Median TV"
         ],
         "type": "scatter",
         "x": [
          5.6000000000000005,
          8.8
         ],
         "y": [
          165,
          165
         ]
        }
       ],
       "layout": {
        "shapes": [
         {
          "line": {
           "color": "LightSeaGreen",
           "dash": "dashdot",
           "width": 4
          },
          "type": "line",
          "x0": 6.4,
          "x1": 6.4,
          "y0": 0,
          "y1": 170
         },
         {
          "line": {
           "dash": "dot",
           "width": 4
          },
          "type": "line",
          "x0": 7.9,
          "x1": 7.9,
          "y0": 0,
          "y1": 170
         }
        ],
        "template": {
         "data": {
          "bar": [
           {
            "error_x": {
             "color": "#2a3f5f"
            },
            "error_y": {
             "color": "#2a3f5f"
            },
            "marker": {
             "line": {
              "color": "#E5ECF6",
              "width": 0.5
             }
            },
            "type": "bar"
           }
          ],
          "barpolar": [
           {
            "marker": {
             "line": {
              "color": "#E5ECF6",
              "width": 0.5
             }
            },
            "type": "barpolar"
           }
          ],
          "carpet": [
           {
            "aaxis": {
             "endlinecolor": "#2a3f5f",
             "gridcolor": "white",
             "linecolor": "white",
             "minorgridcolor": "white",
             "startlinecolor": "#2a3f5f"
            },
            "baxis": {
             "endlinecolor": "#2a3f5f",
             "gridcolor": "white",
             "linecolor": "white",
             "minorgridcolor": "white",
             "startlinecolor": "#2a3f5f"
            },
            "type": "carpet"
           }
          ],
          "choropleth": [
           {
            "colorbar": {
             "outlinewidth": 0,
             "ticks": ""
            },
            "type": "choropleth"
           }
          ],
          "contour": [
           {
            "colorbar": {
             "outlinewidth": 0,
             "ticks": ""
            },
            "colorscale": [
             [
              0,
              "#0d0887"
             ],
             [
              0.1111111111111111,
              "#46039f"
             ],
             [
              0.2222222222222222,
              "#7201a8"
             ],
             [
              0.3333333333333333,
              "#9c179e"
             ],
             [
              0.4444444444444444,
              "#bd3786"
             ],
             [
              0.5555555555555556,
              "#d8576b"
             ],
             [
              0.6666666666666666,
              "#ed7953"
             ],
             [
              0.7777777777777778,
              "#fb9f3a"
             ],
             [
              0.8888888888888888,
              "#fdca26"
             ],
             [
              1,
              "#f0f921"
             ]
            ],
            "type": "contour"
           }
          ],
          "contourcarpet": [
           {
            "colorbar": {
             "outlinewidth": 0,
             "ticks": ""
            },
            "type": "contourcarpet"
           }
          ],
          "heatmap": [
           {
            "colorbar": {
             "outlinewidth": 0,
             "ticks": ""
            },
            "colorscale": [
             [
              0,
              "#0d0887"
             ],
             [
              0.1111111111111111,
              "#46039f"
             ],
             [
              0.2222222222222222,
              "#7201a8"
             ],
             [
              0.3333333333333333,
              "#9c179e"
             ],
             [
              0.4444444444444444,
              "#bd3786"
             ],
             [
              0.5555555555555556,
              "#d8576b"
             ],
             [
              0.6666666666666666,
              "#ed7953"
             ],
             [
              0.7777777777777778,
              "#fb9f3a"
             ],
             [
              0.8888888888888888,
              "#fdca26"
             ],
             [
              1,
              "#f0f921"
             ]
            ],
            "type": "heatmap"
           }
          ],
          "heatmapgl": [
           {
            "colorbar": {
             "outlinewidth": 0,
             "ticks": ""
            },
            "colorscale": [
             [
              0,
              "#0d0887"
             ],
             [
              0.1111111111111111,
              "#46039f"
             ],
             [
              0.2222222222222222,
              "#7201a8"
             ],
             [
              0.3333333333333333,
              "#9c179e"
             ],
             [
              0.4444444444444444,
              "#bd3786"
             ],
             [
              0.5555555555555556,
              "#d8576b"
             ],
             [
              0.6666666666666666,
              "#ed7953"
             ],
             [
              0.7777777777777778,
              "#fb9f3a"
             ],
             [
              0.8888888888888888,
              "#fdca26"
             ],
             [
              1,
              "#f0f921"
             ]
            ],
            "type": "heatmapgl"
           }
          ],
          "histogram": [
           {
            "marker": {
             "colorbar": {
              "outlinewidth": 0,
              "ticks": ""
             }
            },
            "type": "histogram"
           }
          ],
          "histogram2d": [
           {
            "colorbar": {
             "outlinewidth": 0,
             "ticks": ""
            },
            "colorscale": [
             [
              0,
              "#0d0887"
             ],
             [
              0.1111111111111111,
              "#46039f"
             ],
             [
              0.2222222222222222,
              "#7201a8"
             ],
             [
              0.3333333333333333,
              "#9c179e"
             ],
             [
              0.4444444444444444,
              "#bd3786"
             ],
             [
              0.5555555555555556,
              "#d8576b"
             ],
             [
              0.6666666666666666,
              "#ed7953"
             ],
             [
              0.7777777777777778,
              "#fb9f3a"
             ],
             [
              0.8888888888888888,
              "#fdca26"
             ],
             [
              1,
              "#f0f921"
             ]
            ],
            "type": "histogram2d"
           }
          ],
          "histogram2dcontour": [
           {
            "colorbar": {
             "outlinewidth": 0,
             "ticks": ""
            },
            "colorscale": [
             [
              0,
              "#0d0887"
             ],
             [
              0.1111111111111111,
              "#46039f"
             ],
             [
              0.2222222222222222,
              "#7201a8"
             ],
             [
              0.3333333333333333,
              "#9c179e"
             ],
             [
              0.4444444444444444,
              "#bd3786"
             ],
             [
              0.5555555555555556,
              "#d8576b"
             ],
             [
              0.6666666666666666,
              "#ed7953"
             ],
             [
              0.7777777777777778,
              "#fb9f3a"
             ],
             [
              0.8888888888888888,
              "#fdca26"
             ],
             [
              1,
              "#f0f921"
             ]
            ],
            "type": "histogram2dcontour"
           }
          ],
          "mesh3d": [
           {
            "colorbar": {
             "outlinewidth": 0,
             "ticks": ""
            },
            "type": "mesh3d"
           }
          ],
          "parcoords": [
           {
            "line": {
             "colorbar": {
              "outlinewidth": 0,
              "ticks": ""
             }
            },
            "type": "parcoords"
           }
          ],
          "pie": [
           {
            "automargin": true,
            "type": "pie"
           }
          ],
          "scatter": [
           {
            "marker": {
             "colorbar": {
              "outlinewidth": 0,
              "ticks": ""
             }
            },
            "type": "scatter"
           }
          ],
          "scatter3d": [
           {
            "line": {
             "colorbar": {
              "outlinewidth": 0,
              "ticks": ""
             }
            },
            "marker": {
             "colorbar": {
              "outlinewidth": 0,
              "ticks": ""
             }
            },
            "type": "scatter3d"
           }
          ],
          "scattercarpet": [
           {
            "marker": {
             "colorbar": {
              "outlinewidth": 0,
              "ticks": ""
             }
            },
            "type": "scattercarpet"
           }
          ],
          "scattergeo": [
           {
            "marker": {
             "colorbar": {
              "outlinewidth": 0,
              "ticks": ""
             }
            },
            "type": "scattergeo"
           }
          ],
          "scattergl": [
           {
            "marker": {
             "colorbar": {
              "outlinewidth": 0,
              "ticks": ""
             }
            },
            "type": "scattergl"
           }
          ],
          "scattermapbox": [
           {
            "marker": {
             "colorbar": {
              "outlinewidth": 0,
              "ticks": ""
             }
            },
            "type": "scattermapbox"
           }
          ],
          "scatterpolar": [
           {
            "marker": {
             "colorbar": {
              "outlinewidth": 0,
              "ticks": ""
             }
            },
            "type": "scatterpolar"
           }
          ],
          "scatterpolargl": [
           {
            "marker": {
             "colorbar": {
              "outlinewidth": 0,
              "ticks": ""
             }
            },
            "type": "scatterpolargl"
           }
          ],
          "scatterternary": [
           {
            "marker": {
             "colorbar": {
              "outlinewidth": 0,
              "ticks": ""
             }
            },
            "type": "scatterternary"
           }
          ],
          "surface": [
           {
            "colorbar": {
             "outlinewidth": 0,
             "ticks": ""
            },
            "colorscale": [
             [
              0,
              "#0d0887"
             ],
             [
              0.1111111111111111,
              "#46039f"
             ],
             [
              0.2222222222222222,
              "#7201a8"
             ],
             [
              0.3333333333333333,
              "#9c179e"
             ],
             [
              0.4444444444444444,
              "#bd3786"
             ],
             [
              0.5555555555555556,
              "#d8576b"
             ],
             [
              0.6666666666666666,
              "#ed7953"
             ],
             [
              0.7777777777777778,
              "#fb9f3a"
             ],
             [
              0.8888888888888888,
              "#fdca26"
             ],
             [
              1,
              "#f0f921"
             ]
            ],
            "type": "surface"
           }
          ],
          "table": [
           {
            "cells": {
             "fill": {
              "color": "#EBF0F8"
             },
             "line": {
              "color": "white"
             }
            },
            "header": {
             "fill": {
              "color": "#C8D4E3"
             },
             "line": {
              "color": "white"
             }
            },
            "type": "table"
           }
          ]
         },
         "layout": {
          "annotationdefaults": {
           "arrowcolor": "#2a3f5f",
           "arrowhead": 0,
           "arrowwidth": 1
          },
          "coloraxis": {
           "colorbar": {
            "outlinewidth": 0,
            "ticks": ""
           }
          },
          "colorscale": {
           "diverging": [
            [
             0,
             "#8e0152"
            ],
            [
             0.1,
             "#c51b7d"
            ],
            [
             0.2,
             "#de77ae"
            ],
            [
             0.3,
             "#f1b6da"
            ],
            [
             0.4,
             "#fde0ef"
            ],
            [
             0.5,
             "#f7f7f7"
            ],
            [
             0.6,
             "#e6f5d0"
            ],
            [
             0.7,
             "#b8e186"
            ],
            [
             0.8,
             "#7fbc41"
            ],
            [
             0.9,
             "#4d9221"
            ],
            [
             1,
             "#276419"
            ]
           ],
           "sequential": [
            [
             0,
             "#0d0887"
            ],
            [
             0.1111111111111111,
             "#46039f"
            ],
            [
             0.2222222222222222,
             "#7201a8"
            ],
            [
             0.3333333333333333,
             "#9c179e"
            ],
            [
             0.4444444444444444,
             "#bd3786"
            ],
            [
             0.5555555555555556,
             "#d8576b"
            ],
            [
             0.6666666666666666,
             "#ed7953"
            ],
            [
             0.7777777777777778,
             "#fb9f3a"
            ],
            [
             0.8888888888888888,
             "#fdca26"
            ],
            [
             1,
             "#f0f921"
            ]
           ],
           "sequentialminus": [
            [
             0,
             "#0d0887"
            ],
            [
             0.1111111111111111,
             "#46039f"
            ],
            [
             0.2222222222222222,
             "#7201a8"
            ],
            [
             0.3333333333333333,
             "#9c179e"
            ],
            [
             0.4444444444444444,
             "#bd3786"
            ],
            [
             0.5555555555555556,
             "#d8576b"
            ],
            [
             0.6666666666666666,
             "#ed7953"
            ],
            [
             0.7777777777777778,
             "#fb9f3a"
            ],
            [
             0.8888888888888888,
             "#fdca26"
            ],
            [
             1,
             "#f0f921"
            ]
           ]
          },
          "colorway": [
           "#636efa",
           "#EF553B",
           "#00cc96",
           "#ab63fa",
           "#FFA15A",
           "#19d3f3",
           "#FF6692",
           "#B6E880",
           "#FF97FF",
           "#FECB52"
          ],
          "font": {
           "color": "#2a3f5f"
          },
          "geo": {
           "bgcolor": "white",
           "lakecolor": "white",
           "landcolor": "#E5ECF6",
           "showlakes": true,
           "showland": true,
           "subunitcolor": "white"
          },
          "hoverlabel": {
           "align": "left"
          },
          "hovermode": "closest",
          "mapbox": {
           "style": "light"
          },
          "paper_bgcolor": "white",
          "plot_bgcolor": "#E5ECF6",
          "polar": {
           "angularaxis": {
            "gridcolor": "white",
            "linecolor": "white",
            "ticks": ""
           },
           "bgcolor": "#E5ECF6",
           "radialaxis": {
            "gridcolor": "white",
            "linecolor": "white",
            "ticks": ""
           }
          },
          "scene": {
           "xaxis": {
            "backgroundcolor": "#E5ECF6",
            "gridcolor": "white",
            "gridwidth": 2,
            "linecolor": "white",
            "showbackground": true,
            "ticks": "",
            "zerolinecolor": "white"
           },
           "yaxis": {
            "backgroundcolor": "#E5ECF6",
            "gridcolor": "white",
            "gridwidth": 2,
            "linecolor": "white",
            "showbackground": true,
            "ticks": "",
            "zerolinecolor": "white"
           },
           "zaxis": {
            "backgroundcolor": "#E5ECF6",
            "gridcolor": "white",
            "gridwidth": 2,
            "linecolor": "white",
            "showbackground": true,
            "ticks": "",
            "zerolinecolor": "white"
           }
          },
          "shapedefaults": {
           "line": {
            "color": "#2a3f5f"
           }
          },
          "ternary": {
           "aaxis": {
            "gridcolor": "white",
            "linecolor": "white",
            "ticks": ""
           },
           "baxis": {
            "gridcolor": "white",
            "linecolor": "white",
            "ticks": ""
           },
           "bgcolor": "#E5ECF6",
           "caxis": {
            "gridcolor": "white",
            "linecolor": "white",
            "ticks": ""
           }
          },
          "title": {
           "x": 0.05
          },
          "xaxis": {
           "automargin": true,
           "gridcolor": "white",
           "linecolor": "white",
           "ticks": "",
           "title": {
            "standoff": 15
           },
           "zerolinecolor": "white",
           "zerolinewidth": 2
          },
          "yaxis": {
           "automargin": true,
           "gridcolor": "white",
           "linecolor": "white",
           "ticks": "",
           "title": {
            "standoff": 15
           },
           "zerolinecolor": "white",
           "zerolinewidth": 2
          }
         }
        },
        "title": {
         "text": "Distribution Plot Local Ratings Vs IMDB |TV"
        }
       }
      },
      "text/html": [
       "<div>\n",
       "        \n",
       "        \n",
       "            <div id=\"7d487e94-e9e0-43d9-a3af-ca1e1e06bd6a\" class=\"plotly-graph-div\" style=\"height:525px; width:100%;\"></div>\n",
       "            <script type=\"text/javascript\">\n",
       "                require([\"plotly\"], function(Plotly) {\n",
       "                    window.PLOTLYENV=window.PLOTLYENV || {};\n",
       "                    \n",
       "                if (document.getElementById(\"7d487e94-e9e0-43d9-a3af-ca1e1e06bd6a\")) {\n",
       "                    Plotly.newPlot(\n",
       "                        '7d487e94-e9e0-43d9-a3af-ca1e1e06bd6a',\n",
       "                        [{\"name\": \"Local Ratings|TV\", \"type\": \"histogram\", \"x\": [6.3, 6.3, 6.3, 6.2, 6.2, 5.8, 5.8, 6.6, 6.6, 6.6, 6.9, 6.9, 6.9, 6.9, 6.4, 6.4, 6.4, 6.4, 6.8, 6.8, 5.8, 5.8, 6.0, 6.0, 6.5, 6.5, 6.5, 6.5, 6.5, 6.0, 6.0, 6.0, 6.5, 6.5, 6.5, 5.9, 5.9, 6.0, 6.7, 6.7, 6.7, 6.7, 6.7, 6.7, 6.1, 6.8, 6.8, 6.8, 6.8, 6.8, 6.8, 6.2, 6.2, 6.5, 6.5, 6.5, 6.5, 6.5, 6.5, 6.5, 6.5, 6.3, 6.3, 6.3, 6.3, 6.9, 6.9, 6.9, 6.9, 6.9, 6.9, 6.3, 6.4, 6.4, 6.4, 6.4, 6.4, 6.1, 6.1, 6.6, 6.0, 6.0, 6.1, 6.1, 6.1, 6.1, 6.2, 6.2, 6.2, 6.2, 6.3, 6.3, 6.3, 6.3, 6.2, 6.2, 6.2, 6.5, 6.5, 6.1, 6.1, 6.1, 6.1, 6.2, 6.2, 5.7, 6.2, 6.2, 6.1, 6.1, 6.1, 6.8, 6.8, 6.8, 6.8, 6.8, 6.8, 6.8, 6.8, 6.6, 6.8, 6.8, 6.8, 6.1, 6.1, 6.3, 6.3, 6.3, 6.3, 6.3, 6.3, 6.7, 6.7, 6.7, 6.7, 6.7, 6.7, 6.3, 6.3, 6.3, 6.1, 6.1, 6.1, 6.1, 6.7, 6.7, 6.7, 6.7, 6.7, 6.7, 5.8, 5.8, 6.4, 6.4, 6.4, 6.4, 6.4, 6.4, 6.9, 6.9, 6.9, 6.9, 6.4, 6.4, 6.1, 6.1, 6.1, 6.1, 6.1, 6.2, 6.2, 6.9, 6.9, 6.9, 6.9, 6.8, 6.8, 7.2, 7.2, 7.2, 6.1, 6.1, 5.9, 5.9, 5.9, 5.9, 6.3, 6.3, 5.5, 5.9, 5.9, 5.9, 7.0, 7.0, 7.0, 7.0, 6.7, 6.7, 6.7, 6.1, 6.1, 6.9, 6.9, 6.9, 6.1, 6.1, 6.1, 6.1, 6.1, 6.2, 6.1, 6.1, 6.1, 6.3, 6.3, 6.3, 6.1, 6.1, 6.1, 6.9, 6.9, 7.1, 7.1, 6.6, 6.6, 5.9, 5.9, 5.9, 6.5, 6.5, 6.5, 6.4, 6.4, 6.6, 6.1, 6.1, 6.1, 6.1, 6.1, 6.1, 6.6, 6.6, 5.6, 6.9, 6.9, 6.2, 6.2, 6.4, 6.4, 6.4, 6.4, 6.1, 6.1, 5.8, 5.8, 5.8, 7.1, 7.1, 6.8, 6.8, 6.8, 6.8, 6.8, 6.8, 6.1, 6.1, 6.1, 6.1, 6.5, 6.5, 6.2, 6.2, 6.2, 6.2, 7.0, 7.0, 6.2, 6.4, 6.4, 6.4, 6.4, 6.4, 6.4, 6.4, 6.3, 6.3, 6.3, 6.1, 6.1, 6.1, 6.1, 6.9, 6.9, 6.9, 6.9, 6.9, 6.2, 5.5, 5.5, 5.5, 5.5, 6.3, 6.3, 6.3, 5.8, 6.1, 6.1, 6.1, 5.6, 6.8, 6.8, 6.1, 6.1, 6.5, 6.5, 6.5, 6.9, 6.9, 6.9, 6.9, 6.7, 6.7, 6.7, 6.7, 6.9, 6.9, 6.9, 6.9, 6.9, 6.9, 7.3, 7.3, 6.2, 7.0, 7.0, 7.0, 6.5, 6.5, 6.5, 6.5, 6.5, 6.2, 6.4, 6.4, 6.4, 6.4, 4.5, 6.4, 6.4, 6.4, 6.0, 6.4, 6.4, 6.4, 6.4, 6.4, 6.3, 6.3, 6.3, 6.3, 6.5, 6.5, 6.5, 6.7, 6.7, 6.7, 6.8, 6.8, 6.4, 6.4, 6.4, 6.4, 6.4, 6.4, 6.4, 6.4, 6.4, 6.4, 6.4, 6.4, 7.1, 7.1, 7.1, 5.6, 5.9, 5.9, 7.1, 7.1, 7.1, 7.1, 6.6, 6.6, 6.6, 6.6, 6.6, 6.6, 6.6, 6.2, 6.2, 6.8, 6.8, 6.8, 6.1, 6.1, 6.1, 6.6, 6.6, 6.6, 6.6, 6.6, 6.6, 6.6, 6.6, 6.3, 6.3, 6.3, 7.1, 7.1, 7.1, 7.1, 7.1, 7.1, 7.1, 6.0, 6.0, 6.0, 7.3, 7.3, 5.4, 5.8, 5.8, 5.8, 5.8, 5.8, 5.8, 5.9, 5.9, 5.7, 5.7, 5.7, 6.1, 6.1, 6.6, 6.6, 6.4, 6.5, 6.5, 6.5, 6.3, 6.3, 6.3, 5.9, 7.0, 5.9, 5.9, 5.9, 6.0, 6.5, 6.2, 6.2, 6.0, 6.2, 6.4, 6.4, 6.4, 6.4, 6.4, 7.2, 7.2, 7.2, 6.5, 6.5, 6.5, 6.1, 6.8, 6.8, 6.8, 6.8, 6.7, 6.7, 6.7, 7.1, 7.1, 7.1, 6.3, 6.3, 6.3, 6.7, 6.7, 6.7, 6.7, 6.7, 6.7, 7.1, 7.1, 5.7, 6.5, 6.6, 6.6, 6.9, 6.9, 6.9, 6.9, 6.9, 6.9, 6.9, 6.9, 6.3, 6.3, 6.1, 6.1, 6.1, 6.1, 6.1, 6.4, 6.4, 6.4, 7.0, 7.0, 7.0, 7.0, 7.0, 6.5, 6.4, 6.4, 6.4, 6.4, 6.6, 6.6, 6.6, 6.9, 6.9, 6.9, 6.9, 6.4, 6.4, 6.4, 6.4, 6.4, 6.4, 6.4, 6.4, 6.2, 6.2, 6.6, 6.6, 6.6, 6.1, 6.7, 6.7, 6.7, 5.8, 6.8, 6.8, 6.8, 6.8, 6.8, 5.7, 6.5, 5.5, 5.5, 6.7, 6.7, 6.7, 6.5, 6.5, 7.0, 7.0, 6.3, 6.3, 6.3, 6.3, 6.3, 6.2, 6.2, 6.3, 6.3, 6.3, 6.3, 5.9, 5.9, 6.2, 6.8, 7.2, 7.2, 7.2, 7.2, 6.2, 6.2, 6.2, 6.4, 6.4, 6.6, 6.6, 7.0, 7.0, 7.0, 7.0, 7.0, 7.0, 7.0, 7.0, 6.1, 6.7, 6.7, 6.1, 6.8, 5.6, 6.8, 6.8, 5.8, 6.4, 6.4, 6.4, 6.4, 6.8, 6.8, 6.8, 5.6, 5.2, 6.0, 6.0, 6.4, 6.4, 6.4, 6.4, 6.6, 6.6, 6.9, 6.9, 6.9, 5.8, 5.8, 5.8, 5.9, 5.9, 5.8, 5.8, 5.8, 6.2, 6.2, 6.9, 6.9, 6.9, 6.9, 6.9, 6.9, 7.6, 7.6, 6.7, 6.1, 6.1, 6.1, 6.7, 6.7, 6.7, 6.7, 6.7, 6.5, 7.1, 7.1, 7.1, 7.1, 6.4, 6.4, 6.4, 6.4, 6.4, 6.5, 6.5, 6.5, 6.0, 6.0, 6.0, 6.5, 6.5, 6.5, 6.5, 6.2, 6.2, 6.2, 5.8, 5.8, 5.8, 6.4, 6.4, 6.8, 6.8, 6.8, 6.8, 6.6, 6.6, 6.7, 6.7, 6.7, 6.7, 6.2, 5.7, 6.5, 6.5, 6.5, 6.5, 6.5, 6.7, 6.7, 6.7, 6.7, 6.3, 6.7, 7.2, 7.2, 7.2, 6.8, 7.8, 7.8, 7.8, 6.1, 6.1, 6.1, 7.4, 7.4, 6.2, 7.2, 7.2, 7.2, 7.2, 7.4, 7.4, 6.5, 6.7, 6.7, 6.7, 7.1, 6.4, 6.4, 6.4, 6.4, 6.4, 6.4, 6.5, 5.7, 5.7, 6.3, 6.3, 6.3, 6.1, 7.1, 6.5, 6.0, 6.0, 7.1, 7.1, 7.1, 7.1, 7.1, 6.9, 6.2, 6.2, 6.2, 5.6, 5.6, 7.8, 7.8, 7.8]}, {\"name\": \"IMDB ratings|TV\", \"type\": \"histogram\", \"x\": [9.3, 9.3, 9.3, 8.1, 8.1, 8.2, 8.2, 8.8, 8.8, 8.8, 7.7, 7.7, 7.7, 7.7, 9.2, 9.2, 9.2, 9.2, 8.2, 8.2, 7.6, 7.6, 8.5, 8.5, 7.8, 7.8, 7.8, 7.8, 7.8, 7.9, 7.9, 7.9, 8.2, 8.2, 8.2, 8.0, 8.0, 7.8, 8.6, 8.6, 8.6, 8.6, 8.6, 8.6, 8.2, 7.8, 7.8, 7.8, 7.8, 7.8, 7.8, 8.4, 8.4, 7.5, 7.5, 7.5, 7.5, 7.5, 8.0, 8.0, 8.0, 8.2, 8.2, 8.2, 8.2, 8.5, 8.5, 8.5, 8.5, 8.5, 8.5, 7.3, 8.0, 8.0, 8.0, 8.0, 8.0, 8.5, 8.5, 7.0, 8.2, 8.2, 6.9, 6.9, 6.9, 6.9, 8.8, 8.8, 8.8, 8.8, 8.5, 8.5, 8.5, 8.5, 7.4, 7.4, 7.4, 6.7, 6.7, 8.1, 8.1, 8.1, 8.1, 8.9, 8.9, 7.4, 8.4, 8.4, 8.5, 8.5, 8.5, 8.4, 8.4, 8.4, 8.4, 8.4, 6.3, 6.3, 6.3, 8.8, 7.8, 7.8, 7.8, 8.6, 8.6, 7.7, 7.7, 7.7, 7.7, 7.7, 7.7, 7.6, 7.6, 7.6, 7.6, 7.6, 7.6, 8.0, 8.0, 8.0, 8.4, 8.4, 8.4, 8.4, 9.2, 9.2, 9.2, 9.2, 9.2, 9.2, 8.7, 8.7, 7.6, 7.6, 7.6, 7.6, 7.6, 7.6, 8.0, 8.0, 8.0, 8.0, 7.7, 7.7, 7.0, 7.0, 7.0, 7.0, 7.0, 8.3, 8.3, 9.0, 9.0, 9.0, 9.0, 8.1, 8.1, 8.6, 8.6, 8.6, 8.1, 8.1, 6.9, 6.9, 6.9, 6.9, 8.7, 8.7, 7.3, 8.1, 8.1, 8.1, 7.9, 7.9, 7.9, 7.9, 9.5, 9.5, 9.5, 7.4, 7.4, 8.7, 8.7, 8.7, 8.3, 8.3, 8.3, 8.3, 8.3, 8.9, 7.5, 7.5, 7.5, 7.9, 7.9, 7.9, 7.5, 7.5, 7.5, 8.7, 8.7, 8.1, 8.1, 6.8, 6.8, 7.8, 7.8, 7.8, 7.3, 7.3, 7.3, 6.7, 6.7, 8.6, 7.6, 7.6, 7.6, 7.4, 7.4, 7.4, 0.0, 0.0, 7.6, 8.5, 8.5, 7.9, 7.9, 7.7, 6.6, 6.6, 6.6, 8.3, 8.3, 7.3, 7.3, 7.3, 7.5, 7.5, 8.2, 8.2, 8.2, 8.2, 8.2, 8.2, 8.2, 7.7, 7.7, 7.7, 7.1, 7.1, 8.6, 8.6, 4.5, 4.5, 8.7, 8.7, 8.1, 8.4, 8.4, 8.4, 8.4, 8.4, 8.4, 8.4, 7.7, 7.7, 7.7, 8.1, 8.1, 8.1, 8.1, 7.3, 7.3, 7.3, 7.3, 7.3, 8.6, 6.7, 6.7, 6.7, 6.7, 8.3, 8.3, 8.3, 7.5, 6.1, 6.1, 6.1, 5.1, 8.7, 8.7, 7.7, 7.7, 7.4, 7.4, 7.4, 6.7, 6.7, 6.7, 6.7, 8.0, 8.0, 8.0, 8.0, 7.8, 7.8, 7.8, 7.8, 7.8, 7.8, 8.6, 8.6, 7.1, 8.6, 8.6, 8.6, 8.0, 8.0, 8.0, 8.0, 8.0, 6.7, 8.0, 8.0, 8.0, 8.0, 3.5, 8.1, 8.1, 8.1, 7.9, 7.2, 7.2, 7.7, 7.7, 7.7, 7.3, 7.3, 7.3, 7.3, 8.6, 8.6, 8.6, 6.6, 6.6, 6.6, 7.5, 7.5, 7.5, 7.5, 7.5, 8.8, 8.8, 8.8, 8.5, 7.9, 7.9, 7.9, 7.9, 7.9, 9.1, 9.1, 9.1, 7.8, 0.0, 0.0, 6.5, 6.5, 6.5, 6.5, 8.3, 8.3, 8.3, 8.3, 8.3, 8.3, 8.3, 7.6, 7.6, 8.8, 7.5, 7.5, 7.0, 7.0, 7.0, 6.2, 6.2, 6.2, 6.2, 6.4, 6.4, 6.4, 6.4, 7.5, 7.5, 7.5, 8.4, 8.4, 8.4, 8.4, 8.4, 8.4, 8.4, 8.8, 8.8, 8.8, 7.8, 7.8, 8.5, 6.5, 6.5, 6.5, 6.5, 8.5, 8.5, 2.8, 2.8, 3.4, 3.4, 3.4, 7.0, 7.0, 8.1, 8.1, 7.8, 8.4, 8.4, 8.4, 8.3, 8.3, 8.3, 7.7, 6.4, 6.8, 6.8, 6.8, 8.4, 8.3, 4.3, 4.3, 6.4, 7.9, 7.4, 7.4, 7.4, 7.4, 7.4, 8.3, 8.3, 8.3, 7.4, 7.4, 7.4, 6.7, 8.7, 8.7, 8.7, 8.7, 5.2, 5.2, 5.2, 7.0, 7.0, 7.0, 7.2, 7.2, 7.2, 6.2, 6.2, 6.2, 6.2, 6.2, 6.2, 6.9, 6.9, 5.9, 7.0, 9.2, 9.2, 5.7, 5.7, 5.7, 7.6, 7.6, 7.6, 7.6, 7.6, 8.7, 8.7, 8.2, 8.2, 8.2, 8.2, 8.2, 8.4, 8.4, 8.4, 8.9, 8.9, 8.9, 8.9, 8.9, 7.8, 8.6, 8.6, 8.6, 8.6, 7.4, 7.4, 7.4, 7.7, 7.7, 7.7, 7.7, 7.6, 7.6, 8.6, 8.6, 8.6, 6.0, 6.0, 6.0, 8.3, 8.3, 7.2, 7.2, 7.2, 8.7, 8.4, 8.4, 8.4, 7.2, 8.6, 8.6, 8.6, 8.6, 8.6, 7.9, 8.0, 8.1, 8.1, 7.2, 7.5, 7.5, 7.9, 7.9, 8.0, 8.0, 6.9, 6.9, 6.9, 6.9, 6.9, 8.0, 8.0, 7.8, 7.8, 7.8, 7.8, 6.6, 6.6, 7.8, 8.7, 8.6, 8.6, 8.6, 8.6, 8.1, 8.1, 8.1, 6.9, 6.9, 6.7, 6.7, 8.8, 8.8, 8.8, 8.8, 8.8, 8.8, 8.4, 8.4, 8.0, 8.5, 8.5, 0.0, 7.3, 6.1, 6.8, 6.8, 7.3, 8.1, 8.1, 8.1, 8.1, 7.2, 7.2, 7.2, 6.6, 6.6, 7.5, 7.5, 7.3, 7.3, 7.3, 7.3, 7.0, 7.0, 7.2, 7.2, 7.2, 7.1, 7.1, 4.3, 5.5, 5.5, 7.0, 7.0, 7.0, 6.0, 6.0, 7.4, 7.4, 7.4, 7.4, 7.4, 7.4, 8.7, 8.7, 7.8, 8.2, 8.2, 8.2, 7.6, 7.6, 7.6, 7.6, 7.6, 8.4, 8.1, 8.1, 8.1, 8.1, 8.0, 8.0, 8.0, 8.0, 8.0, 6.1, 6.1, 6.1, 7.0, 7.0, 7.0, 7.0, 7.0, 7.0, 7.0, 6.8, 6.8, 6.8, 8.3, 8.3, 8.3, 7.8, 7.8, 8.4, 8.4, 8.4, 4.6, 8.2, 8.2, 7.4, 7.4, 7.4, 7.4, 7.6, 7.6, 8.7, 8.7, 8.3, 8.3, 8.3, 8.4, 8.4, 8.4, 8.4, 8.2, 7.9, 8.2, 8.2, 8.2, 7.4, 8.4, 8.4, 8.4, 8.0, 8.0, 8.0, 7.6, 7.6, 8.0, 7.9, 7.9, 7.9, 7.9, 7.1, 7.1, 7.6, 7.4, 7.4, 7.4, 7.5, 8.3, 8.3, 8.3, 8.3, 8.3, 8.3, 8.6, 7.4, 7.4, 7.1, 7.1, 7.1, 8.1, 8.1, 7.9, 4.6, 4.6, 8.2, 8.2, 8.2, 8.2, 8.2, 8.7, 9.3, 9.3, 9.3, 6.6, 6.6, 8.1, 8.1, 8.4]}, {\"mode\": \"text\", \"showlegend\": false, \"text\": [\"IMDB Median TV\", \"Site Ratings Median TV\"], \"type\": \"scatter\", \"x\": [5.6000000000000005, 8.8], \"y\": [165, 165]}],\n",
       "                        {\"shapes\": [{\"line\": {\"color\": \"LightSeaGreen\", \"dash\": \"dashdot\", \"width\": 4}, \"type\": \"line\", \"x0\": 6.4, \"x1\": 6.4, \"y0\": 0, \"y1\": 170}, {\"line\": {\"dash\": \"dot\", \"width\": 4}, \"type\": \"line\", \"x0\": 7.9, \"x1\": 7.9, \"y0\": 0, \"y1\": 170}], \"template\": {\"data\": {\"bar\": [{\"error_x\": {\"color\": \"#2a3f5f\"}, \"error_y\": {\"color\": \"#2a3f5f\"}, \"marker\": {\"line\": {\"color\": \"#E5ECF6\", \"width\": 0.5}}, \"type\": \"bar\"}], \"barpolar\": [{\"marker\": {\"line\": {\"color\": \"#E5ECF6\", \"width\": 0.5}}, \"type\": \"barpolar\"}], \"carpet\": [{\"aaxis\": {\"endlinecolor\": \"#2a3f5f\", \"gridcolor\": \"white\", \"linecolor\": \"white\", \"minorgridcolor\": \"white\", \"startlinecolor\": \"#2a3f5f\"}, \"baxis\": {\"endlinecolor\": \"#2a3f5f\", \"gridcolor\": \"white\", \"linecolor\": \"white\", \"minorgridcolor\": \"white\", \"startlinecolor\": \"#2a3f5f\"}, \"type\": \"carpet\"}], \"choropleth\": [{\"colorbar\": {\"outlinewidth\": 0, \"ticks\": \"\"}, \"type\": \"choropleth\"}], \"contour\": [{\"colorbar\": {\"outlinewidth\": 0, \"ticks\": \"\"}, \"colorscale\": [[0.0, \"#0d0887\"], [0.1111111111111111, \"#46039f\"], [0.2222222222222222, \"#7201a8\"], [0.3333333333333333, \"#9c179e\"], [0.4444444444444444, \"#bd3786\"], [0.5555555555555556, \"#d8576b\"], [0.6666666666666666, \"#ed7953\"], [0.7777777777777778, \"#fb9f3a\"], [0.8888888888888888, \"#fdca26\"], [1.0, \"#f0f921\"]], \"type\": \"contour\"}], \"contourcarpet\": [{\"colorbar\": {\"outlinewidth\": 0, \"ticks\": \"\"}, \"type\": \"contourcarpet\"}], \"heatmap\": [{\"colorbar\": {\"outlinewidth\": 0, \"ticks\": \"\"}, \"colorscale\": [[0.0, \"#0d0887\"], [0.1111111111111111, \"#46039f\"], [0.2222222222222222, \"#7201a8\"], [0.3333333333333333, \"#9c179e\"], [0.4444444444444444, \"#bd3786\"], [0.5555555555555556, \"#d8576b\"], [0.6666666666666666, \"#ed7953\"], [0.7777777777777778, \"#fb9f3a\"], [0.8888888888888888, \"#fdca26\"], [1.0, \"#f0f921\"]], \"type\": \"heatmap\"}], \"heatmapgl\": [{\"colorbar\": {\"outlinewidth\": 0, \"ticks\": \"\"}, \"colorscale\": [[0.0, \"#0d0887\"], [0.1111111111111111, \"#46039f\"], [0.2222222222222222, \"#7201a8\"], [0.3333333333333333, \"#9c179e\"], [0.4444444444444444, \"#bd3786\"], [0.5555555555555556, \"#d8576b\"], [0.6666666666666666, \"#ed7953\"], [0.7777777777777778, \"#fb9f3a\"], [0.8888888888888888, \"#fdca26\"], [1.0, \"#f0f921\"]], \"type\": \"heatmapgl\"}], \"histogram\": [{\"marker\": {\"colorbar\": {\"outlinewidth\": 0, \"ticks\": \"\"}}, \"type\": \"histogram\"}], \"histogram2d\": [{\"colorbar\": {\"outlinewidth\": 0, \"ticks\": \"\"}, \"colorscale\": [[0.0, \"#0d0887\"], [0.1111111111111111, \"#46039f\"], [0.2222222222222222, \"#7201a8\"], [0.3333333333333333, \"#9c179e\"], [0.4444444444444444, \"#bd3786\"], [0.5555555555555556, \"#d8576b\"], [0.6666666666666666, \"#ed7953\"], [0.7777777777777778, \"#fb9f3a\"], [0.8888888888888888, \"#fdca26\"], [1.0, \"#f0f921\"]], \"type\": \"histogram2d\"}], \"histogram2dcontour\": [{\"colorbar\": {\"outlinewidth\": 0, \"ticks\": \"\"}, \"colorscale\": [[0.0, \"#0d0887\"], [0.1111111111111111, \"#46039f\"], [0.2222222222222222, \"#7201a8\"], [0.3333333333333333, \"#9c179e\"], [0.4444444444444444, \"#bd3786\"], [0.5555555555555556, \"#d8576b\"], [0.6666666666666666, \"#ed7953\"], [0.7777777777777778, \"#fb9f3a\"], [0.8888888888888888, \"#fdca26\"], [1.0, \"#f0f921\"]], \"type\": \"histogram2dcontour\"}], \"mesh3d\": [{\"colorbar\": {\"outlinewidth\": 0, \"ticks\": \"\"}, \"type\": \"mesh3d\"}], \"parcoords\": [{\"line\": {\"colorbar\": {\"outlinewidth\": 0, \"ticks\": \"\"}}, \"type\": \"parcoords\"}], \"pie\": [{\"automargin\": true, \"type\": \"pie\"}], \"scatter\": [{\"marker\": {\"colorbar\": {\"outlinewidth\": 0, \"ticks\": \"\"}}, \"type\": \"scatter\"}], \"scatter3d\": [{\"line\": {\"colorbar\": {\"outlinewidth\": 0, \"ticks\": \"\"}}, \"marker\": {\"colorbar\": {\"outlinewidth\": 0, \"ticks\": \"\"}}, \"type\": \"scatter3d\"}], \"scattercarpet\": [{\"marker\": {\"colorbar\": {\"outlinewidth\": 0, \"ticks\": \"\"}}, \"type\": \"scattercarpet\"}], \"scattergeo\": [{\"marker\": {\"colorbar\": {\"outlinewidth\": 0, \"ticks\": \"\"}}, \"type\": \"scattergeo\"}], \"scattergl\": [{\"marker\": {\"colorbar\": {\"outlinewidth\": 0, \"ticks\": \"\"}}, \"type\": \"scattergl\"}], \"scattermapbox\": [{\"marker\": {\"colorbar\": {\"outlinewidth\": 0, \"ticks\": \"\"}}, \"type\": \"scattermapbox\"}], \"scatterpolar\": [{\"marker\": {\"colorbar\": {\"outlinewidth\": 0, \"ticks\": \"\"}}, \"type\": \"scatterpolar\"}], \"scatterpolargl\": [{\"marker\": {\"colorbar\": {\"outlinewidth\": 0, \"ticks\": \"\"}}, \"type\": \"scatterpolargl\"}], \"scatterternary\": [{\"marker\": {\"colorbar\": {\"outlinewidth\": 0, \"ticks\": \"\"}}, \"type\": \"scatterternary\"}], \"surface\": [{\"colorbar\": {\"outlinewidth\": 0, \"ticks\": \"\"}, \"colorscale\": [[0.0, \"#0d0887\"], [0.1111111111111111, \"#46039f\"], [0.2222222222222222, \"#7201a8\"], [0.3333333333333333, \"#9c179e\"], [0.4444444444444444, \"#bd3786\"], [0.5555555555555556, \"#d8576b\"], [0.6666666666666666, \"#ed7953\"], [0.7777777777777778, \"#fb9f3a\"], [0.8888888888888888, \"#fdca26\"], [1.0, \"#f0f921\"]], \"type\": \"surface\"}], \"table\": [{\"cells\": {\"fill\": {\"color\": \"#EBF0F8\"}, \"line\": {\"color\": \"white\"}}, \"header\": {\"fill\": {\"color\": \"#C8D4E3\"}, \"line\": {\"color\": \"white\"}}, \"type\": \"table\"}]}, \"layout\": {\"annotationdefaults\": {\"arrowcolor\": \"#2a3f5f\", \"arrowhead\": 0, \"arrowwidth\": 1}, \"coloraxis\": {\"colorbar\": {\"outlinewidth\": 0, \"ticks\": \"\"}}, \"colorscale\": {\"diverging\": [[0, \"#8e0152\"], [0.1, \"#c51b7d\"], [0.2, \"#de77ae\"], [0.3, \"#f1b6da\"], [0.4, \"#fde0ef\"], [0.5, \"#f7f7f7\"], [0.6, \"#e6f5d0\"], [0.7, \"#b8e186\"], [0.8, \"#7fbc41\"], [0.9, \"#4d9221\"], [1, \"#276419\"]], \"sequential\": [[0.0, \"#0d0887\"], [0.1111111111111111, \"#46039f\"], [0.2222222222222222, \"#7201a8\"], [0.3333333333333333, \"#9c179e\"], [0.4444444444444444, \"#bd3786\"], [0.5555555555555556, \"#d8576b\"], [0.6666666666666666, \"#ed7953\"], [0.7777777777777778, \"#fb9f3a\"], [0.8888888888888888, \"#fdca26\"], [1.0, \"#f0f921\"]], \"sequentialminus\": [[0.0, \"#0d0887\"], [0.1111111111111111, \"#46039f\"], [0.2222222222222222, \"#7201a8\"], [0.3333333333333333, \"#9c179e\"], [0.4444444444444444, \"#bd3786\"], [0.5555555555555556, \"#d8576b\"], [0.6666666666666666, \"#ed7953\"], [0.7777777777777778, \"#fb9f3a\"], [0.8888888888888888, \"#fdca26\"], [1.0, \"#f0f921\"]]}, \"colorway\": [\"#636efa\", \"#EF553B\", \"#00cc96\", \"#ab63fa\", \"#FFA15A\", \"#19d3f3\", \"#FF6692\", \"#B6E880\", \"#FF97FF\", \"#FECB52\"], \"font\": {\"color\": \"#2a3f5f\"}, \"geo\": {\"bgcolor\": \"white\", \"lakecolor\": \"white\", \"landcolor\": \"#E5ECF6\", \"showlakes\": true, \"showland\": true, \"subunitcolor\": \"white\"}, \"hoverlabel\": {\"align\": \"left\"}, \"hovermode\": \"closest\", \"mapbox\": {\"style\": \"light\"}, \"paper_bgcolor\": \"white\", \"plot_bgcolor\": \"#E5ECF6\", \"polar\": {\"angularaxis\": {\"gridcolor\": \"white\", \"linecolor\": \"white\", \"ticks\": \"\"}, \"bgcolor\": \"#E5ECF6\", \"radialaxis\": {\"gridcolor\": \"white\", \"linecolor\": \"white\", \"ticks\": \"\"}}, \"scene\": {\"xaxis\": {\"backgroundcolor\": \"#E5ECF6\", \"gridcolor\": \"white\", \"gridwidth\": 2, \"linecolor\": \"white\", \"showbackground\": true, \"ticks\": \"\", \"zerolinecolor\": \"white\"}, \"yaxis\": {\"backgroundcolor\": \"#E5ECF6\", \"gridcolor\": \"white\", \"gridwidth\": 2, \"linecolor\": \"white\", \"showbackground\": true, \"ticks\": \"\", \"zerolinecolor\": \"white\"}, \"zaxis\": {\"backgroundcolor\": \"#E5ECF6\", \"gridcolor\": \"white\", \"gridwidth\": 2, \"linecolor\": \"white\", \"showbackground\": true, \"ticks\": \"\", \"zerolinecolor\": \"white\"}}, \"shapedefaults\": {\"line\": {\"color\": \"#2a3f5f\"}}, \"ternary\": {\"aaxis\": {\"gridcolor\": \"white\", \"linecolor\": \"white\", \"ticks\": \"\"}, \"baxis\": {\"gridcolor\": \"white\", \"linecolor\": \"white\", \"ticks\": \"\"}, \"bgcolor\": \"#E5ECF6\", \"caxis\": {\"gridcolor\": \"white\", \"linecolor\": \"white\", \"ticks\": \"\"}}, \"title\": {\"x\": 0.05}, \"xaxis\": {\"automargin\": true, \"gridcolor\": \"white\", \"linecolor\": \"white\", \"ticks\": \"\", \"title\": {\"standoff\": 15}, \"zerolinecolor\": \"white\", \"zerolinewidth\": 2}, \"yaxis\": {\"automargin\": true, \"gridcolor\": \"white\", \"linecolor\": \"white\", \"ticks\": \"\", \"title\": {\"standoff\": 15}, \"zerolinecolor\": \"white\", \"zerolinewidth\": 2}}}, \"title\": {\"text\": \"Distribution Plot Local Ratings Vs IMDB |TV\"}},\n",
       "                        {\"responsive\": true}\n",
       "                    ).then(function(){\n",
       "                            \n",
       "var gd = document.getElementById('7d487e94-e9e0-43d9-a3af-ca1e1e06bd6a');\n",
       "var x = new MutationObserver(function (mutations, observer) {{\n",
       "        var display = window.getComputedStyle(gd).display;\n",
       "        if (!display || display === 'none') {{\n",
       "            console.log([gd, 'removed!']);\n",
       "            Plotly.purge(gd);\n",
       "            observer.disconnect();\n",
       "        }}\n",
       "}});\n",
       "\n",
       "// Listen for the removal of the full notebook cells\n",
       "var notebookContainer = gd.closest('#notebook-container');\n",
       "if (notebookContainer) {{\n",
       "    x.observe(notebookContainer, {childList: true});\n",
       "}}\n",
       "\n",
       "// Listen for the clearing of the current output cell\n",
       "var outputEl = gd.closest('.output');\n",
       "if (outputEl) {{\n",
       "    x.observe(outputEl, {childList: true});\n",
       "}}\n",
       "\n",
       "                        })\n",
       "                };\n",
       "                });\n",
       "            </script>\n",
       "        </div>"
      ]
     },
     "metadata": {},
     "output_type": "display_data"
    }
   ],
   "source": [
    "fig = go.Figure()\n",
    "fig.add_trace(go.Histogram(x=tv_df['USER_REVIEWS_LOCAL'], name=\"Local Ratings|TV\"))\n",
    "fig.add_trace(go.Histogram(x=tv_df['IMDB'], name=\"IMDB ratings|TV\"))\n",
    "\n",
    "fig.add_trace(go.Scatter(\n",
    "    x=[imdb_ratings_tv_median-2.3, site_ratings_tv_median + 2.4],\n",
    "    y=[165, 165],\n",
    "    text=[\"IMDB Median TV\",\"Site Ratings Median TV\",],\n",
    "    mode=\"text\",\n",
    "    showlegend=False\n",
    "))\n",
    "\n",
    "fig.add_shape(\n",
    "            type=\"line\",\n",
    "            x0=site_ratings_tv_median,\n",
    "            y0=0,\n",
    "            x1=site_ratings_tv_median,\n",
    "            y1=170,\n",
    "            line=dict(\n",
    "                color=\"LightSeaGreen\",\n",
    "                width=4,\n",
    "                dash=\"dashdot\",\n",
    "            ),\n",
    "    )\n",
    "\n",
    "fig.add_shape(\n",
    "        # Line Horizontal\n",
    "            type=\"line\",\n",
    "            x0=imdb_ratings_tv_median,\n",
    "            y0=0,\n",
    "            x1=imdb_ratings_tv_median,\n",
    "            y1=170,\n",
    "            line=dict(\n",
    "                width=4,\n",
    "                dash=\"dot\",\n",
    "            ),\n",
    "    )\n",
    "fig.update_layout(title=\"Distribution Plot Local Ratings Vs IMDB |TV\")"
   ]
  },
  {
   "cell_type": "markdown",
   "metadata": {},
   "source": [
    "From the distribution it seems 50% of the site ratings are around 6.5 while 8 for imdb "
   ]
  },
  {
   "cell_type": "markdown",
   "metadata": {},
   "source": [
    "#### TVS sorted by Local Ratings\n"
   ]
  },
  {
   "cell_type": "markdown",
   "metadata": {},
   "source": [
    "Lets just follow the similar procedure we followed above."
   ]
  },
  {
   "cell_type": "code",
   "execution_count": 32,
   "metadata": {
    "ExecuteTime": {
     "end_time": "2020-07-15T04:11:59.526564Z",
     "start_time": "2020-07-15T04:11:59.514566Z"
    }
   },
   "outputs": [],
   "source": [
    "site_ratings_tv = tv_df.sort_values('USER_REVIEWS_LOCAL', ascending=False,ignore_index=True)\n"
   ]
  },
  {
   "cell_type": "code",
   "execution_count": 33,
   "metadata": {
    "ExecuteTime": {
     "end_time": "2020-07-15T04:11:59.542564Z",
     "start_time": "2020-07-15T04:11:59.529566Z"
    }
   },
   "outputs": [],
   "source": [
    "site_ratings_tv.drop_duplicates('TV_NAME',inplace=True )\n"
   ]
  },
  {
   "cell_type": "code",
   "execution_count": 34,
   "metadata": {
    "ExecuteTime": {
     "end_time": "2020-07-15T04:11:59.573562Z",
     "start_time": "2020-07-15T04:11:59.545567Z"
    }
   },
   "outputs": [],
   "source": [
    "eval_tv_df= site_ratings_tv[['TV_NAME', 'IMDB','USER_REVIEWS_LOCAL','NUMBER_REVIEWS_LOCAL','SITE_RANK']]\n",
    "eval_tv_df[['IMDB','USER_REVIEWS_LOCAL']] = scaler.fit_transform(eval_tv_df[['IMDB','USER_REVIEWS_LOCAL']])"
   ]
  },
  {
   "cell_type": "code",
   "execution_count": 35,
   "metadata": {
    "ExecuteTime": {
     "end_time": "2020-07-15T04:11:59.589566Z",
     "start_time": "2020-07-15T04:11:59.576565Z"
    }
   },
   "outputs": [],
   "source": [
    "tv_names = eval_tv_df.TV_NAME.values.tolist()\n",
    "tv_imdb_ratings = eval_tv_df.IMDB.values.tolist()\n",
    "tv_local_ratings = eval_tv_df.USER_REVIEWS_LOCAL.values.tolist()\n"
   ]
  },
  {
   "cell_type": "markdown",
   "metadata": {},
   "source": [
    "Plot"
   ]
  },
  {
   "cell_type": "code",
   "execution_count": 36,
   "metadata": {
    "ExecuteTime": {
     "end_time": "2020-07-15T04:11:59.637563Z",
     "start_time": "2020-07-15T04:11:59.592567Z"
    },
    "scrolled": false
   },
   "outputs": [
    {
     "data": {
      "application/vnd.plotly.v1+json": {
       "config": {
        "plotlyServerURL": "https://plot.ly"
       },
       "data": [
        {
         "name": "IMDB Ratings Top 100|TV",
         "type": "bar",
         "x": [
          "What We Do in the Shadows",
          "Saturday Night Live",
          "Ash vs Evil Dead",
          "The Grand Tour",
          "Hell's Kitchen",
          "Project Blue Book",
          "13 Reasons Why",
          "Impractical Jokers",
          "Legion",
          "The X-Files",
          "Daredevil",
          "The OA",
          "The First 48",
          "Harley Quinn",
          "Iron Fist",
          "Sherlock",
          "Shooter",
          "The Amazing World of Gumball",
          "The Rookie",
          "SpongeBob SquarePants",
          "The Goldbergs",
          "The Middle",
          "Salvation",
          "God Friended Me",
          "Lethal Weapon",
          "Archer",
          "Attack on Titan",
          "Better Call Saul",
          "The Neighborhood",
          "Gravity Falls",
          "StartUp",
          "Narcos: Mexico",
          "Westworld",
          "The Orville",
          "The Punisher",
          "True Detective",
          "NCIS: Los Angeles",
          "NCIS",
          "Mr. Robot",
          "Wynonna Earp",
          "Luke Cage",
          "Scream: The TV Series",
          "South Park",
          "Magnum P.I.",
          "The Flash",
          "Chilling Adventures of Sabrina",
          "Timeless",
          "House of Cards",
          "The Walking Dead",
          "Private Eyes",
          "Anne with an E",
          "The Simpsons",
          "Supernatural",
          "It's Always Sunny in Philadelphia",
          "Dark",
          "Star Wars: The Clone Wars",
          "Gold Rush: Alaska",
          "NCIS: New Orleans",
          "Survivor",
          "Blue Bloods",
          "Gotham",
          "Family Guy",
          "American Gods",
          "Doctor Who",
          "Designated Survivor",
          "Dance Moms",
          "Supergirl",
          "The Last Kingdom",
          "Preacher",
          "The Expanse",
          "The Son",
          "Ozark",
          "PAW Patrol",
          "Taken",
          "Killjoys",
          "Young Justice",
          "MacGyver",
          "Futurama",
          "Breaking Bad",
          "Castle Rock",
          "Midnight, Texas",
          "The Fresh Prince of Bel-Air",
          "Arrow",
          "Smallville",
          "The Mick",
          "Avatar: The Last Airbender",
          "Final Space",
          "The Purge",
          "Van Helsing",
          "Martin",
          "Sneaky Pete",
          "Bob's Burgers",
          "\"The Geekly News\" GEEKLY NEWS - SUPERGIRL, CAPTAIN AMERICA 3, ARROW, WOLVERINE and MORE!!!",
          "Peaky Blinders",
          "The Shannara Chronicles",
          "Two and a Half Men",
          "Z Nation",
          "Stranger Things",
          "Riverdale",
          "The Sopranos"
         ],
         "y": [
          0.8842105263157894,
          0.8526315789473683,
          0.8842105263157894,
          0.9157894736842104,
          0.7473684210526315,
          0.7999999999999999,
          0.8210526315789473,
          0.9052631578947368,
          0.8736842105263158,
          0.9052631578947368,
          0.9052631578947368,
          0.8315789473684211,
          0.863157894736842,
          0.8842105263157894,
          0.6842105263157894,
          0.9578947368421051,
          0.7894736842105263,
          0.863157894736842,
          0.8526315789473683,
          0.8526315789473683,
          0.8526315789473683,
          0.7894736842105263,
          0.7368421052631579,
          0.7263157894736842,
          0.8315789473684211,
          0.9052631578947368,
          0.9263157894736842,
          0.9157894736842104,
          0.6736842105263158,
          0.9368421052631579,
          0.8421052631578947,
          0.8842105263157894,
          0.9157894736842104,
          0.8421052631578947,
          0.894736842105263,
          0.9473684210526315,
          0.7052631578947368,
          0.8210526315789473,
          0.894736842105263,
          0.7789473684210526,
          0.7684210526315789,
          0.7578947368421053,
          0.9157894736842104,
          0.6,
          0.8105263157894737,
          0.7999999999999999,
          0.8105263157894737,
          0.9157894736842104,
          0.863157894736842,
          0.7789473684210526,
          0.9157894736842104,
          0.9157894736842104,
          0.8842105263157894,
          0.9263157894736842,
          0.9157894736842104,
          0.863157894736842,
          0.7684210526315789,
          0.7157894736842104,
          0.7578947368421053,
          0.7894736842105263,
          0.8210526315789473,
          0.8526315789473683,
          0.8210526315789473,
          0.9052631578947368,
          0.7894736842105263,
          0.4842105263157894,
          0.6631578947368421,
          0.8842105263157894,
          0.8421052631578947,
          0.894736842105263,
          0.7894736842105263,
          0.8842105263157894,
          0.6526315789473685,
          0.6947368421052631,
          0.7578947368421053,
          0.9052631578947368,
          0.5473684210526316,
          0.8842105263157894,
          1,
          0.7999999999999999,
          0.7789473684210526,
          0.8315789473684211,
          0.7999999999999999,
          0.7789473684210526,
          0.8210526315789473,
          0.9684210526315788,
          0.8736842105263158,
          0.6736842105263158,
          0.6526315789473685,
          0.7789473684210526,
          0.863157894736842,
          0.8526315789473683,
          0,
          0.9263157894736842,
          0.7578947368421053,
          0.7368421052631579,
          0.7052631578947368,
          0.9263157894736842,
          0.7368421052631579,
          0.9684210526315788
         ]
        },
        {
         "name": "Local Ratings Top 100|TV",
         "type": "bar",
         "x": [
          "What We Do in the Shadows",
          "Saturday Night Live",
          "Ash vs Evil Dead",
          "The Grand Tour",
          "Hell's Kitchen",
          "Project Blue Book",
          "13 Reasons Why",
          "Impractical Jokers",
          "Legion",
          "The X-Files",
          "Daredevil",
          "The OA",
          "The First 48",
          "Harley Quinn",
          "Iron Fist",
          "Sherlock",
          "Shooter",
          "The Amazing World of Gumball",
          "The Rookie",
          "SpongeBob SquarePants",
          "The Goldbergs",
          "The Middle",
          "Salvation",
          "God Friended Me",
          "Lethal Weapon",
          "Archer",
          "Attack on Titan",
          "Better Call Saul",
          "The Neighborhood",
          "Gravity Falls",
          "StartUp",
          "Narcos: Mexico",
          "Westworld",
          "The Orville",
          "The Punisher",
          "True Detective",
          "NCIS: Los Angeles",
          "NCIS",
          "Mr. Robot",
          "Wynonna Earp",
          "Luke Cage",
          "Scream: The TV Series",
          "South Park",
          "Magnum P.I.",
          "The Flash",
          "Chilling Adventures of Sabrina",
          "Timeless",
          "House of Cards",
          "The Walking Dead",
          "Private Eyes",
          "Anne with an E",
          "The Simpsons",
          "Supernatural",
          "It's Always Sunny in Philadelphia",
          "Dark",
          "Star Wars: The Clone Wars",
          "Gold Rush: Alaska",
          "NCIS: New Orleans",
          "Survivor",
          "Blue Bloods",
          "Gotham",
          "Family Guy",
          "American Gods",
          "Doctor Who",
          "Designated Survivor",
          "Dance Moms",
          "Supergirl",
          "The Last Kingdom",
          "Preacher",
          "The Expanse",
          "The Son",
          "Ozark",
          "PAW Patrol",
          "Taken",
          "Killjoys",
          "Young Justice",
          "MacGyver",
          "Futurama",
          "Breaking Bad",
          "Castle Rock",
          "Midnight, Texas",
          "The Fresh Prince of Bel-Air",
          "Arrow",
          "Smallville",
          "The Mick",
          "Avatar: The Last Airbender",
          "Final Space",
          "The Purge",
          "Van Helsing",
          "Martin",
          "Sneaky Pete",
          "Bob's Burgers",
          "\"The Geekly News\" GEEKLY NEWS - SUPERGIRL, CAPTAIN AMERICA 3, ARROW, WOLVERINE and MORE!!!",
          "Peaky Blinders",
          "The Shannara Chronicles",
          "Two and a Half Men",
          "Z Nation",
          "Stranger Things",
          "Riverdale",
          "The Sopranos"
         ],
         "y": [
          1,
          1,
          1,
          0.9393939393939394,
          0.8787878787878789,
          0.8787878787878789,
          0.8484848484848482,
          0.8484848484848482,
          0.8181818181818183,
          0.8181818181818183,
          0.8181818181818183,
          0.8181818181818183,
          0.8181818181818183,
          0.7878787878787876,
          0.7878787878787876,
          0.7878787878787876,
          0.7878787878787876,
          0.7878787878787876,
          0.7878787878787876,
          0.7878787878787876,
          0.7878787878787876,
          0.7878787878787876,
          0.7878787878787876,
          0.7878787878787876,
          0.7575757575757573,
          0.7575757575757573,
          0.7575757575757573,
          0.7575757575757573,
          0.7575757575757573,
          0.7575757575757573,
          0.7575757575757573,
          0.7575757575757573,
          0.7272727272727275,
          0.7272727272727275,
          0.7272727272727275,
          0.7272727272727275,
          0.7272727272727275,
          0.7272727272727275,
          0.7272727272727275,
          0.7272727272727275,
          0.7272727272727275,
          0.7272727272727275,
          0.7272727272727275,
          0.7272727272727275,
          0.7272727272727275,
          0.7272727272727275,
          0.7272727272727275,
          0.7272727272727275,
          0.6969696969696968,
          0.6969696969696968,
          0.6969696969696968,
          0.6969696969696968,
          0.6969696969696968,
          0.6969696969696968,
          0.6969696969696968,
          0.6969696969696968,
          0.6969696969696968,
          0.6969696969696968,
          0.6969696969696968,
          0.6969696969696968,
          0.6969696969696968,
          0.6969696969696968,
          0.6969696969696968,
          0.6969696969696968,
          0.6969696969696968,
          0.6969696969696968,
          0.6969696969696968,
          0.6969696969696968,
          0.6666666666666665,
          0.6666666666666665,
          0.6666666666666665,
          0.6666666666666665,
          0.6666666666666665,
          0.6666666666666665,
          0.6666666666666665,
          0.6666666666666665,
          0.6666666666666665,
          0.6666666666666665,
          0.6666666666666665,
          0.6666666666666665,
          0.6666666666666665,
          0.6666666666666665,
          0.6666666666666665,
          0.6666666666666665,
          0.6666666666666665,
          0.6666666666666665,
          0.6363636363636362,
          0.6363636363636362,
          0.6363636363636362,
          0.6363636363636362,
          0.6363636363636362,
          0.6363636363636362,
          0.6363636363636362,
          0.6363636363636362,
          0.6363636363636362,
          0.6363636363636362,
          0.6363636363636362,
          0.6363636363636362,
          0.6363636363636362,
          0.6363636363636362
         ]
        }
       ],
       "layout": {
        "height": 700,
        "template": {
         "data": {
          "bar": [
           {
            "error_x": {
             "color": "#2a3f5f"
            },
            "error_y": {
             "color": "#2a3f5f"
            },
            "marker": {
             "line": {
              "color": "#E5ECF6",
              "width": 0.5
             }
            },
            "type": "bar"
           }
          ],
          "barpolar": [
           {
            "marker": {
             "line": {
              "color": "#E5ECF6",
              "width": 0.5
             }
            },
            "type": "barpolar"
           }
          ],
          "carpet": [
           {
            "aaxis": {
             "endlinecolor": "#2a3f5f",
             "gridcolor": "white",
             "linecolor": "white",
             "minorgridcolor": "white",
             "startlinecolor": "#2a3f5f"
            },
            "baxis": {
             "endlinecolor": "#2a3f5f",
             "gridcolor": "white",
             "linecolor": "white",
             "minorgridcolor": "white",
             "startlinecolor": "#2a3f5f"
            },
            "type": "carpet"
           }
          ],
          "choropleth": [
           {
            "colorbar": {
             "outlinewidth": 0,
             "ticks": ""
            },
            "type": "choropleth"
           }
          ],
          "contour": [
           {
            "colorbar": {
             "outlinewidth": 0,
             "ticks": ""
            },
            "colorscale": [
             [
              0,
              "#0d0887"
             ],
             [
              0.1111111111111111,
              "#46039f"
             ],
             [
              0.2222222222222222,
              "#7201a8"
             ],
             [
              0.3333333333333333,
              "#9c179e"
             ],
             [
              0.4444444444444444,
              "#bd3786"
             ],
             [
              0.5555555555555556,
              "#d8576b"
             ],
             [
              0.6666666666666666,
              "#ed7953"
             ],
             [
              0.7777777777777778,
              "#fb9f3a"
             ],
             [
              0.8888888888888888,
              "#fdca26"
             ],
             [
              1,
              "#f0f921"
             ]
            ],
            "type": "contour"
           }
          ],
          "contourcarpet": [
           {
            "colorbar": {
             "outlinewidth": 0,
             "ticks": ""
            },
            "type": "contourcarpet"
           }
          ],
          "heatmap": [
           {
            "colorbar": {
             "outlinewidth": 0,
             "ticks": ""
            },
            "colorscale": [
             [
              0,
              "#0d0887"
             ],
             [
              0.1111111111111111,
              "#46039f"
             ],
             [
              0.2222222222222222,
              "#7201a8"
             ],
             [
              0.3333333333333333,
              "#9c179e"
             ],
             [
              0.4444444444444444,
              "#bd3786"
             ],
             [
              0.5555555555555556,
              "#d8576b"
             ],
             [
              0.6666666666666666,
              "#ed7953"
             ],
             [
              0.7777777777777778,
              "#fb9f3a"
             ],
             [
              0.8888888888888888,
              "#fdca26"
             ],
             [
              1,
              "#f0f921"
             ]
            ],
            "type": "heatmap"
           }
          ],
          "heatmapgl": [
           {
            "colorbar": {
             "outlinewidth": 0,
             "ticks": ""
            },
            "colorscale": [
             [
              0,
              "#0d0887"
             ],
             [
              0.1111111111111111,
              "#46039f"
             ],
             [
              0.2222222222222222,
              "#7201a8"
             ],
             [
              0.3333333333333333,
              "#9c179e"
             ],
             [
              0.4444444444444444,
              "#bd3786"
             ],
             [
              0.5555555555555556,
              "#d8576b"
             ],
             [
              0.6666666666666666,
              "#ed7953"
             ],
             [
              0.7777777777777778,
              "#fb9f3a"
             ],
             [
              0.8888888888888888,
              "#fdca26"
             ],
             [
              1,
              "#f0f921"
             ]
            ],
            "type": "heatmapgl"
           }
          ],
          "histogram": [
           {
            "marker": {
             "colorbar": {
              "outlinewidth": 0,
              "ticks": ""
             }
            },
            "type": "histogram"
           }
          ],
          "histogram2d": [
           {
            "colorbar": {
             "outlinewidth": 0,
             "ticks": ""
            },
            "colorscale": [
             [
              0,
              "#0d0887"
             ],
             [
              0.1111111111111111,
              "#46039f"
             ],
             [
              0.2222222222222222,
              "#7201a8"
             ],
             [
              0.3333333333333333,
              "#9c179e"
             ],
             [
              0.4444444444444444,
              "#bd3786"
             ],
             [
              0.5555555555555556,
              "#d8576b"
             ],
             [
              0.6666666666666666,
              "#ed7953"
             ],
             [
              0.7777777777777778,
              "#fb9f3a"
             ],
             [
              0.8888888888888888,
              "#fdca26"
             ],
             [
              1,
              "#f0f921"
             ]
            ],
            "type": "histogram2d"
           }
          ],
          "histogram2dcontour": [
           {
            "colorbar": {
             "outlinewidth": 0,
             "ticks": ""
            },
            "colorscale": [
             [
              0,
              "#0d0887"
             ],
             [
              0.1111111111111111,
              "#46039f"
             ],
             [
              0.2222222222222222,
              "#7201a8"
             ],
             [
              0.3333333333333333,
              "#9c179e"
             ],
             [
              0.4444444444444444,
              "#bd3786"
             ],
             [
              0.5555555555555556,
              "#d8576b"
             ],
             [
              0.6666666666666666,
              "#ed7953"
             ],
             [
              0.7777777777777778,
              "#fb9f3a"
             ],
             [
              0.8888888888888888,
              "#fdca26"
             ],
             [
              1,
              "#f0f921"
             ]
            ],
            "type": "histogram2dcontour"
           }
          ],
          "mesh3d": [
           {
            "colorbar": {
             "outlinewidth": 0,
             "ticks": ""
            },
            "type": "mesh3d"
           }
          ],
          "parcoords": [
           {
            "line": {
             "colorbar": {
              "outlinewidth": 0,
              "ticks": ""
             }
            },
            "type": "parcoords"
           }
          ],
          "pie": [
           {
            "automargin": true,
            "type": "pie"
           }
          ],
          "scatter": [
           {
            "marker": {
             "colorbar": {
              "outlinewidth": 0,
              "ticks": ""
             }
            },
            "type": "scatter"
           }
          ],
          "scatter3d": [
           {
            "line": {
             "colorbar": {
              "outlinewidth": 0,
              "ticks": ""
             }
            },
            "marker": {
             "colorbar": {
              "outlinewidth": 0,
              "ticks": ""
             }
            },
            "type": "scatter3d"
           }
          ],
          "scattercarpet": [
           {
            "marker": {
             "colorbar": {
              "outlinewidth": 0,
              "ticks": ""
             }
            },
            "type": "scattercarpet"
           }
          ],
          "scattergeo": [
           {
            "marker": {
             "colorbar": {
              "outlinewidth": 0,
              "ticks": ""
             }
            },
            "type": "scattergeo"
           }
          ],
          "scattergl": [
           {
            "marker": {
             "colorbar": {
              "outlinewidth": 0,
              "ticks": ""
             }
            },
            "type": "scattergl"
           }
          ],
          "scattermapbox": [
           {
            "marker": {
             "colorbar": {
              "outlinewidth": 0,
              "ticks": ""
             }
            },
            "type": "scattermapbox"
           }
          ],
          "scatterpolar": [
           {
            "marker": {
             "colorbar": {
              "outlinewidth": 0,
              "ticks": ""
             }
            },
            "type": "scatterpolar"
           }
          ],
          "scatterpolargl": [
           {
            "marker": {
             "colorbar": {
              "outlinewidth": 0,
              "ticks": ""
             }
            },
            "type": "scatterpolargl"
           }
          ],
          "scatterternary": [
           {
            "marker": {
             "colorbar": {
              "outlinewidth": 0,
              "ticks": ""
             }
            },
            "type": "scatterternary"
           }
          ],
          "surface": [
           {
            "colorbar": {
             "outlinewidth": 0,
             "ticks": ""
            },
            "colorscale": [
             [
              0,
              "#0d0887"
             ],
             [
              0.1111111111111111,
              "#46039f"
             ],
             [
              0.2222222222222222,
              "#7201a8"
             ],
             [
              0.3333333333333333,
              "#9c179e"
             ],
             [
              0.4444444444444444,
              "#bd3786"
             ],
             [
              0.5555555555555556,
              "#d8576b"
             ],
             [
              0.6666666666666666,
              "#ed7953"
             ],
             [
              0.7777777777777778,
              "#fb9f3a"
             ],
             [
              0.8888888888888888,
              "#fdca26"
             ],
             [
              1,
              "#f0f921"
             ]
            ],
            "type": "surface"
           }
          ],
          "table": [
           {
            "cells": {
             "fill": {
              "color": "#EBF0F8"
             },
             "line": {
              "color": "white"
             }
            },
            "header": {
             "fill": {
              "color": "#C8D4E3"
             },
             "line": {
              "color": "white"
             }
            },
            "type": "table"
           }
          ]
         },
         "layout": {
          "annotationdefaults": {
           "arrowcolor": "#2a3f5f",
           "arrowhead": 0,
           "arrowwidth": 1
          },
          "coloraxis": {
           "colorbar": {
            "outlinewidth": 0,
            "ticks": ""
           }
          },
          "colorscale": {
           "diverging": [
            [
             0,
             "#8e0152"
            ],
            [
             0.1,
             "#c51b7d"
            ],
            [
             0.2,
             "#de77ae"
            ],
            [
             0.3,
             "#f1b6da"
            ],
            [
             0.4,
             "#fde0ef"
            ],
            [
             0.5,
             "#f7f7f7"
            ],
            [
             0.6,
             "#e6f5d0"
            ],
            [
             0.7,
             "#b8e186"
            ],
            [
             0.8,
             "#7fbc41"
            ],
            [
             0.9,
             "#4d9221"
            ],
            [
             1,
             "#276419"
            ]
           ],
           "sequential": [
            [
             0,
             "#0d0887"
            ],
            [
             0.1111111111111111,
             "#46039f"
            ],
            [
             0.2222222222222222,
             "#7201a8"
            ],
            [
             0.3333333333333333,
             "#9c179e"
            ],
            [
             0.4444444444444444,
             "#bd3786"
            ],
            [
             0.5555555555555556,
             "#d8576b"
            ],
            [
             0.6666666666666666,
             "#ed7953"
            ],
            [
             0.7777777777777778,
             "#fb9f3a"
            ],
            [
             0.8888888888888888,
             "#fdca26"
            ],
            [
             1,
             "#f0f921"
            ]
           ],
           "sequentialminus": [
            [
             0,
             "#0d0887"
            ],
            [
             0.1111111111111111,
             "#46039f"
            ],
            [
             0.2222222222222222,
             "#7201a8"
            ],
            [
             0.3333333333333333,
             "#9c179e"
            ],
            [
             0.4444444444444444,
             "#bd3786"
            ],
            [
             0.5555555555555556,
             "#d8576b"
            ],
            [
             0.6666666666666666,
             "#ed7953"
            ],
            [
             0.7777777777777778,
             "#fb9f3a"
            ],
            [
             0.8888888888888888,
             "#fdca26"
            ],
            [
             1,
             "#f0f921"
            ]
           ]
          },
          "colorway": [
           "#636efa",
           "#EF553B",
           "#00cc96",
           "#ab63fa",
           "#FFA15A",
           "#19d3f3",
           "#FF6692",
           "#B6E880",
           "#FF97FF",
           "#FECB52"
          ],
          "font": {
           "color": "#2a3f5f"
          },
          "geo": {
           "bgcolor": "white",
           "lakecolor": "white",
           "landcolor": "#E5ECF6",
           "showlakes": true,
           "showland": true,
           "subunitcolor": "white"
          },
          "hoverlabel": {
           "align": "left"
          },
          "hovermode": "closest",
          "mapbox": {
           "style": "light"
          },
          "paper_bgcolor": "white",
          "plot_bgcolor": "#E5ECF6",
          "polar": {
           "angularaxis": {
            "gridcolor": "white",
            "linecolor": "white",
            "ticks": ""
           },
           "bgcolor": "#E5ECF6",
           "radialaxis": {
            "gridcolor": "white",
            "linecolor": "white",
            "ticks": ""
           }
          },
          "scene": {
           "xaxis": {
            "backgroundcolor": "#E5ECF6",
            "gridcolor": "white",
            "gridwidth": 2,
            "linecolor": "white",
            "showbackground": true,
            "ticks": "",
            "zerolinecolor": "white"
           },
           "yaxis": {
            "backgroundcolor": "#E5ECF6",
            "gridcolor": "white",
            "gridwidth": 2,
            "linecolor": "white",
            "showbackground": true,
            "ticks": "",
            "zerolinecolor": "white"
           },
           "zaxis": {
            "backgroundcolor": "#E5ECF6",
            "gridcolor": "white",
            "gridwidth": 2,
            "linecolor": "white",
            "showbackground": true,
            "ticks": "",
            "zerolinecolor": "white"
           }
          },
          "shapedefaults": {
           "line": {
            "color": "#2a3f5f"
           }
          },
          "ternary": {
           "aaxis": {
            "gridcolor": "white",
            "linecolor": "white",
            "ticks": ""
           },
           "baxis": {
            "gridcolor": "white",
            "linecolor": "white",
            "ticks": ""
           },
           "bgcolor": "#E5ECF6",
           "caxis": {
            "gridcolor": "white",
            "linecolor": "white",
            "ticks": ""
           }
          },
          "title": {
           "x": 0.05
          },
          "xaxis": {
           "automargin": true,
           "gridcolor": "white",
           "linecolor": "white",
           "ticks": "",
           "title": {
            "standoff": 15
           },
           "zerolinecolor": "white",
           "zerolinewidth": 2
          },
          "yaxis": {
           "automargin": true,
           "gridcolor": "white",
           "linecolor": "white",
           "ticks": "",
           "title": {
            "standoff": 15
           },
           "zerolinecolor": "white",
           "zerolinewidth": 2
          }
         }
        },
        "title": {
         "text": "IMDB Vs Local Ratings Top 100,|TV |sort Local Ratings"
        },
        "xaxis": {
         "tickangle": -45,
         "title": {
          "text": "TV Shows"
         }
        },
        "yaxis": {
         "title": {
          "text": "Ratings"
         }
        }
       }
      },
      "text/html": [
       "<div>\n",
       "        \n",
       "        \n",
       "            <div id=\"35d52485-e2e7-4e98-a938-6fa3928dec59\" class=\"plotly-graph-div\" style=\"height:700px; width:100%;\"></div>\n",
       "            <script type=\"text/javascript\">\n",
       "                require([\"plotly\"], function(Plotly) {\n",
       "                    window.PLOTLYENV=window.PLOTLYENV || {};\n",
       "                    \n",
       "                if (document.getElementById(\"35d52485-e2e7-4e98-a938-6fa3928dec59\")) {\n",
       "                    Plotly.newPlot(\n",
       "                        '35d52485-e2e7-4e98-a938-6fa3928dec59',\n",
       "                        [{\"name\": \"IMDB Ratings Top 100|TV\", \"type\": \"bar\", \"x\": [\"What We Do in the Shadows\", \"Saturday Night Live\", \"Ash vs Evil Dead\", \"The Grand Tour\", \"Hell's Kitchen\", \"Project Blue Book\", \"13 Reasons Why\", \"Impractical Jokers\", \"Legion\", \"The X-Files\", \"Daredevil\", \"The OA\", \"The First 48\", \"Harley Quinn\", \"Iron Fist\", \"Sherlock\", \"Shooter\", \"The Amazing World of Gumball\", \"The Rookie\", \"SpongeBob SquarePants\", \"The Goldbergs\", \"The Middle\", \"Salvation\", \"God Friended Me\", \"Lethal Weapon\", \"Archer\", \"Attack on Titan\", \"Better Call Saul\", \"The Neighborhood\", \"Gravity Falls\", \"StartUp\", \"Narcos: Mexico\", \"Westworld\", \"The Orville\", \"The Punisher\", \"True Detective\", \"NCIS: Los Angeles\", \"NCIS\", \"Mr. Robot\", \"Wynonna Earp\", \"Luke Cage\", \"Scream: The TV Series\", \"South Park\", \"Magnum P.I.\", \"The Flash\", \"Chilling Adventures of Sabrina\", \"Timeless\", \"House of Cards\", \"The Walking Dead\", \"Private Eyes\", \"Anne with an E\", \"The Simpsons\", \"Supernatural\", \"It's Always Sunny in Philadelphia\", \"Dark\", \"Star Wars: The Clone Wars\", \"Gold Rush: Alaska\", \"NCIS: New Orleans\", \"Survivor\", \"Blue Bloods\", \"Gotham\", \"Family Guy\", \"American Gods\", \"Doctor Who\", \"Designated Survivor\", \"Dance Moms\", \"Supergirl\", \"The Last Kingdom\", \"Preacher\", \"The Expanse\", \"The Son\", \"Ozark\", \"PAW Patrol\", \"Taken\", \"Killjoys\", \"Young Justice\", \"MacGyver\", \"Futurama\", \"Breaking Bad\", \"Castle Rock\", \"Midnight, Texas\", \"The Fresh Prince of Bel-Air\", \"Arrow\", \"Smallville\", \"The Mick\", \"Avatar: The Last Airbender\", \"Final Space\", \"The Purge\", \"Van Helsing\", \"Martin\", \"Sneaky Pete\", \"Bob's Burgers\", \"\\\"The Geekly News\\\" GEEKLY NEWS - SUPERGIRL, CAPTAIN AMERICA 3, ARROW, WOLVERINE and MORE!!!\", \"Peaky Blinders\", \"The Shannara Chronicles\", \"Two and a Half Men\", \"Z Nation\", \"Stranger Things\", \"Riverdale\", \"The Sopranos\"], \"y\": [0.8842105263157894, 0.8526315789473683, 0.8842105263157894, 0.9157894736842104, 0.7473684210526315, 0.7999999999999999, 0.8210526315789473, 0.9052631578947368, 0.8736842105263158, 0.9052631578947368, 0.9052631578947368, 0.8315789473684211, 0.863157894736842, 0.8842105263157894, 0.6842105263157894, 0.9578947368421051, 0.7894736842105263, 0.863157894736842, 0.8526315789473683, 0.8526315789473683, 0.8526315789473683, 0.7894736842105263, 0.7368421052631579, 0.7263157894736842, 0.8315789473684211, 0.9052631578947368, 0.9263157894736842, 0.9157894736842104, 0.6736842105263158, 0.9368421052631579, 0.8421052631578947, 0.8842105263157894, 0.9157894736842104, 0.8421052631578947, 0.894736842105263, 0.9473684210526315, 0.7052631578947368, 0.8210526315789473, 0.894736842105263, 0.7789473684210526, 0.7684210526315789, 0.7578947368421053, 0.9157894736842104, 0.6, 0.8105263157894737, 0.7999999999999999, 0.8105263157894737, 0.9157894736842104, 0.863157894736842, 0.7789473684210526, 0.9157894736842104, 0.9157894736842104, 0.8842105263157894, 0.9263157894736842, 0.9157894736842104, 0.863157894736842, 0.7684210526315789, 0.7157894736842104, 0.7578947368421053, 0.7894736842105263, 0.8210526315789473, 0.8526315789473683, 0.8210526315789473, 0.9052631578947368, 0.7894736842105263, 0.4842105263157894, 0.6631578947368421, 0.8842105263157894, 0.8421052631578947, 0.894736842105263, 0.7894736842105263, 0.8842105263157894, 0.6526315789473685, 0.6947368421052631, 0.7578947368421053, 0.9052631578947368, 0.5473684210526316, 0.8842105263157894, 1.0, 0.7999999999999999, 0.7789473684210526, 0.8315789473684211, 0.7999999999999999, 0.7789473684210526, 0.8210526315789473, 0.9684210526315788, 0.8736842105263158, 0.6736842105263158, 0.6526315789473685, 0.7789473684210526, 0.863157894736842, 0.8526315789473683, 0.0, 0.9263157894736842, 0.7578947368421053, 0.7368421052631579, 0.7052631578947368, 0.9263157894736842, 0.7368421052631579, 0.9684210526315788]}, {\"name\": \"Local Ratings Top 100|TV\", \"type\": \"bar\", \"x\": [\"What We Do in the Shadows\", \"Saturday Night Live\", \"Ash vs Evil Dead\", \"The Grand Tour\", \"Hell's Kitchen\", \"Project Blue Book\", \"13 Reasons Why\", \"Impractical Jokers\", \"Legion\", \"The X-Files\", \"Daredevil\", \"The OA\", \"The First 48\", \"Harley Quinn\", \"Iron Fist\", \"Sherlock\", \"Shooter\", \"The Amazing World of Gumball\", \"The Rookie\", \"SpongeBob SquarePants\", \"The Goldbergs\", \"The Middle\", \"Salvation\", \"God Friended Me\", \"Lethal Weapon\", \"Archer\", \"Attack on Titan\", \"Better Call Saul\", \"The Neighborhood\", \"Gravity Falls\", \"StartUp\", \"Narcos: Mexico\", \"Westworld\", \"The Orville\", \"The Punisher\", \"True Detective\", \"NCIS: Los Angeles\", \"NCIS\", \"Mr. Robot\", \"Wynonna Earp\", \"Luke Cage\", \"Scream: The TV Series\", \"South Park\", \"Magnum P.I.\", \"The Flash\", \"Chilling Adventures of Sabrina\", \"Timeless\", \"House of Cards\", \"The Walking Dead\", \"Private Eyes\", \"Anne with an E\", \"The Simpsons\", \"Supernatural\", \"It's Always Sunny in Philadelphia\", \"Dark\", \"Star Wars: The Clone Wars\", \"Gold Rush: Alaska\", \"NCIS: New Orleans\", \"Survivor\", \"Blue Bloods\", \"Gotham\", \"Family Guy\", \"American Gods\", \"Doctor Who\", \"Designated Survivor\", \"Dance Moms\", \"Supergirl\", \"The Last Kingdom\", \"Preacher\", \"The Expanse\", \"The Son\", \"Ozark\", \"PAW Patrol\", \"Taken\", \"Killjoys\", \"Young Justice\", \"MacGyver\", \"Futurama\", \"Breaking Bad\", \"Castle Rock\", \"Midnight, Texas\", \"The Fresh Prince of Bel-Air\", \"Arrow\", \"Smallville\", \"The Mick\", \"Avatar: The Last Airbender\", \"Final Space\", \"The Purge\", \"Van Helsing\", \"Martin\", \"Sneaky Pete\", \"Bob's Burgers\", \"\\\"The Geekly News\\\" GEEKLY NEWS - SUPERGIRL, CAPTAIN AMERICA 3, ARROW, WOLVERINE and MORE!!!\", \"Peaky Blinders\", \"The Shannara Chronicles\", \"Two and a Half Men\", \"Z Nation\", \"Stranger Things\", \"Riverdale\", \"The Sopranos\"], \"y\": [1.0, 1.0, 1.0, 0.9393939393939394, 0.8787878787878789, 0.8787878787878789, 0.8484848484848482, 0.8484848484848482, 0.8181818181818183, 0.8181818181818183, 0.8181818181818183, 0.8181818181818183, 0.8181818181818183, 0.7878787878787876, 0.7878787878787876, 0.7878787878787876, 0.7878787878787876, 0.7878787878787876, 0.7878787878787876, 0.7878787878787876, 0.7878787878787876, 0.7878787878787876, 0.7878787878787876, 0.7878787878787876, 0.7575757575757573, 0.7575757575757573, 0.7575757575757573, 0.7575757575757573, 0.7575757575757573, 0.7575757575757573, 0.7575757575757573, 0.7575757575757573, 0.7272727272727275, 0.7272727272727275, 0.7272727272727275, 0.7272727272727275, 0.7272727272727275, 0.7272727272727275, 0.7272727272727275, 0.7272727272727275, 0.7272727272727275, 0.7272727272727275, 0.7272727272727275, 0.7272727272727275, 0.7272727272727275, 0.7272727272727275, 0.7272727272727275, 0.7272727272727275, 0.6969696969696968, 0.6969696969696968, 0.6969696969696968, 0.6969696969696968, 0.6969696969696968, 0.6969696969696968, 0.6969696969696968, 0.6969696969696968, 0.6969696969696968, 0.6969696969696968, 0.6969696969696968, 0.6969696969696968, 0.6969696969696968, 0.6969696969696968, 0.6969696969696968, 0.6969696969696968, 0.6969696969696968, 0.6969696969696968, 0.6969696969696968, 0.6969696969696968, 0.6666666666666665, 0.6666666666666665, 0.6666666666666665, 0.6666666666666665, 0.6666666666666665, 0.6666666666666665, 0.6666666666666665, 0.6666666666666665, 0.6666666666666665, 0.6666666666666665, 0.6666666666666665, 0.6666666666666665, 0.6666666666666665, 0.6666666666666665, 0.6666666666666665, 0.6666666666666665, 0.6666666666666665, 0.6666666666666665, 0.6363636363636362, 0.6363636363636362, 0.6363636363636362, 0.6363636363636362, 0.6363636363636362, 0.6363636363636362, 0.6363636363636362, 0.6363636363636362, 0.6363636363636362, 0.6363636363636362, 0.6363636363636362, 0.6363636363636362, 0.6363636363636362, 0.6363636363636362]}],\n",
       "                        {\"height\": 700, \"template\": {\"data\": {\"bar\": [{\"error_x\": {\"color\": \"#2a3f5f\"}, \"error_y\": {\"color\": \"#2a3f5f\"}, \"marker\": {\"line\": {\"color\": \"#E5ECF6\", \"width\": 0.5}}, \"type\": \"bar\"}], \"barpolar\": [{\"marker\": {\"line\": {\"color\": \"#E5ECF6\", \"width\": 0.5}}, \"type\": \"barpolar\"}], \"carpet\": [{\"aaxis\": {\"endlinecolor\": \"#2a3f5f\", \"gridcolor\": \"white\", \"linecolor\": \"white\", \"minorgridcolor\": \"white\", \"startlinecolor\": \"#2a3f5f\"}, \"baxis\": {\"endlinecolor\": \"#2a3f5f\", \"gridcolor\": \"white\", \"linecolor\": \"white\", \"minorgridcolor\": \"white\", \"startlinecolor\": \"#2a3f5f\"}, \"type\": \"carpet\"}], \"choropleth\": [{\"colorbar\": {\"outlinewidth\": 0, \"ticks\": \"\"}, \"type\": \"choropleth\"}], \"contour\": [{\"colorbar\": {\"outlinewidth\": 0, \"ticks\": \"\"}, \"colorscale\": [[0.0, \"#0d0887\"], [0.1111111111111111, \"#46039f\"], [0.2222222222222222, \"#7201a8\"], [0.3333333333333333, \"#9c179e\"], [0.4444444444444444, \"#bd3786\"], [0.5555555555555556, \"#d8576b\"], [0.6666666666666666, \"#ed7953\"], [0.7777777777777778, \"#fb9f3a\"], [0.8888888888888888, \"#fdca26\"], [1.0, \"#f0f921\"]], \"type\": \"contour\"}], \"contourcarpet\": [{\"colorbar\": {\"outlinewidth\": 0, \"ticks\": \"\"}, \"type\": \"contourcarpet\"}], \"heatmap\": [{\"colorbar\": {\"outlinewidth\": 0, \"ticks\": \"\"}, \"colorscale\": [[0.0, \"#0d0887\"], [0.1111111111111111, \"#46039f\"], [0.2222222222222222, \"#7201a8\"], [0.3333333333333333, \"#9c179e\"], [0.4444444444444444, \"#bd3786\"], [0.5555555555555556, \"#d8576b\"], [0.6666666666666666, \"#ed7953\"], [0.7777777777777778, \"#fb9f3a\"], [0.8888888888888888, \"#fdca26\"], [1.0, \"#f0f921\"]], \"type\": \"heatmap\"}], \"heatmapgl\": [{\"colorbar\": {\"outlinewidth\": 0, \"ticks\": \"\"}, \"colorscale\": [[0.0, \"#0d0887\"], [0.1111111111111111, \"#46039f\"], [0.2222222222222222, \"#7201a8\"], [0.3333333333333333, \"#9c179e\"], [0.4444444444444444, \"#bd3786\"], [0.5555555555555556, \"#d8576b\"], [0.6666666666666666, \"#ed7953\"], [0.7777777777777778, \"#fb9f3a\"], [0.8888888888888888, \"#fdca26\"], [1.0, \"#f0f921\"]], \"type\": \"heatmapgl\"}], \"histogram\": [{\"marker\": {\"colorbar\": {\"outlinewidth\": 0, \"ticks\": \"\"}}, \"type\": \"histogram\"}], \"histogram2d\": [{\"colorbar\": {\"outlinewidth\": 0, \"ticks\": \"\"}, \"colorscale\": [[0.0, \"#0d0887\"], [0.1111111111111111, \"#46039f\"], [0.2222222222222222, \"#7201a8\"], [0.3333333333333333, \"#9c179e\"], [0.4444444444444444, \"#bd3786\"], [0.5555555555555556, \"#d8576b\"], [0.6666666666666666, \"#ed7953\"], [0.7777777777777778, \"#fb9f3a\"], [0.8888888888888888, \"#fdca26\"], [1.0, \"#f0f921\"]], \"type\": \"histogram2d\"}], \"histogram2dcontour\": [{\"colorbar\": {\"outlinewidth\": 0, \"ticks\": \"\"}, \"colorscale\": [[0.0, \"#0d0887\"], [0.1111111111111111, \"#46039f\"], [0.2222222222222222, \"#7201a8\"], [0.3333333333333333, \"#9c179e\"], [0.4444444444444444, \"#bd3786\"], [0.5555555555555556, \"#d8576b\"], [0.6666666666666666, \"#ed7953\"], [0.7777777777777778, \"#fb9f3a\"], [0.8888888888888888, \"#fdca26\"], [1.0, \"#f0f921\"]], \"type\": \"histogram2dcontour\"}], \"mesh3d\": [{\"colorbar\": {\"outlinewidth\": 0, \"ticks\": \"\"}, \"type\": \"mesh3d\"}], \"parcoords\": [{\"line\": {\"colorbar\": {\"outlinewidth\": 0, \"ticks\": \"\"}}, \"type\": \"parcoords\"}], \"pie\": [{\"automargin\": true, \"type\": \"pie\"}], \"scatter\": [{\"marker\": {\"colorbar\": {\"outlinewidth\": 0, \"ticks\": \"\"}}, \"type\": \"scatter\"}], \"scatter3d\": [{\"line\": {\"colorbar\": {\"outlinewidth\": 0, \"ticks\": \"\"}}, \"marker\": {\"colorbar\": {\"outlinewidth\": 0, \"ticks\": \"\"}}, \"type\": \"scatter3d\"}], \"scattercarpet\": [{\"marker\": {\"colorbar\": {\"outlinewidth\": 0, \"ticks\": \"\"}}, \"type\": \"scattercarpet\"}], \"scattergeo\": [{\"marker\": {\"colorbar\": {\"outlinewidth\": 0, \"ticks\": \"\"}}, \"type\": \"scattergeo\"}], \"scattergl\": [{\"marker\": {\"colorbar\": {\"outlinewidth\": 0, \"ticks\": \"\"}}, \"type\": \"scattergl\"}], \"scattermapbox\": [{\"marker\": {\"colorbar\": {\"outlinewidth\": 0, \"ticks\": \"\"}}, \"type\": \"scattermapbox\"}], \"scatterpolar\": [{\"marker\": {\"colorbar\": {\"outlinewidth\": 0, \"ticks\": \"\"}}, \"type\": \"scatterpolar\"}], \"scatterpolargl\": [{\"marker\": {\"colorbar\": {\"outlinewidth\": 0, \"ticks\": \"\"}}, \"type\": \"scatterpolargl\"}], \"scatterternary\": [{\"marker\": {\"colorbar\": {\"outlinewidth\": 0, \"ticks\": \"\"}}, \"type\": \"scatterternary\"}], \"surface\": [{\"colorbar\": {\"outlinewidth\": 0, \"ticks\": \"\"}, \"colorscale\": [[0.0, \"#0d0887\"], [0.1111111111111111, \"#46039f\"], [0.2222222222222222, \"#7201a8\"], [0.3333333333333333, \"#9c179e\"], [0.4444444444444444, \"#bd3786\"], [0.5555555555555556, \"#d8576b\"], [0.6666666666666666, \"#ed7953\"], [0.7777777777777778, \"#fb9f3a\"], [0.8888888888888888, \"#fdca26\"], [1.0, \"#f0f921\"]], \"type\": \"surface\"}], \"table\": [{\"cells\": {\"fill\": {\"color\": \"#EBF0F8\"}, \"line\": {\"color\": \"white\"}}, \"header\": {\"fill\": {\"color\": \"#C8D4E3\"}, \"line\": {\"color\": \"white\"}}, \"type\": \"table\"}]}, \"layout\": {\"annotationdefaults\": {\"arrowcolor\": \"#2a3f5f\", \"arrowhead\": 0, \"arrowwidth\": 1}, \"coloraxis\": {\"colorbar\": {\"outlinewidth\": 0, \"ticks\": \"\"}}, \"colorscale\": {\"diverging\": [[0, \"#8e0152\"], [0.1, \"#c51b7d\"], [0.2, \"#de77ae\"], [0.3, \"#f1b6da\"], [0.4, \"#fde0ef\"], [0.5, \"#f7f7f7\"], [0.6, \"#e6f5d0\"], [0.7, \"#b8e186\"], [0.8, \"#7fbc41\"], [0.9, \"#4d9221\"], [1, \"#276419\"]], \"sequential\": [[0.0, \"#0d0887\"], [0.1111111111111111, \"#46039f\"], [0.2222222222222222, \"#7201a8\"], [0.3333333333333333, \"#9c179e\"], [0.4444444444444444, \"#bd3786\"], [0.5555555555555556, \"#d8576b\"], [0.6666666666666666, \"#ed7953\"], [0.7777777777777778, \"#fb9f3a\"], [0.8888888888888888, \"#fdca26\"], [1.0, \"#f0f921\"]], \"sequentialminus\": [[0.0, \"#0d0887\"], [0.1111111111111111, \"#46039f\"], [0.2222222222222222, \"#7201a8\"], [0.3333333333333333, \"#9c179e\"], [0.4444444444444444, \"#bd3786\"], [0.5555555555555556, \"#d8576b\"], [0.6666666666666666, \"#ed7953\"], [0.7777777777777778, \"#fb9f3a\"], [0.8888888888888888, \"#fdca26\"], [1.0, \"#f0f921\"]]}, \"colorway\": [\"#636efa\", \"#EF553B\", \"#00cc96\", \"#ab63fa\", \"#FFA15A\", \"#19d3f3\", \"#FF6692\", \"#B6E880\", \"#FF97FF\", \"#FECB52\"], \"font\": {\"color\": \"#2a3f5f\"}, \"geo\": {\"bgcolor\": \"white\", \"lakecolor\": \"white\", \"landcolor\": \"#E5ECF6\", \"showlakes\": true, \"showland\": true, \"subunitcolor\": \"white\"}, \"hoverlabel\": {\"align\": \"left\"}, \"hovermode\": \"closest\", \"mapbox\": {\"style\": \"light\"}, \"paper_bgcolor\": \"white\", \"plot_bgcolor\": \"#E5ECF6\", \"polar\": {\"angularaxis\": {\"gridcolor\": \"white\", \"linecolor\": \"white\", \"ticks\": \"\"}, \"bgcolor\": \"#E5ECF6\", \"radialaxis\": {\"gridcolor\": \"white\", \"linecolor\": \"white\", \"ticks\": \"\"}}, \"scene\": {\"xaxis\": {\"backgroundcolor\": \"#E5ECF6\", \"gridcolor\": \"white\", \"gridwidth\": 2, \"linecolor\": \"white\", \"showbackground\": true, \"ticks\": \"\", \"zerolinecolor\": \"white\"}, \"yaxis\": {\"backgroundcolor\": \"#E5ECF6\", \"gridcolor\": \"white\", \"gridwidth\": 2, \"linecolor\": \"white\", \"showbackground\": true, \"ticks\": \"\", \"zerolinecolor\": \"white\"}, \"zaxis\": {\"backgroundcolor\": \"#E5ECF6\", \"gridcolor\": \"white\", \"gridwidth\": 2, \"linecolor\": \"white\", \"showbackground\": true, \"ticks\": \"\", \"zerolinecolor\": \"white\"}}, \"shapedefaults\": {\"line\": {\"color\": \"#2a3f5f\"}}, \"ternary\": {\"aaxis\": {\"gridcolor\": \"white\", \"linecolor\": \"white\", \"ticks\": \"\"}, \"baxis\": {\"gridcolor\": \"white\", \"linecolor\": \"white\", \"ticks\": \"\"}, \"bgcolor\": \"#E5ECF6\", \"caxis\": {\"gridcolor\": \"white\", \"linecolor\": \"white\", \"ticks\": \"\"}}, \"title\": {\"x\": 0.05}, \"xaxis\": {\"automargin\": true, \"gridcolor\": \"white\", \"linecolor\": \"white\", \"ticks\": \"\", \"title\": {\"standoff\": 15}, \"zerolinecolor\": \"white\", \"zerolinewidth\": 2}, \"yaxis\": {\"automargin\": true, \"gridcolor\": \"white\", \"linecolor\": \"white\", \"ticks\": \"\", \"title\": {\"standoff\": 15}, \"zerolinecolor\": \"white\", \"zerolinewidth\": 2}}}, \"title\": {\"text\": \"IMDB Vs Local Ratings Top 100,|TV |sort Local Ratings\"}, \"xaxis\": {\"tickangle\": -45, \"title\": {\"text\": \"TV Shows\"}}, \"yaxis\": {\"title\": {\"text\": \"Ratings\"}}},\n",
       "                        {\"responsive\": true}\n",
       "                    ).then(function(){\n",
       "                            \n",
       "var gd = document.getElementById('35d52485-e2e7-4e98-a938-6fa3928dec59');\n",
       "var x = new MutationObserver(function (mutations, observer) {{\n",
       "        var display = window.getComputedStyle(gd).display;\n",
       "        if (!display || display === 'none') {{\n",
       "            console.log([gd, 'removed!']);\n",
       "            Plotly.purge(gd);\n",
       "            observer.disconnect();\n",
       "        }}\n",
       "}});\n",
       "\n",
       "// Listen for the removal of the full notebook cells\n",
       "var notebookContainer = gd.closest('#notebook-container');\n",
       "if (notebookContainer) {{\n",
       "    x.observe(notebookContainer, {childList: true});\n",
       "}}\n",
       "\n",
       "// Listen for the clearing of the current output cell\n",
       "var outputEl = gd.closest('.output');\n",
       "if (outputEl) {{\n",
       "    x.observe(outputEl, {childList: true});\n",
       "}}\n",
       "\n",
       "                        })\n",
       "                };\n",
       "                });\n",
       "            </script>\n",
       "        </div>"
      ]
     },
     "metadata": {},
     "output_type": "display_data"
    }
   ],
   "source": [
    "fig = go.Figure()\n",
    "fig.add_trace(go.Bar(x=tv_names[:100], y= tv_imdb_ratings[:100], name=\"IMDB Ratings Top 100|TV\"))\n",
    "fig.add_trace(go.Bar(x=tv_names[:100], y= tv_local_ratings[:100], name=\"Local Ratings Top 100|TV\"))\n",
    "fig.update_xaxes(tickangle=-45)\n",
    "fig.update_layout(xaxis_title =\"TV Shows\", yaxis_title=\"Ratings\", title=\"IMDB Vs Local Ratings Top 100,|TV |sort Local Ratings\", height=700,)"
   ]
  },
  {
   "cell_type": "code",
   "execution_count": 37,
   "metadata": {
    "ExecuteTime": {
     "end_time": "2020-07-15T04:11:59.684814Z",
     "start_time": "2020-07-15T04:11:59.640567Z"
    },
    "scrolled": false
   },
   "outputs": [
    {
     "data": {
      "application/vnd.plotly.v1+json": {
       "config": {
        "plotlyServerURL": "https://plot.ly"
       },
       "data": [
        {
         "name": "IMDB Ratings Bottom 100|TV",
         "type": "bar",
         "x": [
          "Charmed",
          "New Amsterdam",
          "Friends",
          "Wentworth",
          "Sex Education",
          "Wizards of Waverly Place",
          "Chicago Fire",
          "The Office",
          "The Gifted",
          "The Magicians",
          "Brooklyn Nine-Nine",
          "The Wire",
          "Ray Donovan",
          "Cobra Kai",
          "The Big Bang Theory",
          "Quantico",
          "Black-ish",
          "Prison Break",
          "Mayans M.C.",
          "Strike Back",
          "Suits",
          "Chicago P.D.",
          "Happy!",
          "SEAL Team",
          "The Good Doctor",
          "Empire",
          "How to Get Away with Murder",
          "Money Heist",
          "The Sinner",
          "Big Little Lies",
          "Shameless",
          "2 Broke Girls",
          "S.W.A.T.",
          "Fear the Walking Dead",
          "On My Block",
          "Black Lightning",
          "Bull",
          "Pretty Little Liars",
          "Criminal Minds",
          "How I Met Your Mother",
          "Black Ink Crew: Chicago",
          "Curb Your Enthusiasm",
          "Big Mouth",
          "The Good Place",
          "9-1-1",
          "Siren",
          "Ballers",
          "Scandal",
          "Animal Kingdom",
          "Impulse",
          "Black Mirror",
          "Jane the Virgin",
          "The Handmaid's Tale",
          "Billions",
          "Queen of the South",
          "Bad Girls Club",
          "The Fosters",
          "Runaways",
          "Grown-ish",
          "Knightfall",
          "America's Next Top Model",
          "Keeping Up with the Kardashians",
          "Snowfall",
          "Instinct",
          "New Girl",
          "You",
          "\"The Wendy Williams Show\" Empire #2",
          "Krypton",
          "Orange Is the New Black",
          "Station 19",
          "For The People",
          "Power",
          "RuPaul's Drag Race",
          "The Real Housewives of Atlanta",
          "Chicago Med",
          "Sacred Games",
          "Deep State",
          "Sex and the City",
          "Lost in Space",
          "Claws",
          "Veronica Mars",
          "Grey's Anatomy",
          "Harrow",
          "The Bachelorette",
          "Gossip Girl",
          "Young Sheldon",
          "The Outpost",
          "The Affair",
          "Temptation Island",
          "Ransom",
          "The Resident",
          "Insatiable",
          "Younger",
          "Love Island",
          "The End of the F***ing World",
          "Cloak & Dagger",
          "Dynasty",
          "Succession",
          "Are You the One?",
          "Basketball Wives"
         ],
         "y": [
          0.47368421052631576,
          0.8526315789473683,
          0.9368421052631579,
          0.9052631578947368,
          0.8736842105263158,
          0.7157894736842104,
          0.8315789473684211,
          0.9368421052631579,
          0.7789473684210526,
          0.7999999999999999,
          0.8842105263157894,
          0.9789473684210527,
          0.8736842105263158,
          0.9263157894736842,
          0.8526315789473683,
          0.7052631578947368,
          0.7473684210526315,
          0.8736842105263158,
          0.7894736842105263,
          0.863157894736842,
          0.894736842105263,
          0.8526315789473683,
          0.863157894736842,
          0.7894736842105263,
          0.863157894736842,
          0.7789473684210526,
          0.8526315789473683,
          0.8842105263157894,
          0.8421052631578947,
          0.894736842105263,
          0.9052631578947368,
          0.7052631578947368,
          0.7368421052631579,
          0.7263157894736842,
          0.8526315789473683,
          0.6421052631578946,
          0.7368421052631579,
          0.7789473684210526,
          0.8526315789473683,
          0.8736842105263158,
          0,
          0.9157894736842104,
          0.8421052631578947,
          0.863157894736842,
          0.8105263157894737,
          0.7368421052631579,
          0.7999999999999999,
          0.8105263157894737,
          0.863157894736842,
          0.7894736842105263,
          0.9263157894736842,
          0.8210526315789473,
          0.894736842105263,
          0.8842105263157894,
          0.8315789473684211,
          0.4842105263157894,
          0.8315789473684211,
          0.7368421052631579,
          0.6736842105263158,
          0.7157894736842104,
          0.5789473684210527,
          0.29473684210526313,
          0.8421052631578947,
          0.6947368421052631,
          0.8105263157894737,
          0.8210526315789473,
          0,
          0.7263157894736842,
          0.8526315789473683,
          0.6842105263157894,
          0.7578947368421053,
          0.863157894736842,
          0.894736842105263,
          0.4526315789473684,
          0.7894736842105263,
          0.9157894736842104,
          0.7368421052631579,
          0.7473684210526315,
          0.7684210526315789,
          0.7684210526315789,
          0.8736842105263158,
          0.7999999999999999,
          0.7999999999999999,
          0.3578947368421052,
          0.7789473684210526,
          0.7789473684210526,
          0.6210526315789474,
          0.8315789473684211,
          0.6421052631578946,
          0.6947368421052631,
          0.7999999999999999,
          0.6947368421052631,
          0.8210526315789473,
          0.5368421052631578,
          0.8526315789473683,
          0.7052631578947368,
          0.7684210526315789,
          0.894736842105263,
          0.6947368421052631,
          0.3684210526315789
         ]
        },
        {
         "name": "Local Ratings Bottom 100|TV",
         "type": "bar",
         "x": [
          "Charmed",
          "New Amsterdam",
          "Friends",
          "Wentworth",
          "Sex Education",
          "Wizards of Waverly Place",
          "Chicago Fire",
          "The Office",
          "The Gifted",
          "The Magicians",
          "Brooklyn Nine-Nine",
          "The Wire",
          "Ray Donovan",
          "Cobra Kai",
          "The Big Bang Theory",
          "Quantico",
          "Black-ish",
          "Prison Break",
          "Mayans M.C.",
          "Strike Back",
          "Suits",
          "Chicago P.D.",
          "Happy!",
          "SEAL Team",
          "The Good Doctor",
          "Empire",
          "How to Get Away with Murder",
          "Money Heist",
          "The Sinner",
          "Big Little Lies",
          "Shameless",
          "2 Broke Girls",
          "S.W.A.T.",
          "Fear the Walking Dead",
          "On My Block",
          "Black Lightning",
          "Bull",
          "Pretty Little Liars",
          "Criminal Minds",
          "How I Met Your Mother",
          "Black Ink Crew: Chicago",
          "Curb Your Enthusiasm",
          "Big Mouth",
          "The Good Place",
          "9-1-1",
          "Siren",
          "Ballers",
          "Scandal",
          "Animal Kingdom",
          "Impulse",
          "Black Mirror",
          "Jane the Virgin",
          "The Handmaid's Tale",
          "Billions",
          "Queen of the South",
          "Bad Girls Club",
          "The Fosters",
          "Runaways",
          "Grown-ish",
          "Knightfall",
          "America's Next Top Model",
          "Keeping Up with the Kardashians",
          "Snowfall",
          "Instinct",
          "New Girl",
          "You",
          "\"The Wendy Williams Show\" Empire #2",
          "Krypton",
          "Orange Is the New Black",
          "Station 19",
          "For The People",
          "Power",
          "RuPaul's Drag Race",
          "The Real Housewives of Atlanta",
          "Chicago Med",
          "Sacred Games",
          "Deep State",
          "Sex and the City",
          "Lost in Space",
          "Claws",
          "Veronica Mars",
          "Grey's Anatomy",
          "Harrow",
          "The Bachelorette",
          "Gossip Girl",
          "Young Sheldon",
          "The Outpost",
          "The Affair",
          "Temptation Island",
          "Ransom",
          "The Resident",
          "Insatiable",
          "Younger",
          "Love Island",
          "The End of the F***ing World",
          "Cloak & Dagger",
          "Dynasty",
          "Succession",
          "Are You the One?",
          "Basketball Wives"
         ],
         "y": [
          0.5151515151515151,
          0.5151515151515151,
          0.5151515151515151,
          0.5151515151515151,
          0.5151515151515151,
          0.5151515151515151,
          0.5151515151515151,
          0.5151515151515151,
          0.5151515151515151,
          0.5151515151515151,
          0.5151515151515151,
          0.5151515151515151,
          0.5151515151515151,
          0.5151515151515151,
          0.5151515151515151,
          0.5151515151515151,
          0.5151515151515151,
          0.48484848484848464,
          0.48484848484848464,
          0.48484848484848464,
          0.48484848484848464,
          0.48484848484848464,
          0.48484848484848464,
          0.48484848484848464,
          0.48484848484848464,
          0.48484848484848464,
          0.48484848484848464,
          0.48484848484848464,
          0.48484848484848464,
          0.48484848484848464,
          0.48484848484848464,
          0.48484848484848464,
          0.48484848484848464,
          0.48484848484848464,
          0.48484848484848464,
          0.48484848484848464,
          0.48484848484848464,
          0.48484848484848464,
          0.48484848484848464,
          0.48484848484848464,
          0.48484848484848464,
          0.48484848484848464,
          0.48484848484848464,
          0.48484848484848464,
          0.48484848484848464,
          0.48484848484848464,
          0.48484848484848464,
          0.48484848484848464,
          0.4545454545454546,
          0.4545454545454546,
          0.4545454545454546,
          0.4545454545454546,
          0.4545454545454546,
          0.4545454545454546,
          0.4545454545454546,
          0.4545454545454546,
          0.4545454545454546,
          0.4545454545454546,
          0.4545454545454546,
          0.4242424242424243,
          0.4242424242424243,
          0.4242424242424243,
          0.4242424242424243,
          0.4242424242424243,
          0.4242424242424243,
          0.4242424242424243,
          0.4242424242424243,
          0.4242424242424243,
          0.4242424242424243,
          0.3939393939393938,
          0.3939393939393938,
          0.3939393939393938,
          0.3939393939393938,
          0.3939393939393938,
          0.3939393939393938,
          0.3939393939393938,
          0.3939393939393938,
          0.3939393939393938,
          0.3939393939393938,
          0.3939393939393938,
          0.3939393939393938,
          0.3939393939393938,
          0.36363636363636354,
          0.36363636363636354,
          0.36363636363636354,
          0.36363636363636354,
          0.36363636363636354,
          0.36363636363636354,
          0.33333333333333326,
          0.33333333333333326,
          0.33333333333333326,
          0.33333333333333326,
          0.33333333333333326,
          0.33333333333333326,
          0.303030303030303,
          0.303030303030303,
          0.303030303030303,
          0.2727272727272727,
          0.21212121212121215,
          0
         ]
        }
       ],
       "layout": {
        "height": 700,
        "template": {
         "data": {
          "bar": [
           {
            "error_x": {
             "color": "#2a3f5f"
            },
            "error_y": {
             "color": "#2a3f5f"
            },
            "marker": {
             "line": {
              "color": "#E5ECF6",
              "width": 0.5
             }
            },
            "type": "bar"
           }
          ],
          "barpolar": [
           {
            "marker": {
             "line": {
              "color": "#E5ECF6",
              "width": 0.5
             }
            },
            "type": "barpolar"
           }
          ],
          "carpet": [
           {
            "aaxis": {
             "endlinecolor": "#2a3f5f",
             "gridcolor": "white",
             "linecolor": "white",
             "minorgridcolor": "white",
             "startlinecolor": "#2a3f5f"
            },
            "baxis": {
             "endlinecolor": "#2a3f5f",
             "gridcolor": "white",
             "linecolor": "white",
             "minorgridcolor": "white",
             "startlinecolor": "#2a3f5f"
            },
            "type": "carpet"
           }
          ],
          "choropleth": [
           {
            "colorbar": {
             "outlinewidth": 0,
             "ticks": ""
            },
            "type": "choropleth"
           }
          ],
          "contour": [
           {
            "colorbar": {
             "outlinewidth": 0,
             "ticks": ""
            },
            "colorscale": [
             [
              0,
              "#0d0887"
             ],
             [
              0.1111111111111111,
              "#46039f"
             ],
             [
              0.2222222222222222,
              "#7201a8"
             ],
             [
              0.3333333333333333,
              "#9c179e"
             ],
             [
              0.4444444444444444,
              "#bd3786"
             ],
             [
              0.5555555555555556,
              "#d8576b"
             ],
             [
              0.6666666666666666,
              "#ed7953"
             ],
             [
              0.7777777777777778,
              "#fb9f3a"
             ],
             [
              0.8888888888888888,
              "#fdca26"
             ],
             [
              1,
              "#f0f921"
             ]
            ],
            "type": "contour"
           }
          ],
          "contourcarpet": [
           {
            "colorbar": {
             "outlinewidth": 0,
             "ticks": ""
            },
            "type": "contourcarpet"
           }
          ],
          "heatmap": [
           {
            "colorbar": {
             "outlinewidth": 0,
             "ticks": ""
            },
            "colorscale": [
             [
              0,
              "#0d0887"
             ],
             [
              0.1111111111111111,
              "#46039f"
             ],
             [
              0.2222222222222222,
              "#7201a8"
             ],
             [
              0.3333333333333333,
              "#9c179e"
             ],
             [
              0.4444444444444444,
              "#bd3786"
             ],
             [
              0.5555555555555556,
              "#d8576b"
             ],
             [
              0.6666666666666666,
              "#ed7953"
             ],
             [
              0.7777777777777778,
              "#fb9f3a"
             ],
             [
              0.8888888888888888,
              "#fdca26"
             ],
             [
              1,
              "#f0f921"
             ]
            ],
            "type": "heatmap"
           }
          ],
          "heatmapgl": [
           {
            "colorbar": {
             "outlinewidth": 0,
             "ticks": ""
            },
            "colorscale": [
             [
              0,
              "#0d0887"
             ],
             [
              0.1111111111111111,
              "#46039f"
             ],
             [
              0.2222222222222222,
              "#7201a8"
             ],
             [
              0.3333333333333333,
              "#9c179e"
             ],
             [
              0.4444444444444444,
              "#bd3786"
             ],
             [
              0.5555555555555556,
              "#d8576b"
             ],
             [
              0.6666666666666666,
              "#ed7953"
             ],
             [
              0.7777777777777778,
              "#fb9f3a"
             ],
             [
              0.8888888888888888,
              "#fdca26"
             ],
             [
              1,
              "#f0f921"
             ]
            ],
            "type": "heatmapgl"
           }
          ],
          "histogram": [
           {
            "marker": {
             "colorbar": {
              "outlinewidth": 0,
              "ticks": ""
             }
            },
            "type": "histogram"
           }
          ],
          "histogram2d": [
           {
            "colorbar": {
             "outlinewidth": 0,
             "ticks": ""
            },
            "colorscale": [
             [
              0,
              "#0d0887"
             ],
             [
              0.1111111111111111,
              "#46039f"
             ],
             [
              0.2222222222222222,
              "#7201a8"
             ],
             [
              0.3333333333333333,
              "#9c179e"
             ],
             [
              0.4444444444444444,
              "#bd3786"
             ],
             [
              0.5555555555555556,
              "#d8576b"
             ],
             [
              0.6666666666666666,
              "#ed7953"
             ],
             [
              0.7777777777777778,
              "#fb9f3a"
             ],
             [
              0.8888888888888888,
              "#fdca26"
             ],
             [
              1,
              "#f0f921"
             ]
            ],
            "type": "histogram2d"
           }
          ],
          "histogram2dcontour": [
           {
            "colorbar": {
             "outlinewidth": 0,
             "ticks": ""
            },
            "colorscale": [
             [
              0,
              "#0d0887"
             ],
             [
              0.1111111111111111,
              "#46039f"
             ],
             [
              0.2222222222222222,
              "#7201a8"
             ],
             [
              0.3333333333333333,
              "#9c179e"
             ],
             [
              0.4444444444444444,
              "#bd3786"
             ],
             [
              0.5555555555555556,
              "#d8576b"
             ],
             [
              0.6666666666666666,
              "#ed7953"
             ],
             [
              0.7777777777777778,
              "#fb9f3a"
             ],
             [
              0.8888888888888888,
              "#fdca26"
             ],
             [
              1,
              "#f0f921"
             ]
            ],
            "type": "histogram2dcontour"
           }
          ],
          "mesh3d": [
           {
            "colorbar": {
             "outlinewidth": 0,
             "ticks": ""
            },
            "type": "mesh3d"
           }
          ],
          "parcoords": [
           {
            "line": {
             "colorbar": {
              "outlinewidth": 0,
              "ticks": ""
             }
            },
            "type": "parcoords"
           }
          ],
          "pie": [
           {
            "automargin": true,
            "type": "pie"
           }
          ],
          "scatter": [
           {
            "marker": {
             "colorbar": {
              "outlinewidth": 0,
              "ticks": ""
             }
            },
            "type": "scatter"
           }
          ],
          "scatter3d": [
           {
            "line": {
             "colorbar": {
              "outlinewidth": 0,
              "ticks": ""
             }
            },
            "marker": {
             "colorbar": {
              "outlinewidth": 0,
              "ticks": ""
             }
            },
            "type": "scatter3d"
           }
          ],
          "scattercarpet": [
           {
            "marker": {
             "colorbar": {
              "outlinewidth": 0,
              "ticks": ""
             }
            },
            "type": "scattercarpet"
           }
          ],
          "scattergeo": [
           {
            "marker": {
             "colorbar": {
              "outlinewidth": 0,
              "ticks": ""
             }
            },
            "type": "scattergeo"
           }
          ],
          "scattergl": [
           {
            "marker": {
             "colorbar": {
              "outlinewidth": 0,
              "ticks": ""
             }
            },
            "type": "scattergl"
           }
          ],
          "scattermapbox": [
           {
            "marker": {
             "colorbar": {
              "outlinewidth": 0,
              "ticks": ""
             }
            },
            "type": "scattermapbox"
           }
          ],
          "scatterpolar": [
           {
            "marker": {
             "colorbar": {
              "outlinewidth": 0,
              "ticks": ""
             }
            },
            "type": "scatterpolar"
           }
          ],
          "scatterpolargl": [
           {
            "marker": {
             "colorbar": {
              "outlinewidth": 0,
              "ticks": ""
             }
            },
            "type": "scatterpolargl"
           }
          ],
          "scatterternary": [
           {
            "marker": {
             "colorbar": {
              "outlinewidth": 0,
              "ticks": ""
             }
            },
            "type": "scatterternary"
           }
          ],
          "surface": [
           {
            "colorbar": {
             "outlinewidth": 0,
             "ticks": ""
            },
            "colorscale": [
             [
              0,
              "#0d0887"
             ],
             [
              0.1111111111111111,
              "#46039f"
             ],
             [
              0.2222222222222222,
              "#7201a8"
             ],
             [
              0.3333333333333333,
              "#9c179e"
             ],
             [
              0.4444444444444444,
              "#bd3786"
             ],
             [
              0.5555555555555556,
              "#d8576b"
             ],
             [
              0.6666666666666666,
              "#ed7953"
             ],
             [
              0.7777777777777778,
              "#fb9f3a"
             ],
             [
              0.8888888888888888,
              "#fdca26"
             ],
             [
              1,
              "#f0f921"
             ]
            ],
            "type": "surface"
           }
          ],
          "table": [
           {
            "cells": {
             "fill": {
              "color": "#EBF0F8"
             },
             "line": {
              "color": "white"
             }
            },
            "header": {
             "fill": {
              "color": "#C8D4E3"
             },
             "line": {
              "color": "white"
             }
            },
            "type": "table"
           }
          ]
         },
         "layout": {
          "annotationdefaults": {
           "arrowcolor": "#2a3f5f",
           "arrowhead": 0,
           "arrowwidth": 1
          },
          "coloraxis": {
           "colorbar": {
            "outlinewidth": 0,
            "ticks": ""
           }
          },
          "colorscale": {
           "diverging": [
            [
             0,
             "#8e0152"
            ],
            [
             0.1,
             "#c51b7d"
            ],
            [
             0.2,
             "#de77ae"
            ],
            [
             0.3,
             "#f1b6da"
            ],
            [
             0.4,
             "#fde0ef"
            ],
            [
             0.5,
             "#f7f7f7"
            ],
            [
             0.6,
             "#e6f5d0"
            ],
            [
             0.7,
             "#b8e186"
            ],
            [
             0.8,
             "#7fbc41"
            ],
            [
             0.9,
             "#4d9221"
            ],
            [
             1,
             "#276419"
            ]
           ],
           "sequential": [
            [
             0,
             "#0d0887"
            ],
            [
             0.1111111111111111,
             "#46039f"
            ],
            [
             0.2222222222222222,
             "#7201a8"
            ],
            [
             0.3333333333333333,
             "#9c179e"
            ],
            [
             0.4444444444444444,
             "#bd3786"
            ],
            [
             0.5555555555555556,
             "#d8576b"
            ],
            [
             0.6666666666666666,
             "#ed7953"
            ],
            [
             0.7777777777777778,
             "#fb9f3a"
            ],
            [
             0.8888888888888888,
             "#fdca26"
            ],
            [
             1,
             "#f0f921"
            ]
           ],
           "sequentialminus": [
            [
             0,
             "#0d0887"
            ],
            [
             0.1111111111111111,
             "#46039f"
            ],
            [
             0.2222222222222222,
             "#7201a8"
            ],
            [
             0.3333333333333333,
             "#9c179e"
            ],
            [
             0.4444444444444444,
             "#bd3786"
            ],
            [
             0.5555555555555556,
             "#d8576b"
            ],
            [
             0.6666666666666666,
             "#ed7953"
            ],
            [
             0.7777777777777778,
             "#fb9f3a"
            ],
            [
             0.8888888888888888,
             "#fdca26"
            ],
            [
             1,
             "#f0f921"
            ]
           ]
          },
          "colorway": [
           "#636efa",
           "#EF553B",
           "#00cc96",
           "#ab63fa",
           "#FFA15A",
           "#19d3f3",
           "#FF6692",
           "#B6E880",
           "#FF97FF",
           "#FECB52"
          ],
          "font": {
           "color": "#2a3f5f"
          },
          "geo": {
           "bgcolor": "white",
           "lakecolor": "white",
           "landcolor": "#E5ECF6",
           "showlakes": true,
           "showland": true,
           "subunitcolor": "white"
          },
          "hoverlabel": {
           "align": "left"
          },
          "hovermode": "closest",
          "mapbox": {
           "style": "light"
          },
          "paper_bgcolor": "white",
          "plot_bgcolor": "#E5ECF6",
          "polar": {
           "angularaxis": {
            "gridcolor": "white",
            "linecolor": "white",
            "ticks": ""
           },
           "bgcolor": "#E5ECF6",
           "radialaxis": {
            "gridcolor": "white",
            "linecolor": "white",
            "ticks": ""
           }
          },
          "scene": {
           "xaxis": {
            "backgroundcolor": "#E5ECF6",
            "gridcolor": "white",
            "gridwidth": 2,
            "linecolor": "white",
            "showbackground": true,
            "ticks": "",
            "zerolinecolor": "white"
           },
           "yaxis": {
            "backgroundcolor": "#E5ECF6",
            "gridcolor": "white",
            "gridwidth": 2,
            "linecolor": "white",
            "showbackground": true,
            "ticks": "",
            "zerolinecolor": "white"
           },
           "zaxis": {
            "backgroundcolor": "#E5ECF6",
            "gridcolor": "white",
            "gridwidth": 2,
            "linecolor": "white",
            "showbackground": true,
            "ticks": "",
            "zerolinecolor": "white"
           }
          },
          "shapedefaults": {
           "line": {
            "color": "#2a3f5f"
           }
          },
          "ternary": {
           "aaxis": {
            "gridcolor": "white",
            "linecolor": "white",
            "ticks": ""
           },
           "baxis": {
            "gridcolor": "white",
            "linecolor": "white",
            "ticks": ""
           },
           "bgcolor": "#E5ECF6",
           "caxis": {
            "gridcolor": "white",
            "linecolor": "white",
            "ticks": ""
           }
          },
          "title": {
           "x": 0.05
          },
          "xaxis": {
           "automargin": true,
           "gridcolor": "white",
           "linecolor": "white",
           "ticks": "",
           "title": {
            "standoff": 15
           },
           "zerolinecolor": "white",
           "zerolinewidth": 2
          },
          "yaxis": {
           "automargin": true,
           "gridcolor": "white",
           "linecolor": "white",
           "ticks": "",
           "title": {
            "standoff": 15
           },
           "zerolinecolor": "white",
           "zerolinewidth": 2
          }
         }
        },
        "title": {
         "text": "IMDB Vs Local Ratings Bottom 100,|TV |sort Local Ratings"
        },
        "xaxis": {
         "tickangle": -45,
         "title": {
          "text": "TV Shows"
         }
        },
        "yaxis": {
         "title": {
          "text": "Ratings"
         }
        }
       }
      },
      "text/html": [
       "<div>\n",
       "        \n",
       "        \n",
       "            <div id=\"83202787-e12c-478b-b1d2-8cb53c4e0d46\" class=\"plotly-graph-div\" style=\"height:700px; width:100%;\"></div>\n",
       "            <script type=\"text/javascript\">\n",
       "                require([\"plotly\"], function(Plotly) {\n",
       "                    window.PLOTLYENV=window.PLOTLYENV || {};\n",
       "                    \n",
       "                if (document.getElementById(\"83202787-e12c-478b-b1d2-8cb53c4e0d46\")) {\n",
       "                    Plotly.newPlot(\n",
       "                        '83202787-e12c-478b-b1d2-8cb53c4e0d46',\n",
       "                        [{\"name\": \"IMDB Ratings Bottom 100|TV\", \"type\": \"bar\", \"x\": [\"Charmed\", \"New Amsterdam\", \"Friends\", \"Wentworth\", \"Sex Education\", \"Wizards of Waverly Place\", \"Chicago Fire\", \"The Office\", \"The Gifted\", \"The Magicians\", \"Brooklyn Nine-Nine\", \"The Wire\", \"Ray Donovan\", \"Cobra Kai\", \"The Big Bang Theory\", \"Quantico\", \"Black-ish\", \"Prison Break\", \"Mayans M.C.\", \"Strike Back\", \"Suits\", \"Chicago P.D.\", \"Happy!\", \"SEAL Team\", \"The Good Doctor\", \"Empire\", \"How to Get Away with Murder\", \"Money Heist\", \"The Sinner\", \"Big Little Lies\", \"Shameless\", \"2 Broke Girls\", \"S.W.A.T.\", \"Fear the Walking Dead\", \"On My Block\", \"Black Lightning\", \"Bull\", \"Pretty Little Liars\", \"Criminal Minds\", \"How I Met Your Mother\", \"Black Ink Crew: Chicago\", \"Curb Your Enthusiasm\", \"Big Mouth\", \"The Good Place\", \"9-1-1\", \"Siren\", \"Ballers\", \"Scandal\", \"Animal Kingdom\", \"Impulse\", \"Black Mirror\", \"Jane the Virgin\", \"The Handmaid's Tale\", \"Billions\", \"Queen of the South\", \"Bad Girls Club\", \"The Fosters\", \"Runaways\", \"Grown-ish\", \"Knightfall\", \"America's Next Top Model\", \"Keeping Up with the Kardashians\", \"Snowfall\", \"Instinct\", \"New Girl\", \"You\", \"\\\"The Wendy Williams Show\\\" Empire #2\", \"Krypton\", \"Orange Is the New Black\", \"Station 19\", \"For The People\", \"Power\", \"RuPaul's Drag Race\", \"The Real Housewives of Atlanta\", \"Chicago Med\", \"Sacred Games\", \"Deep State\", \"Sex and the City\", \"Lost in Space\", \"Claws\", \"Veronica Mars\", \"Grey's Anatomy\", \"Harrow\", \"The Bachelorette\", \"Gossip Girl\", \"Young Sheldon\", \"The Outpost\", \"The Affair\", \"Temptation Island\", \"Ransom\", \"The Resident\", \"Insatiable\", \"Younger\", \"Love Island\", \"The End of the F***ing World\", \"Cloak & Dagger\", \"Dynasty\", \"Succession\", \"Are You the One?\", \"Basketball Wives\"], \"y\": [0.47368421052631576, 0.8526315789473683, 0.9368421052631579, 0.9052631578947368, 0.8736842105263158, 0.7157894736842104, 0.8315789473684211, 0.9368421052631579, 0.7789473684210526, 0.7999999999999999, 0.8842105263157894, 0.9789473684210527, 0.8736842105263158, 0.9263157894736842, 0.8526315789473683, 0.7052631578947368, 0.7473684210526315, 0.8736842105263158, 0.7894736842105263, 0.863157894736842, 0.894736842105263, 0.8526315789473683, 0.863157894736842, 0.7894736842105263, 0.863157894736842, 0.7789473684210526, 0.8526315789473683, 0.8842105263157894, 0.8421052631578947, 0.894736842105263, 0.9052631578947368, 0.7052631578947368, 0.7368421052631579, 0.7263157894736842, 0.8526315789473683, 0.6421052631578946, 0.7368421052631579, 0.7789473684210526, 0.8526315789473683, 0.8736842105263158, 0.0, 0.9157894736842104, 0.8421052631578947, 0.863157894736842, 0.8105263157894737, 0.7368421052631579, 0.7999999999999999, 0.8105263157894737, 0.863157894736842, 0.7894736842105263, 0.9263157894736842, 0.8210526315789473, 0.894736842105263, 0.8842105263157894, 0.8315789473684211, 0.4842105263157894, 0.8315789473684211, 0.7368421052631579, 0.6736842105263158, 0.7157894736842104, 0.5789473684210527, 0.29473684210526313, 0.8421052631578947, 0.6947368421052631, 0.8105263157894737, 0.8210526315789473, 0.0, 0.7263157894736842, 0.8526315789473683, 0.6842105263157894, 0.7578947368421053, 0.863157894736842, 0.894736842105263, 0.4526315789473684, 0.7894736842105263, 0.9157894736842104, 0.7368421052631579, 0.7473684210526315, 0.7684210526315789, 0.7684210526315789, 0.8736842105263158, 0.7999999999999999, 0.7999999999999999, 0.3578947368421052, 0.7789473684210526, 0.7789473684210526, 0.6210526315789474, 0.8315789473684211, 0.6421052631578946, 0.6947368421052631, 0.7999999999999999, 0.6947368421052631, 0.8210526315789473, 0.5368421052631578, 0.8526315789473683, 0.7052631578947368, 0.7684210526315789, 0.894736842105263, 0.6947368421052631, 0.3684210526315789]}, {\"name\": \"Local Ratings Bottom 100|TV\", \"type\": \"bar\", \"x\": [\"Charmed\", \"New Amsterdam\", \"Friends\", \"Wentworth\", \"Sex Education\", \"Wizards of Waverly Place\", \"Chicago Fire\", \"The Office\", \"The Gifted\", \"The Magicians\", \"Brooklyn Nine-Nine\", \"The Wire\", \"Ray Donovan\", \"Cobra Kai\", \"The Big Bang Theory\", \"Quantico\", \"Black-ish\", \"Prison Break\", \"Mayans M.C.\", \"Strike Back\", \"Suits\", \"Chicago P.D.\", \"Happy!\", \"SEAL Team\", \"The Good Doctor\", \"Empire\", \"How to Get Away with Murder\", \"Money Heist\", \"The Sinner\", \"Big Little Lies\", \"Shameless\", \"2 Broke Girls\", \"S.W.A.T.\", \"Fear the Walking Dead\", \"On My Block\", \"Black Lightning\", \"Bull\", \"Pretty Little Liars\", \"Criminal Minds\", \"How I Met Your Mother\", \"Black Ink Crew: Chicago\", \"Curb Your Enthusiasm\", \"Big Mouth\", \"The Good Place\", \"9-1-1\", \"Siren\", \"Ballers\", \"Scandal\", \"Animal Kingdom\", \"Impulse\", \"Black Mirror\", \"Jane the Virgin\", \"The Handmaid's Tale\", \"Billions\", \"Queen of the South\", \"Bad Girls Club\", \"The Fosters\", \"Runaways\", \"Grown-ish\", \"Knightfall\", \"America's Next Top Model\", \"Keeping Up with the Kardashians\", \"Snowfall\", \"Instinct\", \"New Girl\", \"You\", \"\\\"The Wendy Williams Show\\\" Empire #2\", \"Krypton\", \"Orange Is the New Black\", \"Station 19\", \"For The People\", \"Power\", \"RuPaul's Drag Race\", \"The Real Housewives of Atlanta\", \"Chicago Med\", \"Sacred Games\", \"Deep State\", \"Sex and the City\", \"Lost in Space\", \"Claws\", \"Veronica Mars\", \"Grey's Anatomy\", \"Harrow\", \"The Bachelorette\", \"Gossip Girl\", \"Young Sheldon\", \"The Outpost\", \"The Affair\", \"Temptation Island\", \"Ransom\", \"The Resident\", \"Insatiable\", \"Younger\", \"Love Island\", \"The End of the F***ing World\", \"Cloak & Dagger\", \"Dynasty\", \"Succession\", \"Are You the One?\", \"Basketball Wives\"], \"y\": [0.5151515151515151, 0.5151515151515151, 0.5151515151515151, 0.5151515151515151, 0.5151515151515151, 0.5151515151515151, 0.5151515151515151, 0.5151515151515151, 0.5151515151515151, 0.5151515151515151, 0.5151515151515151, 0.5151515151515151, 0.5151515151515151, 0.5151515151515151, 0.5151515151515151, 0.5151515151515151, 0.5151515151515151, 0.48484848484848464, 0.48484848484848464, 0.48484848484848464, 0.48484848484848464, 0.48484848484848464, 0.48484848484848464, 0.48484848484848464, 0.48484848484848464, 0.48484848484848464, 0.48484848484848464, 0.48484848484848464, 0.48484848484848464, 0.48484848484848464, 0.48484848484848464, 0.48484848484848464, 0.48484848484848464, 0.48484848484848464, 0.48484848484848464, 0.48484848484848464, 0.48484848484848464, 0.48484848484848464, 0.48484848484848464, 0.48484848484848464, 0.48484848484848464, 0.48484848484848464, 0.48484848484848464, 0.48484848484848464, 0.48484848484848464, 0.48484848484848464, 0.48484848484848464, 0.48484848484848464, 0.4545454545454546, 0.4545454545454546, 0.4545454545454546, 0.4545454545454546, 0.4545454545454546, 0.4545454545454546, 0.4545454545454546, 0.4545454545454546, 0.4545454545454546, 0.4545454545454546, 0.4545454545454546, 0.4242424242424243, 0.4242424242424243, 0.4242424242424243, 0.4242424242424243, 0.4242424242424243, 0.4242424242424243, 0.4242424242424243, 0.4242424242424243, 0.4242424242424243, 0.4242424242424243, 0.3939393939393938, 0.3939393939393938, 0.3939393939393938, 0.3939393939393938, 0.3939393939393938, 0.3939393939393938, 0.3939393939393938, 0.3939393939393938, 0.3939393939393938, 0.3939393939393938, 0.3939393939393938, 0.3939393939393938, 0.3939393939393938, 0.36363636363636354, 0.36363636363636354, 0.36363636363636354, 0.36363636363636354, 0.36363636363636354, 0.36363636363636354, 0.33333333333333326, 0.33333333333333326, 0.33333333333333326, 0.33333333333333326, 0.33333333333333326, 0.33333333333333326, 0.303030303030303, 0.303030303030303, 0.303030303030303, 0.2727272727272727, 0.21212121212121215, 0.0]}],\n",
       "                        {\"height\": 700, \"template\": {\"data\": {\"bar\": [{\"error_x\": {\"color\": \"#2a3f5f\"}, \"error_y\": {\"color\": \"#2a3f5f\"}, \"marker\": {\"line\": {\"color\": \"#E5ECF6\", \"width\": 0.5}}, \"type\": \"bar\"}], \"barpolar\": [{\"marker\": {\"line\": {\"color\": \"#E5ECF6\", \"width\": 0.5}}, \"type\": \"barpolar\"}], \"carpet\": [{\"aaxis\": {\"endlinecolor\": \"#2a3f5f\", \"gridcolor\": \"white\", \"linecolor\": \"white\", \"minorgridcolor\": \"white\", \"startlinecolor\": \"#2a3f5f\"}, \"baxis\": {\"endlinecolor\": \"#2a3f5f\", \"gridcolor\": \"white\", \"linecolor\": \"white\", \"minorgridcolor\": \"white\", \"startlinecolor\": \"#2a3f5f\"}, \"type\": \"carpet\"}], \"choropleth\": [{\"colorbar\": {\"outlinewidth\": 0, \"ticks\": \"\"}, \"type\": \"choropleth\"}], \"contour\": [{\"colorbar\": {\"outlinewidth\": 0, \"ticks\": \"\"}, \"colorscale\": [[0.0, \"#0d0887\"], [0.1111111111111111, \"#46039f\"], [0.2222222222222222, \"#7201a8\"], [0.3333333333333333, \"#9c179e\"], [0.4444444444444444, \"#bd3786\"], [0.5555555555555556, \"#d8576b\"], [0.6666666666666666, \"#ed7953\"], [0.7777777777777778, \"#fb9f3a\"], [0.8888888888888888, \"#fdca26\"], [1.0, \"#f0f921\"]], \"type\": \"contour\"}], \"contourcarpet\": [{\"colorbar\": {\"outlinewidth\": 0, \"ticks\": \"\"}, \"type\": \"contourcarpet\"}], \"heatmap\": [{\"colorbar\": {\"outlinewidth\": 0, \"ticks\": \"\"}, \"colorscale\": [[0.0, \"#0d0887\"], [0.1111111111111111, \"#46039f\"], [0.2222222222222222, \"#7201a8\"], [0.3333333333333333, \"#9c179e\"], [0.4444444444444444, \"#bd3786\"], [0.5555555555555556, \"#d8576b\"], [0.6666666666666666, \"#ed7953\"], [0.7777777777777778, \"#fb9f3a\"], [0.8888888888888888, \"#fdca26\"], [1.0, \"#f0f921\"]], \"type\": \"heatmap\"}], \"heatmapgl\": [{\"colorbar\": {\"outlinewidth\": 0, \"ticks\": \"\"}, \"colorscale\": [[0.0, \"#0d0887\"], [0.1111111111111111, \"#46039f\"], [0.2222222222222222, \"#7201a8\"], [0.3333333333333333, \"#9c179e\"], [0.4444444444444444, \"#bd3786\"], [0.5555555555555556, \"#d8576b\"], [0.6666666666666666, \"#ed7953\"], [0.7777777777777778, \"#fb9f3a\"], [0.8888888888888888, \"#fdca26\"], [1.0, \"#f0f921\"]], \"type\": \"heatmapgl\"}], \"histogram\": [{\"marker\": {\"colorbar\": {\"outlinewidth\": 0, \"ticks\": \"\"}}, \"type\": \"histogram\"}], \"histogram2d\": [{\"colorbar\": {\"outlinewidth\": 0, \"ticks\": \"\"}, \"colorscale\": [[0.0, \"#0d0887\"], [0.1111111111111111, \"#46039f\"], [0.2222222222222222, \"#7201a8\"], [0.3333333333333333, \"#9c179e\"], [0.4444444444444444, \"#bd3786\"], [0.5555555555555556, \"#d8576b\"], [0.6666666666666666, \"#ed7953\"], [0.7777777777777778, \"#fb9f3a\"], [0.8888888888888888, \"#fdca26\"], [1.0, \"#f0f921\"]], \"type\": \"histogram2d\"}], \"histogram2dcontour\": [{\"colorbar\": {\"outlinewidth\": 0, \"ticks\": \"\"}, \"colorscale\": [[0.0, \"#0d0887\"], [0.1111111111111111, \"#46039f\"], [0.2222222222222222, \"#7201a8\"], [0.3333333333333333, \"#9c179e\"], [0.4444444444444444, \"#bd3786\"], [0.5555555555555556, \"#d8576b\"], [0.6666666666666666, \"#ed7953\"], [0.7777777777777778, \"#fb9f3a\"], [0.8888888888888888, \"#fdca26\"], [1.0, \"#f0f921\"]], \"type\": \"histogram2dcontour\"}], \"mesh3d\": [{\"colorbar\": {\"outlinewidth\": 0, \"ticks\": \"\"}, \"type\": \"mesh3d\"}], \"parcoords\": [{\"line\": {\"colorbar\": {\"outlinewidth\": 0, \"ticks\": \"\"}}, \"type\": \"parcoords\"}], \"pie\": [{\"automargin\": true, \"type\": \"pie\"}], \"scatter\": [{\"marker\": {\"colorbar\": {\"outlinewidth\": 0, \"ticks\": \"\"}}, \"type\": \"scatter\"}], \"scatter3d\": [{\"line\": {\"colorbar\": {\"outlinewidth\": 0, \"ticks\": \"\"}}, \"marker\": {\"colorbar\": {\"outlinewidth\": 0, \"ticks\": \"\"}}, \"type\": \"scatter3d\"}], \"scattercarpet\": [{\"marker\": {\"colorbar\": {\"outlinewidth\": 0, \"ticks\": \"\"}}, \"type\": \"scattercarpet\"}], \"scattergeo\": [{\"marker\": {\"colorbar\": {\"outlinewidth\": 0, \"ticks\": \"\"}}, \"type\": \"scattergeo\"}], \"scattergl\": [{\"marker\": {\"colorbar\": {\"outlinewidth\": 0, \"ticks\": \"\"}}, \"type\": \"scattergl\"}], \"scattermapbox\": [{\"marker\": {\"colorbar\": {\"outlinewidth\": 0, \"ticks\": \"\"}}, \"type\": \"scattermapbox\"}], \"scatterpolar\": [{\"marker\": {\"colorbar\": {\"outlinewidth\": 0, \"ticks\": \"\"}}, \"type\": \"scatterpolar\"}], \"scatterpolargl\": [{\"marker\": {\"colorbar\": {\"outlinewidth\": 0, \"ticks\": \"\"}}, \"type\": \"scatterpolargl\"}], \"scatterternary\": [{\"marker\": {\"colorbar\": {\"outlinewidth\": 0, \"ticks\": \"\"}}, \"type\": \"scatterternary\"}], \"surface\": [{\"colorbar\": {\"outlinewidth\": 0, \"ticks\": \"\"}, \"colorscale\": [[0.0, \"#0d0887\"], [0.1111111111111111, \"#46039f\"], [0.2222222222222222, \"#7201a8\"], [0.3333333333333333, \"#9c179e\"], [0.4444444444444444, \"#bd3786\"], [0.5555555555555556, \"#d8576b\"], [0.6666666666666666, \"#ed7953\"], [0.7777777777777778, \"#fb9f3a\"], [0.8888888888888888, \"#fdca26\"], [1.0, \"#f0f921\"]], \"type\": \"surface\"}], \"table\": [{\"cells\": {\"fill\": {\"color\": \"#EBF0F8\"}, \"line\": {\"color\": \"white\"}}, \"header\": {\"fill\": {\"color\": \"#C8D4E3\"}, \"line\": {\"color\": \"white\"}}, \"type\": \"table\"}]}, \"layout\": {\"annotationdefaults\": {\"arrowcolor\": \"#2a3f5f\", \"arrowhead\": 0, \"arrowwidth\": 1}, \"coloraxis\": {\"colorbar\": {\"outlinewidth\": 0, \"ticks\": \"\"}}, \"colorscale\": {\"diverging\": [[0, \"#8e0152\"], [0.1, \"#c51b7d\"], [0.2, \"#de77ae\"], [0.3, \"#f1b6da\"], [0.4, \"#fde0ef\"], [0.5, \"#f7f7f7\"], [0.6, \"#e6f5d0\"], [0.7, \"#b8e186\"], [0.8, \"#7fbc41\"], [0.9, \"#4d9221\"], [1, \"#276419\"]], \"sequential\": [[0.0, \"#0d0887\"], [0.1111111111111111, \"#46039f\"], [0.2222222222222222, \"#7201a8\"], [0.3333333333333333, \"#9c179e\"], [0.4444444444444444, \"#bd3786\"], [0.5555555555555556, \"#d8576b\"], [0.6666666666666666, \"#ed7953\"], [0.7777777777777778, \"#fb9f3a\"], [0.8888888888888888, \"#fdca26\"], [1.0, \"#f0f921\"]], \"sequentialminus\": [[0.0, \"#0d0887\"], [0.1111111111111111, \"#46039f\"], [0.2222222222222222, \"#7201a8\"], [0.3333333333333333, \"#9c179e\"], [0.4444444444444444, \"#bd3786\"], [0.5555555555555556, \"#d8576b\"], [0.6666666666666666, \"#ed7953\"], [0.7777777777777778, \"#fb9f3a\"], [0.8888888888888888, \"#fdca26\"], [1.0, \"#f0f921\"]]}, \"colorway\": [\"#636efa\", \"#EF553B\", \"#00cc96\", \"#ab63fa\", \"#FFA15A\", \"#19d3f3\", \"#FF6692\", \"#B6E880\", \"#FF97FF\", \"#FECB52\"], \"font\": {\"color\": \"#2a3f5f\"}, \"geo\": {\"bgcolor\": \"white\", \"lakecolor\": \"white\", \"landcolor\": \"#E5ECF6\", \"showlakes\": true, \"showland\": true, \"subunitcolor\": \"white\"}, \"hoverlabel\": {\"align\": \"left\"}, \"hovermode\": \"closest\", \"mapbox\": {\"style\": \"light\"}, \"paper_bgcolor\": \"white\", \"plot_bgcolor\": \"#E5ECF6\", \"polar\": {\"angularaxis\": {\"gridcolor\": \"white\", \"linecolor\": \"white\", \"ticks\": \"\"}, \"bgcolor\": \"#E5ECF6\", \"radialaxis\": {\"gridcolor\": \"white\", \"linecolor\": \"white\", \"ticks\": \"\"}}, \"scene\": {\"xaxis\": {\"backgroundcolor\": \"#E5ECF6\", \"gridcolor\": \"white\", \"gridwidth\": 2, \"linecolor\": \"white\", \"showbackground\": true, \"ticks\": \"\", \"zerolinecolor\": \"white\"}, \"yaxis\": {\"backgroundcolor\": \"#E5ECF6\", \"gridcolor\": \"white\", \"gridwidth\": 2, \"linecolor\": \"white\", \"showbackground\": true, \"ticks\": \"\", \"zerolinecolor\": \"white\"}, \"zaxis\": {\"backgroundcolor\": \"#E5ECF6\", \"gridcolor\": \"white\", \"gridwidth\": 2, \"linecolor\": \"white\", \"showbackground\": true, \"ticks\": \"\", \"zerolinecolor\": \"white\"}}, \"shapedefaults\": {\"line\": {\"color\": \"#2a3f5f\"}}, \"ternary\": {\"aaxis\": {\"gridcolor\": \"white\", \"linecolor\": \"white\", \"ticks\": \"\"}, \"baxis\": {\"gridcolor\": \"white\", \"linecolor\": \"white\", \"ticks\": \"\"}, \"bgcolor\": \"#E5ECF6\", \"caxis\": {\"gridcolor\": \"white\", \"linecolor\": \"white\", \"ticks\": \"\"}}, \"title\": {\"x\": 0.05}, \"xaxis\": {\"automargin\": true, \"gridcolor\": \"white\", \"linecolor\": \"white\", \"ticks\": \"\", \"title\": {\"standoff\": 15}, \"zerolinecolor\": \"white\", \"zerolinewidth\": 2}, \"yaxis\": {\"automargin\": true, \"gridcolor\": \"white\", \"linecolor\": \"white\", \"ticks\": \"\", \"title\": {\"standoff\": 15}, \"zerolinecolor\": \"white\", \"zerolinewidth\": 2}}}, \"title\": {\"text\": \"IMDB Vs Local Ratings Bottom 100,|TV |sort Local Ratings\"}, \"xaxis\": {\"tickangle\": -45, \"title\": {\"text\": \"TV Shows\"}}, \"yaxis\": {\"title\": {\"text\": \"Ratings\"}}},\n",
       "                        {\"responsive\": true}\n",
       "                    ).then(function(){\n",
       "                            \n",
       "var gd = document.getElementById('83202787-e12c-478b-b1d2-8cb53c4e0d46');\n",
       "var x = new MutationObserver(function (mutations, observer) {{\n",
       "        var display = window.getComputedStyle(gd).display;\n",
       "        if (!display || display === 'none') {{\n",
       "            console.log([gd, 'removed!']);\n",
       "            Plotly.purge(gd);\n",
       "            observer.disconnect();\n",
       "        }}\n",
       "}});\n",
       "\n",
       "// Listen for the removal of the full notebook cells\n",
       "var notebookContainer = gd.closest('#notebook-container');\n",
       "if (notebookContainer) {{\n",
       "    x.observe(notebookContainer, {childList: true});\n",
       "}}\n",
       "\n",
       "// Listen for the clearing of the current output cell\n",
       "var outputEl = gd.closest('.output');\n",
       "if (outputEl) {{\n",
       "    x.observe(outputEl, {childList: true});\n",
       "}}\n",
       "\n",
       "                        })\n",
       "                };\n",
       "                });\n",
       "            </script>\n",
       "        </div>"
      ]
     },
     "metadata": {},
     "output_type": "display_data"
    }
   ],
   "source": [
    "fig = go.Figure()\n",
    "fig.add_trace(go.Bar(x=tv_names[-100:], y= tv_imdb_ratings[-100:], name=\"IMDB Ratings Bottom 100|TV\"))\n",
    "fig.add_trace(go.Bar(x=tv_names[-100:], y= tv_local_ratings[-100:], name=\"Local Ratings Bottom 100|TV\"))\n",
    "fig.update_xaxes(tickangle=-45)\n",
    "fig.update_layout(xaxis_title =\"TV Shows\", yaxis_title=\"Ratings\", title=\"IMDB Vs Local Ratings Bottom 100,|TV |sort Local Ratings\", height=700,)"
   ]
  },
  {
   "cell_type": "markdown",
   "metadata": {},
   "source": [
    "#### TVS sorted by IMDb Ratings\n"
   ]
  },
  {
   "cell_type": "code",
   "execution_count": 38,
   "metadata": {
    "ExecuteTime": {
     "end_time": "2020-07-15T04:11:59.714819Z",
     "start_time": "2020-07-15T04:11:59.687818Z"
    }
   },
   "outputs": [],
   "source": [
    "imdb_ratings_tv= tv_df.sort_values('IMDB', ascending=False, ignore_index=True)\n",
    "imdb_ratings_tv.drop_duplicates('TV_NAME',inplace=True )"
   ]
  },
  {
   "cell_type": "code",
   "execution_count": 39,
   "metadata": {
    "ExecuteTime": {
     "end_time": "2020-07-15T04:11:59.745815Z",
     "start_time": "2020-07-15T04:11:59.717820Z"
    }
   },
   "outputs": [],
   "source": [
    "eval_tv_df_imdb = imdb_ratings_tv[['TV_NAME', 'IMDB','USER_REVIEWS_LOCAL','NUMBER_REVIEWS_LOCAL','SITE_RANK']]\n",
    "eval_tv_df_imdb[['IMDB','USER_REVIEWS_LOCAL']] = scaler.fit_transform(eval_tv_df_imdb[['IMDB','USER_REVIEWS_LOCAL']])"
   ]
  },
  {
   "cell_type": "code",
   "execution_count": 40,
   "metadata": {
    "ExecuteTime": {
     "end_time": "2020-07-15T04:11:59.761816Z",
     "start_time": "2020-07-15T04:11:59.748815Z"
    }
   },
   "outputs": [],
   "source": [
    "tv_names_imdb = eval_tv_df_imdb.TV_NAME.values.tolist()\n",
    "tv__imdb_ratings_imdb = eval_tv_df_imdb.IMDB.values.tolist()\n",
    "tv_local_ratings_imdb = eval_tv_df_imdb.USER_REVIEWS_LOCAL.values.tolist()"
   ]
  },
  {
   "cell_type": "code",
   "execution_count": 41,
   "metadata": {
    "ExecuteTime": {
     "end_time": "2020-07-15T04:11:59.809815Z",
     "start_time": "2020-07-15T04:11:59.765819Z"
    },
    "scrolled": false
   },
   "outputs": [
    {
     "data": {
      "application/vnd.plotly.v1+json": {
       "config": {
        "plotlyServerURL": "https://plot.ly"
       },
       "data": [
        {
         "name": "IMDB Ratings Top 100|TV",
         "type": "bar",
         "x": [
          "Breaking Bad",
          "The Wire",
          "Game of Thrones",
          "The Sopranos",
          "Rick and Morty",
          "Avatar: The Last Airbender",
          "Sherlock",
          "True Detective",
          "The Office",
          "Gravity Falls",
          "Friends",
          "Attack on Titan",
          "Stranger Things",
          "Narcos",
          "Peaky Blinders",
          "Cobra Kai",
          "Black Mirror",
          "It's Always Sunny in Philadelphia",
          "Better Call Saul",
          "Dark",
          "Sacred Games",
          "Anne with an E",
          "South Park",
          "Curb Your Enthusiasm",
          "This Is Us",
          "Fleabag",
          "The Simpsons",
          "House of Cards",
          "Westworld",
          "House",
          "The Grand Tour",
          "Sons of Anarchy",
          "Shameless",
          "Wentworth",
          "Atlanta",
          "Line of Duty",
          "Doctor Who",
          "Making a Murderer",
          "Pose",
          "Mindhunter",
          "Young Justice",
          "Impractical Jokers",
          "Archer",
          "The X-Files",
          "Daredevil",
          "Succession",
          "The Handmaid's Tale",
          "Mr. Robot",
          "RuPaul's Drag Race",
          "Silicon Valley",
          "The Punisher",
          "Big Little Lies",
          "Suits",
          "Vikings",
          "The Expanse",
          "American Crime Story",
          "The Legend of Korra",
          "Harley Quinn",
          "Narcos: Mexico",
          "Ash vs Evil Dead",
          "Futurama",
          "Schitt's Creek",
          "The Last Kingdom",
          "Brooklyn Nine-Nine",
          "What We Do in the Shadows",
          "Outlander",
          "Money Heist",
          "Modern Family",
          "Supernatural",
          "Billions",
          "Ozark",
          "Homeland",
          "Lost",
          "How I Met Your Mother",
          "Poldark",
          "Legion",
          "Final Space",
          "Barry",
          "Veronica Mars",
          "Killing Eve",
          "Ray Donovan",
          "Prison Break",
          "Sex Education",
          "MasterChef Australia",
          "The Good Doctor",
          "Sneaky Pete",
          "The Originals",
          "The First 48",
          "Strike Back",
          "Power",
          "The Good Place",
          "Animal Kingdom",
          "Happy!",
          "The Walking Dead",
          "Lucifer",
          "The Amazing World of Gumball",
          "Star Wars: The Clone Wars",
          "SpongeBob SquarePants",
          "Family Guy",
          "The End of the F***ing World"
         ],
         "y": [
          1,
          0.9789473684210527,
          0.9789473684210527,
          0.9684210526315788,
          0.9684210526315788,
          0.9684210526315788,
          0.9578947368421051,
          0.9473684210526315,
          0.9368421052631579,
          0.9368421052631579,
          0.9368421052631579,
          0.9263157894736842,
          0.9263157894736842,
          0.9263157894736842,
          0.9263157894736842,
          0.9263157894736842,
          0.9263157894736842,
          0.9263157894736842,
          0.9157894736842104,
          0.9157894736842104,
          0.9157894736842104,
          0.9157894736842104,
          0.9157894736842104,
          0.9157894736842104,
          0.9157894736842104,
          0.9157894736842104,
          0.9157894736842104,
          0.9157894736842104,
          0.9157894736842104,
          0.9157894736842104,
          0.9157894736842104,
          0.9052631578947368,
          0.9052631578947368,
          0.9052631578947368,
          0.9052631578947368,
          0.9052631578947368,
          0.9052631578947368,
          0.9052631578947368,
          0.9052631578947368,
          0.9052631578947368,
          0.9052631578947368,
          0.9052631578947368,
          0.9052631578947368,
          0.9052631578947368,
          0.9052631578947368,
          0.894736842105263,
          0.894736842105263,
          0.894736842105263,
          0.894736842105263,
          0.894736842105263,
          0.894736842105263,
          0.894736842105263,
          0.894736842105263,
          0.894736842105263,
          0.894736842105263,
          0.8842105263157894,
          0.8842105263157894,
          0.8842105263157894,
          0.8842105263157894,
          0.8842105263157894,
          0.8842105263157894,
          0.8842105263157894,
          0.8842105263157894,
          0.8842105263157894,
          0.8842105263157894,
          0.8842105263157894,
          0.8842105263157894,
          0.8842105263157894,
          0.8842105263157894,
          0.8842105263157894,
          0.8842105263157894,
          0.8736842105263158,
          0.8736842105263158,
          0.8736842105263158,
          0.8736842105263158,
          0.8736842105263158,
          0.8736842105263158,
          0.8736842105263158,
          0.8736842105263158,
          0.8736842105263158,
          0.8736842105263158,
          0.8736842105263158,
          0.8736842105263158,
          0.863157894736842,
          0.863157894736842,
          0.863157894736842,
          0.863157894736842,
          0.863157894736842,
          0.863157894736842,
          0.863157894736842,
          0.863157894736842,
          0.863157894736842,
          0.863157894736842,
          0.863157894736842,
          0.863157894736842,
          0.863157894736842,
          0.863157894736842,
          0.8526315789473683,
          0.8526315789473683,
          0.8526315789473683
         ]
        },
        {
         "name": "Local Ratings Top 100|TV",
         "type": "bar",
         "x": [
          "Breaking Bad",
          "The Wire",
          "Game of Thrones",
          "The Sopranos",
          "Rick and Morty",
          "Avatar: The Last Airbender",
          "Sherlock",
          "True Detective",
          "The Office",
          "Gravity Falls",
          "Friends",
          "Attack on Titan",
          "Stranger Things",
          "Narcos",
          "Peaky Blinders",
          "Cobra Kai",
          "Black Mirror",
          "It's Always Sunny in Philadelphia",
          "Better Call Saul",
          "Dark",
          "Sacred Games",
          "Anne with an E",
          "South Park",
          "Curb Your Enthusiasm",
          "This Is Us",
          "Fleabag",
          "The Simpsons",
          "House of Cards",
          "Westworld",
          "House",
          "The Grand Tour",
          "Sons of Anarchy",
          "Shameless",
          "Wentworth",
          "Atlanta",
          "Line of Duty",
          "Doctor Who",
          "Making a Murderer",
          "Pose",
          "Mindhunter",
          "Young Justice",
          "Impractical Jokers",
          "Archer",
          "The X-Files",
          "Daredevil",
          "Succession",
          "The Handmaid's Tale",
          "Mr. Robot",
          "RuPaul's Drag Race",
          "Silicon Valley",
          "The Punisher",
          "Big Little Lies",
          "Suits",
          "Vikings",
          "The Expanse",
          "American Crime Story",
          "The Legend of Korra",
          "Harley Quinn",
          "Narcos: Mexico",
          "Ash vs Evil Dead",
          "Futurama",
          "Schitt's Creek",
          "The Last Kingdom",
          "Brooklyn Nine-Nine",
          "What We Do in the Shadows",
          "Outlander",
          "Money Heist",
          "Modern Family",
          "Supernatural",
          "Billions",
          "Ozark",
          "Homeland",
          "Lost",
          "How I Met Your Mother",
          "Poldark",
          "Legion",
          "Final Space",
          "Barry",
          "Veronica Mars",
          "Killing Eve",
          "Ray Donovan",
          "Prison Break",
          "Sex Education",
          "MasterChef Australia",
          "The Good Doctor",
          "Sneaky Pete",
          "The Originals",
          "The First 48",
          "Strike Back",
          "Power",
          "The Good Place",
          "Animal Kingdom",
          "Happy!",
          "The Walking Dead",
          "Lucifer",
          "The Amazing World of Gumball",
          "Star Wars: The Clone Wars",
          "SpongeBob SquarePants",
          "Family Guy",
          "The End of the F***ing World"
         ],
         "y": [
          0.6666666666666665,
          0.5151515151515151,
          0.5454545454545454,
          0.6363636363636362,
          0.5757575757575757,
          0.6666666666666665,
          0.7878787878787876,
          0.7272727272727275,
          0.5151515151515151,
          0.7575757575757573,
          0.5151515151515151,
          0.7575757575757573,
          0.6363636363636362,
          0.5757575757575757,
          0.6363636363636362,
          0.5151515151515151,
          0.4545454545454546,
          0.6969696969696968,
          0.7575757575757573,
          0.6969696969696968,
          0.3939393939393938,
          0.6969696969696968,
          0.7272727272727275,
          0.48484848484848464,
          0.5454545454545454,
          0.606060606060606,
          0.6969696969696968,
          0.7272727272727275,
          0.7272727272727275,
          0.5454545454545454,
          0.9393939393939394,
          0.5757575757575757,
          0.48484848484848464,
          0.5151515151515151,
          0.6363636363636362,
          0.5757575757575757,
          0.6969696969696968,
          0.606060606060606,
          0.5151515151515151,
          0.606060606060606,
          0.6666666666666665,
          0.8484848484848482,
          0.7575757575757573,
          0.8181818181818183,
          0.8181818181818183,
          0.2727272727272727,
          0.4545454545454546,
          0.7272727272727275,
          0.3939393939393938,
          0.5757575757575757,
          0.7272727272727275,
          0.48484848484848464,
          0.48484848484848464,
          0.5454545454545454,
          0.6666666666666665,
          0.5757575757575757,
          0.5757575757575757,
          0.7878787878787876,
          0.7575757575757573,
          1,
          0.6666666666666665,
          0.606060606060606,
          0.6969696969696968,
          0.5151515151515151,
          1,
          0.606060606060606,
          0.48484848484848464,
          0.5151515151515151,
          0.6969696969696968,
          0.4545454545454546,
          0.6666666666666665,
          0.5454545454545454,
          0.5757575757575757,
          0.48484848484848464,
          0.606060606060606,
          0.8181818181818183,
          0.6363636363636362,
          0.5454545454545454,
          0.3939393939393938,
          0.606060606060606,
          0.5151515151515151,
          0.48484848484848464,
          0.5151515151515151,
          0.5454545454545454,
          0.48484848484848464,
          0.6363636363636362,
          0.5454545454545454,
          0.8181818181818183,
          0.48484848484848464,
          0.3939393939393938,
          0.48484848484848464,
          0.4545454545454546,
          0.48484848484848464,
          0.6969696969696968,
          0.606060606060606,
          0.7878787878787876,
          0.6969696969696968,
          0.7878787878787876,
          0.6969696969696968,
          0.303030303030303
         ]
        }
       ],
       "layout": {
        "height": 700,
        "template": {
         "data": {
          "bar": [
           {
            "error_x": {
             "color": "#2a3f5f"
            },
            "error_y": {
             "color": "#2a3f5f"
            },
            "marker": {
             "line": {
              "color": "#E5ECF6",
              "width": 0.5
             }
            },
            "type": "bar"
           }
          ],
          "barpolar": [
           {
            "marker": {
             "line": {
              "color": "#E5ECF6",
              "width": 0.5
             }
            },
            "type": "barpolar"
           }
          ],
          "carpet": [
           {
            "aaxis": {
             "endlinecolor": "#2a3f5f",
             "gridcolor": "white",
             "linecolor": "white",
             "minorgridcolor": "white",
             "startlinecolor": "#2a3f5f"
            },
            "baxis": {
             "endlinecolor": "#2a3f5f",
             "gridcolor": "white",
             "linecolor": "white",
             "minorgridcolor": "white",
             "startlinecolor": "#2a3f5f"
            },
            "type": "carpet"
           }
          ],
          "choropleth": [
           {
            "colorbar": {
             "outlinewidth": 0,
             "ticks": ""
            },
            "type": "choropleth"
           }
          ],
          "contour": [
           {
            "colorbar": {
             "outlinewidth": 0,
             "ticks": ""
            },
            "colorscale": [
             [
              0,
              "#0d0887"
             ],
             [
              0.1111111111111111,
              "#46039f"
             ],
             [
              0.2222222222222222,
              "#7201a8"
             ],
             [
              0.3333333333333333,
              "#9c179e"
             ],
             [
              0.4444444444444444,
              "#bd3786"
             ],
             [
              0.5555555555555556,
              "#d8576b"
             ],
             [
              0.6666666666666666,
              "#ed7953"
             ],
             [
              0.7777777777777778,
              "#fb9f3a"
             ],
             [
              0.8888888888888888,
              "#fdca26"
             ],
             [
              1,
              "#f0f921"
             ]
            ],
            "type": "contour"
           }
          ],
          "contourcarpet": [
           {
            "colorbar": {
             "outlinewidth": 0,
             "ticks": ""
            },
            "type": "contourcarpet"
           }
          ],
          "heatmap": [
           {
            "colorbar": {
             "outlinewidth": 0,
             "ticks": ""
            },
            "colorscale": [
             [
              0,
              "#0d0887"
             ],
             [
              0.1111111111111111,
              "#46039f"
             ],
             [
              0.2222222222222222,
              "#7201a8"
             ],
             [
              0.3333333333333333,
              "#9c179e"
             ],
             [
              0.4444444444444444,
              "#bd3786"
             ],
             [
              0.5555555555555556,
              "#d8576b"
             ],
             [
              0.6666666666666666,
              "#ed7953"
             ],
             [
              0.7777777777777778,
              "#fb9f3a"
             ],
             [
              0.8888888888888888,
              "#fdca26"
             ],
             [
              1,
              "#f0f921"
             ]
            ],
            "type": "heatmap"
           }
          ],
          "heatmapgl": [
           {
            "colorbar": {
             "outlinewidth": 0,
             "ticks": ""
            },
            "colorscale": [
             [
              0,
              "#0d0887"
             ],
             [
              0.1111111111111111,
              "#46039f"
             ],
             [
              0.2222222222222222,
              "#7201a8"
             ],
             [
              0.3333333333333333,
              "#9c179e"
             ],
             [
              0.4444444444444444,
              "#bd3786"
             ],
             [
              0.5555555555555556,
              "#d8576b"
             ],
             [
              0.6666666666666666,
              "#ed7953"
             ],
             [
              0.7777777777777778,
              "#fb9f3a"
             ],
             [
              0.8888888888888888,
              "#fdca26"
             ],
             [
              1,
              "#f0f921"
             ]
            ],
            "type": "heatmapgl"
           }
          ],
          "histogram": [
           {
            "marker": {
             "colorbar": {
              "outlinewidth": 0,
              "ticks": ""
             }
            },
            "type": "histogram"
           }
          ],
          "histogram2d": [
           {
            "colorbar": {
             "outlinewidth": 0,
             "ticks": ""
            },
            "colorscale": [
             [
              0,
              "#0d0887"
             ],
             [
              0.1111111111111111,
              "#46039f"
             ],
             [
              0.2222222222222222,
              "#7201a8"
             ],
             [
              0.3333333333333333,
              "#9c179e"
             ],
             [
              0.4444444444444444,
              "#bd3786"
             ],
             [
              0.5555555555555556,
              "#d8576b"
             ],
             [
              0.6666666666666666,
              "#ed7953"
             ],
             [
              0.7777777777777778,
              "#fb9f3a"
             ],
             [
              0.8888888888888888,
              "#fdca26"
             ],
             [
              1,
              "#f0f921"
             ]
            ],
            "type": "histogram2d"
           }
          ],
          "histogram2dcontour": [
           {
            "colorbar": {
             "outlinewidth": 0,
             "ticks": ""
            },
            "colorscale": [
             [
              0,
              "#0d0887"
             ],
             [
              0.1111111111111111,
              "#46039f"
             ],
             [
              0.2222222222222222,
              "#7201a8"
             ],
             [
              0.3333333333333333,
              "#9c179e"
             ],
             [
              0.4444444444444444,
              "#bd3786"
             ],
             [
              0.5555555555555556,
              "#d8576b"
             ],
             [
              0.6666666666666666,
              "#ed7953"
             ],
             [
              0.7777777777777778,
              "#fb9f3a"
             ],
             [
              0.8888888888888888,
              "#fdca26"
             ],
             [
              1,
              "#f0f921"
             ]
            ],
            "type": "histogram2dcontour"
           }
          ],
          "mesh3d": [
           {
            "colorbar": {
             "outlinewidth": 0,
             "ticks": ""
            },
            "type": "mesh3d"
           }
          ],
          "parcoords": [
           {
            "line": {
             "colorbar": {
              "outlinewidth": 0,
              "ticks": ""
             }
            },
            "type": "parcoords"
           }
          ],
          "pie": [
           {
            "automargin": true,
            "type": "pie"
           }
          ],
          "scatter": [
           {
            "marker": {
             "colorbar": {
              "outlinewidth": 0,
              "ticks": ""
             }
            },
            "type": "scatter"
           }
          ],
          "scatter3d": [
           {
            "line": {
             "colorbar": {
              "outlinewidth": 0,
              "ticks": ""
             }
            },
            "marker": {
             "colorbar": {
              "outlinewidth": 0,
              "ticks": ""
             }
            },
            "type": "scatter3d"
           }
          ],
          "scattercarpet": [
           {
            "marker": {
             "colorbar": {
              "outlinewidth": 0,
              "ticks": ""
             }
            },
            "type": "scattercarpet"
           }
          ],
          "scattergeo": [
           {
            "marker": {
             "colorbar": {
              "outlinewidth": 0,
              "ticks": ""
             }
            },
            "type": "scattergeo"
           }
          ],
          "scattergl": [
           {
            "marker": {
             "colorbar": {
              "outlinewidth": 0,
              "ticks": ""
             }
            },
            "type": "scattergl"
           }
          ],
          "scattermapbox": [
           {
            "marker": {
             "colorbar": {
              "outlinewidth": 0,
              "ticks": ""
             }
            },
            "type": "scattermapbox"
           }
          ],
          "scatterpolar": [
           {
            "marker": {
             "colorbar": {
              "outlinewidth": 0,
              "ticks": ""
             }
            },
            "type": "scatterpolar"
           }
          ],
          "scatterpolargl": [
           {
            "marker": {
             "colorbar": {
              "outlinewidth": 0,
              "ticks": ""
             }
            },
            "type": "scatterpolargl"
           }
          ],
          "scatterternary": [
           {
            "marker": {
             "colorbar": {
              "outlinewidth": 0,
              "ticks": ""
             }
            },
            "type": "scatterternary"
           }
          ],
          "surface": [
           {
            "colorbar": {
             "outlinewidth": 0,
             "ticks": ""
            },
            "colorscale": [
             [
              0,
              "#0d0887"
             ],
             [
              0.1111111111111111,
              "#46039f"
             ],
             [
              0.2222222222222222,
              "#7201a8"
             ],
             [
              0.3333333333333333,
              "#9c179e"
             ],
             [
              0.4444444444444444,
              "#bd3786"
             ],
             [
              0.5555555555555556,
              "#d8576b"
             ],
             [
              0.6666666666666666,
              "#ed7953"
             ],
             [
              0.7777777777777778,
              "#fb9f3a"
             ],
             [
              0.8888888888888888,
              "#fdca26"
             ],
             [
              1,
              "#f0f921"
             ]
            ],
            "type": "surface"
           }
          ],
          "table": [
           {
            "cells": {
             "fill": {
              "color": "#EBF0F8"
             },
             "line": {
              "color": "white"
             }
            },
            "header": {
             "fill": {
              "color": "#C8D4E3"
             },
             "line": {
              "color": "white"
             }
            },
            "type": "table"
           }
          ]
         },
         "layout": {
          "annotationdefaults": {
           "arrowcolor": "#2a3f5f",
           "arrowhead": 0,
           "arrowwidth": 1
          },
          "coloraxis": {
           "colorbar": {
            "outlinewidth": 0,
            "ticks": ""
           }
          },
          "colorscale": {
           "diverging": [
            [
             0,
             "#8e0152"
            ],
            [
             0.1,
             "#c51b7d"
            ],
            [
             0.2,
             "#de77ae"
            ],
            [
             0.3,
             "#f1b6da"
            ],
            [
             0.4,
             "#fde0ef"
            ],
            [
             0.5,
             "#f7f7f7"
            ],
            [
             0.6,
             "#e6f5d0"
            ],
            [
             0.7,
             "#b8e186"
            ],
            [
             0.8,
             "#7fbc41"
            ],
            [
             0.9,
             "#4d9221"
            ],
            [
             1,
             "#276419"
            ]
           ],
           "sequential": [
            [
             0,
             "#0d0887"
            ],
            [
             0.1111111111111111,
             "#46039f"
            ],
            [
             0.2222222222222222,
             "#7201a8"
            ],
            [
             0.3333333333333333,
             "#9c179e"
            ],
            [
             0.4444444444444444,
             "#bd3786"
            ],
            [
             0.5555555555555556,
             "#d8576b"
            ],
            [
             0.6666666666666666,
             "#ed7953"
            ],
            [
             0.7777777777777778,
             "#fb9f3a"
            ],
            [
             0.8888888888888888,
             "#fdca26"
            ],
            [
             1,
             "#f0f921"
            ]
           ],
           "sequentialminus": [
            [
             0,
             "#0d0887"
            ],
            [
             0.1111111111111111,
             "#46039f"
            ],
            [
             0.2222222222222222,
             "#7201a8"
            ],
            [
             0.3333333333333333,
             "#9c179e"
            ],
            [
             0.4444444444444444,
             "#bd3786"
            ],
            [
             0.5555555555555556,
             "#d8576b"
            ],
            [
             0.6666666666666666,
             "#ed7953"
            ],
            [
             0.7777777777777778,
             "#fb9f3a"
            ],
            [
             0.8888888888888888,
             "#fdca26"
            ],
            [
             1,
             "#f0f921"
            ]
           ]
          },
          "colorway": [
           "#636efa",
           "#EF553B",
           "#00cc96",
           "#ab63fa",
           "#FFA15A",
           "#19d3f3",
           "#FF6692",
           "#B6E880",
           "#FF97FF",
           "#FECB52"
          ],
          "font": {
           "color": "#2a3f5f"
          },
          "geo": {
           "bgcolor": "white",
           "lakecolor": "white",
           "landcolor": "#E5ECF6",
           "showlakes": true,
           "showland": true,
           "subunitcolor": "white"
          },
          "hoverlabel": {
           "align": "left"
          },
          "hovermode": "closest",
          "mapbox": {
           "style": "light"
          },
          "paper_bgcolor": "white",
          "plot_bgcolor": "#E5ECF6",
          "polar": {
           "angularaxis": {
            "gridcolor": "white",
            "linecolor": "white",
            "ticks": ""
           },
           "bgcolor": "#E5ECF6",
           "radialaxis": {
            "gridcolor": "white",
            "linecolor": "white",
            "ticks": ""
           }
          },
          "scene": {
           "xaxis": {
            "backgroundcolor": "#E5ECF6",
            "gridcolor": "white",
            "gridwidth": 2,
            "linecolor": "white",
            "showbackground": true,
            "ticks": "",
            "zerolinecolor": "white"
           },
           "yaxis": {
            "backgroundcolor": "#E5ECF6",
            "gridcolor": "white",
            "gridwidth": 2,
            "linecolor": "white",
            "showbackground": true,
            "ticks": "",
            "zerolinecolor": "white"
           },
           "zaxis": {
            "backgroundcolor": "#E5ECF6",
            "gridcolor": "white",
            "gridwidth": 2,
            "linecolor": "white",
            "showbackground": true,
            "ticks": "",
            "zerolinecolor": "white"
           }
          },
          "shapedefaults": {
           "line": {
            "color": "#2a3f5f"
           }
          },
          "ternary": {
           "aaxis": {
            "gridcolor": "white",
            "linecolor": "white",
            "ticks": ""
           },
           "baxis": {
            "gridcolor": "white",
            "linecolor": "white",
            "ticks": ""
           },
           "bgcolor": "#E5ECF6",
           "caxis": {
            "gridcolor": "white",
            "linecolor": "white",
            "ticks": ""
           }
          },
          "title": {
           "x": 0.05
          },
          "xaxis": {
           "automargin": true,
           "gridcolor": "white",
           "linecolor": "white",
           "ticks": "",
           "title": {
            "standoff": 15
           },
           "zerolinecolor": "white",
           "zerolinewidth": 2
          },
          "yaxis": {
           "automargin": true,
           "gridcolor": "white",
           "linecolor": "white",
           "ticks": "",
           "title": {
            "standoff": 15
           },
           "zerolinecolor": "white",
           "zerolinewidth": 2
          }
         }
        },
        "title": {
         "text": "IMDB Vs Local Ratings Top 100,|TV |sort IMDB Ratings"
        },
        "xaxis": {
         "tickangle": -45,
         "title": {
          "text": "TV Shows"
         }
        },
        "yaxis": {
         "title": {
          "text": "Ratings"
         }
        }
       }
      },
      "text/html": [
       "<div>\n",
       "        \n",
       "        \n",
       "            <div id=\"61226d04-f07b-4534-a36e-3a83b3fac73c\" class=\"plotly-graph-div\" style=\"height:700px; width:100%;\"></div>\n",
       "            <script type=\"text/javascript\">\n",
       "                require([\"plotly\"], function(Plotly) {\n",
       "                    window.PLOTLYENV=window.PLOTLYENV || {};\n",
       "                    \n",
       "                if (document.getElementById(\"61226d04-f07b-4534-a36e-3a83b3fac73c\")) {\n",
       "                    Plotly.newPlot(\n",
       "                        '61226d04-f07b-4534-a36e-3a83b3fac73c',\n",
       "                        [{\"name\": \"IMDB Ratings Top 100|TV\", \"type\": \"bar\", \"x\": [\"Breaking Bad\", \"The Wire\", \"Game of Thrones\", \"The Sopranos\", \"Rick and Morty\", \"Avatar: The Last Airbender\", \"Sherlock\", \"True Detective\", \"The Office\", \"Gravity Falls\", \"Friends\", \"Attack on Titan\", \"Stranger Things\", \"Narcos\", \"Peaky Blinders\", \"Cobra Kai\", \"Black Mirror\", \"It's Always Sunny in Philadelphia\", \"Better Call Saul\", \"Dark\", \"Sacred Games\", \"Anne with an E\", \"South Park\", \"Curb Your Enthusiasm\", \"This Is Us\", \"Fleabag\", \"The Simpsons\", \"House of Cards\", \"Westworld\", \"House\", \"The Grand Tour\", \"Sons of Anarchy\", \"Shameless\", \"Wentworth\", \"Atlanta\", \"Line of Duty\", \"Doctor Who\", \"Making a Murderer\", \"Pose\", \"Mindhunter\", \"Young Justice\", \"Impractical Jokers\", \"Archer\", \"The X-Files\", \"Daredevil\", \"Succession\", \"The Handmaid's Tale\", \"Mr. Robot\", \"RuPaul's Drag Race\", \"Silicon Valley\", \"The Punisher\", \"Big Little Lies\", \"Suits\", \"Vikings\", \"The Expanse\", \"American Crime Story\", \"The Legend of Korra\", \"Harley Quinn\", \"Narcos: Mexico\", \"Ash vs Evil Dead\", \"Futurama\", \"Schitt's Creek\", \"The Last Kingdom\", \"Brooklyn Nine-Nine\", \"What We Do in the Shadows\", \"Outlander\", \"Money Heist\", \"Modern Family\", \"Supernatural\", \"Billions\", \"Ozark\", \"Homeland\", \"Lost\", \"How I Met Your Mother\", \"Poldark\", \"Legion\", \"Final Space\", \"Barry\", \"Veronica Mars\", \"Killing Eve\", \"Ray Donovan\", \"Prison Break\", \"Sex Education\", \"MasterChef Australia\", \"The Good Doctor\", \"Sneaky Pete\", \"The Originals\", \"The First 48\", \"Strike Back\", \"Power\", \"The Good Place\", \"Animal Kingdom\", \"Happy!\", \"The Walking Dead\", \"Lucifer\", \"The Amazing World of Gumball\", \"Star Wars: The Clone Wars\", \"SpongeBob SquarePants\", \"Family Guy\", \"The End of the F***ing World\"], \"y\": [1.0, 0.9789473684210527, 0.9789473684210527, 0.9684210526315788, 0.9684210526315788, 0.9684210526315788, 0.9578947368421051, 0.9473684210526315, 0.9368421052631579, 0.9368421052631579, 0.9368421052631579, 0.9263157894736842, 0.9263157894736842, 0.9263157894736842, 0.9263157894736842, 0.9263157894736842, 0.9263157894736842, 0.9263157894736842, 0.9157894736842104, 0.9157894736842104, 0.9157894736842104, 0.9157894736842104, 0.9157894736842104, 0.9157894736842104, 0.9157894736842104, 0.9157894736842104, 0.9157894736842104, 0.9157894736842104, 0.9157894736842104, 0.9157894736842104, 0.9157894736842104, 0.9052631578947368, 0.9052631578947368, 0.9052631578947368, 0.9052631578947368, 0.9052631578947368, 0.9052631578947368, 0.9052631578947368, 0.9052631578947368, 0.9052631578947368, 0.9052631578947368, 0.9052631578947368, 0.9052631578947368, 0.9052631578947368, 0.9052631578947368, 0.894736842105263, 0.894736842105263, 0.894736842105263, 0.894736842105263, 0.894736842105263, 0.894736842105263, 0.894736842105263, 0.894736842105263, 0.894736842105263, 0.894736842105263, 0.8842105263157894, 0.8842105263157894, 0.8842105263157894, 0.8842105263157894, 0.8842105263157894, 0.8842105263157894, 0.8842105263157894, 0.8842105263157894, 0.8842105263157894, 0.8842105263157894, 0.8842105263157894, 0.8842105263157894, 0.8842105263157894, 0.8842105263157894, 0.8842105263157894, 0.8842105263157894, 0.8736842105263158, 0.8736842105263158, 0.8736842105263158, 0.8736842105263158, 0.8736842105263158, 0.8736842105263158, 0.8736842105263158, 0.8736842105263158, 0.8736842105263158, 0.8736842105263158, 0.8736842105263158, 0.8736842105263158, 0.863157894736842, 0.863157894736842, 0.863157894736842, 0.863157894736842, 0.863157894736842, 0.863157894736842, 0.863157894736842, 0.863157894736842, 0.863157894736842, 0.863157894736842, 0.863157894736842, 0.863157894736842, 0.863157894736842, 0.863157894736842, 0.8526315789473683, 0.8526315789473683, 0.8526315789473683]}, {\"name\": \"Local Ratings Top 100|TV\", \"type\": \"bar\", \"x\": [\"Breaking Bad\", \"The Wire\", \"Game of Thrones\", \"The Sopranos\", \"Rick and Morty\", \"Avatar: The Last Airbender\", \"Sherlock\", \"True Detective\", \"The Office\", \"Gravity Falls\", \"Friends\", \"Attack on Titan\", \"Stranger Things\", \"Narcos\", \"Peaky Blinders\", \"Cobra Kai\", \"Black Mirror\", \"It's Always Sunny in Philadelphia\", \"Better Call Saul\", \"Dark\", \"Sacred Games\", \"Anne with an E\", \"South Park\", \"Curb Your Enthusiasm\", \"This Is Us\", \"Fleabag\", \"The Simpsons\", \"House of Cards\", \"Westworld\", \"House\", \"The Grand Tour\", \"Sons of Anarchy\", \"Shameless\", \"Wentworth\", \"Atlanta\", \"Line of Duty\", \"Doctor Who\", \"Making a Murderer\", \"Pose\", \"Mindhunter\", \"Young Justice\", \"Impractical Jokers\", \"Archer\", \"The X-Files\", \"Daredevil\", \"Succession\", \"The Handmaid's Tale\", \"Mr. Robot\", \"RuPaul's Drag Race\", \"Silicon Valley\", \"The Punisher\", \"Big Little Lies\", \"Suits\", \"Vikings\", \"The Expanse\", \"American Crime Story\", \"The Legend of Korra\", \"Harley Quinn\", \"Narcos: Mexico\", \"Ash vs Evil Dead\", \"Futurama\", \"Schitt's Creek\", \"The Last Kingdom\", \"Brooklyn Nine-Nine\", \"What We Do in the Shadows\", \"Outlander\", \"Money Heist\", \"Modern Family\", \"Supernatural\", \"Billions\", \"Ozark\", \"Homeland\", \"Lost\", \"How I Met Your Mother\", \"Poldark\", \"Legion\", \"Final Space\", \"Barry\", \"Veronica Mars\", \"Killing Eve\", \"Ray Donovan\", \"Prison Break\", \"Sex Education\", \"MasterChef Australia\", \"The Good Doctor\", \"Sneaky Pete\", \"The Originals\", \"The First 48\", \"Strike Back\", \"Power\", \"The Good Place\", \"Animal Kingdom\", \"Happy!\", \"The Walking Dead\", \"Lucifer\", \"The Amazing World of Gumball\", \"Star Wars: The Clone Wars\", \"SpongeBob SquarePants\", \"Family Guy\", \"The End of the F***ing World\"], \"y\": [0.6666666666666665, 0.5151515151515151, 0.5454545454545454, 0.6363636363636362, 0.5757575757575757, 0.6666666666666665, 0.7878787878787876, 0.7272727272727275, 0.5151515151515151, 0.7575757575757573, 0.5151515151515151, 0.7575757575757573, 0.6363636363636362, 0.5757575757575757, 0.6363636363636362, 0.5151515151515151, 0.4545454545454546, 0.6969696969696968, 0.7575757575757573, 0.6969696969696968, 0.3939393939393938, 0.6969696969696968, 0.7272727272727275, 0.48484848484848464, 0.5454545454545454, 0.606060606060606, 0.6969696969696968, 0.7272727272727275, 0.7272727272727275, 0.5454545454545454, 0.9393939393939394, 0.5757575757575757, 0.48484848484848464, 0.5151515151515151, 0.6363636363636362, 0.5757575757575757, 0.6969696969696968, 0.606060606060606, 0.5151515151515151, 0.606060606060606, 0.6666666666666665, 0.8484848484848482, 0.7575757575757573, 0.8181818181818183, 0.8181818181818183, 0.2727272727272727, 0.4545454545454546, 0.7272727272727275, 0.3939393939393938, 0.5757575757575757, 0.7272727272727275, 0.48484848484848464, 0.48484848484848464, 0.5454545454545454, 0.6666666666666665, 0.5757575757575757, 0.5757575757575757, 0.7878787878787876, 0.7575757575757573, 1.0, 0.6666666666666665, 0.606060606060606, 0.6969696969696968, 0.5151515151515151, 1.0, 0.606060606060606, 0.48484848484848464, 0.5151515151515151, 0.6969696969696968, 0.4545454545454546, 0.6666666666666665, 0.5454545454545454, 0.5757575757575757, 0.48484848484848464, 0.606060606060606, 0.8181818181818183, 0.6363636363636362, 0.5454545454545454, 0.3939393939393938, 0.606060606060606, 0.5151515151515151, 0.48484848484848464, 0.5151515151515151, 0.5454545454545454, 0.48484848484848464, 0.6363636363636362, 0.5454545454545454, 0.8181818181818183, 0.48484848484848464, 0.3939393939393938, 0.48484848484848464, 0.4545454545454546, 0.48484848484848464, 0.6969696969696968, 0.606060606060606, 0.7878787878787876, 0.6969696969696968, 0.7878787878787876, 0.6969696969696968, 0.303030303030303]}],\n",
       "                        {\"height\": 700, \"template\": {\"data\": {\"bar\": [{\"error_x\": {\"color\": \"#2a3f5f\"}, \"error_y\": {\"color\": \"#2a3f5f\"}, \"marker\": {\"line\": {\"color\": \"#E5ECF6\", \"width\": 0.5}}, \"type\": \"bar\"}], \"barpolar\": [{\"marker\": {\"line\": {\"color\": \"#E5ECF6\", \"width\": 0.5}}, \"type\": \"barpolar\"}], \"carpet\": [{\"aaxis\": {\"endlinecolor\": \"#2a3f5f\", \"gridcolor\": \"white\", \"linecolor\": \"white\", \"minorgridcolor\": \"white\", \"startlinecolor\": \"#2a3f5f\"}, \"baxis\": {\"endlinecolor\": \"#2a3f5f\", \"gridcolor\": \"white\", \"linecolor\": \"white\", \"minorgridcolor\": \"white\", \"startlinecolor\": \"#2a3f5f\"}, \"type\": \"carpet\"}], \"choropleth\": [{\"colorbar\": {\"outlinewidth\": 0, \"ticks\": \"\"}, \"type\": \"choropleth\"}], \"contour\": [{\"colorbar\": {\"outlinewidth\": 0, \"ticks\": \"\"}, \"colorscale\": [[0.0, \"#0d0887\"], [0.1111111111111111, \"#46039f\"], [0.2222222222222222, \"#7201a8\"], [0.3333333333333333, \"#9c179e\"], [0.4444444444444444, \"#bd3786\"], [0.5555555555555556, \"#d8576b\"], [0.6666666666666666, \"#ed7953\"], [0.7777777777777778, \"#fb9f3a\"], [0.8888888888888888, \"#fdca26\"], [1.0, \"#f0f921\"]], \"type\": \"contour\"}], \"contourcarpet\": [{\"colorbar\": {\"outlinewidth\": 0, \"ticks\": \"\"}, \"type\": \"contourcarpet\"}], \"heatmap\": [{\"colorbar\": {\"outlinewidth\": 0, \"ticks\": \"\"}, \"colorscale\": [[0.0, \"#0d0887\"], [0.1111111111111111, \"#46039f\"], [0.2222222222222222, \"#7201a8\"], [0.3333333333333333, \"#9c179e\"], [0.4444444444444444, \"#bd3786\"], [0.5555555555555556, \"#d8576b\"], [0.6666666666666666, \"#ed7953\"], [0.7777777777777778, \"#fb9f3a\"], [0.8888888888888888, \"#fdca26\"], [1.0, \"#f0f921\"]], \"type\": \"heatmap\"}], \"heatmapgl\": [{\"colorbar\": {\"outlinewidth\": 0, \"ticks\": \"\"}, \"colorscale\": [[0.0, \"#0d0887\"], [0.1111111111111111, \"#46039f\"], [0.2222222222222222, \"#7201a8\"], [0.3333333333333333, \"#9c179e\"], [0.4444444444444444, \"#bd3786\"], [0.5555555555555556, \"#d8576b\"], [0.6666666666666666, \"#ed7953\"], [0.7777777777777778, \"#fb9f3a\"], [0.8888888888888888, \"#fdca26\"], [1.0, \"#f0f921\"]], \"type\": \"heatmapgl\"}], \"histogram\": [{\"marker\": {\"colorbar\": {\"outlinewidth\": 0, \"ticks\": \"\"}}, \"type\": \"histogram\"}], \"histogram2d\": [{\"colorbar\": {\"outlinewidth\": 0, \"ticks\": \"\"}, \"colorscale\": [[0.0, \"#0d0887\"], [0.1111111111111111, \"#46039f\"], [0.2222222222222222, \"#7201a8\"], [0.3333333333333333, \"#9c179e\"], [0.4444444444444444, \"#bd3786\"], [0.5555555555555556, \"#d8576b\"], [0.6666666666666666, \"#ed7953\"], [0.7777777777777778, \"#fb9f3a\"], [0.8888888888888888, \"#fdca26\"], [1.0, \"#f0f921\"]], \"type\": \"histogram2d\"}], \"histogram2dcontour\": [{\"colorbar\": {\"outlinewidth\": 0, \"ticks\": \"\"}, \"colorscale\": [[0.0, \"#0d0887\"], [0.1111111111111111, \"#46039f\"], [0.2222222222222222, \"#7201a8\"], [0.3333333333333333, \"#9c179e\"], [0.4444444444444444, \"#bd3786\"], [0.5555555555555556, \"#d8576b\"], [0.6666666666666666, \"#ed7953\"], [0.7777777777777778, \"#fb9f3a\"], [0.8888888888888888, \"#fdca26\"], [1.0, \"#f0f921\"]], \"type\": \"histogram2dcontour\"}], \"mesh3d\": [{\"colorbar\": {\"outlinewidth\": 0, \"ticks\": \"\"}, \"type\": \"mesh3d\"}], \"parcoords\": [{\"line\": {\"colorbar\": {\"outlinewidth\": 0, \"ticks\": \"\"}}, \"type\": \"parcoords\"}], \"pie\": [{\"automargin\": true, \"type\": \"pie\"}], \"scatter\": [{\"marker\": {\"colorbar\": {\"outlinewidth\": 0, \"ticks\": \"\"}}, \"type\": \"scatter\"}], \"scatter3d\": [{\"line\": {\"colorbar\": {\"outlinewidth\": 0, \"ticks\": \"\"}}, \"marker\": {\"colorbar\": {\"outlinewidth\": 0, \"ticks\": \"\"}}, \"type\": \"scatter3d\"}], \"scattercarpet\": [{\"marker\": {\"colorbar\": {\"outlinewidth\": 0, \"ticks\": \"\"}}, \"type\": \"scattercarpet\"}], \"scattergeo\": [{\"marker\": {\"colorbar\": {\"outlinewidth\": 0, \"ticks\": \"\"}}, \"type\": \"scattergeo\"}], \"scattergl\": [{\"marker\": {\"colorbar\": {\"outlinewidth\": 0, \"ticks\": \"\"}}, \"type\": \"scattergl\"}], \"scattermapbox\": [{\"marker\": {\"colorbar\": {\"outlinewidth\": 0, \"ticks\": \"\"}}, \"type\": \"scattermapbox\"}], \"scatterpolar\": [{\"marker\": {\"colorbar\": {\"outlinewidth\": 0, \"ticks\": \"\"}}, \"type\": \"scatterpolar\"}], \"scatterpolargl\": [{\"marker\": {\"colorbar\": {\"outlinewidth\": 0, \"ticks\": \"\"}}, \"type\": \"scatterpolargl\"}], \"scatterternary\": [{\"marker\": {\"colorbar\": {\"outlinewidth\": 0, \"ticks\": \"\"}}, \"type\": \"scatterternary\"}], \"surface\": [{\"colorbar\": {\"outlinewidth\": 0, \"ticks\": \"\"}, \"colorscale\": [[0.0, \"#0d0887\"], [0.1111111111111111, \"#46039f\"], [0.2222222222222222, \"#7201a8\"], [0.3333333333333333, \"#9c179e\"], [0.4444444444444444, \"#bd3786\"], [0.5555555555555556, \"#d8576b\"], [0.6666666666666666, \"#ed7953\"], [0.7777777777777778, \"#fb9f3a\"], [0.8888888888888888, \"#fdca26\"], [1.0, \"#f0f921\"]], \"type\": \"surface\"}], \"table\": [{\"cells\": {\"fill\": {\"color\": \"#EBF0F8\"}, \"line\": {\"color\": \"white\"}}, \"header\": {\"fill\": {\"color\": \"#C8D4E3\"}, \"line\": {\"color\": \"white\"}}, \"type\": \"table\"}]}, \"layout\": {\"annotationdefaults\": {\"arrowcolor\": \"#2a3f5f\", \"arrowhead\": 0, \"arrowwidth\": 1}, \"coloraxis\": {\"colorbar\": {\"outlinewidth\": 0, \"ticks\": \"\"}}, \"colorscale\": {\"diverging\": [[0, \"#8e0152\"], [0.1, \"#c51b7d\"], [0.2, \"#de77ae\"], [0.3, \"#f1b6da\"], [0.4, \"#fde0ef\"], [0.5, \"#f7f7f7\"], [0.6, \"#e6f5d0\"], [0.7, \"#b8e186\"], [0.8, \"#7fbc41\"], [0.9, \"#4d9221\"], [1, \"#276419\"]], \"sequential\": [[0.0, \"#0d0887\"], [0.1111111111111111, \"#46039f\"], [0.2222222222222222, \"#7201a8\"], [0.3333333333333333, \"#9c179e\"], [0.4444444444444444, \"#bd3786\"], [0.5555555555555556, \"#d8576b\"], [0.6666666666666666, \"#ed7953\"], [0.7777777777777778, \"#fb9f3a\"], [0.8888888888888888, \"#fdca26\"], [1.0, \"#f0f921\"]], \"sequentialminus\": [[0.0, \"#0d0887\"], [0.1111111111111111, \"#46039f\"], [0.2222222222222222, \"#7201a8\"], [0.3333333333333333, \"#9c179e\"], [0.4444444444444444, \"#bd3786\"], [0.5555555555555556, \"#d8576b\"], [0.6666666666666666, \"#ed7953\"], [0.7777777777777778, \"#fb9f3a\"], [0.8888888888888888, \"#fdca26\"], [1.0, \"#f0f921\"]]}, \"colorway\": [\"#636efa\", \"#EF553B\", \"#00cc96\", \"#ab63fa\", \"#FFA15A\", \"#19d3f3\", \"#FF6692\", \"#B6E880\", \"#FF97FF\", \"#FECB52\"], \"font\": {\"color\": \"#2a3f5f\"}, \"geo\": {\"bgcolor\": \"white\", \"lakecolor\": \"white\", \"landcolor\": \"#E5ECF6\", \"showlakes\": true, \"showland\": true, \"subunitcolor\": \"white\"}, \"hoverlabel\": {\"align\": \"left\"}, \"hovermode\": \"closest\", \"mapbox\": {\"style\": \"light\"}, \"paper_bgcolor\": \"white\", \"plot_bgcolor\": \"#E5ECF6\", \"polar\": {\"angularaxis\": {\"gridcolor\": \"white\", \"linecolor\": \"white\", \"ticks\": \"\"}, \"bgcolor\": \"#E5ECF6\", \"radialaxis\": {\"gridcolor\": \"white\", \"linecolor\": \"white\", \"ticks\": \"\"}}, \"scene\": {\"xaxis\": {\"backgroundcolor\": \"#E5ECF6\", \"gridcolor\": \"white\", \"gridwidth\": 2, \"linecolor\": \"white\", \"showbackground\": true, \"ticks\": \"\", \"zerolinecolor\": \"white\"}, \"yaxis\": {\"backgroundcolor\": \"#E5ECF6\", \"gridcolor\": \"white\", \"gridwidth\": 2, \"linecolor\": \"white\", \"showbackground\": true, \"ticks\": \"\", \"zerolinecolor\": \"white\"}, \"zaxis\": {\"backgroundcolor\": \"#E5ECF6\", \"gridcolor\": \"white\", \"gridwidth\": 2, \"linecolor\": \"white\", \"showbackground\": true, \"ticks\": \"\", \"zerolinecolor\": \"white\"}}, \"shapedefaults\": {\"line\": {\"color\": \"#2a3f5f\"}}, \"ternary\": {\"aaxis\": {\"gridcolor\": \"white\", \"linecolor\": \"white\", \"ticks\": \"\"}, \"baxis\": {\"gridcolor\": \"white\", \"linecolor\": \"white\", \"ticks\": \"\"}, \"bgcolor\": \"#E5ECF6\", \"caxis\": {\"gridcolor\": \"white\", \"linecolor\": \"white\", \"ticks\": \"\"}}, \"title\": {\"x\": 0.05}, \"xaxis\": {\"automargin\": true, \"gridcolor\": \"white\", \"linecolor\": \"white\", \"ticks\": \"\", \"title\": {\"standoff\": 15}, \"zerolinecolor\": \"white\", \"zerolinewidth\": 2}, \"yaxis\": {\"automargin\": true, \"gridcolor\": \"white\", \"linecolor\": \"white\", \"ticks\": \"\", \"title\": {\"standoff\": 15}, \"zerolinecolor\": \"white\", \"zerolinewidth\": 2}}}, \"title\": {\"text\": \"IMDB Vs Local Ratings Top 100,|TV |sort IMDB Ratings\"}, \"xaxis\": {\"tickangle\": -45, \"title\": {\"text\": \"TV Shows\"}}, \"yaxis\": {\"title\": {\"text\": \"Ratings\"}}},\n",
       "                        {\"responsive\": true}\n",
       "                    ).then(function(){\n",
       "                            \n",
       "var gd = document.getElementById('61226d04-f07b-4534-a36e-3a83b3fac73c');\n",
       "var x = new MutationObserver(function (mutations, observer) {{\n",
       "        var display = window.getComputedStyle(gd).display;\n",
       "        if (!display || display === 'none') {{\n",
       "            console.log([gd, 'removed!']);\n",
       "            Plotly.purge(gd);\n",
       "            observer.disconnect();\n",
       "        }}\n",
       "}});\n",
       "\n",
       "// Listen for the removal of the full notebook cells\n",
       "var notebookContainer = gd.closest('#notebook-container');\n",
       "if (notebookContainer) {{\n",
       "    x.observe(notebookContainer, {childList: true});\n",
       "}}\n",
       "\n",
       "// Listen for the clearing of the current output cell\n",
       "var outputEl = gd.closest('.output');\n",
       "if (outputEl) {{\n",
       "    x.observe(outputEl, {childList: true});\n",
       "}}\n",
       "\n",
       "                        })\n",
       "                };\n",
       "                });\n",
       "            </script>\n",
       "        </div>"
      ]
     },
     "metadata": {},
     "output_type": "display_data"
    }
   ],
   "source": [
    "fig = go.Figure()\n",
    "fig.add_trace(go.Bar(x=tv_names_imdb[:100], y= tv__imdb_ratings_imdb[:100], name=\"IMDB Ratings Top 100|TV\"))\n",
    "fig.add_trace(go.Bar(x=tv_names_imdb[:100], y= tv_local_ratings_imdb[:100], name=\"Local Ratings Top 100|TV\"))\n",
    "fig.update_xaxes(tickangle=-45)\n",
    "fig.update_layout(xaxis_title =\"TV Shows\", yaxis_title=\"Ratings\", title=\"IMDB Vs Local Ratings Top 100,|TV |sort IMDB Ratings\", height=700,)"
   ]
  },
  {
   "cell_type": "code",
   "execution_count": 42,
   "metadata": {
    "ExecuteTime": {
     "end_time": "2020-07-15T04:11:59.857816Z",
     "start_time": "2020-07-15T04:11:59.812817Z"
    },
    "scrolled": true
   },
   "outputs": [
    {
     "data": {
      "application/vnd.plotly.v1+json": {
       "config": {
        "plotlyServerURL": "https://plot.ly"
       },
       "data": [
        {
         "name": "IMDB Ratings Bottom 100|TV",
         "type": "bar",
         "x": [
          "Shooter",
          "SEAL Team",
          "The Middle",
          "Blue Bloods",
          "Chicago Med",
          "The Gifted",
          "Smallville",
          "Blindspot",
          "Good Trouble",
          "Empire",
          "Pretty Little Liars",
          "Gossip Girl",
          "Colony",
          "Young Sheldon",
          "Wynonna Earp",
          "Martin",
          "Midnight, Texas",
          "Private Eyes",
          "Luke Cage",
          "Six",
          "Star Trek: Discovery",
          "Hawaii Five-0",
          "Gold Rush: Alaska",
          "Lost in Space",
          "Claws",
          "The Last Man on Earth",
          "Dynasty",
          "Manifest",
          "Scream: The TV Series",
          "Survivor",
          "The Shannara Chronicles",
          "Mom",
          "For The People",
          "Killjoys",
          "Scorpion",
          "Black-ish",
          "Hell's Kitchen",
          "Sex and the City",
          "Scream Queens",
          "Salvation",
          "Riverdale",
          "Deep State",
          "Bull",
          "Siren",
          "S.W.A.T.",
          "Avengers Assemble",
          "Runaways",
          "The Curse of Oak Island",
          "Two and a Half Men",
          "God Friended Me",
          "Victorious",
          "Fear the Walking Dead",
          "Famous in Love",
          "Krypton",
          "Knightfall",
          "Wizards of Waverly Place",
          "DC's Legends of Tomorrow",
          "NCIS: New Orleans",
          "Cloak & Dagger",
          "Z Nation",
          "FBI",
          "NCIS: Los Angeles",
          "Star",
          "2 Broke Girls",
          "Quantico",
          "Shadowhunters",
          "Ransom",
          "Taken",
          "Instinct",
          "Are You the One?",
          "Insatiable",
          "Station 19",
          "Iron Fist",
          "Grown-ish",
          "The Purge",
          "The Neighborhood",
          "Supergirl",
          "Van Helsing",
          "PAW Patrol",
          "Roswell, New Mexico",
          "Black Lightning",
          "Temptation Island",
          "Zoey 101",
          "Judge Judy",
          "The Outpost",
          "Magnum P.I.",
          "America's Next Top Model",
          "MacGyver",
          "Love Island",
          "Dance Moms",
          "Bad Girls Club",
          "Charmed",
          "The Real Housewives of Atlanta",
          "Teen Mom 2",
          "Basketball Wives",
          "The Bachelorette",
          "Keeping Up with the Kardashians",
          "\"The Geekly News\" GEEKLY NEWS - SUPERGIRL, CAPTAIN AMERICA 3, ARROW, WOLVERINE and MORE!!!",
          "\"The Wendy Williams Show\" Empire #2",
          "Black Ink Crew: Chicago"
         ],
         "y": [
          0.7894736842105263,
          0.7894736842105263,
          0.7894736842105263,
          0.7894736842105263,
          0.7894736842105263,
          0.7789473684210526,
          0.7789473684210526,
          0.7789473684210526,
          0.7789473684210526,
          0.7789473684210526,
          0.7789473684210526,
          0.7789473684210526,
          0.7789473684210526,
          0.7789473684210526,
          0.7789473684210526,
          0.7789473684210526,
          0.7789473684210526,
          0.7789473684210526,
          0.7684210526315789,
          0.7684210526315789,
          0.7684210526315789,
          0.7684210526315789,
          0.7684210526315789,
          0.7684210526315789,
          0.7684210526315789,
          0.7684210526315789,
          0.7684210526315789,
          0.7578947368421053,
          0.7578947368421053,
          0.7578947368421053,
          0.7578947368421053,
          0.7578947368421053,
          0.7578947368421053,
          0.7578947368421053,
          0.7473684210526315,
          0.7473684210526315,
          0.7473684210526315,
          0.7473684210526315,
          0.7473684210526315,
          0.7368421052631579,
          0.7368421052631579,
          0.7368421052631579,
          0.7368421052631579,
          0.7368421052631579,
          0.7368421052631579,
          0.7368421052631579,
          0.7368421052631579,
          0.7368421052631579,
          0.7368421052631579,
          0.7263157894736842,
          0.7263157894736842,
          0.7263157894736842,
          0.7263157894736842,
          0.7263157894736842,
          0.7157894736842104,
          0.7157894736842104,
          0.7157894736842104,
          0.7157894736842104,
          0.7052631578947368,
          0.7052631578947368,
          0.7052631578947368,
          0.7052631578947368,
          0.7052631578947368,
          0.7052631578947368,
          0.7052631578947368,
          0.6947368421052631,
          0.6947368421052631,
          0.6947368421052631,
          0.6947368421052631,
          0.6947368421052631,
          0.6947368421052631,
          0.6842105263157894,
          0.6842105263157894,
          0.6736842105263158,
          0.6736842105263158,
          0.6736842105263158,
          0.6631578947368421,
          0.6526315789473685,
          0.6526315789473685,
          0.6421052631578946,
          0.6421052631578946,
          0.6421052631578946,
          0.631578947368421,
          0.631578947368421,
          0.6210526315789474,
          0.6,
          0.5789473684210527,
          0.5473684210526316,
          0.5368421052631578,
          0.4842105263157894,
          0.4842105263157894,
          0.47368421052631576,
          0.4526315789473684,
          0.4526315789473684,
          0.3684210526315789,
          0.3578947368421052,
          0.29473684210526313,
          0,
          0,
          0
         ]
        },
        {
         "name": "Local Ratings Bottom 100|TV",
         "type": "bar",
         "x": [
          "Shooter",
          "SEAL Team",
          "The Middle",
          "Blue Bloods",
          "Chicago Med",
          "The Gifted",
          "Smallville",
          "Blindspot",
          "Good Trouble",
          "Empire",
          "Pretty Little Liars",
          "Gossip Girl",
          "Colony",
          "Young Sheldon",
          "Wynonna Earp",
          "Martin",
          "Midnight, Texas",
          "Private Eyes",
          "Luke Cage",
          "Six",
          "Star Trek: Discovery",
          "Hawaii Five-0",
          "Gold Rush: Alaska",
          "Lost in Space",
          "Claws",
          "The Last Man on Earth",
          "Dynasty",
          "Manifest",
          "Scream: The TV Series",
          "Survivor",
          "The Shannara Chronicles",
          "Mom",
          "For The People",
          "Killjoys",
          "Scorpion",
          "Black-ish",
          "Hell's Kitchen",
          "Sex and the City",
          "Scream Queens",
          "Salvation",
          "Riverdale",
          "Deep State",
          "Bull",
          "Siren",
          "S.W.A.T.",
          "Avengers Assemble",
          "Runaways",
          "The Curse of Oak Island",
          "Two and a Half Men",
          "God Friended Me",
          "Victorious",
          "Fear the Walking Dead",
          "Famous in Love",
          "Krypton",
          "Knightfall",
          "Wizards of Waverly Place",
          "DC's Legends of Tomorrow",
          "NCIS: New Orleans",
          "Cloak & Dagger",
          "Z Nation",
          "FBI",
          "NCIS: Los Angeles",
          "Star",
          "2 Broke Girls",
          "Quantico",
          "Shadowhunters",
          "Ransom",
          "Taken",
          "Instinct",
          "Are You the One?",
          "Insatiable",
          "Station 19",
          "Iron Fist",
          "Grown-ish",
          "The Purge",
          "The Neighborhood",
          "Supergirl",
          "Van Helsing",
          "PAW Patrol",
          "Roswell, New Mexico",
          "Black Lightning",
          "Temptation Island",
          "Zoey 101",
          "Judge Judy",
          "The Outpost",
          "Magnum P.I.",
          "America's Next Top Model",
          "MacGyver",
          "Love Island",
          "Dance Moms",
          "Bad Girls Club",
          "Charmed",
          "The Real Housewives of Atlanta",
          "Teen Mom 2",
          "Basketball Wives",
          "The Bachelorette",
          "Keeping Up with the Kardashians",
          "\"The Geekly News\" GEEKLY NEWS - SUPERGIRL, CAPTAIN AMERICA 3, ARROW, WOLVERINE and MORE!!!",
          "\"The Wendy Williams Show\" Empire #2",
          "Black Ink Crew: Chicago"
         ],
         "y": [
          0.7878787878787876,
          0.48484848484848464,
          0.7878787878787876,
          0.6969696969696968,
          0.3939393939393938,
          0.5151515151515151,
          0.6666666666666665,
          0.5757575757575757,
          0.606060606060606,
          0.48484848484848464,
          0.48484848484848464,
          0.36363636363636354,
          0.606060606060606,
          0.36363636363636354,
          0.7272727272727275,
          0.6363636363636362,
          0.6666666666666665,
          0.6969696969696968,
          0.7272727272727275,
          0.5454545454545454,
          0.5454545454545454,
          0.606060606060606,
          0.6969696969696968,
          0.3939393939393938,
          0.3939393939393938,
          0.5757575757575757,
          0.303030303030303,
          0.5757575757575757,
          0.7272727272727275,
          0.6969696969696968,
          0.6363636363636362,
          0.5454545454545454,
          0.3939393939393938,
          0.6666666666666665,
          0.606060606060606,
          0.5151515151515151,
          0.8787878787878789,
          0.3939393939393938,
          0.5454545454545454,
          0.7878787878787876,
          0.6363636363636362,
          0.3939393939393938,
          0.48484848484848464,
          0.48484848484848464,
          0.48484848484848464,
          0.606060606060606,
          0.4545454545454546,
          0.606060606060606,
          0.6363636363636362,
          0.7878787878787876,
          0.5454545454545454,
          0.48484848484848464,
          0.5757575757575757,
          0.4242424242424243,
          0.4242424242424243,
          0.5151515151515151,
          0.6363636363636362,
          0.6969696969696968,
          0.303030303030303,
          0.6363636363636362,
          0.5757575757575757,
          0.7272727272727275,
          0.606060606060606,
          0.48484848484848464,
          0.5151515151515151,
          0.5757575757575757,
          0.33333333333333326,
          0.6666666666666665,
          0.4242424242424243,
          0.21212121212121215,
          0.33333333333333326,
          0.3939393939393938,
          0.7878787878787876,
          0.4545454545454546,
          0.6363636363636362,
          0.7575757575757573,
          0.6969696969696968,
          0.6363636363636362,
          0.6666666666666665,
          0.606060606060606,
          0.48484848484848464,
          0.33333333333333326,
          0.5757575757575757,
          0.5151515151515151,
          0.36363636363636354,
          0.7272727272727275,
          0.4242424242424243,
          0.6666666666666665,
          0.33333333333333326,
          0.6969696969696968,
          0.4545454545454546,
          0.5151515151515151,
          0.3939393939393938,
          0.5151515151515151,
          0,
          0.36363636363636354,
          0.4242424242424243,
          0.6363636363636362,
          0.4242424242424243,
          0.48484848484848464
         ]
        }
       ],
       "layout": {
        "height": 700,
        "template": {
         "data": {
          "bar": [
           {
            "error_x": {
             "color": "#2a3f5f"
            },
            "error_y": {
             "color": "#2a3f5f"
            },
            "marker": {
             "line": {
              "color": "#E5ECF6",
              "width": 0.5
             }
            },
            "type": "bar"
           }
          ],
          "barpolar": [
           {
            "marker": {
             "line": {
              "color": "#E5ECF6",
              "width": 0.5
             }
            },
            "type": "barpolar"
           }
          ],
          "carpet": [
           {
            "aaxis": {
             "endlinecolor": "#2a3f5f",
             "gridcolor": "white",
             "linecolor": "white",
             "minorgridcolor": "white",
             "startlinecolor": "#2a3f5f"
            },
            "baxis": {
             "endlinecolor": "#2a3f5f",
             "gridcolor": "white",
             "linecolor": "white",
             "minorgridcolor": "white",
             "startlinecolor": "#2a3f5f"
            },
            "type": "carpet"
           }
          ],
          "choropleth": [
           {
            "colorbar": {
             "outlinewidth": 0,
             "ticks": ""
            },
            "type": "choropleth"
           }
          ],
          "contour": [
           {
            "colorbar": {
             "outlinewidth": 0,
             "ticks": ""
            },
            "colorscale": [
             [
              0,
              "#0d0887"
             ],
             [
              0.1111111111111111,
              "#46039f"
             ],
             [
              0.2222222222222222,
              "#7201a8"
             ],
             [
              0.3333333333333333,
              "#9c179e"
             ],
             [
              0.4444444444444444,
              "#bd3786"
             ],
             [
              0.5555555555555556,
              "#d8576b"
             ],
             [
              0.6666666666666666,
              "#ed7953"
             ],
             [
              0.7777777777777778,
              "#fb9f3a"
             ],
             [
              0.8888888888888888,
              "#fdca26"
             ],
             [
              1,
              "#f0f921"
             ]
            ],
            "type": "contour"
           }
          ],
          "contourcarpet": [
           {
            "colorbar": {
             "outlinewidth": 0,
             "ticks": ""
            },
            "type": "contourcarpet"
           }
          ],
          "heatmap": [
           {
            "colorbar": {
             "outlinewidth": 0,
             "ticks": ""
            },
            "colorscale": [
             [
              0,
              "#0d0887"
             ],
             [
              0.1111111111111111,
              "#46039f"
             ],
             [
              0.2222222222222222,
              "#7201a8"
             ],
             [
              0.3333333333333333,
              "#9c179e"
             ],
             [
              0.4444444444444444,
              "#bd3786"
             ],
             [
              0.5555555555555556,
              "#d8576b"
             ],
             [
              0.6666666666666666,
              "#ed7953"
             ],
             [
              0.7777777777777778,
              "#fb9f3a"
             ],
             [
              0.8888888888888888,
              "#fdca26"
             ],
             [
              1,
              "#f0f921"
             ]
            ],
            "type": "heatmap"
           }
          ],
          "heatmapgl": [
           {
            "colorbar": {
             "outlinewidth": 0,
             "ticks": ""
            },
            "colorscale": [
             [
              0,
              "#0d0887"
             ],
             [
              0.1111111111111111,
              "#46039f"
             ],
             [
              0.2222222222222222,
              "#7201a8"
             ],
             [
              0.3333333333333333,
              "#9c179e"
             ],
             [
              0.4444444444444444,
              "#bd3786"
             ],
             [
              0.5555555555555556,
              "#d8576b"
             ],
             [
              0.6666666666666666,
              "#ed7953"
             ],
             [
              0.7777777777777778,
              "#fb9f3a"
             ],
             [
              0.8888888888888888,
              "#fdca26"
             ],
             [
              1,
              "#f0f921"
             ]
            ],
            "type": "heatmapgl"
           }
          ],
          "histogram": [
           {
            "marker": {
             "colorbar": {
              "outlinewidth": 0,
              "ticks": ""
             }
            },
            "type": "histogram"
           }
          ],
          "histogram2d": [
           {
            "colorbar": {
             "outlinewidth": 0,
             "ticks": ""
            },
            "colorscale": [
             [
              0,
              "#0d0887"
             ],
             [
              0.1111111111111111,
              "#46039f"
             ],
             [
              0.2222222222222222,
              "#7201a8"
             ],
             [
              0.3333333333333333,
              "#9c179e"
             ],
             [
              0.4444444444444444,
              "#bd3786"
             ],
             [
              0.5555555555555556,
              "#d8576b"
             ],
             [
              0.6666666666666666,
              "#ed7953"
             ],
             [
              0.7777777777777778,
              "#fb9f3a"
             ],
             [
              0.8888888888888888,
              "#fdca26"
             ],
             [
              1,
              "#f0f921"
             ]
            ],
            "type": "histogram2d"
           }
          ],
          "histogram2dcontour": [
           {
            "colorbar": {
             "outlinewidth": 0,
             "ticks": ""
            },
            "colorscale": [
             [
              0,
              "#0d0887"
             ],
             [
              0.1111111111111111,
              "#46039f"
             ],
             [
              0.2222222222222222,
              "#7201a8"
             ],
             [
              0.3333333333333333,
              "#9c179e"
             ],
             [
              0.4444444444444444,
              "#bd3786"
             ],
             [
              0.5555555555555556,
              "#d8576b"
             ],
             [
              0.6666666666666666,
              "#ed7953"
             ],
             [
              0.7777777777777778,
              "#fb9f3a"
             ],
             [
              0.8888888888888888,
              "#fdca26"
             ],
             [
              1,
              "#f0f921"
             ]
            ],
            "type": "histogram2dcontour"
           }
          ],
          "mesh3d": [
           {
            "colorbar": {
             "outlinewidth": 0,
             "ticks": ""
            },
            "type": "mesh3d"
           }
          ],
          "parcoords": [
           {
            "line": {
             "colorbar": {
              "outlinewidth": 0,
              "ticks": ""
             }
            },
            "type": "parcoords"
           }
          ],
          "pie": [
           {
            "automargin": true,
            "type": "pie"
           }
          ],
          "scatter": [
           {
            "marker": {
             "colorbar": {
              "outlinewidth": 0,
              "ticks": ""
             }
            },
            "type": "scatter"
           }
          ],
          "scatter3d": [
           {
            "line": {
             "colorbar": {
              "outlinewidth": 0,
              "ticks": ""
             }
            },
            "marker": {
             "colorbar": {
              "outlinewidth": 0,
              "ticks": ""
             }
            },
            "type": "scatter3d"
           }
          ],
          "scattercarpet": [
           {
            "marker": {
             "colorbar": {
              "outlinewidth": 0,
              "ticks": ""
             }
            },
            "type": "scattercarpet"
           }
          ],
          "scattergeo": [
           {
            "marker": {
             "colorbar": {
              "outlinewidth": 0,
              "ticks": ""
             }
            },
            "type": "scattergeo"
           }
          ],
          "scattergl": [
           {
            "marker": {
             "colorbar": {
              "outlinewidth": 0,
              "ticks": ""
             }
            },
            "type": "scattergl"
           }
          ],
          "scattermapbox": [
           {
            "marker": {
             "colorbar": {
              "outlinewidth": 0,
              "ticks": ""
             }
            },
            "type": "scattermapbox"
           }
          ],
          "scatterpolar": [
           {
            "marker": {
             "colorbar": {
              "outlinewidth": 0,
              "ticks": ""
             }
            },
            "type": "scatterpolar"
           }
          ],
          "scatterpolargl": [
           {
            "marker": {
             "colorbar": {
              "outlinewidth": 0,
              "ticks": ""
             }
            },
            "type": "scatterpolargl"
           }
          ],
          "scatterternary": [
           {
            "marker": {
             "colorbar": {
              "outlinewidth": 0,
              "ticks": ""
             }
            },
            "type": "scatterternary"
           }
          ],
          "surface": [
           {
            "colorbar": {
             "outlinewidth": 0,
             "ticks": ""
            },
            "colorscale": [
             [
              0,
              "#0d0887"
             ],
             [
              0.1111111111111111,
              "#46039f"
             ],
             [
              0.2222222222222222,
              "#7201a8"
             ],
             [
              0.3333333333333333,
              "#9c179e"
             ],
             [
              0.4444444444444444,
              "#bd3786"
             ],
             [
              0.5555555555555556,
              "#d8576b"
             ],
             [
              0.6666666666666666,
              "#ed7953"
             ],
             [
              0.7777777777777778,
              "#fb9f3a"
             ],
             [
              0.8888888888888888,
              "#fdca26"
             ],
             [
              1,
              "#f0f921"
             ]
            ],
            "type": "surface"
           }
          ],
          "table": [
           {
            "cells": {
             "fill": {
              "color": "#EBF0F8"
             },
             "line": {
              "color": "white"
             }
            },
            "header": {
             "fill": {
              "color": "#C8D4E3"
             },
             "line": {
              "color": "white"
             }
            },
            "type": "table"
           }
          ]
         },
         "layout": {
          "annotationdefaults": {
           "arrowcolor": "#2a3f5f",
           "arrowhead": 0,
           "arrowwidth": 1
          },
          "coloraxis": {
           "colorbar": {
            "outlinewidth": 0,
            "ticks": ""
           }
          },
          "colorscale": {
           "diverging": [
            [
             0,
             "#8e0152"
            ],
            [
             0.1,
             "#c51b7d"
            ],
            [
             0.2,
             "#de77ae"
            ],
            [
             0.3,
             "#f1b6da"
            ],
            [
             0.4,
             "#fde0ef"
            ],
            [
             0.5,
             "#f7f7f7"
            ],
            [
             0.6,
             "#e6f5d0"
            ],
            [
             0.7,
             "#b8e186"
            ],
            [
             0.8,
             "#7fbc41"
            ],
            [
             0.9,
             "#4d9221"
            ],
            [
             1,
             "#276419"
            ]
           ],
           "sequential": [
            [
             0,
             "#0d0887"
            ],
            [
             0.1111111111111111,
             "#46039f"
            ],
            [
             0.2222222222222222,
             "#7201a8"
            ],
            [
             0.3333333333333333,
             "#9c179e"
            ],
            [
             0.4444444444444444,
             "#bd3786"
            ],
            [
             0.5555555555555556,
             "#d8576b"
            ],
            [
             0.6666666666666666,
             "#ed7953"
            ],
            [
             0.7777777777777778,
             "#fb9f3a"
            ],
            [
             0.8888888888888888,
             "#fdca26"
            ],
            [
             1,
             "#f0f921"
            ]
           ],
           "sequentialminus": [
            [
             0,
             "#0d0887"
            ],
            [
             0.1111111111111111,
             "#46039f"
            ],
            [
             0.2222222222222222,
             "#7201a8"
            ],
            [
             0.3333333333333333,
             "#9c179e"
            ],
            [
             0.4444444444444444,
             "#bd3786"
            ],
            [
             0.5555555555555556,
             "#d8576b"
            ],
            [
             0.6666666666666666,
             "#ed7953"
            ],
            [
             0.7777777777777778,
             "#fb9f3a"
            ],
            [
             0.8888888888888888,
             "#fdca26"
            ],
            [
             1,
             "#f0f921"
            ]
           ]
          },
          "colorway": [
           "#636efa",
           "#EF553B",
           "#00cc96",
           "#ab63fa",
           "#FFA15A",
           "#19d3f3",
           "#FF6692",
           "#B6E880",
           "#FF97FF",
           "#FECB52"
          ],
          "font": {
           "color": "#2a3f5f"
          },
          "geo": {
           "bgcolor": "white",
           "lakecolor": "white",
           "landcolor": "#E5ECF6",
           "showlakes": true,
           "showland": true,
           "subunitcolor": "white"
          },
          "hoverlabel": {
           "align": "left"
          },
          "hovermode": "closest",
          "mapbox": {
           "style": "light"
          },
          "paper_bgcolor": "white",
          "plot_bgcolor": "#E5ECF6",
          "polar": {
           "angularaxis": {
            "gridcolor": "white",
            "linecolor": "white",
            "ticks": ""
           },
           "bgcolor": "#E5ECF6",
           "radialaxis": {
            "gridcolor": "white",
            "linecolor": "white",
            "ticks": ""
           }
          },
          "scene": {
           "xaxis": {
            "backgroundcolor": "#E5ECF6",
            "gridcolor": "white",
            "gridwidth": 2,
            "linecolor": "white",
            "showbackground": true,
            "ticks": "",
            "zerolinecolor": "white"
           },
           "yaxis": {
            "backgroundcolor": "#E5ECF6",
            "gridcolor": "white",
            "gridwidth": 2,
            "linecolor": "white",
            "showbackground": true,
            "ticks": "",
            "zerolinecolor": "white"
           },
           "zaxis": {
            "backgroundcolor": "#E5ECF6",
            "gridcolor": "white",
            "gridwidth": 2,
            "linecolor": "white",
            "showbackground": true,
            "ticks": "",
            "zerolinecolor": "white"
           }
          },
          "shapedefaults": {
           "line": {
            "color": "#2a3f5f"
           }
          },
          "ternary": {
           "aaxis": {
            "gridcolor": "white",
            "linecolor": "white",
            "ticks": ""
           },
           "baxis": {
            "gridcolor": "white",
            "linecolor": "white",
            "ticks": ""
           },
           "bgcolor": "#E5ECF6",
           "caxis": {
            "gridcolor": "white",
            "linecolor": "white",
            "ticks": ""
           }
          },
          "title": {
           "x": 0.05
          },
          "xaxis": {
           "automargin": true,
           "gridcolor": "white",
           "linecolor": "white",
           "ticks": "",
           "title": {
            "standoff": 15
           },
           "zerolinecolor": "white",
           "zerolinewidth": 2
          },
          "yaxis": {
           "automargin": true,
           "gridcolor": "white",
           "linecolor": "white",
           "ticks": "",
           "title": {
            "standoff": 15
           },
           "zerolinecolor": "white",
           "zerolinewidth": 2
          }
         }
        },
        "title": {
         "text": "IMDB Vs Local Ratings Bottom 100,|TV |sort IMDB Ratings"
        },
        "xaxis": {
         "tickangle": -45,
         "title": {
          "text": "TV Shows"
         }
        },
        "yaxis": {
         "title": {
          "text": "Ratings"
         }
        }
       }
      },
      "text/html": [
       "<div>\n",
       "        \n",
       "        \n",
       "            <div id=\"ee417c5e-7d89-46c9-8c7f-2a5c25117c42\" class=\"plotly-graph-div\" style=\"height:700px; width:100%;\"></div>\n",
       "            <script type=\"text/javascript\">\n",
       "                require([\"plotly\"], function(Plotly) {\n",
       "                    window.PLOTLYENV=window.PLOTLYENV || {};\n",
       "                    \n",
       "                if (document.getElementById(\"ee417c5e-7d89-46c9-8c7f-2a5c25117c42\")) {\n",
       "                    Plotly.newPlot(\n",
       "                        'ee417c5e-7d89-46c9-8c7f-2a5c25117c42',\n",
       "                        [{\"name\": \"IMDB Ratings Bottom 100|TV\", \"type\": \"bar\", \"x\": [\"Shooter\", \"SEAL Team\", \"The Middle\", \"Blue Bloods\", \"Chicago Med\", \"The Gifted\", \"Smallville\", \"Blindspot\", \"Good Trouble\", \"Empire\", \"Pretty Little Liars\", \"Gossip Girl\", \"Colony\", \"Young Sheldon\", \"Wynonna Earp\", \"Martin\", \"Midnight, Texas\", \"Private Eyes\", \"Luke Cage\", \"Six\", \"Star Trek: Discovery\", \"Hawaii Five-0\", \"Gold Rush: Alaska\", \"Lost in Space\", \"Claws\", \"The Last Man on Earth\", \"Dynasty\", \"Manifest\", \"Scream: The TV Series\", \"Survivor\", \"The Shannara Chronicles\", \"Mom\", \"For The People\", \"Killjoys\", \"Scorpion\", \"Black-ish\", \"Hell's Kitchen\", \"Sex and the City\", \"Scream Queens\", \"Salvation\", \"Riverdale\", \"Deep State\", \"Bull\", \"Siren\", \"S.W.A.T.\", \"Avengers Assemble\", \"Runaways\", \"The Curse of Oak Island\", \"Two and a Half Men\", \"God Friended Me\", \"Victorious\", \"Fear the Walking Dead\", \"Famous in Love\", \"Krypton\", \"Knightfall\", \"Wizards of Waverly Place\", \"DC's Legends of Tomorrow\", \"NCIS: New Orleans\", \"Cloak & Dagger\", \"Z Nation\", \"FBI\", \"NCIS: Los Angeles\", \"Star\", \"2 Broke Girls\", \"Quantico\", \"Shadowhunters\", \"Ransom\", \"Taken\", \"Instinct\", \"Are You the One?\", \"Insatiable\", \"Station 19\", \"Iron Fist\", \"Grown-ish\", \"The Purge\", \"The Neighborhood\", \"Supergirl\", \"Van Helsing\", \"PAW Patrol\", \"Roswell, New Mexico\", \"Black Lightning\", \"Temptation Island\", \"Zoey 101\", \"Judge Judy\", \"The Outpost\", \"Magnum P.I.\", \"America's Next Top Model\", \"MacGyver\", \"Love Island\", \"Dance Moms\", \"Bad Girls Club\", \"Charmed\", \"The Real Housewives of Atlanta\", \"Teen Mom 2\", \"Basketball Wives\", \"The Bachelorette\", \"Keeping Up with the Kardashians\", \"\\\"The Geekly News\\\" GEEKLY NEWS - SUPERGIRL, CAPTAIN AMERICA 3, ARROW, WOLVERINE and MORE!!!\", \"\\\"The Wendy Williams Show\\\" Empire #2\", \"Black Ink Crew: Chicago\"], \"y\": [0.7894736842105263, 0.7894736842105263, 0.7894736842105263, 0.7894736842105263, 0.7894736842105263, 0.7789473684210526, 0.7789473684210526, 0.7789473684210526, 0.7789473684210526, 0.7789473684210526, 0.7789473684210526, 0.7789473684210526, 0.7789473684210526, 0.7789473684210526, 0.7789473684210526, 0.7789473684210526, 0.7789473684210526, 0.7789473684210526, 0.7684210526315789, 0.7684210526315789, 0.7684210526315789, 0.7684210526315789, 0.7684210526315789, 0.7684210526315789, 0.7684210526315789, 0.7684210526315789, 0.7684210526315789, 0.7578947368421053, 0.7578947368421053, 0.7578947368421053, 0.7578947368421053, 0.7578947368421053, 0.7578947368421053, 0.7578947368421053, 0.7473684210526315, 0.7473684210526315, 0.7473684210526315, 0.7473684210526315, 0.7473684210526315, 0.7368421052631579, 0.7368421052631579, 0.7368421052631579, 0.7368421052631579, 0.7368421052631579, 0.7368421052631579, 0.7368421052631579, 0.7368421052631579, 0.7368421052631579, 0.7368421052631579, 0.7263157894736842, 0.7263157894736842, 0.7263157894736842, 0.7263157894736842, 0.7263157894736842, 0.7157894736842104, 0.7157894736842104, 0.7157894736842104, 0.7157894736842104, 0.7052631578947368, 0.7052631578947368, 0.7052631578947368, 0.7052631578947368, 0.7052631578947368, 0.7052631578947368, 0.7052631578947368, 0.6947368421052631, 0.6947368421052631, 0.6947368421052631, 0.6947368421052631, 0.6947368421052631, 0.6947368421052631, 0.6842105263157894, 0.6842105263157894, 0.6736842105263158, 0.6736842105263158, 0.6736842105263158, 0.6631578947368421, 0.6526315789473685, 0.6526315789473685, 0.6421052631578946, 0.6421052631578946, 0.6421052631578946, 0.631578947368421, 0.631578947368421, 0.6210526315789474, 0.6, 0.5789473684210527, 0.5473684210526316, 0.5368421052631578, 0.4842105263157894, 0.4842105263157894, 0.47368421052631576, 0.4526315789473684, 0.4526315789473684, 0.3684210526315789, 0.3578947368421052, 0.29473684210526313, 0.0, 0.0, 0.0]}, {\"name\": \"Local Ratings Bottom 100|TV\", \"type\": \"bar\", \"x\": [\"Shooter\", \"SEAL Team\", \"The Middle\", \"Blue Bloods\", \"Chicago Med\", \"The Gifted\", \"Smallville\", \"Blindspot\", \"Good Trouble\", \"Empire\", \"Pretty Little Liars\", \"Gossip Girl\", \"Colony\", \"Young Sheldon\", \"Wynonna Earp\", \"Martin\", \"Midnight, Texas\", \"Private Eyes\", \"Luke Cage\", \"Six\", \"Star Trek: Discovery\", \"Hawaii Five-0\", \"Gold Rush: Alaska\", \"Lost in Space\", \"Claws\", \"The Last Man on Earth\", \"Dynasty\", \"Manifest\", \"Scream: The TV Series\", \"Survivor\", \"The Shannara Chronicles\", \"Mom\", \"For The People\", \"Killjoys\", \"Scorpion\", \"Black-ish\", \"Hell's Kitchen\", \"Sex and the City\", \"Scream Queens\", \"Salvation\", \"Riverdale\", \"Deep State\", \"Bull\", \"Siren\", \"S.W.A.T.\", \"Avengers Assemble\", \"Runaways\", \"The Curse of Oak Island\", \"Two and a Half Men\", \"God Friended Me\", \"Victorious\", \"Fear the Walking Dead\", \"Famous in Love\", \"Krypton\", \"Knightfall\", \"Wizards of Waverly Place\", \"DC's Legends of Tomorrow\", \"NCIS: New Orleans\", \"Cloak & Dagger\", \"Z Nation\", \"FBI\", \"NCIS: Los Angeles\", \"Star\", \"2 Broke Girls\", \"Quantico\", \"Shadowhunters\", \"Ransom\", \"Taken\", \"Instinct\", \"Are You the One?\", \"Insatiable\", \"Station 19\", \"Iron Fist\", \"Grown-ish\", \"The Purge\", \"The Neighborhood\", \"Supergirl\", \"Van Helsing\", \"PAW Patrol\", \"Roswell, New Mexico\", \"Black Lightning\", \"Temptation Island\", \"Zoey 101\", \"Judge Judy\", \"The Outpost\", \"Magnum P.I.\", \"America's Next Top Model\", \"MacGyver\", \"Love Island\", \"Dance Moms\", \"Bad Girls Club\", \"Charmed\", \"The Real Housewives of Atlanta\", \"Teen Mom 2\", \"Basketball Wives\", \"The Bachelorette\", \"Keeping Up with the Kardashians\", \"\\\"The Geekly News\\\" GEEKLY NEWS - SUPERGIRL, CAPTAIN AMERICA 3, ARROW, WOLVERINE and MORE!!!\", \"\\\"The Wendy Williams Show\\\" Empire #2\", \"Black Ink Crew: Chicago\"], \"y\": [0.7878787878787876, 0.48484848484848464, 0.7878787878787876, 0.6969696969696968, 0.3939393939393938, 0.5151515151515151, 0.6666666666666665, 0.5757575757575757, 0.606060606060606, 0.48484848484848464, 0.48484848484848464, 0.36363636363636354, 0.606060606060606, 0.36363636363636354, 0.7272727272727275, 0.6363636363636362, 0.6666666666666665, 0.6969696969696968, 0.7272727272727275, 0.5454545454545454, 0.5454545454545454, 0.606060606060606, 0.6969696969696968, 0.3939393939393938, 0.3939393939393938, 0.5757575757575757, 0.303030303030303, 0.5757575757575757, 0.7272727272727275, 0.6969696969696968, 0.6363636363636362, 0.5454545454545454, 0.3939393939393938, 0.6666666666666665, 0.606060606060606, 0.5151515151515151, 0.8787878787878789, 0.3939393939393938, 0.5454545454545454, 0.7878787878787876, 0.6363636363636362, 0.3939393939393938, 0.48484848484848464, 0.48484848484848464, 0.48484848484848464, 0.606060606060606, 0.4545454545454546, 0.606060606060606, 0.6363636363636362, 0.7878787878787876, 0.5454545454545454, 0.48484848484848464, 0.5757575757575757, 0.4242424242424243, 0.4242424242424243, 0.5151515151515151, 0.6363636363636362, 0.6969696969696968, 0.303030303030303, 0.6363636363636362, 0.5757575757575757, 0.7272727272727275, 0.606060606060606, 0.48484848484848464, 0.5151515151515151, 0.5757575757575757, 0.33333333333333326, 0.6666666666666665, 0.4242424242424243, 0.21212121212121215, 0.33333333333333326, 0.3939393939393938, 0.7878787878787876, 0.4545454545454546, 0.6363636363636362, 0.7575757575757573, 0.6969696969696968, 0.6363636363636362, 0.6666666666666665, 0.606060606060606, 0.48484848484848464, 0.33333333333333326, 0.5757575757575757, 0.5151515151515151, 0.36363636363636354, 0.7272727272727275, 0.4242424242424243, 0.6666666666666665, 0.33333333333333326, 0.6969696969696968, 0.4545454545454546, 0.5151515151515151, 0.3939393939393938, 0.5151515151515151, 0.0, 0.36363636363636354, 0.4242424242424243, 0.6363636363636362, 0.4242424242424243, 0.48484848484848464]}],\n",
       "                        {\"height\": 700, \"template\": {\"data\": {\"bar\": [{\"error_x\": {\"color\": \"#2a3f5f\"}, \"error_y\": {\"color\": \"#2a3f5f\"}, \"marker\": {\"line\": {\"color\": \"#E5ECF6\", \"width\": 0.5}}, \"type\": \"bar\"}], \"barpolar\": [{\"marker\": {\"line\": {\"color\": \"#E5ECF6\", \"width\": 0.5}}, \"type\": \"barpolar\"}], \"carpet\": [{\"aaxis\": {\"endlinecolor\": \"#2a3f5f\", \"gridcolor\": \"white\", \"linecolor\": \"white\", \"minorgridcolor\": \"white\", \"startlinecolor\": \"#2a3f5f\"}, \"baxis\": {\"endlinecolor\": \"#2a3f5f\", \"gridcolor\": \"white\", \"linecolor\": \"white\", \"minorgridcolor\": \"white\", \"startlinecolor\": \"#2a3f5f\"}, \"type\": \"carpet\"}], \"choropleth\": [{\"colorbar\": {\"outlinewidth\": 0, \"ticks\": \"\"}, \"type\": \"choropleth\"}], \"contour\": [{\"colorbar\": {\"outlinewidth\": 0, \"ticks\": \"\"}, \"colorscale\": [[0.0, \"#0d0887\"], [0.1111111111111111, \"#46039f\"], [0.2222222222222222, \"#7201a8\"], [0.3333333333333333, \"#9c179e\"], [0.4444444444444444, \"#bd3786\"], [0.5555555555555556, \"#d8576b\"], [0.6666666666666666, \"#ed7953\"], [0.7777777777777778, \"#fb9f3a\"], [0.8888888888888888, \"#fdca26\"], [1.0, \"#f0f921\"]], \"type\": \"contour\"}], \"contourcarpet\": [{\"colorbar\": {\"outlinewidth\": 0, \"ticks\": \"\"}, \"type\": \"contourcarpet\"}], \"heatmap\": [{\"colorbar\": {\"outlinewidth\": 0, \"ticks\": \"\"}, \"colorscale\": [[0.0, \"#0d0887\"], [0.1111111111111111, \"#46039f\"], [0.2222222222222222, \"#7201a8\"], [0.3333333333333333, \"#9c179e\"], [0.4444444444444444, \"#bd3786\"], [0.5555555555555556, \"#d8576b\"], [0.6666666666666666, \"#ed7953\"], [0.7777777777777778, \"#fb9f3a\"], [0.8888888888888888, \"#fdca26\"], [1.0, \"#f0f921\"]], \"type\": \"heatmap\"}], \"heatmapgl\": [{\"colorbar\": {\"outlinewidth\": 0, \"ticks\": \"\"}, \"colorscale\": [[0.0, \"#0d0887\"], [0.1111111111111111, \"#46039f\"], [0.2222222222222222, \"#7201a8\"], [0.3333333333333333, \"#9c179e\"], [0.4444444444444444, \"#bd3786\"], [0.5555555555555556, \"#d8576b\"], [0.6666666666666666, \"#ed7953\"], [0.7777777777777778, \"#fb9f3a\"], [0.8888888888888888, \"#fdca26\"], [1.0, \"#f0f921\"]], \"type\": \"heatmapgl\"}], \"histogram\": [{\"marker\": {\"colorbar\": {\"outlinewidth\": 0, \"ticks\": \"\"}}, \"type\": \"histogram\"}], \"histogram2d\": [{\"colorbar\": {\"outlinewidth\": 0, \"ticks\": \"\"}, \"colorscale\": [[0.0, \"#0d0887\"], [0.1111111111111111, \"#46039f\"], [0.2222222222222222, \"#7201a8\"], [0.3333333333333333, \"#9c179e\"], [0.4444444444444444, \"#bd3786\"], [0.5555555555555556, \"#d8576b\"], [0.6666666666666666, \"#ed7953\"], [0.7777777777777778, \"#fb9f3a\"], [0.8888888888888888, \"#fdca26\"], [1.0, \"#f0f921\"]], \"type\": \"histogram2d\"}], \"histogram2dcontour\": [{\"colorbar\": {\"outlinewidth\": 0, \"ticks\": \"\"}, \"colorscale\": [[0.0, \"#0d0887\"], [0.1111111111111111, \"#46039f\"], [0.2222222222222222, \"#7201a8\"], [0.3333333333333333, \"#9c179e\"], [0.4444444444444444, \"#bd3786\"], [0.5555555555555556, \"#d8576b\"], [0.6666666666666666, \"#ed7953\"], [0.7777777777777778, \"#fb9f3a\"], [0.8888888888888888, \"#fdca26\"], [1.0, \"#f0f921\"]], \"type\": \"histogram2dcontour\"}], \"mesh3d\": [{\"colorbar\": {\"outlinewidth\": 0, \"ticks\": \"\"}, \"type\": \"mesh3d\"}], \"parcoords\": [{\"line\": {\"colorbar\": {\"outlinewidth\": 0, \"ticks\": \"\"}}, \"type\": \"parcoords\"}], \"pie\": [{\"automargin\": true, \"type\": \"pie\"}], \"scatter\": [{\"marker\": {\"colorbar\": {\"outlinewidth\": 0, \"ticks\": \"\"}}, \"type\": \"scatter\"}], \"scatter3d\": [{\"line\": {\"colorbar\": {\"outlinewidth\": 0, \"ticks\": \"\"}}, \"marker\": {\"colorbar\": {\"outlinewidth\": 0, \"ticks\": \"\"}}, \"type\": \"scatter3d\"}], \"scattercarpet\": [{\"marker\": {\"colorbar\": {\"outlinewidth\": 0, \"ticks\": \"\"}}, \"type\": \"scattercarpet\"}], \"scattergeo\": [{\"marker\": {\"colorbar\": {\"outlinewidth\": 0, \"ticks\": \"\"}}, \"type\": \"scattergeo\"}], \"scattergl\": [{\"marker\": {\"colorbar\": {\"outlinewidth\": 0, \"ticks\": \"\"}}, \"type\": \"scattergl\"}], \"scattermapbox\": [{\"marker\": {\"colorbar\": {\"outlinewidth\": 0, \"ticks\": \"\"}}, \"type\": \"scattermapbox\"}], \"scatterpolar\": [{\"marker\": {\"colorbar\": {\"outlinewidth\": 0, \"ticks\": \"\"}}, \"type\": \"scatterpolar\"}], \"scatterpolargl\": [{\"marker\": {\"colorbar\": {\"outlinewidth\": 0, \"ticks\": \"\"}}, \"type\": \"scatterpolargl\"}], \"scatterternary\": [{\"marker\": {\"colorbar\": {\"outlinewidth\": 0, \"ticks\": \"\"}}, \"type\": \"scatterternary\"}], \"surface\": [{\"colorbar\": {\"outlinewidth\": 0, \"ticks\": \"\"}, \"colorscale\": [[0.0, \"#0d0887\"], [0.1111111111111111, \"#46039f\"], [0.2222222222222222, \"#7201a8\"], [0.3333333333333333, \"#9c179e\"], [0.4444444444444444, \"#bd3786\"], [0.5555555555555556, \"#d8576b\"], [0.6666666666666666, \"#ed7953\"], [0.7777777777777778, \"#fb9f3a\"], [0.8888888888888888, \"#fdca26\"], [1.0, \"#f0f921\"]], \"type\": \"surface\"}], \"table\": [{\"cells\": {\"fill\": {\"color\": \"#EBF0F8\"}, \"line\": {\"color\": \"white\"}}, \"header\": {\"fill\": {\"color\": \"#C8D4E3\"}, \"line\": {\"color\": \"white\"}}, \"type\": \"table\"}]}, \"layout\": {\"annotationdefaults\": {\"arrowcolor\": \"#2a3f5f\", \"arrowhead\": 0, \"arrowwidth\": 1}, \"coloraxis\": {\"colorbar\": {\"outlinewidth\": 0, \"ticks\": \"\"}}, \"colorscale\": {\"diverging\": [[0, \"#8e0152\"], [0.1, \"#c51b7d\"], [0.2, \"#de77ae\"], [0.3, \"#f1b6da\"], [0.4, \"#fde0ef\"], [0.5, \"#f7f7f7\"], [0.6, \"#e6f5d0\"], [0.7, \"#b8e186\"], [0.8, \"#7fbc41\"], [0.9, \"#4d9221\"], [1, \"#276419\"]], \"sequential\": [[0.0, \"#0d0887\"], [0.1111111111111111, \"#46039f\"], [0.2222222222222222, \"#7201a8\"], [0.3333333333333333, \"#9c179e\"], [0.4444444444444444, \"#bd3786\"], [0.5555555555555556, \"#d8576b\"], [0.6666666666666666, \"#ed7953\"], [0.7777777777777778, \"#fb9f3a\"], [0.8888888888888888, \"#fdca26\"], [1.0, \"#f0f921\"]], \"sequentialminus\": [[0.0, \"#0d0887\"], [0.1111111111111111, \"#46039f\"], [0.2222222222222222, \"#7201a8\"], [0.3333333333333333, \"#9c179e\"], [0.4444444444444444, \"#bd3786\"], [0.5555555555555556, \"#d8576b\"], [0.6666666666666666, \"#ed7953\"], [0.7777777777777778, \"#fb9f3a\"], [0.8888888888888888, \"#fdca26\"], [1.0, \"#f0f921\"]]}, \"colorway\": [\"#636efa\", \"#EF553B\", \"#00cc96\", \"#ab63fa\", \"#FFA15A\", \"#19d3f3\", \"#FF6692\", \"#B6E880\", \"#FF97FF\", \"#FECB52\"], \"font\": {\"color\": \"#2a3f5f\"}, \"geo\": {\"bgcolor\": \"white\", \"lakecolor\": \"white\", \"landcolor\": \"#E5ECF6\", \"showlakes\": true, \"showland\": true, \"subunitcolor\": \"white\"}, \"hoverlabel\": {\"align\": \"left\"}, \"hovermode\": \"closest\", \"mapbox\": {\"style\": \"light\"}, \"paper_bgcolor\": \"white\", \"plot_bgcolor\": \"#E5ECF6\", \"polar\": {\"angularaxis\": {\"gridcolor\": \"white\", \"linecolor\": \"white\", \"ticks\": \"\"}, \"bgcolor\": \"#E5ECF6\", \"radialaxis\": {\"gridcolor\": \"white\", \"linecolor\": \"white\", \"ticks\": \"\"}}, \"scene\": {\"xaxis\": {\"backgroundcolor\": \"#E5ECF6\", \"gridcolor\": \"white\", \"gridwidth\": 2, \"linecolor\": \"white\", \"showbackground\": true, \"ticks\": \"\", \"zerolinecolor\": \"white\"}, \"yaxis\": {\"backgroundcolor\": \"#E5ECF6\", \"gridcolor\": \"white\", \"gridwidth\": 2, \"linecolor\": \"white\", \"showbackground\": true, \"ticks\": \"\", \"zerolinecolor\": \"white\"}, \"zaxis\": {\"backgroundcolor\": \"#E5ECF6\", \"gridcolor\": \"white\", \"gridwidth\": 2, \"linecolor\": \"white\", \"showbackground\": true, \"ticks\": \"\", \"zerolinecolor\": \"white\"}}, \"shapedefaults\": {\"line\": {\"color\": \"#2a3f5f\"}}, \"ternary\": {\"aaxis\": {\"gridcolor\": \"white\", \"linecolor\": \"white\", \"ticks\": \"\"}, \"baxis\": {\"gridcolor\": \"white\", \"linecolor\": \"white\", \"ticks\": \"\"}, \"bgcolor\": \"#E5ECF6\", \"caxis\": {\"gridcolor\": \"white\", \"linecolor\": \"white\", \"ticks\": \"\"}}, \"title\": {\"x\": 0.05}, \"xaxis\": {\"automargin\": true, \"gridcolor\": \"white\", \"linecolor\": \"white\", \"ticks\": \"\", \"title\": {\"standoff\": 15}, \"zerolinecolor\": \"white\", \"zerolinewidth\": 2}, \"yaxis\": {\"automargin\": true, \"gridcolor\": \"white\", \"linecolor\": \"white\", \"ticks\": \"\", \"title\": {\"standoff\": 15}, \"zerolinecolor\": \"white\", \"zerolinewidth\": 2}}}, \"title\": {\"text\": \"IMDB Vs Local Ratings Bottom 100,|TV |sort IMDB Ratings\"}, \"xaxis\": {\"tickangle\": -45, \"title\": {\"text\": \"TV Shows\"}}, \"yaxis\": {\"title\": {\"text\": \"Ratings\"}}},\n",
       "                        {\"responsive\": true}\n",
       "                    ).then(function(){\n",
       "                            \n",
       "var gd = document.getElementById('ee417c5e-7d89-46c9-8c7f-2a5c25117c42');\n",
       "var x = new MutationObserver(function (mutations, observer) {{\n",
       "        var display = window.getComputedStyle(gd).display;\n",
       "        if (!display || display === 'none') {{\n",
       "            console.log([gd, 'removed!']);\n",
       "            Plotly.purge(gd);\n",
       "            observer.disconnect();\n",
       "        }}\n",
       "}});\n",
       "\n",
       "// Listen for the removal of the full notebook cells\n",
       "var notebookContainer = gd.closest('#notebook-container');\n",
       "if (notebookContainer) {{\n",
       "    x.observe(notebookContainer, {childList: true});\n",
       "}}\n",
       "\n",
       "// Listen for the clearing of the current output cell\n",
       "var outputEl = gd.closest('.output');\n",
       "if (outputEl) {{\n",
       "    x.observe(outputEl, {childList: true});\n",
       "}}\n",
       "\n",
       "                        })\n",
       "                };\n",
       "                });\n",
       "            </script>\n",
       "        </div>"
      ]
     },
     "metadata": {},
     "output_type": "display_data"
    }
   ],
   "source": [
    "fig = go.Figure()\n",
    "fig.add_trace(go.Bar(x=tv_names_imdb[-100:], y= tv__imdb_ratings_imdb[-100:], name=\"IMDB Ratings Bottom 100|TV\"))\n",
    "fig.add_trace(go.Bar(x=tv_names_imdb[-100:], y= tv_local_ratings_imdb[-100:], name=\"Local Ratings Bottom 100|TV\"))\n",
    "fig.update_xaxes(tickangle=-45)\n",
    "fig.update_layout(xaxis_title =\"TV Shows\", yaxis_title=\"Ratings\", title=\"IMDB Vs Local Ratings Bottom 100,|TV |sort IMDB Ratings\", height=700,)"
   ]
  },
  {
   "cell_type": "markdown",
   "metadata": {},
   "source": [
    "## Genre Percentage"
   ]
  },
  {
   "cell_type": "markdown",
   "metadata": {},
   "source": [
    "### Genre In Movies"
   ]
  },
  {
   "cell_type": "code",
   "execution_count": 43,
   "metadata": {
    "ExecuteTime": {
     "end_time": "2020-07-15T04:11:59.889816Z",
     "start_time": "2020-07-15T04:11:59.860817Z"
    }
   },
   "outputs": [],
   "source": [
    "genre_prp_mv = movie_df.GENRE.value_counts(normalize=True)*100"
   ]
  },
  {
   "cell_type": "code",
   "execution_count": 44,
   "metadata": {
    "ExecuteTime": {
     "end_time": "2020-07-15T04:11:59.904816Z",
     "start_time": "2020-07-15T04:11:59.892817Z"
    }
   },
   "outputs": [],
   "source": [
    "\n",
    "genre_names_mv = genre_prp_mv.index.tolist()\n",
    "genre_names_pct_mv = genre_prp_mv.values.tolist()\n"
   ]
  },
  {
   "cell_type": "code",
   "execution_count": 45,
   "metadata": {
    "ExecuteTime": {
     "end_time": "2020-07-15T04:11:59.919816Z",
     "start_time": "2020-07-15T04:11:59.908817Z"
    }
   },
   "outputs": [],
   "source": [
    "# fig = go.Figure()\n",
    "# fig.add_trace(go.Bar(x=genre_names, y= genre_names_pct))\n"
   ]
  },
  {
   "cell_type": "code",
   "execution_count": 46,
   "metadata": {
    "ExecuteTime": {
     "end_time": "2020-07-15T04:12:00.682296Z",
     "start_time": "2020-07-15T04:11:59.923815Z"
    },
    "scrolled": false
   },
   "outputs": [
    {
     "data": {
      "application/vnd.plotly.v1+json": {
       "config": {
        "plotlyServerURL": "https://plot.ly"
       },
       "data": [
        {
         "hoverinfo": "label+percent",
         "labels": [
          "Drama",
          "Action",
          "Comedy",
          "Adventure",
          "Thriller",
          "Sci-Fi",
          "Fantasy",
          "Romance",
          "Crime",
          "Family",
          "Animation",
          "Horror",
          "Mystery",
          "Biography",
          "History",
          "War",
          "Music",
          "Sport",
          "Documentary",
          "Western",
          "Reality-TV",
          "Kungfu"
         ],
         "marker": {
          "line": {
           "color": "#000000",
           "width": 2
          }
         },
         "textfont": {
          "size": 15
         },
         "textinfo": "value",
         "type": "pie",
         "values": [
          14.281942977824711,
          11.826821541710665,
          10.770855332629356,
          9.635691657866948,
          9.530095036958818,
          6.520591341077085,
          6.46779303062302,
          4.883843717001056,
          4.83104540654699,
          4.540654699049631,
          3.7750791974656814,
          3.748680042238648,
          3.563885955649419,
          1.583949313621964,
          1.214361140443506,
          0.8975712777191129,
          0.5807814149947201,
          0.5279831045406547,
          0.36958817317845827,
          0.26399155227032733,
          0.10559662090813093,
          0.07919746568109821
         ]
        }
       ],
       "layout": {
        "font": {
         "color": "#7f7f7f",
         "family": "Courier New, monospace",
         "size": 18
        },
        "template": {
         "data": {
          "bar": [
           {
            "error_x": {
             "color": "rgb(51,51,51)"
            },
            "error_y": {
             "color": "rgb(51,51,51)"
            },
            "marker": {
             "line": {
              "color": "rgb(237,237,237)",
              "width": 0.5
             }
            },
            "type": "bar"
           }
          ],
          "barpolar": [
           {
            "marker": {
             "line": {
              "color": "rgb(237,237,237)",
              "width": 0.5
             }
            },
            "type": "barpolar"
           }
          ],
          "carpet": [
           {
            "aaxis": {
             "endlinecolor": "rgb(51,51,51)",
             "gridcolor": "white",
             "linecolor": "white",
             "minorgridcolor": "white",
             "startlinecolor": "rgb(51,51,51)"
            },
            "baxis": {
             "endlinecolor": "rgb(51,51,51)",
             "gridcolor": "white",
             "linecolor": "white",
             "minorgridcolor": "white",
             "startlinecolor": "rgb(51,51,51)"
            },
            "type": "carpet"
           }
          ],
          "choropleth": [
           {
            "colorbar": {
             "outlinewidth": 0,
             "tickcolor": "rgb(237,237,237)",
             "ticklen": 6,
             "ticks": "inside"
            },
            "type": "choropleth"
           }
          ],
          "contour": [
           {
            "colorbar": {
             "outlinewidth": 0,
             "tickcolor": "rgb(237,237,237)",
             "ticklen": 6,
             "ticks": "inside"
            },
            "colorscale": [
             [
              0,
              "rgb(20,44,66)"
             ],
             [
              1,
              "rgb(90,179,244)"
             ]
            ],
            "type": "contour"
           }
          ],
          "contourcarpet": [
           {
            "colorbar": {
             "outlinewidth": 0,
             "tickcolor": "rgb(237,237,237)",
             "ticklen": 6,
             "ticks": "inside"
            },
            "type": "contourcarpet"
           }
          ],
          "heatmap": [
           {
            "colorbar": {
             "outlinewidth": 0,
             "tickcolor": "rgb(237,237,237)",
             "ticklen": 6,
             "ticks": "inside"
            },
            "colorscale": [
             [
              0,
              "rgb(20,44,66)"
             ],
             [
              1,
              "rgb(90,179,244)"
             ]
            ],
            "type": "heatmap"
           }
          ],
          "heatmapgl": [
           {
            "colorbar": {
             "outlinewidth": 0,
             "tickcolor": "rgb(237,237,237)",
             "ticklen": 6,
             "ticks": "inside"
            },
            "colorscale": [
             [
              0,
              "rgb(20,44,66)"
             ],
             [
              1,
              "rgb(90,179,244)"
             ]
            ],
            "type": "heatmapgl"
           }
          ],
          "histogram": [
           {
            "marker": {
             "colorbar": {
              "outlinewidth": 0,
              "tickcolor": "rgb(237,237,237)",
              "ticklen": 6,
              "ticks": "inside"
             }
            },
            "type": "histogram"
           }
          ],
          "histogram2d": [
           {
            "colorbar": {
             "outlinewidth": 0,
             "tickcolor": "rgb(237,237,237)",
             "ticklen": 6,
             "ticks": "inside"
            },
            "colorscale": [
             [
              0,
              "rgb(20,44,66)"
             ],
             [
              1,
              "rgb(90,179,244)"
             ]
            ],
            "type": "histogram2d"
           }
          ],
          "histogram2dcontour": [
           {
            "colorbar": {
             "outlinewidth": 0,
             "tickcolor": "rgb(237,237,237)",
             "ticklen": 6,
             "ticks": "inside"
            },
            "colorscale": [
             [
              0,
              "rgb(20,44,66)"
             ],
             [
              1,
              "rgb(90,179,244)"
             ]
            ],
            "type": "histogram2dcontour"
           }
          ],
          "mesh3d": [
           {
            "colorbar": {
             "outlinewidth": 0,
             "tickcolor": "rgb(237,237,237)",
             "ticklen": 6,
             "ticks": "inside"
            },
            "type": "mesh3d"
           }
          ],
          "parcoords": [
           {
            "line": {
             "colorbar": {
              "outlinewidth": 0,
              "tickcolor": "rgb(237,237,237)",
              "ticklen": 6,
              "ticks": "inside"
             }
            },
            "type": "parcoords"
           }
          ],
          "pie": [
           {
            "automargin": true,
            "type": "pie"
           }
          ],
          "scatter": [
           {
            "marker": {
             "colorbar": {
              "outlinewidth": 0,
              "tickcolor": "rgb(237,237,237)",
              "ticklen": 6,
              "ticks": "inside"
             }
            },
            "type": "scatter"
           }
          ],
          "scatter3d": [
           {
            "line": {
             "colorbar": {
              "outlinewidth": 0,
              "tickcolor": "rgb(237,237,237)",
              "ticklen": 6,
              "ticks": "inside"
             }
            },
            "marker": {
             "colorbar": {
              "outlinewidth": 0,
              "tickcolor": "rgb(237,237,237)",
              "ticklen": 6,
              "ticks": "inside"
             }
            },
            "type": "scatter3d"
           }
          ],
          "scattercarpet": [
           {
            "marker": {
             "colorbar": {
              "outlinewidth": 0,
              "tickcolor": "rgb(237,237,237)",
              "ticklen": 6,
              "ticks": "inside"
             }
            },
            "type": "scattercarpet"
           }
          ],
          "scattergeo": [
           {
            "marker": {
             "colorbar": {
              "outlinewidth": 0,
              "tickcolor": "rgb(237,237,237)",
              "ticklen": 6,
              "ticks": "inside"
             }
            },
            "type": "scattergeo"
           }
          ],
          "scattergl": [
           {
            "marker": {
             "colorbar": {
              "outlinewidth": 0,
              "tickcolor": "rgb(237,237,237)",
              "ticklen": 6,
              "ticks": "inside"
             }
            },
            "type": "scattergl"
           }
          ],
          "scattermapbox": [
           {
            "marker": {
             "colorbar": {
              "outlinewidth": 0,
              "tickcolor": "rgb(237,237,237)",
              "ticklen": 6,
              "ticks": "inside"
             }
            },
            "type": "scattermapbox"
           }
          ],
          "scatterpolar": [
           {
            "marker": {
             "colorbar": {
              "outlinewidth": 0,
              "tickcolor": "rgb(237,237,237)",
              "ticklen": 6,
              "ticks": "inside"
             }
            },
            "type": "scatterpolar"
           }
          ],
          "scatterpolargl": [
           {
            "marker": {
             "colorbar": {
              "outlinewidth": 0,
              "tickcolor": "rgb(237,237,237)",
              "ticklen": 6,
              "ticks": "inside"
             }
            },
            "type": "scatterpolargl"
           }
          ],
          "scatterternary": [
           {
            "marker": {
             "colorbar": {
              "outlinewidth": 0,
              "tickcolor": "rgb(237,237,237)",
              "ticklen": 6,
              "ticks": "inside"
             }
            },
            "type": "scatterternary"
           }
          ],
          "surface": [
           {
            "colorbar": {
             "outlinewidth": 0,
             "tickcolor": "rgb(237,237,237)",
             "ticklen": 6,
             "ticks": "inside"
            },
            "colorscale": [
             [
              0,
              "rgb(20,44,66)"
             ],
             [
              1,
              "rgb(90,179,244)"
             ]
            ],
            "type": "surface"
           }
          ],
          "table": [
           {
            "cells": {
             "fill": {
              "color": "rgb(237,237,237)"
             },
             "line": {
              "color": "white"
             }
            },
            "header": {
             "fill": {
              "color": "rgb(217,217,217)"
             },
             "line": {
              "color": "white"
             }
            },
            "type": "table"
           }
          ]
         },
         "layout": {
          "annotationdefaults": {
           "arrowhead": 0,
           "arrowwidth": 1
          },
          "coloraxis": {
           "colorbar": {
            "outlinewidth": 0,
            "tickcolor": "rgb(237,237,237)",
            "ticklen": 6,
            "ticks": "inside"
           }
          },
          "colorscale": {
           "sequential": [
            [
             0,
             "rgb(20,44,66)"
            ],
            [
             1,
             "rgb(90,179,244)"
            ]
           ],
           "sequentialminus": [
            [
             0,
             "rgb(20,44,66)"
            ],
            [
             1,
             "rgb(90,179,244)"
            ]
           ]
          },
          "colorway": [
           "#F8766D",
           "#A3A500",
           "#00BF7D",
           "#00B0F6",
           "#E76BF3"
          ],
          "font": {
           "color": "rgb(51,51,51)"
          },
          "geo": {
           "bgcolor": "white",
           "lakecolor": "white",
           "landcolor": "rgb(237,237,237)",
           "showlakes": true,
           "showland": true,
           "subunitcolor": "white"
          },
          "hoverlabel": {
           "align": "left"
          },
          "hovermode": "closest",
          "paper_bgcolor": "white",
          "plot_bgcolor": "rgb(237,237,237)",
          "polar": {
           "angularaxis": {
            "gridcolor": "white",
            "linecolor": "white",
            "showgrid": true,
            "tickcolor": "rgb(51,51,51)",
            "ticks": "outside"
           },
           "bgcolor": "rgb(237,237,237)",
           "radialaxis": {
            "gridcolor": "white",
            "linecolor": "white",
            "showgrid": true,
            "tickcolor": "rgb(51,51,51)",
            "ticks": "outside"
           }
          },
          "scene": {
           "xaxis": {
            "backgroundcolor": "rgb(237,237,237)",
            "gridcolor": "white",
            "gridwidth": 2,
            "linecolor": "white",
            "showbackground": true,
            "showgrid": true,
            "tickcolor": "rgb(51,51,51)",
            "ticks": "outside",
            "zerolinecolor": "white"
           },
           "yaxis": {
            "backgroundcolor": "rgb(237,237,237)",
            "gridcolor": "white",
            "gridwidth": 2,
            "linecolor": "white",
            "showbackground": true,
            "showgrid": true,
            "tickcolor": "rgb(51,51,51)",
            "ticks": "outside",
            "zerolinecolor": "white"
           },
           "zaxis": {
            "backgroundcolor": "rgb(237,237,237)",
            "gridcolor": "white",
            "gridwidth": 2,
            "linecolor": "white",
            "showbackground": true,
            "showgrid": true,
            "tickcolor": "rgb(51,51,51)",
            "ticks": "outside",
            "zerolinecolor": "white"
           }
          },
          "shapedefaults": {
           "fillcolor": "black",
           "line": {
            "width": 0
           },
           "opacity": 0.3
          },
          "ternary": {
           "aaxis": {
            "gridcolor": "white",
            "linecolor": "white",
            "showgrid": true,
            "tickcolor": "rgb(51,51,51)",
            "ticks": "outside"
           },
           "baxis": {
            "gridcolor": "white",
            "linecolor": "white",
            "showgrid": true,
            "tickcolor": "rgb(51,51,51)",
            "ticks": "outside"
           },
           "bgcolor": "rgb(237,237,237)",
           "caxis": {
            "gridcolor": "white",
            "linecolor": "white",
            "showgrid": true,
            "tickcolor": "rgb(51,51,51)",
            "ticks": "outside"
           }
          },
          "xaxis": {
           "automargin": true,
           "gridcolor": "white",
           "linecolor": "white",
           "showgrid": true,
           "tickcolor": "rgb(51,51,51)",
           "ticks": "outside",
           "title": {
            "standoff": 15
           },
           "zerolinecolor": "white"
          },
          "yaxis": {
           "automargin": true,
           "gridcolor": "white",
           "linecolor": "white",
           "showgrid": true,
           "tickcolor": "rgb(51,51,51)",
           "ticks": "outside",
           "title": {
            "standoff": 15
           },
           "zerolinecolor": "white"
          }
         }
        },
        "title": {
         "text": "Genres In Movies"
        }
       }
      },
      "text/html": [
       "<div>\n",
       "        \n",
       "        \n",
       "            <div id=\"903afedb-6f69-4a79-90d0-bb5494d0014c\" class=\"plotly-graph-div\" style=\"height:525px; width:100%;\"></div>\n",
       "            <script type=\"text/javascript\">\n",
       "                require([\"plotly\"], function(Plotly) {\n",
       "                    window.PLOTLYENV=window.PLOTLYENV || {};\n",
       "                    \n",
       "                if (document.getElementById(\"903afedb-6f69-4a79-90d0-bb5494d0014c\")) {\n",
       "                    Plotly.newPlot(\n",
       "                        '903afedb-6f69-4a79-90d0-bb5494d0014c',\n",
       "                        [{\"hoverinfo\": \"label+percent\", \"labels\": [\"Drama\", \"Action\", \"Comedy\", \"Adventure\", \"Thriller\", \"Sci-Fi\", \"Fantasy\", \"Romance\", \"Crime\", \"Family\", \"Animation\", \"Horror\", \"Mystery\", \"Biography\", \"History\", \"War\", \"Music\", \"Sport\", \"Documentary\", \"Western\", \"Reality-TV\", \"Kungfu\"], \"marker\": {\"line\": {\"color\": \"#000000\", \"width\": 2}}, \"textfont\": {\"size\": 15}, \"textinfo\": \"value\", \"type\": \"pie\", \"values\": [14.281942977824711, 11.826821541710665, 10.770855332629356, 9.635691657866948, 9.530095036958818, 6.520591341077085, 6.46779303062302, 4.883843717001056, 4.83104540654699, 4.540654699049631, 3.7750791974656814, 3.748680042238648, 3.563885955649419, 1.583949313621964, 1.214361140443506, 0.8975712777191129, 0.5807814149947201, 0.5279831045406547, 0.36958817317845827, 0.26399155227032733, 0.10559662090813093, 0.07919746568109821]}],\n",
       "                        {\"font\": {\"color\": \"#7f7f7f\", \"family\": \"Courier New, monospace\", \"size\": 18}, \"template\": {\"data\": {\"bar\": [{\"error_x\": {\"color\": \"rgb(51,51,51)\"}, \"error_y\": {\"color\": \"rgb(51,51,51)\"}, \"marker\": {\"line\": {\"color\": \"rgb(237,237,237)\", \"width\": 0.5}}, \"type\": \"bar\"}], \"barpolar\": [{\"marker\": {\"line\": {\"color\": \"rgb(237,237,237)\", \"width\": 0.5}}, \"type\": \"barpolar\"}], \"carpet\": [{\"aaxis\": {\"endlinecolor\": \"rgb(51,51,51)\", \"gridcolor\": \"white\", \"linecolor\": \"white\", \"minorgridcolor\": \"white\", \"startlinecolor\": \"rgb(51,51,51)\"}, \"baxis\": {\"endlinecolor\": \"rgb(51,51,51)\", \"gridcolor\": \"white\", \"linecolor\": \"white\", \"minorgridcolor\": \"white\", \"startlinecolor\": \"rgb(51,51,51)\"}, \"type\": \"carpet\"}], \"choropleth\": [{\"colorbar\": {\"outlinewidth\": 0, \"tickcolor\": \"rgb(237,237,237)\", \"ticklen\": 6, \"ticks\": \"inside\"}, \"type\": \"choropleth\"}], \"contour\": [{\"colorbar\": {\"outlinewidth\": 0, \"tickcolor\": \"rgb(237,237,237)\", \"ticklen\": 6, \"ticks\": \"inside\"}, \"colorscale\": [[0, \"rgb(20,44,66)\"], [1, \"rgb(90,179,244)\"]], \"type\": \"contour\"}], \"contourcarpet\": [{\"colorbar\": {\"outlinewidth\": 0, \"tickcolor\": \"rgb(237,237,237)\", \"ticklen\": 6, \"ticks\": \"inside\"}, \"type\": \"contourcarpet\"}], \"heatmap\": [{\"colorbar\": {\"outlinewidth\": 0, \"tickcolor\": \"rgb(237,237,237)\", \"ticklen\": 6, \"ticks\": \"inside\"}, \"colorscale\": [[0, \"rgb(20,44,66)\"], [1, \"rgb(90,179,244)\"]], \"type\": \"heatmap\"}], \"heatmapgl\": [{\"colorbar\": {\"outlinewidth\": 0, \"tickcolor\": \"rgb(237,237,237)\", \"ticklen\": 6, \"ticks\": \"inside\"}, \"colorscale\": [[0, \"rgb(20,44,66)\"], [1, \"rgb(90,179,244)\"]], \"type\": \"heatmapgl\"}], \"histogram\": [{\"marker\": {\"colorbar\": {\"outlinewidth\": 0, \"tickcolor\": \"rgb(237,237,237)\", \"ticklen\": 6, \"ticks\": \"inside\"}}, \"type\": \"histogram\"}], \"histogram2d\": [{\"colorbar\": {\"outlinewidth\": 0, \"tickcolor\": \"rgb(237,237,237)\", \"ticklen\": 6, \"ticks\": \"inside\"}, \"colorscale\": [[0, \"rgb(20,44,66)\"], [1, \"rgb(90,179,244)\"]], \"type\": \"histogram2d\"}], \"histogram2dcontour\": [{\"colorbar\": {\"outlinewidth\": 0, \"tickcolor\": \"rgb(237,237,237)\", \"ticklen\": 6, \"ticks\": \"inside\"}, \"colorscale\": [[0, \"rgb(20,44,66)\"], [1, \"rgb(90,179,244)\"]], \"type\": \"histogram2dcontour\"}], \"mesh3d\": [{\"colorbar\": {\"outlinewidth\": 0, \"tickcolor\": \"rgb(237,237,237)\", \"ticklen\": 6, \"ticks\": \"inside\"}, \"type\": \"mesh3d\"}], \"parcoords\": [{\"line\": {\"colorbar\": {\"outlinewidth\": 0, \"tickcolor\": \"rgb(237,237,237)\", \"ticklen\": 6, \"ticks\": \"inside\"}}, \"type\": \"parcoords\"}], \"pie\": [{\"automargin\": true, \"type\": \"pie\"}], \"scatter\": [{\"marker\": {\"colorbar\": {\"outlinewidth\": 0, \"tickcolor\": \"rgb(237,237,237)\", \"ticklen\": 6, \"ticks\": \"inside\"}}, \"type\": \"scatter\"}], \"scatter3d\": [{\"line\": {\"colorbar\": {\"outlinewidth\": 0, \"tickcolor\": \"rgb(237,237,237)\", \"ticklen\": 6, \"ticks\": \"inside\"}}, \"marker\": {\"colorbar\": {\"outlinewidth\": 0, \"tickcolor\": \"rgb(237,237,237)\", \"ticklen\": 6, \"ticks\": \"inside\"}}, \"type\": \"scatter3d\"}], \"scattercarpet\": [{\"marker\": {\"colorbar\": {\"outlinewidth\": 0, \"tickcolor\": \"rgb(237,237,237)\", \"ticklen\": 6, \"ticks\": \"inside\"}}, \"type\": \"scattercarpet\"}], \"scattergeo\": [{\"marker\": {\"colorbar\": {\"outlinewidth\": 0, \"tickcolor\": \"rgb(237,237,237)\", \"ticklen\": 6, \"ticks\": \"inside\"}}, \"type\": \"scattergeo\"}], \"scattergl\": [{\"marker\": {\"colorbar\": {\"outlinewidth\": 0, \"tickcolor\": \"rgb(237,237,237)\", \"ticklen\": 6, \"ticks\": \"inside\"}}, \"type\": \"scattergl\"}], \"scattermapbox\": [{\"marker\": {\"colorbar\": {\"outlinewidth\": 0, \"tickcolor\": \"rgb(237,237,237)\", \"ticklen\": 6, \"ticks\": \"inside\"}}, \"type\": \"scattermapbox\"}], \"scatterpolar\": [{\"marker\": {\"colorbar\": {\"outlinewidth\": 0, \"tickcolor\": \"rgb(237,237,237)\", \"ticklen\": 6, \"ticks\": \"inside\"}}, \"type\": \"scatterpolar\"}], \"scatterpolargl\": [{\"marker\": {\"colorbar\": {\"outlinewidth\": 0, \"tickcolor\": \"rgb(237,237,237)\", \"ticklen\": 6, \"ticks\": \"inside\"}}, \"type\": \"scatterpolargl\"}], \"scatterternary\": [{\"marker\": {\"colorbar\": {\"outlinewidth\": 0, \"tickcolor\": \"rgb(237,237,237)\", \"ticklen\": 6, \"ticks\": \"inside\"}}, \"type\": \"scatterternary\"}], \"surface\": [{\"colorbar\": {\"outlinewidth\": 0, \"tickcolor\": \"rgb(237,237,237)\", \"ticklen\": 6, \"ticks\": \"inside\"}, \"colorscale\": [[0, \"rgb(20,44,66)\"], [1, \"rgb(90,179,244)\"]], \"type\": \"surface\"}], \"table\": [{\"cells\": {\"fill\": {\"color\": \"rgb(237,237,237)\"}, \"line\": {\"color\": \"white\"}}, \"header\": {\"fill\": {\"color\": \"rgb(217,217,217)\"}, \"line\": {\"color\": \"white\"}}, \"type\": \"table\"}]}, \"layout\": {\"annotationdefaults\": {\"arrowhead\": 0, \"arrowwidth\": 1}, \"coloraxis\": {\"colorbar\": {\"outlinewidth\": 0, \"tickcolor\": \"rgb(237,237,237)\", \"ticklen\": 6, \"ticks\": \"inside\"}}, \"colorscale\": {\"sequential\": [[0, \"rgb(20,44,66)\"], [1, \"rgb(90,179,244)\"]], \"sequentialminus\": [[0, \"rgb(20,44,66)\"], [1, \"rgb(90,179,244)\"]]}, \"colorway\": [\"#F8766D\", \"#A3A500\", \"#00BF7D\", \"#00B0F6\", \"#E76BF3\"], \"font\": {\"color\": \"rgb(51,51,51)\"}, \"geo\": {\"bgcolor\": \"white\", \"lakecolor\": \"white\", \"landcolor\": \"rgb(237,237,237)\", \"showlakes\": true, \"showland\": true, \"subunitcolor\": \"white\"}, \"hoverlabel\": {\"align\": \"left\"}, \"hovermode\": \"closest\", \"paper_bgcolor\": \"white\", \"plot_bgcolor\": \"rgb(237,237,237)\", \"polar\": {\"angularaxis\": {\"gridcolor\": \"white\", \"linecolor\": \"white\", \"showgrid\": true, \"tickcolor\": \"rgb(51,51,51)\", \"ticks\": \"outside\"}, \"bgcolor\": \"rgb(237,237,237)\", \"radialaxis\": {\"gridcolor\": \"white\", \"linecolor\": \"white\", \"showgrid\": true, \"tickcolor\": \"rgb(51,51,51)\", \"ticks\": \"outside\"}}, \"scene\": {\"xaxis\": {\"backgroundcolor\": \"rgb(237,237,237)\", \"gridcolor\": \"white\", \"gridwidth\": 2, \"linecolor\": \"white\", \"showbackground\": true, \"showgrid\": true, \"tickcolor\": \"rgb(51,51,51)\", \"ticks\": \"outside\", \"zerolinecolor\": \"white\"}, \"yaxis\": {\"backgroundcolor\": \"rgb(237,237,237)\", \"gridcolor\": \"white\", \"gridwidth\": 2, \"linecolor\": \"white\", \"showbackground\": true, \"showgrid\": true, \"tickcolor\": \"rgb(51,51,51)\", \"ticks\": \"outside\", \"zerolinecolor\": \"white\"}, \"zaxis\": {\"backgroundcolor\": \"rgb(237,237,237)\", \"gridcolor\": \"white\", \"gridwidth\": 2, \"linecolor\": \"white\", \"showbackground\": true, \"showgrid\": true, \"tickcolor\": \"rgb(51,51,51)\", \"ticks\": \"outside\", \"zerolinecolor\": \"white\"}}, \"shapedefaults\": {\"fillcolor\": \"black\", \"line\": {\"width\": 0}, \"opacity\": 0.3}, \"ternary\": {\"aaxis\": {\"gridcolor\": \"white\", \"linecolor\": \"white\", \"showgrid\": true, \"tickcolor\": \"rgb(51,51,51)\", \"ticks\": \"outside\"}, \"baxis\": {\"gridcolor\": \"white\", \"linecolor\": \"white\", \"showgrid\": true, \"tickcolor\": \"rgb(51,51,51)\", \"ticks\": \"outside\"}, \"bgcolor\": \"rgb(237,237,237)\", \"caxis\": {\"gridcolor\": \"white\", \"linecolor\": \"white\", \"showgrid\": true, \"tickcolor\": \"rgb(51,51,51)\", \"ticks\": \"outside\"}}, \"xaxis\": {\"automargin\": true, \"gridcolor\": \"white\", \"linecolor\": \"white\", \"showgrid\": true, \"tickcolor\": \"rgb(51,51,51)\", \"ticks\": \"outside\", \"title\": {\"standoff\": 15}, \"zerolinecolor\": \"white\"}, \"yaxis\": {\"automargin\": true, \"gridcolor\": \"white\", \"linecolor\": \"white\", \"showgrid\": true, \"tickcolor\": \"rgb(51,51,51)\", \"ticks\": \"outside\", \"title\": {\"standoff\": 15}, \"zerolinecolor\": \"white\"}}}, \"title\": {\"text\": \"Genres In Movies\"}},\n",
       "                        {\"responsive\": true}\n",
       "                    ).then(function(){\n",
       "                            \n",
       "var gd = document.getElementById('903afedb-6f69-4a79-90d0-bb5494d0014c');\n",
       "var x = new MutationObserver(function (mutations, observer) {{\n",
       "        var display = window.getComputedStyle(gd).display;\n",
       "        if (!display || display === 'none') {{\n",
       "            console.log([gd, 'removed!']);\n",
       "            Plotly.purge(gd);\n",
       "            observer.disconnect();\n",
       "        }}\n",
       "}});\n",
       "\n",
       "// Listen for the removal of the full notebook cells\n",
       "var notebookContainer = gd.closest('#notebook-container');\n",
       "if (notebookContainer) {{\n",
       "    x.observe(notebookContainer, {childList: true});\n",
       "}}\n",
       "\n",
       "// Listen for the clearing of the current output cell\n",
       "var outputEl = gd.closest('.output');\n",
       "if (outputEl) {{\n",
       "    x.observe(outputEl, {childList: true});\n",
       "}}\n",
       "\n",
       "                        })\n",
       "                };\n",
       "                });\n",
       "            </script>\n",
       "        </div>"
      ]
     },
     "metadata": {},
     "output_type": "display_data"
    }
   ],
   "source": [
    "fig = go.Figure()\n",
    "fig.add_trace(go.Pie(labels=genre_names_mv, values=genre_names_pct_mv))\n",
    "fig.update_traces(hoverinfo='label+percent', textinfo='value', textfont_size=15,\n",
    "                  marker=dict( line=dict(color='#000000', width=2)),)\n",
    "fig.update_layout(title=\"Genres In Movies\",\n",
    "                 template=\"ggplot2\",\n",
    "                    font=dict(\n",
    "                        family=\"Courier New, monospace\",\n",
    "                              size=18,\n",
    "                              color=\"#7f7f7f\"))\n",
    "\n"
   ]
  },
  {
   "cell_type": "markdown",
   "metadata": {},
   "source": [
    "From the pie chart most of the movies have genre Drama, Action, Comedy.. and so on in that order, while we should remember, mostly a movie has multiple genre."
   ]
  },
  {
   "cell_type": "markdown",
   "metadata": {},
   "source": [
    "### Genre In Movies"
   ]
  },
  {
   "cell_type": "code",
   "execution_count": 47,
   "metadata": {
    "ExecuteTime": {
     "end_time": "2020-07-15T04:12:00.698303Z",
     "start_time": "2020-07-15T04:12:00.685298Z"
    }
   },
   "outputs": [],
   "source": [
    "genre_prp_tv = tv_df.GENRE.value_counts(normalize=True)*100"
   ]
  },
  {
   "cell_type": "code",
   "execution_count": 48,
   "metadata": {
    "ExecuteTime": {
     "end_time": "2020-07-15T04:12:00.888299Z",
     "start_time": "2020-07-15T04:12:00.701300Z"
    }
   },
   "outputs": [],
   "source": [
    "genre_names_tv = genre_prp_tv.index.tolist()\n",
    "genre_names_pct_tv = genre_prp_tv.values.tolist()"
   ]
  },
  {
   "cell_type": "code",
   "execution_count": 49,
   "metadata": {
    "ExecuteTime": {
     "end_time": "2020-07-15T04:12:00.952294Z",
     "start_time": "2020-07-15T04:12:00.892300Z"
    },
    "scrolled": false
   },
   "outputs": [
    {
     "data": {
      "application/vnd.plotly.v1+json": {
       "config": {
        "plotlyServerURL": "https://plot.ly"
       },
       "data": [
        {
         "hoverinfo": "label+percent",
         "labels": [
          "Drama",
          "Comedy",
          "Action",
          "Crime",
          "Thriller",
          "Sci-Fi",
          "Mystery",
          "Adventure",
          "Fantasy",
          "Romance",
          "Reality-TV",
          "Horror",
          "Animation",
          "Family",
          "Music",
          "Game-Show",
          "History",
          "Sport",
          "Western",
          "War",
          "Biography",
          "Documentary",
          "TV Show"
         ],
         "marker": {
          "line": {
           "color": "#000000",
           "width": 2
          }
         },
         "textfont": {
          "size": 15
         },
         "textinfo": "value",
         "type": "pie",
         "values": [
          23.82198952879581,
          10.340314136125654,
          8.900523560209423,
          8.769633507853403,
          7.853403141361256,
          6.806282722513089,
          6.4136125654450264,
          4.973821989528796,
          4.712041884816754,
          3.664921465968586,
          2.8795811518324608,
          2.8795811518324608,
          2.74869109947644,
          1.4397905759162304,
          0.6544502617801047,
          0.6544502617801047,
          0.6544502617801047,
          0.3926701570680628,
          0.3926701570680628,
          0.3926701570680628,
          0.2617801047120419,
          0.2617801047120419,
          0.13089005235602094
         ]
        }
       ],
       "layout": {
        "font": {
         "color": "#7f7f7f",
         "family": "Courier New, monospace",
         "size": 18
        },
        "template": {
         "data": {
          "bar": [
           {
            "error_x": {
             "color": "rgb(51,51,51)"
            },
            "error_y": {
             "color": "rgb(51,51,51)"
            },
            "marker": {
             "line": {
              "color": "rgb(237,237,237)",
              "width": 0.5
             }
            },
            "type": "bar"
           }
          ],
          "barpolar": [
           {
            "marker": {
             "line": {
              "color": "rgb(237,237,237)",
              "width": 0.5
             }
            },
            "type": "barpolar"
           }
          ],
          "carpet": [
           {
            "aaxis": {
             "endlinecolor": "rgb(51,51,51)",
             "gridcolor": "white",
             "linecolor": "white",
             "minorgridcolor": "white",
             "startlinecolor": "rgb(51,51,51)"
            },
            "baxis": {
             "endlinecolor": "rgb(51,51,51)",
             "gridcolor": "white",
             "linecolor": "white",
             "minorgridcolor": "white",
             "startlinecolor": "rgb(51,51,51)"
            },
            "type": "carpet"
           }
          ],
          "choropleth": [
           {
            "colorbar": {
             "outlinewidth": 0,
             "tickcolor": "rgb(237,237,237)",
             "ticklen": 6,
             "ticks": "inside"
            },
            "type": "choropleth"
           }
          ],
          "contour": [
           {
            "colorbar": {
             "outlinewidth": 0,
             "tickcolor": "rgb(237,237,237)",
             "ticklen": 6,
             "ticks": "inside"
            },
            "colorscale": [
             [
              0,
              "rgb(20,44,66)"
             ],
             [
              1,
              "rgb(90,179,244)"
             ]
            ],
            "type": "contour"
           }
          ],
          "contourcarpet": [
           {
            "colorbar": {
             "outlinewidth": 0,
             "tickcolor": "rgb(237,237,237)",
             "ticklen": 6,
             "ticks": "inside"
            },
            "type": "contourcarpet"
           }
          ],
          "heatmap": [
           {
            "colorbar": {
             "outlinewidth": 0,
             "tickcolor": "rgb(237,237,237)",
             "ticklen": 6,
             "ticks": "inside"
            },
            "colorscale": [
             [
              0,
              "rgb(20,44,66)"
             ],
             [
              1,
              "rgb(90,179,244)"
             ]
            ],
            "type": "heatmap"
           }
          ],
          "heatmapgl": [
           {
            "colorbar": {
             "outlinewidth": 0,
             "tickcolor": "rgb(237,237,237)",
             "ticklen": 6,
             "ticks": "inside"
            },
            "colorscale": [
             [
              0,
              "rgb(20,44,66)"
             ],
             [
              1,
              "rgb(90,179,244)"
             ]
            ],
            "type": "heatmapgl"
           }
          ],
          "histogram": [
           {
            "marker": {
             "colorbar": {
              "outlinewidth": 0,
              "tickcolor": "rgb(237,237,237)",
              "ticklen": 6,
              "ticks": "inside"
             }
            },
            "type": "histogram"
           }
          ],
          "histogram2d": [
           {
            "colorbar": {
             "outlinewidth": 0,
             "tickcolor": "rgb(237,237,237)",
             "ticklen": 6,
             "ticks": "inside"
            },
            "colorscale": [
             [
              0,
              "rgb(20,44,66)"
             ],
             [
              1,
              "rgb(90,179,244)"
             ]
            ],
            "type": "histogram2d"
           }
          ],
          "histogram2dcontour": [
           {
            "colorbar": {
             "outlinewidth": 0,
             "tickcolor": "rgb(237,237,237)",
             "ticklen": 6,
             "ticks": "inside"
            },
            "colorscale": [
             [
              0,
              "rgb(20,44,66)"
             ],
             [
              1,
              "rgb(90,179,244)"
             ]
            ],
            "type": "histogram2dcontour"
           }
          ],
          "mesh3d": [
           {
            "colorbar": {
             "outlinewidth": 0,
             "tickcolor": "rgb(237,237,237)",
             "ticklen": 6,
             "ticks": "inside"
            },
            "type": "mesh3d"
           }
          ],
          "parcoords": [
           {
            "line": {
             "colorbar": {
              "outlinewidth": 0,
              "tickcolor": "rgb(237,237,237)",
              "ticklen": 6,
              "ticks": "inside"
             }
            },
            "type": "parcoords"
           }
          ],
          "pie": [
           {
            "automargin": true,
            "type": "pie"
           }
          ],
          "scatter": [
           {
            "marker": {
             "colorbar": {
              "outlinewidth": 0,
              "tickcolor": "rgb(237,237,237)",
              "ticklen": 6,
              "ticks": "inside"
             }
            },
            "type": "scatter"
           }
          ],
          "scatter3d": [
           {
            "line": {
             "colorbar": {
              "outlinewidth": 0,
              "tickcolor": "rgb(237,237,237)",
              "ticklen": 6,
              "ticks": "inside"
             }
            },
            "marker": {
             "colorbar": {
              "outlinewidth": 0,
              "tickcolor": "rgb(237,237,237)",
              "ticklen": 6,
              "ticks": "inside"
             }
            },
            "type": "scatter3d"
           }
          ],
          "scattercarpet": [
           {
            "marker": {
             "colorbar": {
              "outlinewidth": 0,
              "tickcolor": "rgb(237,237,237)",
              "ticklen": 6,
              "ticks": "inside"
             }
            },
            "type": "scattercarpet"
           }
          ],
          "scattergeo": [
           {
            "marker": {
             "colorbar": {
              "outlinewidth": 0,
              "tickcolor": "rgb(237,237,237)",
              "ticklen": 6,
              "ticks": "inside"
             }
            },
            "type": "scattergeo"
           }
          ],
          "scattergl": [
           {
            "marker": {
             "colorbar": {
              "outlinewidth": 0,
              "tickcolor": "rgb(237,237,237)",
              "ticklen": 6,
              "ticks": "inside"
             }
            },
            "type": "scattergl"
           }
          ],
          "scattermapbox": [
           {
            "marker": {
             "colorbar": {
              "outlinewidth": 0,
              "tickcolor": "rgb(237,237,237)",
              "ticklen": 6,
              "ticks": "inside"
             }
            },
            "type": "scattermapbox"
           }
          ],
          "scatterpolar": [
           {
            "marker": {
             "colorbar": {
              "outlinewidth": 0,
              "tickcolor": "rgb(237,237,237)",
              "ticklen": 6,
              "ticks": "inside"
             }
            },
            "type": "scatterpolar"
           }
          ],
          "scatterpolargl": [
           {
            "marker": {
             "colorbar": {
              "outlinewidth": 0,
              "tickcolor": "rgb(237,237,237)",
              "ticklen": 6,
              "ticks": "inside"
             }
            },
            "type": "scatterpolargl"
           }
          ],
          "scatterternary": [
           {
            "marker": {
             "colorbar": {
              "outlinewidth": 0,
              "tickcolor": "rgb(237,237,237)",
              "ticklen": 6,
              "ticks": "inside"
             }
            },
            "type": "scatterternary"
           }
          ],
          "surface": [
           {
            "colorbar": {
             "outlinewidth": 0,
             "tickcolor": "rgb(237,237,237)",
             "ticklen": 6,
             "ticks": "inside"
            },
            "colorscale": [
             [
              0,
              "rgb(20,44,66)"
             ],
             [
              1,
              "rgb(90,179,244)"
             ]
            ],
            "type": "surface"
           }
          ],
          "table": [
           {
            "cells": {
             "fill": {
              "color": "rgb(237,237,237)"
             },
             "line": {
              "color": "white"
             }
            },
            "header": {
             "fill": {
              "color": "rgb(217,217,217)"
             },
             "line": {
              "color": "white"
             }
            },
            "type": "table"
           }
          ]
         },
         "layout": {
          "annotationdefaults": {
           "arrowhead": 0,
           "arrowwidth": 1
          },
          "coloraxis": {
           "colorbar": {
            "outlinewidth": 0,
            "tickcolor": "rgb(237,237,237)",
            "ticklen": 6,
            "ticks": "inside"
           }
          },
          "colorscale": {
           "sequential": [
            [
             0,
             "rgb(20,44,66)"
            ],
            [
             1,
             "rgb(90,179,244)"
            ]
           ],
           "sequentialminus": [
            [
             0,
             "rgb(20,44,66)"
            ],
            [
             1,
             "rgb(90,179,244)"
            ]
           ]
          },
          "colorway": [
           "#F8766D",
           "#A3A500",
           "#00BF7D",
           "#00B0F6",
           "#E76BF3"
          ],
          "font": {
           "color": "rgb(51,51,51)"
          },
          "geo": {
           "bgcolor": "white",
           "lakecolor": "white",
           "landcolor": "rgb(237,237,237)",
           "showlakes": true,
           "showland": true,
           "subunitcolor": "white"
          },
          "hoverlabel": {
           "align": "left"
          },
          "hovermode": "closest",
          "paper_bgcolor": "white",
          "plot_bgcolor": "rgb(237,237,237)",
          "polar": {
           "angularaxis": {
            "gridcolor": "white",
            "linecolor": "white",
            "showgrid": true,
            "tickcolor": "rgb(51,51,51)",
            "ticks": "outside"
           },
           "bgcolor": "rgb(237,237,237)",
           "radialaxis": {
            "gridcolor": "white",
            "linecolor": "white",
            "showgrid": true,
            "tickcolor": "rgb(51,51,51)",
            "ticks": "outside"
           }
          },
          "scene": {
           "xaxis": {
            "backgroundcolor": "rgb(237,237,237)",
            "gridcolor": "white",
            "gridwidth": 2,
            "linecolor": "white",
            "showbackground": true,
            "showgrid": true,
            "tickcolor": "rgb(51,51,51)",
            "ticks": "outside",
            "zerolinecolor": "white"
           },
           "yaxis": {
            "backgroundcolor": "rgb(237,237,237)",
            "gridcolor": "white",
            "gridwidth": 2,
            "linecolor": "white",
            "showbackground": true,
            "showgrid": true,
            "tickcolor": "rgb(51,51,51)",
            "ticks": "outside",
            "zerolinecolor": "white"
           },
           "zaxis": {
            "backgroundcolor": "rgb(237,237,237)",
            "gridcolor": "white",
            "gridwidth": 2,
            "linecolor": "white",
            "showbackground": true,
            "showgrid": true,
            "tickcolor": "rgb(51,51,51)",
            "ticks": "outside",
            "zerolinecolor": "white"
           }
          },
          "shapedefaults": {
           "fillcolor": "black",
           "line": {
            "width": 0
           },
           "opacity": 0.3
          },
          "ternary": {
           "aaxis": {
            "gridcolor": "white",
            "linecolor": "white",
            "showgrid": true,
            "tickcolor": "rgb(51,51,51)",
            "ticks": "outside"
           },
           "baxis": {
            "gridcolor": "white",
            "linecolor": "white",
            "showgrid": true,
            "tickcolor": "rgb(51,51,51)",
            "ticks": "outside"
           },
           "bgcolor": "rgb(237,237,237)",
           "caxis": {
            "gridcolor": "white",
            "linecolor": "white",
            "showgrid": true,
            "tickcolor": "rgb(51,51,51)",
            "ticks": "outside"
           }
          },
          "xaxis": {
           "automargin": true,
           "gridcolor": "white",
           "linecolor": "white",
           "showgrid": true,
           "tickcolor": "rgb(51,51,51)",
           "ticks": "outside",
           "title": {
            "standoff": 15
           },
           "zerolinecolor": "white"
          },
          "yaxis": {
           "automargin": true,
           "gridcolor": "white",
           "linecolor": "white",
           "showgrid": true,
           "tickcolor": "rgb(51,51,51)",
           "ticks": "outside",
           "title": {
            "standoff": 15
           },
           "zerolinecolor": "white"
          }
         }
        },
        "title": {
         "text": "Genres In Movies"
        }
       }
      },
      "text/html": [
       "<div>\n",
       "        \n",
       "        \n",
       "            <div id=\"38057bbb-9ede-43e4-9ec7-a9ba355962da\" class=\"plotly-graph-div\" style=\"height:525px; width:100%;\"></div>\n",
       "            <script type=\"text/javascript\">\n",
       "                require([\"plotly\"], function(Plotly) {\n",
       "                    window.PLOTLYENV=window.PLOTLYENV || {};\n",
       "                    \n",
       "                if (document.getElementById(\"38057bbb-9ede-43e4-9ec7-a9ba355962da\")) {\n",
       "                    Plotly.newPlot(\n",
       "                        '38057bbb-9ede-43e4-9ec7-a9ba355962da',\n",
       "                        [{\"hoverinfo\": \"label+percent\", \"labels\": [\"Drama\", \"Comedy\", \"Action\", \"Crime\", \"Thriller\", \"Sci-Fi\", \"Mystery\", \"Adventure\", \"Fantasy\", \"Romance\", \"Reality-TV\", \"Horror\", \"Animation\", \"Family\", \"Music\", \"Game-Show\", \"History\", \"Sport\", \"Western\", \"War\", \"Biography\", \"Documentary\", \"TV Show\"], \"marker\": {\"line\": {\"color\": \"#000000\", \"width\": 2}}, \"textfont\": {\"size\": 15}, \"textinfo\": \"value\", \"type\": \"pie\", \"values\": [23.82198952879581, 10.340314136125654, 8.900523560209423, 8.769633507853403, 7.853403141361256, 6.806282722513089, 6.4136125654450264, 4.973821989528796, 4.712041884816754, 3.664921465968586, 2.8795811518324608, 2.8795811518324608, 2.74869109947644, 1.4397905759162304, 0.6544502617801047, 0.6544502617801047, 0.6544502617801047, 0.3926701570680628, 0.3926701570680628, 0.3926701570680628, 0.2617801047120419, 0.2617801047120419, 0.13089005235602094]}],\n",
       "                        {\"font\": {\"color\": \"#7f7f7f\", \"family\": \"Courier New, monospace\", \"size\": 18}, \"template\": {\"data\": {\"bar\": [{\"error_x\": {\"color\": \"rgb(51,51,51)\"}, \"error_y\": {\"color\": \"rgb(51,51,51)\"}, \"marker\": {\"line\": {\"color\": \"rgb(237,237,237)\", \"width\": 0.5}}, \"type\": \"bar\"}], \"barpolar\": [{\"marker\": {\"line\": {\"color\": \"rgb(237,237,237)\", \"width\": 0.5}}, \"type\": \"barpolar\"}], \"carpet\": [{\"aaxis\": {\"endlinecolor\": \"rgb(51,51,51)\", \"gridcolor\": \"white\", \"linecolor\": \"white\", \"minorgridcolor\": \"white\", \"startlinecolor\": \"rgb(51,51,51)\"}, \"baxis\": {\"endlinecolor\": \"rgb(51,51,51)\", \"gridcolor\": \"white\", \"linecolor\": \"white\", \"minorgridcolor\": \"white\", \"startlinecolor\": \"rgb(51,51,51)\"}, \"type\": \"carpet\"}], \"choropleth\": [{\"colorbar\": {\"outlinewidth\": 0, \"tickcolor\": \"rgb(237,237,237)\", \"ticklen\": 6, \"ticks\": \"inside\"}, \"type\": \"choropleth\"}], \"contour\": [{\"colorbar\": {\"outlinewidth\": 0, \"tickcolor\": \"rgb(237,237,237)\", \"ticklen\": 6, \"ticks\": \"inside\"}, \"colorscale\": [[0, \"rgb(20,44,66)\"], [1, \"rgb(90,179,244)\"]], \"type\": \"contour\"}], \"contourcarpet\": [{\"colorbar\": {\"outlinewidth\": 0, \"tickcolor\": \"rgb(237,237,237)\", \"ticklen\": 6, \"ticks\": \"inside\"}, \"type\": \"contourcarpet\"}], \"heatmap\": [{\"colorbar\": {\"outlinewidth\": 0, \"tickcolor\": \"rgb(237,237,237)\", \"ticklen\": 6, \"ticks\": \"inside\"}, \"colorscale\": [[0, \"rgb(20,44,66)\"], [1, \"rgb(90,179,244)\"]], \"type\": \"heatmap\"}], \"heatmapgl\": [{\"colorbar\": {\"outlinewidth\": 0, \"tickcolor\": \"rgb(237,237,237)\", \"ticklen\": 6, \"ticks\": \"inside\"}, \"colorscale\": [[0, \"rgb(20,44,66)\"], [1, \"rgb(90,179,244)\"]], \"type\": \"heatmapgl\"}], \"histogram\": [{\"marker\": {\"colorbar\": {\"outlinewidth\": 0, \"tickcolor\": \"rgb(237,237,237)\", \"ticklen\": 6, \"ticks\": \"inside\"}}, \"type\": \"histogram\"}], \"histogram2d\": [{\"colorbar\": {\"outlinewidth\": 0, \"tickcolor\": \"rgb(237,237,237)\", \"ticklen\": 6, \"ticks\": \"inside\"}, \"colorscale\": [[0, \"rgb(20,44,66)\"], [1, \"rgb(90,179,244)\"]], \"type\": \"histogram2d\"}], \"histogram2dcontour\": [{\"colorbar\": {\"outlinewidth\": 0, \"tickcolor\": \"rgb(237,237,237)\", \"ticklen\": 6, \"ticks\": \"inside\"}, \"colorscale\": [[0, \"rgb(20,44,66)\"], [1, \"rgb(90,179,244)\"]], \"type\": \"histogram2dcontour\"}], \"mesh3d\": [{\"colorbar\": {\"outlinewidth\": 0, \"tickcolor\": \"rgb(237,237,237)\", \"ticklen\": 6, \"ticks\": \"inside\"}, \"type\": \"mesh3d\"}], \"parcoords\": [{\"line\": {\"colorbar\": {\"outlinewidth\": 0, \"tickcolor\": \"rgb(237,237,237)\", \"ticklen\": 6, \"ticks\": \"inside\"}}, \"type\": \"parcoords\"}], \"pie\": [{\"automargin\": true, \"type\": \"pie\"}], \"scatter\": [{\"marker\": {\"colorbar\": {\"outlinewidth\": 0, \"tickcolor\": \"rgb(237,237,237)\", \"ticklen\": 6, \"ticks\": \"inside\"}}, \"type\": \"scatter\"}], \"scatter3d\": [{\"line\": {\"colorbar\": {\"outlinewidth\": 0, \"tickcolor\": \"rgb(237,237,237)\", \"ticklen\": 6, \"ticks\": \"inside\"}}, \"marker\": {\"colorbar\": {\"outlinewidth\": 0, \"tickcolor\": \"rgb(237,237,237)\", \"ticklen\": 6, \"ticks\": \"inside\"}}, \"type\": \"scatter3d\"}], \"scattercarpet\": [{\"marker\": {\"colorbar\": {\"outlinewidth\": 0, \"tickcolor\": \"rgb(237,237,237)\", \"ticklen\": 6, \"ticks\": \"inside\"}}, \"type\": \"scattercarpet\"}], \"scattergeo\": [{\"marker\": {\"colorbar\": {\"outlinewidth\": 0, \"tickcolor\": \"rgb(237,237,237)\", \"ticklen\": 6, \"ticks\": \"inside\"}}, \"type\": \"scattergeo\"}], \"scattergl\": [{\"marker\": {\"colorbar\": {\"outlinewidth\": 0, \"tickcolor\": \"rgb(237,237,237)\", \"ticklen\": 6, \"ticks\": \"inside\"}}, \"type\": \"scattergl\"}], \"scattermapbox\": [{\"marker\": {\"colorbar\": {\"outlinewidth\": 0, \"tickcolor\": \"rgb(237,237,237)\", \"ticklen\": 6, \"ticks\": \"inside\"}}, \"type\": \"scattermapbox\"}], \"scatterpolar\": [{\"marker\": {\"colorbar\": {\"outlinewidth\": 0, \"tickcolor\": \"rgb(237,237,237)\", \"ticklen\": 6, \"ticks\": \"inside\"}}, \"type\": \"scatterpolar\"}], \"scatterpolargl\": [{\"marker\": {\"colorbar\": {\"outlinewidth\": 0, \"tickcolor\": \"rgb(237,237,237)\", \"ticklen\": 6, \"ticks\": \"inside\"}}, \"type\": \"scatterpolargl\"}], \"scatterternary\": [{\"marker\": {\"colorbar\": {\"outlinewidth\": 0, \"tickcolor\": \"rgb(237,237,237)\", \"ticklen\": 6, \"ticks\": \"inside\"}}, \"type\": \"scatterternary\"}], \"surface\": [{\"colorbar\": {\"outlinewidth\": 0, \"tickcolor\": \"rgb(237,237,237)\", \"ticklen\": 6, \"ticks\": \"inside\"}, \"colorscale\": [[0, \"rgb(20,44,66)\"], [1, \"rgb(90,179,244)\"]], \"type\": \"surface\"}], \"table\": [{\"cells\": {\"fill\": {\"color\": \"rgb(237,237,237)\"}, \"line\": {\"color\": \"white\"}}, \"header\": {\"fill\": {\"color\": \"rgb(217,217,217)\"}, \"line\": {\"color\": \"white\"}}, \"type\": \"table\"}]}, \"layout\": {\"annotationdefaults\": {\"arrowhead\": 0, \"arrowwidth\": 1}, \"coloraxis\": {\"colorbar\": {\"outlinewidth\": 0, \"tickcolor\": \"rgb(237,237,237)\", \"ticklen\": 6, \"ticks\": \"inside\"}}, \"colorscale\": {\"sequential\": [[0, \"rgb(20,44,66)\"], [1, \"rgb(90,179,244)\"]], \"sequentialminus\": [[0, \"rgb(20,44,66)\"], [1, \"rgb(90,179,244)\"]]}, \"colorway\": [\"#F8766D\", \"#A3A500\", \"#00BF7D\", \"#00B0F6\", \"#E76BF3\"], \"font\": {\"color\": \"rgb(51,51,51)\"}, \"geo\": {\"bgcolor\": \"white\", \"lakecolor\": \"white\", \"landcolor\": \"rgb(237,237,237)\", \"showlakes\": true, \"showland\": true, \"subunitcolor\": \"white\"}, \"hoverlabel\": {\"align\": \"left\"}, \"hovermode\": \"closest\", \"paper_bgcolor\": \"white\", \"plot_bgcolor\": \"rgb(237,237,237)\", \"polar\": {\"angularaxis\": {\"gridcolor\": \"white\", \"linecolor\": \"white\", \"showgrid\": true, \"tickcolor\": \"rgb(51,51,51)\", \"ticks\": \"outside\"}, \"bgcolor\": \"rgb(237,237,237)\", \"radialaxis\": {\"gridcolor\": \"white\", \"linecolor\": \"white\", \"showgrid\": true, \"tickcolor\": \"rgb(51,51,51)\", \"ticks\": \"outside\"}}, \"scene\": {\"xaxis\": {\"backgroundcolor\": \"rgb(237,237,237)\", \"gridcolor\": \"white\", \"gridwidth\": 2, \"linecolor\": \"white\", \"showbackground\": true, \"showgrid\": true, \"tickcolor\": \"rgb(51,51,51)\", \"ticks\": \"outside\", \"zerolinecolor\": \"white\"}, \"yaxis\": {\"backgroundcolor\": \"rgb(237,237,237)\", \"gridcolor\": \"white\", \"gridwidth\": 2, \"linecolor\": \"white\", \"showbackground\": true, \"showgrid\": true, \"tickcolor\": \"rgb(51,51,51)\", \"ticks\": \"outside\", \"zerolinecolor\": \"white\"}, \"zaxis\": {\"backgroundcolor\": \"rgb(237,237,237)\", \"gridcolor\": \"white\", \"gridwidth\": 2, \"linecolor\": \"white\", \"showbackground\": true, \"showgrid\": true, \"tickcolor\": \"rgb(51,51,51)\", \"ticks\": \"outside\", \"zerolinecolor\": \"white\"}}, \"shapedefaults\": {\"fillcolor\": \"black\", \"line\": {\"width\": 0}, \"opacity\": 0.3}, \"ternary\": {\"aaxis\": {\"gridcolor\": \"white\", \"linecolor\": \"white\", \"showgrid\": true, \"tickcolor\": \"rgb(51,51,51)\", \"ticks\": \"outside\"}, \"baxis\": {\"gridcolor\": \"white\", \"linecolor\": \"white\", \"showgrid\": true, \"tickcolor\": \"rgb(51,51,51)\", \"ticks\": \"outside\"}, \"bgcolor\": \"rgb(237,237,237)\", \"caxis\": {\"gridcolor\": \"white\", \"linecolor\": \"white\", \"showgrid\": true, \"tickcolor\": \"rgb(51,51,51)\", \"ticks\": \"outside\"}}, \"xaxis\": {\"automargin\": true, \"gridcolor\": \"white\", \"linecolor\": \"white\", \"showgrid\": true, \"tickcolor\": \"rgb(51,51,51)\", \"ticks\": \"outside\", \"title\": {\"standoff\": 15}, \"zerolinecolor\": \"white\"}, \"yaxis\": {\"automargin\": true, \"gridcolor\": \"white\", \"linecolor\": \"white\", \"showgrid\": true, \"tickcolor\": \"rgb(51,51,51)\", \"ticks\": \"outside\", \"title\": {\"standoff\": 15}, \"zerolinecolor\": \"white\"}}}, \"title\": {\"text\": \"Genres In Movies\"}},\n",
       "                        {\"responsive\": true}\n",
       "                    ).then(function(){\n",
       "                            \n",
       "var gd = document.getElementById('38057bbb-9ede-43e4-9ec7-a9ba355962da');\n",
       "var x = new MutationObserver(function (mutations, observer) {{\n",
       "        var display = window.getComputedStyle(gd).display;\n",
       "        if (!display || display === 'none') {{\n",
       "            console.log([gd, 'removed!']);\n",
       "            Plotly.purge(gd);\n",
       "            observer.disconnect();\n",
       "        }}\n",
       "}});\n",
       "\n",
       "// Listen for the removal of the full notebook cells\n",
       "var notebookContainer = gd.closest('#notebook-container');\n",
       "if (notebookContainer) {{\n",
       "    x.observe(notebookContainer, {childList: true});\n",
       "}}\n",
       "\n",
       "// Listen for the clearing of the current output cell\n",
       "var outputEl = gd.closest('.output');\n",
       "if (outputEl) {{\n",
       "    x.observe(outputEl, {childList: true});\n",
       "}}\n",
       "\n",
       "                        })\n",
       "                };\n",
       "                });\n",
       "            </script>\n",
       "        </div>"
      ]
     },
     "metadata": {},
     "output_type": "display_data"
    }
   ],
   "source": [
    "fig = go.Figure()\n",
    "fig.add_trace(go.Pie(labels=genre_names_tv, values=genre_names_pct_tv))\n",
    "fig.update_traces(hoverinfo='label+percent', textinfo='value', textfont_size=15,\n",
    "                  marker=dict( line=dict(color='#000000', width=2)),)\n",
    "fig.update_layout(title=\"Genres In Movies\",\n",
    "                 template=\"ggplot2\",\n",
    "                    font=dict(\n",
    "                        family=\"Courier New, monospace\",\n",
    "                              size=18,\n",
    "                              color=\"#7f7f7f\"))\n",
    "\n"
   ]
  },
  {
   "cell_type": "markdown",
   "metadata": {},
   "source": [
    "In TV screens most of the shows are Drama,Comedy and Action, while we should remember, mostly a show has multiple genre."
   ]
  },
  {
   "cell_type": "markdown",
   "metadata": {},
   "source": [
    "## Movie Vs TV Genre Share\n",
    "\n",
    "Lets compare TV and Movie worlds by Genre"
   ]
  },
  {
   "cell_type": "code",
   "execution_count": 50,
   "metadata": {
    "ExecuteTime": {
     "end_time": "2020-07-15T04:12:01.014299Z",
     "start_time": "2020-07-15T04:12:00.956298Z"
    }
   },
   "outputs": [
    {
     "data": {
      "application/vnd.plotly.v1+json": {
       "config": {
        "plotlyServerURL": "https://plot.ly"
       },
       "data": [
        {
         "name": "Genres| Movie",
         "type": "bar",
         "x": [
          "Drama",
          "Action",
          "Comedy",
          "Adventure",
          "Thriller",
          "Sci-Fi",
          "Fantasy",
          "Romance",
          "Crime",
          "Family",
          "Animation",
          "Horror",
          "Mystery",
          "Biography",
          "History",
          "War",
          "Music",
          "Sport",
          "Documentary",
          "Western",
          "Reality-TV",
          "Kungfu"
         ],
         "y": [
          14.281942977824711,
          11.826821541710665,
          10.770855332629356,
          9.635691657866948,
          9.530095036958818,
          6.520591341077085,
          6.46779303062302,
          4.883843717001056,
          4.83104540654699,
          4.540654699049631,
          3.7750791974656814,
          3.748680042238648,
          3.563885955649419,
          1.583949313621964,
          1.214361140443506,
          0.8975712777191129,
          0.5807814149947201,
          0.5279831045406547,
          0.36958817317845827,
          0.26399155227032733,
          0.10559662090813093,
          0.07919746568109821
         ]
        },
        {
         "name": "GenresTV",
         "type": "bar",
         "x": [
          "Drama",
          "Comedy",
          "Action",
          "Crime",
          "Thriller",
          "Sci-Fi",
          "Mystery",
          "Adventure",
          "Fantasy",
          "Romance",
          "Reality-TV",
          "Horror",
          "Animation",
          "Family",
          "Music",
          "Game-Show",
          "History",
          "Sport",
          "Western",
          "War",
          "Biography",
          "Documentary",
          "TV Show"
         ],
         "y": [
          23.82198952879581,
          10.340314136125654,
          8.900523560209423,
          8.769633507853403,
          7.853403141361256,
          6.806282722513089,
          6.4136125654450264,
          4.973821989528796,
          4.712041884816754,
          3.664921465968586,
          2.8795811518324608,
          2.8795811518324608,
          2.74869109947644,
          1.4397905759162304,
          0.6544502617801047,
          0.6544502617801047,
          0.6544502617801047,
          0.3926701570680628,
          0.3926701570680628,
          0.3926701570680628,
          0.2617801047120419,
          0.2617801047120419,
          0.13089005235602094
         ]
        }
       ],
       "layout": {
        "template": {
         "data": {
          "bar": [
           {
            "error_x": {
             "color": "rgb(51,51,51)"
            },
            "error_y": {
             "color": "rgb(51,51,51)"
            },
            "marker": {
             "line": {
              "color": "rgb(237,237,237)",
              "width": 0.5
             }
            },
            "type": "bar"
           }
          ],
          "barpolar": [
           {
            "marker": {
             "line": {
              "color": "rgb(237,237,237)",
              "width": 0.5
             }
            },
            "type": "barpolar"
           }
          ],
          "carpet": [
           {
            "aaxis": {
             "endlinecolor": "rgb(51,51,51)",
             "gridcolor": "white",
             "linecolor": "white",
             "minorgridcolor": "white",
             "startlinecolor": "rgb(51,51,51)"
            },
            "baxis": {
             "endlinecolor": "rgb(51,51,51)",
             "gridcolor": "white",
             "linecolor": "white",
             "minorgridcolor": "white",
             "startlinecolor": "rgb(51,51,51)"
            },
            "type": "carpet"
           }
          ],
          "choropleth": [
           {
            "colorbar": {
             "outlinewidth": 0,
             "tickcolor": "rgb(237,237,237)",
             "ticklen": 6,
             "ticks": "inside"
            },
            "type": "choropleth"
           }
          ],
          "contour": [
           {
            "colorbar": {
             "outlinewidth": 0,
             "tickcolor": "rgb(237,237,237)",
             "ticklen": 6,
             "ticks": "inside"
            },
            "colorscale": [
             [
              0,
              "rgb(20,44,66)"
             ],
             [
              1,
              "rgb(90,179,244)"
             ]
            ],
            "type": "contour"
           }
          ],
          "contourcarpet": [
           {
            "colorbar": {
             "outlinewidth": 0,
             "tickcolor": "rgb(237,237,237)",
             "ticklen": 6,
             "ticks": "inside"
            },
            "type": "contourcarpet"
           }
          ],
          "heatmap": [
           {
            "colorbar": {
             "outlinewidth": 0,
             "tickcolor": "rgb(237,237,237)",
             "ticklen": 6,
             "ticks": "inside"
            },
            "colorscale": [
             [
              0,
              "rgb(20,44,66)"
             ],
             [
              1,
              "rgb(90,179,244)"
             ]
            ],
            "type": "heatmap"
           }
          ],
          "heatmapgl": [
           {
            "colorbar": {
             "outlinewidth": 0,
             "tickcolor": "rgb(237,237,237)",
             "ticklen": 6,
             "ticks": "inside"
            },
            "colorscale": [
             [
              0,
              "rgb(20,44,66)"
             ],
             [
              1,
              "rgb(90,179,244)"
             ]
            ],
            "type": "heatmapgl"
           }
          ],
          "histogram": [
           {
            "marker": {
             "colorbar": {
              "outlinewidth": 0,
              "tickcolor": "rgb(237,237,237)",
              "ticklen": 6,
              "ticks": "inside"
             }
            },
            "type": "histogram"
           }
          ],
          "histogram2d": [
           {
            "colorbar": {
             "outlinewidth": 0,
             "tickcolor": "rgb(237,237,237)",
             "ticklen": 6,
             "ticks": "inside"
            },
            "colorscale": [
             [
              0,
              "rgb(20,44,66)"
             ],
             [
              1,
              "rgb(90,179,244)"
             ]
            ],
            "type": "histogram2d"
           }
          ],
          "histogram2dcontour": [
           {
            "colorbar": {
             "outlinewidth": 0,
             "tickcolor": "rgb(237,237,237)",
             "ticklen": 6,
             "ticks": "inside"
            },
            "colorscale": [
             [
              0,
              "rgb(20,44,66)"
             ],
             [
              1,
              "rgb(90,179,244)"
             ]
            ],
            "type": "histogram2dcontour"
           }
          ],
          "mesh3d": [
           {
            "colorbar": {
             "outlinewidth": 0,
             "tickcolor": "rgb(237,237,237)",
             "ticklen": 6,
             "ticks": "inside"
            },
            "type": "mesh3d"
           }
          ],
          "parcoords": [
           {
            "line": {
             "colorbar": {
              "outlinewidth": 0,
              "tickcolor": "rgb(237,237,237)",
              "ticklen": 6,
              "ticks": "inside"
             }
            },
            "type": "parcoords"
           }
          ],
          "pie": [
           {
            "automargin": true,
            "type": "pie"
           }
          ],
          "scatter": [
           {
            "marker": {
             "colorbar": {
              "outlinewidth": 0,
              "tickcolor": "rgb(237,237,237)",
              "ticklen": 6,
              "ticks": "inside"
             }
            },
            "type": "scatter"
           }
          ],
          "scatter3d": [
           {
            "line": {
             "colorbar": {
              "outlinewidth": 0,
              "tickcolor": "rgb(237,237,237)",
              "ticklen": 6,
              "ticks": "inside"
             }
            },
            "marker": {
             "colorbar": {
              "outlinewidth": 0,
              "tickcolor": "rgb(237,237,237)",
              "ticklen": 6,
              "ticks": "inside"
             }
            },
            "type": "scatter3d"
           }
          ],
          "scattercarpet": [
           {
            "marker": {
             "colorbar": {
              "outlinewidth": 0,
              "tickcolor": "rgb(237,237,237)",
              "ticklen": 6,
              "ticks": "inside"
             }
            },
            "type": "scattercarpet"
           }
          ],
          "scattergeo": [
           {
            "marker": {
             "colorbar": {
              "outlinewidth": 0,
              "tickcolor": "rgb(237,237,237)",
              "ticklen": 6,
              "ticks": "inside"
             }
            },
            "type": "scattergeo"
           }
          ],
          "scattergl": [
           {
            "marker": {
             "colorbar": {
              "outlinewidth": 0,
              "tickcolor": "rgb(237,237,237)",
              "ticklen": 6,
              "ticks": "inside"
             }
            },
            "type": "scattergl"
           }
          ],
          "scattermapbox": [
           {
            "marker": {
             "colorbar": {
              "outlinewidth": 0,
              "tickcolor": "rgb(237,237,237)",
              "ticklen": 6,
              "ticks": "inside"
             }
            },
            "type": "scattermapbox"
           }
          ],
          "scatterpolar": [
           {
            "marker": {
             "colorbar": {
              "outlinewidth": 0,
              "tickcolor": "rgb(237,237,237)",
              "ticklen": 6,
              "ticks": "inside"
             }
            },
            "type": "scatterpolar"
           }
          ],
          "scatterpolargl": [
           {
            "marker": {
             "colorbar": {
              "outlinewidth": 0,
              "tickcolor": "rgb(237,237,237)",
              "ticklen": 6,
              "ticks": "inside"
             }
            },
            "type": "scatterpolargl"
           }
          ],
          "scatterternary": [
           {
            "marker": {
             "colorbar": {
              "outlinewidth": 0,
              "tickcolor": "rgb(237,237,237)",
              "ticklen": 6,
              "ticks": "inside"
             }
            },
            "type": "scatterternary"
           }
          ],
          "surface": [
           {
            "colorbar": {
             "outlinewidth": 0,
             "tickcolor": "rgb(237,237,237)",
             "ticklen": 6,
             "ticks": "inside"
            },
            "colorscale": [
             [
              0,
              "rgb(20,44,66)"
             ],
             [
              1,
              "rgb(90,179,244)"
             ]
            ],
            "type": "surface"
           }
          ],
          "table": [
           {
            "cells": {
             "fill": {
              "color": "rgb(237,237,237)"
             },
             "line": {
              "color": "white"
             }
            },
            "header": {
             "fill": {
              "color": "rgb(217,217,217)"
             },
             "line": {
              "color": "white"
             }
            },
            "type": "table"
           }
          ]
         },
         "layout": {
          "annotationdefaults": {
           "arrowhead": 0,
           "arrowwidth": 1
          },
          "coloraxis": {
           "colorbar": {
            "outlinewidth": 0,
            "tickcolor": "rgb(237,237,237)",
            "ticklen": 6,
            "ticks": "inside"
           }
          },
          "colorscale": {
           "sequential": [
            [
             0,
             "rgb(20,44,66)"
            ],
            [
             1,
             "rgb(90,179,244)"
            ]
           ],
           "sequentialminus": [
            [
             0,
             "rgb(20,44,66)"
            ],
            [
             1,
             "rgb(90,179,244)"
            ]
           ]
          },
          "colorway": [
           "#F8766D",
           "#A3A500",
           "#00BF7D",
           "#00B0F6",
           "#E76BF3"
          ],
          "font": {
           "color": "rgb(51,51,51)"
          },
          "geo": {
           "bgcolor": "white",
           "lakecolor": "white",
           "landcolor": "rgb(237,237,237)",
           "showlakes": true,
           "showland": true,
           "subunitcolor": "white"
          },
          "hoverlabel": {
           "align": "left"
          },
          "hovermode": "closest",
          "paper_bgcolor": "white",
          "plot_bgcolor": "rgb(237,237,237)",
          "polar": {
           "angularaxis": {
            "gridcolor": "white",
            "linecolor": "white",
            "showgrid": true,
            "tickcolor": "rgb(51,51,51)",
            "ticks": "outside"
           },
           "bgcolor": "rgb(237,237,237)",
           "radialaxis": {
            "gridcolor": "white",
            "linecolor": "white",
            "showgrid": true,
            "tickcolor": "rgb(51,51,51)",
            "ticks": "outside"
           }
          },
          "scene": {
           "xaxis": {
            "backgroundcolor": "rgb(237,237,237)",
            "gridcolor": "white",
            "gridwidth": 2,
            "linecolor": "white",
            "showbackground": true,
            "showgrid": true,
            "tickcolor": "rgb(51,51,51)",
            "ticks": "outside",
            "zerolinecolor": "white"
           },
           "yaxis": {
            "backgroundcolor": "rgb(237,237,237)",
            "gridcolor": "white",
            "gridwidth": 2,
            "linecolor": "white",
            "showbackground": true,
            "showgrid": true,
            "tickcolor": "rgb(51,51,51)",
            "ticks": "outside",
            "zerolinecolor": "white"
           },
           "zaxis": {
            "backgroundcolor": "rgb(237,237,237)",
            "gridcolor": "white",
            "gridwidth": 2,
            "linecolor": "white",
            "showbackground": true,
            "showgrid": true,
            "tickcolor": "rgb(51,51,51)",
            "ticks": "outside",
            "zerolinecolor": "white"
           }
          },
          "shapedefaults": {
           "fillcolor": "black",
           "line": {
            "width": 0
           },
           "opacity": 0.3
          },
          "ternary": {
           "aaxis": {
            "gridcolor": "white",
            "linecolor": "white",
            "showgrid": true,
            "tickcolor": "rgb(51,51,51)",
            "ticks": "outside"
           },
           "baxis": {
            "gridcolor": "white",
            "linecolor": "white",
            "showgrid": true,
            "tickcolor": "rgb(51,51,51)",
            "ticks": "outside"
           },
           "bgcolor": "rgb(237,237,237)",
           "caxis": {
            "gridcolor": "white",
            "linecolor": "white",
            "showgrid": true,
            "tickcolor": "rgb(51,51,51)",
            "ticks": "outside"
           }
          },
          "xaxis": {
           "automargin": true,
           "gridcolor": "white",
           "linecolor": "white",
           "showgrid": true,
           "tickcolor": "rgb(51,51,51)",
           "ticks": "outside",
           "title": {
            "standoff": 15
           },
           "zerolinecolor": "white"
          },
          "yaxis": {
           "automargin": true,
           "gridcolor": "white",
           "linecolor": "white",
           "showgrid": true,
           "tickcolor": "rgb(51,51,51)",
           "ticks": "outside",
           "title": {
            "standoff": 15
           },
           "zerolinecolor": "white"
          }
         }
        },
        "title": {
         "text": "Movie Vs. TV | Genre"
        },
        "xaxis": {
         "title": {
          "text": "Genre Names"
         }
        },
        "yaxis": {
         "title": {
          "text": "Share in Percentage"
         }
        }
       }
      },
      "text/html": [
       "<div>\n",
       "        \n",
       "        \n",
       "            <div id=\"34aaafa9-777e-4c0a-a2dd-7a0930e3be52\" class=\"plotly-graph-div\" style=\"height:525px; width:100%;\"></div>\n",
       "            <script type=\"text/javascript\">\n",
       "                require([\"plotly\"], function(Plotly) {\n",
       "                    window.PLOTLYENV=window.PLOTLYENV || {};\n",
       "                    \n",
       "                if (document.getElementById(\"34aaafa9-777e-4c0a-a2dd-7a0930e3be52\")) {\n",
       "                    Plotly.newPlot(\n",
       "                        '34aaafa9-777e-4c0a-a2dd-7a0930e3be52',\n",
       "                        [{\"name\": \"Genres| Movie\", \"type\": \"bar\", \"x\": [\"Drama\", \"Action\", \"Comedy\", \"Adventure\", \"Thriller\", \"Sci-Fi\", \"Fantasy\", \"Romance\", \"Crime\", \"Family\", \"Animation\", \"Horror\", \"Mystery\", \"Biography\", \"History\", \"War\", \"Music\", \"Sport\", \"Documentary\", \"Western\", \"Reality-TV\", \"Kungfu\"], \"y\": [14.281942977824711, 11.826821541710665, 10.770855332629356, 9.635691657866948, 9.530095036958818, 6.520591341077085, 6.46779303062302, 4.883843717001056, 4.83104540654699, 4.540654699049631, 3.7750791974656814, 3.748680042238648, 3.563885955649419, 1.583949313621964, 1.214361140443506, 0.8975712777191129, 0.5807814149947201, 0.5279831045406547, 0.36958817317845827, 0.26399155227032733, 0.10559662090813093, 0.07919746568109821]}, {\"name\": \"GenresTV\", \"type\": \"bar\", \"x\": [\"Drama\", \"Comedy\", \"Action\", \"Crime\", \"Thriller\", \"Sci-Fi\", \"Mystery\", \"Adventure\", \"Fantasy\", \"Romance\", \"Reality-TV\", \"Horror\", \"Animation\", \"Family\", \"Music\", \"Game-Show\", \"History\", \"Sport\", \"Western\", \"War\", \"Biography\", \"Documentary\", \"TV Show\"], \"y\": [23.82198952879581, 10.340314136125654, 8.900523560209423, 8.769633507853403, 7.853403141361256, 6.806282722513089, 6.4136125654450264, 4.973821989528796, 4.712041884816754, 3.664921465968586, 2.8795811518324608, 2.8795811518324608, 2.74869109947644, 1.4397905759162304, 0.6544502617801047, 0.6544502617801047, 0.6544502617801047, 0.3926701570680628, 0.3926701570680628, 0.3926701570680628, 0.2617801047120419, 0.2617801047120419, 0.13089005235602094]}],\n",
       "                        {\"template\": {\"data\": {\"bar\": [{\"error_x\": {\"color\": \"rgb(51,51,51)\"}, \"error_y\": {\"color\": \"rgb(51,51,51)\"}, \"marker\": {\"line\": {\"color\": \"rgb(237,237,237)\", \"width\": 0.5}}, \"type\": \"bar\"}], \"barpolar\": [{\"marker\": {\"line\": {\"color\": \"rgb(237,237,237)\", \"width\": 0.5}}, \"type\": \"barpolar\"}], \"carpet\": [{\"aaxis\": {\"endlinecolor\": \"rgb(51,51,51)\", \"gridcolor\": \"white\", \"linecolor\": \"white\", \"minorgridcolor\": \"white\", \"startlinecolor\": \"rgb(51,51,51)\"}, \"baxis\": {\"endlinecolor\": \"rgb(51,51,51)\", \"gridcolor\": \"white\", \"linecolor\": \"white\", \"minorgridcolor\": \"white\", \"startlinecolor\": \"rgb(51,51,51)\"}, \"type\": \"carpet\"}], \"choropleth\": [{\"colorbar\": {\"outlinewidth\": 0, \"tickcolor\": \"rgb(237,237,237)\", \"ticklen\": 6, \"ticks\": \"inside\"}, \"type\": \"choropleth\"}], \"contour\": [{\"colorbar\": {\"outlinewidth\": 0, \"tickcolor\": \"rgb(237,237,237)\", \"ticklen\": 6, \"ticks\": \"inside\"}, \"colorscale\": [[0, \"rgb(20,44,66)\"], [1, \"rgb(90,179,244)\"]], \"type\": \"contour\"}], \"contourcarpet\": [{\"colorbar\": {\"outlinewidth\": 0, \"tickcolor\": \"rgb(237,237,237)\", \"ticklen\": 6, \"ticks\": \"inside\"}, \"type\": \"contourcarpet\"}], \"heatmap\": [{\"colorbar\": {\"outlinewidth\": 0, \"tickcolor\": \"rgb(237,237,237)\", \"ticklen\": 6, \"ticks\": \"inside\"}, \"colorscale\": [[0, \"rgb(20,44,66)\"], [1, \"rgb(90,179,244)\"]], \"type\": \"heatmap\"}], \"heatmapgl\": [{\"colorbar\": {\"outlinewidth\": 0, \"tickcolor\": \"rgb(237,237,237)\", \"ticklen\": 6, \"ticks\": \"inside\"}, \"colorscale\": [[0, \"rgb(20,44,66)\"], [1, \"rgb(90,179,244)\"]], \"type\": \"heatmapgl\"}], \"histogram\": [{\"marker\": {\"colorbar\": {\"outlinewidth\": 0, \"tickcolor\": \"rgb(237,237,237)\", \"ticklen\": 6, \"ticks\": \"inside\"}}, \"type\": \"histogram\"}], \"histogram2d\": [{\"colorbar\": {\"outlinewidth\": 0, \"tickcolor\": \"rgb(237,237,237)\", \"ticklen\": 6, \"ticks\": \"inside\"}, \"colorscale\": [[0, \"rgb(20,44,66)\"], [1, \"rgb(90,179,244)\"]], \"type\": \"histogram2d\"}], \"histogram2dcontour\": [{\"colorbar\": {\"outlinewidth\": 0, \"tickcolor\": \"rgb(237,237,237)\", \"ticklen\": 6, \"ticks\": \"inside\"}, \"colorscale\": [[0, \"rgb(20,44,66)\"], [1, \"rgb(90,179,244)\"]], \"type\": \"histogram2dcontour\"}], \"mesh3d\": [{\"colorbar\": {\"outlinewidth\": 0, \"tickcolor\": \"rgb(237,237,237)\", \"ticklen\": 6, \"ticks\": \"inside\"}, \"type\": \"mesh3d\"}], \"parcoords\": [{\"line\": {\"colorbar\": {\"outlinewidth\": 0, \"tickcolor\": \"rgb(237,237,237)\", \"ticklen\": 6, \"ticks\": \"inside\"}}, \"type\": \"parcoords\"}], \"pie\": [{\"automargin\": true, \"type\": \"pie\"}], \"scatter\": [{\"marker\": {\"colorbar\": {\"outlinewidth\": 0, \"tickcolor\": \"rgb(237,237,237)\", \"ticklen\": 6, \"ticks\": \"inside\"}}, \"type\": \"scatter\"}], \"scatter3d\": [{\"line\": {\"colorbar\": {\"outlinewidth\": 0, \"tickcolor\": \"rgb(237,237,237)\", \"ticklen\": 6, \"ticks\": \"inside\"}}, \"marker\": {\"colorbar\": {\"outlinewidth\": 0, \"tickcolor\": \"rgb(237,237,237)\", \"ticklen\": 6, \"ticks\": \"inside\"}}, \"type\": \"scatter3d\"}], \"scattercarpet\": [{\"marker\": {\"colorbar\": {\"outlinewidth\": 0, \"tickcolor\": \"rgb(237,237,237)\", \"ticklen\": 6, \"ticks\": \"inside\"}}, \"type\": \"scattercarpet\"}], \"scattergeo\": [{\"marker\": {\"colorbar\": {\"outlinewidth\": 0, \"tickcolor\": \"rgb(237,237,237)\", \"ticklen\": 6, \"ticks\": \"inside\"}}, \"type\": \"scattergeo\"}], \"scattergl\": [{\"marker\": {\"colorbar\": {\"outlinewidth\": 0, \"tickcolor\": \"rgb(237,237,237)\", \"ticklen\": 6, \"ticks\": \"inside\"}}, \"type\": \"scattergl\"}], \"scattermapbox\": [{\"marker\": {\"colorbar\": {\"outlinewidth\": 0, \"tickcolor\": \"rgb(237,237,237)\", \"ticklen\": 6, \"ticks\": \"inside\"}}, \"type\": \"scattermapbox\"}], \"scatterpolar\": [{\"marker\": {\"colorbar\": {\"outlinewidth\": 0, \"tickcolor\": \"rgb(237,237,237)\", \"ticklen\": 6, \"ticks\": \"inside\"}}, \"type\": \"scatterpolar\"}], \"scatterpolargl\": [{\"marker\": {\"colorbar\": {\"outlinewidth\": 0, \"tickcolor\": \"rgb(237,237,237)\", \"ticklen\": 6, \"ticks\": \"inside\"}}, \"type\": \"scatterpolargl\"}], \"scatterternary\": [{\"marker\": {\"colorbar\": {\"outlinewidth\": 0, \"tickcolor\": \"rgb(237,237,237)\", \"ticklen\": 6, \"ticks\": \"inside\"}}, \"type\": \"scatterternary\"}], \"surface\": [{\"colorbar\": {\"outlinewidth\": 0, \"tickcolor\": \"rgb(237,237,237)\", \"ticklen\": 6, \"ticks\": \"inside\"}, \"colorscale\": [[0, \"rgb(20,44,66)\"], [1, \"rgb(90,179,244)\"]], \"type\": \"surface\"}], \"table\": [{\"cells\": {\"fill\": {\"color\": \"rgb(237,237,237)\"}, \"line\": {\"color\": \"white\"}}, \"header\": {\"fill\": {\"color\": \"rgb(217,217,217)\"}, \"line\": {\"color\": \"white\"}}, \"type\": \"table\"}]}, \"layout\": {\"annotationdefaults\": {\"arrowhead\": 0, \"arrowwidth\": 1}, \"coloraxis\": {\"colorbar\": {\"outlinewidth\": 0, \"tickcolor\": \"rgb(237,237,237)\", \"ticklen\": 6, \"ticks\": \"inside\"}}, \"colorscale\": {\"sequential\": [[0, \"rgb(20,44,66)\"], [1, \"rgb(90,179,244)\"]], \"sequentialminus\": [[0, \"rgb(20,44,66)\"], [1, \"rgb(90,179,244)\"]]}, \"colorway\": [\"#F8766D\", \"#A3A500\", \"#00BF7D\", \"#00B0F6\", \"#E76BF3\"], \"font\": {\"color\": \"rgb(51,51,51)\"}, \"geo\": {\"bgcolor\": \"white\", \"lakecolor\": \"white\", \"landcolor\": \"rgb(237,237,237)\", \"showlakes\": true, \"showland\": true, \"subunitcolor\": \"white\"}, \"hoverlabel\": {\"align\": \"left\"}, \"hovermode\": \"closest\", \"paper_bgcolor\": \"white\", \"plot_bgcolor\": \"rgb(237,237,237)\", \"polar\": {\"angularaxis\": {\"gridcolor\": \"white\", \"linecolor\": \"white\", \"showgrid\": true, \"tickcolor\": \"rgb(51,51,51)\", \"ticks\": \"outside\"}, \"bgcolor\": \"rgb(237,237,237)\", \"radialaxis\": {\"gridcolor\": \"white\", \"linecolor\": \"white\", \"showgrid\": true, \"tickcolor\": \"rgb(51,51,51)\", \"ticks\": \"outside\"}}, \"scene\": {\"xaxis\": {\"backgroundcolor\": \"rgb(237,237,237)\", \"gridcolor\": \"white\", \"gridwidth\": 2, \"linecolor\": \"white\", \"showbackground\": true, \"showgrid\": true, \"tickcolor\": \"rgb(51,51,51)\", \"ticks\": \"outside\", \"zerolinecolor\": \"white\"}, \"yaxis\": {\"backgroundcolor\": \"rgb(237,237,237)\", \"gridcolor\": \"white\", \"gridwidth\": 2, \"linecolor\": \"white\", \"showbackground\": true, \"showgrid\": true, \"tickcolor\": \"rgb(51,51,51)\", \"ticks\": \"outside\", \"zerolinecolor\": \"white\"}, \"zaxis\": {\"backgroundcolor\": \"rgb(237,237,237)\", \"gridcolor\": \"white\", \"gridwidth\": 2, \"linecolor\": \"white\", \"showbackground\": true, \"showgrid\": true, \"tickcolor\": \"rgb(51,51,51)\", \"ticks\": \"outside\", \"zerolinecolor\": \"white\"}}, \"shapedefaults\": {\"fillcolor\": \"black\", \"line\": {\"width\": 0}, \"opacity\": 0.3}, \"ternary\": {\"aaxis\": {\"gridcolor\": \"white\", \"linecolor\": \"white\", \"showgrid\": true, \"tickcolor\": \"rgb(51,51,51)\", \"ticks\": \"outside\"}, \"baxis\": {\"gridcolor\": \"white\", \"linecolor\": \"white\", \"showgrid\": true, \"tickcolor\": \"rgb(51,51,51)\", \"ticks\": \"outside\"}, \"bgcolor\": \"rgb(237,237,237)\", \"caxis\": {\"gridcolor\": \"white\", \"linecolor\": \"white\", \"showgrid\": true, \"tickcolor\": \"rgb(51,51,51)\", \"ticks\": \"outside\"}}, \"xaxis\": {\"automargin\": true, \"gridcolor\": \"white\", \"linecolor\": \"white\", \"showgrid\": true, \"tickcolor\": \"rgb(51,51,51)\", \"ticks\": \"outside\", \"title\": {\"standoff\": 15}, \"zerolinecolor\": \"white\"}, \"yaxis\": {\"automargin\": true, \"gridcolor\": \"white\", \"linecolor\": \"white\", \"showgrid\": true, \"tickcolor\": \"rgb(51,51,51)\", \"ticks\": \"outside\", \"title\": {\"standoff\": 15}, \"zerolinecolor\": \"white\"}}}, \"title\": {\"text\": \"Movie Vs. TV | Genre\"}, \"xaxis\": {\"title\": {\"text\": \"Genre Names\"}}, \"yaxis\": {\"title\": {\"text\": \"Share in Percentage\"}}},\n",
       "                        {\"responsive\": true}\n",
       "                    ).then(function(){\n",
       "                            \n",
       "var gd = document.getElementById('34aaafa9-777e-4c0a-a2dd-7a0930e3be52');\n",
       "var x = new MutationObserver(function (mutations, observer) {{\n",
       "        var display = window.getComputedStyle(gd).display;\n",
       "        if (!display || display === 'none') {{\n",
       "            console.log([gd, 'removed!']);\n",
       "            Plotly.purge(gd);\n",
       "            observer.disconnect();\n",
       "        }}\n",
       "}});\n",
       "\n",
       "// Listen for the removal of the full notebook cells\n",
       "var notebookContainer = gd.closest('#notebook-container');\n",
       "if (notebookContainer) {{\n",
       "    x.observe(notebookContainer, {childList: true});\n",
       "}}\n",
       "\n",
       "// Listen for the clearing of the current output cell\n",
       "var outputEl = gd.closest('.output');\n",
       "if (outputEl) {{\n",
       "    x.observe(outputEl, {childList: true});\n",
       "}}\n",
       "\n",
       "                        })\n",
       "                };\n",
       "                });\n",
       "            </script>\n",
       "        </div>"
      ]
     },
     "metadata": {},
     "output_type": "display_data"
    }
   ],
   "source": [
    "fig = go.Figure()\n",
    "fig.add_trace(go.Bar(x=genre_names_mv, y=genre_names_pct_mv,name=\"Genres| Movie\"))\n",
    "fig.add_trace(go.Bar(x=genre_names_tv, y=genre_names_pct_tv, name=\"GenresTV\"))\n",
    "fig.update_layout(title=\"Movie Vs. TV | Genre\", xaxis_title=\"Genre Names\", yaxis_title=\"Share in Percentage\",template=\"ggplot2\",)"
   ]
  },
  {
   "cell_type": "markdown",
   "metadata": {},
   "source": [
    "While Drama being the top choice for both tv and movie makers, its significantly more in tv sector. Action seems to be just a little bit more in movies. \n",
    "Family genre is about three times more in movies, whilst crime is double in tv shows.\n",
    "\n",
    "\n",
    "The unique one seems to reality tv, as the name suggest is about 20 times more share in tv than in movies. And Tv shows and Games shows are unique to tv only.\n",
    "But as printed below, we are comparing 1302 movies against 285 tv shows"
   ]
  },
  {
   "cell_type": "code",
   "execution_count": 51,
   "metadata": {
    "ExecuteTime": {
     "end_time": "2020-07-15T04:12:01.046306Z",
     "start_time": "2020-07-15T04:12:01.017298Z"
    }
   },
   "outputs": [
    {
     "name": "stdout",
     "output_type": "stream",
     "text": [
      "285\n",
      "1302\n"
     ]
    }
   ],
   "source": [
    "print(tv_df.drop_duplicates('TV_NAME').shape[0])\n",
    "print(movie_df.drop_duplicates('MOVIE_NAME').shape[0])"
   ]
  },
  {
   "cell_type": "code",
   "execution_count": 52,
   "metadata": {
    "ExecuteTime": {
     "end_time": "2020-07-15T04:12:01.062299Z",
     "start_time": "2020-07-15T04:12:01.050301Z"
    },
    "scrolled": true
   },
   "outputs": [
    {
     "data": {
      "text/plain": [
       "Index(['MOVIE_NAME', 'WATCH_LINK', 'DATE_ADDED', 'SITE_RANK', 'STARS', 'IMDB',\n",
       "       'DIRECTOR', 'COUNTRY', 'GENRE', 'USER_REVIEWS_LOCAL',\n",
       "       'NUMBER_REVIEWS_LOCAL'],\n",
       "      dtype='object')"
      ]
     },
     "execution_count": 52,
     "metadata": {},
     "output_type": "execute_result"
    }
   ],
   "source": [
    "movie_df.columns"
   ]
  },
  {
   "cell_type": "markdown",
   "metadata": {},
   "source": [
    "## Most Watched Movies(site rank) and Their IMDBs"
   ]
  },
  {
   "cell_type": "code",
   "execution_count": 53,
   "metadata": {
    "ExecuteTime": {
     "end_time": "2020-07-15T04:12:01.094296Z",
     "start_time": "2020-07-15T04:12:01.066298Z"
    }
   },
   "outputs": [],
   "source": [
    "site_ranks_movie = movie_df[['MOVIE_NAME','SITE_RANK','USER_REVIEWS_LOCAL','IMDB','NUMBER_REVIEWS_LOCAL']].sort_values('SITE_RANK')\n",
    "site_ranks_movie.drop_duplicates('MOVIE_NAME', inplace=True)"
   ]
  },
  {
   "cell_type": "markdown",
   "metadata": {},
   "source": [
    "As mentioned in column info, the Site rank column is the order of movies in the most_watched list, starting from 1 for most watched movie."
   ]
  },
  {
   "cell_type": "code",
   "execution_count": 54,
   "metadata": {
    "ExecuteTime": {
     "end_time": "2020-07-15T04:12:01.126298Z",
     "start_time": "2020-07-15T04:12:01.097299Z"
    },
    "scrolled": true
   },
   "outputs": [
    {
     "data": {
      "text/html": [
       "<div>\n",
       "<style scoped>\n",
       "    .dataframe tbody tr th:only-of-type {\n",
       "        vertical-align: middle;\n",
       "    }\n",
       "\n",
       "    .dataframe tbody tr th {\n",
       "        vertical-align: top;\n",
       "    }\n",
       "\n",
       "    .dataframe thead th {\n",
       "        text-align: right;\n",
       "    }\n",
       "</style>\n",
       "<table border=\"1\" class=\"dataframe\">\n",
       "  <thead>\n",
       "    <tr style=\"text-align: right;\">\n",
       "      <th></th>\n",
       "      <th>MOVIE_NAME</th>\n",
       "      <th>SITE_RANK</th>\n",
       "      <th>USER_REVIEWS_LOCAL</th>\n",
       "      <th>IMDB</th>\n",
       "      <th>NUMBER_REVIEWS_LOCAL</th>\n",
       "    </tr>\n",
       "    <tr>\n",
       "      <th>Date</th>\n",
       "      <th></th>\n",
       "      <th></th>\n",
       "      <th></th>\n",
       "      <th></th>\n",
       "      <th></th>\n",
       "    </tr>\n",
       "  </thead>\n",
       "  <tbody>\n",
       "    <tr>\n",
       "      <th>2019-04-22</th>\n",
       "      <td>Avengers: Endgame</td>\n",
       "      <td>1</td>\n",
       "      <td>7.1</td>\n",
       "      <td>8.4</td>\n",
       "      <td>12,640</td>\n",
       "    </tr>\n",
       "    <tr>\n",
       "      <th>2018-04-23</th>\n",
       "      <td>Avengers: Infinity War</td>\n",
       "      <td>3</td>\n",
       "      <td>6.2</td>\n",
       "      <td>8.5</td>\n",
       "      <td>21,830</td>\n",
       "    </tr>\n",
       "    <tr>\n",
       "      <th>2018-11-26</th>\n",
       "      <td>Aquaman</td>\n",
       "      <td>4</td>\n",
       "      <td>6.7</td>\n",
       "      <td>7.0</td>\n",
       "      <td>8,924</td>\n",
       "    </tr>\n",
       "    <tr>\n",
       "      <th>2019-06-26</th>\n",
       "      <td>Spider-Man: Far from Home</td>\n",
       "      <td>5</td>\n",
       "      <td>6.1</td>\n",
       "      <td>7.5</td>\n",
       "      <td>6,514</td>\n",
       "    </tr>\n",
       "    <tr>\n",
       "      <th>2019-05-08</th>\n",
       "      <td>Aladdin</td>\n",
       "      <td>6</td>\n",
       "      <td>6.7</td>\n",
       "      <td>7.0</td>\n",
       "      <td>4,979</td>\n",
       "    </tr>\n",
       "  </tbody>\n",
       "</table>\n",
       "</div>"
      ],
      "text/plain": [
       "                           MOVIE_NAME  SITE_RANK  USER_REVIEWS_LOCAL  IMDB  \\\n",
       "Date                                                                         \n",
       "2019-04-22          Avengers: Endgame          1                 7.1   8.4   \n",
       "2018-04-23     Avengers: Infinity War          3                 6.2   8.5   \n",
       "2018-11-26                    Aquaman          4                 6.7   7.0   \n",
       "2019-06-26  Spider-Man: Far from Home          5                 6.1   7.5   \n",
       "2019-05-08                    Aladdin          6                 6.7   7.0   \n",
       "\n",
       "           NUMBER_REVIEWS_LOCAL  \n",
       "Date                             \n",
       "2019-04-22               12,640  \n",
       "2018-04-23               21,830  \n",
       "2018-11-26                8,924  \n",
       "2019-06-26                6,514  \n",
       "2019-05-08                4,979  "
      ]
     },
     "execution_count": 54,
     "metadata": {},
     "output_type": "execute_result"
    }
   ],
   "source": [
    "site_ranks_movie.head()"
   ]
  },
  {
   "cell_type": "markdown",
   "metadata": {},
   "source": [
    "The top five movies in the website have 7+ imdb ratings while its counter part has ratings around 7. But it should be considered, that number of reivews varies more. The \"Avengers: Infinity War\" which is in the second spot among *MOVIES* has more than 21k reviewers."
   ]
  },
  {
   "cell_type": "code",
   "execution_count": 55,
   "metadata": {
    "ExecuteTime": {
     "end_time": "2020-07-15T04:12:01.236296Z",
     "start_time": "2020-07-15T04:12:01.129301Z"
    },
    "scrolled": false
   },
   "outputs": [
    {
     "data": {
      "application/vnd.plotly.v1+json": {
       "config": {
        "linkText": "Export to plot.ly",
        "plotlyServerURL": "https://plot.ly",
        "showLink": true
       },
       "data": [
        {
         "marker": {
          "color": "rgba(255, 153, 51, 0.6)",
          "line": {
           "color": "rgba(255, 153, 51, 1.0)",
           "width": 1
          }
         },
         "name": "IMDB",
         "orientation": "v",
         "text": "",
         "type": "bar",
         "x": [
          "Avengers: Endgame",
          "Avengers: Infinity War",
          "Aquaman",
          "Spider-Man: Far from Home",
          "Aladdin",
          "Captain Marvel",
          "The Lion King",
          "Fast & Furious Presents: Hobbs & Shaw",
          "Venom",
          "John Wick: Chapter 3 - Parabellum",
          "Deadpool 2",
          "Joker",
          "Shazam!",
          "Men in Black: International",
          "Toy Story 4",
          "Black Panther",
          "Incredibles 2",
          "Spider-Man: Into the Spider-Verse",
          "Jumanji: Welcome to the Jungle",
          "Godzilla: King of the Monsters",
          "Justice League",
          "Alita: Battle Angel",
          "Ant-Man and the Wasp",
          "Glass",
          "X-Men: Dark Phoenix",
          "Bumblebee",
          "Thor: Ragnarok",
          "Us",
          "It Chapter Two",
          "Ralph Breaks the Internet"
         ],
         "y": [
          8.4,
          8.5,
          7,
          7.5,
          7,
          6.9,
          6.9,
          6.5,
          6.7,
          7.5,
          7.7,
          8.5,
          7.1,
          5.7,
          7.8,
          7.3,
          7.6,
          8.4,
          6.9,
          6,
          6.4,
          7.3,
          7.1,
          6.7,
          5.8,
          6.8,
          7.9,
          6.9,
          6.6,
          7.1
         ]
        }
       ],
       "layout": {
        "template": {
         "data": {
          "bar": [
           {
            "error_x": {
             "color": "#2a3f5f"
            },
            "error_y": {
             "color": "#2a3f5f"
            },
            "marker": {
             "line": {
              "color": "#E5ECF6",
              "width": 0.5
             }
            },
            "type": "bar"
           }
          ],
          "barpolar": [
           {
            "marker": {
             "line": {
              "color": "#E5ECF6",
              "width": 0.5
             }
            },
            "type": "barpolar"
           }
          ],
          "carpet": [
           {
            "aaxis": {
             "endlinecolor": "#2a3f5f",
             "gridcolor": "white",
             "linecolor": "white",
             "minorgridcolor": "white",
             "startlinecolor": "#2a3f5f"
            },
            "baxis": {
             "endlinecolor": "#2a3f5f",
             "gridcolor": "white",
             "linecolor": "white",
             "minorgridcolor": "white",
             "startlinecolor": "#2a3f5f"
            },
            "type": "carpet"
           }
          ],
          "choropleth": [
           {
            "colorbar": {
             "outlinewidth": 0,
             "ticks": ""
            },
            "type": "choropleth"
           }
          ],
          "contour": [
           {
            "colorbar": {
             "outlinewidth": 0,
             "ticks": ""
            },
            "colorscale": [
             [
              0,
              "#0d0887"
             ],
             [
              0.1111111111111111,
              "#46039f"
             ],
             [
              0.2222222222222222,
              "#7201a8"
             ],
             [
              0.3333333333333333,
              "#9c179e"
             ],
             [
              0.4444444444444444,
              "#bd3786"
             ],
             [
              0.5555555555555556,
              "#d8576b"
             ],
             [
              0.6666666666666666,
              "#ed7953"
             ],
             [
              0.7777777777777778,
              "#fb9f3a"
             ],
             [
              0.8888888888888888,
              "#fdca26"
             ],
             [
              1,
              "#f0f921"
             ]
            ],
            "type": "contour"
           }
          ],
          "contourcarpet": [
           {
            "colorbar": {
             "outlinewidth": 0,
             "ticks": ""
            },
            "type": "contourcarpet"
           }
          ],
          "heatmap": [
           {
            "colorbar": {
             "outlinewidth": 0,
             "ticks": ""
            },
            "colorscale": [
             [
              0,
              "#0d0887"
             ],
             [
              0.1111111111111111,
              "#46039f"
             ],
             [
              0.2222222222222222,
              "#7201a8"
             ],
             [
              0.3333333333333333,
              "#9c179e"
             ],
             [
              0.4444444444444444,
              "#bd3786"
             ],
             [
              0.5555555555555556,
              "#d8576b"
             ],
             [
              0.6666666666666666,
              "#ed7953"
             ],
             [
              0.7777777777777778,
              "#fb9f3a"
             ],
             [
              0.8888888888888888,
              "#fdca26"
             ],
             [
              1,
              "#f0f921"
             ]
            ],
            "type": "heatmap"
           }
          ],
          "heatmapgl": [
           {
            "colorbar": {
             "outlinewidth": 0,
             "ticks": ""
            },
            "colorscale": [
             [
              0,
              "#0d0887"
             ],
             [
              0.1111111111111111,
              "#46039f"
             ],
             [
              0.2222222222222222,
              "#7201a8"
             ],
             [
              0.3333333333333333,
              "#9c179e"
             ],
             [
              0.4444444444444444,
              "#bd3786"
             ],
             [
              0.5555555555555556,
              "#d8576b"
             ],
             [
              0.6666666666666666,
              "#ed7953"
             ],
             [
              0.7777777777777778,
              "#fb9f3a"
             ],
             [
              0.8888888888888888,
              "#fdca26"
             ],
             [
              1,
              "#f0f921"
             ]
            ],
            "type": "heatmapgl"
           }
          ],
          "histogram": [
           {
            "marker": {
             "colorbar": {
              "outlinewidth": 0,
              "ticks": ""
             }
            },
            "type": "histogram"
           }
          ],
          "histogram2d": [
           {
            "colorbar": {
             "outlinewidth": 0,
             "ticks": ""
            },
            "colorscale": [
             [
              0,
              "#0d0887"
             ],
             [
              0.1111111111111111,
              "#46039f"
             ],
             [
              0.2222222222222222,
              "#7201a8"
             ],
             [
              0.3333333333333333,
              "#9c179e"
             ],
             [
              0.4444444444444444,
              "#bd3786"
             ],
             [
              0.5555555555555556,
              "#d8576b"
             ],
             [
              0.6666666666666666,
              "#ed7953"
             ],
             [
              0.7777777777777778,
              "#fb9f3a"
             ],
             [
              0.8888888888888888,
              "#fdca26"
             ],
             [
              1,
              "#f0f921"
             ]
            ],
            "type": "histogram2d"
           }
          ],
          "histogram2dcontour": [
           {
            "colorbar": {
             "outlinewidth": 0,
             "ticks": ""
            },
            "colorscale": [
             [
              0,
              "#0d0887"
             ],
             [
              0.1111111111111111,
              "#46039f"
             ],
             [
              0.2222222222222222,
              "#7201a8"
             ],
             [
              0.3333333333333333,
              "#9c179e"
             ],
             [
              0.4444444444444444,
              "#bd3786"
             ],
             [
              0.5555555555555556,
              "#d8576b"
             ],
             [
              0.6666666666666666,
              "#ed7953"
             ],
             [
              0.7777777777777778,
              "#fb9f3a"
             ],
             [
              0.8888888888888888,
              "#fdca26"
             ],
             [
              1,
              "#f0f921"
             ]
            ],
            "type": "histogram2dcontour"
           }
          ],
          "mesh3d": [
           {
            "colorbar": {
             "outlinewidth": 0,
             "ticks": ""
            },
            "type": "mesh3d"
           }
          ],
          "parcoords": [
           {
            "line": {
             "colorbar": {
              "outlinewidth": 0,
              "ticks": ""
             }
            },
            "type": "parcoords"
           }
          ],
          "pie": [
           {
            "automargin": true,
            "type": "pie"
           }
          ],
          "scatter": [
           {
            "marker": {
             "colorbar": {
              "outlinewidth": 0,
              "ticks": ""
             }
            },
            "type": "scatter"
           }
          ],
          "scatter3d": [
           {
            "line": {
             "colorbar": {
              "outlinewidth": 0,
              "ticks": ""
             }
            },
            "marker": {
             "colorbar": {
              "outlinewidth": 0,
              "ticks": ""
             }
            },
            "type": "scatter3d"
           }
          ],
          "scattercarpet": [
           {
            "marker": {
             "colorbar": {
              "outlinewidth": 0,
              "ticks": ""
             }
            },
            "type": "scattercarpet"
           }
          ],
          "scattergeo": [
           {
            "marker": {
             "colorbar": {
              "outlinewidth": 0,
              "ticks": ""
             }
            },
            "type": "scattergeo"
           }
          ],
          "scattergl": [
           {
            "marker": {
             "colorbar": {
              "outlinewidth": 0,
              "ticks": ""
             }
            },
            "type": "scattergl"
           }
          ],
          "scattermapbox": [
           {
            "marker": {
             "colorbar": {
              "outlinewidth": 0,
              "ticks": ""
             }
            },
            "type": "scattermapbox"
           }
          ],
          "scatterpolar": [
           {
            "marker": {
             "colorbar": {
              "outlinewidth": 0,
              "ticks": ""
             }
            },
            "type": "scatterpolar"
           }
          ],
          "scatterpolargl": [
           {
            "marker": {
             "colorbar": {
              "outlinewidth": 0,
              "ticks": ""
             }
            },
            "type": "scatterpolargl"
           }
          ],
          "scatterternary": [
           {
            "marker": {
             "colorbar": {
              "outlinewidth": 0,
              "ticks": ""
             }
            },
            "type": "scatterternary"
           }
          ],
          "surface": [
           {
            "colorbar": {
             "outlinewidth": 0,
             "ticks": ""
            },
            "colorscale": [
             [
              0,
              "#0d0887"
             ],
             [
              0.1111111111111111,
              "#46039f"
             ],
             [
              0.2222222222222222,
              "#7201a8"
             ],
             [
              0.3333333333333333,
              "#9c179e"
             ],
             [
              0.4444444444444444,
              "#bd3786"
             ],
             [
              0.5555555555555556,
              "#d8576b"
             ],
             [
              0.6666666666666666,
              "#ed7953"
             ],
             [
              0.7777777777777778,
              "#fb9f3a"
             ],
             [
              0.8888888888888888,
              "#fdca26"
             ],
             [
              1,
              "#f0f921"
             ]
            ],
            "type": "surface"
           }
          ],
          "table": [
           {
            "cells": {
             "fill": {
              "color": "#EBF0F8"
             },
             "line": {
              "color": "white"
             }
            },
            "header": {
             "fill": {
              "color": "#C8D4E3"
             },
             "line": {
              "color": "white"
             }
            },
            "type": "table"
           }
          ]
         },
         "layout": {
          "annotationdefaults": {
           "arrowcolor": "#2a3f5f",
           "arrowhead": 0,
           "arrowwidth": 1
          },
          "coloraxis": {
           "colorbar": {
            "outlinewidth": 0,
            "ticks": ""
           }
          },
          "colorscale": {
           "diverging": [
            [
             0,
             "#8e0152"
            ],
            [
             0.1,
             "#c51b7d"
            ],
            [
             0.2,
             "#de77ae"
            ],
            [
             0.3,
             "#f1b6da"
            ],
            [
             0.4,
             "#fde0ef"
            ],
            [
             0.5,
             "#f7f7f7"
            ],
            [
             0.6,
             "#e6f5d0"
            ],
            [
             0.7,
             "#b8e186"
            ],
            [
             0.8,
             "#7fbc41"
            ],
            [
             0.9,
             "#4d9221"
            ],
            [
             1,
             "#276419"
            ]
           ],
           "sequential": [
            [
             0,
             "#0d0887"
            ],
            [
             0.1111111111111111,
             "#46039f"
            ],
            [
             0.2222222222222222,
             "#7201a8"
            ],
            [
             0.3333333333333333,
             "#9c179e"
            ],
            [
             0.4444444444444444,
             "#bd3786"
            ],
            [
             0.5555555555555556,
             "#d8576b"
            ],
            [
             0.6666666666666666,
             "#ed7953"
            ],
            [
             0.7777777777777778,
             "#fb9f3a"
            ],
            [
             0.8888888888888888,
             "#fdca26"
            ],
            [
             1,
             "#f0f921"
            ]
           ],
           "sequentialminus": [
            [
             0,
             "#0d0887"
            ],
            [
             0.1111111111111111,
             "#46039f"
            ],
            [
             0.2222222222222222,
             "#7201a8"
            ],
            [
             0.3333333333333333,
             "#9c179e"
            ],
            [
             0.4444444444444444,
             "#bd3786"
            ],
            [
             0.5555555555555556,
             "#d8576b"
            ],
            [
             0.6666666666666666,
             "#ed7953"
            ],
            [
             0.7777777777777778,
             "#fb9f3a"
            ],
            [
             0.8888888888888888,
             "#fdca26"
            ],
            [
             1,
             "#f0f921"
            ]
           ]
          },
          "colorway": [
           "#636efa",
           "#EF553B",
           "#00cc96",
           "#ab63fa",
           "#FFA15A",
           "#19d3f3",
           "#FF6692",
           "#B6E880",
           "#FF97FF",
           "#FECB52"
          ],
          "font": {
           "color": "#2a3f5f"
          },
          "geo": {
           "bgcolor": "white",
           "lakecolor": "white",
           "landcolor": "#E5ECF6",
           "showlakes": true,
           "showland": true,
           "subunitcolor": "white"
          },
          "hoverlabel": {
           "align": "left"
          },
          "hovermode": "closest",
          "mapbox": {
           "style": "light"
          },
          "paper_bgcolor": "white",
          "plot_bgcolor": "#E5ECF6",
          "polar": {
           "angularaxis": {
            "gridcolor": "white",
            "linecolor": "white",
            "ticks": ""
           },
           "bgcolor": "#E5ECF6",
           "radialaxis": {
            "gridcolor": "white",
            "linecolor": "white",
            "ticks": ""
           }
          },
          "scene": {
           "xaxis": {
            "backgroundcolor": "#E5ECF6",
            "gridcolor": "white",
            "gridwidth": 2,
            "linecolor": "white",
            "showbackground": true,
            "ticks": "",
            "zerolinecolor": "white"
           },
           "yaxis": {
            "backgroundcolor": "#E5ECF6",
            "gridcolor": "white",
            "gridwidth": 2,
            "linecolor": "white",
            "showbackground": true,
            "ticks": "",
            "zerolinecolor": "white"
           },
           "zaxis": {
            "backgroundcolor": "#E5ECF6",
            "gridcolor": "white",
            "gridwidth": 2,
            "linecolor": "white",
            "showbackground": true,
            "ticks": "",
            "zerolinecolor": "white"
           }
          },
          "shapedefaults": {
           "line": {
            "color": "#2a3f5f"
           }
          },
          "ternary": {
           "aaxis": {
            "gridcolor": "white",
            "linecolor": "white",
            "ticks": ""
           },
           "baxis": {
            "gridcolor": "white",
            "linecolor": "white",
            "ticks": ""
           },
           "bgcolor": "#E5ECF6",
           "caxis": {
            "gridcolor": "white",
            "linecolor": "white",
            "ticks": ""
           }
          },
          "title": {
           "x": 0.05
          },
          "xaxis": {
           "automargin": true,
           "gridcolor": "white",
           "linecolor": "white",
           "ticks": "",
           "title": {
            "standoff": 15
           },
           "zerolinecolor": "white",
           "zerolinewidth": 2
          },
          "yaxis": {
           "automargin": true,
           "gridcolor": "white",
           "linecolor": "white",
           "ticks": "",
           "title": {
            "standoff": 15
           },
           "zerolinecolor": "white",
           "zerolinewidth": 2
          }
         }
        },
        "title": {
         "text": "IMDB & 30 Most Watched Movies"
        },
        "xaxis": {
         "title": {
          "text": "Movies"
         }
        },
        "yaxis": {
         "title": {
          "text": "Ratings"
         }
        }
       }
      },
      "text/html": [
       "<div>\n",
       "        \n",
       "        \n",
       "            <div id=\"6578c975-9f75-4c1f-8812-e96d48458df8\" class=\"plotly-graph-div\" style=\"height:525px; width:100%;\"></div>\n",
       "            <script type=\"text/javascript\">\n",
       "                require([\"plotly\"], function(Plotly) {\n",
       "                    window.PLOTLYENV=window.PLOTLYENV || {};\n",
       "                    window.PLOTLYENV.BASE_URL='https://plot.ly';\n",
       "                    \n",
       "                if (document.getElementById(\"6578c975-9f75-4c1f-8812-e96d48458df8\")) {\n",
       "                    Plotly.newPlot(\n",
       "                        '6578c975-9f75-4c1f-8812-e96d48458df8',\n",
       "                        [{\"marker\": {\"color\": \"rgba(255, 153, 51, 0.6)\", \"line\": {\"color\": \"rgba(255, 153, 51, 1.0)\", \"width\": 1}}, \"name\": \"IMDB\", \"orientation\": \"v\", \"text\": \"\", \"type\": \"bar\", \"x\": [\"Avengers: Endgame\", \"Avengers: Infinity War\", \"Aquaman\", \"Spider-Man: Far from Home\", \"Aladdin\", \"Captain Marvel\", \"The Lion King\", \"Fast & Furious Presents: Hobbs & Shaw\", \"Venom\", \"John Wick: Chapter 3 - Parabellum\", \"Deadpool 2\", \"Joker\", \"Shazam!\", \"Men in Black: International\", \"Toy Story 4\", \"Black Panther\", \"Incredibles 2\", \"Spider-Man: Into the Spider-Verse\", \"Jumanji: Welcome to the Jungle\", \"Godzilla: King of the Monsters\", \"Justice League\", \"Alita: Battle Angel\", \"Ant-Man and the Wasp\", \"Glass\", \"X-Men: Dark Phoenix\", \"Bumblebee\", \"Thor: Ragnarok\", \"Us\", \"It Chapter Two\", \"Ralph Breaks the Internet\"], \"y\": [8.4, 8.5, 7.0, 7.5, 7.0, 6.9, 6.9, 6.5, 6.7, 7.5, 7.7, 8.5, 7.1, 5.7, 7.8, 7.3, 7.6, 8.4, 6.9, 6.0, 6.4, 7.3, 7.1, 6.7, 5.8, 6.8, 7.9, 6.9, 6.6, 7.1]}],\n",
       "                        {\"template\": {\"data\": {\"bar\": [{\"error_x\": {\"color\": \"#2a3f5f\"}, \"error_y\": {\"color\": \"#2a3f5f\"}, \"marker\": {\"line\": {\"color\": \"#E5ECF6\", \"width\": 0.5}}, \"type\": \"bar\"}], \"barpolar\": [{\"marker\": {\"line\": {\"color\": \"#E5ECF6\", \"width\": 0.5}}, \"type\": \"barpolar\"}], \"carpet\": [{\"aaxis\": {\"endlinecolor\": \"#2a3f5f\", \"gridcolor\": \"white\", \"linecolor\": \"white\", \"minorgridcolor\": \"white\", \"startlinecolor\": \"#2a3f5f\"}, \"baxis\": {\"endlinecolor\": \"#2a3f5f\", \"gridcolor\": \"white\", \"linecolor\": \"white\", \"minorgridcolor\": \"white\", \"startlinecolor\": \"#2a3f5f\"}, \"type\": \"carpet\"}], \"choropleth\": [{\"colorbar\": {\"outlinewidth\": 0, \"ticks\": \"\"}, \"type\": \"choropleth\"}], \"contour\": [{\"colorbar\": {\"outlinewidth\": 0, \"ticks\": \"\"}, \"colorscale\": [[0.0, \"#0d0887\"], [0.1111111111111111, \"#46039f\"], [0.2222222222222222, \"#7201a8\"], [0.3333333333333333, \"#9c179e\"], [0.4444444444444444, \"#bd3786\"], [0.5555555555555556, \"#d8576b\"], [0.6666666666666666, \"#ed7953\"], [0.7777777777777778, \"#fb9f3a\"], [0.8888888888888888, \"#fdca26\"], [1.0, \"#f0f921\"]], \"type\": \"contour\"}], \"contourcarpet\": [{\"colorbar\": {\"outlinewidth\": 0, \"ticks\": \"\"}, \"type\": \"contourcarpet\"}], \"heatmap\": [{\"colorbar\": {\"outlinewidth\": 0, \"ticks\": \"\"}, \"colorscale\": [[0.0, \"#0d0887\"], [0.1111111111111111, \"#46039f\"], [0.2222222222222222, \"#7201a8\"], [0.3333333333333333, \"#9c179e\"], [0.4444444444444444, \"#bd3786\"], [0.5555555555555556, \"#d8576b\"], [0.6666666666666666, \"#ed7953\"], [0.7777777777777778, \"#fb9f3a\"], [0.8888888888888888, \"#fdca26\"], [1.0, \"#f0f921\"]], \"type\": \"heatmap\"}], \"heatmapgl\": [{\"colorbar\": {\"outlinewidth\": 0, \"ticks\": \"\"}, \"colorscale\": [[0.0, \"#0d0887\"], [0.1111111111111111, \"#46039f\"], [0.2222222222222222, \"#7201a8\"], [0.3333333333333333, \"#9c179e\"], [0.4444444444444444, \"#bd3786\"], [0.5555555555555556, \"#d8576b\"], [0.6666666666666666, \"#ed7953\"], [0.7777777777777778, \"#fb9f3a\"], [0.8888888888888888, \"#fdca26\"], [1.0, \"#f0f921\"]], \"type\": \"heatmapgl\"}], \"histogram\": [{\"marker\": {\"colorbar\": {\"outlinewidth\": 0, \"ticks\": \"\"}}, \"type\": \"histogram\"}], \"histogram2d\": [{\"colorbar\": {\"outlinewidth\": 0, \"ticks\": \"\"}, \"colorscale\": [[0.0, \"#0d0887\"], [0.1111111111111111, \"#46039f\"], [0.2222222222222222, \"#7201a8\"], [0.3333333333333333, \"#9c179e\"], [0.4444444444444444, \"#bd3786\"], [0.5555555555555556, \"#d8576b\"], [0.6666666666666666, \"#ed7953\"], [0.7777777777777778, \"#fb9f3a\"], [0.8888888888888888, \"#fdca26\"], [1.0, \"#f0f921\"]], \"type\": \"histogram2d\"}], \"histogram2dcontour\": [{\"colorbar\": {\"outlinewidth\": 0, \"ticks\": \"\"}, \"colorscale\": [[0.0, \"#0d0887\"], [0.1111111111111111, \"#46039f\"], [0.2222222222222222, \"#7201a8\"], [0.3333333333333333, \"#9c179e\"], [0.4444444444444444, \"#bd3786\"], [0.5555555555555556, \"#d8576b\"], [0.6666666666666666, \"#ed7953\"], [0.7777777777777778, \"#fb9f3a\"], [0.8888888888888888, \"#fdca26\"], [1.0, \"#f0f921\"]], \"type\": \"histogram2dcontour\"}], \"mesh3d\": [{\"colorbar\": {\"outlinewidth\": 0, \"ticks\": \"\"}, \"type\": \"mesh3d\"}], \"parcoords\": [{\"line\": {\"colorbar\": {\"outlinewidth\": 0, \"ticks\": \"\"}}, \"type\": \"parcoords\"}], \"pie\": [{\"automargin\": true, \"type\": \"pie\"}], \"scatter\": [{\"marker\": {\"colorbar\": {\"outlinewidth\": 0, \"ticks\": \"\"}}, \"type\": \"scatter\"}], \"scatter3d\": [{\"line\": {\"colorbar\": {\"outlinewidth\": 0, \"ticks\": \"\"}}, \"marker\": {\"colorbar\": {\"outlinewidth\": 0, \"ticks\": \"\"}}, \"type\": \"scatter3d\"}], \"scattercarpet\": [{\"marker\": {\"colorbar\": {\"outlinewidth\": 0, \"ticks\": \"\"}}, \"type\": \"scattercarpet\"}], \"scattergeo\": [{\"marker\": {\"colorbar\": {\"outlinewidth\": 0, \"ticks\": \"\"}}, \"type\": \"scattergeo\"}], \"scattergl\": [{\"marker\": {\"colorbar\": {\"outlinewidth\": 0, \"ticks\": \"\"}}, \"type\": \"scattergl\"}], \"scattermapbox\": [{\"marker\": {\"colorbar\": {\"outlinewidth\": 0, \"ticks\": \"\"}}, \"type\": \"scattermapbox\"}], \"scatterpolar\": [{\"marker\": {\"colorbar\": {\"outlinewidth\": 0, \"ticks\": \"\"}}, \"type\": \"scatterpolar\"}], \"scatterpolargl\": [{\"marker\": {\"colorbar\": {\"outlinewidth\": 0, \"ticks\": \"\"}}, \"type\": \"scatterpolargl\"}], \"scatterternary\": [{\"marker\": {\"colorbar\": {\"outlinewidth\": 0, \"ticks\": \"\"}}, \"type\": \"scatterternary\"}], \"surface\": [{\"colorbar\": {\"outlinewidth\": 0, \"ticks\": \"\"}, \"colorscale\": [[0.0, \"#0d0887\"], [0.1111111111111111, \"#46039f\"], [0.2222222222222222, \"#7201a8\"], [0.3333333333333333, \"#9c179e\"], [0.4444444444444444, \"#bd3786\"], [0.5555555555555556, \"#d8576b\"], [0.6666666666666666, \"#ed7953\"], [0.7777777777777778, \"#fb9f3a\"], [0.8888888888888888, \"#fdca26\"], [1.0, \"#f0f921\"]], \"type\": \"surface\"}], \"table\": [{\"cells\": {\"fill\": {\"color\": \"#EBF0F8\"}, \"line\": {\"color\": \"white\"}}, \"header\": {\"fill\": {\"color\": \"#C8D4E3\"}, \"line\": {\"color\": \"white\"}}, \"type\": \"table\"}]}, \"layout\": {\"annotationdefaults\": {\"arrowcolor\": \"#2a3f5f\", \"arrowhead\": 0, \"arrowwidth\": 1}, \"coloraxis\": {\"colorbar\": {\"outlinewidth\": 0, \"ticks\": \"\"}}, \"colorscale\": {\"diverging\": [[0, \"#8e0152\"], [0.1, \"#c51b7d\"], [0.2, \"#de77ae\"], [0.3, \"#f1b6da\"], [0.4, \"#fde0ef\"], [0.5, \"#f7f7f7\"], [0.6, \"#e6f5d0\"], [0.7, \"#b8e186\"], [0.8, \"#7fbc41\"], [0.9, \"#4d9221\"], [1, \"#276419\"]], \"sequential\": [[0.0, \"#0d0887\"], [0.1111111111111111, \"#46039f\"], [0.2222222222222222, \"#7201a8\"], [0.3333333333333333, \"#9c179e\"], [0.4444444444444444, \"#bd3786\"], [0.5555555555555556, \"#d8576b\"], [0.6666666666666666, \"#ed7953\"], [0.7777777777777778, \"#fb9f3a\"], [0.8888888888888888, \"#fdca26\"], [1.0, \"#f0f921\"]], \"sequentialminus\": [[0.0, \"#0d0887\"], [0.1111111111111111, \"#46039f\"], [0.2222222222222222, \"#7201a8\"], [0.3333333333333333, \"#9c179e\"], [0.4444444444444444, \"#bd3786\"], [0.5555555555555556, \"#d8576b\"], [0.6666666666666666, \"#ed7953\"], [0.7777777777777778, \"#fb9f3a\"], [0.8888888888888888, \"#fdca26\"], [1.0, \"#f0f921\"]]}, \"colorway\": [\"#636efa\", \"#EF553B\", \"#00cc96\", \"#ab63fa\", \"#FFA15A\", \"#19d3f3\", \"#FF6692\", \"#B6E880\", \"#FF97FF\", \"#FECB52\"], \"font\": {\"color\": \"#2a3f5f\"}, \"geo\": {\"bgcolor\": \"white\", \"lakecolor\": \"white\", \"landcolor\": \"#E5ECF6\", \"showlakes\": true, \"showland\": true, \"subunitcolor\": \"white\"}, \"hoverlabel\": {\"align\": \"left\"}, \"hovermode\": \"closest\", \"mapbox\": {\"style\": \"light\"}, \"paper_bgcolor\": \"white\", \"plot_bgcolor\": \"#E5ECF6\", \"polar\": {\"angularaxis\": {\"gridcolor\": \"white\", \"linecolor\": \"white\", \"ticks\": \"\"}, \"bgcolor\": \"#E5ECF6\", \"radialaxis\": {\"gridcolor\": \"white\", \"linecolor\": \"white\", \"ticks\": \"\"}}, \"scene\": {\"xaxis\": {\"backgroundcolor\": \"#E5ECF6\", \"gridcolor\": \"white\", \"gridwidth\": 2, \"linecolor\": \"white\", \"showbackground\": true, \"ticks\": \"\", \"zerolinecolor\": \"white\"}, \"yaxis\": {\"backgroundcolor\": \"#E5ECF6\", \"gridcolor\": \"white\", \"gridwidth\": 2, \"linecolor\": \"white\", \"showbackground\": true, \"ticks\": \"\", \"zerolinecolor\": \"white\"}, \"zaxis\": {\"backgroundcolor\": \"#E5ECF6\", \"gridcolor\": \"white\", \"gridwidth\": 2, \"linecolor\": \"white\", \"showbackground\": true, \"ticks\": \"\", \"zerolinecolor\": \"white\"}}, \"shapedefaults\": {\"line\": {\"color\": \"#2a3f5f\"}}, \"ternary\": {\"aaxis\": {\"gridcolor\": \"white\", \"linecolor\": \"white\", \"ticks\": \"\"}, \"baxis\": {\"gridcolor\": \"white\", \"linecolor\": \"white\", \"ticks\": \"\"}, \"bgcolor\": \"#E5ECF6\", \"caxis\": {\"gridcolor\": \"white\", \"linecolor\": \"white\", \"ticks\": \"\"}}, \"title\": {\"x\": 0.05}, \"xaxis\": {\"automargin\": true, \"gridcolor\": \"white\", \"linecolor\": \"white\", \"ticks\": \"\", \"title\": {\"standoff\": 15}, \"zerolinecolor\": \"white\", \"zerolinewidth\": 2}, \"yaxis\": {\"automargin\": true, \"gridcolor\": \"white\", \"linecolor\": \"white\", \"ticks\": \"\", \"title\": {\"standoff\": 15}, \"zerolinecolor\": \"white\", \"zerolinewidth\": 2}}}, \"title\": {\"text\": \"IMDB & 30 Most Watched Movies\"}, \"xaxis\": {\"title\": {\"text\": \"Movies\"}}, \"yaxis\": {\"title\": {\"text\": \"Ratings\"}}},\n",
       "                        {\"showLink\": true, \"linkText\": \"Export to plot.ly\", \"plotlyServerURL\": \"https://plot.ly\", \"responsive\": true}\n",
       "                    ).then(function(){\n",
       "                            \n",
       "var gd = document.getElementById('6578c975-9f75-4c1f-8812-e96d48458df8');\n",
       "var x = new MutationObserver(function (mutations, observer) {{\n",
       "        var display = window.getComputedStyle(gd).display;\n",
       "        if (!display || display === 'none') {{\n",
       "            console.log([gd, 'removed!']);\n",
       "            Plotly.purge(gd);\n",
       "            observer.disconnect();\n",
       "        }}\n",
       "}});\n",
       "\n",
       "// Listen for the removal of the full notebook cells\n",
       "var notebookContainer = gd.closest('#notebook-container');\n",
       "if (notebookContainer) {{\n",
       "    x.observe(notebookContainer, {childList: true});\n",
       "}}\n",
       "\n",
       "// Listen for the clearing of the current output cell\n",
       "var outputEl = gd.closest('.output');\n",
       "if (outputEl) {{\n",
       "    x.observe(outputEl, {childList: true});\n",
       "}}\n",
       "\n",
       "                        })\n",
       "                };\n",
       "                });\n",
       "            </script>\n",
       "        </div>"
      ]
     },
     "metadata": {},
     "output_type": "display_data"
    }
   ],
   "source": [
    "# site_ranks_movie[['USER_REVIEWS_LOCAL','MOVIE_NAME','IMDB']].iloc[:50,:].iplot(kind='bar', x=\"MOVIE_NAME\")\n",
    "layout=dict(title=\"IMDB & 30 Most Watched Movies\", \n",
    "            xaxis_title=\"Movies\",\n",
    "            yaxis_title=\"Ratings\")\n",
    "site_ranks_movie[['MOVIE_NAME','IMDB']].iloc[:30,:].iplot(kind=\"bar\", x=\"MOVIE_NAME\",layout=layout)"
   ]
  },
  {
   "cell_type": "code",
   "execution_count": 56,
   "metadata": {
    "ExecuteTime": {
     "end_time": "2020-07-15T04:12:01.330298Z",
     "start_time": "2020-07-15T04:12:01.239298Z"
    }
   },
   "outputs": [
    {
     "data": {
      "application/vnd.plotly.v1+json": {
       "config": {
        "linkText": "Export to plot.ly",
        "plotlyServerURL": "https://plot.ly",
        "showLink": true
       },
       "data": [
        {
         "marker": {
          "color": "rgba(255, 153, 51, 0.6)",
          "line": {
           "color": "rgba(255, 153, 51, 1.0)",
           "width": 1
          }
         },
         "name": "IMDB",
         "orientation": "v",
         "text": "",
         "type": "bar",
         "x": [
          "Bleach",
          "Final Score",
          "Eternal Sunshine Of The Spotless Mind",
          "Kickboxer: Vengeance",
          "Silver Shoes",
          "Need for Speed",
          "Fractured",
          "F*&% the Prom",
          "Good Luck Charlie",
          "The Wolf's Call",
          "Isle of Dogs",
          "Kim Possible",
          "Ada Apa Dengan Cinta 2",
          "Clueless",
          "High Heel Homicide",
          "The Florida Project",
          "Tomb Invader",
          "Ghoul",
          "A Cinderella Story",
          "Zoey's Extraordinary Playlist",
          "Revenge",
          "Dublin Murders",
          "Beyond the Law",
          "Never Back Down",
          "Spyder",
          "Wanted",
          "Kill Chain",
          "You Don't Mess With The Zohan",
          "The Alienist",
          "Norbit"
         ],
         "y": [
          6.4,
          5.7,
          8.3,
          4.9,
          4.9,
          6.4,
          6.4,
          4.2,
          7,
          6.9,
          7.9,
          3.6,
          7.4,
          6.8,
          3.5,
          7.6,
          2.5,
          7.1,
          5.9,
          8.1,
          6.3,
          7.1,
          4.3,
          6.6,
          6.6,
          6.7,
          5,
          5.5,
          7.7,
          4
         ]
        }
       ],
       "layout": {
        "template": {
         "data": {
          "bar": [
           {
            "error_x": {
             "color": "#2a3f5f"
            },
            "error_y": {
             "color": "#2a3f5f"
            },
            "marker": {
             "line": {
              "color": "#E5ECF6",
              "width": 0.5
             }
            },
            "type": "bar"
           }
          ],
          "barpolar": [
           {
            "marker": {
             "line": {
              "color": "#E5ECF6",
              "width": 0.5
             }
            },
            "type": "barpolar"
           }
          ],
          "carpet": [
           {
            "aaxis": {
             "endlinecolor": "#2a3f5f",
             "gridcolor": "white",
             "linecolor": "white",
             "minorgridcolor": "white",
             "startlinecolor": "#2a3f5f"
            },
            "baxis": {
             "endlinecolor": "#2a3f5f",
             "gridcolor": "white",
             "linecolor": "white",
             "minorgridcolor": "white",
             "startlinecolor": "#2a3f5f"
            },
            "type": "carpet"
           }
          ],
          "choropleth": [
           {
            "colorbar": {
             "outlinewidth": 0,
             "ticks": ""
            },
            "type": "choropleth"
           }
          ],
          "contour": [
           {
            "colorbar": {
             "outlinewidth": 0,
             "ticks": ""
            },
            "colorscale": [
             [
              0,
              "#0d0887"
             ],
             [
              0.1111111111111111,
              "#46039f"
             ],
             [
              0.2222222222222222,
              "#7201a8"
             ],
             [
              0.3333333333333333,
              "#9c179e"
             ],
             [
              0.4444444444444444,
              "#bd3786"
             ],
             [
              0.5555555555555556,
              "#d8576b"
             ],
             [
              0.6666666666666666,
              "#ed7953"
             ],
             [
              0.7777777777777778,
              "#fb9f3a"
             ],
             [
              0.8888888888888888,
              "#fdca26"
             ],
             [
              1,
              "#f0f921"
             ]
            ],
            "type": "contour"
           }
          ],
          "contourcarpet": [
           {
            "colorbar": {
             "outlinewidth": 0,
             "ticks": ""
            },
            "type": "contourcarpet"
           }
          ],
          "heatmap": [
           {
            "colorbar": {
             "outlinewidth": 0,
             "ticks": ""
            },
            "colorscale": [
             [
              0,
              "#0d0887"
             ],
             [
              0.1111111111111111,
              "#46039f"
             ],
             [
              0.2222222222222222,
              "#7201a8"
             ],
             [
              0.3333333333333333,
              "#9c179e"
             ],
             [
              0.4444444444444444,
              "#bd3786"
             ],
             [
              0.5555555555555556,
              "#d8576b"
             ],
             [
              0.6666666666666666,
              "#ed7953"
             ],
             [
              0.7777777777777778,
              "#fb9f3a"
             ],
             [
              0.8888888888888888,
              "#fdca26"
             ],
             [
              1,
              "#f0f921"
             ]
            ],
            "type": "heatmap"
           }
          ],
          "heatmapgl": [
           {
            "colorbar": {
             "outlinewidth": 0,
             "ticks": ""
            },
            "colorscale": [
             [
              0,
              "#0d0887"
             ],
             [
              0.1111111111111111,
              "#46039f"
             ],
             [
              0.2222222222222222,
              "#7201a8"
             ],
             [
              0.3333333333333333,
              "#9c179e"
             ],
             [
              0.4444444444444444,
              "#bd3786"
             ],
             [
              0.5555555555555556,
              "#d8576b"
             ],
             [
              0.6666666666666666,
              "#ed7953"
             ],
             [
              0.7777777777777778,
              "#fb9f3a"
             ],
             [
              0.8888888888888888,
              "#fdca26"
             ],
             [
              1,
              "#f0f921"
             ]
            ],
            "type": "heatmapgl"
           }
          ],
          "histogram": [
           {
            "marker": {
             "colorbar": {
              "outlinewidth": 0,
              "ticks": ""
             }
            },
            "type": "histogram"
           }
          ],
          "histogram2d": [
           {
            "colorbar": {
             "outlinewidth": 0,
             "ticks": ""
            },
            "colorscale": [
             [
              0,
              "#0d0887"
             ],
             [
              0.1111111111111111,
              "#46039f"
             ],
             [
              0.2222222222222222,
              "#7201a8"
             ],
             [
              0.3333333333333333,
              "#9c179e"
             ],
             [
              0.4444444444444444,
              "#bd3786"
             ],
             [
              0.5555555555555556,
              "#d8576b"
             ],
             [
              0.6666666666666666,
              "#ed7953"
             ],
             [
              0.7777777777777778,
              "#fb9f3a"
             ],
             [
              0.8888888888888888,
              "#fdca26"
             ],
             [
              1,
              "#f0f921"
             ]
            ],
            "type": "histogram2d"
           }
          ],
          "histogram2dcontour": [
           {
            "colorbar": {
             "outlinewidth": 0,
             "ticks": ""
            },
            "colorscale": [
             [
              0,
              "#0d0887"
             ],
             [
              0.1111111111111111,
              "#46039f"
             ],
             [
              0.2222222222222222,
              "#7201a8"
             ],
             [
              0.3333333333333333,
              "#9c179e"
             ],
             [
              0.4444444444444444,
              "#bd3786"
             ],
             [
              0.5555555555555556,
              "#d8576b"
             ],
             [
              0.6666666666666666,
              "#ed7953"
             ],
             [
              0.7777777777777778,
              "#fb9f3a"
             ],
             [
              0.8888888888888888,
              "#fdca26"
             ],
             [
              1,
              "#f0f921"
             ]
            ],
            "type": "histogram2dcontour"
           }
          ],
          "mesh3d": [
           {
            "colorbar": {
             "outlinewidth": 0,
             "ticks": ""
            },
            "type": "mesh3d"
           }
          ],
          "parcoords": [
           {
            "line": {
             "colorbar": {
              "outlinewidth": 0,
              "ticks": ""
             }
            },
            "type": "parcoords"
           }
          ],
          "pie": [
           {
            "automargin": true,
            "type": "pie"
           }
          ],
          "scatter": [
           {
            "marker": {
             "colorbar": {
              "outlinewidth": 0,
              "ticks": ""
             }
            },
            "type": "scatter"
           }
          ],
          "scatter3d": [
           {
            "line": {
             "colorbar": {
              "outlinewidth": 0,
              "ticks": ""
             }
            },
            "marker": {
             "colorbar": {
              "outlinewidth": 0,
              "ticks": ""
             }
            },
            "type": "scatter3d"
           }
          ],
          "scattercarpet": [
           {
            "marker": {
             "colorbar": {
              "outlinewidth": 0,
              "ticks": ""
             }
            },
            "type": "scattercarpet"
           }
          ],
          "scattergeo": [
           {
            "marker": {
             "colorbar": {
              "outlinewidth": 0,
              "ticks": ""
             }
            },
            "type": "scattergeo"
           }
          ],
          "scattergl": [
           {
            "marker": {
             "colorbar": {
              "outlinewidth": 0,
              "ticks": ""
             }
            },
            "type": "scattergl"
           }
          ],
          "scattermapbox": [
           {
            "marker": {
             "colorbar": {
              "outlinewidth": 0,
              "ticks": ""
             }
            },
            "type": "scattermapbox"
           }
          ],
          "scatterpolar": [
           {
            "marker": {
             "colorbar": {
              "outlinewidth": 0,
              "ticks": ""
             }
            },
            "type": "scatterpolar"
           }
          ],
          "scatterpolargl": [
           {
            "marker": {
             "colorbar": {
              "outlinewidth": 0,
              "ticks": ""
             }
            },
            "type": "scatterpolargl"
           }
          ],
          "scatterternary": [
           {
            "marker": {
             "colorbar": {
              "outlinewidth": 0,
              "ticks": ""
             }
            },
            "type": "scatterternary"
           }
          ],
          "surface": [
           {
            "colorbar": {
             "outlinewidth": 0,
             "ticks": ""
            },
            "colorscale": [
             [
              0,
              "#0d0887"
             ],
             [
              0.1111111111111111,
              "#46039f"
             ],
             [
              0.2222222222222222,
              "#7201a8"
             ],
             [
              0.3333333333333333,
              "#9c179e"
             ],
             [
              0.4444444444444444,
              "#bd3786"
             ],
             [
              0.5555555555555556,
              "#d8576b"
             ],
             [
              0.6666666666666666,
              "#ed7953"
             ],
             [
              0.7777777777777778,
              "#fb9f3a"
             ],
             [
              0.8888888888888888,
              "#fdca26"
             ],
             [
              1,
              "#f0f921"
             ]
            ],
            "type": "surface"
           }
          ],
          "table": [
           {
            "cells": {
             "fill": {
              "color": "#EBF0F8"
             },
             "line": {
              "color": "white"
             }
            },
            "header": {
             "fill": {
              "color": "#C8D4E3"
             },
             "line": {
              "color": "white"
             }
            },
            "type": "table"
           }
          ]
         },
         "layout": {
          "annotationdefaults": {
           "arrowcolor": "#2a3f5f",
           "arrowhead": 0,
           "arrowwidth": 1
          },
          "coloraxis": {
           "colorbar": {
            "outlinewidth": 0,
            "ticks": ""
           }
          },
          "colorscale": {
           "diverging": [
            [
             0,
             "#8e0152"
            ],
            [
             0.1,
             "#c51b7d"
            ],
            [
             0.2,
             "#de77ae"
            ],
            [
             0.3,
             "#f1b6da"
            ],
            [
             0.4,
             "#fde0ef"
            ],
            [
             0.5,
             "#f7f7f7"
            ],
            [
             0.6,
             "#e6f5d0"
            ],
            [
             0.7,
             "#b8e186"
            ],
            [
             0.8,
             "#7fbc41"
            ],
            [
             0.9,
             "#4d9221"
            ],
            [
             1,
             "#276419"
            ]
           ],
           "sequential": [
            [
             0,
             "#0d0887"
            ],
            [
             0.1111111111111111,
             "#46039f"
            ],
            [
             0.2222222222222222,
             "#7201a8"
            ],
            [
             0.3333333333333333,
             "#9c179e"
            ],
            [
             0.4444444444444444,
             "#bd3786"
            ],
            [
             0.5555555555555556,
             "#d8576b"
            ],
            [
             0.6666666666666666,
             "#ed7953"
            ],
            [
             0.7777777777777778,
             "#fb9f3a"
            ],
            [
             0.8888888888888888,
             "#fdca26"
            ],
            [
             1,
             "#f0f921"
            ]
           ],
           "sequentialminus": [
            [
             0,
             "#0d0887"
            ],
            [
             0.1111111111111111,
             "#46039f"
            ],
            [
             0.2222222222222222,
             "#7201a8"
            ],
            [
             0.3333333333333333,
             "#9c179e"
            ],
            [
             0.4444444444444444,
             "#bd3786"
            ],
            [
             0.5555555555555556,
             "#d8576b"
            ],
            [
             0.6666666666666666,
             "#ed7953"
            ],
            [
             0.7777777777777778,
             "#fb9f3a"
            ],
            [
             0.8888888888888888,
             "#fdca26"
            ],
            [
             1,
             "#f0f921"
            ]
           ]
          },
          "colorway": [
           "#636efa",
           "#EF553B",
           "#00cc96",
           "#ab63fa",
           "#FFA15A",
           "#19d3f3",
           "#FF6692",
           "#B6E880",
           "#FF97FF",
           "#FECB52"
          ],
          "font": {
           "color": "#2a3f5f"
          },
          "geo": {
           "bgcolor": "white",
           "lakecolor": "white",
           "landcolor": "#E5ECF6",
           "showlakes": true,
           "showland": true,
           "subunitcolor": "white"
          },
          "hoverlabel": {
           "align": "left"
          },
          "hovermode": "closest",
          "mapbox": {
           "style": "light"
          },
          "paper_bgcolor": "white",
          "plot_bgcolor": "#E5ECF6",
          "polar": {
           "angularaxis": {
            "gridcolor": "white",
            "linecolor": "white",
            "ticks": ""
           },
           "bgcolor": "#E5ECF6",
           "radialaxis": {
            "gridcolor": "white",
            "linecolor": "white",
            "ticks": ""
           }
          },
          "scene": {
           "xaxis": {
            "backgroundcolor": "#E5ECF6",
            "gridcolor": "white",
            "gridwidth": 2,
            "linecolor": "white",
            "showbackground": true,
            "ticks": "",
            "zerolinecolor": "white"
           },
           "yaxis": {
            "backgroundcolor": "#E5ECF6",
            "gridcolor": "white",
            "gridwidth": 2,
            "linecolor": "white",
            "showbackground": true,
            "ticks": "",
            "zerolinecolor": "white"
           },
           "zaxis": {
            "backgroundcolor": "#E5ECF6",
            "gridcolor": "white",
            "gridwidth": 2,
            "linecolor": "white",
            "showbackground": true,
            "ticks": "",
            "zerolinecolor": "white"
           }
          },
          "shapedefaults": {
           "line": {
            "color": "#2a3f5f"
           }
          },
          "ternary": {
           "aaxis": {
            "gridcolor": "white",
            "linecolor": "white",
            "ticks": ""
           },
           "baxis": {
            "gridcolor": "white",
            "linecolor": "white",
            "ticks": ""
           },
           "bgcolor": "#E5ECF6",
           "caxis": {
            "gridcolor": "white",
            "linecolor": "white",
            "ticks": ""
           }
          },
          "title": {
           "x": 0.05
          },
          "xaxis": {
           "automargin": true,
           "gridcolor": "white",
           "linecolor": "white",
           "ticks": "",
           "title": {
            "standoff": 15
           },
           "zerolinecolor": "white",
           "zerolinewidth": 2
          },
          "yaxis": {
           "automargin": true,
           "gridcolor": "white",
           "linecolor": "white",
           "ticks": "",
           "title": {
            "standoff": 15
           },
           "zerolinecolor": "white",
           "zerolinewidth": 2
          }
         }
        },
        "title": {
         "text": "IMDB & 30 Most Watched Movies"
        },
        "xaxis": {
         "title": {
          "text": "Movies"
         }
        },
        "yaxis": {
         "title": {
          "text": "Ratings"
         }
        }
       }
      },
      "text/html": [
       "<div>\n",
       "        \n",
       "        \n",
       "            <div id=\"524c8e54-8de1-4c42-a257-3b1763cea6be\" class=\"plotly-graph-div\" style=\"height:525px; width:100%;\"></div>\n",
       "            <script type=\"text/javascript\">\n",
       "                require([\"plotly\"], function(Plotly) {\n",
       "                    window.PLOTLYENV=window.PLOTLYENV || {};\n",
       "                    window.PLOTLYENV.BASE_URL='https://plot.ly';\n",
       "                    \n",
       "                if (document.getElementById(\"524c8e54-8de1-4c42-a257-3b1763cea6be\")) {\n",
       "                    Plotly.newPlot(\n",
       "                        '524c8e54-8de1-4c42-a257-3b1763cea6be',\n",
       "                        [{\"marker\": {\"color\": \"rgba(255, 153, 51, 0.6)\", \"line\": {\"color\": \"rgba(255, 153, 51, 1.0)\", \"width\": 1}}, \"name\": \"IMDB\", \"orientation\": \"v\", \"text\": \"\", \"type\": \"bar\", \"x\": [\"Bleach\", \"Final Score\", \"Eternal Sunshine Of The Spotless Mind\", \"Kickboxer: Vengeance\", \"Silver Shoes\", \"Need for Speed\", \"Fractured\", \"F*&% the Prom\", \"Good Luck Charlie\", \"The Wolf's Call\", \"Isle of Dogs\", \"Kim Possible\", \"Ada Apa Dengan Cinta 2\", \"Clueless\", \"High Heel Homicide\", \"The Florida Project\", \"Tomb Invader\", \"Ghoul\", \"A Cinderella Story\", \"Zoey's Extraordinary Playlist\", \"Revenge\", \"Dublin Murders\", \"Beyond the Law\", \"Never Back Down\", \"Spyder\", \"Wanted\", \"Kill Chain\", \"You Don't Mess With The Zohan\", \"The Alienist\", \"Norbit\"], \"y\": [6.4, 5.7, 8.3, 4.9, 4.9, 6.4, 6.4, 4.2, 7.0, 6.9, 7.9, 3.6, 7.4, 6.8, 3.5, 7.6, 2.5, 7.1, 5.9, 8.1, 6.3, 7.1, 4.3, 6.6, 6.6, 6.7, 5.0, 5.5, 7.7, 4.0]}],\n",
       "                        {\"template\": {\"data\": {\"bar\": [{\"error_x\": {\"color\": \"#2a3f5f\"}, \"error_y\": {\"color\": \"#2a3f5f\"}, \"marker\": {\"line\": {\"color\": \"#E5ECF6\", \"width\": 0.5}}, \"type\": \"bar\"}], \"barpolar\": [{\"marker\": {\"line\": {\"color\": \"#E5ECF6\", \"width\": 0.5}}, \"type\": \"barpolar\"}], \"carpet\": [{\"aaxis\": {\"endlinecolor\": \"#2a3f5f\", \"gridcolor\": \"white\", \"linecolor\": \"white\", \"minorgridcolor\": \"white\", \"startlinecolor\": \"#2a3f5f\"}, \"baxis\": {\"endlinecolor\": \"#2a3f5f\", \"gridcolor\": \"white\", \"linecolor\": \"white\", \"minorgridcolor\": \"white\", \"startlinecolor\": \"#2a3f5f\"}, \"type\": \"carpet\"}], \"choropleth\": [{\"colorbar\": {\"outlinewidth\": 0, \"ticks\": \"\"}, \"type\": \"choropleth\"}], \"contour\": [{\"colorbar\": {\"outlinewidth\": 0, \"ticks\": \"\"}, \"colorscale\": [[0.0, \"#0d0887\"], [0.1111111111111111, \"#46039f\"], [0.2222222222222222, \"#7201a8\"], [0.3333333333333333, \"#9c179e\"], [0.4444444444444444, \"#bd3786\"], [0.5555555555555556, \"#d8576b\"], [0.6666666666666666, \"#ed7953\"], [0.7777777777777778, \"#fb9f3a\"], [0.8888888888888888, \"#fdca26\"], [1.0, \"#f0f921\"]], \"type\": \"contour\"}], \"contourcarpet\": [{\"colorbar\": {\"outlinewidth\": 0, \"ticks\": \"\"}, \"type\": \"contourcarpet\"}], \"heatmap\": [{\"colorbar\": {\"outlinewidth\": 0, \"ticks\": \"\"}, \"colorscale\": [[0.0, \"#0d0887\"], [0.1111111111111111, \"#46039f\"], [0.2222222222222222, \"#7201a8\"], [0.3333333333333333, \"#9c179e\"], [0.4444444444444444, \"#bd3786\"], [0.5555555555555556, \"#d8576b\"], [0.6666666666666666, \"#ed7953\"], [0.7777777777777778, \"#fb9f3a\"], [0.8888888888888888, \"#fdca26\"], [1.0, \"#f0f921\"]], \"type\": \"heatmap\"}], \"heatmapgl\": [{\"colorbar\": {\"outlinewidth\": 0, \"ticks\": \"\"}, \"colorscale\": [[0.0, \"#0d0887\"], [0.1111111111111111, \"#46039f\"], [0.2222222222222222, \"#7201a8\"], [0.3333333333333333, \"#9c179e\"], [0.4444444444444444, \"#bd3786\"], [0.5555555555555556, \"#d8576b\"], [0.6666666666666666, \"#ed7953\"], [0.7777777777777778, \"#fb9f3a\"], [0.8888888888888888, \"#fdca26\"], [1.0, \"#f0f921\"]], \"type\": \"heatmapgl\"}], \"histogram\": [{\"marker\": {\"colorbar\": {\"outlinewidth\": 0, \"ticks\": \"\"}}, \"type\": \"histogram\"}], \"histogram2d\": [{\"colorbar\": {\"outlinewidth\": 0, \"ticks\": \"\"}, \"colorscale\": [[0.0, \"#0d0887\"], [0.1111111111111111, \"#46039f\"], [0.2222222222222222, \"#7201a8\"], [0.3333333333333333, \"#9c179e\"], [0.4444444444444444, \"#bd3786\"], [0.5555555555555556, \"#d8576b\"], [0.6666666666666666, \"#ed7953\"], [0.7777777777777778, \"#fb9f3a\"], [0.8888888888888888, \"#fdca26\"], [1.0, \"#f0f921\"]], \"type\": \"histogram2d\"}], \"histogram2dcontour\": [{\"colorbar\": {\"outlinewidth\": 0, \"ticks\": \"\"}, \"colorscale\": [[0.0, \"#0d0887\"], [0.1111111111111111, \"#46039f\"], [0.2222222222222222, \"#7201a8\"], [0.3333333333333333, \"#9c179e\"], [0.4444444444444444, \"#bd3786\"], [0.5555555555555556, \"#d8576b\"], [0.6666666666666666, \"#ed7953\"], [0.7777777777777778, \"#fb9f3a\"], [0.8888888888888888, \"#fdca26\"], [1.0, \"#f0f921\"]], \"type\": \"histogram2dcontour\"}], \"mesh3d\": [{\"colorbar\": {\"outlinewidth\": 0, \"ticks\": \"\"}, \"type\": \"mesh3d\"}], \"parcoords\": [{\"line\": {\"colorbar\": {\"outlinewidth\": 0, \"ticks\": \"\"}}, \"type\": \"parcoords\"}], \"pie\": [{\"automargin\": true, \"type\": \"pie\"}], \"scatter\": [{\"marker\": {\"colorbar\": {\"outlinewidth\": 0, \"ticks\": \"\"}}, \"type\": \"scatter\"}], \"scatter3d\": [{\"line\": {\"colorbar\": {\"outlinewidth\": 0, \"ticks\": \"\"}}, \"marker\": {\"colorbar\": {\"outlinewidth\": 0, \"ticks\": \"\"}}, \"type\": \"scatter3d\"}], \"scattercarpet\": [{\"marker\": {\"colorbar\": {\"outlinewidth\": 0, \"ticks\": \"\"}}, \"type\": \"scattercarpet\"}], \"scattergeo\": [{\"marker\": {\"colorbar\": {\"outlinewidth\": 0, \"ticks\": \"\"}}, \"type\": \"scattergeo\"}], \"scattergl\": [{\"marker\": {\"colorbar\": {\"outlinewidth\": 0, \"ticks\": \"\"}}, \"type\": \"scattergl\"}], \"scattermapbox\": [{\"marker\": {\"colorbar\": {\"outlinewidth\": 0, \"ticks\": \"\"}}, \"type\": \"scattermapbox\"}], \"scatterpolar\": [{\"marker\": {\"colorbar\": {\"outlinewidth\": 0, \"ticks\": \"\"}}, \"type\": \"scatterpolar\"}], \"scatterpolargl\": [{\"marker\": {\"colorbar\": {\"outlinewidth\": 0, \"ticks\": \"\"}}, \"type\": \"scatterpolargl\"}], \"scatterternary\": [{\"marker\": {\"colorbar\": {\"outlinewidth\": 0, \"ticks\": \"\"}}, \"type\": \"scatterternary\"}], \"surface\": [{\"colorbar\": {\"outlinewidth\": 0, \"ticks\": \"\"}, \"colorscale\": [[0.0, \"#0d0887\"], [0.1111111111111111, \"#46039f\"], [0.2222222222222222, \"#7201a8\"], [0.3333333333333333, \"#9c179e\"], [0.4444444444444444, \"#bd3786\"], [0.5555555555555556, \"#d8576b\"], [0.6666666666666666, \"#ed7953\"], [0.7777777777777778, \"#fb9f3a\"], [0.8888888888888888, \"#fdca26\"], [1.0, \"#f0f921\"]], \"type\": \"surface\"}], \"table\": [{\"cells\": {\"fill\": {\"color\": \"#EBF0F8\"}, \"line\": {\"color\": \"white\"}}, \"header\": {\"fill\": {\"color\": \"#C8D4E3\"}, \"line\": {\"color\": \"white\"}}, \"type\": \"table\"}]}, \"layout\": {\"annotationdefaults\": {\"arrowcolor\": \"#2a3f5f\", \"arrowhead\": 0, \"arrowwidth\": 1}, \"coloraxis\": {\"colorbar\": {\"outlinewidth\": 0, \"ticks\": \"\"}}, \"colorscale\": {\"diverging\": [[0, \"#8e0152\"], [0.1, \"#c51b7d\"], [0.2, \"#de77ae\"], [0.3, \"#f1b6da\"], [0.4, \"#fde0ef\"], [0.5, \"#f7f7f7\"], [0.6, \"#e6f5d0\"], [0.7, \"#b8e186\"], [0.8, \"#7fbc41\"], [0.9, \"#4d9221\"], [1, \"#276419\"]], \"sequential\": [[0.0, \"#0d0887\"], [0.1111111111111111, \"#46039f\"], [0.2222222222222222, \"#7201a8\"], [0.3333333333333333, \"#9c179e\"], [0.4444444444444444, \"#bd3786\"], [0.5555555555555556, \"#d8576b\"], [0.6666666666666666, \"#ed7953\"], [0.7777777777777778, \"#fb9f3a\"], [0.8888888888888888, \"#fdca26\"], [1.0, \"#f0f921\"]], \"sequentialminus\": [[0.0, \"#0d0887\"], [0.1111111111111111, \"#46039f\"], [0.2222222222222222, \"#7201a8\"], [0.3333333333333333, \"#9c179e\"], [0.4444444444444444, \"#bd3786\"], [0.5555555555555556, \"#d8576b\"], [0.6666666666666666, \"#ed7953\"], [0.7777777777777778, \"#fb9f3a\"], [0.8888888888888888, \"#fdca26\"], [1.0, \"#f0f921\"]]}, \"colorway\": [\"#636efa\", \"#EF553B\", \"#00cc96\", \"#ab63fa\", \"#FFA15A\", \"#19d3f3\", \"#FF6692\", \"#B6E880\", \"#FF97FF\", \"#FECB52\"], \"font\": {\"color\": \"#2a3f5f\"}, \"geo\": {\"bgcolor\": \"white\", \"lakecolor\": \"white\", \"landcolor\": \"#E5ECF6\", \"showlakes\": true, \"showland\": true, \"subunitcolor\": \"white\"}, \"hoverlabel\": {\"align\": \"left\"}, \"hovermode\": \"closest\", \"mapbox\": {\"style\": \"light\"}, \"paper_bgcolor\": \"white\", \"plot_bgcolor\": \"#E5ECF6\", \"polar\": {\"angularaxis\": {\"gridcolor\": \"white\", \"linecolor\": \"white\", \"ticks\": \"\"}, \"bgcolor\": \"#E5ECF6\", \"radialaxis\": {\"gridcolor\": \"white\", \"linecolor\": \"white\", \"ticks\": \"\"}}, \"scene\": {\"xaxis\": {\"backgroundcolor\": \"#E5ECF6\", \"gridcolor\": \"white\", \"gridwidth\": 2, \"linecolor\": \"white\", \"showbackground\": true, \"ticks\": \"\", \"zerolinecolor\": \"white\"}, \"yaxis\": {\"backgroundcolor\": \"#E5ECF6\", \"gridcolor\": \"white\", \"gridwidth\": 2, \"linecolor\": \"white\", \"showbackground\": true, \"ticks\": \"\", \"zerolinecolor\": \"white\"}, \"zaxis\": {\"backgroundcolor\": \"#E5ECF6\", \"gridcolor\": \"white\", \"gridwidth\": 2, \"linecolor\": \"white\", \"showbackground\": true, \"ticks\": \"\", \"zerolinecolor\": \"white\"}}, \"shapedefaults\": {\"line\": {\"color\": \"#2a3f5f\"}}, \"ternary\": {\"aaxis\": {\"gridcolor\": \"white\", \"linecolor\": \"white\", \"ticks\": \"\"}, \"baxis\": {\"gridcolor\": \"white\", \"linecolor\": \"white\", \"ticks\": \"\"}, \"bgcolor\": \"#E5ECF6\", \"caxis\": {\"gridcolor\": \"white\", \"linecolor\": \"white\", \"ticks\": \"\"}}, \"title\": {\"x\": 0.05}, \"xaxis\": {\"automargin\": true, \"gridcolor\": \"white\", \"linecolor\": \"white\", \"ticks\": \"\", \"title\": {\"standoff\": 15}, \"zerolinecolor\": \"white\", \"zerolinewidth\": 2}, \"yaxis\": {\"automargin\": true, \"gridcolor\": \"white\", \"linecolor\": \"white\", \"ticks\": \"\", \"title\": {\"standoff\": 15}, \"zerolinecolor\": \"white\", \"zerolinewidth\": 2}}}, \"title\": {\"text\": \"IMDB & 30 Most Watched Movies\"}, \"xaxis\": {\"title\": {\"text\": \"Movies\"}}, \"yaxis\": {\"title\": {\"text\": \"Ratings\"}}},\n",
       "                        {\"showLink\": true, \"linkText\": \"Export to plot.ly\", \"plotlyServerURL\": \"https://plot.ly\", \"responsive\": true}\n",
       "                    ).then(function(){\n",
       "                            \n",
       "var gd = document.getElementById('524c8e54-8de1-4c42-a257-3b1763cea6be');\n",
       "var x = new MutationObserver(function (mutations, observer) {{\n",
       "        var display = window.getComputedStyle(gd).display;\n",
       "        if (!display || display === 'none') {{\n",
       "            console.log([gd, 'removed!']);\n",
       "            Plotly.purge(gd);\n",
       "            observer.disconnect();\n",
       "        }}\n",
       "}});\n",
       "\n",
       "// Listen for the removal of the full notebook cells\n",
       "var notebookContainer = gd.closest('#notebook-container');\n",
       "if (notebookContainer) {{\n",
       "    x.observe(notebookContainer, {childList: true});\n",
       "}}\n",
       "\n",
       "// Listen for the clearing of the current output cell\n",
       "var outputEl = gd.closest('.output');\n",
       "if (outputEl) {{\n",
       "    x.observe(outputEl, {childList: true});\n",
       "}}\n",
       "\n",
       "                        })\n",
       "                };\n",
       "                });\n",
       "            </script>\n",
       "        </div>"
      ]
     },
     "metadata": {},
     "output_type": "display_data"
    }
   ],
   "source": [
    "layout=dict(title=\"IMDB & 30 Most Watched Movies\", \n",
    "            xaxis_title=\"Movies\",\n",
    "            yaxis_title=\"Ratings\")\n",
    "site_ranks_movie[['MOVIE_NAME','IMDB']].iloc[-30:,:].iplot(kind=\"bar\", x=\"MOVIE_NAME\",layout=layout)"
   ]
  },
  {
   "cell_type": "code",
   "execution_count": 57,
   "metadata": {
    "ExecuteTime": {
     "end_time": "2020-07-15T04:12:01.346301Z",
     "start_time": "2020-07-15T04:12:01.333299Z"
    }
   },
   "outputs": [
    {
     "data": {
      "text/plain": [
       "Date\n",
       "2004-03-19      Drama\n",
       "2004-03-19     Sci-Fi\n",
       "2004-03-19    Romance\n",
       "Name: GENRE, dtype: object"
      ]
     },
     "execution_count": 57,
     "metadata": {},
     "output_type": "execute_result"
    }
   ],
   "source": [
    "movie_df[movie_df.MOVIE_NAME == \"Eternal Sunshine Of The Spotless Mind\"]['GENRE']"
   ]
  },
  {
   "cell_type": "markdown",
   "metadata": {},
   "source": [
    "As we can see form both charts, Its clear that IMDB in general does effect the watch count. Most watched movies do have high IMDB ratins. But the Bottom thirty some movies are there which still have very high ratings like \"Eternal sunshine of spotless mind\",8.3 imdb. "
   ]
  },
  {
   "cell_type": "markdown",
   "metadata": {},
   "source": [
    "Lets check the genre and released dates of top and bottom 30 movies in most watched list to estimate what might be the reason.§"
   ]
  },
  {
   "cell_type": "markdown",
   "metadata": {},
   "source": [
    "## Genres and Ranks"
   ]
  },
  {
   "cell_type": "markdown",
   "metadata": {},
   "source": [
    "### Top Movies VS. Genres"
   ]
  },
  {
   "cell_type": "markdown",
   "metadata": {},
   "source": [
    "lets count the most repeated genres of top and bottom 100 movies."
   ]
  },
  {
   "cell_type": "code",
   "execution_count": 58,
   "metadata": {
    "ExecuteTime": {
     "end_time": "2020-07-15T04:12:01.362298Z",
     "start_time": "2020-07-15T04:12:01.350301Z"
    }
   },
   "outputs": [],
   "source": [
    "top_100_movies = site_ranks_movie.iloc[:100,0].values.tolist()\n",
    "bottom_100_movies = site_ranks_movie.iloc[-100:,0].values.tolist()"
   ]
  },
  {
   "cell_type": "code",
   "execution_count": 59,
   "metadata": {
    "ExecuteTime": {
     "end_time": "2020-07-15T04:12:01.676530Z",
     "start_time": "2020-07-15T04:12:01.366299Z"
    }
   },
   "outputs": [],
   "source": [
    "\n",
    "top_100_mv_genres = np.array([])\n",
    "bottom_100_mv_genres = np.array([])\n",
    "\n",
    "for movie in top_100_movies:\n",
    "    val = movie_df[movie_df.MOVIE_NAME == movie]['GENRE'].values\n",
    "    top_100_mv_genres = np.append(top_100_mv_genres,val)\n",
    "    \n",
    "    \n",
    "for movie in bottom_100_movies:\n",
    "    val = movie_df[movie_df.MOVIE_NAME == movie]['GENRE'].values\n",
    "    bottom_100_mv_genres = np.append(bottom_100_mv_genres,val)\n",
    "\n"
   ]
  },
  {
   "cell_type": "code",
   "execution_count": 60,
   "metadata": {
    "ExecuteTime": {
     "end_time": "2020-07-15T04:12:01.692531Z",
     "start_time": "2020-07-15T04:12:01.679532Z"
    }
   },
   "outputs": [],
   "source": [
    "\n",
    "top_100_mv_genre_counts = np.unique(top_100_mv_genres,return_counts=True, )\n",
    "bottom_100_mv_genre_counts = np.unique(bottom_100_mv_genres,return_counts=True, )"
   ]
  },
  {
   "cell_type": "code",
   "execution_count": 61,
   "metadata": {
    "ExecuteTime": {
     "end_time": "2020-07-15T04:12:01.708530Z",
     "start_time": "2020-07-15T04:12:01.695532Z"
    }
   },
   "outputs": [
    {
     "data": {
      "text/plain": [
       "array([57, 57, 14,  2, 34, 12, 23, 19, 28,  1, 15,  2,  6, 11, 39,  1, 32,\n",
       "        1], dtype=int64)"
      ]
     },
     "execution_count": 61,
     "metadata": {},
     "output_type": "execute_result"
    }
   ],
   "source": [
    "top_100_mv_genre_counts[1]"
   ]
  },
  {
   "cell_type": "code",
   "execution_count": 62,
   "metadata": {
    "ExecuteTime": {
     "end_time": "2020-07-15T04:12:01.740533Z",
     "start_time": "2020-07-15T04:12:01.712534Z"
    }
   },
   "outputs": [
    {
     "data": {
      "application/vnd.plotly.v1+json": {
       "config": {
        "plotlyServerURL": "https://plot.ly"
       },
       "data": [
        {
         "name": "Top 100 Most Watched Movies",
         "type": "bar",
         "x": [
          "Action",
          "Adventure",
          "Animation",
          "Biography",
          "Comedy",
          "Crime",
          "Drama",
          "Family",
          "Fantasy",
          "History",
          "Horror",
          "Music",
          "Mystery",
          "Romance",
          "Sci-Fi",
          "Sport",
          "Thriller",
          "Western"
         ],
         "y": [
          57,
          57,
          14,
          2,
          34,
          12,
          23,
          19,
          28,
          1,
          15,
          2,
          6,
          11,
          39,
          1,
          32,
          1
         ]
        },
        {
         "name": "Bottom 100 Most Watched Movies",
         "type": "bar",
         "x": [
          "Action",
          "Adventure",
          "Animation",
          "Biography",
          "Comedy",
          "Crime",
          "Documentary",
          "Drama",
          "Family",
          "Fantasy",
          "History",
          "Horror",
          "Kungfu",
          "Music",
          "Mystery",
          "Reality-TV",
          "Romance",
          "Sci-Fi",
          "Sport",
          "Thriller",
          "War"
         ],
         "y": [
          29,
          16,
          8,
          2,
          34,
          10,
          1,
          45,
          10,
          10,
          5,
          8,
          1,
          1,
          8,
          1,
          17,
          8,
          1,
          26,
          5
         ]
        }
       ],
       "layout": {
        "template": {
         "data": {
          "bar": [
           {
            "error_x": {
             "color": "#2a3f5f"
            },
            "error_y": {
             "color": "#2a3f5f"
            },
            "marker": {
             "line": {
              "color": "#E5ECF6",
              "width": 0.5
             }
            },
            "type": "bar"
           }
          ],
          "barpolar": [
           {
            "marker": {
             "line": {
              "color": "#E5ECF6",
              "width": 0.5
             }
            },
            "type": "barpolar"
           }
          ],
          "carpet": [
           {
            "aaxis": {
             "endlinecolor": "#2a3f5f",
             "gridcolor": "white",
             "linecolor": "white",
             "minorgridcolor": "white",
             "startlinecolor": "#2a3f5f"
            },
            "baxis": {
             "endlinecolor": "#2a3f5f",
             "gridcolor": "white",
             "linecolor": "white",
             "minorgridcolor": "white",
             "startlinecolor": "#2a3f5f"
            },
            "type": "carpet"
           }
          ],
          "choropleth": [
           {
            "colorbar": {
             "outlinewidth": 0,
             "ticks": ""
            },
            "type": "choropleth"
           }
          ],
          "contour": [
           {
            "colorbar": {
             "outlinewidth": 0,
             "ticks": ""
            },
            "colorscale": [
             [
              0,
              "#0d0887"
             ],
             [
              0.1111111111111111,
              "#46039f"
             ],
             [
              0.2222222222222222,
              "#7201a8"
             ],
             [
              0.3333333333333333,
              "#9c179e"
             ],
             [
              0.4444444444444444,
              "#bd3786"
             ],
             [
              0.5555555555555556,
              "#d8576b"
             ],
             [
              0.6666666666666666,
              "#ed7953"
             ],
             [
              0.7777777777777778,
              "#fb9f3a"
             ],
             [
              0.8888888888888888,
              "#fdca26"
             ],
             [
              1,
              "#f0f921"
             ]
            ],
            "type": "contour"
           }
          ],
          "contourcarpet": [
           {
            "colorbar": {
             "outlinewidth": 0,
             "ticks": ""
            },
            "type": "contourcarpet"
           }
          ],
          "heatmap": [
           {
            "colorbar": {
             "outlinewidth": 0,
             "ticks": ""
            },
            "colorscale": [
             [
              0,
              "#0d0887"
             ],
             [
              0.1111111111111111,
              "#46039f"
             ],
             [
              0.2222222222222222,
              "#7201a8"
             ],
             [
              0.3333333333333333,
              "#9c179e"
             ],
             [
              0.4444444444444444,
              "#bd3786"
             ],
             [
              0.5555555555555556,
              "#d8576b"
             ],
             [
              0.6666666666666666,
              "#ed7953"
             ],
             [
              0.7777777777777778,
              "#fb9f3a"
             ],
             [
              0.8888888888888888,
              "#fdca26"
             ],
             [
              1,
              "#f0f921"
             ]
            ],
            "type": "heatmap"
           }
          ],
          "heatmapgl": [
           {
            "colorbar": {
             "outlinewidth": 0,
             "ticks": ""
            },
            "colorscale": [
             [
              0,
              "#0d0887"
             ],
             [
              0.1111111111111111,
              "#46039f"
             ],
             [
              0.2222222222222222,
              "#7201a8"
             ],
             [
              0.3333333333333333,
              "#9c179e"
             ],
             [
              0.4444444444444444,
              "#bd3786"
             ],
             [
              0.5555555555555556,
              "#d8576b"
             ],
             [
              0.6666666666666666,
              "#ed7953"
             ],
             [
              0.7777777777777778,
              "#fb9f3a"
             ],
             [
              0.8888888888888888,
              "#fdca26"
             ],
             [
              1,
              "#f0f921"
             ]
            ],
            "type": "heatmapgl"
           }
          ],
          "histogram": [
           {
            "marker": {
             "colorbar": {
              "outlinewidth": 0,
              "ticks": ""
             }
            },
            "type": "histogram"
           }
          ],
          "histogram2d": [
           {
            "colorbar": {
             "outlinewidth": 0,
             "ticks": ""
            },
            "colorscale": [
             [
              0,
              "#0d0887"
             ],
             [
              0.1111111111111111,
              "#46039f"
             ],
             [
              0.2222222222222222,
              "#7201a8"
             ],
             [
              0.3333333333333333,
              "#9c179e"
             ],
             [
              0.4444444444444444,
              "#bd3786"
             ],
             [
              0.5555555555555556,
              "#d8576b"
             ],
             [
              0.6666666666666666,
              "#ed7953"
             ],
             [
              0.7777777777777778,
              "#fb9f3a"
             ],
             [
              0.8888888888888888,
              "#fdca26"
             ],
             [
              1,
              "#f0f921"
             ]
            ],
            "type": "histogram2d"
           }
          ],
          "histogram2dcontour": [
           {
            "colorbar": {
             "outlinewidth": 0,
             "ticks": ""
            },
            "colorscale": [
             [
              0,
              "#0d0887"
             ],
             [
              0.1111111111111111,
              "#46039f"
             ],
             [
              0.2222222222222222,
              "#7201a8"
             ],
             [
              0.3333333333333333,
              "#9c179e"
             ],
             [
              0.4444444444444444,
              "#bd3786"
             ],
             [
              0.5555555555555556,
              "#d8576b"
             ],
             [
              0.6666666666666666,
              "#ed7953"
             ],
             [
              0.7777777777777778,
              "#fb9f3a"
             ],
             [
              0.8888888888888888,
              "#fdca26"
             ],
             [
              1,
              "#f0f921"
             ]
            ],
            "type": "histogram2dcontour"
           }
          ],
          "mesh3d": [
           {
            "colorbar": {
             "outlinewidth": 0,
             "ticks": ""
            },
            "type": "mesh3d"
           }
          ],
          "parcoords": [
           {
            "line": {
             "colorbar": {
              "outlinewidth": 0,
              "ticks": ""
             }
            },
            "type": "parcoords"
           }
          ],
          "pie": [
           {
            "automargin": true,
            "type": "pie"
           }
          ],
          "scatter": [
           {
            "marker": {
             "colorbar": {
              "outlinewidth": 0,
              "ticks": ""
             }
            },
            "type": "scatter"
           }
          ],
          "scatter3d": [
           {
            "line": {
             "colorbar": {
              "outlinewidth": 0,
              "ticks": ""
             }
            },
            "marker": {
             "colorbar": {
              "outlinewidth": 0,
              "ticks": ""
             }
            },
            "type": "scatter3d"
           }
          ],
          "scattercarpet": [
           {
            "marker": {
             "colorbar": {
              "outlinewidth": 0,
              "ticks": ""
             }
            },
            "type": "scattercarpet"
           }
          ],
          "scattergeo": [
           {
            "marker": {
             "colorbar": {
              "outlinewidth": 0,
              "ticks": ""
             }
            },
            "type": "scattergeo"
           }
          ],
          "scattergl": [
           {
            "marker": {
             "colorbar": {
              "outlinewidth": 0,
              "ticks": ""
             }
            },
            "type": "scattergl"
           }
          ],
          "scattermapbox": [
           {
            "marker": {
             "colorbar": {
              "outlinewidth": 0,
              "ticks": ""
             }
            },
            "type": "scattermapbox"
           }
          ],
          "scatterpolar": [
           {
            "marker": {
             "colorbar": {
              "outlinewidth": 0,
              "ticks": ""
             }
            },
            "type": "scatterpolar"
           }
          ],
          "scatterpolargl": [
           {
            "marker": {
             "colorbar": {
              "outlinewidth": 0,
              "ticks": ""
             }
            },
            "type": "scatterpolargl"
           }
          ],
          "scatterternary": [
           {
            "marker": {
             "colorbar": {
              "outlinewidth": 0,
              "ticks": ""
             }
            },
            "type": "scatterternary"
           }
          ],
          "surface": [
           {
            "colorbar": {
             "outlinewidth": 0,
             "ticks": ""
            },
            "colorscale": [
             [
              0,
              "#0d0887"
             ],
             [
              0.1111111111111111,
              "#46039f"
             ],
             [
              0.2222222222222222,
              "#7201a8"
             ],
             [
              0.3333333333333333,
              "#9c179e"
             ],
             [
              0.4444444444444444,
              "#bd3786"
             ],
             [
              0.5555555555555556,
              "#d8576b"
             ],
             [
              0.6666666666666666,
              "#ed7953"
             ],
             [
              0.7777777777777778,
              "#fb9f3a"
             ],
             [
              0.8888888888888888,
              "#fdca26"
             ],
             [
              1,
              "#f0f921"
             ]
            ],
            "type": "surface"
           }
          ],
          "table": [
           {
            "cells": {
             "fill": {
              "color": "#EBF0F8"
             },
             "line": {
              "color": "white"
             }
            },
            "header": {
             "fill": {
              "color": "#C8D4E3"
             },
             "line": {
              "color": "white"
             }
            },
            "type": "table"
           }
          ]
         },
         "layout": {
          "annotationdefaults": {
           "arrowcolor": "#2a3f5f",
           "arrowhead": 0,
           "arrowwidth": 1
          },
          "coloraxis": {
           "colorbar": {
            "outlinewidth": 0,
            "ticks": ""
           }
          },
          "colorscale": {
           "diverging": [
            [
             0,
             "#8e0152"
            ],
            [
             0.1,
             "#c51b7d"
            ],
            [
             0.2,
             "#de77ae"
            ],
            [
             0.3,
             "#f1b6da"
            ],
            [
             0.4,
             "#fde0ef"
            ],
            [
             0.5,
             "#f7f7f7"
            ],
            [
             0.6,
             "#e6f5d0"
            ],
            [
             0.7,
             "#b8e186"
            ],
            [
             0.8,
             "#7fbc41"
            ],
            [
             0.9,
             "#4d9221"
            ],
            [
             1,
             "#276419"
            ]
           ],
           "sequential": [
            [
             0,
             "#0d0887"
            ],
            [
             0.1111111111111111,
             "#46039f"
            ],
            [
             0.2222222222222222,
             "#7201a8"
            ],
            [
             0.3333333333333333,
             "#9c179e"
            ],
            [
             0.4444444444444444,
             "#bd3786"
            ],
            [
             0.5555555555555556,
             "#d8576b"
            ],
            [
             0.6666666666666666,
             "#ed7953"
            ],
            [
             0.7777777777777778,
             "#fb9f3a"
            ],
            [
             0.8888888888888888,
             "#fdca26"
            ],
            [
             1,
             "#f0f921"
            ]
           ],
           "sequentialminus": [
            [
             0,
             "#0d0887"
            ],
            [
             0.1111111111111111,
             "#46039f"
            ],
            [
             0.2222222222222222,
             "#7201a8"
            ],
            [
             0.3333333333333333,
             "#9c179e"
            ],
            [
             0.4444444444444444,
             "#bd3786"
            ],
            [
             0.5555555555555556,
             "#d8576b"
            ],
            [
             0.6666666666666666,
             "#ed7953"
            ],
            [
             0.7777777777777778,
             "#fb9f3a"
            ],
            [
             0.8888888888888888,
             "#fdca26"
            ],
            [
             1,
             "#f0f921"
            ]
           ]
          },
          "colorway": [
           "#636efa",
           "#EF553B",
           "#00cc96",
           "#ab63fa",
           "#FFA15A",
           "#19d3f3",
           "#FF6692",
           "#B6E880",
           "#FF97FF",
           "#FECB52"
          ],
          "font": {
           "color": "#2a3f5f"
          },
          "geo": {
           "bgcolor": "white",
           "lakecolor": "white",
           "landcolor": "#E5ECF6",
           "showlakes": true,
           "showland": true,
           "subunitcolor": "white"
          },
          "hoverlabel": {
           "align": "left"
          },
          "hovermode": "closest",
          "mapbox": {
           "style": "light"
          },
          "paper_bgcolor": "white",
          "plot_bgcolor": "#E5ECF6",
          "polar": {
           "angularaxis": {
            "gridcolor": "white",
            "linecolor": "white",
            "ticks": ""
           },
           "bgcolor": "#E5ECF6",
           "radialaxis": {
            "gridcolor": "white",
            "linecolor": "white",
            "ticks": ""
           }
          },
          "scene": {
           "xaxis": {
            "backgroundcolor": "#E5ECF6",
            "gridcolor": "white",
            "gridwidth": 2,
            "linecolor": "white",
            "showbackground": true,
            "ticks": "",
            "zerolinecolor": "white"
           },
           "yaxis": {
            "backgroundcolor": "#E5ECF6",
            "gridcolor": "white",
            "gridwidth": 2,
            "linecolor": "white",
            "showbackground": true,
            "ticks": "",
            "zerolinecolor": "white"
           },
           "zaxis": {
            "backgroundcolor": "#E5ECF6",
            "gridcolor": "white",
            "gridwidth": 2,
            "linecolor": "white",
            "showbackground": true,
            "ticks": "",
            "zerolinecolor": "white"
           }
          },
          "shapedefaults": {
           "line": {
            "color": "#2a3f5f"
           }
          },
          "ternary": {
           "aaxis": {
            "gridcolor": "white",
            "linecolor": "white",
            "ticks": ""
           },
           "baxis": {
            "gridcolor": "white",
            "linecolor": "white",
            "ticks": ""
           },
           "bgcolor": "#E5ECF6",
           "caxis": {
            "gridcolor": "white",
            "linecolor": "white",
            "ticks": ""
           }
          },
          "title": {
           "x": 0.05
          },
          "xaxis": {
           "automargin": true,
           "gridcolor": "white",
           "linecolor": "white",
           "ticks": "",
           "title": {
            "standoff": 15
           },
           "zerolinecolor": "white",
           "zerolinewidth": 2
          },
          "yaxis": {
           "automargin": true,
           "gridcolor": "white",
           "linecolor": "white",
           "ticks": "",
           "title": {
            "standoff": 15
           },
           "zerolinecolor": "white",
           "zerolinewidth": 2
          }
         }
        },
        "title": {
         "text": "Views & Genres|Movies"
        },
        "xaxis": {
         "title": {
          "text": "Genres"
         }
        },
        "yaxis": {
         "title": {
          "text": "Counts"
         }
        }
       }
      },
      "text/html": [
       "<div>\n",
       "        \n",
       "        \n",
       "            <div id=\"3944b1c9-54d1-4fad-8aa2-6d8280c4b8f2\" class=\"plotly-graph-div\" style=\"height:525px; width:100%;\"></div>\n",
       "            <script type=\"text/javascript\">\n",
       "                require([\"plotly\"], function(Plotly) {\n",
       "                    window.PLOTLYENV=window.PLOTLYENV || {};\n",
       "                    \n",
       "                if (document.getElementById(\"3944b1c9-54d1-4fad-8aa2-6d8280c4b8f2\")) {\n",
       "                    Plotly.newPlot(\n",
       "                        '3944b1c9-54d1-4fad-8aa2-6d8280c4b8f2',\n",
       "                        [{\"name\": \"Top 100 Most Watched Movies\", \"type\": \"bar\", \"x\": [\"Action\", \"Adventure\", \"Animation\", \"Biography\", \"Comedy\", \"Crime\", \"Drama\", \"Family\", \"Fantasy\", \"History\", \"Horror\", \"Music\", \"Mystery\", \"Romance\", \"Sci-Fi\", \"Sport\", \"Thriller\", \"Western\"], \"y\": [57, 57, 14, 2, 34, 12, 23, 19, 28, 1, 15, 2, 6, 11, 39, 1, 32, 1]}, {\"name\": \"Bottom 100 Most Watched Movies\", \"type\": \"bar\", \"x\": [\"Action\", \"Adventure\", \"Animation\", \"Biography\", \"Comedy\", \"Crime\", \"Documentary\", \"Drama\", \"Family\", \"Fantasy\", \"History\", \"Horror\", \"Kungfu\", \"Music\", \"Mystery\", \"Reality-TV\", \"Romance\", \"Sci-Fi\", \"Sport\", \"Thriller\", \"War\"], \"y\": [29, 16, 8, 2, 34, 10, 1, 45, 10, 10, 5, 8, 1, 1, 8, 1, 17, 8, 1, 26, 5]}],\n",
       "                        {\"template\": {\"data\": {\"bar\": [{\"error_x\": {\"color\": \"#2a3f5f\"}, \"error_y\": {\"color\": \"#2a3f5f\"}, \"marker\": {\"line\": {\"color\": \"#E5ECF6\", \"width\": 0.5}}, \"type\": \"bar\"}], \"barpolar\": [{\"marker\": {\"line\": {\"color\": \"#E5ECF6\", \"width\": 0.5}}, \"type\": \"barpolar\"}], \"carpet\": [{\"aaxis\": {\"endlinecolor\": \"#2a3f5f\", \"gridcolor\": \"white\", \"linecolor\": \"white\", \"minorgridcolor\": \"white\", \"startlinecolor\": \"#2a3f5f\"}, \"baxis\": {\"endlinecolor\": \"#2a3f5f\", \"gridcolor\": \"white\", \"linecolor\": \"white\", \"minorgridcolor\": \"white\", \"startlinecolor\": \"#2a3f5f\"}, \"type\": \"carpet\"}], \"choropleth\": [{\"colorbar\": {\"outlinewidth\": 0, \"ticks\": \"\"}, \"type\": \"choropleth\"}], \"contour\": [{\"colorbar\": {\"outlinewidth\": 0, \"ticks\": \"\"}, \"colorscale\": [[0.0, \"#0d0887\"], [0.1111111111111111, \"#46039f\"], [0.2222222222222222, \"#7201a8\"], [0.3333333333333333, \"#9c179e\"], [0.4444444444444444, \"#bd3786\"], [0.5555555555555556, \"#d8576b\"], [0.6666666666666666, \"#ed7953\"], [0.7777777777777778, \"#fb9f3a\"], [0.8888888888888888, \"#fdca26\"], [1.0, \"#f0f921\"]], \"type\": \"contour\"}], \"contourcarpet\": [{\"colorbar\": {\"outlinewidth\": 0, \"ticks\": \"\"}, \"type\": \"contourcarpet\"}], \"heatmap\": [{\"colorbar\": {\"outlinewidth\": 0, \"ticks\": \"\"}, \"colorscale\": [[0.0, \"#0d0887\"], [0.1111111111111111, \"#46039f\"], [0.2222222222222222, \"#7201a8\"], [0.3333333333333333, \"#9c179e\"], [0.4444444444444444, \"#bd3786\"], [0.5555555555555556, \"#d8576b\"], [0.6666666666666666, \"#ed7953\"], [0.7777777777777778, \"#fb9f3a\"], [0.8888888888888888, \"#fdca26\"], [1.0, \"#f0f921\"]], \"type\": \"heatmap\"}], \"heatmapgl\": [{\"colorbar\": {\"outlinewidth\": 0, \"ticks\": \"\"}, \"colorscale\": [[0.0, \"#0d0887\"], [0.1111111111111111, \"#46039f\"], [0.2222222222222222, \"#7201a8\"], [0.3333333333333333, \"#9c179e\"], [0.4444444444444444, \"#bd3786\"], [0.5555555555555556, \"#d8576b\"], [0.6666666666666666, \"#ed7953\"], [0.7777777777777778, \"#fb9f3a\"], [0.8888888888888888, \"#fdca26\"], [1.0, \"#f0f921\"]], \"type\": \"heatmapgl\"}], \"histogram\": [{\"marker\": {\"colorbar\": {\"outlinewidth\": 0, \"ticks\": \"\"}}, \"type\": \"histogram\"}], \"histogram2d\": [{\"colorbar\": {\"outlinewidth\": 0, \"ticks\": \"\"}, \"colorscale\": [[0.0, \"#0d0887\"], [0.1111111111111111, \"#46039f\"], [0.2222222222222222, \"#7201a8\"], [0.3333333333333333, \"#9c179e\"], [0.4444444444444444, \"#bd3786\"], [0.5555555555555556, \"#d8576b\"], [0.6666666666666666, \"#ed7953\"], [0.7777777777777778, \"#fb9f3a\"], [0.8888888888888888, \"#fdca26\"], [1.0, \"#f0f921\"]], \"type\": \"histogram2d\"}], \"histogram2dcontour\": [{\"colorbar\": {\"outlinewidth\": 0, \"ticks\": \"\"}, \"colorscale\": [[0.0, \"#0d0887\"], [0.1111111111111111, \"#46039f\"], [0.2222222222222222, \"#7201a8\"], [0.3333333333333333, \"#9c179e\"], [0.4444444444444444, \"#bd3786\"], [0.5555555555555556, \"#d8576b\"], [0.6666666666666666, \"#ed7953\"], [0.7777777777777778, \"#fb9f3a\"], [0.8888888888888888, \"#fdca26\"], [1.0, \"#f0f921\"]], \"type\": \"histogram2dcontour\"}], \"mesh3d\": [{\"colorbar\": {\"outlinewidth\": 0, \"ticks\": \"\"}, \"type\": \"mesh3d\"}], \"parcoords\": [{\"line\": {\"colorbar\": {\"outlinewidth\": 0, \"ticks\": \"\"}}, \"type\": \"parcoords\"}], \"pie\": [{\"automargin\": true, \"type\": \"pie\"}], \"scatter\": [{\"marker\": {\"colorbar\": {\"outlinewidth\": 0, \"ticks\": \"\"}}, \"type\": \"scatter\"}], \"scatter3d\": [{\"line\": {\"colorbar\": {\"outlinewidth\": 0, \"ticks\": \"\"}}, \"marker\": {\"colorbar\": {\"outlinewidth\": 0, \"ticks\": \"\"}}, \"type\": \"scatter3d\"}], \"scattercarpet\": [{\"marker\": {\"colorbar\": {\"outlinewidth\": 0, \"ticks\": \"\"}}, \"type\": \"scattercarpet\"}], \"scattergeo\": [{\"marker\": {\"colorbar\": {\"outlinewidth\": 0, \"ticks\": \"\"}}, \"type\": \"scattergeo\"}], \"scattergl\": [{\"marker\": {\"colorbar\": {\"outlinewidth\": 0, \"ticks\": \"\"}}, \"type\": \"scattergl\"}], \"scattermapbox\": [{\"marker\": {\"colorbar\": {\"outlinewidth\": 0, \"ticks\": \"\"}}, \"type\": \"scattermapbox\"}], \"scatterpolar\": [{\"marker\": {\"colorbar\": {\"outlinewidth\": 0, \"ticks\": \"\"}}, \"type\": \"scatterpolar\"}], \"scatterpolargl\": [{\"marker\": {\"colorbar\": {\"outlinewidth\": 0, \"ticks\": \"\"}}, \"type\": \"scatterpolargl\"}], \"scatterternary\": [{\"marker\": {\"colorbar\": {\"outlinewidth\": 0, \"ticks\": \"\"}}, \"type\": \"scatterternary\"}], \"surface\": [{\"colorbar\": {\"outlinewidth\": 0, \"ticks\": \"\"}, \"colorscale\": [[0.0, \"#0d0887\"], [0.1111111111111111, \"#46039f\"], [0.2222222222222222, \"#7201a8\"], [0.3333333333333333, \"#9c179e\"], [0.4444444444444444, \"#bd3786\"], [0.5555555555555556, \"#d8576b\"], [0.6666666666666666, \"#ed7953\"], [0.7777777777777778, \"#fb9f3a\"], [0.8888888888888888, \"#fdca26\"], [1.0, \"#f0f921\"]], \"type\": \"surface\"}], \"table\": [{\"cells\": {\"fill\": {\"color\": \"#EBF0F8\"}, \"line\": {\"color\": \"white\"}}, \"header\": {\"fill\": {\"color\": \"#C8D4E3\"}, \"line\": {\"color\": \"white\"}}, \"type\": \"table\"}]}, \"layout\": {\"annotationdefaults\": {\"arrowcolor\": \"#2a3f5f\", \"arrowhead\": 0, \"arrowwidth\": 1}, \"coloraxis\": {\"colorbar\": {\"outlinewidth\": 0, \"ticks\": \"\"}}, \"colorscale\": {\"diverging\": [[0, \"#8e0152\"], [0.1, \"#c51b7d\"], [0.2, \"#de77ae\"], [0.3, \"#f1b6da\"], [0.4, \"#fde0ef\"], [0.5, \"#f7f7f7\"], [0.6, \"#e6f5d0\"], [0.7, \"#b8e186\"], [0.8, \"#7fbc41\"], [0.9, \"#4d9221\"], [1, \"#276419\"]], \"sequential\": [[0.0, \"#0d0887\"], [0.1111111111111111, \"#46039f\"], [0.2222222222222222, \"#7201a8\"], [0.3333333333333333, \"#9c179e\"], [0.4444444444444444, \"#bd3786\"], [0.5555555555555556, \"#d8576b\"], [0.6666666666666666, \"#ed7953\"], [0.7777777777777778, \"#fb9f3a\"], [0.8888888888888888, \"#fdca26\"], [1.0, \"#f0f921\"]], \"sequentialminus\": [[0.0, \"#0d0887\"], [0.1111111111111111, \"#46039f\"], [0.2222222222222222, \"#7201a8\"], [0.3333333333333333, \"#9c179e\"], [0.4444444444444444, \"#bd3786\"], [0.5555555555555556, \"#d8576b\"], [0.6666666666666666, \"#ed7953\"], [0.7777777777777778, \"#fb9f3a\"], [0.8888888888888888, \"#fdca26\"], [1.0, \"#f0f921\"]]}, \"colorway\": [\"#636efa\", \"#EF553B\", \"#00cc96\", \"#ab63fa\", \"#FFA15A\", \"#19d3f3\", \"#FF6692\", \"#B6E880\", \"#FF97FF\", \"#FECB52\"], \"font\": {\"color\": \"#2a3f5f\"}, \"geo\": {\"bgcolor\": \"white\", \"lakecolor\": \"white\", \"landcolor\": \"#E5ECF6\", \"showlakes\": true, \"showland\": true, \"subunitcolor\": \"white\"}, \"hoverlabel\": {\"align\": \"left\"}, \"hovermode\": \"closest\", \"mapbox\": {\"style\": \"light\"}, \"paper_bgcolor\": \"white\", \"plot_bgcolor\": \"#E5ECF6\", \"polar\": {\"angularaxis\": {\"gridcolor\": \"white\", \"linecolor\": \"white\", \"ticks\": \"\"}, \"bgcolor\": \"#E5ECF6\", \"radialaxis\": {\"gridcolor\": \"white\", \"linecolor\": \"white\", \"ticks\": \"\"}}, \"scene\": {\"xaxis\": {\"backgroundcolor\": \"#E5ECF6\", \"gridcolor\": \"white\", \"gridwidth\": 2, \"linecolor\": \"white\", \"showbackground\": true, \"ticks\": \"\", \"zerolinecolor\": \"white\"}, \"yaxis\": {\"backgroundcolor\": \"#E5ECF6\", \"gridcolor\": \"white\", \"gridwidth\": 2, \"linecolor\": \"white\", \"showbackground\": true, \"ticks\": \"\", \"zerolinecolor\": \"white\"}, \"zaxis\": {\"backgroundcolor\": \"#E5ECF6\", \"gridcolor\": \"white\", \"gridwidth\": 2, \"linecolor\": \"white\", \"showbackground\": true, \"ticks\": \"\", \"zerolinecolor\": \"white\"}}, \"shapedefaults\": {\"line\": {\"color\": \"#2a3f5f\"}}, \"ternary\": {\"aaxis\": {\"gridcolor\": \"white\", \"linecolor\": \"white\", \"ticks\": \"\"}, \"baxis\": {\"gridcolor\": \"white\", \"linecolor\": \"white\", \"ticks\": \"\"}, \"bgcolor\": \"#E5ECF6\", \"caxis\": {\"gridcolor\": \"white\", \"linecolor\": \"white\", \"ticks\": \"\"}}, \"title\": {\"x\": 0.05}, \"xaxis\": {\"automargin\": true, \"gridcolor\": \"white\", \"linecolor\": \"white\", \"ticks\": \"\", \"title\": {\"standoff\": 15}, \"zerolinecolor\": \"white\", \"zerolinewidth\": 2}, \"yaxis\": {\"automargin\": true, \"gridcolor\": \"white\", \"linecolor\": \"white\", \"ticks\": \"\", \"title\": {\"standoff\": 15}, \"zerolinecolor\": \"white\", \"zerolinewidth\": 2}}}, \"title\": {\"text\": \"Views & Genres|Movies\"}, \"xaxis\": {\"title\": {\"text\": \"Genres\"}}, \"yaxis\": {\"title\": {\"text\": \"Counts\"}}},\n",
       "                        {\"responsive\": true}\n",
       "                    ).then(function(){\n",
       "                            \n",
       "var gd = document.getElementById('3944b1c9-54d1-4fad-8aa2-6d8280c4b8f2');\n",
       "var x = new MutationObserver(function (mutations, observer) {{\n",
       "        var display = window.getComputedStyle(gd).display;\n",
       "        if (!display || display === 'none') {{\n",
       "            console.log([gd, 'removed!']);\n",
       "            Plotly.purge(gd);\n",
       "            observer.disconnect();\n",
       "        }}\n",
       "}});\n",
       "\n",
       "// Listen for the removal of the full notebook cells\n",
       "var notebookContainer = gd.closest('#notebook-container');\n",
       "if (notebookContainer) {{\n",
       "    x.observe(notebookContainer, {childList: true});\n",
       "}}\n",
       "\n",
       "// Listen for the clearing of the current output cell\n",
       "var outputEl = gd.closest('.output');\n",
       "if (outputEl) {{\n",
       "    x.observe(outputEl, {childList: true});\n",
       "}}\n",
       "\n",
       "                        })\n",
       "                };\n",
       "                });\n",
       "            </script>\n",
       "        </div>"
      ]
     },
     "metadata": {},
     "output_type": "display_data"
    }
   ],
   "source": [
    "fig = go.Figure()\n",
    "fig.add_trace(go.Bar(x=top_100_mv_genre_counts[0], y=top_100_mv_genre_counts[1], name=\"Top 100 Most Watched Movies\"))\n",
    "fig.add_trace(go.Bar(x=bottom_100_mv_genre_counts[0], y=bottom_100_mv_genre_counts[1], name=\"Bottom 100 Most Watched Movies\"))\n",
    "fig.update_layout(title=\"Views & Genres|Movies\", xaxis_title=\"Genres\", yaxis_title=\"Counts\")"
   ]
  },
  {
   "cell_type": "markdown",
   "metadata": {},
   "source": [
    "Its seems among **Action, Adventures,Sci-Fi, Fantasy** are the genres that are very popular in general. Moreover, **Comedy** is like a potato, bleding in anywhere. \n",
    "\n",
    "Genres like **Drama, Romance** top the chart amons least watched, while **Documentary, war** does not seems to crowd favorite as these genres attract only a certain group of people.\n",
    "\n",
    "But at the end of the day, either be movies or tvs, their popularity depends on many other factors like story, plot, cast, marketing, producers, star casts and so on."
   ]
  },
  {
   "cell_type": "markdown",
   "metadata": {},
   "source": [
    "### Top TVs VS. Genres"
   ]
  },
  {
   "cell_type": "code",
   "execution_count": 63,
   "metadata": {
    "ExecuteTime": {
     "end_time": "2020-07-15T04:12:01.772528Z",
     "start_time": "2020-07-15T04:12:01.744534Z"
    }
   },
   "outputs": [],
   "source": [
    "site_ranks_tv = tv_df[['TV_NAME','SITE_RANK','USER_REVIEWS_LOCAL','IMDB','NUMBER_REVIEWS_LOCAL']].sort_values('SITE_RANK')\n",
    "site_ranks_tv.drop_duplicates('TV_NAME', inplace=True)\n"
   ]
  },
  {
   "cell_type": "code",
   "execution_count": 64,
   "metadata": {
    "ExecuteTime": {
     "end_time": "2020-07-15T04:12:02.026531Z",
     "start_time": "2020-07-15T04:12:01.775530Z"
    }
   },
   "outputs": [],
   "source": [
    "top_100_tvs = site_ranks_tv.iloc[:100,0].values.tolist()\n",
    "bottom_100_tvs = site_ranks_tv.iloc[-100:,0].values.tolist()\n",
    "\n",
    "top_100_tv_genres = np.array([])\n",
    "bottom_100_tv_genres = np.array([])\n",
    "\n",
    "for tv in top_100_tvs:\n",
    "    val = tv_df[tv_df.TV_NAME == tv]['GENRE'].values\n",
    "    top_100_tv_genres = np.append(top_100_tv_genres,val)\n",
    "    \n",
    "    \n",
    "for tv in bottom_100_tvs:\n",
    "    val = tv_df[tv_df.TV_NAME == tv]['GENRE'].values\n",
    "    bottom_100_tv_genres = np.append(bottom_100_tv_genres,val)\n",
    "\n",
    "\n",
    "top_100_tv_genre_counts = np.unique(top_100_tv_genres,return_counts=True, )\n",
    "bottom_100_tv_genre_counts = np.unique(bottom_100_tv_genres,return_counts=True, )"
   ]
  },
  {
   "cell_type": "code",
   "execution_count": 65,
   "metadata": {
    "ExecuteTime": {
     "end_time": "2020-07-15T04:12:02.058531Z",
     "start_time": "2020-07-15T04:12:02.029534Z"
    }
   },
   "outputs": [
    {
     "data": {
      "application/vnd.plotly.v1+json": {
       "config": {
        "plotlyServerURL": "https://plot.ly"
       },
       "data": [
        {
         "name": "Top 100 Most Watched TVs",
         "type": "bar",
         "x": [
          "Action",
          "Adventure",
          "Animation",
          "Comedy",
          "Crime",
          "Drama",
          "Family",
          "Fantasy",
          "History",
          "Horror",
          "Music",
          "Mystery",
          "Romance",
          "Sci-Fi",
          "Sport",
          "Thriller",
          "War",
          "Western"
         ],
         "y": [
          32,
          16,
          7,
          24,
          34,
          79,
          3,
          14,
          1,
          9,
          2,
          17,
          9,
          20,
          2,
          24,
          2,
          1
         ]
        },
        {
         "name": "Bottom 100 Most Watched TVs",
         "type": "bar",
         "x": [
          "Action",
          "Adventure",
          "Animation",
          "Comedy",
          "Crime",
          "Documentary",
          "Drama",
          "Family",
          "Fantasy",
          "Game-Show",
          "History",
          "Horror",
          "Music",
          "Mystery",
          "Reality-TV",
          "Romance",
          "Sci-Fi",
          "TV Show",
          "Thriller",
          "Western"
         ],
         "y": [
          13,
          9,
          7,
          29,
          13,
          1,
          49,
          6,
          12,
          3,
          3,
          9,
          2,
          16,
          15,
          13,
          18,
          1,
          16,
          2
         ]
        }
       ],
       "layout": {
        "template": {
         "data": {
          "bar": [
           {
            "error_x": {
             "color": "#2a3f5f"
            },
            "error_y": {
             "color": "#2a3f5f"
            },
            "marker": {
             "line": {
              "color": "#E5ECF6",
              "width": 0.5
             }
            },
            "type": "bar"
           }
          ],
          "barpolar": [
           {
            "marker": {
             "line": {
              "color": "#E5ECF6",
              "width": 0.5
             }
            },
            "type": "barpolar"
           }
          ],
          "carpet": [
           {
            "aaxis": {
             "endlinecolor": "#2a3f5f",
             "gridcolor": "white",
             "linecolor": "white",
             "minorgridcolor": "white",
             "startlinecolor": "#2a3f5f"
            },
            "baxis": {
             "endlinecolor": "#2a3f5f",
             "gridcolor": "white",
             "linecolor": "white",
             "minorgridcolor": "white",
             "startlinecolor": "#2a3f5f"
            },
            "type": "carpet"
           }
          ],
          "choropleth": [
           {
            "colorbar": {
             "outlinewidth": 0,
             "ticks": ""
            },
            "type": "choropleth"
           }
          ],
          "contour": [
           {
            "colorbar": {
             "outlinewidth": 0,
             "ticks": ""
            },
            "colorscale": [
             [
              0,
              "#0d0887"
             ],
             [
              0.1111111111111111,
              "#46039f"
             ],
             [
              0.2222222222222222,
              "#7201a8"
             ],
             [
              0.3333333333333333,
              "#9c179e"
             ],
             [
              0.4444444444444444,
              "#bd3786"
             ],
             [
              0.5555555555555556,
              "#d8576b"
             ],
             [
              0.6666666666666666,
              "#ed7953"
             ],
             [
              0.7777777777777778,
              "#fb9f3a"
             ],
             [
              0.8888888888888888,
              "#fdca26"
             ],
             [
              1,
              "#f0f921"
             ]
            ],
            "type": "contour"
           }
          ],
          "contourcarpet": [
           {
            "colorbar": {
             "outlinewidth": 0,
             "ticks": ""
            },
            "type": "contourcarpet"
           }
          ],
          "heatmap": [
           {
            "colorbar": {
             "outlinewidth": 0,
             "ticks": ""
            },
            "colorscale": [
             [
              0,
              "#0d0887"
             ],
             [
              0.1111111111111111,
              "#46039f"
             ],
             [
              0.2222222222222222,
              "#7201a8"
             ],
             [
              0.3333333333333333,
              "#9c179e"
             ],
             [
              0.4444444444444444,
              "#bd3786"
             ],
             [
              0.5555555555555556,
              "#d8576b"
             ],
             [
              0.6666666666666666,
              "#ed7953"
             ],
             [
              0.7777777777777778,
              "#fb9f3a"
             ],
             [
              0.8888888888888888,
              "#fdca26"
             ],
             [
              1,
              "#f0f921"
             ]
            ],
            "type": "heatmap"
           }
          ],
          "heatmapgl": [
           {
            "colorbar": {
             "outlinewidth": 0,
             "ticks": ""
            },
            "colorscale": [
             [
              0,
              "#0d0887"
             ],
             [
              0.1111111111111111,
              "#46039f"
             ],
             [
              0.2222222222222222,
              "#7201a8"
             ],
             [
              0.3333333333333333,
              "#9c179e"
             ],
             [
              0.4444444444444444,
              "#bd3786"
             ],
             [
              0.5555555555555556,
              "#d8576b"
             ],
             [
              0.6666666666666666,
              "#ed7953"
             ],
             [
              0.7777777777777778,
              "#fb9f3a"
             ],
             [
              0.8888888888888888,
              "#fdca26"
             ],
             [
              1,
              "#f0f921"
             ]
            ],
            "type": "heatmapgl"
           }
          ],
          "histogram": [
           {
            "marker": {
             "colorbar": {
              "outlinewidth": 0,
              "ticks": ""
             }
            },
            "type": "histogram"
           }
          ],
          "histogram2d": [
           {
            "colorbar": {
             "outlinewidth": 0,
             "ticks": ""
            },
            "colorscale": [
             [
              0,
              "#0d0887"
             ],
             [
              0.1111111111111111,
              "#46039f"
             ],
             [
              0.2222222222222222,
              "#7201a8"
             ],
             [
              0.3333333333333333,
              "#9c179e"
             ],
             [
              0.4444444444444444,
              "#bd3786"
             ],
             [
              0.5555555555555556,
              "#d8576b"
             ],
             [
              0.6666666666666666,
              "#ed7953"
             ],
             [
              0.7777777777777778,
              "#fb9f3a"
             ],
             [
              0.8888888888888888,
              "#fdca26"
             ],
             [
              1,
              "#f0f921"
             ]
            ],
            "type": "histogram2d"
           }
          ],
          "histogram2dcontour": [
           {
            "colorbar": {
             "outlinewidth": 0,
             "ticks": ""
            },
            "colorscale": [
             [
              0,
              "#0d0887"
             ],
             [
              0.1111111111111111,
              "#46039f"
             ],
             [
              0.2222222222222222,
              "#7201a8"
             ],
             [
              0.3333333333333333,
              "#9c179e"
             ],
             [
              0.4444444444444444,
              "#bd3786"
             ],
             [
              0.5555555555555556,
              "#d8576b"
             ],
             [
              0.6666666666666666,
              "#ed7953"
             ],
             [
              0.7777777777777778,
              "#fb9f3a"
             ],
             [
              0.8888888888888888,
              "#fdca26"
             ],
             [
              1,
              "#f0f921"
             ]
            ],
            "type": "histogram2dcontour"
           }
          ],
          "mesh3d": [
           {
            "colorbar": {
             "outlinewidth": 0,
             "ticks": ""
            },
            "type": "mesh3d"
           }
          ],
          "parcoords": [
           {
            "line": {
             "colorbar": {
              "outlinewidth": 0,
              "ticks": ""
             }
            },
            "type": "parcoords"
           }
          ],
          "pie": [
           {
            "automargin": true,
            "type": "pie"
           }
          ],
          "scatter": [
           {
            "marker": {
             "colorbar": {
              "outlinewidth": 0,
              "ticks": ""
             }
            },
            "type": "scatter"
           }
          ],
          "scatter3d": [
           {
            "line": {
             "colorbar": {
              "outlinewidth": 0,
              "ticks": ""
             }
            },
            "marker": {
             "colorbar": {
              "outlinewidth": 0,
              "ticks": ""
             }
            },
            "type": "scatter3d"
           }
          ],
          "scattercarpet": [
           {
            "marker": {
             "colorbar": {
              "outlinewidth": 0,
              "ticks": ""
             }
            },
            "type": "scattercarpet"
           }
          ],
          "scattergeo": [
           {
            "marker": {
             "colorbar": {
              "outlinewidth": 0,
              "ticks": ""
             }
            },
            "type": "scattergeo"
           }
          ],
          "scattergl": [
           {
            "marker": {
             "colorbar": {
              "outlinewidth": 0,
              "ticks": ""
             }
            },
            "type": "scattergl"
           }
          ],
          "scattermapbox": [
           {
            "marker": {
             "colorbar": {
              "outlinewidth": 0,
              "ticks": ""
             }
            },
            "type": "scattermapbox"
           }
          ],
          "scatterpolar": [
           {
            "marker": {
             "colorbar": {
              "outlinewidth": 0,
              "ticks": ""
             }
            },
            "type": "scatterpolar"
           }
          ],
          "scatterpolargl": [
           {
            "marker": {
             "colorbar": {
              "outlinewidth": 0,
              "ticks": ""
             }
            },
            "type": "scatterpolargl"
           }
          ],
          "scatterternary": [
           {
            "marker": {
             "colorbar": {
              "outlinewidth": 0,
              "ticks": ""
             }
            },
            "type": "scatterternary"
           }
          ],
          "surface": [
           {
            "colorbar": {
             "outlinewidth": 0,
             "ticks": ""
            },
            "colorscale": [
             [
              0,
              "#0d0887"
             ],
             [
              0.1111111111111111,
              "#46039f"
             ],
             [
              0.2222222222222222,
              "#7201a8"
             ],
             [
              0.3333333333333333,
              "#9c179e"
             ],
             [
              0.4444444444444444,
              "#bd3786"
             ],
             [
              0.5555555555555556,
              "#d8576b"
             ],
             [
              0.6666666666666666,
              "#ed7953"
             ],
             [
              0.7777777777777778,
              "#fb9f3a"
             ],
             [
              0.8888888888888888,
              "#fdca26"
             ],
             [
              1,
              "#f0f921"
             ]
            ],
            "type": "surface"
           }
          ],
          "table": [
           {
            "cells": {
             "fill": {
              "color": "#EBF0F8"
             },
             "line": {
              "color": "white"
             }
            },
            "header": {
             "fill": {
              "color": "#C8D4E3"
             },
             "line": {
              "color": "white"
             }
            },
            "type": "table"
           }
          ]
         },
         "layout": {
          "annotationdefaults": {
           "arrowcolor": "#2a3f5f",
           "arrowhead": 0,
           "arrowwidth": 1
          },
          "coloraxis": {
           "colorbar": {
            "outlinewidth": 0,
            "ticks": ""
           }
          },
          "colorscale": {
           "diverging": [
            [
             0,
             "#8e0152"
            ],
            [
             0.1,
             "#c51b7d"
            ],
            [
             0.2,
             "#de77ae"
            ],
            [
             0.3,
             "#f1b6da"
            ],
            [
             0.4,
             "#fde0ef"
            ],
            [
             0.5,
             "#f7f7f7"
            ],
            [
             0.6,
             "#e6f5d0"
            ],
            [
             0.7,
             "#b8e186"
            ],
            [
             0.8,
             "#7fbc41"
            ],
            [
             0.9,
             "#4d9221"
            ],
            [
             1,
             "#276419"
            ]
           ],
           "sequential": [
            [
             0,
             "#0d0887"
            ],
            [
             0.1111111111111111,
             "#46039f"
            ],
            [
             0.2222222222222222,
             "#7201a8"
            ],
            [
             0.3333333333333333,
             "#9c179e"
            ],
            [
             0.4444444444444444,
             "#bd3786"
            ],
            [
             0.5555555555555556,
             "#d8576b"
            ],
            [
             0.6666666666666666,
             "#ed7953"
            ],
            [
             0.7777777777777778,
             "#fb9f3a"
            ],
            [
             0.8888888888888888,
             "#fdca26"
            ],
            [
             1,
             "#f0f921"
            ]
           ],
           "sequentialminus": [
            [
             0,
             "#0d0887"
            ],
            [
             0.1111111111111111,
             "#46039f"
            ],
            [
             0.2222222222222222,
             "#7201a8"
            ],
            [
             0.3333333333333333,
             "#9c179e"
            ],
            [
             0.4444444444444444,
             "#bd3786"
            ],
            [
             0.5555555555555556,
             "#d8576b"
            ],
            [
             0.6666666666666666,
             "#ed7953"
            ],
            [
             0.7777777777777778,
             "#fb9f3a"
            ],
            [
             0.8888888888888888,
             "#fdca26"
            ],
            [
             1,
             "#f0f921"
            ]
           ]
          },
          "colorway": [
           "#636efa",
           "#EF553B",
           "#00cc96",
           "#ab63fa",
           "#FFA15A",
           "#19d3f3",
           "#FF6692",
           "#B6E880",
           "#FF97FF",
           "#FECB52"
          ],
          "font": {
           "color": "#2a3f5f"
          },
          "geo": {
           "bgcolor": "white",
           "lakecolor": "white",
           "landcolor": "#E5ECF6",
           "showlakes": true,
           "showland": true,
           "subunitcolor": "white"
          },
          "hoverlabel": {
           "align": "left"
          },
          "hovermode": "closest",
          "mapbox": {
           "style": "light"
          },
          "paper_bgcolor": "white",
          "plot_bgcolor": "#E5ECF6",
          "polar": {
           "angularaxis": {
            "gridcolor": "white",
            "linecolor": "white",
            "ticks": ""
           },
           "bgcolor": "#E5ECF6",
           "radialaxis": {
            "gridcolor": "white",
            "linecolor": "white",
            "ticks": ""
           }
          },
          "scene": {
           "xaxis": {
            "backgroundcolor": "#E5ECF6",
            "gridcolor": "white",
            "gridwidth": 2,
            "linecolor": "white",
            "showbackground": true,
            "ticks": "",
            "zerolinecolor": "white"
           },
           "yaxis": {
            "backgroundcolor": "#E5ECF6",
            "gridcolor": "white",
            "gridwidth": 2,
            "linecolor": "white",
            "showbackground": true,
            "ticks": "",
            "zerolinecolor": "white"
           },
           "zaxis": {
            "backgroundcolor": "#E5ECF6",
            "gridcolor": "white",
            "gridwidth": 2,
            "linecolor": "white",
            "showbackground": true,
            "ticks": "",
            "zerolinecolor": "white"
           }
          },
          "shapedefaults": {
           "line": {
            "color": "#2a3f5f"
           }
          },
          "ternary": {
           "aaxis": {
            "gridcolor": "white",
            "linecolor": "white",
            "ticks": ""
           },
           "baxis": {
            "gridcolor": "white",
            "linecolor": "white",
            "ticks": ""
           },
           "bgcolor": "#E5ECF6",
           "caxis": {
            "gridcolor": "white",
            "linecolor": "white",
            "ticks": ""
           }
          },
          "title": {
           "x": 0.05
          },
          "xaxis": {
           "automargin": true,
           "gridcolor": "white",
           "linecolor": "white",
           "ticks": "",
           "title": {
            "standoff": 15
           },
           "zerolinecolor": "white",
           "zerolinewidth": 2
          },
          "yaxis": {
           "automargin": true,
           "gridcolor": "white",
           "linecolor": "white",
           "ticks": "",
           "title": {
            "standoff": 15
           },
           "zerolinecolor": "white",
           "zerolinewidth": 2
          }
         }
        },
        "title": {
         "text": "Views & Genres|TV"
        },
        "xaxis": {
         "title": {
          "text": "Genres"
         }
        },
        "yaxis": {
         "title": {
          "text": "Counts"
         }
        }
       }
      },
      "text/html": [
       "<div>\n",
       "        \n",
       "        \n",
       "            <div id=\"9b77e7ed-c3d4-4276-92b8-1f97d7eaafc7\" class=\"plotly-graph-div\" style=\"height:525px; width:100%;\"></div>\n",
       "            <script type=\"text/javascript\">\n",
       "                require([\"plotly\"], function(Plotly) {\n",
       "                    window.PLOTLYENV=window.PLOTLYENV || {};\n",
       "                    \n",
       "                if (document.getElementById(\"9b77e7ed-c3d4-4276-92b8-1f97d7eaafc7\")) {\n",
       "                    Plotly.newPlot(\n",
       "                        '9b77e7ed-c3d4-4276-92b8-1f97d7eaafc7',\n",
       "                        [{\"name\": \"Top 100 Most Watched TVs\", \"type\": \"bar\", \"x\": [\"Action\", \"Adventure\", \"Animation\", \"Comedy\", \"Crime\", \"Drama\", \"Family\", \"Fantasy\", \"History\", \"Horror\", \"Music\", \"Mystery\", \"Romance\", \"Sci-Fi\", \"Sport\", \"Thriller\", \"War\", \"Western\"], \"y\": [32, 16, 7, 24, 34, 79, 3, 14, 1, 9, 2, 17, 9, 20, 2, 24, 2, 1]}, {\"name\": \"Bottom 100 Most Watched TVs\", \"type\": \"bar\", \"x\": [\"Action\", \"Adventure\", \"Animation\", \"Comedy\", \"Crime\", \"Documentary\", \"Drama\", \"Family\", \"Fantasy\", \"Game-Show\", \"History\", \"Horror\", \"Music\", \"Mystery\", \"Reality-TV\", \"Romance\", \"Sci-Fi\", \"TV Show\", \"Thriller\", \"Western\"], \"y\": [13, 9, 7, 29, 13, 1, 49, 6, 12, 3, 3, 9, 2, 16, 15, 13, 18, 1, 16, 2]}],\n",
       "                        {\"template\": {\"data\": {\"bar\": [{\"error_x\": {\"color\": \"#2a3f5f\"}, \"error_y\": {\"color\": \"#2a3f5f\"}, \"marker\": {\"line\": {\"color\": \"#E5ECF6\", \"width\": 0.5}}, \"type\": \"bar\"}], \"barpolar\": [{\"marker\": {\"line\": {\"color\": \"#E5ECF6\", \"width\": 0.5}}, \"type\": \"barpolar\"}], \"carpet\": [{\"aaxis\": {\"endlinecolor\": \"#2a3f5f\", \"gridcolor\": \"white\", \"linecolor\": \"white\", \"minorgridcolor\": \"white\", \"startlinecolor\": \"#2a3f5f\"}, \"baxis\": {\"endlinecolor\": \"#2a3f5f\", \"gridcolor\": \"white\", \"linecolor\": \"white\", \"minorgridcolor\": \"white\", \"startlinecolor\": \"#2a3f5f\"}, \"type\": \"carpet\"}], \"choropleth\": [{\"colorbar\": {\"outlinewidth\": 0, \"ticks\": \"\"}, \"type\": \"choropleth\"}], \"contour\": [{\"colorbar\": {\"outlinewidth\": 0, \"ticks\": \"\"}, \"colorscale\": [[0.0, \"#0d0887\"], [0.1111111111111111, \"#46039f\"], [0.2222222222222222, \"#7201a8\"], [0.3333333333333333, \"#9c179e\"], [0.4444444444444444, \"#bd3786\"], [0.5555555555555556, \"#d8576b\"], [0.6666666666666666, \"#ed7953\"], [0.7777777777777778, \"#fb9f3a\"], [0.8888888888888888, \"#fdca26\"], [1.0, \"#f0f921\"]], \"type\": \"contour\"}], \"contourcarpet\": [{\"colorbar\": {\"outlinewidth\": 0, \"ticks\": \"\"}, \"type\": \"contourcarpet\"}], \"heatmap\": [{\"colorbar\": {\"outlinewidth\": 0, \"ticks\": \"\"}, \"colorscale\": [[0.0, \"#0d0887\"], [0.1111111111111111, \"#46039f\"], [0.2222222222222222, \"#7201a8\"], [0.3333333333333333, \"#9c179e\"], [0.4444444444444444, \"#bd3786\"], [0.5555555555555556, \"#d8576b\"], [0.6666666666666666, \"#ed7953\"], [0.7777777777777778, \"#fb9f3a\"], [0.8888888888888888, \"#fdca26\"], [1.0, \"#f0f921\"]], \"type\": \"heatmap\"}], \"heatmapgl\": [{\"colorbar\": {\"outlinewidth\": 0, \"ticks\": \"\"}, \"colorscale\": [[0.0, \"#0d0887\"], [0.1111111111111111, \"#46039f\"], [0.2222222222222222, \"#7201a8\"], [0.3333333333333333, \"#9c179e\"], [0.4444444444444444, \"#bd3786\"], [0.5555555555555556, \"#d8576b\"], [0.6666666666666666, \"#ed7953\"], [0.7777777777777778, \"#fb9f3a\"], [0.8888888888888888, \"#fdca26\"], [1.0, \"#f0f921\"]], \"type\": \"heatmapgl\"}], \"histogram\": [{\"marker\": {\"colorbar\": {\"outlinewidth\": 0, \"ticks\": \"\"}}, \"type\": \"histogram\"}], \"histogram2d\": [{\"colorbar\": {\"outlinewidth\": 0, \"ticks\": \"\"}, \"colorscale\": [[0.0, \"#0d0887\"], [0.1111111111111111, \"#46039f\"], [0.2222222222222222, \"#7201a8\"], [0.3333333333333333, \"#9c179e\"], [0.4444444444444444, \"#bd3786\"], [0.5555555555555556, \"#d8576b\"], [0.6666666666666666, \"#ed7953\"], [0.7777777777777778, \"#fb9f3a\"], [0.8888888888888888, \"#fdca26\"], [1.0, \"#f0f921\"]], \"type\": \"histogram2d\"}], \"histogram2dcontour\": [{\"colorbar\": {\"outlinewidth\": 0, \"ticks\": \"\"}, \"colorscale\": [[0.0, \"#0d0887\"], [0.1111111111111111, \"#46039f\"], [0.2222222222222222, \"#7201a8\"], [0.3333333333333333, \"#9c179e\"], [0.4444444444444444, \"#bd3786\"], [0.5555555555555556, \"#d8576b\"], [0.6666666666666666, \"#ed7953\"], [0.7777777777777778, \"#fb9f3a\"], [0.8888888888888888, \"#fdca26\"], [1.0, \"#f0f921\"]], \"type\": \"histogram2dcontour\"}], \"mesh3d\": [{\"colorbar\": {\"outlinewidth\": 0, \"ticks\": \"\"}, \"type\": \"mesh3d\"}], \"parcoords\": [{\"line\": {\"colorbar\": {\"outlinewidth\": 0, \"ticks\": \"\"}}, \"type\": \"parcoords\"}], \"pie\": [{\"automargin\": true, \"type\": \"pie\"}], \"scatter\": [{\"marker\": {\"colorbar\": {\"outlinewidth\": 0, \"ticks\": \"\"}}, \"type\": \"scatter\"}], \"scatter3d\": [{\"line\": {\"colorbar\": {\"outlinewidth\": 0, \"ticks\": \"\"}}, \"marker\": {\"colorbar\": {\"outlinewidth\": 0, \"ticks\": \"\"}}, \"type\": \"scatter3d\"}], \"scattercarpet\": [{\"marker\": {\"colorbar\": {\"outlinewidth\": 0, \"ticks\": \"\"}}, \"type\": \"scattercarpet\"}], \"scattergeo\": [{\"marker\": {\"colorbar\": {\"outlinewidth\": 0, \"ticks\": \"\"}}, \"type\": \"scattergeo\"}], \"scattergl\": [{\"marker\": {\"colorbar\": {\"outlinewidth\": 0, \"ticks\": \"\"}}, \"type\": \"scattergl\"}], \"scattermapbox\": [{\"marker\": {\"colorbar\": {\"outlinewidth\": 0, \"ticks\": \"\"}}, \"type\": \"scattermapbox\"}], \"scatterpolar\": [{\"marker\": {\"colorbar\": {\"outlinewidth\": 0, \"ticks\": \"\"}}, \"type\": \"scatterpolar\"}], \"scatterpolargl\": [{\"marker\": {\"colorbar\": {\"outlinewidth\": 0, \"ticks\": \"\"}}, \"type\": \"scatterpolargl\"}], \"scatterternary\": [{\"marker\": {\"colorbar\": {\"outlinewidth\": 0, \"ticks\": \"\"}}, \"type\": \"scatterternary\"}], \"surface\": [{\"colorbar\": {\"outlinewidth\": 0, \"ticks\": \"\"}, \"colorscale\": [[0.0, \"#0d0887\"], [0.1111111111111111, \"#46039f\"], [0.2222222222222222, \"#7201a8\"], [0.3333333333333333, \"#9c179e\"], [0.4444444444444444, \"#bd3786\"], [0.5555555555555556, \"#d8576b\"], [0.6666666666666666, \"#ed7953\"], [0.7777777777777778, \"#fb9f3a\"], [0.8888888888888888, \"#fdca26\"], [1.0, \"#f0f921\"]], \"type\": \"surface\"}], \"table\": [{\"cells\": {\"fill\": {\"color\": \"#EBF0F8\"}, \"line\": {\"color\": \"white\"}}, \"header\": {\"fill\": {\"color\": \"#C8D4E3\"}, \"line\": {\"color\": \"white\"}}, \"type\": \"table\"}]}, \"layout\": {\"annotationdefaults\": {\"arrowcolor\": \"#2a3f5f\", \"arrowhead\": 0, \"arrowwidth\": 1}, \"coloraxis\": {\"colorbar\": {\"outlinewidth\": 0, \"ticks\": \"\"}}, \"colorscale\": {\"diverging\": [[0, \"#8e0152\"], [0.1, \"#c51b7d\"], [0.2, \"#de77ae\"], [0.3, \"#f1b6da\"], [0.4, \"#fde0ef\"], [0.5, \"#f7f7f7\"], [0.6, \"#e6f5d0\"], [0.7, \"#b8e186\"], [0.8, \"#7fbc41\"], [0.9, \"#4d9221\"], [1, \"#276419\"]], \"sequential\": [[0.0, \"#0d0887\"], [0.1111111111111111, \"#46039f\"], [0.2222222222222222, \"#7201a8\"], [0.3333333333333333, \"#9c179e\"], [0.4444444444444444, \"#bd3786\"], [0.5555555555555556, \"#d8576b\"], [0.6666666666666666, \"#ed7953\"], [0.7777777777777778, \"#fb9f3a\"], [0.8888888888888888, \"#fdca26\"], [1.0, \"#f0f921\"]], \"sequentialminus\": [[0.0, \"#0d0887\"], [0.1111111111111111, \"#46039f\"], [0.2222222222222222, \"#7201a8\"], [0.3333333333333333, \"#9c179e\"], [0.4444444444444444, \"#bd3786\"], [0.5555555555555556, \"#d8576b\"], [0.6666666666666666, \"#ed7953\"], [0.7777777777777778, \"#fb9f3a\"], [0.8888888888888888, \"#fdca26\"], [1.0, \"#f0f921\"]]}, \"colorway\": [\"#636efa\", \"#EF553B\", \"#00cc96\", \"#ab63fa\", \"#FFA15A\", \"#19d3f3\", \"#FF6692\", \"#B6E880\", \"#FF97FF\", \"#FECB52\"], \"font\": {\"color\": \"#2a3f5f\"}, \"geo\": {\"bgcolor\": \"white\", \"lakecolor\": \"white\", \"landcolor\": \"#E5ECF6\", \"showlakes\": true, \"showland\": true, \"subunitcolor\": \"white\"}, \"hoverlabel\": {\"align\": \"left\"}, \"hovermode\": \"closest\", \"mapbox\": {\"style\": \"light\"}, \"paper_bgcolor\": \"white\", \"plot_bgcolor\": \"#E5ECF6\", \"polar\": {\"angularaxis\": {\"gridcolor\": \"white\", \"linecolor\": \"white\", \"ticks\": \"\"}, \"bgcolor\": \"#E5ECF6\", \"radialaxis\": {\"gridcolor\": \"white\", \"linecolor\": \"white\", \"ticks\": \"\"}}, \"scene\": {\"xaxis\": {\"backgroundcolor\": \"#E5ECF6\", \"gridcolor\": \"white\", \"gridwidth\": 2, \"linecolor\": \"white\", \"showbackground\": true, \"ticks\": \"\", \"zerolinecolor\": \"white\"}, \"yaxis\": {\"backgroundcolor\": \"#E5ECF6\", \"gridcolor\": \"white\", \"gridwidth\": 2, \"linecolor\": \"white\", \"showbackground\": true, \"ticks\": \"\", \"zerolinecolor\": \"white\"}, \"zaxis\": {\"backgroundcolor\": \"#E5ECF6\", \"gridcolor\": \"white\", \"gridwidth\": 2, \"linecolor\": \"white\", \"showbackground\": true, \"ticks\": \"\", \"zerolinecolor\": \"white\"}}, \"shapedefaults\": {\"line\": {\"color\": \"#2a3f5f\"}}, \"ternary\": {\"aaxis\": {\"gridcolor\": \"white\", \"linecolor\": \"white\", \"ticks\": \"\"}, \"baxis\": {\"gridcolor\": \"white\", \"linecolor\": \"white\", \"ticks\": \"\"}, \"bgcolor\": \"#E5ECF6\", \"caxis\": {\"gridcolor\": \"white\", \"linecolor\": \"white\", \"ticks\": \"\"}}, \"title\": {\"x\": 0.05}, \"xaxis\": {\"automargin\": true, \"gridcolor\": \"white\", \"linecolor\": \"white\", \"ticks\": \"\", \"title\": {\"standoff\": 15}, \"zerolinecolor\": \"white\", \"zerolinewidth\": 2}, \"yaxis\": {\"automargin\": true, \"gridcolor\": \"white\", \"linecolor\": \"white\", \"ticks\": \"\", \"title\": {\"standoff\": 15}, \"zerolinecolor\": \"white\", \"zerolinewidth\": 2}}}, \"title\": {\"text\": \"Views & Genres|TV\"}, \"xaxis\": {\"title\": {\"text\": \"Genres\"}}, \"yaxis\": {\"title\": {\"text\": \"Counts\"}}},\n",
       "                        {\"responsive\": true}\n",
       "                    ).then(function(){\n",
       "                            \n",
       "var gd = document.getElementById('9b77e7ed-c3d4-4276-92b8-1f97d7eaafc7');\n",
       "var x = new MutationObserver(function (mutations, observer) {{\n",
       "        var display = window.getComputedStyle(gd).display;\n",
       "        if (!display || display === 'none') {{\n",
       "            console.log([gd, 'removed!']);\n",
       "            Plotly.purge(gd);\n",
       "            observer.disconnect();\n",
       "        }}\n",
       "}});\n",
       "\n",
       "// Listen for the removal of the full notebook cells\n",
       "var notebookContainer = gd.closest('#notebook-container');\n",
       "if (notebookContainer) {{\n",
       "    x.observe(notebookContainer, {childList: true});\n",
       "}}\n",
       "\n",
       "// Listen for the clearing of the current output cell\n",
       "var outputEl = gd.closest('.output');\n",
       "if (outputEl) {{\n",
       "    x.observe(outputEl, {childList: true});\n",
       "}}\n",
       "\n",
       "                        })\n",
       "                };\n",
       "                });\n",
       "            </script>\n",
       "        </div>"
      ]
     },
     "metadata": {},
     "output_type": "display_data"
    }
   ],
   "source": [
    "fig = go.Figure()\n",
    "fig.add_trace(go.Bar(x=top_100_tv_genre_counts[0], y=top_100_tv_genre_counts[1], name=\"Top 100 Most Watched TVs\"))\n",
    "fig.add_trace(go.Bar(x=bottom_100_tv_genre_counts[0], y=bottom_100_tv_genre_counts[1], name=\"Bottom 100 Most Watched TVs\"))\n",
    "fig.update_layout(title=\"Views & Genres|TV\", xaxis_title=\"Genres\", yaxis_title=\"Counts\")"
   ]
  },
  {
   "cell_type": "markdown",
   "metadata": {},
   "source": [
    "From plot, on contrary to Movies, **Drama** is very popular genre in small screens followed by **Crime** in second and then **Action** in the third most watched genre. \n",
    "\n",
    "**Documentary** is still not popluar here as well. **Horror** shows take equal stance in fmovies."
   ]
  },
  {
   "cell_type": "markdown",
   "metadata": {},
   "source": [
    "## Release Dates and Movies\n",
    "\n",
    "Though we donot have the accurate date when the movie was added in the website, lets assume its in order with the release date and compare the movies most watched ranking and their release dates."
   ]
  },
  {
   "cell_type": "markdown",
   "metadata": {},
   "source": [
    "Lets have a quick look at the amount of movies released per year, but first drop duplicates"
   ]
  },
  {
   "cell_type": "markdown",
   "metadata": {},
   "source": [
    "### Count of Movies By Year"
   ]
  },
  {
   "cell_type": "code",
   "execution_count": 66,
   "metadata": {
    "ExecuteTime": {
     "end_time": "2020-07-15T04:12:02.074530Z",
     "start_time": "2020-07-15T04:12:02.061531Z"
    }
   },
   "outputs": [],
   "source": [
    "temp_df = movie_df.drop_duplicates(\"MOVIE_NAME\")"
   ]
  },
  {
   "cell_type": "code",
   "execution_count": 67,
   "metadata": {
    "ExecuteTime": {
     "end_time": "2020-07-15T04:12:02.105532Z",
     "start_time": "2020-07-15T04:12:02.077530Z"
    }
   },
   "outputs": [],
   "source": [
    "grp_by_released_date_movie = temp_df['MOVIE_NAME'].groupby(temp_df.index.year).count()"
   ]
  },
  {
   "cell_type": "code",
   "execution_count": 68,
   "metadata": {
    "ExecuteTime": {
     "end_time": "2020-07-15T04:12:02.136532Z",
     "start_time": "2020-07-15T04:12:02.126530Z"
    },
    "scrolled": true
   },
   "outputs": [],
   "source": [
    "index = grp_by_released_date_movie.index.tolist()\n",
    "values = grp_by_released_date_movie.values.tolist()\n",
    "size = [val*.5 for val in values]"
   ]
  },
  {
   "cell_type": "code",
   "execution_count": 69,
   "metadata": {
    "ExecuteTime": {
     "end_time": "2020-07-15T04:12:02.182527Z",
     "start_time": "2020-07-15T04:12:02.144532Z"
    }
   },
   "outputs": [
    {
     "data": {
      "application/vnd.plotly.v1+json": {
       "config": {
        "plotlyServerURL": "https://plot.ly"
       },
       "data": [
        {
         "marker": {
          "color": [
           0.5,
           0.5,
           1,
           1,
           0.5,
           1,
           0.5,
           0.5,
           0.5,
           1,
           1.5,
           2,
           1.5,
           0.5,
           2,
           2,
           3.5,
           1,
           1.5,
           4,
           4.5,
           2.5,
           7.5,
           5.5,
           6,
           7.5,
           5,
           7.5,
           5.5,
           9.5,
           11,
           9,
           14.5,
           13,
           15.5,
           21.5,
           42,
           64,
           70.5,
           110.5,
           150.5,
           41.5
          ],
          "size": [
           0.5,
           0.5,
           1,
           1,
           0.5,
           1,
           0.5,
           0.5,
           0.5,
           1,
           1.5,
           2,
           1.5,
           0.5,
           2,
           2,
           3.5,
           1,
           1.5,
           4,
           4.5,
           2.5,
           7.5,
           5.5,
           6,
           7.5,
           5,
           7.5,
           5.5,
           9.5,
           11,
           9,
           14.5,
           13,
           15.5,
           21.5,
           42,
           64,
           70.5,
           110.5,
           150.5,
           41.5
          ]
         },
         "mode": "markers",
         "type": "scatter",
         "x": [
          1972,
          1974,
          1977,
          1980,
          1981,
          1983,
          1985,
          1986,
          1987,
          1988,
          1989,
          1990,
          1991,
          1992,
          1993,
          1994,
          1995,
          1996,
          1997,
          1998,
          1999,
          2000,
          2001,
          2002,
          2003,
          2004,
          2005,
          2006,
          2007,
          2008,
          2009,
          2010,
          2011,
          2012,
          2013,
          2014,
          2015,
          2016,
          2017,
          2018,
          2019,
          2020
         ],
         "y": [
          1,
          1,
          2,
          2,
          1,
          2,
          1,
          1,
          1,
          2,
          3,
          4,
          3,
          1,
          4,
          4,
          7,
          2,
          3,
          8,
          9,
          5,
          15,
          11,
          12,
          15,
          10,
          15,
          11,
          19,
          22,
          18,
          29,
          26,
          31,
          43,
          84,
          128,
          141,
          221,
          301,
          83
         ]
        }
       ],
       "layout": {
        "template": {
         "data": {
          "bar": [
           {
            "error_x": {
             "color": "#2a3f5f"
            },
            "error_y": {
             "color": "#2a3f5f"
            },
            "marker": {
             "line": {
              "color": "#E5ECF6",
              "width": 0.5
             }
            },
            "type": "bar"
           }
          ],
          "barpolar": [
           {
            "marker": {
             "line": {
              "color": "#E5ECF6",
              "width": 0.5
             }
            },
            "type": "barpolar"
           }
          ],
          "carpet": [
           {
            "aaxis": {
             "endlinecolor": "#2a3f5f",
             "gridcolor": "white",
             "linecolor": "white",
             "minorgridcolor": "white",
             "startlinecolor": "#2a3f5f"
            },
            "baxis": {
             "endlinecolor": "#2a3f5f",
             "gridcolor": "white",
             "linecolor": "white",
             "minorgridcolor": "white",
             "startlinecolor": "#2a3f5f"
            },
            "type": "carpet"
           }
          ],
          "choropleth": [
           {
            "colorbar": {
             "outlinewidth": 0,
             "ticks": ""
            },
            "type": "choropleth"
           }
          ],
          "contour": [
           {
            "colorbar": {
             "outlinewidth": 0,
             "ticks": ""
            },
            "colorscale": [
             [
              0,
              "#0d0887"
             ],
             [
              0.1111111111111111,
              "#46039f"
             ],
             [
              0.2222222222222222,
              "#7201a8"
             ],
             [
              0.3333333333333333,
              "#9c179e"
             ],
             [
              0.4444444444444444,
              "#bd3786"
             ],
             [
              0.5555555555555556,
              "#d8576b"
             ],
             [
              0.6666666666666666,
              "#ed7953"
             ],
             [
              0.7777777777777778,
              "#fb9f3a"
             ],
             [
              0.8888888888888888,
              "#fdca26"
             ],
             [
              1,
              "#f0f921"
             ]
            ],
            "type": "contour"
           }
          ],
          "contourcarpet": [
           {
            "colorbar": {
             "outlinewidth": 0,
             "ticks": ""
            },
            "type": "contourcarpet"
           }
          ],
          "heatmap": [
           {
            "colorbar": {
             "outlinewidth": 0,
             "ticks": ""
            },
            "colorscale": [
             [
              0,
              "#0d0887"
             ],
             [
              0.1111111111111111,
              "#46039f"
             ],
             [
              0.2222222222222222,
              "#7201a8"
             ],
             [
              0.3333333333333333,
              "#9c179e"
             ],
             [
              0.4444444444444444,
              "#bd3786"
             ],
             [
              0.5555555555555556,
              "#d8576b"
             ],
             [
              0.6666666666666666,
              "#ed7953"
             ],
             [
              0.7777777777777778,
              "#fb9f3a"
             ],
             [
              0.8888888888888888,
              "#fdca26"
             ],
             [
              1,
              "#f0f921"
             ]
            ],
            "type": "heatmap"
           }
          ],
          "heatmapgl": [
           {
            "colorbar": {
             "outlinewidth": 0,
             "ticks": ""
            },
            "colorscale": [
             [
              0,
              "#0d0887"
             ],
             [
              0.1111111111111111,
              "#46039f"
             ],
             [
              0.2222222222222222,
              "#7201a8"
             ],
             [
              0.3333333333333333,
              "#9c179e"
             ],
             [
              0.4444444444444444,
              "#bd3786"
             ],
             [
              0.5555555555555556,
              "#d8576b"
             ],
             [
              0.6666666666666666,
              "#ed7953"
             ],
             [
              0.7777777777777778,
              "#fb9f3a"
             ],
             [
              0.8888888888888888,
              "#fdca26"
             ],
             [
              1,
              "#f0f921"
             ]
            ],
            "type": "heatmapgl"
           }
          ],
          "histogram": [
           {
            "marker": {
             "colorbar": {
              "outlinewidth": 0,
              "ticks": ""
             }
            },
            "type": "histogram"
           }
          ],
          "histogram2d": [
           {
            "colorbar": {
             "outlinewidth": 0,
             "ticks": ""
            },
            "colorscale": [
             [
              0,
              "#0d0887"
             ],
             [
              0.1111111111111111,
              "#46039f"
             ],
             [
              0.2222222222222222,
              "#7201a8"
             ],
             [
              0.3333333333333333,
              "#9c179e"
             ],
             [
              0.4444444444444444,
              "#bd3786"
             ],
             [
              0.5555555555555556,
              "#d8576b"
             ],
             [
              0.6666666666666666,
              "#ed7953"
             ],
             [
              0.7777777777777778,
              "#fb9f3a"
             ],
             [
              0.8888888888888888,
              "#fdca26"
             ],
             [
              1,
              "#f0f921"
             ]
            ],
            "type": "histogram2d"
           }
          ],
          "histogram2dcontour": [
           {
            "colorbar": {
             "outlinewidth": 0,
             "ticks": ""
            },
            "colorscale": [
             [
              0,
              "#0d0887"
             ],
             [
              0.1111111111111111,
              "#46039f"
             ],
             [
              0.2222222222222222,
              "#7201a8"
             ],
             [
              0.3333333333333333,
              "#9c179e"
             ],
             [
              0.4444444444444444,
              "#bd3786"
             ],
             [
              0.5555555555555556,
              "#d8576b"
             ],
             [
              0.6666666666666666,
              "#ed7953"
             ],
             [
              0.7777777777777778,
              "#fb9f3a"
             ],
             [
              0.8888888888888888,
              "#fdca26"
             ],
             [
              1,
              "#f0f921"
             ]
            ],
            "type": "histogram2dcontour"
           }
          ],
          "mesh3d": [
           {
            "colorbar": {
             "outlinewidth": 0,
             "ticks": ""
            },
            "type": "mesh3d"
           }
          ],
          "parcoords": [
           {
            "line": {
             "colorbar": {
              "outlinewidth": 0,
              "ticks": ""
             }
            },
            "type": "parcoords"
           }
          ],
          "pie": [
           {
            "automargin": true,
            "type": "pie"
           }
          ],
          "scatter": [
           {
            "marker": {
             "colorbar": {
              "outlinewidth": 0,
              "ticks": ""
             }
            },
            "type": "scatter"
           }
          ],
          "scatter3d": [
           {
            "line": {
             "colorbar": {
              "outlinewidth": 0,
              "ticks": ""
             }
            },
            "marker": {
             "colorbar": {
              "outlinewidth": 0,
              "ticks": ""
             }
            },
            "type": "scatter3d"
           }
          ],
          "scattercarpet": [
           {
            "marker": {
             "colorbar": {
              "outlinewidth": 0,
              "ticks": ""
             }
            },
            "type": "scattercarpet"
           }
          ],
          "scattergeo": [
           {
            "marker": {
             "colorbar": {
              "outlinewidth": 0,
              "ticks": ""
             }
            },
            "type": "scattergeo"
           }
          ],
          "scattergl": [
           {
            "marker": {
             "colorbar": {
              "outlinewidth": 0,
              "ticks": ""
             }
            },
            "type": "scattergl"
           }
          ],
          "scattermapbox": [
           {
            "marker": {
             "colorbar": {
              "outlinewidth": 0,
              "ticks": ""
             }
            },
            "type": "scattermapbox"
           }
          ],
          "scatterpolar": [
           {
            "marker": {
             "colorbar": {
              "outlinewidth": 0,
              "ticks": ""
             }
            },
            "type": "scatterpolar"
           }
          ],
          "scatterpolargl": [
           {
            "marker": {
             "colorbar": {
              "outlinewidth": 0,
              "ticks": ""
             }
            },
            "type": "scatterpolargl"
           }
          ],
          "scatterternary": [
           {
            "marker": {
             "colorbar": {
              "outlinewidth": 0,
              "ticks": ""
             }
            },
            "type": "scatterternary"
           }
          ],
          "surface": [
           {
            "colorbar": {
             "outlinewidth": 0,
             "ticks": ""
            },
            "colorscale": [
             [
              0,
              "#0d0887"
             ],
             [
              0.1111111111111111,
              "#46039f"
             ],
             [
              0.2222222222222222,
              "#7201a8"
             ],
             [
              0.3333333333333333,
              "#9c179e"
             ],
             [
              0.4444444444444444,
              "#bd3786"
             ],
             [
              0.5555555555555556,
              "#d8576b"
             ],
             [
              0.6666666666666666,
              "#ed7953"
             ],
             [
              0.7777777777777778,
              "#fb9f3a"
             ],
             [
              0.8888888888888888,
              "#fdca26"
             ],
             [
              1,
              "#f0f921"
             ]
            ],
            "type": "surface"
           }
          ],
          "table": [
           {
            "cells": {
             "fill": {
              "color": "#EBF0F8"
             },
             "line": {
              "color": "white"
             }
            },
            "header": {
             "fill": {
              "color": "#C8D4E3"
             },
             "line": {
              "color": "white"
             }
            },
            "type": "table"
           }
          ]
         },
         "layout": {
          "annotationdefaults": {
           "arrowcolor": "#2a3f5f",
           "arrowhead": 0,
           "arrowwidth": 1
          },
          "coloraxis": {
           "colorbar": {
            "outlinewidth": 0,
            "ticks": ""
           }
          },
          "colorscale": {
           "diverging": [
            [
             0,
             "#8e0152"
            ],
            [
             0.1,
             "#c51b7d"
            ],
            [
             0.2,
             "#de77ae"
            ],
            [
             0.3,
             "#f1b6da"
            ],
            [
             0.4,
             "#fde0ef"
            ],
            [
             0.5,
             "#f7f7f7"
            ],
            [
             0.6,
             "#e6f5d0"
            ],
            [
             0.7,
             "#b8e186"
            ],
            [
             0.8,
             "#7fbc41"
            ],
            [
             0.9,
             "#4d9221"
            ],
            [
             1,
             "#276419"
            ]
           ],
           "sequential": [
            [
             0,
             "#0d0887"
            ],
            [
             0.1111111111111111,
             "#46039f"
            ],
            [
             0.2222222222222222,
             "#7201a8"
            ],
            [
             0.3333333333333333,
             "#9c179e"
            ],
            [
             0.4444444444444444,
             "#bd3786"
            ],
            [
             0.5555555555555556,
             "#d8576b"
            ],
            [
             0.6666666666666666,
             "#ed7953"
            ],
            [
             0.7777777777777778,
             "#fb9f3a"
            ],
            [
             0.8888888888888888,
             "#fdca26"
            ],
            [
             1,
             "#f0f921"
            ]
           ],
           "sequentialminus": [
            [
             0,
             "#0d0887"
            ],
            [
             0.1111111111111111,
             "#46039f"
            ],
            [
             0.2222222222222222,
             "#7201a8"
            ],
            [
             0.3333333333333333,
             "#9c179e"
            ],
            [
             0.4444444444444444,
             "#bd3786"
            ],
            [
             0.5555555555555556,
             "#d8576b"
            ],
            [
             0.6666666666666666,
             "#ed7953"
            ],
            [
             0.7777777777777778,
             "#fb9f3a"
            ],
            [
             0.8888888888888888,
             "#fdca26"
            ],
            [
             1,
             "#f0f921"
            ]
           ]
          },
          "colorway": [
           "#636efa",
           "#EF553B",
           "#00cc96",
           "#ab63fa",
           "#FFA15A",
           "#19d3f3",
           "#FF6692",
           "#B6E880",
           "#FF97FF",
           "#FECB52"
          ],
          "font": {
           "color": "#2a3f5f"
          },
          "geo": {
           "bgcolor": "white",
           "lakecolor": "white",
           "landcolor": "#E5ECF6",
           "showlakes": true,
           "showland": true,
           "subunitcolor": "white"
          },
          "hoverlabel": {
           "align": "left"
          },
          "hovermode": "closest",
          "mapbox": {
           "style": "light"
          },
          "paper_bgcolor": "white",
          "plot_bgcolor": "#E5ECF6",
          "polar": {
           "angularaxis": {
            "gridcolor": "white",
            "linecolor": "white",
            "ticks": ""
           },
           "bgcolor": "#E5ECF6",
           "radialaxis": {
            "gridcolor": "white",
            "linecolor": "white",
            "ticks": ""
           }
          },
          "scene": {
           "xaxis": {
            "backgroundcolor": "#E5ECF6",
            "gridcolor": "white",
            "gridwidth": 2,
            "linecolor": "white",
            "showbackground": true,
            "ticks": "",
            "zerolinecolor": "white"
           },
           "yaxis": {
            "backgroundcolor": "#E5ECF6",
            "gridcolor": "white",
            "gridwidth": 2,
            "linecolor": "white",
            "showbackground": true,
            "ticks": "",
            "zerolinecolor": "white"
           },
           "zaxis": {
            "backgroundcolor": "#E5ECF6",
            "gridcolor": "white",
            "gridwidth": 2,
            "linecolor": "white",
            "showbackground": true,
            "ticks": "",
            "zerolinecolor": "white"
           }
          },
          "shapedefaults": {
           "line": {
            "color": "#2a3f5f"
           }
          },
          "ternary": {
           "aaxis": {
            "gridcolor": "white",
            "linecolor": "white",
            "ticks": ""
           },
           "baxis": {
            "gridcolor": "white",
            "linecolor": "white",
            "ticks": ""
           },
           "bgcolor": "#E5ECF6",
           "caxis": {
            "gridcolor": "white",
            "linecolor": "white",
            "ticks": ""
           }
          },
          "title": {
           "x": 0.05
          },
          "xaxis": {
           "automargin": true,
           "gridcolor": "white",
           "linecolor": "white",
           "ticks": "",
           "title": {
            "standoff": 15
           },
           "zerolinecolor": "white",
           "zerolinewidth": 2
          },
          "yaxis": {
           "automargin": true,
           "gridcolor": "white",
           "linecolor": "white",
           "ticks": "",
           "title": {
            "standoff": 15
           },
           "zerolinecolor": "white",
           "zerolinewidth": 2
          }
         }
        },
        "title": {
         "text": "Movies Released Per Year"
        },
        "xaxis": {
         "title": {
          "text": "Year"
         }
        },
        "yaxis": {
         "title": {
          "text": "Movies Counts"
         }
        }
       }
      },
      "text/html": [
       "<div>\n",
       "        \n",
       "        \n",
       "            <div id=\"0c3f2586-9e37-47ae-b5d5-df626551109d\" class=\"plotly-graph-div\" style=\"height:525px; width:100%;\"></div>\n",
       "            <script type=\"text/javascript\">\n",
       "                require([\"plotly\"], function(Plotly) {\n",
       "                    window.PLOTLYENV=window.PLOTLYENV || {};\n",
       "                    \n",
       "                if (document.getElementById(\"0c3f2586-9e37-47ae-b5d5-df626551109d\")) {\n",
       "                    Plotly.newPlot(\n",
       "                        '0c3f2586-9e37-47ae-b5d5-df626551109d',\n",
       "                        [{\"marker\": {\"color\": [0.5, 0.5, 1.0, 1.0, 0.5, 1.0, 0.5, 0.5, 0.5, 1.0, 1.5, 2.0, 1.5, 0.5, 2.0, 2.0, 3.5, 1.0, 1.5, 4.0, 4.5, 2.5, 7.5, 5.5, 6.0, 7.5, 5.0, 7.5, 5.5, 9.5, 11.0, 9.0, 14.5, 13.0, 15.5, 21.5, 42.0, 64.0, 70.5, 110.5, 150.5, 41.5], \"size\": [0.5, 0.5, 1.0, 1.0, 0.5, 1.0, 0.5, 0.5, 0.5, 1.0, 1.5, 2.0, 1.5, 0.5, 2.0, 2.0, 3.5, 1.0, 1.5, 4.0, 4.5, 2.5, 7.5, 5.5, 6.0, 7.5, 5.0, 7.5, 5.5, 9.5, 11.0, 9.0, 14.5, 13.0, 15.5, 21.5, 42.0, 64.0, 70.5, 110.5, 150.5, 41.5]}, \"mode\": \"markers\", \"type\": \"scatter\", \"x\": [1972, 1974, 1977, 1980, 1981, 1983, 1985, 1986, 1987, 1988, 1989, 1990, 1991, 1992, 1993, 1994, 1995, 1996, 1997, 1998, 1999, 2000, 2001, 2002, 2003, 2004, 2005, 2006, 2007, 2008, 2009, 2010, 2011, 2012, 2013, 2014, 2015, 2016, 2017, 2018, 2019, 2020], \"y\": [1, 1, 2, 2, 1, 2, 1, 1, 1, 2, 3, 4, 3, 1, 4, 4, 7, 2, 3, 8, 9, 5, 15, 11, 12, 15, 10, 15, 11, 19, 22, 18, 29, 26, 31, 43, 84, 128, 141, 221, 301, 83]}],\n",
       "                        {\"template\": {\"data\": {\"bar\": [{\"error_x\": {\"color\": \"#2a3f5f\"}, \"error_y\": {\"color\": \"#2a3f5f\"}, \"marker\": {\"line\": {\"color\": \"#E5ECF6\", \"width\": 0.5}}, \"type\": \"bar\"}], \"barpolar\": [{\"marker\": {\"line\": {\"color\": \"#E5ECF6\", \"width\": 0.5}}, \"type\": \"barpolar\"}], \"carpet\": [{\"aaxis\": {\"endlinecolor\": \"#2a3f5f\", \"gridcolor\": \"white\", \"linecolor\": \"white\", \"minorgridcolor\": \"white\", \"startlinecolor\": \"#2a3f5f\"}, \"baxis\": {\"endlinecolor\": \"#2a3f5f\", \"gridcolor\": \"white\", \"linecolor\": \"white\", \"minorgridcolor\": \"white\", \"startlinecolor\": \"#2a3f5f\"}, \"type\": \"carpet\"}], \"choropleth\": [{\"colorbar\": {\"outlinewidth\": 0, \"ticks\": \"\"}, \"type\": \"choropleth\"}], \"contour\": [{\"colorbar\": {\"outlinewidth\": 0, \"ticks\": \"\"}, \"colorscale\": [[0.0, \"#0d0887\"], [0.1111111111111111, \"#46039f\"], [0.2222222222222222, \"#7201a8\"], [0.3333333333333333, \"#9c179e\"], [0.4444444444444444, \"#bd3786\"], [0.5555555555555556, \"#d8576b\"], [0.6666666666666666, \"#ed7953\"], [0.7777777777777778, \"#fb9f3a\"], [0.8888888888888888, \"#fdca26\"], [1.0, \"#f0f921\"]], \"type\": \"contour\"}], \"contourcarpet\": [{\"colorbar\": {\"outlinewidth\": 0, \"ticks\": \"\"}, \"type\": \"contourcarpet\"}], \"heatmap\": [{\"colorbar\": {\"outlinewidth\": 0, \"ticks\": \"\"}, \"colorscale\": [[0.0, \"#0d0887\"], [0.1111111111111111, \"#46039f\"], [0.2222222222222222, \"#7201a8\"], [0.3333333333333333, \"#9c179e\"], [0.4444444444444444, \"#bd3786\"], [0.5555555555555556, \"#d8576b\"], [0.6666666666666666, \"#ed7953\"], [0.7777777777777778, \"#fb9f3a\"], [0.8888888888888888, \"#fdca26\"], [1.0, \"#f0f921\"]], \"type\": \"heatmap\"}], \"heatmapgl\": [{\"colorbar\": {\"outlinewidth\": 0, \"ticks\": \"\"}, \"colorscale\": [[0.0, \"#0d0887\"], [0.1111111111111111, \"#46039f\"], [0.2222222222222222, \"#7201a8\"], [0.3333333333333333, \"#9c179e\"], [0.4444444444444444, \"#bd3786\"], [0.5555555555555556, \"#d8576b\"], [0.6666666666666666, \"#ed7953\"], [0.7777777777777778, \"#fb9f3a\"], [0.8888888888888888, \"#fdca26\"], [1.0, \"#f0f921\"]], \"type\": \"heatmapgl\"}], \"histogram\": [{\"marker\": {\"colorbar\": {\"outlinewidth\": 0, \"ticks\": \"\"}}, \"type\": \"histogram\"}], \"histogram2d\": [{\"colorbar\": {\"outlinewidth\": 0, \"ticks\": \"\"}, \"colorscale\": [[0.0, \"#0d0887\"], [0.1111111111111111, \"#46039f\"], [0.2222222222222222, \"#7201a8\"], [0.3333333333333333, \"#9c179e\"], [0.4444444444444444, \"#bd3786\"], [0.5555555555555556, \"#d8576b\"], [0.6666666666666666, \"#ed7953\"], [0.7777777777777778, \"#fb9f3a\"], [0.8888888888888888, \"#fdca26\"], [1.0, \"#f0f921\"]], \"type\": \"histogram2d\"}], \"histogram2dcontour\": [{\"colorbar\": {\"outlinewidth\": 0, \"ticks\": \"\"}, \"colorscale\": [[0.0, \"#0d0887\"], [0.1111111111111111, \"#46039f\"], [0.2222222222222222, \"#7201a8\"], [0.3333333333333333, \"#9c179e\"], [0.4444444444444444, \"#bd3786\"], [0.5555555555555556, \"#d8576b\"], [0.6666666666666666, \"#ed7953\"], [0.7777777777777778, \"#fb9f3a\"], [0.8888888888888888, \"#fdca26\"], [1.0, \"#f0f921\"]], \"type\": \"histogram2dcontour\"}], \"mesh3d\": [{\"colorbar\": {\"outlinewidth\": 0, \"ticks\": \"\"}, \"type\": \"mesh3d\"}], \"parcoords\": [{\"line\": {\"colorbar\": {\"outlinewidth\": 0, \"ticks\": \"\"}}, \"type\": \"parcoords\"}], \"pie\": [{\"automargin\": true, \"type\": \"pie\"}], \"scatter\": [{\"marker\": {\"colorbar\": {\"outlinewidth\": 0, \"ticks\": \"\"}}, \"type\": \"scatter\"}], \"scatter3d\": [{\"line\": {\"colorbar\": {\"outlinewidth\": 0, \"ticks\": \"\"}}, \"marker\": {\"colorbar\": {\"outlinewidth\": 0, \"ticks\": \"\"}}, \"type\": \"scatter3d\"}], \"scattercarpet\": [{\"marker\": {\"colorbar\": {\"outlinewidth\": 0, \"ticks\": \"\"}}, \"type\": \"scattercarpet\"}], \"scattergeo\": [{\"marker\": {\"colorbar\": {\"outlinewidth\": 0, \"ticks\": \"\"}}, \"type\": \"scattergeo\"}], \"scattergl\": [{\"marker\": {\"colorbar\": {\"outlinewidth\": 0, \"ticks\": \"\"}}, \"type\": \"scattergl\"}], \"scattermapbox\": [{\"marker\": {\"colorbar\": {\"outlinewidth\": 0, \"ticks\": \"\"}}, \"type\": \"scattermapbox\"}], \"scatterpolar\": [{\"marker\": {\"colorbar\": {\"outlinewidth\": 0, \"ticks\": \"\"}}, \"type\": \"scatterpolar\"}], \"scatterpolargl\": [{\"marker\": {\"colorbar\": {\"outlinewidth\": 0, \"ticks\": \"\"}}, \"type\": \"scatterpolargl\"}], \"scatterternary\": [{\"marker\": {\"colorbar\": {\"outlinewidth\": 0, \"ticks\": \"\"}}, \"type\": \"scatterternary\"}], \"surface\": [{\"colorbar\": {\"outlinewidth\": 0, \"ticks\": \"\"}, \"colorscale\": [[0.0, \"#0d0887\"], [0.1111111111111111, \"#46039f\"], [0.2222222222222222, \"#7201a8\"], [0.3333333333333333, \"#9c179e\"], [0.4444444444444444, \"#bd3786\"], [0.5555555555555556, \"#d8576b\"], [0.6666666666666666, \"#ed7953\"], [0.7777777777777778, \"#fb9f3a\"], [0.8888888888888888, \"#fdca26\"], [1.0, \"#f0f921\"]], \"type\": \"surface\"}], \"table\": [{\"cells\": {\"fill\": {\"color\": \"#EBF0F8\"}, \"line\": {\"color\": \"white\"}}, \"header\": {\"fill\": {\"color\": \"#C8D4E3\"}, \"line\": {\"color\": \"white\"}}, \"type\": \"table\"}]}, \"layout\": {\"annotationdefaults\": {\"arrowcolor\": \"#2a3f5f\", \"arrowhead\": 0, \"arrowwidth\": 1}, \"coloraxis\": {\"colorbar\": {\"outlinewidth\": 0, \"ticks\": \"\"}}, \"colorscale\": {\"diverging\": [[0, \"#8e0152\"], [0.1, \"#c51b7d\"], [0.2, \"#de77ae\"], [0.3, \"#f1b6da\"], [0.4, \"#fde0ef\"], [0.5, \"#f7f7f7\"], [0.6, \"#e6f5d0\"], [0.7, \"#b8e186\"], [0.8, \"#7fbc41\"], [0.9, \"#4d9221\"], [1, \"#276419\"]], \"sequential\": [[0.0, \"#0d0887\"], [0.1111111111111111, \"#46039f\"], [0.2222222222222222, \"#7201a8\"], [0.3333333333333333, \"#9c179e\"], [0.4444444444444444, \"#bd3786\"], [0.5555555555555556, \"#d8576b\"], [0.6666666666666666, \"#ed7953\"], [0.7777777777777778, \"#fb9f3a\"], [0.8888888888888888, \"#fdca26\"], [1.0, \"#f0f921\"]], \"sequentialminus\": [[0.0, \"#0d0887\"], [0.1111111111111111, \"#46039f\"], [0.2222222222222222, \"#7201a8\"], [0.3333333333333333, \"#9c179e\"], [0.4444444444444444, \"#bd3786\"], [0.5555555555555556, \"#d8576b\"], [0.6666666666666666, \"#ed7953\"], [0.7777777777777778, \"#fb9f3a\"], [0.8888888888888888, \"#fdca26\"], [1.0, \"#f0f921\"]]}, \"colorway\": [\"#636efa\", \"#EF553B\", \"#00cc96\", \"#ab63fa\", \"#FFA15A\", \"#19d3f3\", \"#FF6692\", \"#B6E880\", \"#FF97FF\", \"#FECB52\"], \"font\": {\"color\": \"#2a3f5f\"}, \"geo\": {\"bgcolor\": \"white\", \"lakecolor\": \"white\", \"landcolor\": \"#E5ECF6\", \"showlakes\": true, \"showland\": true, \"subunitcolor\": \"white\"}, \"hoverlabel\": {\"align\": \"left\"}, \"hovermode\": \"closest\", \"mapbox\": {\"style\": \"light\"}, \"paper_bgcolor\": \"white\", \"plot_bgcolor\": \"#E5ECF6\", \"polar\": {\"angularaxis\": {\"gridcolor\": \"white\", \"linecolor\": \"white\", \"ticks\": \"\"}, \"bgcolor\": \"#E5ECF6\", \"radialaxis\": {\"gridcolor\": \"white\", \"linecolor\": \"white\", \"ticks\": \"\"}}, \"scene\": {\"xaxis\": {\"backgroundcolor\": \"#E5ECF6\", \"gridcolor\": \"white\", \"gridwidth\": 2, \"linecolor\": \"white\", \"showbackground\": true, \"ticks\": \"\", \"zerolinecolor\": \"white\"}, \"yaxis\": {\"backgroundcolor\": \"#E5ECF6\", \"gridcolor\": \"white\", \"gridwidth\": 2, \"linecolor\": \"white\", \"showbackground\": true, \"ticks\": \"\", \"zerolinecolor\": \"white\"}, \"zaxis\": {\"backgroundcolor\": \"#E5ECF6\", \"gridcolor\": \"white\", \"gridwidth\": 2, \"linecolor\": \"white\", \"showbackground\": true, \"ticks\": \"\", \"zerolinecolor\": \"white\"}}, \"shapedefaults\": {\"line\": {\"color\": \"#2a3f5f\"}}, \"ternary\": {\"aaxis\": {\"gridcolor\": \"white\", \"linecolor\": \"white\", \"ticks\": \"\"}, \"baxis\": {\"gridcolor\": \"white\", \"linecolor\": \"white\", \"ticks\": \"\"}, \"bgcolor\": \"#E5ECF6\", \"caxis\": {\"gridcolor\": \"white\", \"linecolor\": \"white\", \"ticks\": \"\"}}, \"title\": {\"x\": 0.05}, \"xaxis\": {\"automargin\": true, \"gridcolor\": \"white\", \"linecolor\": \"white\", \"ticks\": \"\", \"title\": {\"standoff\": 15}, \"zerolinecolor\": \"white\", \"zerolinewidth\": 2}, \"yaxis\": {\"automargin\": true, \"gridcolor\": \"white\", \"linecolor\": \"white\", \"ticks\": \"\", \"title\": {\"standoff\": 15}, \"zerolinecolor\": \"white\", \"zerolinewidth\": 2}}}, \"title\": {\"text\": \"Movies Released Per Year\"}, \"xaxis\": {\"title\": {\"text\": \"Year\"}}, \"yaxis\": {\"title\": {\"text\": \"Movies Counts\"}}},\n",
       "                        {\"responsive\": true}\n",
       "                    ).then(function(){\n",
       "                            \n",
       "var gd = document.getElementById('0c3f2586-9e37-47ae-b5d5-df626551109d');\n",
       "var x = new MutationObserver(function (mutations, observer) {{\n",
       "        var display = window.getComputedStyle(gd).display;\n",
       "        if (!display || display === 'none') {{\n",
       "            console.log([gd, 'removed!']);\n",
       "            Plotly.purge(gd);\n",
       "            observer.disconnect();\n",
       "        }}\n",
       "}});\n",
       "\n",
       "// Listen for the removal of the full notebook cells\n",
       "var notebookContainer = gd.closest('#notebook-container');\n",
       "if (notebookContainer) {{\n",
       "    x.observe(notebookContainer, {childList: true});\n",
       "}}\n",
       "\n",
       "// Listen for the clearing of the current output cell\n",
       "var outputEl = gd.closest('.output');\n",
       "if (outputEl) {{\n",
       "    x.observe(outputEl, {childList: true});\n",
       "}}\n",
       "\n",
       "                        })\n",
       "                };\n",
       "                });\n",
       "            </script>\n",
       "        </div>"
      ]
     },
     "metadata": {},
     "output_type": "display_data"
    }
   ],
   "source": [
    "fig= go.Figure()\n",
    "fig.add_trace(go.Scatter(x =index,y= values, mode=\"markers\", marker=dict(size=size,color=size)))\n",
    "fig.update_layout(title=\"Movies Released Per Year\", xaxis_title=\"Year\", yaxis_title=\"Movies Counts\")\n",
    "fig.show()\n",
    "# grp_by_released_date_movie.iplot(kind=\"scatter\", mode=\"markers\", size=grp_by_released_date_movie.values*0.5)"
   ]
  },
  {
   "cell_type": "markdown",
   "metadata": {},
   "source": [
    "While the time I created this plot if July 15,2020,  fmovies, has the movies from 1971-2020. The number of movies is increasing from 2012, while 2019 being the year with most movies.\n",
    "\n",
    "**Note:** *These movies are all from the most-watched list from just first 50 pages of fmovies.to, not all the movies in inventory.*"
   ]
  },
  {
   "cell_type": "markdown",
   "metadata": {},
   "source": [
    "### Rank Years By Most Watched"
   ]
  },
  {
   "cell_type": "markdown",
   "metadata": {},
   "source": [
    "Lets rank movies by year,in the order of most watched movie."
   ]
  },
  {
   "cell_type": "code",
   "execution_count": 180,
   "metadata": {
    "ExecuteTime": {
     "end_time": "2020-07-15T04:46:46.038307Z",
     "start_time": "2020-07-15T04:46:46.019309Z"
    }
   },
   "outputs": [],
   "source": [
    "r_most_watched_rank  = temp_df.groupby(temp_df.index.year)[[\"SITE_RANK\"]].mean().sort_values('SITE_RANK')"
   ]
  },
  {
   "cell_type": "markdown",
   "metadata": {},
   "source": [
    "Lets Rank the year using pd.Rank with \"min\" being the highest rank.\n",
    " \n",
    "We know that lower the value higher the rank, however, plotting will show opposite.Lets subtract all values by 60 as max value being 42. By doing so smallest rank becomes highest and gets biggest size in plot. \n"
   ]
  },
  {
   "cell_type": "code",
   "execution_count": 181,
   "metadata": {
    "ExecuteTime": {
     "end_time": "2020-07-15T04:46:58.021596Z",
     "start_time": "2020-07-15T04:46:58.001592Z"
    },
    "scrolled": true
   },
   "outputs": [],
   "source": [
    "rank = yr_most_watched_rank.rank(method='min')\n",
    "\n",
    "x = rank.index.tolist()\n",
    "y =  rank.SITE_RANK.values\n",
    "\n",
    "\n",
    "#Lets subtract all values by 60 as max value being 42. By doing so smallest rank becomes highest and gets biggest size in plot. \n",
    "rank_plot_size=[60-float(val) for val in y]"
   ]
  },
  {
   "cell_type": "code",
   "execution_count": 182,
   "metadata": {
    "ExecuteTime": {
     "end_time": "2020-07-15T04:46:58.988900Z",
     "start_time": "2020-07-15T04:46:58.954899Z"
    },
    "scrolled": false
   },
   "outputs": [
    {
     "data": {
      "application/vnd.plotly.v1+json": {
       "config": {
        "plotlyServerURL": "https://plot.ly"
       },
       "data": [
        {
         "marker": {
          "color": [
           59,
           58,
           57,
           56,
           55,
           54,
           53,
           52,
           51,
           50,
           49,
           48,
           47,
           46,
           45,
           44,
           43,
           42,
           41,
           40,
           39,
           38,
           37,
           36,
           35,
           34,
           33,
           32,
           31,
           30,
           29,
           28,
           27,
           26,
           25,
           24,
           23,
           22,
           21,
           20,
           19,
           18
          ],
          "size": [
           59,
           58,
           57,
           56,
           55,
           54,
           53,
           52,
           51,
           50,
           49,
           48,
           47,
           46,
           45,
           44,
           43,
           42,
           41,
           40,
           39,
           38,
           37,
           36,
           35,
           34,
           33,
           32,
           31,
           30,
           29,
           28,
           27,
           26,
           25,
           24,
           23,
           22,
           21,
           20,
           19,
           18
          ]
         },
         "mode": "markers",
         "type": "scatter",
         "x": [
          1992,
          1972,
          2018,
          2019,
          2016,
          2017,
          1994,
          2020,
          2005,
          1980,
          2010,
          2002,
          1990,
          2009,
          1999,
          1989,
          2014,
          2013,
          2015,
          2012,
          2001,
          2003,
          1993,
          2000,
          2007,
          1998,
          1995,
          1977,
          2006,
          2011,
          2004,
          1997,
          1983,
          2008,
          1987,
          1991,
          1985,
          1974,
          1981,
          1986,
          1988,
          1996
         ],
         "y": [
          1,
          2,
          3,
          4,
          5,
          6,
          7,
          8,
          9,
          10,
          11,
          12,
          13,
          14,
          15,
          16,
          17,
          18,
          19,
          20,
          21,
          22,
          23,
          24,
          25,
          26,
          27,
          28,
          29,
          30,
          31,
          32,
          33,
          34,
          35,
          36,
          37,
          38,
          39,
          40,
          41,
          42
         ]
        }
       ],
       "layout": {
        "template": {
         "data": {
          "bar": [
           {
            "error_x": {
             "color": "#2a3f5f"
            },
            "error_y": {
             "color": "#2a3f5f"
            },
            "marker": {
             "line": {
              "color": "#E5ECF6",
              "width": 0.5
             }
            },
            "type": "bar"
           }
          ],
          "barpolar": [
           {
            "marker": {
             "line": {
              "color": "#E5ECF6",
              "width": 0.5
             }
            },
            "type": "barpolar"
           }
          ],
          "carpet": [
           {
            "aaxis": {
             "endlinecolor": "#2a3f5f",
             "gridcolor": "white",
             "linecolor": "white",
             "minorgridcolor": "white",
             "startlinecolor": "#2a3f5f"
            },
            "baxis": {
             "endlinecolor": "#2a3f5f",
             "gridcolor": "white",
             "linecolor": "white",
             "minorgridcolor": "white",
             "startlinecolor": "#2a3f5f"
            },
            "type": "carpet"
           }
          ],
          "choropleth": [
           {
            "colorbar": {
             "outlinewidth": 0,
             "ticks": ""
            },
            "type": "choropleth"
           }
          ],
          "contour": [
           {
            "colorbar": {
             "outlinewidth": 0,
             "ticks": ""
            },
            "colorscale": [
             [
              0,
              "#0d0887"
             ],
             [
              0.1111111111111111,
              "#46039f"
             ],
             [
              0.2222222222222222,
              "#7201a8"
             ],
             [
              0.3333333333333333,
              "#9c179e"
             ],
             [
              0.4444444444444444,
              "#bd3786"
             ],
             [
              0.5555555555555556,
              "#d8576b"
             ],
             [
              0.6666666666666666,
              "#ed7953"
             ],
             [
              0.7777777777777778,
              "#fb9f3a"
             ],
             [
              0.8888888888888888,
              "#fdca26"
             ],
             [
              1,
              "#f0f921"
             ]
            ],
            "type": "contour"
           }
          ],
          "contourcarpet": [
           {
            "colorbar": {
             "outlinewidth": 0,
             "ticks": ""
            },
            "type": "contourcarpet"
           }
          ],
          "heatmap": [
           {
            "colorbar": {
             "outlinewidth": 0,
             "ticks": ""
            },
            "colorscale": [
             [
              0,
              "#0d0887"
             ],
             [
              0.1111111111111111,
              "#46039f"
             ],
             [
              0.2222222222222222,
              "#7201a8"
             ],
             [
              0.3333333333333333,
              "#9c179e"
             ],
             [
              0.4444444444444444,
              "#bd3786"
             ],
             [
              0.5555555555555556,
              "#d8576b"
             ],
             [
              0.6666666666666666,
              "#ed7953"
             ],
             [
              0.7777777777777778,
              "#fb9f3a"
             ],
             [
              0.8888888888888888,
              "#fdca26"
             ],
             [
              1,
              "#f0f921"
             ]
            ],
            "type": "heatmap"
           }
          ],
          "heatmapgl": [
           {
            "colorbar": {
             "outlinewidth": 0,
             "ticks": ""
            },
            "colorscale": [
             [
              0,
              "#0d0887"
             ],
             [
              0.1111111111111111,
              "#46039f"
             ],
             [
              0.2222222222222222,
              "#7201a8"
             ],
             [
              0.3333333333333333,
              "#9c179e"
             ],
             [
              0.4444444444444444,
              "#bd3786"
             ],
             [
              0.5555555555555556,
              "#d8576b"
             ],
             [
              0.6666666666666666,
              "#ed7953"
             ],
             [
              0.7777777777777778,
              "#fb9f3a"
             ],
             [
              0.8888888888888888,
              "#fdca26"
             ],
             [
              1,
              "#f0f921"
             ]
            ],
            "type": "heatmapgl"
           }
          ],
          "histogram": [
           {
            "marker": {
             "colorbar": {
              "outlinewidth": 0,
              "ticks": ""
             }
            },
            "type": "histogram"
           }
          ],
          "histogram2d": [
           {
            "colorbar": {
             "outlinewidth": 0,
             "ticks": ""
            },
            "colorscale": [
             [
              0,
              "#0d0887"
             ],
             [
              0.1111111111111111,
              "#46039f"
             ],
             [
              0.2222222222222222,
              "#7201a8"
             ],
             [
              0.3333333333333333,
              "#9c179e"
             ],
             [
              0.4444444444444444,
              "#bd3786"
             ],
             [
              0.5555555555555556,
              "#d8576b"
             ],
             [
              0.6666666666666666,
              "#ed7953"
             ],
             [
              0.7777777777777778,
              "#fb9f3a"
             ],
             [
              0.8888888888888888,
              "#fdca26"
             ],
             [
              1,
              "#f0f921"
             ]
            ],
            "type": "histogram2d"
           }
          ],
          "histogram2dcontour": [
           {
            "colorbar": {
             "outlinewidth": 0,
             "ticks": ""
            },
            "colorscale": [
             [
              0,
              "#0d0887"
             ],
             [
              0.1111111111111111,
              "#46039f"
             ],
             [
              0.2222222222222222,
              "#7201a8"
             ],
             [
              0.3333333333333333,
              "#9c179e"
             ],
             [
              0.4444444444444444,
              "#bd3786"
             ],
             [
              0.5555555555555556,
              "#d8576b"
             ],
             [
              0.6666666666666666,
              "#ed7953"
             ],
             [
              0.7777777777777778,
              "#fb9f3a"
             ],
             [
              0.8888888888888888,
              "#fdca26"
             ],
             [
              1,
              "#f0f921"
             ]
            ],
            "type": "histogram2dcontour"
           }
          ],
          "mesh3d": [
           {
            "colorbar": {
             "outlinewidth": 0,
             "ticks": ""
            },
            "type": "mesh3d"
           }
          ],
          "parcoords": [
           {
            "line": {
             "colorbar": {
              "outlinewidth": 0,
              "ticks": ""
             }
            },
            "type": "parcoords"
           }
          ],
          "pie": [
           {
            "automargin": true,
            "type": "pie"
           }
          ],
          "scatter": [
           {
            "marker": {
             "colorbar": {
              "outlinewidth": 0,
              "ticks": ""
             }
            },
            "type": "scatter"
           }
          ],
          "scatter3d": [
           {
            "line": {
             "colorbar": {
              "outlinewidth": 0,
              "ticks": ""
             }
            },
            "marker": {
             "colorbar": {
              "outlinewidth": 0,
              "ticks": ""
             }
            },
            "type": "scatter3d"
           }
          ],
          "scattercarpet": [
           {
            "marker": {
             "colorbar": {
              "outlinewidth": 0,
              "ticks": ""
             }
            },
            "type": "scattercarpet"
           }
          ],
          "scattergeo": [
           {
            "marker": {
             "colorbar": {
              "outlinewidth": 0,
              "ticks": ""
             }
            },
            "type": "scattergeo"
           }
          ],
          "scattergl": [
           {
            "marker": {
             "colorbar": {
              "outlinewidth": 0,
              "ticks": ""
             }
            },
            "type": "scattergl"
           }
          ],
          "scattermapbox": [
           {
            "marker": {
             "colorbar": {
              "outlinewidth": 0,
              "ticks": ""
             }
            },
            "type": "scattermapbox"
           }
          ],
          "scatterpolar": [
           {
            "marker": {
             "colorbar": {
              "outlinewidth": 0,
              "ticks": ""
             }
            },
            "type": "scatterpolar"
           }
          ],
          "scatterpolargl": [
           {
            "marker": {
             "colorbar": {
              "outlinewidth": 0,
              "ticks": ""
             }
            },
            "type": "scatterpolargl"
           }
          ],
          "scatterternary": [
           {
            "marker": {
             "colorbar": {
              "outlinewidth": 0,
              "ticks": ""
             }
            },
            "type": "scatterternary"
           }
          ],
          "surface": [
           {
            "colorbar": {
             "outlinewidth": 0,
             "ticks": ""
            },
            "colorscale": [
             [
              0,
              "#0d0887"
             ],
             [
              0.1111111111111111,
              "#46039f"
             ],
             [
              0.2222222222222222,
              "#7201a8"
             ],
             [
              0.3333333333333333,
              "#9c179e"
             ],
             [
              0.4444444444444444,
              "#bd3786"
             ],
             [
              0.5555555555555556,
              "#d8576b"
             ],
             [
              0.6666666666666666,
              "#ed7953"
             ],
             [
              0.7777777777777778,
              "#fb9f3a"
             ],
             [
              0.8888888888888888,
              "#fdca26"
             ],
             [
              1,
              "#f0f921"
             ]
            ],
            "type": "surface"
           }
          ],
          "table": [
           {
            "cells": {
             "fill": {
              "color": "#EBF0F8"
             },
             "line": {
              "color": "white"
             }
            },
            "header": {
             "fill": {
              "color": "#C8D4E3"
             },
             "line": {
              "color": "white"
             }
            },
            "type": "table"
           }
          ]
         },
         "layout": {
          "annotationdefaults": {
           "arrowcolor": "#2a3f5f",
           "arrowhead": 0,
           "arrowwidth": 1
          },
          "coloraxis": {
           "colorbar": {
            "outlinewidth": 0,
            "ticks": ""
           }
          },
          "colorscale": {
           "diverging": [
            [
             0,
             "#8e0152"
            ],
            [
             0.1,
             "#c51b7d"
            ],
            [
             0.2,
             "#de77ae"
            ],
            [
             0.3,
             "#f1b6da"
            ],
            [
             0.4,
             "#fde0ef"
            ],
            [
             0.5,
             "#f7f7f7"
            ],
            [
             0.6,
             "#e6f5d0"
            ],
            [
             0.7,
             "#b8e186"
            ],
            [
             0.8,
             "#7fbc41"
            ],
            [
             0.9,
             "#4d9221"
            ],
            [
             1,
             "#276419"
            ]
           ],
           "sequential": [
            [
             0,
             "#0d0887"
            ],
            [
             0.1111111111111111,
             "#46039f"
            ],
            [
             0.2222222222222222,
             "#7201a8"
            ],
            [
             0.3333333333333333,
             "#9c179e"
            ],
            [
             0.4444444444444444,
             "#bd3786"
            ],
            [
             0.5555555555555556,
             "#d8576b"
            ],
            [
             0.6666666666666666,
             "#ed7953"
            ],
            [
             0.7777777777777778,
             "#fb9f3a"
            ],
            [
             0.8888888888888888,
             "#fdca26"
            ],
            [
             1,
             "#f0f921"
            ]
           ],
           "sequentialminus": [
            [
             0,
             "#0d0887"
            ],
            [
             0.1111111111111111,
             "#46039f"
            ],
            [
             0.2222222222222222,
             "#7201a8"
            ],
            [
             0.3333333333333333,
             "#9c179e"
            ],
            [
             0.4444444444444444,
             "#bd3786"
            ],
            [
             0.5555555555555556,
             "#d8576b"
            ],
            [
             0.6666666666666666,
             "#ed7953"
            ],
            [
             0.7777777777777778,
             "#fb9f3a"
            ],
            [
             0.8888888888888888,
             "#fdca26"
            ],
            [
             1,
             "#f0f921"
            ]
           ]
          },
          "colorway": [
           "#636efa",
           "#EF553B",
           "#00cc96",
           "#ab63fa",
           "#FFA15A",
           "#19d3f3",
           "#FF6692",
           "#B6E880",
           "#FF97FF",
           "#FECB52"
          ],
          "font": {
           "color": "#2a3f5f"
          },
          "geo": {
           "bgcolor": "white",
           "lakecolor": "white",
           "landcolor": "#E5ECF6",
           "showlakes": true,
           "showland": true,
           "subunitcolor": "white"
          },
          "hoverlabel": {
           "align": "left"
          },
          "hovermode": "closest",
          "mapbox": {
           "style": "light"
          },
          "paper_bgcolor": "white",
          "plot_bgcolor": "#E5ECF6",
          "polar": {
           "angularaxis": {
            "gridcolor": "white",
            "linecolor": "white",
            "ticks": ""
           },
           "bgcolor": "#E5ECF6",
           "radialaxis": {
            "gridcolor": "white",
            "linecolor": "white",
            "ticks": ""
           }
          },
          "scene": {
           "xaxis": {
            "backgroundcolor": "#E5ECF6",
            "gridcolor": "white",
            "gridwidth": 2,
            "linecolor": "white",
            "showbackground": true,
            "ticks": "",
            "zerolinecolor": "white"
           },
           "yaxis": {
            "backgroundcolor": "#E5ECF6",
            "gridcolor": "white",
            "gridwidth": 2,
            "linecolor": "white",
            "showbackground": true,
            "ticks": "",
            "zerolinecolor": "white"
           },
           "zaxis": {
            "backgroundcolor": "#E5ECF6",
            "gridcolor": "white",
            "gridwidth": 2,
            "linecolor": "white",
            "showbackground": true,
            "ticks": "",
            "zerolinecolor": "white"
           }
          },
          "shapedefaults": {
           "line": {
            "color": "#2a3f5f"
           }
          },
          "ternary": {
           "aaxis": {
            "gridcolor": "white",
            "linecolor": "white",
            "ticks": ""
           },
           "baxis": {
            "gridcolor": "white",
            "linecolor": "white",
            "ticks": ""
           },
           "bgcolor": "#E5ECF6",
           "caxis": {
            "gridcolor": "white",
            "linecolor": "white",
            "ticks": ""
           }
          },
          "title": {
           "x": 0.05
          },
          "xaxis": {
           "automargin": true,
           "gridcolor": "white",
           "linecolor": "white",
           "ticks": "",
           "title": {
            "standoff": 15
           },
           "zerolinecolor": "white",
           "zerolinewidth": 2
          },
          "yaxis": {
           "automargin": true,
           "gridcolor": "white",
           "linecolor": "white",
           "ticks": "",
           "title": {
            "standoff": 15
           },
           "zerolinecolor": "white",
           "zerolinewidth": 2
          }
         }
        },
        "title": {
         "text": "Rank of Years By Most Watched|Movie"
        },
        "xaxis": {
         "title": {
          "text": "Year"
         }
        },
        "yaxis": {
         "title": {
          "text": "Rank"
         }
        }
       }
      },
      "text/html": [
       "<div>\n",
       "        \n",
       "        \n",
       "            <div id=\"8fed52c1-9c6e-4443-b016-0f28074658e6\" class=\"plotly-graph-div\" style=\"height:525px; width:100%;\"></div>\n",
       "            <script type=\"text/javascript\">\n",
       "                require([\"plotly\"], function(Plotly) {\n",
       "                    window.PLOTLYENV=window.PLOTLYENV || {};\n",
       "                    \n",
       "                if (document.getElementById(\"8fed52c1-9c6e-4443-b016-0f28074658e6\")) {\n",
       "                    Plotly.newPlot(\n",
       "                        '8fed52c1-9c6e-4443-b016-0f28074658e6',\n",
       "                        [{\"marker\": {\"color\": [59.0, 58.0, 57.0, 56.0, 55.0, 54.0, 53.0, 52.0, 51.0, 50.0, 49.0, 48.0, 47.0, 46.0, 45.0, 44.0, 43.0, 42.0, 41.0, 40.0, 39.0, 38.0, 37.0, 36.0, 35.0, 34.0, 33.0, 32.0, 31.0, 30.0, 29.0, 28.0, 27.0, 26.0, 25.0, 24.0, 23.0, 22.0, 21.0, 20.0, 19.0, 18.0], \"size\": [59.0, 58.0, 57.0, 56.0, 55.0, 54.0, 53.0, 52.0, 51.0, 50.0, 49.0, 48.0, 47.0, 46.0, 45.0, 44.0, 43.0, 42.0, 41.0, 40.0, 39.0, 38.0, 37.0, 36.0, 35.0, 34.0, 33.0, 32.0, 31.0, 30.0, 29.0, 28.0, 27.0, 26.0, 25.0, 24.0, 23.0, 22.0, 21.0, 20.0, 19.0, 18.0]}, \"mode\": \"markers\", \"type\": \"scatter\", \"x\": [1992, 1972, 2018, 2019, 2016, 2017, 1994, 2020, 2005, 1980, 2010, 2002, 1990, 2009, 1999, 1989, 2014, 2013, 2015, 2012, 2001, 2003, 1993, 2000, 2007, 1998, 1995, 1977, 2006, 2011, 2004, 1997, 1983, 2008, 1987, 1991, 1985, 1974, 1981, 1986, 1988, 1996], \"y\": [1.0, 2.0, 3.0, 4.0, 5.0, 6.0, 7.0, 8.0, 9.0, 10.0, 11.0, 12.0, 13.0, 14.0, 15.0, 16.0, 17.0, 18.0, 19.0, 20.0, 21.0, 22.0, 23.0, 24.0, 25.0, 26.0, 27.0, 28.0, 29.0, 30.0, 31.0, 32.0, 33.0, 34.0, 35.0, 36.0, 37.0, 38.0, 39.0, 40.0, 41.0, 42.0]}],\n",
       "                        {\"template\": {\"data\": {\"bar\": [{\"error_x\": {\"color\": \"#2a3f5f\"}, \"error_y\": {\"color\": \"#2a3f5f\"}, \"marker\": {\"line\": {\"color\": \"#E5ECF6\", \"width\": 0.5}}, \"type\": \"bar\"}], \"barpolar\": [{\"marker\": {\"line\": {\"color\": \"#E5ECF6\", \"width\": 0.5}}, \"type\": \"barpolar\"}], \"carpet\": [{\"aaxis\": {\"endlinecolor\": \"#2a3f5f\", \"gridcolor\": \"white\", \"linecolor\": \"white\", \"minorgridcolor\": \"white\", \"startlinecolor\": \"#2a3f5f\"}, \"baxis\": {\"endlinecolor\": \"#2a3f5f\", \"gridcolor\": \"white\", \"linecolor\": \"white\", \"minorgridcolor\": \"white\", \"startlinecolor\": \"#2a3f5f\"}, \"type\": \"carpet\"}], \"choropleth\": [{\"colorbar\": {\"outlinewidth\": 0, \"ticks\": \"\"}, \"type\": \"choropleth\"}], \"contour\": [{\"colorbar\": {\"outlinewidth\": 0, \"ticks\": \"\"}, \"colorscale\": [[0.0, \"#0d0887\"], [0.1111111111111111, \"#46039f\"], [0.2222222222222222, \"#7201a8\"], [0.3333333333333333, \"#9c179e\"], [0.4444444444444444, \"#bd3786\"], [0.5555555555555556, \"#d8576b\"], [0.6666666666666666, \"#ed7953\"], [0.7777777777777778, \"#fb9f3a\"], [0.8888888888888888, \"#fdca26\"], [1.0, \"#f0f921\"]], \"type\": \"contour\"}], \"contourcarpet\": [{\"colorbar\": {\"outlinewidth\": 0, \"ticks\": \"\"}, \"type\": \"contourcarpet\"}], \"heatmap\": [{\"colorbar\": {\"outlinewidth\": 0, \"ticks\": \"\"}, \"colorscale\": [[0.0, \"#0d0887\"], [0.1111111111111111, \"#46039f\"], [0.2222222222222222, \"#7201a8\"], [0.3333333333333333, \"#9c179e\"], [0.4444444444444444, \"#bd3786\"], [0.5555555555555556, \"#d8576b\"], [0.6666666666666666, \"#ed7953\"], [0.7777777777777778, \"#fb9f3a\"], [0.8888888888888888, \"#fdca26\"], [1.0, \"#f0f921\"]], \"type\": \"heatmap\"}], \"heatmapgl\": [{\"colorbar\": {\"outlinewidth\": 0, \"ticks\": \"\"}, \"colorscale\": [[0.0, \"#0d0887\"], [0.1111111111111111, \"#46039f\"], [0.2222222222222222, \"#7201a8\"], [0.3333333333333333, \"#9c179e\"], [0.4444444444444444, \"#bd3786\"], [0.5555555555555556, \"#d8576b\"], [0.6666666666666666, \"#ed7953\"], [0.7777777777777778, \"#fb9f3a\"], [0.8888888888888888, \"#fdca26\"], [1.0, \"#f0f921\"]], \"type\": \"heatmapgl\"}], \"histogram\": [{\"marker\": {\"colorbar\": {\"outlinewidth\": 0, \"ticks\": \"\"}}, \"type\": \"histogram\"}], \"histogram2d\": [{\"colorbar\": {\"outlinewidth\": 0, \"ticks\": \"\"}, \"colorscale\": [[0.0, \"#0d0887\"], [0.1111111111111111, \"#46039f\"], [0.2222222222222222, \"#7201a8\"], [0.3333333333333333, \"#9c179e\"], [0.4444444444444444, \"#bd3786\"], [0.5555555555555556, \"#d8576b\"], [0.6666666666666666, \"#ed7953\"], [0.7777777777777778, \"#fb9f3a\"], [0.8888888888888888, \"#fdca26\"], [1.0, \"#f0f921\"]], \"type\": \"histogram2d\"}], \"histogram2dcontour\": [{\"colorbar\": {\"outlinewidth\": 0, \"ticks\": \"\"}, \"colorscale\": [[0.0, \"#0d0887\"], [0.1111111111111111, \"#46039f\"], [0.2222222222222222, \"#7201a8\"], [0.3333333333333333, \"#9c179e\"], [0.4444444444444444, \"#bd3786\"], [0.5555555555555556, \"#d8576b\"], [0.6666666666666666, \"#ed7953\"], [0.7777777777777778, \"#fb9f3a\"], [0.8888888888888888, \"#fdca26\"], [1.0, \"#f0f921\"]], \"type\": \"histogram2dcontour\"}], \"mesh3d\": [{\"colorbar\": {\"outlinewidth\": 0, \"ticks\": \"\"}, \"type\": \"mesh3d\"}], \"parcoords\": [{\"line\": {\"colorbar\": {\"outlinewidth\": 0, \"ticks\": \"\"}}, \"type\": \"parcoords\"}], \"pie\": [{\"automargin\": true, \"type\": \"pie\"}], \"scatter\": [{\"marker\": {\"colorbar\": {\"outlinewidth\": 0, \"ticks\": \"\"}}, \"type\": \"scatter\"}], \"scatter3d\": [{\"line\": {\"colorbar\": {\"outlinewidth\": 0, \"ticks\": \"\"}}, \"marker\": {\"colorbar\": {\"outlinewidth\": 0, \"ticks\": \"\"}}, \"type\": \"scatter3d\"}], \"scattercarpet\": [{\"marker\": {\"colorbar\": {\"outlinewidth\": 0, \"ticks\": \"\"}}, \"type\": \"scattercarpet\"}], \"scattergeo\": [{\"marker\": {\"colorbar\": {\"outlinewidth\": 0, \"ticks\": \"\"}}, \"type\": \"scattergeo\"}], \"scattergl\": [{\"marker\": {\"colorbar\": {\"outlinewidth\": 0, \"ticks\": \"\"}}, \"type\": \"scattergl\"}], \"scattermapbox\": [{\"marker\": {\"colorbar\": {\"outlinewidth\": 0, \"ticks\": \"\"}}, \"type\": \"scattermapbox\"}], \"scatterpolar\": [{\"marker\": {\"colorbar\": {\"outlinewidth\": 0, \"ticks\": \"\"}}, \"type\": \"scatterpolar\"}], \"scatterpolargl\": [{\"marker\": {\"colorbar\": {\"outlinewidth\": 0, \"ticks\": \"\"}}, \"type\": \"scatterpolargl\"}], \"scatterternary\": [{\"marker\": {\"colorbar\": {\"outlinewidth\": 0, \"ticks\": \"\"}}, \"type\": \"scatterternary\"}], \"surface\": [{\"colorbar\": {\"outlinewidth\": 0, \"ticks\": \"\"}, \"colorscale\": [[0.0, \"#0d0887\"], [0.1111111111111111, \"#46039f\"], [0.2222222222222222, \"#7201a8\"], [0.3333333333333333, \"#9c179e\"], [0.4444444444444444, \"#bd3786\"], [0.5555555555555556, \"#d8576b\"], [0.6666666666666666, \"#ed7953\"], [0.7777777777777778, \"#fb9f3a\"], [0.8888888888888888, \"#fdca26\"], [1.0, \"#f0f921\"]], \"type\": \"surface\"}], \"table\": [{\"cells\": {\"fill\": {\"color\": \"#EBF0F8\"}, \"line\": {\"color\": \"white\"}}, \"header\": {\"fill\": {\"color\": \"#C8D4E3\"}, \"line\": {\"color\": \"white\"}}, \"type\": \"table\"}]}, \"layout\": {\"annotationdefaults\": {\"arrowcolor\": \"#2a3f5f\", \"arrowhead\": 0, \"arrowwidth\": 1}, \"coloraxis\": {\"colorbar\": {\"outlinewidth\": 0, \"ticks\": \"\"}}, \"colorscale\": {\"diverging\": [[0, \"#8e0152\"], [0.1, \"#c51b7d\"], [0.2, \"#de77ae\"], [0.3, \"#f1b6da\"], [0.4, \"#fde0ef\"], [0.5, \"#f7f7f7\"], [0.6, \"#e6f5d0\"], [0.7, \"#b8e186\"], [0.8, \"#7fbc41\"], [0.9, \"#4d9221\"], [1, \"#276419\"]], \"sequential\": [[0.0, \"#0d0887\"], [0.1111111111111111, \"#46039f\"], [0.2222222222222222, \"#7201a8\"], [0.3333333333333333, \"#9c179e\"], [0.4444444444444444, \"#bd3786\"], [0.5555555555555556, \"#d8576b\"], [0.6666666666666666, \"#ed7953\"], [0.7777777777777778, \"#fb9f3a\"], [0.8888888888888888, \"#fdca26\"], [1.0, \"#f0f921\"]], \"sequentialminus\": [[0.0, \"#0d0887\"], [0.1111111111111111, \"#46039f\"], [0.2222222222222222, \"#7201a8\"], [0.3333333333333333, \"#9c179e\"], [0.4444444444444444, \"#bd3786\"], [0.5555555555555556, \"#d8576b\"], [0.6666666666666666, \"#ed7953\"], [0.7777777777777778, \"#fb9f3a\"], [0.8888888888888888, \"#fdca26\"], [1.0, \"#f0f921\"]]}, \"colorway\": [\"#636efa\", \"#EF553B\", \"#00cc96\", \"#ab63fa\", \"#FFA15A\", \"#19d3f3\", \"#FF6692\", \"#B6E880\", \"#FF97FF\", \"#FECB52\"], \"font\": {\"color\": \"#2a3f5f\"}, \"geo\": {\"bgcolor\": \"white\", \"lakecolor\": \"white\", \"landcolor\": \"#E5ECF6\", \"showlakes\": true, \"showland\": true, \"subunitcolor\": \"white\"}, \"hoverlabel\": {\"align\": \"left\"}, \"hovermode\": \"closest\", \"mapbox\": {\"style\": \"light\"}, \"paper_bgcolor\": \"white\", \"plot_bgcolor\": \"#E5ECF6\", \"polar\": {\"angularaxis\": {\"gridcolor\": \"white\", \"linecolor\": \"white\", \"ticks\": \"\"}, \"bgcolor\": \"#E5ECF6\", \"radialaxis\": {\"gridcolor\": \"white\", \"linecolor\": \"white\", \"ticks\": \"\"}}, \"scene\": {\"xaxis\": {\"backgroundcolor\": \"#E5ECF6\", \"gridcolor\": \"white\", \"gridwidth\": 2, \"linecolor\": \"white\", \"showbackground\": true, \"ticks\": \"\", \"zerolinecolor\": \"white\"}, \"yaxis\": {\"backgroundcolor\": \"#E5ECF6\", \"gridcolor\": \"white\", \"gridwidth\": 2, \"linecolor\": \"white\", \"showbackground\": true, \"ticks\": \"\", \"zerolinecolor\": \"white\"}, \"zaxis\": {\"backgroundcolor\": \"#E5ECF6\", \"gridcolor\": \"white\", \"gridwidth\": 2, \"linecolor\": \"white\", \"showbackground\": true, \"ticks\": \"\", \"zerolinecolor\": \"white\"}}, \"shapedefaults\": {\"line\": {\"color\": \"#2a3f5f\"}}, \"ternary\": {\"aaxis\": {\"gridcolor\": \"white\", \"linecolor\": \"white\", \"ticks\": \"\"}, \"baxis\": {\"gridcolor\": \"white\", \"linecolor\": \"white\", \"ticks\": \"\"}, \"bgcolor\": \"#E5ECF6\", \"caxis\": {\"gridcolor\": \"white\", \"linecolor\": \"white\", \"ticks\": \"\"}}, \"title\": {\"x\": 0.05}, \"xaxis\": {\"automargin\": true, \"gridcolor\": \"white\", \"linecolor\": \"white\", \"ticks\": \"\", \"title\": {\"standoff\": 15}, \"zerolinecolor\": \"white\", \"zerolinewidth\": 2}, \"yaxis\": {\"automargin\": true, \"gridcolor\": \"white\", \"linecolor\": \"white\", \"ticks\": \"\", \"title\": {\"standoff\": 15}, \"zerolinecolor\": \"white\", \"zerolinewidth\": 2}}}, \"title\": {\"text\": \"Rank of Years By Most Watched|Movie\"}, \"xaxis\": {\"title\": {\"text\": \"Year\"}}, \"yaxis\": {\"title\": {\"text\": \"Rank\"}}},\n",
       "                        {\"responsive\": true}\n",
       "                    ).then(function(){\n",
       "                            \n",
       "var gd = document.getElementById('8fed52c1-9c6e-4443-b016-0f28074658e6');\n",
       "var x = new MutationObserver(function (mutations, observer) {{\n",
       "        var display = window.getComputedStyle(gd).display;\n",
       "        if (!display || display === 'none') {{\n",
       "            console.log([gd, 'removed!']);\n",
       "            Plotly.purge(gd);\n",
       "            observer.disconnect();\n",
       "        }}\n",
       "}});\n",
       "\n",
       "// Listen for the removal of the full notebook cells\n",
       "var notebookContainer = gd.closest('#notebook-container');\n",
       "if (notebookContainer) {{\n",
       "    x.observe(notebookContainer, {childList: true});\n",
       "}}\n",
       "\n",
       "// Listen for the clearing of the current output cell\n",
       "var outputEl = gd.closest('.output');\n",
       "if (outputEl) {{\n",
       "    x.observe(outputEl, {childList: true});\n",
       "}}\n",
       "\n",
       "                        })\n",
       "                };\n",
       "                });\n",
       "            </script>\n",
       "        </div>"
      ]
     },
     "metadata": {},
     "output_type": "display_data"
    }
   ],
   "source": [
    "fig= go.Figure()\n",
    "fig.add_trace(go.Scatter(x=x,y=y, mode='markers', marker=dict(size=rank_plot_size,color=rank_plot_size)))\n",
    "fig.update_layout(title=\"Rank of Years By Most Watched|Movie\",xaxis_title=\"Year\", yaxis_title=\"Rank\", )\n",
    "fig.show()\n",
    "\n"
   ]
  },
  {
   "cell_type": "markdown",
   "metadata": {},
   "source": [
    "Year 1991 is ranked highest, while 1996 is lowest which is 42."
   ]
  }
 ],
 "metadata": {
  "kernelspec": {
   "display_name": "Python 3",
   "language": "python",
   "name": "python3"
  },
  "language_info": {
   "codemirror_mode": {
    "name": "ipython",
    "version": 3
   },
   "file_extension": ".py",
   "mimetype": "text/x-python",
   "name": "python",
   "nbconvert_exporter": "python",
   "pygments_lexer": "ipython3",
   "version": "3.7.7"
  },
  "toc": {
   "base_numbering": 1,
   "nav_menu": {},
   "number_sections": true,
   "sideBar": true,
   "skip_h1_title": false,
   "title_cell": "Table of Contents",
   "title_sidebar": "Contents",
   "toc_cell": false,
   "toc_position": {},
   "toc_section_display": true,
   "toc_window_display": false
  },
  "varInspector": {
   "cols": {
    "lenName": 16,
    "lenType": 16,
    "lenVar": 40
   },
   "kernels_config": {
    "python": {
     "delete_cmd_postfix": "",
     "delete_cmd_prefix": "del ",
     "library": "var_list.py",
     "varRefreshCmd": "print(var_dic_list())"
    },
    "r": {
     "delete_cmd_postfix": ") ",
     "delete_cmd_prefix": "rm(",
     "library": "var_list.r",
     "varRefreshCmd": "cat(var_dic_list()) "
    }
   },
   "types_to_exclude": [
    "module",
    "function",
    "builtin_function_or_method",
    "instance",
    "_Feature"
   ],
   "window_display": false
  }
 },
 "nbformat": 4,
 "nbformat_minor": 4
}

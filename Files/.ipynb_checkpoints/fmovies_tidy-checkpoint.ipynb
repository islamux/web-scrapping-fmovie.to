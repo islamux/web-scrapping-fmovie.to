{
 "cells": [
  {
   "cell_type": "markdown",
   "metadata": {},
   "source": [
    "# Introduction."
   ]
  },
  {
   "cell_type": "markdown",
   "metadata": {},
   "source": [
    "Project is the continuation of web crawling of website fmovies's [most-watched](https://fmovies.to/most-watched) section analysis for the website. \n",
    "This is the second part. In part one we crawled websites and extracted informations. In part two we will tidy and clean the data for analysis in third part."
   ]
  },
  {
   "cell_type": "code",
   "execution_count": 58,
   "metadata": {
    "ExecuteTime": {
     "end_time": "2020-07-22T12:38:47.646470Z",
     "start_time": "2020-07-22T12:38:47.638468Z"
    }
   },
   "outputs": [],
   "source": [
    "import pandas as pd\n",
    "import numpy as np"
   ]
  },
  {
   "cell_type": "code",
   "execution_count": 59,
   "metadata": {
    "ExecuteTime": {
     "end_time": "2020-07-22T12:38:47.694474Z",
     "start_time": "2020-07-22T12:38:47.650468Z"
    }
   },
   "outputs": [],
   "source": [
    "movie_df = pd.read_csv('../Data/final_movies_df.csv')\n",
    "tv_df = pd.read_csv('../Data/final_tvs_df.csv')"
   ]
  },
  {
   "cell_type": "code",
   "execution_count": 60,
   "metadata": {
    "ExecuteTime": {
     "end_time": "2020-07-22T12:38:47.710467Z",
     "start_time": "2020-07-22T12:38:47.698469Z"
    },
    "scrolled": true
   },
   "outputs": [
    {
     "name": "stdout",
     "output_type": "stream",
     "text": [
      "Index(['movie_name', 'watch_link', 'date_added', 'site_rank', 'Genre', 'Stars',\n",
      "       'IMDb', 'Director', 'Release', 'Country', 'Rating'],\n",
      "      dtype='object')\n",
      "Index(['tv_name', 'watch_link', 'season', 'episodes', 'date_added',\n",
      "       'site_rank', 'Genre', 'Stars', 'IMDb', 'Director', 'Release', 'Country',\n",
      "       'Rating'],\n",
      "      dtype='object')\n"
     ]
    }
   ],
   "source": [
    "print(movie_df.columns)\n",
    "print(tv_df.columns)"
   ]
  },
  {
   "cell_type": "code",
   "execution_count": 61,
   "metadata": {
    "ExecuteTime": {
     "end_time": "2020-07-22T12:38:47.742468Z",
     "start_time": "2020-07-22T12:38:47.715470Z"
    }
   },
   "outputs": [
    {
     "data": {
      "text/html": [
       "<div>\n",
       "<style scoped>\n",
       "    .dataframe tbody tr th:only-of-type {\n",
       "        vertical-align: middle;\n",
       "    }\n",
       "\n",
       "    .dataframe tbody tr th {\n",
       "        vertical-align: top;\n",
       "    }\n",
       "\n",
       "    .dataframe thead th {\n",
       "        text-align: right;\n",
       "    }\n",
       "</style>\n",
       "<table border=\"1\" class=\"dataframe\">\n",
       "  <thead>\n",
       "    <tr style=\"text-align: right;\">\n",
       "      <th></th>\n",
       "      <th>movie_name</th>\n",
       "      <th>watch_link</th>\n",
       "      <th>date_added</th>\n",
       "      <th>site_rank</th>\n",
       "      <th>Genre</th>\n",
       "      <th>Stars</th>\n",
       "      <th>IMDb</th>\n",
       "      <th>Director</th>\n",
       "      <th>Release</th>\n",
       "      <th>Country</th>\n",
       "      <th>Rating</th>\n",
       "    </tr>\n",
       "  </thead>\n",
       "  <tbody>\n",
       "    <tr>\n",
       "      <th>0</th>\n",
       "      <td>Avengers: Endgame</td>\n",
       "      <td>https://fmovies.to/film/avengers-endgame.xjm5v</td>\n",
       "      <td>2020-07-14</td>\n",
       "      <td>1</td>\n",
       "      <td>Sci-Fi,Adventure,Action,Fantasy</td>\n",
       "      <td>Don Cheadle,Anthony Mackie,Rene Russo,Mark Ruf...</td>\n",
       "      <td>8.4</td>\n",
       "      <td>Anthony Russo,Joe Russo</td>\n",
       "      <td>2019-04-22</td>\n",
       "      <td>United States</td>\n",
       "      <td>7.1/12,640 times</td>\n",
       "    </tr>\n",
       "    <tr>\n",
       "      <th>1</th>\n",
       "      <td>Avengers: Infinity War</td>\n",
       "      <td>https://fmovies.to/film/avengers-infinity-war....</td>\n",
       "      <td>2020-07-14</td>\n",
       "      <td>3</td>\n",
       "      <td>Sci-Fi,Adventure,Action,Fantasy</td>\n",
       "      <td>William Hurt,Don Cheadle,Anthony Mackie,Benici...</td>\n",
       "      <td>8.5</td>\n",
       "      <td>Anthony Russo,Joe Russo</td>\n",
       "      <td>2018-04-23</td>\n",
       "      <td>United States</td>\n",
       "      <td>6.2/21,830 times</td>\n",
       "    </tr>\n",
       "    <tr>\n",
       "      <th>2</th>\n",
       "      <td>Aquaman</td>\n",
       "      <td>https://fmovies.to/film/aquaman.qk91j</td>\n",
       "      <td>2020-07-14</td>\n",
       "      <td>4</td>\n",
       "      <td>Sci-Fi,Adventure,Action,Fantasy</td>\n",
       "      <td>Nicole Kidman,Michael Beach,Patrick Wilson,Jul...</td>\n",
       "      <td>7.0</td>\n",
       "      <td>James Wan</td>\n",
       "      <td>2018-11-26</td>\n",
       "      <td>United States,Australia</td>\n",
       "      <td>6.7/8,924 times</td>\n",
       "    </tr>\n",
       "    <tr>\n",
       "      <th>3</th>\n",
       "      <td>Spider-Man: Far from Home</td>\n",
       "      <td>https://fmovies.to/film/spider-man-far-from-ho...</td>\n",
       "      <td>2020-07-14</td>\n",
       "      <td>5</td>\n",
       "      <td>Sci-Fi,Adventure,Action</td>\n",
       "      <td>Samuel L Jackson,Marisa Tomei,Zendaya,Jake Gyl...</td>\n",
       "      <td>7.5</td>\n",
       "      <td>Jon Watts</td>\n",
       "      <td>2019-06-26</td>\n",
       "      <td>United States</td>\n",
       "      <td>6.1/6,514 times</td>\n",
       "    </tr>\n",
       "    <tr>\n",
       "      <th>4</th>\n",
       "      <td>Aladdin</td>\n",
       "      <td>https://fmovies.to/film/aladdin.z10p2</td>\n",
       "      <td>2020-07-14</td>\n",
       "      <td>6</td>\n",
       "      <td>Comedy,Adventure,Romance,Fantasy,Family</td>\n",
       "      <td>Will Smith,Navid Negahban,Numan Acar,Stefan Ka...</td>\n",
       "      <td>7.0</td>\n",
       "      <td>Guy Ritchie</td>\n",
       "      <td>2019-05-08</td>\n",
       "      <td>United States</td>\n",
       "      <td>6.7/4,979 times</td>\n",
       "    </tr>\n",
       "  </tbody>\n",
       "</table>\n",
       "</div>"
      ],
      "text/plain": [
       "                  movie_name  \\\n",
       "0          Avengers: Endgame   \n",
       "1     Avengers: Infinity War   \n",
       "2                    Aquaman   \n",
       "3  Spider-Man: Far from Home   \n",
       "4                    Aladdin   \n",
       "\n",
       "                                          watch_link  date_added  site_rank  \\\n",
       "0     https://fmovies.to/film/avengers-endgame.xjm5v  2020-07-14          1   \n",
       "1  https://fmovies.to/film/avengers-infinity-war....  2020-07-14          3   \n",
       "2              https://fmovies.to/film/aquaman.qk91j  2020-07-14          4   \n",
       "3  https://fmovies.to/film/spider-man-far-from-ho...  2020-07-14          5   \n",
       "4              https://fmovies.to/film/aladdin.z10p2  2020-07-14          6   \n",
       "\n",
       "                                     Genre  \\\n",
       "0          Sci-Fi,Adventure,Action,Fantasy   \n",
       "1          Sci-Fi,Adventure,Action,Fantasy   \n",
       "2          Sci-Fi,Adventure,Action,Fantasy   \n",
       "3                  Sci-Fi,Adventure,Action   \n",
       "4  Comedy,Adventure,Romance,Fantasy,Family   \n",
       "\n",
       "                                               Stars  IMDb  \\\n",
       "0  Don Cheadle,Anthony Mackie,Rene Russo,Mark Ruf...   8.4   \n",
       "1  William Hurt,Don Cheadle,Anthony Mackie,Benici...   8.5   \n",
       "2  Nicole Kidman,Michael Beach,Patrick Wilson,Jul...   7.0   \n",
       "3  Samuel L Jackson,Marisa Tomei,Zendaya,Jake Gyl...   7.5   \n",
       "4  Will Smith,Navid Negahban,Numan Acar,Stefan Ka...   7.0   \n",
       "\n",
       "                  Director     Release                  Country  \\\n",
       "0  Anthony Russo,Joe Russo  2019-04-22            United States   \n",
       "1  Anthony Russo,Joe Russo  2018-04-23            United States   \n",
       "2                James Wan  2018-11-26  United States,Australia   \n",
       "3                Jon Watts  2019-06-26            United States   \n",
       "4              Guy Ritchie  2019-05-08            United States   \n",
       "\n",
       "             Rating  \n",
       "0  7.1/12,640 times  \n",
       "1  6.2/21,830 times  \n",
       "2   6.7/8,924 times  \n",
       "3   6.1/6,514 times  \n",
       "4   6.7/4,979 times  "
      ]
     },
     "execution_count": 61,
     "metadata": {},
     "output_type": "execute_result"
    }
   ],
   "source": [
    "movie_df.head()"
   ]
  },
  {
   "cell_type": "markdown",
   "metadata": {},
   "source": [
    "# Columns\n",
    "\n",
    "- 'movie_name/ tv_name' : Name of movie / tv \n",
    "- 'watch_link': Url link for page to watch movie/tv, \n",
    "- 'date_added': Date added to df not in fmovies\n",
    "- 'site_rank': Ranking in the fmovies by order of most watched starting from 1.\n",
    "- 'Genre': Genres\n",
    "- 'Stars': Cast,\n",
    "- 'IMDb': IMDb ratings,\n",
    "- 'Director': Director, \n",
    "- 'Release': Released Date for Movie/TV,\n",
    "- 'Country': Origin country can be more than one\n",
    "- 'Rating'- Average reviews by viewers on the fmovies.to websie\n",
    "- 'season' - Which season, only for tv shows\n",
    "- 'episodes' - Number of episoded available for tv shows \n"
   ]
  },
  {
   "cell_type": "markdown",
   "metadata": {},
   "source": [
    "## Rename Columns All Uppercase"
   ]
  },
  {
   "cell_type": "code",
   "execution_count": 62,
   "metadata": {
    "ExecuteTime": {
     "end_time": "2020-07-22T12:38:47.758467Z",
     "start_time": "2020-07-22T12:38:47.746468Z"
    }
   },
   "outputs": [],
   "source": [
    "movie_df.columns = movie_df.columns.str.upper().tolist()\n",
    "tv_df.columns = tv_df.columns.str.upper().tolist()"
   ]
  },
  {
   "cell_type": "code",
   "execution_count": 63,
   "metadata": {
    "ExecuteTime": {
     "end_time": "2020-07-22T12:38:47.793465Z",
     "start_time": "2020-07-22T12:38:47.762468Z"
    },
    "scrolled": true
   },
   "outputs": [
    {
     "data": {
      "text/html": [
       "<div>\n",
       "<style scoped>\n",
       "    .dataframe tbody tr th:only-of-type {\n",
       "        vertical-align: middle;\n",
       "    }\n",
       "\n",
       "    .dataframe tbody tr th {\n",
       "        vertical-align: top;\n",
       "    }\n",
       "\n",
       "    .dataframe thead th {\n",
       "        text-align: right;\n",
       "    }\n",
       "</style>\n",
       "<table border=\"1\" class=\"dataframe\">\n",
       "  <thead>\n",
       "    <tr style=\"text-align: right;\">\n",
       "      <th></th>\n",
       "      <th>TV_NAME</th>\n",
       "      <th>WATCH_LINK</th>\n",
       "      <th>SEASON</th>\n",
       "      <th>EPISODES</th>\n",
       "      <th>DATE_ADDED</th>\n",
       "      <th>SITE_RANK</th>\n",
       "      <th>GENRE</th>\n",
       "      <th>STARS</th>\n",
       "      <th>IMDB</th>\n",
       "      <th>DIRECTOR</th>\n",
       "      <th>RELEASE</th>\n",
       "      <th>COUNTRY</th>\n",
       "      <th>RATING</th>\n",
       "    </tr>\n",
       "  </thead>\n",
       "  <tbody>\n",
       "    <tr>\n",
       "      <th>0</th>\n",
       "      <td>Game of Thrones</td>\n",
       "      <td>https://fmovies.to/film/game-of-thrones.3yl2</td>\n",
       "      <td>8</td>\n",
       "      <td>6</td>\n",
       "      <td>2020-07-14</td>\n",
       "      <td>2</td>\n",
       "      <td>Drama,Adventure,Fantasy</td>\n",
       "      <td>Peter Dinklage,Kit Harington,Emilia Clarke</td>\n",
       "      <td>9.3</td>\n",
       "      <td>David Benioff,D.b. Weiss</td>\n",
       "      <td>2011-04-17</td>\n",
       "      <td>United States,United Kingdom</td>\n",
       "      <td>6.3/20,443 times</td>\n",
       "    </tr>\n",
       "    <tr>\n",
       "      <th>1</th>\n",
       "      <td>The Big Bang Theory</td>\n",
       "      <td>https://fmovies.to/film/the-big-bang-theory.n5x8</td>\n",
       "      <td>12</td>\n",
       "      <td>23</td>\n",
       "      <td>2020-07-14</td>\n",
       "      <td>16</td>\n",
       "      <td>Comedy,Romance</td>\n",
       "      <td>Bob Newhart,Sara Gilbert,Kaley Cuoco,Wil Wheat...</td>\n",
       "      <td>8.1</td>\n",
       "      <td>Mark Cendrowski,Anthony Rich,Peter Chakos,Nico...</td>\n",
       "      <td>2006-05-01</td>\n",
       "      <td>United States</td>\n",
       "      <td>6.2/5,406 times</td>\n",
       "    </tr>\n",
       "  </tbody>\n",
       "</table>\n",
       "</div>"
      ],
      "text/plain": [
       "               TV_NAME                                        WATCH_LINK  \\\n",
       "0      Game of Thrones      https://fmovies.to/film/game-of-thrones.3yl2   \n",
       "1  The Big Bang Theory  https://fmovies.to/film/the-big-bang-theory.n5x8   \n",
       "\n",
       "   SEASON  EPISODES  DATE_ADDED  SITE_RANK                    GENRE  \\\n",
       "0       8         6  2020-07-14          2  Drama,Adventure,Fantasy   \n",
       "1      12        23  2020-07-14         16           Comedy,Romance   \n",
       "\n",
       "                                               STARS  IMDB  \\\n",
       "0         Peter Dinklage,Kit Harington,Emilia Clarke   9.3   \n",
       "1  Bob Newhart,Sara Gilbert,Kaley Cuoco,Wil Wheat...   8.1   \n",
       "\n",
       "                                            DIRECTOR     RELEASE  \\\n",
       "0                           David Benioff,D.b. Weiss  2011-04-17   \n",
       "1  Mark Cendrowski,Anthony Rich,Peter Chakos,Nico...  2006-05-01   \n",
       "\n",
       "                        COUNTRY            RATING  \n",
       "0  United States,United Kingdom  6.3/20,443 times  \n",
       "1                 United States   6.2/5,406 times  "
      ]
     },
     "execution_count": 63,
     "metadata": {},
     "output_type": "execute_result"
    }
   ],
   "source": [
    "tv_df.head(2)"
   ]
  },
  {
   "cell_type": "code",
   "execution_count": 64,
   "metadata": {
    "ExecuteTime": {
     "end_time": "2020-07-22T12:38:47.838468Z",
     "start_time": "2020-07-22T12:38:47.797468Z"
    }
   },
   "outputs": [
    {
     "data": {
      "text/html": [
       "<div>\n",
       "<style scoped>\n",
       "    .dataframe tbody tr th:only-of-type {\n",
       "        vertical-align: middle;\n",
       "    }\n",
       "\n",
       "    .dataframe tbody tr th {\n",
       "        vertical-align: top;\n",
       "    }\n",
       "\n",
       "    .dataframe thead th {\n",
       "        text-align: right;\n",
       "    }\n",
       "</style>\n",
       "<table border=\"1\" class=\"dataframe\">\n",
       "  <thead>\n",
       "    <tr style=\"text-align: right;\">\n",
       "      <th></th>\n",
       "      <th>MOVIE_NAME</th>\n",
       "      <th>WATCH_LINK</th>\n",
       "      <th>DATE_ADDED</th>\n",
       "      <th>SITE_RANK</th>\n",
       "      <th>GENRE</th>\n",
       "      <th>STARS</th>\n",
       "      <th>IMDB</th>\n",
       "      <th>DIRECTOR</th>\n",
       "      <th>RELEASE</th>\n",
       "      <th>COUNTRY</th>\n",
       "      <th>RATING</th>\n",
       "    </tr>\n",
       "  </thead>\n",
       "  <tbody>\n",
       "    <tr>\n",
       "      <th>0</th>\n",
       "      <td>Avengers: Endgame</td>\n",
       "      <td>https://fmovies.to/film/avengers-endgame.xjm5v</td>\n",
       "      <td>2020-07-14</td>\n",
       "      <td>1</td>\n",
       "      <td>Sci-Fi,Adventure,Action,Fantasy</td>\n",
       "      <td>Don Cheadle,Anthony Mackie,Rene Russo,Mark Ruf...</td>\n",
       "      <td>8.4</td>\n",
       "      <td>Anthony Russo,Joe Russo</td>\n",
       "      <td>2019-04-22</td>\n",
       "      <td>United States</td>\n",
       "      <td>7.1/12,640 times</td>\n",
       "    </tr>\n",
       "    <tr>\n",
       "      <th>1</th>\n",
       "      <td>Avengers: Infinity War</td>\n",
       "      <td>https://fmovies.to/film/avengers-infinity-war....</td>\n",
       "      <td>2020-07-14</td>\n",
       "      <td>3</td>\n",
       "      <td>Sci-Fi,Adventure,Action,Fantasy</td>\n",
       "      <td>William Hurt,Don Cheadle,Anthony Mackie,Benici...</td>\n",
       "      <td>8.5</td>\n",
       "      <td>Anthony Russo,Joe Russo</td>\n",
       "      <td>2018-04-23</td>\n",
       "      <td>United States</td>\n",
       "      <td>6.2/21,830 times</td>\n",
       "    </tr>\n",
       "  </tbody>\n",
       "</table>\n",
       "</div>"
      ],
      "text/plain": [
       "               MOVIE_NAME                                         WATCH_LINK  \\\n",
       "0       Avengers: Endgame     https://fmovies.to/film/avengers-endgame.xjm5v   \n",
       "1  Avengers: Infinity War  https://fmovies.to/film/avengers-infinity-war....   \n",
       "\n",
       "   DATE_ADDED  SITE_RANK                            GENRE  \\\n",
       "0  2020-07-14          1  Sci-Fi,Adventure,Action,Fantasy   \n",
       "1  2020-07-14          3  Sci-Fi,Adventure,Action,Fantasy   \n",
       "\n",
       "                                               STARS  IMDB  \\\n",
       "0  Don Cheadle,Anthony Mackie,Rene Russo,Mark Ruf...   8.4   \n",
       "1  William Hurt,Don Cheadle,Anthony Mackie,Benici...   8.5   \n",
       "\n",
       "                  DIRECTOR     RELEASE        COUNTRY            RATING  \n",
       "0  Anthony Russo,Joe Russo  2019-04-22  United States  7.1/12,640 times  \n",
       "1  Anthony Russo,Joe Russo  2018-04-23  United States  6.2/21,830 times  "
      ]
     },
     "execution_count": 64,
     "metadata": {},
     "output_type": "execute_result"
    }
   ],
   "source": [
    "movie_df.head(2)"
   ]
  },
  {
   "cell_type": "markdown",
   "metadata": {},
   "source": [
    "# Tidying"
   ]
  },
  {
   "cell_type": "markdown",
   "metadata": {},
   "source": [
    "1. Genre section has list of values in one row, lets make one value per row.\n",
    "2. Released Data can be converted to date time and then to index of df\n",
    "3. Ratings have to values, 1st is the site ratings and second is number of reviews by viewers. Lets separate them different columns."
   ]
  },
  {
   "cell_type": "markdown",
   "metadata": {},
   "source": [
    "## Genre Split and Date Column"
   ]
  },
  {
   "cell_type": "markdown",
   "metadata": {},
   "source": [
    "Lets make a function that splits and stacks the genre into multiple rows, like [this](https://stackoverflow.com/questions/17116814/pandas-how-do-i-split-text-in-a-column-into-multiple-rows/21032532). More, lets just reset index to release date."
   ]
  },
  {
   "cell_type": "code",
   "execution_count": 65,
   "metadata": {
    "ExecuteTime": {
     "end_time": "2020-07-22T12:38:47.870468Z",
     "start_time": "2020-07-22T12:38:47.843468Z"
    }
   },
   "outputs": [],
   "source": [
    "def split_genre(df):\n",
    "   \n",
    "    cp= df.copy()\n",
    "    \n",
    "    # Spilt the genre by \",\" and stack to make muliple rows each with own unique genre\n",
    "    # this will return a new df with genres only\n",
    "    genre=  cp.GENRE.str.split(',').apply(pd.Series, 1).stack()\n",
    "    \n",
    "    # Pop one of index\n",
    "    genre.index = genre.index.droplevel(-1)\n",
    "    \n",
    "    # Provide name to series\n",
    "    genre.name= \"GENRE\"\n",
    "    \n",
    "    \n",
    "    #delete the original genre from original df\n",
    "    cp.drop(\"GENRE\", axis=True, inplace=True)\n",
    "    \n",
    "    # Create a new df \n",
    "    new_df = cp.copy().join(genre)\n",
    "    # change release date from string to datetime and drop release column\n",
    "    new_df['Date'] = pd.to_datetime(new_df['RELEASE'], format=\"%Y-%m-%d\")\n",
    "    new_df.drop('RELEASE', axis=1, inplace=True)\n",
    "    # Reset index\n",
    "    new_df.set_index('Date',drop=True, inplace=True)\n",
    "    \n",
    "    return new_df"
   ]
  },
  {
   "cell_type": "code",
   "execution_count": 66,
   "metadata": {
    "ExecuteTime": {
     "end_time": "2020-07-22T12:38:48.348468Z",
     "start_time": "2020-07-22T12:38:47.874467Z"
    }
   },
   "outputs": [],
   "source": [
    "movie_df_tidy_1 = split_genre(movie_df)"
   ]
  },
  {
   "cell_type": "code",
   "execution_count": 67,
   "metadata": {
    "ExecuteTime": {
     "end_time": "2020-07-22T12:38:48.474478Z",
     "start_time": "2020-07-22T12:38:48.351468Z"
    }
   },
   "outputs": [],
   "source": [
    "tv_df_tidy_1 = split_genre(tv_df)"
   ]
  },
  {
   "cell_type": "markdown",
   "metadata": {},
   "source": [
    "## Ratings Columns Split "
   ]
  },
  {
   "cell_type": "code",
   "execution_count": 68,
   "metadata": {
    "ExecuteTime": {
     "end_time": "2020-07-22T12:38:48.522472Z",
     "start_time": "2020-07-22T12:38:48.477467Z"
    }
   },
   "outputs": [],
   "source": [
    "site_user_rating_4movie = movie_df_tidy_1.RATING.str.split(\"/\").str[0]\n",
    "site_number_user_rated_4movie = movie_df_tidy_1.RATING.str.split(\"/\").str[1].str.split(\" \").str[0]\n"
   ]
  },
  {
   "cell_type": "code",
   "execution_count": 69,
   "metadata": {
    "ExecuteTime": {
     "end_time": "2020-07-22T12:38:48.554467Z",
     "start_time": "2020-07-22T12:38:48.525466Z"
    }
   },
   "outputs": [],
   "source": [
    "site_user_rating_4tv = tv_df_tidy_1.RATING.str.split(\"/\").str[0]\n",
    "site_number_user_rated_4tv = tv_df_tidy_1.RATING.str.split(\"/\").str[1].str.split(\" \").str[0]\n"
   ]
  },
  {
   "cell_type": "markdown",
   "metadata": {},
   "source": [
    "### Assign  New cols and Drop the olds"
   ]
  },
  {
   "cell_type": "code",
   "execution_count": 70,
   "metadata": {
    "ExecuteTime": {
     "end_time": "2020-07-22T12:38:48.570466Z",
     "start_time": "2020-07-22T12:38:48.557468Z"
    }
   },
   "outputs": [],
   "source": [
    "tv_df_tidy_2 = tv_df_tidy_1.copy()\n",
    "movie_df_tidy_2= movie_df_tidy_1.copy()"
   ]
  },
  {
   "cell_type": "code",
   "execution_count": 71,
   "metadata": {
    "ExecuteTime": {
     "end_time": "2020-07-22T12:38:48.586465Z",
     "start_time": "2020-07-22T12:38:48.573468Z"
    }
   },
   "outputs": [],
   "source": [
    "movie_df_tidy_2['User_Reviews_local'] = site_user_rating_4movie\n",
    "movie_df_tidy_2['Number_Reviews_local'] = site_number_user_rated_4movie"
   ]
  },
  {
   "cell_type": "code",
   "execution_count": 72,
   "metadata": {
    "ExecuteTime": {
     "end_time": "2020-07-22T12:38:48.602465Z",
     "start_time": "2020-07-22T12:38:48.590470Z"
    }
   },
   "outputs": [],
   "source": [
    "tv_df_tidy_2['User_Reviews_local'] = site_user_rating_4tv\n",
    "tv_df_tidy_2['Number_Reviews_local'] = site_number_user_rated_4tv"
   ]
  },
  {
   "cell_type": "code",
   "execution_count": 73,
   "metadata": {
    "ExecuteTime": {
     "end_time": "2020-07-22T12:38:48.634464Z",
     "start_time": "2020-07-22T12:38:48.606472Z"
    },
    "scrolled": true
   },
   "outputs": [],
   "source": [
    "tv_df_tidy_2.drop('RATING', inplace=True,axis=1)\n",
    "movie_df_tidy_2.drop('RATING', inplace=True,axis=1)"
   ]
  },
  {
   "cell_type": "markdown",
   "metadata": {},
   "source": [
    "# Missing Vlaues"
   ]
  },
  {
   "cell_type": "code",
   "execution_count": 74,
   "metadata": {
    "ExecuteTime": {
     "end_time": "2020-07-22T12:38:48.682465Z",
     "start_time": "2020-07-22T12:38:48.638470Z"
    },
    "scrolled": false
   },
   "outputs": [
    {
     "name": "stdout",
     "output_type": "stream",
     "text": [
      "<class 'pandas.core.frame.DataFrame'>\n",
      "DatetimeIndex: 3790 entries, 2019-04-22 to 2007-02-09\n",
      "Data columns (total 11 columns):\n",
      " #   Column                Non-Null Count  Dtype  \n",
      "---  ------                --------------  -----  \n",
      " 0   MOVIE_NAME            3790 non-null   object \n",
      " 1   WATCH_LINK            3790 non-null   object \n",
      " 2   DATE_ADDED            3790 non-null   object \n",
      " 3   SITE_RANK             3790 non-null   int64  \n",
      " 4   STARS                 3788 non-null   object \n",
      " 5   IMDB                  3788 non-null   float64\n",
      " 6   DIRECTOR              3788 non-null   object \n",
      " 7   COUNTRY               3788 non-null   object \n",
      " 8   GENRE                 3788 non-null   object \n",
      " 9   User_Reviews_local    3788 non-null   object \n",
      " 10  Number_Reviews_local  3788 non-null   object \n",
      "dtypes: float64(1), int64(1), object(9)\n",
      "memory usage: 355.3+ KB\n",
      "None\n",
      "****************************************\n",
      "<class 'pandas.core.frame.DataFrame'>\n",
      "DatetimeIndex: 764 entries, 2011-04-17 to 2019-03-28\n",
      "Data columns (total 13 columns):\n",
      " #   Column                Non-Null Count  Dtype  \n",
      "---  ------                --------------  -----  \n",
      " 0   TV_NAME               764 non-null    object \n",
      " 1   WATCH_LINK            764 non-null    object \n",
      " 2   SEASON                764 non-null    int64  \n",
      " 3   EPISODES              764 non-null    int64  \n",
      " 4   DATE_ADDED            764 non-null    object \n",
      " 5   SITE_RANK             764 non-null    int64  \n",
      " 6   STARS                 764 non-null    object \n",
      " 7   IMDB                  764 non-null    float64\n",
      " 8   DIRECTOR              764 non-null    object \n",
      " 9   COUNTRY               764 non-null    object \n",
      " 10  GENRE                 764 non-null    object \n",
      " 11  User_Reviews_local    764 non-null    object \n",
      " 12  Number_Reviews_local  764 non-null    object \n",
      "dtypes: float64(1), int64(3), object(9)\n",
      "memory usage: 83.6+ KB\n",
      "None\n"
     ]
    }
   ],
   "source": [
    "print(movie_df_tidy_2.info())\n",
    "\n",
    "print(\"**\"*20)\n",
    "print(tv_df_tidy_2.info())"
   ]
  },
  {
   "cell_type": "markdown",
   "metadata": {},
   "source": [
    "It seems only movies has null vaules, lets dive deeper."
   ]
  },
  {
   "cell_type": "code",
   "execution_count": 75,
   "metadata": {
    "ExecuteTime": {
     "end_time": "2020-07-22T12:38:48.712468Z",
     "start_time": "2020-07-22T12:38:48.684465Z"
    },
    "scrolled": true
   },
   "outputs": [
    {
     "data": {
      "text/html": [
       "<div>\n",
       "<style scoped>\n",
       "    .dataframe tbody tr th:only-of-type {\n",
       "        vertical-align: middle;\n",
       "    }\n",
       "\n",
       "    .dataframe tbody tr th {\n",
       "        vertical-align: top;\n",
       "    }\n",
       "\n",
       "    .dataframe thead th {\n",
       "        text-align: right;\n",
       "    }\n",
       "</style>\n",
       "<table border=\"1\" class=\"dataframe\">\n",
       "  <thead>\n",
       "    <tr style=\"text-align: right;\">\n",
       "      <th></th>\n",
       "      <th>MOVIE_NAME</th>\n",
       "      <th>WATCH_LINK</th>\n",
       "      <th>DATE_ADDED</th>\n",
       "      <th>SITE_RANK</th>\n",
       "      <th>STARS</th>\n",
       "      <th>IMDB</th>\n",
       "      <th>DIRECTOR</th>\n",
       "      <th>COUNTRY</th>\n",
       "      <th>GENRE</th>\n",
       "      <th>User_Reviews_local</th>\n",
       "      <th>Number_Reviews_local</th>\n",
       "    </tr>\n",
       "    <tr>\n",
       "      <th>Date</th>\n",
       "      <th></th>\n",
       "      <th></th>\n",
       "      <th></th>\n",
       "      <th></th>\n",
       "      <th></th>\n",
       "      <th></th>\n",
       "      <th></th>\n",
       "      <th></th>\n",
       "      <th></th>\n",
       "      <th></th>\n",
       "      <th></th>\n",
       "    </tr>\n",
       "  </thead>\n",
       "  <tbody>\n",
       "    <tr>\n",
       "      <th>NaT</th>\n",
       "      <td>Brightburn</td>\n",
       "      <td>https://fmovies.to/film/brightburn.pj38q</td>\n",
       "      <td>2020-07-14</td>\n",
       "      <td>68</td>\n",
       "      <td>NaN</td>\n",
       "      <td>NaN</td>\n",
       "      <td>NaN</td>\n",
       "      <td>NaN</td>\n",
       "      <td>NaN</td>\n",
       "      <td>NaN</td>\n",
       "      <td>NaN</td>\n",
       "    </tr>\n",
       "    <tr>\n",
       "      <th>NaT</th>\n",
       "      <td>The Wolverine</td>\n",
       "      <td>https://fmovies.to/film/the-wolverine.7jm7</td>\n",
       "      <td>2020-07-14</td>\n",
       "      <td>1062</td>\n",
       "      <td>NaN</td>\n",
       "      <td>NaN</td>\n",
       "      <td>NaN</td>\n",
       "      <td>NaN</td>\n",
       "      <td>NaN</td>\n",
       "      <td>NaN</td>\n",
       "      <td>NaN</td>\n",
       "    </tr>\n",
       "  </tbody>\n",
       "</table>\n",
       "</div>"
      ],
      "text/plain": [
       "         MOVIE_NAME                                  WATCH_LINK  DATE_ADDED  \\\n",
       "Date                                                                          \n",
       "NaT      Brightburn    https://fmovies.to/film/brightburn.pj38q  2020-07-14   \n",
       "NaT   The Wolverine  https://fmovies.to/film/the-wolverine.7jm7  2020-07-14   \n",
       "\n",
       "      SITE_RANK STARS  IMDB DIRECTOR COUNTRY GENRE User_Reviews_local  \\\n",
       "Date                                                                    \n",
       "NaT          68   NaN   NaN      NaN     NaN   NaN                NaN   \n",
       "NaT        1062   NaN   NaN      NaN     NaN   NaN                NaN   \n",
       "\n",
       "     Number_Reviews_local  \n",
       "Date                       \n",
       "NaT                   NaN  \n",
       "NaT                   NaN  "
      ]
     },
     "execution_count": 75,
     "metadata": {},
     "output_type": "execute_result"
    }
   ],
   "source": [
    "movie_df_tidy_2[movie_df_tidy_2.GENRE.isnull()]"
   ]
  },
  {
   "cell_type": "markdown",
   "metadata": {},
   "source": [
    " Earlier to prevent prolongation of crawling, we returned nan for bad requests. We can individually go throguh each link to values but lets drop them for now."
   ]
  },
  {
   "cell_type": "code",
   "execution_count": 76,
   "metadata": {
    "ExecuteTime": {
     "end_time": "2020-07-22T12:38:48.744466Z",
     "start_time": "2020-07-22T12:38:48.719471Z"
    }
   },
   "outputs": [],
   "source": [
    "movie_df_tidy_2.dropna(inplace=True,axis=0)"
   ]
  },
  {
   "cell_type": "markdown",
   "metadata": {},
   "source": [
    "# Write file for analysis part"
   ]
  },
  {
   "cell_type": "markdown",
   "metadata": {},
   "source": [
    "Index false argument on write will remove date index so lets not do that."
   ]
  },
  {
   "cell_type": "code",
   "execution_count": 77,
   "metadata": {
    "ExecuteTime": {
     "end_time": "2020-07-22T12:38:48.888466Z",
     "start_time": "2020-07-22T12:38:48.747468Z"
    }
   },
   "outputs": [],
   "source": [
    "movie_df_tidy_2.to_csv('../Data/Movie.csv')\n",
    "tv_df_tidy_2.to_csv('../Data/TV.csv')"
   ]
  }
 ],
 "metadata": {
  "kernelspec": {
   "display_name": "Python 3",
   "language": "python",
   "name": "python3"
  },
  "language_info": {
   "codemirror_mode": {
    "name": "ipython",
    "version": 3
   },
   "file_extension": ".py",
   "mimetype": "text/x-python",
   "name": "python",
   "nbconvert_exporter": "python",
   "pygments_lexer": "ipython3",
   "version": "3.7.7"
  },
  "toc": {
   "base_numbering": 1,
   "nav_menu": {},
   "number_sections": true,
   "sideBar": true,
   "skip_h1_title": false,
   "title_cell": "Table of Contents",
   "title_sidebar": "Contents",
   "toc_cell": false,
   "toc_position": {},
   "toc_section_display": true,
   "toc_window_display": false
  },
  "varInspector": {
   "cols": {
    "lenName": 16,
    "lenType": 16,
    "lenVar": 40
   },
   "kernels_config": {
    "python": {
     "delete_cmd_postfix": "",
     "delete_cmd_prefix": "del ",
     "library": "var_list.py",
     "varRefreshCmd": "print(var_dic_list())"
    },
    "r": {
     "delete_cmd_postfix": ") ",
     "delete_cmd_prefix": "rm(",
     "library": "var_list.r",
     "varRefreshCmd": "cat(var_dic_list()) "
    }
   },
   "types_to_exclude": [
    "module",
    "function",
    "builtin_function_or_method",
    "instance",
    "_Feature"
   ],
   "window_display": false
  }
 },
 "nbformat": 4,
 "nbformat_minor": 4
}

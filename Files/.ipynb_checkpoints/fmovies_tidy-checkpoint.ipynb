{
 "cells": [
  {
   "cell_type": "markdown",
   "metadata": {},
   "source": [
    "# Introduction."
   ]
  },
  {
   "cell_type": "markdown",
   "metadata": {},
   "source": [
    "Project is the continuation of web crawling of website fmovies's [most-watched](https://fmovies.to/most-watched) section analysis for the website. \n",
    "This is the second part. In part one we crawled websites and extracted informations. In part two we will tidy and clean the data for analysis in third part."
   ]
  },
  {
   "cell_type": "code",
   "execution_count": 7,
   "metadata": {
    "ExecuteTime": {
     "end_time": "2020-07-15T01:37:16.440696Z",
     "start_time": "2020-07-15T01:37:16.423701Z"
    }
   },
   "outputs": [],
   "source": [
    "import pandas as pd\n",
    "import numpy as np"
   ]
  },
  {
   "cell_type": "code",
   "execution_count": 8,
   "metadata": {
    "ExecuteTime": {
     "end_time": "2020-07-15T01:37:16.488696Z",
     "start_time": "2020-07-15T01:37:16.445699Z"
    }
   },
   "outputs": [],
   "source": [
    "movie_df = pd.read_csv('../Data/final_movies_df.csv')\n",
    "tv_df = pd.read_csv('../Data/final_tvs_df.csv')"
   ]
  },
  {
   "cell_type": "code",
   "execution_count": 9,
   "metadata": {
    "ExecuteTime": {
     "end_time": "2020-07-15T01:37:16.504697Z",
     "start_time": "2020-07-15T01:37:16.493698Z"
    },
    "scrolled": true
   },
   "outputs": [
    {
     "name": "stdout",
     "output_type": "stream",
     "text": [
      "Index(['movie_name', 'watch_link', 'date_added', 'site_rank', 'Genre', 'Stars',\n",
      "       'IMDb', 'Director', 'Release', 'Country', 'Rating'],\n",
      "      dtype='object')\n",
      "Index(['tv_name', 'watch_link', 'season', 'episodes', 'date_added',\n",
      "       'site_rank', 'Genre', 'Stars', 'IMDb', 'Director', 'Release', 'Country',\n",
      "       'Rating'],\n",
      "      dtype='object')\n"
     ]
    }
   ],
   "source": [
    "print(movie_df.columns)\n",
    "print(tv_df.columns)"
   ]
  },
  {
   "cell_type": "code",
   "execution_count": 10,
   "metadata": {
    "ExecuteTime": {
     "end_time": "2020-07-15T01:37:16.566694Z",
     "start_time": "2020-07-15T01:37:16.509697Z"
    }
   },
   "outputs": [
    {
     "data": {
      "text/html": [
       "<div>\n",
       "<style scoped>\n",
       "    .dataframe tbody tr th:only-of-type {\n",
       "        vertical-align: middle;\n",
       "    }\n",
       "\n",
       "    .dataframe tbody tr th {\n",
       "        vertical-align: top;\n",
       "    }\n",
       "\n",
       "    .dataframe thead th {\n",
       "        text-align: right;\n",
       "    }\n",
       "</style>\n",
       "<table border=\"1\" class=\"dataframe\">\n",
       "  <thead>\n",
       "    <tr style=\"text-align: right;\">\n",
       "      <th></th>\n",
       "      <th>movie_name</th>\n",
       "      <th>watch_link</th>\n",
       "      <th>date_added</th>\n",
       "      <th>site_rank</th>\n",
       "      <th>Genre</th>\n",
       "      <th>Stars</th>\n",
       "      <th>IMDb</th>\n",
       "      <th>Director</th>\n",
       "      <th>Release</th>\n",
       "      <th>Country</th>\n",
       "      <th>Rating</th>\n",
       "    </tr>\n",
       "  </thead>\n",
       "  <tbody>\n",
       "    <tr>\n",
       "      <th>0</th>\n",
       "      <td>Avengers: Endgame</td>\n",
       "      <td>https://fmovies.to/film/avengers-endgame.xjm5v</td>\n",
       "      <td>2020-07-14</td>\n",
       "      <td>1</td>\n",
       "      <td>Sci-Fi,Adventure,Action,Fantasy</td>\n",
       "      <td>Don Cheadle,Anthony Mackie,Rene Russo,Mark Ruf...</td>\n",
       "      <td>8.4</td>\n",
       "      <td>Anthony Russo,Joe Russo</td>\n",
       "      <td>2019-04-22</td>\n",
       "      <td>United States</td>\n",
       "      <td>7.1/12,640 times</td>\n",
       "    </tr>\n",
       "    <tr>\n",
       "      <th>1</th>\n",
       "      <td>Avengers: Infinity War</td>\n",
       "      <td>https://fmovies.to/film/avengers-infinity-war....</td>\n",
       "      <td>2020-07-14</td>\n",
       "      <td>3</td>\n",
       "      <td>Sci-Fi,Adventure,Action,Fantasy</td>\n",
       "      <td>William Hurt,Don Cheadle,Anthony Mackie,Benici...</td>\n",
       "      <td>8.5</td>\n",
       "      <td>Anthony Russo,Joe Russo</td>\n",
       "      <td>2018-04-23</td>\n",
       "      <td>United States</td>\n",
       "      <td>6.2/21,830 times</td>\n",
       "    </tr>\n",
       "    <tr>\n",
       "      <th>2</th>\n",
       "      <td>Aquaman</td>\n",
       "      <td>https://fmovies.to/film/aquaman.qk91j</td>\n",
       "      <td>2020-07-14</td>\n",
       "      <td>4</td>\n",
       "      <td>Sci-Fi,Adventure,Action,Fantasy</td>\n",
       "      <td>Nicole Kidman,Michael Beach,Patrick Wilson,Jul...</td>\n",
       "      <td>7.0</td>\n",
       "      <td>James Wan</td>\n",
       "      <td>2018-11-26</td>\n",
       "      <td>United States,Australia</td>\n",
       "      <td>6.7/8,924 times</td>\n",
       "    </tr>\n",
       "    <tr>\n",
       "      <th>3</th>\n",
       "      <td>Spider-Man: Far from Home</td>\n",
       "      <td>https://fmovies.to/film/spider-man-far-from-ho...</td>\n",
       "      <td>2020-07-14</td>\n",
       "      <td>5</td>\n",
       "      <td>Sci-Fi,Adventure,Action</td>\n",
       "      <td>Samuel L Jackson,Marisa Tomei,Zendaya,Jake Gyl...</td>\n",
       "      <td>7.5</td>\n",
       "      <td>Jon Watts</td>\n",
       "      <td>2019-06-26</td>\n",
       "      <td>United States</td>\n",
       "      <td>6.1/6,514 times</td>\n",
       "    </tr>\n",
       "    <tr>\n",
       "      <th>4</th>\n",
       "      <td>Aladdin</td>\n",
       "      <td>https://fmovies.to/film/aladdin.z10p2</td>\n",
       "      <td>2020-07-14</td>\n",
       "      <td>6</td>\n",
       "      <td>Comedy,Adventure,Romance,Fantasy,Family</td>\n",
       "      <td>Will Smith,Navid Negahban,Numan Acar,Stefan Ka...</td>\n",
       "      <td>7.0</td>\n",
       "      <td>Guy Ritchie</td>\n",
       "      <td>2019-05-08</td>\n",
       "      <td>United States</td>\n",
       "      <td>6.7/4,979 times</td>\n",
       "    </tr>\n",
       "  </tbody>\n",
       "</table>\n",
       "</div>"
      ],
      "text/plain": [
       "                  movie_name  \\\n",
       "0          Avengers: Endgame   \n",
       "1     Avengers: Infinity War   \n",
       "2                    Aquaman   \n",
       "3  Spider-Man: Far from Home   \n",
       "4                    Aladdin   \n",
       "\n",
       "                                          watch_link  date_added  site_rank  \\\n",
       "0     https://fmovies.to/film/avengers-endgame.xjm5v  2020-07-14          1   \n",
       "1  https://fmovies.to/film/avengers-infinity-war....  2020-07-14          3   \n",
       "2              https://fmovies.to/film/aquaman.qk91j  2020-07-14          4   \n",
       "3  https://fmovies.to/film/spider-man-far-from-ho...  2020-07-14          5   \n",
       "4              https://fmovies.to/film/aladdin.z10p2  2020-07-14          6   \n",
       "\n",
       "                                     Genre  \\\n",
       "0          Sci-Fi,Adventure,Action,Fantasy   \n",
       "1          Sci-Fi,Adventure,Action,Fantasy   \n",
       "2          Sci-Fi,Adventure,Action,Fantasy   \n",
       "3                  Sci-Fi,Adventure,Action   \n",
       "4  Comedy,Adventure,Romance,Fantasy,Family   \n",
       "\n",
       "                                               Stars  IMDb  \\\n",
       "0  Don Cheadle,Anthony Mackie,Rene Russo,Mark Ruf...   8.4   \n",
       "1  William Hurt,Don Cheadle,Anthony Mackie,Benici...   8.5   \n",
       "2  Nicole Kidman,Michael Beach,Patrick Wilson,Jul...   7.0   \n",
       "3  Samuel L Jackson,Marisa Tomei,Zendaya,Jake Gyl...   7.5   \n",
       "4  Will Smith,Navid Negahban,Numan Acar,Stefan Ka...   7.0   \n",
       "\n",
       "                  Director     Release                  Country  \\\n",
       "0  Anthony Russo,Joe Russo  2019-04-22            United States   \n",
       "1  Anthony Russo,Joe Russo  2018-04-23            United States   \n",
       "2                James Wan  2018-11-26  United States,Australia   \n",
       "3                Jon Watts  2019-06-26            United States   \n",
       "4              Guy Ritchie  2019-05-08            United States   \n",
       "\n",
       "             Rating  \n",
       "0  7.1/12,640 times  \n",
       "1  6.2/21,830 times  \n",
       "2   6.7/8,924 times  \n",
       "3   6.1/6,514 times  \n",
       "4   6.7/4,979 times  "
      ]
     },
     "execution_count": 10,
     "metadata": {},
     "output_type": "execute_result"
    }
   ],
   "source": [
    "movie_df.head()"
   ]
  },
  {
   "cell_type": "markdown",
   "metadata": {},
   "source": [
    "# Columns\n",
    "\n",
    "- 'movie_name/ tv_name' : Name of movie / tv \n",
    "- 'watch_link': Url link for page to watch movie/tv, \n",
    "- 'date_added': Date added to df not in fmovies\n",
    "- 'site_rank': Ranking in the fmovies by order of most watched starting from 1.\n",
    "- 'Genre': Genres\n",
    "- 'Stars': Cast,\n",
    "- 'IMDb': IMDb ratings,\n",
    "- 'Director': Director, \n",
    "- 'Release': Released Date for Movie/TV,\n",
    "- 'Country': Origin country can be more than one\n",
    "- 'Rating'- Average reviews by viewers on the fmovies.to websie\n",
    "- 'season' - Which season, only for tv shows\n",
    "- 'episodes' - Number of episoded available for tv shows \n"
   ]
  },
  {
   "cell_type": "code",
   "execution_count": 11,
   "metadata": {
    "ExecuteTime": {
     "end_time": "2020-07-15T01:37:16.614693Z",
     "start_time": "2020-07-15T01:37:16.570695Z"
    },
    "scrolled": true
   },
   "outputs": [
    {
     "data": {
      "text/html": [
       "<div>\n",
       "<style scoped>\n",
       "    .dataframe tbody tr th:only-of-type {\n",
       "        vertical-align: middle;\n",
       "    }\n",
       "\n",
       "    .dataframe tbody tr th {\n",
       "        vertical-align: top;\n",
       "    }\n",
       "\n",
       "    .dataframe thead th {\n",
       "        text-align: right;\n",
       "    }\n",
       "</style>\n",
       "<table border=\"1\" class=\"dataframe\">\n",
       "  <thead>\n",
       "    <tr style=\"text-align: right;\">\n",
       "      <th></th>\n",
       "      <th>tv_name</th>\n",
       "      <th>watch_link</th>\n",
       "      <th>season</th>\n",
       "      <th>episodes</th>\n",
       "      <th>date_added</th>\n",
       "      <th>site_rank</th>\n",
       "      <th>Genre</th>\n",
       "      <th>Stars</th>\n",
       "      <th>IMDb</th>\n",
       "      <th>Director</th>\n",
       "      <th>Release</th>\n",
       "      <th>Country</th>\n",
       "      <th>Rating</th>\n",
       "    </tr>\n",
       "  </thead>\n",
       "  <tbody>\n",
       "    <tr>\n",
       "      <th>0</th>\n",
       "      <td>Game of Thrones</td>\n",
       "      <td>https://fmovies.to/film/game-of-thrones.3yl2</td>\n",
       "      <td>8</td>\n",
       "      <td>6</td>\n",
       "      <td>2020-07-14</td>\n",
       "      <td>2</td>\n",
       "      <td>Drama,Adventure,Fantasy</td>\n",
       "      <td>Peter Dinklage,Kit Harington,Emilia Clarke</td>\n",
       "      <td>9.3</td>\n",
       "      <td>David Benioff,D.b. Weiss</td>\n",
       "      <td>2011-04-17</td>\n",
       "      <td>United States,United Kingdom</td>\n",
       "      <td>6.3/20,443 times</td>\n",
       "    </tr>\n",
       "    <tr>\n",
       "      <th>1</th>\n",
       "      <td>The Big Bang Theory</td>\n",
       "      <td>https://fmovies.to/film/the-big-bang-theory.n5x8</td>\n",
       "      <td>12</td>\n",
       "      <td>23</td>\n",
       "      <td>2020-07-14</td>\n",
       "      <td>16</td>\n",
       "      <td>Comedy,Romance</td>\n",
       "      <td>Bob Newhart,Sara Gilbert,Kaley Cuoco,Wil Wheat...</td>\n",
       "      <td>8.1</td>\n",
       "      <td>Mark Cendrowski,Anthony Rich,Peter Chakos,Nico...</td>\n",
       "      <td>2006-05-01</td>\n",
       "      <td>United States</td>\n",
       "      <td>6.2/5,406 times</td>\n",
       "    </tr>\n",
       "  </tbody>\n",
       "</table>\n",
       "</div>"
      ],
      "text/plain": [
       "               tv_name                                        watch_link  \\\n",
       "0      Game of Thrones      https://fmovies.to/film/game-of-thrones.3yl2   \n",
       "1  The Big Bang Theory  https://fmovies.to/film/the-big-bang-theory.n5x8   \n",
       "\n",
       "   season  episodes  date_added  site_rank                    Genre  \\\n",
       "0       8         6  2020-07-14          2  Drama,Adventure,Fantasy   \n",
       "1      12        23  2020-07-14         16           Comedy,Romance   \n",
       "\n",
       "                                               Stars  IMDb  \\\n",
       "0         Peter Dinklage,Kit Harington,Emilia Clarke   9.3   \n",
       "1  Bob Newhart,Sara Gilbert,Kaley Cuoco,Wil Wheat...   8.1   \n",
       "\n",
       "                                            Director     Release  \\\n",
       "0                           David Benioff,D.b. Weiss  2011-04-17   \n",
       "1  Mark Cendrowski,Anthony Rich,Peter Chakos,Nico...  2006-05-01   \n",
       "\n",
       "                        Country            Rating  \n",
       "0  United States,United Kingdom  6.3/20,443 times  \n",
       "1                 United States   6.2/5,406 times  "
      ]
     },
     "execution_count": 11,
     "metadata": {},
     "output_type": "execute_result"
    }
   ],
   "source": [
    "tv_df.head(2)"
   ]
  },
  {
   "cell_type": "code",
   "execution_count": 12,
   "metadata": {
    "ExecuteTime": {
     "end_time": "2020-07-15T01:37:16.662695Z",
     "start_time": "2020-07-15T01:37:16.619696Z"
    }
   },
   "outputs": [
    {
     "data": {
      "text/html": [
       "<div>\n",
       "<style scoped>\n",
       "    .dataframe tbody tr th:only-of-type {\n",
       "        vertical-align: middle;\n",
       "    }\n",
       "\n",
       "    .dataframe tbody tr th {\n",
       "        vertical-align: top;\n",
       "    }\n",
       "\n",
       "    .dataframe thead th {\n",
       "        text-align: right;\n",
       "    }\n",
       "</style>\n",
       "<table border=\"1\" class=\"dataframe\">\n",
       "  <thead>\n",
       "    <tr style=\"text-align: right;\">\n",
       "      <th></th>\n",
       "      <th>movie_name</th>\n",
       "      <th>watch_link</th>\n",
       "      <th>date_added</th>\n",
       "      <th>site_rank</th>\n",
       "      <th>Genre</th>\n",
       "      <th>Stars</th>\n",
       "      <th>IMDb</th>\n",
       "      <th>Director</th>\n",
       "      <th>Release</th>\n",
       "      <th>Country</th>\n",
       "      <th>Rating</th>\n",
       "    </tr>\n",
       "  </thead>\n",
       "  <tbody>\n",
       "    <tr>\n",
       "      <th>0</th>\n",
       "      <td>Avengers: Endgame</td>\n",
       "      <td>https://fmovies.to/film/avengers-endgame.xjm5v</td>\n",
       "      <td>2020-07-14</td>\n",
       "      <td>1</td>\n",
       "      <td>Sci-Fi,Adventure,Action,Fantasy</td>\n",
       "      <td>Don Cheadle,Anthony Mackie,Rene Russo,Mark Ruf...</td>\n",
       "      <td>8.4</td>\n",
       "      <td>Anthony Russo,Joe Russo</td>\n",
       "      <td>2019-04-22</td>\n",
       "      <td>United States</td>\n",
       "      <td>7.1/12,640 times</td>\n",
       "    </tr>\n",
       "    <tr>\n",
       "      <th>1</th>\n",
       "      <td>Avengers: Infinity War</td>\n",
       "      <td>https://fmovies.to/film/avengers-infinity-war....</td>\n",
       "      <td>2020-07-14</td>\n",
       "      <td>3</td>\n",
       "      <td>Sci-Fi,Adventure,Action,Fantasy</td>\n",
       "      <td>William Hurt,Don Cheadle,Anthony Mackie,Benici...</td>\n",
       "      <td>8.5</td>\n",
       "      <td>Anthony Russo,Joe Russo</td>\n",
       "      <td>2018-04-23</td>\n",
       "      <td>United States</td>\n",
       "      <td>6.2/21,830 times</td>\n",
       "    </tr>\n",
       "  </tbody>\n",
       "</table>\n",
       "</div>"
      ],
      "text/plain": [
       "               movie_name                                         watch_link  \\\n",
       "0       Avengers: Endgame     https://fmovies.to/film/avengers-endgame.xjm5v   \n",
       "1  Avengers: Infinity War  https://fmovies.to/film/avengers-infinity-war....   \n",
       "\n",
       "   date_added  site_rank                            Genre  \\\n",
       "0  2020-07-14          1  Sci-Fi,Adventure,Action,Fantasy   \n",
       "1  2020-07-14          3  Sci-Fi,Adventure,Action,Fantasy   \n",
       "\n",
       "                                               Stars  IMDb  \\\n",
       "0  Don Cheadle,Anthony Mackie,Rene Russo,Mark Ruf...   8.4   \n",
       "1  William Hurt,Don Cheadle,Anthony Mackie,Benici...   8.5   \n",
       "\n",
       "                  Director     Release        Country            Rating  \n",
       "0  Anthony Russo,Joe Russo  2019-04-22  United States  7.1/12,640 times  \n",
       "1  Anthony Russo,Joe Russo  2018-04-23  United States  6.2/21,830 times  "
      ]
     },
     "execution_count": 12,
     "metadata": {},
     "output_type": "execute_result"
    }
   ],
   "source": [
    "movie_df.head(2)"
   ]
  },
  {
   "cell_type": "markdown",
   "metadata": {},
   "source": [
    "# Tidying"
   ]
  },
  {
   "cell_type": "markdown",
   "metadata": {},
   "source": [
    "1. Genre section has list of values in one row, lets make one value per row.\n",
    "2. Released Data can be converted to date time and then to index of df\n",
    "3. Ratings have to values, 1st is the site ratings and second is number of reviews by viewers. Lets separate them different columns."
   ]
  },
  {
   "cell_type": "markdown",
   "metadata": {},
   "source": [
    "## Genre Split and Date Column"
   ]
  },
  {
   "cell_type": "markdown",
   "metadata": {},
   "source": [
    "Lets make a function that splits and stacks the genre into multiple rows, like [this](https://stackoverflow.com/questions/17116814/pandas-how-do-i-split-text-in-a-column-into-multiple-rows/21032532). More, lets just reset index to release date."
   ]
  },
  {
   "cell_type": "code",
   "execution_count": 13,
   "metadata": {
    "ExecuteTime": {
     "end_time": "2020-07-15T01:37:16.694695Z",
     "start_time": "2020-07-15T01:37:16.666698Z"
    }
   },
   "outputs": [],
   "source": [
    "def split_genre(df):\n",
    "   \n",
    "    cp= df.copy()\n",
    "    \n",
    "    # Spilt the genre by \",\" and stack to make muliple rows each with own unique genre\n",
    "    # this will return a new df with genres only\n",
    "    genre=  cp.Genre.str.split(',').apply(pd.Series, 1).stack()\n",
    "    \n",
    "    # Pop one of index\n",
    "    genre.index = genre.index.droplevel(-1)\n",
    "    \n",
    "    # Provide name to series\n",
    "    genre.name= \"Genre\"\n",
    "    \n",
    "    \n",
    "    #delete the original genre from original df\n",
    "    cp.drop(\"Genre\", axis=True, inplace=True)\n",
    "    \n",
    "    # Create a new df \n",
    "    new_df = cp.copy().join(genre)\n",
    "    # change release date from string to datetime and drop release column\n",
    "    new_df['Date'] = pd.to_datetime(new_df['Release'], format=\"%Y-%m-%d\")\n",
    "    new_df.drop('Release', axis=1, inplace=True)\n",
    "    # Reset index\n",
    "    new_df.set_index('Date',drop=True, inplace=True)\n",
    "    \n",
    "    return new_df"
   ]
  },
  {
   "cell_type": "code",
   "execution_count": 14,
   "metadata": {
    "ExecuteTime": {
     "end_time": "2020-07-15T01:37:17.230695Z",
     "start_time": "2020-07-15T01:37:16.700698Z"
    }
   },
   "outputs": [],
   "source": [
    "movie_df_tidy_1 = split_genre(movie_df)"
   ]
  },
  {
   "cell_type": "code",
   "execution_count": 15,
   "metadata": {
    "ExecuteTime": {
     "end_time": "2020-07-15T01:37:17.374692Z",
     "start_time": "2020-07-15T01:37:17.233695Z"
    }
   },
   "outputs": [],
   "source": [
    "tv_df_tidy_1 = split_genre(tv_df)"
   ]
  },
  {
   "cell_type": "markdown",
   "metadata": {},
   "source": [
    "## Ratings Columns Split "
   ]
  },
  {
   "cell_type": "code",
   "execution_count": 16,
   "metadata": {
    "ExecuteTime": {
     "end_time": "2020-07-15T01:37:17.422694Z",
     "start_time": "2020-07-15T01:37:17.378698Z"
    }
   },
   "outputs": [],
   "source": [
    "site_user_rating_4movie = movie_df_tidy_1.Rating.str.split(\"/\").str[0]\n",
    "site_number_user_rated_4movie = movie_df_tidy_1.Rating.str.split(\"/\").str[1].str.split(\" \").str[0]\n"
   ]
  },
  {
   "cell_type": "code",
   "execution_count": 17,
   "metadata": {
    "ExecuteTime": {
     "end_time": "2020-07-15T01:37:17.454690Z",
     "start_time": "2020-07-15T01:37:17.427699Z"
    }
   },
   "outputs": [],
   "source": [
    "site_user_rating_4tv = tv_df_tidy_1.Rating.str.split(\"/\").str[0]\n",
    "site_number_user_rated_4tv = tv_df_tidy_1.Rating.str.split(\"/\").str[1].str.split(\" \").str[0]\n"
   ]
  },
  {
   "cell_type": "markdown",
   "metadata": {},
   "source": [
    "### Assign  New cols and Drop the olds"
   ]
  },
  {
   "cell_type": "code",
   "execution_count": 18,
   "metadata": {
    "ExecuteTime": {
     "end_time": "2020-07-15T01:37:17.470695Z",
     "start_time": "2020-07-15T01:37:17.458695Z"
    }
   },
   "outputs": [],
   "source": [
    "tv_df_tidy_2 = tv_df_tidy_1.copy()\n",
    "movie_df_tidy_2= movie_df_tidy_1.copy()"
   ]
  },
  {
   "cell_type": "code",
   "execution_count": 19,
   "metadata": {
    "ExecuteTime": {
     "end_time": "2020-07-15T01:37:17.500691Z",
     "start_time": "2020-07-15T01:37:17.474698Z"
    }
   },
   "outputs": [],
   "source": [
    "movie_df_tidy_2['User_Reviews_local'] = site_user_rating_4movie\n",
    "movie_df_tidy_2['Number_Reviews_local'] = site_number_user_rated_4movie"
   ]
  },
  {
   "cell_type": "code",
   "execution_count": 20,
   "metadata": {
    "ExecuteTime": {
     "end_time": "2020-07-15T01:37:17.516694Z",
     "start_time": "2020-07-15T01:37:17.504697Z"
    }
   },
   "outputs": [],
   "source": [
    "tv_df_tidy_2['User_Reviews_local'] = site_user_rating_4tv\n",
    "tv_df_tidy_2['Number_Reviews_local'] = site_number_user_rated_4tv"
   ]
  },
  {
   "cell_type": "code",
   "execution_count": 21,
   "metadata": {
    "ExecuteTime": {
     "end_time": "2020-07-15T01:37:17.548695Z",
     "start_time": "2020-07-15T01:37:17.520696Z"
    },
    "scrolled": true
   },
   "outputs": [],
   "source": [
    "tv_df_tidy_2.drop('Rating', inplace=True,axis=1)\n",
    "movie_df_tidy_2.drop('Rating', inplace=True,axis=1)"
   ]
  },
  {
   "cell_type": "markdown",
   "metadata": {},
   "source": [
    "# Missing Vlaues"
   ]
  },
  {
   "cell_type": "code",
   "execution_count": 22,
   "metadata": {
    "ExecuteTime": {
     "end_time": "2020-07-15T01:37:17.596692Z",
     "start_time": "2020-07-15T01:37:17.552697Z"
    },
    "scrolled": false
   },
   "outputs": [
    {
     "name": "stdout",
     "output_type": "stream",
     "text": [
      "<class 'pandas.core.frame.DataFrame'>\n",
      "DatetimeIndex: 3790 entries, 2019-04-22 to 2007-02-09\n",
      "Data columns (total 11 columns):\n",
      " #   Column                Non-Null Count  Dtype  \n",
      "---  ------                --------------  -----  \n",
      " 0   movie_name            3790 non-null   object \n",
      " 1   watch_link            3790 non-null   object \n",
      " 2   date_added            3790 non-null   object \n",
      " 3   site_rank             3790 non-null   int64  \n",
      " 4   Stars                 3788 non-null   object \n",
      " 5   IMDb                  3788 non-null   float64\n",
      " 6   Director              3788 non-null   object \n",
      " 7   Country               3788 non-null   object \n",
      " 8   Genre                 3788 non-null   object \n",
      " 9   User_Reviews_local    3788 non-null   object \n",
      " 10  Number_Reviews_local  3788 non-null   object \n",
      "dtypes: float64(1), int64(1), object(9)\n",
      "memory usage: 355.3+ KB\n",
      "None\n",
      "****************************************\n",
      "<class 'pandas.core.frame.DataFrame'>\n",
      "DatetimeIndex: 764 entries, 2011-04-17 to 2019-03-28\n",
      "Data columns (total 13 columns):\n",
      " #   Column                Non-Null Count  Dtype  \n",
      "---  ------                --------------  -----  \n",
      " 0   tv_name               764 non-null    object \n",
      " 1   watch_link            764 non-null    object \n",
      " 2   season                764 non-null    int64  \n",
      " 3   episodes              764 non-null    int64  \n",
      " 4   date_added            764 non-null    object \n",
      " 5   site_rank             764 non-null    int64  \n",
      " 6   Stars                 764 non-null    object \n",
      " 7   IMDb                  764 non-null    float64\n",
      " 8   Director              764 non-null    object \n",
      " 9   Country               764 non-null    object \n",
      " 10  Genre                 764 non-null    object \n",
      " 11  User_Reviews_local    764 non-null    object \n",
      " 12  Number_Reviews_local  764 non-null    object \n",
      "dtypes: float64(1), int64(3), object(9)\n",
      "memory usage: 83.6+ KB\n",
      "None\n"
     ]
    }
   ],
   "source": [
    "print(movie_df_tidy_2.info())\n",
    "\n",
    "print(\"**\"*20)\n",
    "print(tv_df_tidy_2.info())"
   ]
  },
  {
   "cell_type": "markdown",
   "metadata": {},
   "source": [
    "It seems only movies has null vaules, lets dive deeper."
   ]
  },
  {
   "cell_type": "code",
   "execution_count": 23,
   "metadata": {
    "ExecuteTime": {
     "end_time": "2020-07-15T01:37:17.644693Z",
     "start_time": "2020-07-15T01:37:17.600696Z"
    },
    "scrolled": true
   },
   "outputs": [
    {
     "data": {
      "text/html": [
       "<div>\n",
       "<style scoped>\n",
       "    .dataframe tbody tr th:only-of-type {\n",
       "        vertical-align: middle;\n",
       "    }\n",
       "\n",
       "    .dataframe tbody tr th {\n",
       "        vertical-align: top;\n",
       "    }\n",
       "\n",
       "    .dataframe thead th {\n",
       "        text-align: right;\n",
       "    }\n",
       "</style>\n",
       "<table border=\"1\" class=\"dataframe\">\n",
       "  <thead>\n",
       "    <tr style=\"text-align: right;\">\n",
       "      <th></th>\n",
       "      <th>movie_name</th>\n",
       "      <th>watch_link</th>\n",
       "      <th>date_added</th>\n",
       "      <th>site_rank</th>\n",
       "      <th>Stars</th>\n",
       "      <th>IMDb</th>\n",
       "      <th>Director</th>\n",
       "      <th>Country</th>\n",
       "      <th>Genre</th>\n",
       "      <th>User_Reviews_local</th>\n",
       "      <th>Number_Reviews_local</th>\n",
       "    </tr>\n",
       "    <tr>\n",
       "      <th>Date</th>\n",
       "      <th></th>\n",
       "      <th></th>\n",
       "      <th></th>\n",
       "      <th></th>\n",
       "      <th></th>\n",
       "      <th></th>\n",
       "      <th></th>\n",
       "      <th></th>\n",
       "      <th></th>\n",
       "      <th></th>\n",
       "      <th></th>\n",
       "    </tr>\n",
       "  </thead>\n",
       "  <tbody>\n",
       "    <tr>\n",
       "      <th>NaT</th>\n",
       "      <td>Brightburn</td>\n",
       "      <td>https://fmovies.to/film/brightburn.pj38q</td>\n",
       "      <td>2020-07-14</td>\n",
       "      <td>68</td>\n",
       "      <td>NaN</td>\n",
       "      <td>NaN</td>\n",
       "      <td>NaN</td>\n",
       "      <td>NaN</td>\n",
       "      <td>NaN</td>\n",
       "      <td>NaN</td>\n",
       "      <td>NaN</td>\n",
       "    </tr>\n",
       "    <tr>\n",
       "      <th>NaT</th>\n",
       "      <td>The Wolverine</td>\n",
       "      <td>https://fmovies.to/film/the-wolverine.7jm7</td>\n",
       "      <td>2020-07-14</td>\n",
       "      <td>1062</td>\n",
       "      <td>NaN</td>\n",
       "      <td>NaN</td>\n",
       "      <td>NaN</td>\n",
       "      <td>NaN</td>\n",
       "      <td>NaN</td>\n",
       "      <td>NaN</td>\n",
       "      <td>NaN</td>\n",
       "    </tr>\n",
       "  </tbody>\n",
       "</table>\n",
       "</div>"
      ],
      "text/plain": [
       "         movie_name                                  watch_link  date_added  \\\n",
       "Date                                                                          \n",
       "NaT      Brightburn    https://fmovies.to/film/brightburn.pj38q  2020-07-14   \n",
       "NaT   The Wolverine  https://fmovies.to/film/the-wolverine.7jm7  2020-07-14   \n",
       "\n",
       "      site_rank Stars  IMDb Director Country Genre User_Reviews_local  \\\n",
       "Date                                                                    \n",
       "NaT          68   NaN   NaN      NaN     NaN   NaN                NaN   \n",
       "NaT        1062   NaN   NaN      NaN     NaN   NaN                NaN   \n",
       "\n",
       "     Number_Reviews_local  \n",
       "Date                       \n",
       "NaT                   NaN  \n",
       "NaT                   NaN  "
      ]
     },
     "execution_count": 23,
     "metadata": {},
     "output_type": "execute_result"
    }
   ],
   "source": [
    "movie_df_tidy_2[movie_df_tidy_2.Genre.isnull()]"
   ]
  },
  {
   "cell_type": "markdown",
   "metadata": {},
   "source": [
    " Earlier to prevent prolongation of crawling, we returned nan for bad requests. We can individually go throguh each link to values but lets drop them for now."
   ]
  },
  {
   "cell_type": "code",
   "execution_count": 24,
   "metadata": {
    "ExecuteTime": {
     "end_time": "2020-07-15T01:37:17.676698Z",
     "start_time": "2020-07-15T01:37:17.648696Z"
    }
   },
   "outputs": [],
   "source": [
    "movie_df_tidy_2.dropna(inplace=True,axis=0)"
   ]
  },
  {
   "cell_type": "markdown",
   "metadata": {},
   "source": [
    "# Write file for analysis part"
   ]
  },
  {
   "cell_type": "markdown",
   "metadata": {},
   "source": [
    "Index false argument on write will remove date index so lets not do that."
   ]
  },
  {
   "cell_type": "code",
   "execution_count": 25,
   "metadata": {
    "ExecuteTime": {
     "end_time": "2020-07-15T01:37:17.836692Z",
     "start_time": "2020-07-15T01:37:17.681697Z"
    }
   },
   "outputs": [],
   "source": [
    "movie_df_tidy_2.to_csv('../Data/Movie.csv')\n",
    "tv_df_tidy_2.to_csv('../Data/TV.csv')"
   ]
  }
 ],
 "metadata": {
  "kernelspec": {
   "display_name": "Python 3",
   "language": "python",
   "name": "python3"
  },
  "language_info": {
   "codemirror_mode": {
    "name": "ipython",
    "version": 3
   },
   "file_extension": ".py",
   "mimetype": "text/x-python",
   "name": "python",
   "nbconvert_exporter": "python",
   "pygments_lexer": "ipython3",
   "version": "3.7.7"
  },
  "toc": {
   "base_numbering": 1,
   "nav_menu": {},
   "number_sections": true,
   "sideBar": true,
   "skip_h1_title": false,
   "title_cell": "Table of Contents",
   "title_sidebar": "Contents",
   "toc_cell": false,
   "toc_position": {},
   "toc_section_display": true,
   "toc_window_display": false
  },
  "varInspector": {
   "cols": {
    "lenName": 16,
    "lenType": 16,
    "lenVar": 40
   },
   "kernels_config": {
    "python": {
     "delete_cmd_postfix": "",
     "delete_cmd_prefix": "del ",
     "library": "var_list.py",
     "varRefreshCmd": "print(var_dic_list())"
    },
    "r": {
     "delete_cmd_postfix": ") ",
     "delete_cmd_prefix": "rm(",
     "library": "var_list.r",
     "varRefreshCmd": "cat(var_dic_list()) "
    }
   },
   "types_to_exclude": [
    "module",
    "function",
    "builtin_function_or_method",
    "instance",
    "_Feature"
   ],
   "window_display": false
  }
 },
 "nbformat": 4,
 "nbformat_minor": 4
}
